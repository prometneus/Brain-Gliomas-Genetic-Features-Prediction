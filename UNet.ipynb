{
  "cells": [
    {
      "cell_type": "code",
      "execution_count": null,
      "id": "0ff1048a",
      "metadata": {
        "_cell_guid": "b1076dfc-b9ad-4769-8c92-a6c4dae69d19",
        "_uuid": "8f2839f25d086af736a60e9eeb907d3b93b6e0e5",
        "execution": {
          "iopub.execute_input": "2025-05-08T12:16:23.979500Z",
          "iopub.status.busy": "2025-05-08T12:16:23.979206Z",
          "iopub.status.idle": "2025-05-08T12:16:29.643071Z",
          "shell.execute_reply": "2025-05-08T12:16:29.642349Z"
        },
        "papermill": {
          "duration": 5.671742,
          "end_time": "2025-05-08T12:16:29.644639",
          "exception": false,
          "start_time": "2025-05-08T12:16:23.972897",
          "status": "completed"
        },
        "tags": [],
        "id": "0ff1048a",
        "outputId": "1318c2c3-1c2c-41d2-a14b-321404121ff4"
      },
      "outputs": [
        {
          "name": "stdout",
          "output_type": "stream",
          "text": [
            "\u001b[2K   \u001b[90m━━━━━━━━━━━━━━━━━━━━━━━━━━━━━━━━━━━━━━━━\u001b[0m \u001b[32m1.8/1.8 MB\u001b[0m \u001b[31m27.3 MB/s\u001b[0m eta \u001b[36m0:00:00\u001b[0m\r\n",
            "\u001b[?25h"
          ]
        }
      ],
      "source": [
        "!pip install -qU pip\n",
        "# !pip install ipywidgets==8.1.5\n",
        "# !jupyter nbextension enable --py widgetsnbextension"
      ]
    },
    {
      "cell_type": "code",
      "execution_count": null,
      "id": "121c132e",
      "metadata": {
        "execution": {
          "iopub.execute_input": "2025-05-08T12:16:29.655374Z",
          "iopub.status.busy": "2025-05-08T12:16:29.655120Z",
          "iopub.status.idle": "2025-05-08T12:16:37.460957Z",
          "shell.execute_reply": "2025-05-08T12:16:37.460381Z"
        },
        "papermill": {
          "duration": 7.812533,
          "end_time": "2025-05-08T12:16:37.462312",
          "exception": false,
          "start_time": "2025-05-08T12:16:29.649779",
          "status": "completed"
        },
        "tags": [],
        "id": "121c132e"
      },
      "outputs": [],
      "source": [
        "import os\n",
        "import cv2\n",
        "import torch\n",
        "import random\n",
        "import pydicom\n",
        "import warnings\n",
        "import numpy as np\n",
        "import pandas as pd\n",
        "from tqdm import tqdm\n",
        "from pathlib import Path\n",
        "import SimpleITK as sitk\n",
        "from tqdm.auto import tqdm\n",
        "from functools import reduce\n",
        "from collections import defaultdict\n",
        "from typing import List, Dict, Tuple, Any, Optional\n",
        "from sklearn.model_selection import KFold, StratifiedKFold\n",
        "from sklearn.metrics import f1_score, confusion_matrix, accuracy_score\n",
        "\n",
        "from IPython import display\n",
        "import ipywidgets as widgets\n",
        "import matplotlib.pyplot as plt\n",
        "from ipywidgets.embed import embed_minimal_html\n",
        "\n",
        "\n",
        "import torch\n",
        "import torch.nn as nn\n",
        "import torch.nn.functional as F\n",
        "from torch.nn.utils.rnn import pad_sequence\n",
        "from torch.utils.data import Dataset, DataLoader, Subset, Sampler, WeightedRandomSampler"
      ]
    },
    {
      "cell_type": "markdown",
      "id": "68d6bcc3",
      "metadata": {
        "papermill": {
          "duration": 0.004372,
          "end_time": "2025-05-08T12:16:37.471522",
          "exception": false,
          "start_time": "2025-05-08T12:16:37.467150",
          "status": "completed"
        },
        "tags": [],
        "id": "68d6bcc3"
      },
      "source": [
        "# data"
      ]
    },
    {
      "cell_type": "code",
      "execution_count": null,
      "id": "d3aa72e8",
      "metadata": {
        "execution": {
          "iopub.execute_input": "2025-05-08T12:16:37.481595Z",
          "iopub.status.busy": "2025-05-08T12:16:37.480849Z",
          "iopub.status.idle": "2025-05-08T12:16:37.485659Z",
          "shell.execute_reply": "2025-05-08T12:16:37.485131Z"
        },
        "papermill": {
          "duration": 0.010785,
          "end_time": "2025-05-08T12:16:37.486687",
          "exception": false,
          "start_time": "2025-05-08T12:16:37.475902",
          "status": "completed"
        },
        "tags": [],
        "id": "d3aa72e8"
      },
      "outputs": [],
      "source": [
        "def get_patients_with_filter(dataset_path : str, target_filter: str) -> List[str]:\n",
        "    \"\"\"\n",
        "     Finds patient IDs that have the specified MRI filter.\n",
        "    \"\"\"\n",
        "    root          = Path(dataset_path)\n",
        "    target_lower  = target_filter.casefold()   # like lower()\n",
        "    patients_ok   = []\n",
        "\n",
        "    for patient_dir in root.iterdir():                 # Path objects\n",
        "        if not patient_dir.is_dir():\n",
        "            continue\n",
        "\n",
        "        dcm_dir = patient_dir / \"DCM\"\n",
        "        if not dcm_dir.is_dir():\n",
        "            continue\n",
        "\n",
        "        if any( entry.is_dir() and target_lower in entry.name.casefold()\n",
        "                for entry in dcm_dir.iterdir() ):\n",
        "            patients_ok.append(patient_dir.name)\n",
        "\n",
        "    return sorted(patients_ok)"
      ]
    },
    {
      "cell_type": "code",
      "execution_count": null,
      "id": "aeaf63dc",
      "metadata": {
        "execution": {
          "iopub.execute_input": "2025-05-08T12:16:37.496549Z",
          "iopub.status.busy": "2025-05-08T12:16:37.496154Z",
          "iopub.status.idle": "2025-05-08T12:16:37.511628Z",
          "shell.execute_reply": "2025-05-08T12:16:37.511107Z"
        },
        "papermill": {
          "duration": 0.021604,
          "end_time": "2025-05-08T12:16:37.512665",
          "exception": false,
          "start_time": "2025-05-08T12:16:37.491061",
          "status": "completed"
        },
        "tags": [],
        "id": "aeaf63dc"
      },
      "outputs": [],
      "source": [
        "class MRILoader:\n",
        "    def __init__(self, patient_ids: List[str], dataset_path: str = \"patients_dcm\",\n",
        "                 target_filter: Optional[str] = None,\n",
        "                 batch_size: int = 1,\n",
        "                 reshaping_size: Optional[Tuple[int, int]] = (512, 512)):\n",
        "        self.dataset_path = dataset_path\n",
        "        self.batch_size = batch_size\n",
        "        self.patient_ids = patient_ids\n",
        "        self.max_shape = defaultdict(lambda: [0, 0, 0])  # [slices, rows, cols]\n",
        "        self.reshaping_size = reshaping_size  # Может быть None\n",
        "\n",
        "    def _load_dicom_data(self, file_path: str) -> Optional[Dict[str, Any]]:\n",
        "        try:\n",
        "            ds = pydicom.dcmread(file_path)\n",
        "            if not hasattr(ds, 'PixelSpacing'):\n",
        "                ds.PixelSpacing = [1.0, 1.0]\n",
        "                print(f\"PixelSpacing missing in {file_path}. Using default [1.0, 1.0].\")\n",
        "            if not hasattr(ds, 'SliceThickness'):\n",
        "                ds.SliceThickness = 1.0\n",
        "                print(f\"SliceThickness missing in {file_path}. Using default 1.0.\")\n",
        "\n",
        "\n",
        "            if not hasattr(ds, 'pixel_array'):\n",
        "                print(f\"pixel data missing: {file_path}\")\n",
        "                return None\n",
        "\n",
        "            # feature extraction\n",
        "            return {\n",
        "                'pixel_array': ds.pixel_array,\n",
        "                'slice_location': getattr(ds, 'SliceLocation',\n",
        "                                          ds.ImagePositionPatient[-1] if hasattr(ds, 'ImagePositionPatient') and ds.ImagePositionPatient else None),\n",
        "                'image_position': getattr(ds, 'ImagePositionPatient', None),\n",
        "                'pixel_spacing': tuple(getattr(ds, 'PixelSpacing', (1.0, 1.0))),\n",
        "                'slice_thickness': getattr(ds, 'SliceThickness', 1.0),\n",
        "                'image_orientation': getattr(ds, 'ImageOrientationPatient', None),\n",
        "                'series_description': getattr(ds, 'SeriesDescription', None),\n",
        "                'instance_number': getattr(ds, 'InstanceNumber', None),\n",
        "                'series_time': getattr(ds, 'SeriesTime', None),\n",
        "                'series_uid': getattr(ds, 'SeriesInstanceUID', None),\n",
        "                'acq_number': getattr(ds, 'AcquisitionNumber', None),\n",
        "                'file_path': file_path  # На всякий\n",
        "            }\n",
        "        except Exception as e:\n",
        "            print(f\"Can't read {file_path}: {e}\")\n",
        "            return None\n",
        "\n",
        "    def _resize_single_slice_sitk(self,\n",
        "                                 pixel_array: np.ndarray,\n",
        "                                 original_spacing: Tuple[float, float],\n",
        "                                 target_hw_size: Tuple[int, int],\n",
        "                                 interpolator=sitk.sitkLinear) -> np.ndarray:\n",
        "        \"\"\"\n",
        "        Resizes a single 2D slice using SimpleITK, considering its pixel spacing.\n",
        "        target_hw_size: (target_Height, target_Width)\n",
        "        \"\"\"\n",
        "\n",
        "        if not (original_spacing and len(original_spacing) == 2 and original_spacing[0] > 1e-9 and original_spacing[1] > 1e-9):\n",
        "            print(f\"Invalid original_spacing {original_spacing}. Falling back to cv2.resize.\")\n",
        "            return cv2.resize(pixel_array, dsize=(target_hw_size[1], target_hw_size[0]), interpolation=cv2.INTER_LANCZOS4)\n",
        "\n",
        "        sitk_image = sitk.GetImageFromArray(pixel_array.astype(np.float32))\n",
        "        # SimpleITK ожидает spacing (spacing_x, spacing_y)\n",
        "        # sitk_image.SetSpacing((float(original_spacing[0]), float(original_spacing[1])))\n",
        "\n",
        "        ### POSSIBLE BULLSHIT, BE ADVISED\n",
        "        sitk_image.SetSpacing((float(original_spacing[1]), float(original_spacing[0]))) # if it comes from DICOM, it should be inverted\n",
        "\n",
        "        original_size_wh = sitk_image.GetSize()  # (width, height)\n",
        "        target_size_wh = (target_hw_size[1], target_hw_size[0])  # (target_Width, target_Height)\n",
        "\n",
        "        if original_size_wh == target_size_wh and sitk_image.GetSpacing() == original_spacing :\n",
        "             pass # Ресайз все равно нужен для приведения к целевому спейсингу вычисленному ниже\n",
        "\n",
        "        ref_image = sitk.Image(target_size_wh, sitk_image.GetPixelIDValue())\n",
        "        ref_image.SetOrigin(sitk_image.GetOrigin())\n",
        "        ref_image.SetDirection(sitk_image.GetDirection())\n",
        "\n",
        "        # PhysicalSize = VoxelSize * NumberOfVoxels\n",
        "        # OriginalPhysicalSize = original_spacing * original_size_wh\n",
        "        # TargetPhysicalSize = new_spacing * target_size_wh\n",
        "        # OriginalPhysicalSize == TargetPhysicalSize\n",
        "        # => new_spacing = original_spacing * (original_size_wh / target_size_wh)\n",
        "\n",
        "        if target_size_wh[0] == 0 or target_size_wh[1] == 0:\n",
        "            print(f\"Target size for resize is zero {target_size_wh}. Using cv2.resize.\")\n",
        "            return cv2.resize(pixel_array, dsize=(target_hw_size[1], target_hw_size[0]), interpolation=cv2.INTER_LANCZOS4)\n",
        "\n",
        "        new_spacing = [\n",
        "            sitk_image.GetSpacing()[i] * (original_size_wh[i] / target_size_wh[i])\n",
        "            for i in range(sitk_image.GetDimension())\n",
        "        ]\n",
        "        ref_image.SetSpacing(new_spacing)\n",
        "\n",
        "        resampled_image = sitk.Resample(sitk_image, ref_image, sitk.Transform(),\n",
        "                                        interpolator, sitk_image.GetPixelIDValue())  # sitk.sitkLinear\n",
        "\n",
        "        return sitk.GetArrayFromImage(resampled_image)\n",
        "\n",
        "\n",
        "    def load_patient_data(self, patient_id: str,\n",
        "                          reshaping_size_hw: Optional[Tuple[int, int]],\n",
        "                          target_filter: str) -> Dict[str, Dict[str, Any]]:\n",
        "        \"\"\"\n",
        "        Loads patient's data for a specific series type (target_filter).\n",
        "        target_filter: Exact name of the subfolder containing DICOM files for the series.\n",
        "        reshaping_size_hw: Tuple (Height, Width) for resizing. If None, no resize.\n",
        "        \"\"\"\n",
        "        patient_specific_path = os.path.join(self.dataset_path, patient_id, \"DCM\")\n",
        "        if not os.path.isdir(patient_specific_path):\n",
        "            print(f\"Base DCM dir not found for {patient_id} at {patient_specific_path}\")\n",
        "            return {}\n",
        "\n",
        "        series_folder_path = os.path.join(patient_specific_path, target_filter)\n",
        "\n",
        "        if not os.path.isdir(series_folder_path):\n",
        "            print(f\" Series folder '{target_filter}' not found for patient {patient_id} at '{series_folder_path}'.\")\n",
        "            return {}\n",
        "\n",
        "        dicom_items = []\n",
        "\n",
        "        # Основная по SliceLocation или InstanceNumber\n",
        "        dicom_files = sorted(os.listdir(series_folder_path))\n",
        "        if not dicom_files:\n",
        "            print(f\"No DICOM files found in {series_folder_path}\")\n",
        "            return {}\n",
        "\n",
        "        for name in dicom_files:\n",
        "            if name.startswith('.'):\n",
        "                continue\n",
        "\n",
        "            file_path = os.path.join(series_folder_path, name)\n",
        "            if os.path.isdir(file_path):\n",
        "                continue\n",
        "\n",
        "            item = self._load_dicom_data(file_path)\n",
        "            if item is None:\n",
        "                continue\n",
        "\n",
        "            if item['slice_location'] is None:\n",
        "                if item['instance_number'] is not None:\n",
        "                    print(f\"slice_location is None for {item['file_path']}. Will use instance_number for sorting key if needed.\")\n",
        "                else:\n",
        "                    print(f\"slice_location AND instance_number are None for {item['file_path']}. Cannot reliably sort. Skipping.\")\n",
        "                    continue  # Пропускаю срез, если нет ключа для сортировки\n",
        "\n",
        "            dicom_items.append(item)\n",
        "\n",
        "        if not dicom_items:\n",
        "            print(f\"[warn] No valid DICOM items loaded from {series_folder_path}\")\n",
        "            return {}\n",
        "\n",
        "        # Группировка по SeriesInstanceUID и AcquisitionNumber\n",
        "        groups = defaultdict(list)\n",
        "        for item in dicom_items:\n",
        "            # AcquisitionNumber может быть None\n",
        "            acq_num_key = str(item['acq_number']) if item['acq_number'] is not None else \"None\"\n",
        "            series_uid_key = str(item['series_uid']) if item['series_uid'] is not None else \"UnknownUID\"\n",
        "            group_key = (series_uid_key, acq_num_key)\n",
        "            groups[group_key].append(item)\n",
        "\n",
        "        patient_series_data = {}  # Результат для данного target_filter\n",
        "\n",
        "        for (series_uid, acq_number_str), series_items in groups.items():\n",
        "            # Сортировка срезов внутри каждой группы\n",
        "            # Приоритет: SliceLocation, затем InstanceNumber\n",
        "            def sort_key_slice(x):\n",
        "                sl = x['slice_location']\n",
        "                inst_num = x['instance_number']\n",
        "                if sl is not None:\n",
        "                    try: return float(sl)\n",
        "                    except (ValueError, TypeError): pass  # если не конвертится\n",
        "                if inst_num is not None:\n",
        "                    try: return float(inst_num)  # InstanceNumber если SliceLocation плохой\n",
        "                    except (ValueError, TypeError): pass\n",
        "                print(f\"Cannot determine sort order for {x['file_path']}. Placing last.\")\n",
        "                return float('inf')  # Если оба None или невалидны, ставим в конец\n",
        "\n",
        "            sorted_series_items = sorted(series_items, key=sort_key_slice)\n",
        "\n",
        "            slices_np_list = []\n",
        "            processed_info_list = []\n",
        "\n",
        "            for dicom_data_item in sorted_series_items:\n",
        "                pixel_arr = dicom_data_item['pixel_array']\n",
        "\n",
        "                if pixel_arr.ndim != 2 or pixel_arr.shape[0] == 0 or pixel_arr.shape[1] == 0:\n",
        "                    print(f\"Invalid pixel_array shape {pixel_arr.shape} for slice in {dicom_data_item['file_path']}. Skipping.\")\n",
        "                    continue\n",
        "\n",
        "                # Ресайз, если reshaping_size_hw задан\n",
        "                if reshaping_size_hw is not None and len(reshaping_size_hw) == 2:\n",
        "                    try:\n",
        "                        resized_arr = self._resize_single_slice_sitk(\n",
        "                            pixel_array=pixel_arr,\n",
        "                            original_spacing=dicom_data_item['pixel_spacing'],\n",
        "                            target_hw_size=reshaping_size_hw\n",
        "                        )\n",
        "                        slices_np_list.append(resized_arr.squeeze())\n",
        "                    except Exception as e:\n",
        "                        print(f\"Failed to resize slice from {dicom_data_item['file_path']}: {e}. Skipping.\")\n",
        "                        continue\n",
        "                else:  # Нет ресайза\n",
        "                    slices_np_list.append(pixel_arr.squeeze())\n",
        "\n",
        "                # Метаданные\n",
        "                processed_info_list.append({\n",
        "                    'slice_location': dicom_data_item['slice_location'],\n",
        "                    'image_position': dicom_data_item['image_position'],\n",
        "                    'slice_thickness': dicom_data_item['slice_thickness'],\n",
        "                    'instance_number': dicom_data_item['instance_number'],\n",
        "                    'image_orientation': dicom_data_item['image_orientation'],\n",
        "                    'series_description': dicom_data_item['series_description'],\n",
        "                    'pixel_spacing': dicom_data_item['pixel_spacing'],  # Это исходный спейсинг\n",
        "                    'series_time': dicom_data_item['series_time'],\n",
        "                    # 'file_path': dicom_data_item['file_path']  # для отладки\n",
        "                })\n",
        "\n",
        "            if not slices_np_list:\n",
        "                print(f\"[warn] No slices processed for group UID {series_uid}, AcqNum {acq_number_str} in {series_folder_path}\")\n",
        "                continue\n",
        "\n",
        "            try:\n",
        "                if reshaping_size_hw is None and len(slices_np_list) > 1:\n",
        "                    first_shape = slices_np_list[0].shape\n",
        "                    if not all(s.shape == first_shape for s in slices_np_list):\n",
        "                        print(f\"[error] Slices in group UID {series_uid}, AcqNum {acq_number_str} have inconsistent shapes and no reshaping was applied. Cannot stack. Skipping group.\")\n",
        "                        # В случае полного бреда информативно:\n",
        "                        for i, s_arr in enumerate(slices_np_list):\n",
        "                            print(f\"Slice {i} shape: {s_arr.shape} from {processed_info_list[i].get('file_path', 'N/A')}\")\n",
        "                        continue\n",
        "\n",
        "                tensor_3d = np.stack(slices_np_list, axis=0)  # [Z, H, W]\n",
        "            except ValueError as e:\n",
        "                print(f\"Could not stack slices for group UID {series_uid}, AcqNum {acq_number_str} in {series_folder_path}: {e}\")\n",
        "                print(\"Slice shapes:\", [s.shape for s in slices_np_list])\n",
        "                continue\n",
        "\n",
        "\n",
        "            # Ключ для словаря patient_series_data\n",
        "            # target_filter (имя папки серии), UID и AcqNum для уникальности\n",
        "            series_key = f\"{target_filter}_UID-{series_uid}_ACQ-{acq_number_str}\"\n",
        "            patient_series_data[series_key] = {'tensor': tensor_3d, 'info_list': processed_info_list}\n",
        "\n",
        "            # Обновление max_shape\n",
        "            self.max_shape[series_key][0] = max(self.max_shape[series_key][0], tensor_3d.shape[0])\n",
        "            self.max_shape[series_key][1] = max(self.max_shape[series_key][1], tensor_3d.shape[1])\n",
        "            self.max_shape[series_key][2] = max(self.max_shape[series_key][2], tensor_3d.shape[2])\n",
        "\n",
        "        return patient_series_data"
      ]
    },
    {
      "cell_type": "code",
      "execution_count": null,
      "id": "f51da9ea",
      "metadata": {
        "execution": {
          "iopub.execute_input": "2025-05-08T12:16:37.522438Z",
          "iopub.status.busy": "2025-05-08T12:16:37.522207Z",
          "iopub.status.idle": "2025-05-08T12:16:37.539950Z",
          "shell.execute_reply": "2025-05-08T12:16:37.539264Z"
        },
        "papermill": {
          "duration": 0.02394,
          "end_time": "2025-05-08T12:16:37.540963",
          "exception": false,
          "start_time": "2025-05-08T12:16:37.517023",
          "status": "completed"
        },
        "tags": [],
        "id": "f51da9ea"
      },
      "outputs": [],
      "source": [
        "class PadToLargest(tio.transforms.Transform):\n",
        "    def apply_transform(self, subject: tio.Subject) -> tio.Subject:\n",
        "        shapes = [img.spatial_shape for img in subject.get_images()]\n",
        "        target_shape = tuple(max(s[d] for s in shapes) for d in range(3))\n",
        "\n",
        "        # Сначала синхронизируем пространство\n",
        "        subject = tio.ToCanonical()(subject)\n",
        "        subject = tio.Resample()(subject)\n",
        "\n",
        "        if all(s == target_shape for s in shapes):\n",
        "            return subject\n",
        "\n",
        "        pad_or_crop = tio.CropOrPad(\n",
        "            target_shape=target_shape,\n",
        "            padding_mode=0,\n",
        "            only_pad=True\n",
        "        )\n",
        "        return pad_or_crop(subject)\n",
        "\n",
        "\n",
        "class MRIDataset_double(MRILoader):\n",
        "    _EPS = 1e-8\n",
        "\n",
        "    def __init__(self, patient_ids: List[str], dataset_path: str = 'patients_dcm',\n",
        "                 contrast1_foldername: str = 't1_fl2d_cor',\n",
        "                 contrast2_foldername: str = 't2_fl2d_cor',\n",
        "                 reshaping_size_hw: Optional[Tuple[int, int]] = None, # (H, W)\n",
        "                 normalize: bool = False,\n",
        "                 augment: bool = False):\n",
        "\n",
        "\n",
        "        self.mri_loader_instance = MRILoader(\n",
        "            patient_ids=[],\n",
        "            dataset_path=dataset_path,\n",
        "            reshaping_size=reshaping_size_hw\n",
        "        )\n",
        "\n",
        "        self.normalize = normalize\n",
        "        self.augment = augment\n",
        "        self.contrast1_foldername = contrast1_foldername\n",
        "        self.contrast2_foldername = contrast2_foldername\n",
        "        self.reshaping_size_hw = reshaping_size_hw  # (H,W)\n",
        "        self.patient_ids = patient_ids  # Список ID для этого датасета\n",
        "        self.dataset_path = dataset_path  # Путь к данным\n",
        "        self._build_augment_pipeline()\n",
        "\n",
        "        self._index: List[str] = []\n",
        "        self._cache: Dict[str, Dict[str, Any]] = {}\n",
        "\n",
        "        self._n_pixels1, self._sum1, self._sum_sq1 = 0, 0.0, 0.0\n",
        "        self._n_pixels2, self._sum2, self._sum_sq2 = 0, 0.0, 0.0\n",
        "\n",
        "        for pid in self.patient_ids:\n",
        "\n",
        "            pdata1_all_series = self.mri_loader_instance.load_patient_data(\n",
        "                patient_id=pid,\n",
        "                reshaping_size_hw=self.reshaping_size_hw,\n",
        "                target_filter=self.contrast1_foldername\n",
        "            )\n",
        "            pdata2_all_series = self.mri_loader_instance.load_patient_data(\n",
        "                patient_id=pid,\n",
        "                reshaping_size_hw=self.reshaping_size_hw,\n",
        "                target_filter=self.contrast2_foldername\n",
        "            )\n",
        "\n",
        "            if not pdata1_all_series or not pdata2_all_series:\n",
        "                # print(f\"Patient {pid}: missing data for one or both contrasts ('{self.contrast1_foldername}', '{self.contrast2_foldername}'). Skipping.\")\n",
        "                continue\n",
        "\n",
        "            # Выбираем одну серию из pdataX_all_series по max количеству срезов\n",
        "            if len(pdata1_all_series) > 1:\n",
        "                # print(f\"Patient {pid}, contrast 1 ({self.contrast1_foldername}): multiple series found ({list(pdata1_all_series.keys())}). Selecting one with max slices.\")\n",
        "                s_key1 = max(pdata1_all_series.keys(), key=lambda k: pdata1_all_series[k]['tensor'].shape[0])\n",
        "            elif pdata1_all_series:\n",
        "                s_key1 = next(iter(pdata1_all_series))\n",
        "            else:\n",
        "                continue\n",
        "\n",
        "            if len(pdata2_all_series) > 1:\n",
        "                # print(f\"Patient {pid}, contrast 2 ({self.contrast2_foldername}): multiple series found ({list(pdata2_all_series.keys())}). Selecting one with max slices.\")\n",
        "                s_key2 = max(pdata2_all_series.keys(), key=lambda k: pdata2_all_series[k]['tensor'].shape[0])\n",
        "            elif pdata2_all_series:\n",
        "                s_key2 = next(iter(pdata2_all_series))\n",
        "            else:\n",
        "                continue\n",
        "\n",
        "            self._cache[pid] = {\n",
        "                'img1_data': pdata1_all_series[s_key1],\n",
        "                'img2_data': pdata2_all_series[s_key2]\n",
        "            }\n",
        "            self._index.append(pid)\n",
        "\n",
        "            # Статистика для нормализации\n",
        "            if self.normalize:\n",
        "                arr1 = pdata1_all_series[s_key1]['tensor'].astype(np.float32)\n",
        "                arr2 = pdata2_all_series[s_key2]['tensor'].astype(np.float32)\n",
        "\n",
        "                self._n_pixels1 += arr1.size\n",
        "                self._sum1 += arr1.sum()\n",
        "                self._sum_sq1 += np.square(arr1).sum()\n",
        "\n",
        "                self._n_pixels2 += arr2.size\n",
        "                self._sum2 += arr2.sum()\n",
        "                self._sum_sq2 += np.square(arr2).sum()\n",
        "\n",
        "        # Параметры нормализации\n",
        "        if self.normalize and self._n_pixels1 > 0 and self._n_pixels2 > 0:\n",
        "            self._mean1 = self._sum1 / self._n_pixels1\n",
        "            var1 = self._sum_sq1 / self._n_pixels1 - self._mean1**2\n",
        "            self._std1 = float(np.sqrt(max(var1, self._EPS)))\n",
        "\n",
        "            self._mean2 = self._sum2 / self._n_pixels2\n",
        "            var2 = self._sum_sq2 / self._n_pixels2 - self._mean2**2\n",
        "            self._std2 = float(np.sqrt(max(var2, self._EPS)))\n",
        "            print(f\"Normalization stats for {self.contrast1_foldername}: mean={self._mean1:.4f}, std={self._std1:.4f}\")\n",
        "            print(f\"Normalization stats for {self.contrast2_foldername}: mean={self._mean2:.4f}, std={self._std2:.4f}\")\n",
        "        else:\n",
        "            # Дефолтные значения\n",
        "            self._mean1, self._std1 = 0.0, 1.0\n",
        "            self._mean2, self._std2 = 0.0, 1.0\n",
        "\n",
        "\n",
        "    @staticmethod\n",
        "    def _slice_meta_to_vec(m: Dict[str, Any]) -> np.ndarray:\n",
        "        vec = []\n",
        "        vec.append(float(m.get('slice_location', 0.) or 0.))\n",
        "        vec.extend(map(float, m.get('image_position', [0., 0., 0.]) or [0.,0.,0.]))\n",
        "        vec.append(float(m.get('slice_thickness', 0.) or 0.))\n",
        "        vec.append(float(m.get('instance_number', 0) or 0))\n",
        "        vec.extend(map(float, m.get('image_orientation', [0.]*6) or [0.]*6))\n",
        "        ps = m.get('pixel_spacing', (0.,0.))\n",
        "        if ps is None or len(ps) < 2: ps = (0.,0.)\n",
        "        vec.extend(map(float, ps[:2]))\n",
        "        return np.asarray(vec, dtype=np.float32)\n",
        "\n",
        "    @classmethod\n",
        "    def metas_to_tensor(cls, info_list: List[Dict[str, Any]]) -> np.ndarray:\n",
        "        if not info_list:\n",
        "            return np.empty((0, 14), dtype=np.float32)\n",
        "        return np.stack([cls._slice_meta_to_vec(m) for m in info_list])\n",
        "\n",
        "    def set_normalization(self, mean1: float, std1: float, mean2: float, std2: float):\n",
        "        self.normalize = True\n",
        "        self._mean1, self._std1 = float(mean1), float(std1)\n",
        "        self._mean2, self._std2 = float(mean2), float(std2)\n",
        "        print(f\"Normalization stats externally set for {self.contrast1_foldername}: mean={self._mean1:.4f}, std={self._std1:.4f}\")\n",
        "        print(f\"Normalization stats externally set for {self.contrast2_foldername}: mean={self._mean2:.4f}, std={self._std2:.4f}\")\n",
        "\n",
        "\n",
        "    def get_max_slices(self) -> int:\n",
        "        if not self._index: return 0\n",
        "        max_z = 0\n",
        "        for pid in self._index:\n",
        "\n",
        "            img1_tensor = self._cache[pid]['img1_data']['tensor']\n",
        "            img2_tensor = self._cache[pid]['img2_data']['tensor']\n",
        "            max_z = max(max_z, img1_tensor.shape[0], img2_tensor.shape[0])\n",
        "        return max_z\n",
        "\n",
        "\n",
        "    # def _build_augment_pipeline(self):\n",
        "    #     if not self.augment:\n",
        "    #         self.transforms_geom = None\n",
        "    #         self.transforms_intensity = None\n",
        "    #         return\n",
        "\n",
        "    #     self.geom_transforms_config = [\n",
        "    #         (tio.RandomFlip, {'axes': ('LR',), 'p': 0.3}),\n",
        "    #         (tio.RandomAffine, {'scales': (0.85, 1.15), 'degrees': 15, 'p': 0.5}),\n",
        "    #         (tio.RandomElasticDeformation, {'num_control_points': 7, 'max_displacement': 3, 'p': 0.3}),\n",
        "    #         (tio.OneOf, {'transforms': [\n",
        "    #             tio.RandomMotion(degrees=10, translation=10),\n",
        "    #             tio.RandomGhosting(intensity=0.5),\n",
        "    #             tio.RandomSpike(intensity=0.5)\n",
        "    #         ], 'p': 0.3})\n",
        "    #     ]\n",
        "\n",
        "    #     self.intensity_transforms_config = [\n",
        "    #         (tio.RandomBiasField, {'p': 0.4}),\n",
        "    #         (tio.RandomNoise, {'p': 0.4, 'mean': 0.0, 'std': 0.05}),\n",
        "    #         (tio.RandomGamma, {'p': 0.4, 'log_gamma': (-0.3, 0.3)}),\n",
        "    #         (tio.RandomBlur, {'p': 0.2, 'std': (0.5, 1.5)}),\n",
        "    #         (tio.OneOf, {'transforms': [\n",
        "    #             tio.RandomMotion(),\n",
        "    #             tio.RandomGhosting(),\n",
        "    #             tio.RandomSpike()\n",
        "    #         ], 'p': 0.2})\n",
        "    #     ]\n",
        "\n",
        "    def _build_augment_pipeline(self):\n",
        "        if not self.augment:\n",
        "            self.transforms_geom = None\n",
        "            self.transforms_intensity1 = None\n",
        "            self.transforms_intensity2 = None\n",
        "            return\n",
        "\n",
        "        # Геометрические - одинаково к обоим контрастам\n",
        "        self.geom_transforms_config = [\n",
        "            (tio.RandomFlip, {'axes': ('LR',), 'p': 0.5}),\n",
        "            (tio.RandomAffine, {'scales': (0.9, 1.1), 'degrees': 10, 'p': 0.7}),\n",
        "            (tio.RandomElasticDeformation, {'num_control_points': 5, 'max_displacement': 4.5, 'p': 0.3})\n",
        "        ]\n",
        "\n",
        "        # Интенсивностные для первого контраста (T1)\n",
        "        self.intensity_transforms_config1 = [\n",
        "            (tio.RandomBiasField, {'p': 0.3, 'coefficients': 0.5}),  # Меньше для T1\n",
        "            (tio.RandomNoise, {'p': 0.3, 'mean': 0.0, 'std': 0.03}),\n",
        "            (tio.RandomGamma, {'p': 0.3, 'log_gamma': (-0.2, 0.2)}),  # Меньший диапазон\n",
        "            (tio.RandomBlur, {'p': 0.2, 'std': (0.5, 1.0)})\n",
        "        ]\n",
        "\n",
        "        # Интенсивностные для второго контраста (T2/FLAIR)\n",
        "        self.intensity_transforms_config2 = [\n",
        "            (tio.RandomBiasField, {'p': 0.4, 'coefficients': 0.7}),  # Сильнее для T2/FLAIR\n",
        "            (tio.RandomNoise, {'p': 0.4, 'mean': 0.0, 'std': 0.04}),\n",
        "            (tio.RandomGamma, {'p': 0.4, 'log_gamma': (-0.3, 0.3)}),  # Больший диапазон\n",
        "            (tio.RandomBlur, {'p': 0.2, 'std': (0.5, 1.5)})\n",
        "        ]\n",
        "\n",
        "    def __len__(self) -> int:\n",
        "        return len(self._index)\n",
        "\n",
        "    def __getitem__(self, idx: int) -> Dict[str, Any]:\n",
        "        pid = self._index[idx]\n",
        "        item1_data = self._cache[pid]['img1_data']\n",
        "        item2_data = self._cache[pid]['img2_data']\n",
        "\n",
        "        img1 = item1_data[\"tensor\"]\n",
        "        img2 = item2_data[\"tensor\"]\n",
        "\n",
        "        # Нормализация\n",
        "        if self.normalize:\n",
        "            img1 = (img1.astype(np.float32) - self._mean1) / (self._std1 + self._EPS)\n",
        "            img2 = (img2.astype(np.float32) - self._mean2) / (self._std2 + self._EPS)\n",
        "        else:\n",
        "            img1 = img1.astype(np.float32)\n",
        "            img2 = img2.astype(np.float32)\n",
        "\n",
        "        if self.augment:\n",
        "            processed_img1 = torch.from_numpy(img1[None, ...])\n",
        "            processed_img2 = torch.from_numpy(img2[None, ...])\n",
        "\n",
        "            for TransformClass, kwargs in self.geom_transforms_config:\n",
        "                current_p = kwargs.get('p', 1.0)\n",
        "                if random.random() < current_p:\n",
        "                    transform_kwargs_no_p = {k:v for k,v in kwargs.items() if k != 'p'}\n",
        "                    transform_instance = TransformClass(**transform_kwargs_no_p)\n",
        "\n",
        "                    # Один и тот же трансформер для обоих изображений\n",
        "                    s_img1 = tio.ScalarImage(tensor=processed_img1.clone(), affine=np.eye(4))\n",
        "                    s_img2 = tio.ScalarImage(tensor=processed_img2.clone(), affine=np.eye(4))\n",
        "\n",
        "                    # Одинаковая трансформация\n",
        "                    out_subj1 = transform_instance(tio.Subject(image=s_img1))\n",
        "                    out_subj2 = transform_instance(tio.Subject(image=s_img2))\n",
        "\n",
        "                    processed_img1 = out_subj1.image.data\n",
        "                    processed_img2 = out_subj2.image.data\n",
        "\n",
        "            # Для первого контраста\n",
        "            for TransformClass, kwargs in self.intensity_transforms_config1:\n",
        "                current_p = kwargs.get('p', 1.0)\n",
        "                if random.random() < current_p:\n",
        "                    transform_kwargs_no_p = {k:v for k,v in kwargs.items() if k != 'p'}\n",
        "                    transform_instance = TransformClass(**transform_kwargs_no_p)\n",
        "                    s_img1 = tio.ScalarImage(tensor=processed_img1.clone())\n",
        "                    out_subj1 = transform_instance(tio.Subject(image=s_img1))\n",
        "                    processed_img1 = out_subj1.image.data\n",
        "\n",
        "            # Для второго контраста\n",
        "            for TransformClass, kwargs in self.intensity_transforms_config2:\n",
        "                current_p = kwargs.get('p', 1.0)\n",
        "                if random.random() < current_p:\n",
        "                    transform_kwargs_no_p = {k:v for k,v in kwargs.items() if k != 'p'}\n",
        "                    transform_instance = TransformClass(**transform_kwargs_no_p)\n",
        "                    s_img2 = tio.ScalarImage(tensor=processed_img2.clone())\n",
        "                    out_subj2 = transform_instance(tio.Subject(image=s_img2))\n",
        "                    processed_img2 = out_subj2.image.data\n",
        "\n",
        "            img1 = processed_img1.squeeze(0).numpy()\n",
        "            img2 = processed_img2.squeeze(0).numpy()\n",
        "\n",
        "        return {\n",
        "            \"img1\": img1,\n",
        "            \"img2\": img2,\n",
        "            \"meta1\": self.metas_to_tensor(item1_data[\"info_list\"]),\n",
        "            \"meta2\": self.metas_to_tensor(item2_data[\"info_list\"]),\n",
        "            \"patient_id\": pid,\n",
        "        }"
      ]
    },
    {
      "cell_type": "code",
      "execution_count": null,
      "id": "5ad5e382",
      "metadata": {
        "execution": {
          "iopub.execute_input": "2025-05-08T12:16:37.573433Z",
          "iopub.status.busy": "2025-05-08T12:16:37.573211Z",
          "iopub.status.idle": "2025-05-08T12:16:37.582912Z",
          "shell.execute_reply": "2025-05-08T12:16:37.582390Z"
        },
        "papermill": {
          "duration": 0.015608,
          "end_time": "2025-05-08T12:16:37.583827",
          "exception": false,
          "start_time": "2025-05-08T12:16:37.568219",
          "status": "completed"
        },
        "tags": [],
        "id": "5ad5e382"
      },
      "outputs": [],
      "source": [
        "def collate_fn_double(\n",
        "    batch: list,\n",
        "    fixed_z: Optional[int] = None,\n",
        "    fixed_h: Optional[int] = None,\n",
        "    fixed_w: Optional[int] = None,\n",
        "    pad_value1: float = 0.0,\n",
        "    pad_value2: float = 0.0\n",
        ") -> dict:\n",
        "    if not batch:\n",
        "        return {}\n",
        "\n",
        "    if fixed_z is not None: max_z = fixed_z\n",
        "    else: max_z = max(max(b[\"img1\"].shape[0], b[\"img2\"].shape[0]) for b in batch) if batch else 0\n",
        "\n",
        "    if fixed_h is not None: max_h = fixed_h\n",
        "    else: max_h = max(max(b[\"img1\"].shape[1], b[\"img2\"].shape[1]) for b in batch) if batch else 0\n",
        "\n",
        "    if fixed_w is not None: max_w = fixed_w\n",
        "    else: max_w = max(max(b[\"img1\"].shape[2], b[\"img2\"].shape[2]) for b in batch) if batch else 0\n",
        "\n",
        "    # Отладочное\n",
        "    # if max_z == 0 or max_h == 0 or max_w == 0 and any(b[\"img1\"].size > 0 for b in batch): # Проверяем, что есть непустые картинки\n",
        "    #     if any(b[\"img1\"].size > 0 for b in batch): # Если были непустые изображения, но max_h/w стали 0\n",
        "    #          print(f\"collate_fn_double: max_h or max_w is 0 with non-empty batch items.\")\n",
        "\n",
        "\n",
        "    def _collate_pad_to_shape(arr, shape, pad_value=0.0):\n",
        "        if arr.shape[0] > shape[0] or arr.shape[1] > shape[1] or arr.shape[2] > shape[2]:\n",
        "            copy_z = min(arr.shape[0], shape[0])\n",
        "            copy_h = min(arr.shape[1], shape[1])\n",
        "            copy_w = min(arr.shape[2], shape[2])\n",
        "\n",
        "            out = np.full(shape, pad_value, dtype=arr.dtype)\n",
        "            out[:copy_z, :copy_h, :copy_w] = arr[:copy_z, :copy_h, :copy_w]\n",
        "            return out\n",
        "\n",
        "        out = np.full(shape, pad_value, dtype=arr.dtype)\n",
        "        z, h, w = arr.shape\n",
        "        out[:z, :h, :w] = arr\n",
        "        return out\n",
        "\n",
        "    def _collate_pad_meta(arr, z_len):\n",
        "        if arr.ndim == 1:\n",
        "            if arr.size == 0 and z_len > 0:\n",
        "                 return np.zeros((z_len, 14), dtype=np.float32)  # 14 - число мета-фич\n",
        "            # print(f\"_collate_pad_meta: meta array is 1D with shape {arr.shape}.\")\n",
        "\n",
        "        num_meta_features = arr.shape[1] if arr.ndim == 2 and arr.shape[1] > 0 else 14 # 14 - дефолт\n",
        "        if arr.size == 0 and z_len > 0:  # Если массив пустой, а z_len > 0\n",
        "             return np.zeros((z_len, num_meta_features), dtype=np.float32)\n",
        "\n",
        "        out = np.zeros((z_len, num_meta_features), dtype=arr.dtype)\n",
        "        copy_z = min(arr.shape[0], z_len)\n",
        "        if arr.size > 0:\n",
        "            out[:copy_z] = arr[:copy_z]\n",
        "        return out\n",
        "\n",
        "    images1 = [_collate_pad_to_shape(b[\"img1\"], (max_z, max_h, max_w), pad_value1)[None] for b in batch]\n",
        "    images2 = [_collate_pad_to_shape(b[\"img2\"], (max_z, max_h, max_w), pad_value2)[None] for b in batch]\n",
        "    # metas1  = [_collate_pad_meta(b[\"meta1\"], max_z) for b in batch]\n",
        "    # metas2  = [_collate_pad_meta(b[\"meta2\"], max_z) for b in batch]\n",
        "\n",
        "    mask1 = [np.concatenate([np.ones(b[\"img1\"].shape[0]), np.zeros(max_z - b[\"img1\"].shape[0])]).astype(np.uint8) for b in batch]\n",
        "    mask2 = [np.concatenate([np.ones(b[\"img2\"].shape[0]), np.zeros(max_z - b[\"img2\"].shape[0])]).astype(np.uint8) for b in batch]\n",
        "\n",
        "    return {\n",
        "        \"img1\": np.stack(images1),\n",
        "        \"img2\": np.stack(images2),\n",
        "        # \"meta1\": np.stack(metas1),\n",
        "        # \"meta2\": np.stack(metas2),\n",
        "        \"mask1\": np.stack(mask1),\n",
        "        \"mask2\": np.stack(mask2),\n",
        "        \"patient_ids\": [b[\"patient_id\"] for b in batch],\n",
        "    }\n",
        "\n",
        "\n",
        "class MRIDataloader_double:\n",
        "    def __init__(self,\n",
        "                 dataset: MRIDataset_double,\n",
        "                 batch_size: int = 2,\n",
        "                 shuffle: bool = False,\n",
        "                 drop_last: bool = False,\n",
        "                 sampler: Optional[Sampler] = None,  # Sampler из torch.utils.data.sampler\n",
        "                 fixed_z: Optional[int] = None,  # Для collate_fn\n",
        "                 fixed_h: Optional[int] = None,  # Для collate_fn\n",
        "                 fixed_w: Optional[int] = None   # Для collate_fn\n",
        "                ):\n",
        "        self.dataset = dataset\n",
        "        self.batch_size = batch_size\n",
        "        self.shuffle = shuffle and sampler is None\n",
        "        self.drop_last = drop_last\n",
        "        self.sampler = sampler\n",
        "        self.fixed_z = fixed_z\n",
        "        self.fixed_h = fixed_h\n",
        "        self.fixed_w = fixed_w\n",
        "\n",
        "    def __iter__(self):\n",
        "        if self.sampler is not None:\n",
        "            idxs = list(self.sampler)\n",
        "        else:\n",
        "            idxs = list(range(len(self.dataset)))\n",
        "            if self.shuffle:\n",
        "                random.shuffle(idxs)\n",
        "\n",
        "        pad_val1, pad_val2 = 0.0, 0.0\n",
        "        if self.dataset.normalize:\n",
        "            std1_eff = self.dataset._std1 + self.dataset._EPS\n",
        "            std2_eff = self.dataset._std2 + self.dataset._EPS\n",
        "            if std1_eff < self.dataset._EPS:\n",
        "                std1_eff = 1.0\n",
        "            if std2_eff < self.dataset._EPS:\n",
        "                std2_eff = 1.0\n",
        "\n",
        "            pad_val1 = (0.0 - self.dataset._mean1) / std1_eff\n",
        "            pad_val2 = (0.0 - self.dataset._mean2) / std2_eff\n",
        "\n",
        "\n",
        "        batch_items = []\n",
        "        for i in idxs:\n",
        "            batch_items.append(self.dataset[i])\n",
        "            if len(batch_items) == self.batch_size:\n",
        "                yield collate_fn_double(\n",
        "                    batch_items,\n",
        "                    fixed_z=self.fixed_z, fixed_h=self.fixed_h, fixed_w=self.fixed_w,\n",
        "                    pad_value1=pad_val1, pad_value2=pad_val2\n",
        "                )\n",
        "                batch_items = []\n",
        "        if batch_items and not self.drop_last:\n",
        "            yield collate_fn_double(\n",
        "                batch_items,\n",
        "                fixed_z=self.fixed_z, fixed_h=self.fixed_h, fixed_w=self.fixed_w,\n",
        "                pad_value1=pad_val1, pad_value2=pad_val2\n",
        "            )\n",
        "\n",
        "    def __len__(self):\n",
        "        if self.sampler is not None:\n",
        "            num_samples = len(self.sampler)\n",
        "        else:\n",
        "            num_samples = len(self.dataset)\n",
        "\n",
        "        if self.drop_last:\n",
        "            return num_samples // self.batch_size\n",
        "        else:\n",
        "            return (num_samples + self.batch_size - 1) // self.batch_size"
      ]
    },
    {
      "cell_type": "code",
      "execution_count": null,
      "id": "9f75aba2",
      "metadata": {
        "execution": {
          "iopub.execute_input": "2025-05-08T12:16:37.593041Z",
          "iopub.status.busy": "2025-05-08T12:16:37.592860Z",
          "iopub.status.idle": "2025-05-08T12:16:37.657785Z",
          "shell.execute_reply": "2025-05-08T12:16:37.657110Z"
        },
        "papermill": {
          "duration": 0.070948,
          "end_time": "2025-05-08T12:16:37.658988",
          "exception": false,
          "start_time": "2025-05-08T12:16:37.588040",
          "status": "completed"
        },
        "tags": [],
        "id": "9f75aba2",
        "outputId": "4bfce101-8b5d-47f6-b2d4-0b2159227984"
      },
      "outputs": [
        {
          "data": {
            "text/html": [
              "<div>\n",
              "<style scoped>\n",
              "    .dataframe tbody tr th:only-of-type {\n",
              "        vertical-align: middle;\n",
              "    }\n",
              "\n",
              "    .dataframe tbody tr th {\n",
              "        vertical-align: top;\n",
              "    }\n",
              "\n",
              "    .dataframe thead th {\n",
              "        text-align: right;\n",
              "    }\n",
              "</style>\n",
              "<table border=\"1\" class=\"dataframe\">\n",
              "  <thead>\n",
              "    <tr style=\"text-align: right;\">\n",
              "      <th></th>\n",
              "      <th>1p/19q</th>\n",
              "      <th>FLAIR до</th>\n",
              "      <th>IDH1</th>\n",
              "      <th>IDH2</th>\n",
              "      <th>MGMT</th>\n",
              "      <th>TargetDirectory</th>\n",
              "      <th>Биопсия до?</th>\n",
              "      <th>Возр-т</th>\n",
              "      <th>Гистология</th>\n",
              "      <th>Дифф-я до</th>\n",
              "      <th>МРТ до 3Тл</th>\n",
              "      <th>Повтор-ная?</th>\n",
              "      <th>Т1 до</th>\n",
              "      <th>Т1 с к до</th>\n",
              "      <th>Т2 до</th>\n",
              "      <th>Только биопсия?</th>\n",
              "      <th>Трактогра-фия до</th>\n",
              "      <th>м-0     ж-1</th>\n",
              "      <th>grade</th>\n",
              "    </tr>\n",
              "  </thead>\n",
              "  <tbody>\n",
              "    <tr>\n",
              "      <th>0</th>\n",
              "      <td>0.0</td>\n",
              "      <td>0.0</td>\n",
              "      <td>0.0</td>\n",
              "      <td>0.0</td>\n",
              "      <td>0.0</td>\n",
              "      <td>patient1</td>\n",
              "      <td>0.0</td>\n",
              "      <td>66.0</td>\n",
              "      <td>Глиобластома</td>\n",
              "      <td>0.0</td>\n",
              "      <td>1.0</td>\n",
              "      <td>0.0</td>\n",
              "      <td>0.0</td>\n",
              "      <td>1.0</td>\n",
              "      <td>1.0</td>\n",
              "      <td>1.0</td>\n",
              "      <td>0.0</td>\n",
              "      <td>0.0</td>\n",
              "      <td>4</td>\n",
              "    </tr>\n",
              "    <tr>\n",
              "      <th>1</th>\n",
              "      <td>1.0</td>\n",
              "      <td>1.0</td>\n",
              "      <td>1.0</td>\n",
              "      <td>0.0</td>\n",
              "      <td>0.0</td>\n",
              "      <td>patient2</td>\n",
              "      <td>0.0</td>\n",
              "      <td>31.0</td>\n",
              "      <td>Анапластическая олигодендроглиома G3</td>\n",
              "      <td>1.0</td>\n",
              "      <td>1.0</td>\n",
              "      <td>0.0</td>\n",
              "      <td>1.0</td>\n",
              "      <td>1.0</td>\n",
              "      <td>1.0</td>\n",
              "      <td>0.0</td>\n",
              "      <td>1.0</td>\n",
              "      <td>1.0</td>\n",
              "      <td>3</td>\n",
              "    </tr>\n",
              "    <tr>\n",
              "      <th>2</th>\n",
              "      <td>0.0</td>\n",
              "      <td>1.0</td>\n",
              "      <td>1.0</td>\n",
              "      <td>0.0</td>\n",
              "      <td>1.0</td>\n",
              "      <td>patient3</td>\n",
              "      <td>0.0</td>\n",
              "      <td>24.0</td>\n",
              "      <td>Глиобластома</td>\n",
              "      <td>1.0</td>\n",
              "      <td>1.0</td>\n",
              "      <td>1.0</td>\n",
              "      <td>1.0</td>\n",
              "      <td>1.0</td>\n",
              "      <td>1.0</td>\n",
              "      <td>0.0</td>\n",
              "      <td>1.0</td>\n",
              "      <td>0.0</td>\n",
              "      <td>4</td>\n",
              "    </tr>\n",
              "    <tr>\n",
              "      <th>3</th>\n",
              "      <td>0.0</td>\n",
              "      <td>1.0</td>\n",
              "      <td>0.0</td>\n",
              "      <td>0.0</td>\n",
              "      <td>0.0</td>\n",
              "      <td>patient4</td>\n",
              "      <td>0.0</td>\n",
              "      <td>69.0</td>\n",
              "      <td>Глиобластома</td>\n",
              "      <td>1.0</td>\n",
              "      <td>1.0</td>\n",
              "      <td>1.0</td>\n",
              "      <td>1.0</td>\n",
              "      <td>1.0</td>\n",
              "      <td>1.0</td>\n",
              "      <td>0.0</td>\n",
              "      <td>1.0</td>\n",
              "      <td>0.0</td>\n",
              "      <td>4</td>\n",
              "    </tr>\n",
              "    <tr>\n",
              "      <th>4</th>\n",
              "      <td>0.0</td>\n",
              "      <td>1.0</td>\n",
              "      <td>0.0</td>\n",
              "      <td>0.0</td>\n",
              "      <td>1.0</td>\n",
              "      <td>patient5</td>\n",
              "      <td>0.0</td>\n",
              "      <td>61.0</td>\n",
              "      <td>Анапластическая олигодендроглиома G3</td>\n",
              "      <td>1.0</td>\n",
              "      <td>0.0</td>\n",
              "      <td>0.0</td>\n",
              "      <td>1.0</td>\n",
              "      <td>1.0</td>\n",
              "      <td>1.0</td>\n",
              "      <td>0.0</td>\n",
              "      <td>1.0</td>\n",
              "      <td>1.0</td>\n",
              "      <td>3</td>\n",
              "    </tr>\n",
              "    <tr>\n",
              "      <th>...</th>\n",
              "      <td>...</td>\n",
              "      <td>...</td>\n",
              "      <td>...</td>\n",
              "      <td>...</td>\n",
              "      <td>...</td>\n",
              "      <td>...</td>\n",
              "      <td>...</td>\n",
              "      <td>...</td>\n",
              "      <td>...</td>\n",
              "      <td>...</td>\n",
              "      <td>...</td>\n",
              "      <td>...</td>\n",
              "      <td>...</td>\n",
              "      <td>...</td>\n",
              "      <td>...</td>\n",
              "      <td>...</td>\n",
              "      <td>...</td>\n",
              "      <td>...</td>\n",
              "      <td>...</td>\n",
              "    </tr>\n",
              "    <tr>\n",
              "      <th>167</th>\n",
              "      <td>0.0</td>\n",
              "      <td>1.0</td>\n",
              "      <td>0.0</td>\n",
              "      <td>0.0</td>\n",
              "      <td>0.0</td>\n",
              "      <td>patient162</td>\n",
              "      <td>0.0</td>\n",
              "      <td>44.0</td>\n",
              "      <td>Глиобластома</td>\n",
              "      <td>1.0</td>\n",
              "      <td>1.0</td>\n",
              "      <td>0.0</td>\n",
              "      <td>1.0</td>\n",
              "      <td>1.0</td>\n",
              "      <td>1.0</td>\n",
              "      <td>0.0</td>\n",
              "      <td>0.0</td>\n",
              "      <td>0.0</td>\n",
              "      <td>4</td>\n",
              "    </tr>\n",
              "    <tr>\n",
              "      <th>168</th>\n",
              "      <td>0.0</td>\n",
              "      <td>0.0</td>\n",
              "      <td>0.0</td>\n",
              "      <td>0.0</td>\n",
              "      <td>0.0</td>\n",
              "      <td>patient163</td>\n",
              "      <td>0.0</td>\n",
              "      <td>36.0</td>\n",
              "      <td>Глиобластома</td>\n",
              "      <td>0.0</td>\n",
              "      <td>1.0</td>\n",
              "      <td>0.0</td>\n",
              "      <td>0.0</td>\n",
              "      <td>1.0</td>\n",
              "      <td>1.0</td>\n",
              "      <td>1.0</td>\n",
              "      <td>0.0</td>\n",
              "      <td>0.0</td>\n",
              "      <td>4</td>\n",
              "    </tr>\n",
              "    <tr>\n",
              "      <th>169</th>\n",
              "      <td>0.0</td>\n",
              "      <td>1.0</td>\n",
              "      <td>1.0</td>\n",
              "      <td>0.0</td>\n",
              "      <td>1.0</td>\n",
              "      <td>patient164</td>\n",
              "      <td>0.0</td>\n",
              "      <td>23.0</td>\n",
              "      <td>Глиобластома</td>\n",
              "      <td>1.0</td>\n",
              "      <td>1.0</td>\n",
              "      <td>1.0</td>\n",
              "      <td>1.0</td>\n",
              "      <td>1.0</td>\n",
              "      <td>1.0</td>\n",
              "      <td>0.0</td>\n",
              "      <td>1.0</td>\n",
              "      <td>1.0</td>\n",
              "      <td>4</td>\n",
              "    </tr>\n",
              "    <tr>\n",
              "      <th>170</th>\n",
              "      <td>0.0</td>\n",
              "      <td>1.0</td>\n",
              "      <td>0.0</td>\n",
              "      <td>0.0</td>\n",
              "      <td>0.0</td>\n",
              "      <td>NaN</td>\n",
              "      <td>0.0</td>\n",
              "      <td>59.0</td>\n",
              "      <td>Глиобластома</td>\n",
              "      <td>1.0</td>\n",
              "      <td>1.0</td>\n",
              "      <td>0.0</td>\n",
              "      <td>1.0</td>\n",
              "      <td>1.0</td>\n",
              "      <td>1.0</td>\n",
              "      <td>0.0</td>\n",
              "      <td>1.0</td>\n",
              "      <td>1.0</td>\n",
              "      <td>4</td>\n",
              "    </tr>\n",
              "    <tr>\n",
              "      <th>171</th>\n",
              "      <td>0.0</td>\n",
              "      <td>1.0</td>\n",
              "      <td>1.0</td>\n",
              "      <td>0.0</td>\n",
              "      <td>1.0</td>\n",
              "      <td>patient165</td>\n",
              "      <td>0.0</td>\n",
              "      <td>33.0</td>\n",
              "      <td>Глиобластома</td>\n",
              "      <td>1.0</td>\n",
              "      <td>1.0</td>\n",
              "      <td>0.0</td>\n",
              "      <td>1.0</td>\n",
              "      <td>0.0</td>\n",
              "      <td>1.0</td>\n",
              "      <td>0.0</td>\n",
              "      <td>1.0</td>\n",
              "      <td>0.0</td>\n",
              "      <td>4</td>\n",
              "    </tr>\n",
              "  </tbody>\n",
              "</table>\n",
              "<p>172 rows × 19 columns</p>\n",
              "</div>"
            ],
            "text/plain": [
              "     1p/19q  FLAIR до  IDH1  IDH2  MGMT TargetDirectory  Биопсия до?  Возр-т  \\\n",
              "0       0.0       0.0   0.0   0.0   0.0        patient1          0.0    66.0   \n",
              "1       1.0       1.0   1.0   0.0   0.0        patient2          0.0    31.0   \n",
              "2       0.0       1.0   1.0   0.0   1.0        patient3          0.0    24.0   \n",
              "3       0.0       1.0   0.0   0.0   0.0        patient4          0.0    69.0   \n",
              "4       0.0       1.0   0.0   0.0   1.0        patient5          0.0    61.0   \n",
              "..      ...       ...   ...   ...   ...             ...          ...     ...   \n",
              "167     0.0       1.0   0.0   0.0   0.0      patient162          0.0    44.0   \n",
              "168     0.0       0.0   0.0   0.0   0.0      patient163          0.0    36.0   \n",
              "169     0.0       1.0   1.0   0.0   1.0      patient164          0.0    23.0   \n",
              "170     0.0       1.0   0.0   0.0   0.0             NaN          0.0    59.0   \n",
              "171     0.0       1.0   1.0   0.0   1.0      patient165          0.0    33.0   \n",
              "\n",
              "                               Гистология  Дифф-я до  МРТ до 3Тл  Повтор-ная?  \\\n",
              "0                            Глиобластома        0.0         1.0          0.0   \n",
              "1    Анапластическая олигодендроглиома G3        1.0         1.0          0.0   \n",
              "2                            Глиобластома        1.0         1.0          1.0   \n",
              "3                            Глиобластома        1.0         1.0          1.0   \n",
              "4    Анапластическая олигодендроглиома G3        1.0         0.0          0.0   \n",
              "..                                    ...        ...         ...          ...   \n",
              "167                          Глиобластома        1.0         1.0          0.0   \n",
              "168                          Глиобластома        0.0         1.0          0.0   \n",
              "169                          Глиобластома        1.0         1.0          1.0   \n",
              "170                          Глиобластома        1.0         1.0          0.0   \n",
              "171                          Глиобластома        1.0         1.0          0.0   \n",
              "\n",
              "     Т1 до  Т1 с к до  Т2 до  Только биопсия?  Трактогра-фия до  м-0     ж-1  \\\n",
              "0      0.0        1.0    1.0              1.0               0.0          0.0   \n",
              "1      1.0        1.0    1.0              0.0               1.0          1.0   \n",
              "2      1.0        1.0    1.0              0.0               1.0          0.0   \n",
              "3      1.0        1.0    1.0              0.0               1.0          0.0   \n",
              "4      1.0        1.0    1.0              0.0               1.0          1.0   \n",
              "..     ...        ...    ...              ...               ...          ...   \n",
              "167    1.0        1.0    1.0              0.0               0.0          0.0   \n",
              "168    0.0        1.0    1.0              1.0               0.0          0.0   \n",
              "169    1.0        1.0    1.0              0.0               1.0          1.0   \n",
              "170    1.0        1.0    1.0              0.0               1.0          1.0   \n",
              "171    1.0        0.0    1.0              0.0               1.0          0.0   \n",
              "\n",
              "     grade  \n",
              "0        4  \n",
              "1        3  \n",
              "2        4  \n",
              "3        4  \n",
              "4        3  \n",
              "..     ...  \n",
              "167      4  \n",
              "168      4  \n",
              "169      4  \n",
              "170      4  \n",
              "171      4  \n",
              "\n",
              "[172 rows x 19 columns]"
            ]
          },
          "execution_count": 8,
          "metadata": {},
          "output_type": "execute_result"
        }
      ],
      "source": [
        "df_targets = pd.read_csv('/kaggle/input/patients-mri/Hands_mapped_targets_only_4.csv', encoding=\"cp1251\").drop(columns=\"Column1\")\n",
        "\n",
        "conditions = [\n",
        "    df_targets[\"Гистология\"] == \"Глиобластома\",\n",
        "    df_targets[\"Гистология\"].str.contains(\"Анапластическая\", na=False),\n",
        "    df_targets[\"Гистология\"].str.contains(\"G3\", na=False),\n",
        "    df_targets[\"Гистология\"].str.contains(\"Диффузная\", na=False),\n",
        "    df_targets[\"Гистология\"].str.contains(\"G2\", na=False),\n",
        "]\n",
        "\n",
        "choices = [4, 3, 3, 2, 2]\n",
        "\n",
        "df_targets[\"grade\"] = np.select(conditions, choices, default=1)\n",
        "df_targets[\"1p/19q\"] = df_targets[\"1p/19q\"].replace({\"_\": np.nan})\n",
        "df_targets.loc[df_targets[(df_targets.Гистология.str.lower().str.contains(\"астроцитома\")) & (df_targets[\"1p/19q\"] == 1)].index, \"Гистология\"] = \"Анапластическая олигодендроглиома G3\"\n",
        "notnull = df_targets[(~df_targets[[\"1p/19q\", \"MGMT\", \"IDH1\"]].isnull().any(axis=1))\\\n",
        "    & (df_targets.TargetDirectory.notna())\\\n",
        "    & (df_targets.grade.ne(1))].TargetDirectory.values\n",
        "\n",
        "df_targets[[\"1p/19q\", \"MGMT\", \"IDH1\"]] = df_targets[[\"1p/19q\", \"MGMT\", \"IDH1\"]].astype(float)\n",
        "\n",
        "df_targets"
      ]
    },
    {
      "cell_type": "code",
      "execution_count": null,
      "id": "0b214c54",
      "metadata": {
        "execution": {
          "iopub.execute_input": "2025-05-08T12:16:37.669475Z",
          "iopub.status.busy": "2025-05-08T12:16:37.669269Z",
          "iopub.status.idle": "2025-05-08T12:16:37.673599Z",
          "shell.execute_reply": "2025-05-08T12:16:37.673070Z"
        },
        "papermill": {
          "duration": 0.010529,
          "end_time": "2025-05-08T12:16:37.674590",
          "exception": false,
          "start_time": "2025-05-08T12:16:37.664061",
          "status": "completed"
        },
        "tags": [],
        "id": "0b214c54"
      },
      "outputs": [],
      "source": [
        "def compute_class_weights(df_targets, target_names):\n",
        "    bin_alphas = {}\n",
        "    for target in target_names:\n",
        "        if target == 'grade':\n",
        "            continue\n",
        "        counts = df_targets[target].value_counts().to_dict()\n",
        "        n_pos = counts.get(1, 0)\n",
        "        n_neg = counts.get(0, 0)\n",
        "        total = n_pos + n_neg + 1e-6\n",
        "        alpha = n_neg / total\n",
        "        bin_alphas[target] = alpha\n",
        "\n",
        "    # Для grade\n",
        "    grade_counts  = df_targets['grade'].value_counts().sort_index().values\n",
        "    beta = 0.999\n",
        "    eff_num = (1 - beta**grade_counts) / (1 - beta)\n",
        "    grade_weights = torch.tensor(eff_num.sum() / eff_num, dtype=torch.float)\n",
        "\n",
        "    return bin_alphas, grade_weights"
      ]
    },
    {
      "cell_type": "markdown",
      "id": "bba0197f",
      "metadata": {
        "papermill": {
          "duration": 0.005594,
          "end_time": "2025-05-08T12:16:37.684794",
          "exception": false,
          "start_time": "2025-05-08T12:16:37.679200",
          "status": "completed"
        },
        "tags": [],
        "id": "bba0197f"
      },
      "source": [
        "# model"
      ]
    },
    {
      "cell_type": "code",
      "execution_count": null,
      "id": "d6dfd937",
      "metadata": {
        "execution": {
          "iopub.execute_input": "2025-05-08T12:16:37.694852Z",
          "iopub.status.busy": "2025-05-08T12:16:37.694669Z",
          "iopub.status.idle": "2025-05-08T12:16:37.698293Z",
          "shell.execute_reply": "2025-05-08T12:16:37.697772Z"
        },
        "papermill": {
          "duration": 0.009766,
          "end_time": "2025-05-08T12:16:37.699295",
          "exception": false,
          "start_time": "2025-05-08T12:16:37.689529",
          "status": "completed"
        },
        "tags": [],
        "id": "d6dfd937"
      },
      "outputs": [],
      "source": [
        "# USE ONLY IF NEEDED\n",
        "\n",
        "if_needed=False\n",
        "\n",
        "def seed_everything(seed: int = 1337):\n",
        "    random.seed(seed); np.random.seed(seed); torch.manual_seed(seed)\n",
        "    torch.cuda.manual_seed_all(seed); torch.backends.cudnn.deterministic = True\n",
        "if if_needed:\n",
        "    seed_everything()"
      ]
    },
    {
      "cell_type": "code",
      "execution_count": null,
      "id": "e59ae96f",
      "metadata": {
        "execution": {
          "iopub.execute_input": "2025-05-08T12:16:37.709579Z",
          "iopub.status.busy": "2025-05-08T12:16:37.709362Z",
          "iopub.status.idle": "2025-05-08T12:16:37.725241Z",
          "shell.execute_reply": "2025-05-08T12:16:37.724563Z"
        },
        "papermill": {
          "duration": 0.022332,
          "end_time": "2025-05-08T12:16:37.726274",
          "exception": false,
          "start_time": "2025-05-08T12:16:37.703942",
          "status": "completed"
        },
        "tags": [],
        "id": "e59ae96f"
      },
      "outputs": [],
      "source": [
        "class ChannelAttention3D(nn.Module):\n",
        "    def __init__(self, ch, reduction=16):\n",
        "        super().__init__()\n",
        "        self.mlp = nn.Sequential(\n",
        "            nn.AdaptiveAvgPool3d(1),\n",
        "            nn.Conv3d(ch, ch // reduction, 1, bias=False),\n",
        "            nn.GELU(),\n",
        "            nn.Conv3d(ch // reduction, ch, 1, bias=False)\n",
        "        )\n",
        "        self.sigmoid = nn.Sigmoid()\n",
        "\n",
        "    def forward(self, x):\n",
        "        return x * self.sigmoid(self.mlp(x))\n",
        "\n",
        "class SpatialAttention3D(nn.Module):\n",
        "    def __init__(self, kernel=7):\n",
        "        super().__init__()\n",
        "        padding = kernel // 2\n",
        "        self.conv = nn.Conv3d(2, 1, kernel, padding=padding, bias=False)\n",
        "        self.sigmoid = nn.Sigmoid()\n",
        "\n",
        "    def forward(self, x):\n",
        "        avg = torch.mean(x, 1, keepdim=True)\n",
        "        mx , _ = torch.max(x , 1, keepdim=True)\n",
        "        attn = self.sigmoid(self.conv(torch.cat([avg, mx], 1)))\n",
        "        return x * attn\n",
        "\n",
        "class CBAM3D(nn.Module):\n",
        "    def __init__(self, ch, reduction=16, kernel=7):\n",
        "        super().__init__()\n",
        "        self.ca = ChannelAttention3D(ch, reduction)\n",
        "        self.sa = SpatialAttention3D(kernel)\n",
        "\n",
        "    def forward(self, x):\n",
        "        return self.sa(self.ca(x))\n",
        "\n",
        "def gn(ch, groups=8):\n",
        "    g = min(groups, ch)\n",
        "    while ch % g: g -= 1\n",
        "    return nn.GroupNorm(g, ch)\n",
        "\n",
        "class DoubleConv(nn.Module):\n",
        "    def __init__(self, in_ch, out_ch, mid_ch=None):\n",
        "        super().__init__()\n",
        "        mid = mid_ch or out_ch\n",
        "        self.net = nn.Sequential(\n",
        "            nn.Conv3d(in_ch, mid, 3, padding=1, bias=False),\n",
        "            gn(mid), nn.GELU(),\n",
        "            nn.Conv3d(mid, out_ch, 3, padding=1, bias=False),\n",
        "            gn(out_ch), nn.GELU())\n",
        "    def forward(self, x): return self.net(x)\n",
        "\n",
        "class Down(nn.Module):\n",
        "    def __init__(self, in_ch, out_ch):\n",
        "        super().__init__()\n",
        "        self.net = nn.Sequential(\n",
        "            nn.Conv3d(in_ch, out_ch, 3, stride=2, padding=1, bias=False),\n",
        "            gn(out_ch), nn.GELU(),\n",
        "            DoubleConv(out_ch, out_ch))\n",
        "    def forward(self, x): return self.net(x)\n",
        "\n",
        "class Up(nn.Module):\n",
        "    def __init__(self, in_ch, skip_ch, out_ch, bilinear=True):\n",
        "        super().__init__()\n",
        "        self.up   = nn.Upsample(scale_factor=2, mode='trilinear',\n",
        "                                align_corners=False) if bilinear else \\\n",
        "                    nn.ConvTranspose3d(in_ch, in_ch, 2, stride=2)\n",
        "        self.conv = DoubleConv(in_ch + skip_ch, out_ch, in_ch // 2)\n",
        "\n",
        "    def _pad(self, x, ref):\n",
        "        dz,dy,dx = [ref.size(i)-x.size(i) for i in (2,3,4)]\n",
        "        return F.pad(x,[dx//2,dx-dx//2,\n",
        "                        dy//2,dy-dy//2,\n",
        "                        dz//2,dz-dz//2])\n",
        "\n",
        "    def forward(self, x, skip):\n",
        "        x = self.up(x)\n",
        "        x = self._pad(x, skip)\n",
        "        x = torch.cat([skip, x], 1)\n",
        "        return self.conv(x)\n",
        "\n",
        "class CBAM3D(nn.Module):\n",
        "    def __init__(self, ch, reduction=16, kernel=7):\n",
        "        super().__init__()\n",
        "        self.ca = ChannelAttention3D(ch, reduction)\n",
        "        self.sa = SpatialAttention3D(kernel)\n",
        "\n",
        "    def forward(self, x):\n",
        "        return self.sa(self.ca(x))\n",
        "\n",
        "\n",
        "class LiteUNet3D_D(nn.Module):\n",
        "    def __init__(self, in_ch=1, base_ch=8, bilinear=True):\n",
        "        super().__init__()\n",
        "        c = base_ch\n",
        "\n",
        "        self.inc   = DoubleConv(in_ch, c)\n",
        "        self.down1 = Down(c,   c*2)\n",
        "        self.down2 = Down(c*2, c*4)\n",
        "        self.down3 = Down(c*4, c*8)\n",
        "        self.down4 = Down(c*8, c*8)\n",
        "\n",
        "        self.bottleneck = nn.Sequential(\n",
        "            DoubleConv(c*8, c*8),\n",
        "            DoubleConv(c*8, c*8))\n",
        "        self.cbam = CBAM3D(c*8)\n",
        "\n",
        "        self.up3  = Up(c*8, c*8, c*8, bilinear)    # Z/8\n",
        "        self.up2  = Up(c*8, c*4, c*4, bilinear)    # Z/4\n",
        "        self.up1  = Up(c*4, c*2, c*2, bilinear)    # Z/2\n",
        "\n",
        "        self.gap = nn.AdaptiveAvgPool3d(1)\n",
        "        self.out_features = c*2  # 16 при base=8\n",
        "\n",
        "    def forward(self, x):\n",
        "        x0 = self.inc(x)\n",
        "        x1 = self.down1(x0)\n",
        "        x2 = self.down2(x1)\n",
        "        x3 = self.down3(x2)\n",
        "        x4 = self.down4(x3)\n",
        "\n",
        "        x4 = self.cbam(self.bottleneck(x4))\n",
        "\n",
        "        x = self.up3(x4, x3)\n",
        "        x = self.up2(x,  x2)\n",
        "        x = self.up1(x,  x1)\n",
        "\n",
        "        return self.gap(x).flatten(1)"
      ]
    },
    {
      "cell_type": "code",
      "execution_count": null,
      "id": "2bf02641",
      "metadata": {
        "execution": {
          "iopub.execute_input": "2025-05-08T12:16:37.736733Z",
          "iopub.status.busy": "2025-05-08T12:16:37.736536Z",
          "iopub.status.idle": "2025-05-08T12:16:37.742916Z",
          "shell.execute_reply": "2025-05-08T12:16:37.742274Z"
        },
        "papermill": {
          "duration": 0.012958,
          "end_time": "2025-05-08T12:16:37.743907",
          "exception": false,
          "start_time": "2025-05-08T12:16:37.730949",
          "status": "completed"
        },
        "tags": [],
        "id": "2bf02641"
      },
      "outputs": [],
      "source": [
        "class ClassificationHead(nn.Module):\n",
        "    def __init__(self, in_dim, hidden_factor=2,\n",
        "                 num_classes=1, p_drop=0.1, drop_path=0.1):\n",
        "        super().__init__()\n",
        "        hidden = in_dim * hidden_factor\n",
        "        self.fc1 = nn.Linear(in_dim, hidden)\n",
        "        self.act = nn.GELU()\n",
        "        self.drop = nn.Dropout(p_drop)\n",
        "        self.fc2 = nn.Linear(hidden, num_classes)\n",
        "        self.drop_path = drop_path\n",
        "\n",
        "    def forward(self, x):\n",
        "        x = self.act(self.fc1(x))\n",
        "        x = self.drop(x)\n",
        "        return self.fc2(x)\n",
        "\n",
        "class GradeHead(nn.Module):\n",
        "    def __init__(self, in_dim, hidden_factor=4, num_classes=3, dropout=0.3):\n",
        "        super().__init__()\n",
        "        hidden = in_dim * hidden_factor\n",
        "        self.net = nn.Sequential(\n",
        "            nn.Linear(in_dim, hidden),\n",
        "            nn.LayerNorm(hidden),\n",
        "            nn.GELU(),\n",
        "            nn.Dropout(dropout),\n",
        "            nn.Linear(hidden, hidden // 2),\n",
        "            nn.LayerNorm(hidden // 2),\n",
        "            nn.GELU(),\n",
        "            nn.Dropout(dropout),\n",
        "            nn.Linear(hidden // 2, num_classes)\n",
        "        )\n",
        "\n",
        "        # Инициализация с предвзятостью к равномерному распределению\n",
        "        with torch.no_grad():\n",
        "            last_layer = self.net[-1]\n",
        "            if isinstance(last_layer, nn.Linear):\n",
        "                last_layer.weight.data.normal_(0, 0.01)\n",
        "                last_layer.bias.data.zero_()\n",
        "\n",
        "    def forward(self, x):\n",
        "        return self.net(x)"
      ]
    },
    {
      "cell_type": "code",
      "execution_count": null,
      "id": "32c5088a",
      "metadata": {
        "execution": {
          "iopub.execute_input": "2025-05-08T12:16:37.770768Z",
          "iopub.status.busy": "2025-05-08T12:16:37.770600Z",
          "iopub.status.idle": "2025-05-08T12:16:37.776068Z",
          "shell.execute_reply": "2025-05-08T12:16:37.775537Z"
        },
        "papermill": {
          "duration": 0.011664,
          "end_time": "2025-05-08T12:16:37.777093",
          "exception": false,
          "start_time": "2025-05-08T12:16:37.765429",
          "status": "completed"
        },
        "tags": [],
        "id": "32c5088a"
      },
      "outputs": [],
      "source": [
        "class SimpleUNetClassifier(nn.Module):\n",
        "    def __init__(self, target_names, in_channels=1, base_channels=8, feat_dim=64, num_binary=3):\n",
        "        super().__init__()\n",
        "        # Два отдельных UNet\n",
        "        self.unet1 = LiteUNet3D_D(in_channels, base_channels)\n",
        "        self.unet2 = LiteUNet3D_D(in_channels, base_channels)\n",
        "        unet_feat = self.unet1.out_features  # 16\n",
        "\n",
        "        # Объединяем признаки\n",
        "        self.feat_proj = nn.Sequential(\n",
        "            nn.Linear(unet_feat, feat_dim),\n",
        "            nn.GELU(),\n",
        "            nn.LayerNorm(feat_dim))\n",
        "\n",
        "        self.target_names = target_names\n",
        "        self.heads = nn.ModuleList(\n",
        "            [ClassificationHead(feat_dim, num_classes=1) for _ in range(num_binary)] +\n",
        "            [ClassificationHead(feat_dim, num_classes=3)]\n",
        "        )\n",
        "\n",
        "    def forward(self, img1, img2):\n",
        "        feat1 = self.unet1(img1)  # (B, 16)\n",
        "        feat2 = self.unet2(img2)  # (B, 16)\n",
        "        # feat = torch.sum(torch.stack([feat1, feat2]), dim=0)  # (B, 16)\n",
        "        feat = torch.mean(torch.stack([feat1, feat2]), dim=0) # (B, 16)\n",
        "        # feat = torch.cat([feat1, feat2], dim=1)  # (B, 32)\n",
        "        feat = self.feat_proj(feat)              # (B, 64)\n",
        "        return {n: h(feat) for n, h in zip(self.target_names, self.heads)}"
      ]
    },
    {
      "cell_type": "markdown",
      "id": "d8c3c9fb",
      "metadata": {
        "papermill": {
          "duration": 0.00454,
          "end_time": "2025-05-08T12:16:37.786193",
          "exception": false,
          "start_time": "2025-05-08T12:16:37.781653",
          "status": "completed"
        },
        "tags": [],
        "id": "d8c3c9fb"
      },
      "source": [
        "# training"
      ]
    },
    {
      "cell_type": "code",
      "execution_count": null,
      "id": "957c8a2e",
      "metadata": {
        "execution": {
          "iopub.execute_input": "2025-05-08T12:16:37.796445Z",
          "iopub.status.busy": "2025-05-08T12:16:37.796254Z",
          "iopub.status.idle": "2025-05-08T12:16:37.807758Z",
          "shell.execute_reply": "2025-05-08T12:16:37.807277Z"
        },
        "papermill": {
          "duration": 0.017859,
          "end_time": "2025-05-08T12:16:37.808734",
          "exception": false,
          "start_time": "2025-05-08T12:16:37.790875",
          "status": "completed"
        },
        "tags": [],
        "id": "957c8a2e"
      },
      "outputs": [],
      "source": [
        "def run_epoch(loader, model, criterion_dict, optimizer=None, accum_steps=1,\n",
        "              train=True, device='cpu',\n",
        "              global_step=0, warmup_steps=0, base_lr=1e-3, initial_lr_factor=0.01,\n",
        "              df_targets=None):\n",
        "    is_train = train and optimizer is not None\n",
        "    model.train() if is_train else model.eval()\n",
        "    torch.set_grad_enabled(is_train)\n",
        "\n",
        "    total_loss = 0.\n",
        "    n_samples = 0\n",
        "    all_targets = defaultdict(list)\n",
        "    all_preds = defaultdict(list)\n",
        "    correct = defaultdict(int)\n",
        "\n",
        "    pbar = tqdm(loader, desc='train' if is_train else 'valid', leave=False)\n",
        "    if is_train:\n",
        "        optimizer.zero_grad()\n",
        "    optimizer_steps = 0\n",
        "\n",
        "    for step, batch in enumerate(pbar):\n",
        "        imgs = torch.from_numpy(batch['img1'].astype(np.float32)).to(device)\n",
        "        imgs2 = torch.from_numpy(batch['img2'].astype(np.float32)).to(device)\n",
        "        ids = batch['patient_ids']\n",
        "        bs = imgs.size(0)\n",
        "        # --- Таргеты ---\n",
        "        batch_df = df_targets[df_targets['TargetDirectory'].isin(ids)].set_index('TargetDirectory').loc[ids].reset_index()\n",
        "        targets = {}\n",
        "        for name in model.target_names:\n",
        "            if name == 'grade':\n",
        "                targets[name] = torch.tensor(batch_df['grade'].values - 2, dtype=torch.long).to(device)\n",
        "            else:\n",
        "                targets[name] = torch.from_numpy(batch_df[name].values.astype(np.float32)).view(-1, 1).to(device)\n",
        "\n",
        "        # Forward\n",
        "        outputs = model(imgs, imgs2)\n",
        "        loss = 0.0\n",
        "        for name in model.target_names:\n",
        "            loss += criterion_dict[name](outputs[name], targets[name])\n",
        "\n",
        "        # Backward\n",
        "        if is_train:\n",
        "            (loss / accum_steps).backward()\n",
        "            if (step + 1) % accum_steps == 0 or (step + 1) == len(loader):\n",
        "                # Warmup LR\n",
        "                if global_step + optimizer_steps < warmup_steps:\n",
        "                    lr_scale = (global_step + optimizer_steps + 1) / warmup_steps\n",
        "                    start_lr = base_lr * initial_lr_factor\n",
        "                    end_lr = base_lr\n",
        "                    current_lr = start_lr + (end_lr - start_lr) * lr_scale\n",
        "                    for param_group in optimizer.param_groups:\n",
        "                        param_group['lr'] = current_lr\n",
        "                optimizer.step()\n",
        "                optimizer.zero_grad()\n",
        "                optimizer_steps += 1\n",
        "\n",
        "        # Metrics\n",
        "        n_samples += bs\n",
        "        total_loss += loss.item() * bs\n",
        "\n",
        "        with torch.no_grad():\n",
        "            for name in model.target_names:\n",
        "                out = outputs[name]\n",
        "                tgt = targets[name]\n",
        "                if name == 'grade':\n",
        "                    pred = torch.argmax(out, dim=1)\n",
        "                else:\n",
        "                    pred = (torch.sigmoid(out) > 0.5).float()\n",
        "                all_preds[name].append(pred.cpu())\n",
        "                all_targets[name].append(tgt.cpu())\n",
        "                correct[name] += (pred == tgt).sum().item()\n",
        "\n",
        "            # Logging\n",
        "            avg_loss = total_loss / n_samples\n",
        "            postfix = {'loss': f'{avg_loss:.4f}'}\n",
        "            for name in model.target_names:\n",
        "                acc = correct[name] / n_samples\n",
        "                postfix[f'{name}_acc'] = f'{acc:.3f}'\n",
        "            pbar.set_postfix(postfix)\n",
        "\n",
        "    # metrics calc\n",
        "    avg_loss_epoch = total_loss / n_samples\n",
        "    avg_f1_scores = {}\n",
        "    print(f\"\\nEpoch {pbar.desc} finished. Calculating final metrics...\")\n",
        "    for name in model.target_names:\n",
        "        y_true = torch.cat(all_targets[name]).numpy()\n",
        "        y_pred = torch.cat(all_preds[name]).numpy()\n",
        "        if name != 'grade':\n",
        "            y_true = y_true.squeeze()\n",
        "            y_pred = y_pred.squeeze()\n",
        "        f1 = f1_score(y_true, y_pred, average='macro', zero_division=0)\n",
        "        acc = accuracy_score(y_true, y_pred)\n",
        "        avg_f1_scores[f'{name}_macro_f1'] = f1\n",
        "        print(f\"--- {name} ---\")\n",
        "        print(f\"  Macro F1: {f1:.4f}\")\n",
        "        print(f\"  Accuracy: {acc:.4f}\")\n",
        "        print(f\"  Targets: {np.bincount(y_true.astype(int))}\")\n",
        "        print(f\"  Preds:   {np.bincount(y_pred.astype(int))}\")\n",
        "        print(\"-\" * 20)\n",
        "\n",
        "    updated_global_step = global_step + optimizer_steps if is_train else global_step\n",
        "    return avg_loss_epoch, avg_f1_scores, updated_global_step"
      ]
    },
    {
      "cell_type": "code",
      "execution_count": null,
      "id": "2b84a68a",
      "metadata": {
        "execution": {
          "iopub.execute_input": "2025-05-08T12:16:37.827982Z",
          "iopub.status.busy": "2025-05-08T12:16:37.827769Z",
          "iopub.status.idle": "2025-05-08T12:16:37.832054Z",
          "shell.execute_reply": "2025-05-08T12:16:37.831510Z"
        },
        "papermill": {
          "duration": 0.010503,
          "end_time": "2025-05-08T12:16:37.833059",
          "exception": false,
          "start_time": "2025-05-08T12:16:37.822556",
          "status": "completed"
        },
        "tags": [],
        "id": "2b84a68a",
        "outputId": "52d0720e-b10b-4661-ecbb-1485c7dd97c5"
      },
      "outputs": [
        {
          "data": {
            "text/plain": [
              "['IDH1', 'MGMT', '1p/19q', 'grade']"
            ]
          },
          "execution_count": 16,
          "metadata": {},
          "output_type": "execute_result"
        }
      ],
      "source": [
        "all_targets = [\"IDH1\", \"MGMT\", \"1p/19q\", \"grade\"]\n",
        "all_targets"
      ]
    },
    {
      "cell_type": "code",
      "execution_count": null,
      "id": "1f87acc0",
      "metadata": {
        "execution": {
          "iopub.execute_input": "2025-05-08T12:16:37.843060Z",
          "iopub.status.busy": "2025-05-08T12:16:37.842888Z",
          "iopub.status.idle": "2025-05-08T12:16:59.373356Z",
          "shell.execute_reply": "2025-05-08T12:16:59.372450Z"
        },
        "papermill": {
          "duration": 21.536888,
          "end_time": "2025-05-08T12:16:59.374633",
          "exception": false,
          "start_time": "2025-05-08T12:16:37.837745",
          "status": "completed"
        },
        "tags": [],
        "id": "1f87acc0",
        "outputId": "9ca7328c-2747-4f2c-cad0-5b7ea11a3734"
      },
      "outputs": [
        {
          "name": "stdout",
          "output_type": "stream",
          "text": [
            "147\n",
            "139\n",
            "CPU times: user 139 ms, sys: 271 ms, total: 410 ms\n",
            "Wall time: 21.5 s\n"
          ]
        }
      ],
      "source": [
        "%%time\n",
        "dataset_directory = \"/kaggle/input/patients-mri/patients_dcm\"\n",
        "target_filter = \"t1_fl2d_cor\"\n",
        "\n",
        "patients_with_filter = get_patients_with_filter(dataset_directory, target_filter)\n",
        "print(len(patients_with_filter))\n",
        "\n",
        "\n",
        "dataset_directory = \"/kaggle/input/patients-mri/patients_dcm\"\n",
        "target_filter = \"t1_fl2d_cor\"\n",
        "\n",
        "patients_with_filter2 = get_patients_with_filter(dataset_directory, \"t2_tirm_cor_dark-fluid_3mm\")\n",
        "print(len(patients_with_filter2))"
      ]
    },
    {
      "cell_type": "code",
      "execution_count": null,
      "id": "de71ee9e",
      "metadata": {
        "execution": {
          "iopub.execute_input": "2025-05-08T12:16:59.386075Z",
          "iopub.status.busy": "2025-05-08T12:16:59.385597Z",
          "iopub.status.idle": "2025-05-08T12:16:59.392045Z",
          "shell.execute_reply": "2025-05-08T12:16:59.391507Z"
        },
        "papermill": {
          "duration": 0.012855,
          "end_time": "2025-05-08T12:16:59.392957",
          "exception": false,
          "start_time": "2025-05-08T12:16:59.380102",
          "status": "completed"
        },
        "tags": [],
        "id": "de71ee9e"
      },
      "outputs": [],
      "source": [
        "class FocalLoss(nn.Module):\n",
        "    def __init__(self, gamma=2.0, alpha=None, binary=False, multi_label_smoothing=0.0):\n",
        "        super().__init__()\n",
        "        self.gamma = gamma\n",
        "        self.alpha = alpha\n",
        "        self.binary = binary\n",
        "        self.multi_label_smoothing = multi_label_smoothing\n",
        "\n",
        "    def forward(self, inputs, targets):\n",
        "        if self.binary:\n",
        "            # Для бинарной\n",
        "            bce_loss = F.binary_cross_entropy_with_logits(inputs, targets)\n",
        "\n",
        "            probs = torch.sigmoid(inputs)\n",
        "            pt = torch.where(targets == 1, probs, 1 - probs)\n",
        "\n",
        "            # Focal loss\n",
        "            focal_weight = (1 - pt) ** self.gamma\n",
        "\n",
        "            if self.alpha is not None:\n",
        "                alpha_t = torch.where(targets == 1, self.alpha, 1 - self.alpha)\n",
        "                focal_weight = alpha_t * focal_weight\n",
        "\n",
        "            loss = focal_weight * bce_loss\n",
        "        else:\n",
        "            # Для грейда\n",
        "            if self.alpha is not None:\n",
        "                ce_loss = F.cross_entropy(inputs, targets, weight=self.alpha, label_smoothing=self.multi_label_smoothing)\n",
        "            else:\n",
        "                ce_loss = F.cross_entropy(inputs, targets, label_smoothing=self.multi_label_smoothing)\n",
        "\n",
        "            pt = torch.exp(-ce_loss)\n",
        "            loss = (1 - pt) ** self.gamma * ce_loss\n",
        "\n",
        "        return loss"
      ]
    },
    {
      "cell_type": "code",
      "execution_count": null,
      "id": "fd87dc25",
      "metadata": {
        "execution": {
          "iopub.execute_input": "2025-05-08T12:16:59.403827Z",
          "iopub.status.busy": "2025-05-08T12:16:59.403030Z",
          "iopub.status.idle": "2025-05-08T12:16:59.408563Z",
          "shell.execute_reply": "2025-05-08T12:16:59.408061Z"
        },
        "papermill": {
          "duration": 0.011955,
          "end_time": "2025-05-08T12:16:59.409613",
          "exception": false,
          "start_time": "2025-05-08T12:16:59.397658",
          "status": "completed"
        },
        "tags": [],
        "id": "fd87dc25"
      },
      "outputs": [],
      "source": [
        "def compute_inverse_freq_weights(labels, num_classes=None, epsilon=1e-6):\n",
        "    if num_classes is None:\n",
        "        num_classes = np.max(labels) + 1\n",
        "    class_counts = np.bincount(labels.astype(int), minlength=num_classes)\n",
        "    inv_freq = 1.0 / (class_counts + epsilon)\n",
        "    inv_freq = inv_freq / np.sum(inv_freq)\n",
        "    return inv_freq\n",
        "\n",
        "def make_multi_target_sampler(ids, df, target_cols, oversample_factor=1.0, epsilon=1e-6):\n",
        "    df_fold = df.set_index('TargetDirectory').loc[ids]\n",
        "    all_weights = []\n",
        "    for col, num_classes in target_cols.items():\n",
        "        labels = df_fold[col].values\n",
        "        if col == 'grade':\n",
        "            labels = labels - 2\n",
        "        inv_freq = compute_inverse_freq_weights(labels, num_classes, epsilon)\n",
        "        all_weights.append(inv_freq[labels.astype(int)])\n",
        "    sample_weights = np.max(np.stack(all_weights, axis=1), axis=1)  # Maxxing for all the tasks now, possible to take mean to rebalance\n",
        "    num_samples = int(len(ids) * oversample_factor)\n",
        "    return WeightedRandomSampler(weights=sample_weights, num_samples=num_samples, replacement=True)"
      ]
    },
    {
      "cell_type": "code",
      "execution_count": null,
      "id": "5800f2bf",
      "metadata": {
        "execution": {
          "iopub.execute_input": "2025-05-08T12:16:59.420013Z",
          "iopub.status.busy": "2025-05-08T12:16:59.419840Z",
          "iopub.status.idle": "2025-05-08T12:16:59.842815Z",
          "shell.execute_reply": "2025-05-08T12:16:59.842265Z"
        },
        "papermill": {
          "duration": 0.429588,
          "end_time": "2025-05-08T12:16:59.844152",
          "exception": false,
          "start_time": "2025-05-08T12:16:59.414564",
          "status": "completed"
        },
        "tags": [],
        "id": "5800f2bf"
      },
      "outputs": [],
      "source": [
        "N_FOLDS = 5\n",
        "skf = StratifiedKFold(n_splits=N_FOLDS, shuffle=True, random_state=42)\n",
        "\n",
        "united = list(set(patients_with_filter) & set(patients_with_filter2) & set(notnull))\n",
        "len(united)\n",
        "\n",
        "strat_labels = []\n",
        "for pid in united:\n",
        "    g = int(df_targets.query(\"TargetDirectory == @pid\")['grade'].iloc[0])\n",
        "    strat_labels.append(g)"
      ]
    },
    {
      "cell_type": "code",
      "execution_count": null,
      "id": "4a203210",
      "metadata": {
        "execution": {
          "iopub.execute_input": "2025-05-08T12:16:59.855616Z",
          "iopub.status.busy": "2025-05-08T12:16:59.855147Z",
          "iopub.status.idle": "2025-05-08T16:34:44.918596Z",
          "shell.execute_reply": "2025-05-08T16:34:44.917672Z"
        },
        "papermill": {
          "duration": 15465.070361,
          "end_time": "2025-05-08T16:34:44.919864",
          "exception": false,
          "start_time": "2025-05-08T12:16:59.849503",
          "status": "completed"
        },
        "tags": [],
        "colab": {
          "referenced_widgets": [
            "5182972ee33746a19f925f9cfa0be6c2",
            "22b871f7232f486f983cad910ded2bf0",
            "dbb158817871438389ee8db48d47fef0",
            "7a0d47369e434d8d98f6cfcb068309b0",
            "c7a1856a90b340938e05265352dbd124",
            "2dedbf87285441bfa58a4554aa76f361",
            "b94cd8161ecc4f98b530d93908ea99e4",
            "763fc946a3c94a77ab77a63d9004bafc",
            "06ea3c700ccd45399b4d62d163876051",
            "03c80d0ada84424db963bb549552d368",
            "cb1ea0380da5485999a5716dd6165997",
            "219f0cadcbf5410e83a1b682b64e9988",
            "5784b5250dfe4c41ae1475fd25c98a65",
            "0e4aa8ae1dde4f83a73c686b3045a05f",
            "65718dae434f4f4395666bea3d551fd8",
            "0464dab6db594e9aa48284889f7ff6ef",
            "b99232b607f149f2b26b227aa55c3b64",
            "15a0df4a09ad486983d7572de393e8ed",
            "ef731ce6c1f04705969a8c1ec0221f2b",
            "945c803b5dee4134aca3006db5d3eb19",
            "802d85a0c71e434bbf6e0d90bc5b5c6d",
            "f41bb6daa1d0426a9df555e3dea2c3d9",
            "4bbb4364e76e421f93302b172470c1c3",
            "4dfdc204631c4e158af9e19555b9aa24",
            "b513392c6c814db7b56afbb0feb65183",
            "643a9d88493a48da85ac3fe992773ca4",
            "c3ab340e9f8a43a294c4145b36bd49f3",
            "f0679d9a4dd3497c84a958997cf5907b",
            "225c334c5db249ca97f81d8ff387d087",
            "a40ed4b1719049a6b84f75e0704c6ac9",
            "eeae714ad2b8403c8cdd7bd47a1236a7",
            "6372f4cd5dc7407bbe37bde333b69700",
            "6386e364851b458698ee5b9f40b082ba",
            "4345d780de984f70a3b87049ea143520",
            "8c0613239cf3426385c2aeda6d782d1e",
            "3cc62e321e7446c49a029ae63b28f5d6",
            "35e536b984f14e138939430cb5c9bc70",
            "f613ff4d5b3a44a29ef5dac3d355c700",
            "ff7ed69bf16a4f588b32214b1f3bdecf",
            "2226c229cf324e8dadb036747e7c0e1c",
            "4417e94df59e45f58e37c2796b7d90df",
            "b09d8546a9004c7bbf3e8e31ff009e70",
            "f02f5d2a56254b219d6c8d68f2c4225f",
            "bec129e2234442fcaca954ca7a27e67b",
            "7ce2b24c68134c748ebb4c8cf93021d5",
            "ac41885529e94fcc94bc856d5567090d",
            "1f0f84856fce493780caafc7f6976ebe",
            "8e84725b2ddb49b894678d8461022121",
            "5ab48b19e54b4189a0794b5ca44952d9",
            "257f1a9dccb34be69bd1276f7815d72a",
            "99256693c78f4e75b618ddc73e6fd9f0",
            "fd866530aeb94f57bbd9513557811500",
            "4cff9874a1ec4785bfcfc57df3890f04",
            "452c2173a3ed4c44a90a2974949a65ca",
            "ebe0d74d7a6543968337e63f944fb450",
            "e5e659c6ef3e4023ba28a138a1b696ff",
            "9bb7f0a929c24c5488f7615181fa829a",
            "36f974ea9d1a44fabed88a76a694f2b4",
            "47fd745caa8042d9a2059e89bbcd3290",
            "13f6fa864b024601bc9dff612124eee5",
            "6888baa329234f8d85f47527f52609fc",
            "cf162a5a2d46460c917ea63a7858e54b",
            "eee65c85af634bee83f04422783206f7",
            "5695fcf2c01d4201bd2d2f3b3c4f0766",
            "018df8682f82471aad76e6c04ef81f15",
            "8a3ea3ca497540d791d940f35638ccea",
            "327cfc7e13fd4080820fefa3d4a4f8ae",
            "63b8a502244a45c192c70c65f043ee65",
            "9099aecdca874e81801b63f20dcb2b32",
            "e4aec3fab7d04bf289149640631884f7",
            "9d2e0b568a464368a5a979182b837224",
            "90b3eb057a5340d79af917c0553c8fb6",
            "d1346ece6ac143279da62eb06abea81f",
            "d1d5b4dc4e844fa98c49bf4d7732d15b",
            "8c74150056b34661b532cbeb41b9aa4c",
            "ce2dbc5283d6439e9d207ebd5cbceb1d",
            "38b638df4b414957b25fbdddd29b23a6",
            "fd63de6ce0b34bb9afdde88d8387456d",
            "8e9c8e9a0ead468da064fcf7c85899bf",
            "552f1e49ea6c40edab0c1299a42594d2",
            "b2956c2246d74faf81dac6934a3f9f7f",
            "35061997f9034b19b5fdded28a3eea49",
            "0de20926746547df93004d7deb6c3055",
            "548b473ad24a40968856eae9c2ac3653",
            "b5aec17212f548f5b19925e80ba82041",
            "6df3248abe6042c480a51e3b6001e1ff",
            "1f64af1628cc4d1ba5062d8c386b4333",
            "8e3de1564c7d44c2a450e8d1ecc4057a",
            "d68b270372ae45b996897c0e07dc01d3",
            "221252e831164c72b1b304e10e8a8906",
            "9420bb7f715841d6ae6fb46415e765df",
            "86cf63b7b19140beb799b8ce81857c12",
            "16c81bcfd7a9427aaba06fc04d0ea839",
            "0e17ea3a0deb44ab9dadc96437de90dd",
            "d7ec28175dd64f7381f31d6427670305",
            "1e52d38dbd7445f2b91343b3d508d20d",
            "6dd00d1398ad4efcad1c038f0efd696a",
            "20bb1ed6939540609dc4b3fc3c7ecbe9",
            "ebc2bf959147482eb8298d8383a202f2",
            "e73396b5a6684135a56fba0fd613ad78",
            "3b23b7d65c6d49259f1eeac6ea0a56cd",
            "5c5beca769ec4edf9b9e69d196f019c3",
            "a62255aa23144834b28b29e842333cef",
            "ef3dbecb89e74df396abda8201bb07fc",
            "effebd7171934c80a979f78c4da67ed5",
            "7de34e8f678744b187ac3d606e763bb0",
            "5f093d09b2a049e584c3c9a35d0b21e7",
            "db628b8c62b84039bb1e3638dd32b998",
            "87356e7a7c9f4e6a85c24f80cec2ee90",
            "02a6e7d9663f478ba2bad741c48e304e",
            "588f0e122b7746a2a6dd436029e67c55",
            "c538466e1ae5432ca7303150c8b6aa5a",
            "a3632850bc914f94b031d6b4c244c6ac",
            "d451bb91fe6047f0b9e1aec2f381f64d",
            "4a0e7260ae674869bd4089efa67ad46c",
            "4aa0591c4364461fb406ba81a29c32e9",
            "9e4370fe30a84da796cde13686e4749a",
            "5e23761539c2459986bf63dbc4e3ca33",
            "b01a513a77f44d358c2f39e66e1a38cf",
            "01f16f0515f54a5fbf5546193acf0c1b",
            "da332e7017e841399611da00d36834ee",
            "8c76eb0fe5c64ac9a0a03c9f30e706b1",
            "8913ea63ff0d463d8c1ee204137408d4",
            "9af3b20031e34487853711a6282ce0fd",
            "e3f9091d08564fe8b24e59915808cdbc",
            "61b78e3188a348f19695cc9e97a75f75",
            "d4c80b6f3b9348d3846d67021491f0c6",
            "feb612c1f1f34f40bbfa88f08f793b70",
            "0e0b8eb911f0411d9ac8921563d3f096",
            "fdda03d9cd004a2bbd17970a6f2fea4a",
            "60cc86bf298749d1809c172533dd8737",
            "f7f5ebc8fc214925a2511fd96fe6b83e",
            "65457d52a7f34f5eaac3a17420159ccf",
            "8a87e9f254844e74a26b1cef42191a61",
            "f4f8a9e1b0bf410096ebd0a719df3ecb",
            "1ef7c27ec3d341af9997d418ef515988",
            "d6476046c35a4b0aacc19985acf53f82",
            "be4c571d72984c059fbe6c7c28077377",
            "82bf77ec26e34d98a85bab71d4ee8850",
            "3542647b26d14bc580cc93c6f30d9e93",
            "30de0c81a2de4fd999f97f8db137c090",
            "ff96e2c3c54142d89806bcd0e63d5999",
            "9b8e822e77c247c183e7dc3fccde43a9",
            "63395160c1aa48578eda17b3b95ebdc7",
            "3e906a3e5ac04b969ffb47af98b03e54",
            "2ee324e04cea4913a9b1e2004c9c94bb",
            "0d6a22081dee4da18a0583cd874b94a0",
            "52d27d81787a4d53ade439d3bd3620b3",
            "a905c795a62d473aa50cadca717536bb",
            "be940963a6fc49c690071af764036f00",
            "63610dbaf84a422ea846ddbede351945",
            "92b8bf723e314bc5bfa7140a2b822fb8",
            "6c25ebb3dce2406fa938d3319497ef05",
            "ec484e912d244f9bacdbe6d3584efaa3",
            "9c4691b16e794832be46a759dd743569",
            "a4fc481b7439499f83144a7d791361be",
            "0f5906578f114e27ab26d4e39a0a7eb9",
            "1ac35601582549239ac0b89bfcb86f68",
            "f1f9870b101d4794bdefbcb15f92f97e",
            "6ee9156098dc476284c9418be1ffba87",
            "e977d794e283401e96ccffc3125a1276",
            "2f9301ed46ac4abba21102aa16ba5baa",
            "9f2c723a0a8a480f874f017795a6ccd7",
            "76c71653b1fd4a99b621deda918420ee",
            "7524c8502923477581f76bb5c74ed1c6",
            "6fa90fd8e41b4f019f78b58b529bfb12",
            "aa978ef41fa34990af5c1e1fa651727f",
            "9a3bd33295424e0c95942375832174de",
            "273c853e1a6a43a8a3ba1e4949590004",
            "b704763082404906ba00e7aa099383d9",
            "23519247d47d49bcb5b21a938dba9538",
            "6617a3ba62904d899faedaadb81482b6",
            "551b38fa15434502841ac28e537e5db2",
            "effb836c2d414bf1a967090b52d18424",
            "2cc137ba1fe84f9ea0252e5fc808aa7e",
            "d1c7f1d751a7416ea9201f8e816a518f",
            "cbee4e22357040dea4d431d9e23719c7",
            "bb98719bde584e82af7d048b92f203f0",
            "318247960d95413998641801487e6833",
            "55770e7275624a94b4c46308ee735b16",
            "e1b4e6721ba14c4aaa1866b005e3423b",
            "0ec1b9a45d804a3a8f956b04d4254206",
            "b6cb48bedfd646f1b54addf700732754",
            "dbacf708a8524372a74784377aab2000",
            "85f2fdaa58ba46a2a54285281820d3ba",
            "a3e298ef6a9d42da8ad9a0408989b421",
            "6b9ad967c15949c491b300cb305c1ca6",
            "b4afa697b36243f7be41f13c827f8488",
            "31a85f2e2c644c5d87a227ceb37316d4",
            "893454993b6149e59629a92c6123ad8f",
            "51c55c29f3144870bd93ce6bdc4054cb",
            "bbe68f59687743238c2ae4a8e2d8e766",
            "b0c09d50455f406b951fd1371fbb6dfa",
            "62bddf9281334535ab8c8422580648fc",
            "66bd62918b304300855cd355eff78d55",
            "ef871ec47c504376b5da4751aa4e6066",
            "8dd39bee504b4c0884475bdcc847ae43",
            "ccae314ca1fa4c628db22427168a09f1",
            "1c4633916dc745ed90456e9b43812011",
            "ad963e9f1ca849ecb5c0e82457047486",
            "caa37560539a4247a91d6e355f9c2050",
            "e0b7653a81324ca4b753b1af7a9d9ea7",
            "43e9eff00ed04f6195f8205a55842323",
            "9bb25b09b0a946f382126397e895cf56",
            "df2add6de28043f5a92c6ed0da79dc12",
            "dc30056c93764d7e9c25b7da3439dc58",
            "c5d7a98b486148feb0db06c12db261fd",
            "a423b2660c6a4a3ca5e59883178f9ade",
            "b871e07606474ba8bad45f0c08ab235a",
            "87b9d31661c04a2eb2de08f3cf59a1a4",
            "1d382fbf4760454da8d1139ad4243777",
            "2905757619894e3a9c0f5df25ee02551",
            "9697c47c1e3f48a6a478e7cddbde294b",
            "2fd8fc8ec9f6409a9fe06f60ed38cf49",
            "0af119cacb6d4cba9894d4dea43cca61",
            "093a50a7e06f4d9881041e778bdb9142",
            "11195bed624240698699045f0d4ca85a",
            "f37ac249e6e04cce9f96c07bd9d79473",
            "a1508e91588d489f8890a723f6b73132",
            "001d06bebd0b412bb2b8157f27cb0ae6",
            "5728fafb41e54cda81306f596dd33e36",
            "c01df6ceede245bfbf21953f839c503b",
            "6d1b4646f2164f9c8d107301baf6857e",
            "b9dcc8419c0f4a78a058218c3ea0fec9",
            "81ecfe54a87747bd97bee43a21a0df6b",
            "2ff334e7d7e74dc8956c4c1bb30b6772",
            "7204e2a7d6334ae49e222456162e6251",
            "7e6f3f80c3d44b16aa1881205953a58b",
            "ff19c6ba1ca146049f879f4e634e5b6e",
            "f2c5529706884173a7971e7539fd7ca8",
            "4a50aff0fc5b41068523cc96f71f81b4",
            "6cd7f33fb9d64752ac173cbd22023caa",
            "9eba684fa70048d3b741cdba0c3916cf",
            "171e28d27ba64a4d8d7c069a696c51b0",
            "56338dfe1d3a47989e070cf98d6e498e",
            "0f25fdbf4d854f19bbd5019058b77c70",
            "419dd819e6004847927b79be7ef9068c",
            "405f268a693841d2845dcc2ff4c46ea5",
            "916e2f89c84e488cb170a36c01abf7f4",
            "254bab2d109942ecacfe3723b7eb783e",
            "23a442100d3e45e2bbaa9f1d4855d04d",
            "54699452b59f4d10b5fc765cbc542c6e",
            "9cc4d051d70346bd8d948b005b8b654c",
            "e95e5ef06b2f41b58953383016cb8277",
            "26f19f508b3247c2bdf346200143f91a",
            "ca12c4b37d61403ab5f8110f01df985d",
            "be844607278340339a90ae76b868f64d",
            "40009755d04b4b73a87ecb6bb9d0179f",
            "5948c13969e442e58bc2890d266aa623",
            "88a0a54daef5493db5ec1fe774497d58",
            "7343fa69122a4c59b5e66e43166a9a77",
            "3cc389072ffa43e18d67c0ac5c75bf51",
            "8cdc4ef0fa864e24a95eda5fa675f8b2",
            "311cf5e7a9fb465c8e2141b0b3bc1b6b",
            "d79105befcf7412daddd50d69387e3e1",
            "7a222a84b1984cacbd6c79800d4c0f69",
            "135545c427594723ab0e95164e0d2a0a",
            "d4f8c7bc944945c8b3cb04c3eb2ddcd4",
            "a26a9facffb5471e8d41fc9fe3090701",
            "756e03eff027494d9eafe8e6a10850dc",
            "760bbf36cfc84181a6b7c8a867b2e62e",
            "5a9faee4788746009da516716c57b69f",
            "507aea51763a413c881d29a0c4b39dc8",
            "339824b9c458468a8e1c9c4ec8afdcd0",
            "db71dccf0a3f433d8cafa19fdd0e25c3",
            "b4c6bde5839e45cf91f0437d669743c2",
            "433f468272894cb589e831e8bbbed770",
            "e0245e071e274d04a68167d1fddcaf72",
            "e9fe93d30fef49e8b88257bb4f4e33ac",
            "d9cdf5b6ede34aa1b92383e6a5c211b8",
            "bda7556163204b1e81a6ab796d0a57dc",
            "e4c94aaa61484587b9c04c3bf3d23b38",
            "12b988f076724d13996660db3c294ff6",
            "5f20d8b851174c4bb9d62aa047e1d6aa",
            "6848016576c14dedb1d8fb7a5f0832bc",
            "d306a2c566434848a1cd061bbabce80b",
            "d31080b87760495c94ea8e8b4f97f64d",
            "26f23ededda24563852c4d05fc6f58aa",
            "6882728ab43142208ccab051968ede98",
            "dfc455c3222a45f69bc3e218740d07ac",
            "97846d7d296b409d9dce9d5370bdfaa8",
            "342293d11f764054bbb7c077a563d4a3",
            "92fd53c4e4104ba5b8b025310d14d161",
            "578a2d85f1cd4758b70947ba069376d6",
            "02761e470246455790e530623b1ca841",
            "63ecfafd7cdc443187a2665f278ba0f4",
            "beea2d6fb8774ddfa6a2173946f0beb3",
            "164d756193cf4a9ea90253e270b3dba6",
            "637dc1659ddf4d23afe8f76a1814e944",
            "311b742879114872b9b65cb7a96e78ad",
            "c8bfc0446462459fbc136342739b7e37",
            "1999b66409504a08962145f42ca9f8e7",
            "668d576ed96c4f6194ea2147bf62742e",
            "7eb750ce310346a3b247f9b3cc97b442",
            "26b683f85b6942ea81c82942c3e2488e",
            "efa56b91beb4478c92cfba7416fa08ab",
            "b3ab230690204e6482a57d18989b4726",
            "8762c8ef210b446a94204c13956907c9",
            "7a7a498364ea49ebb5c931d766a729b3",
            "5b826f5ad96748eb8567c92239e0d1fb"
          ]
        },
        "id": "4a203210",
        "outputId": "193169cd-ae9a-4096-f867-d81c0cd86635"
      },
      "outputs": [
        {
          "name": "stdout",
          "output_type": "stream",
          "text": [
            "\n",
            "==========  FOLD 1/5  (96 train / 24 val) ==========\n",
            "Warmup: 5 epochs, 60 steps, LR start factor: 0.01\n",
            "\n",
            "--- Fold 1 | Epoch 1/30 ---\n"
          ]
        },
        {
          "name": "stderr",
          "output_type": "stream",
          "text": [
            "/usr/local/lib/python3.11/dist-packages/torch/optim/lr_scheduler.py:62: UserWarning: The verbose parameter is deprecated. Please use get_last_lr() to access the learning rate.\n",
            "  warnings.warn(\n"
          ]
        },
        {
          "data": {
            "application/vnd.jupyter.widget-view+json": {
              "model_id": "5182972ee33746a19f925f9cfa0be6c2",
              "version_major": 2,
              "version_minor": 0
            },
            "text/plain": [
              "train:   0%|          | 0/192 [00:00<?, ?it/s]"
            ]
          },
          "metadata": {},
          "output_type": "display_data"
        },
        {
          "name": "stdout",
          "output_type": "stream",
          "text": [
            "\n",
            "Epoch train finished. Calculating final metrics...\n",
            "--- IDH1 ---\n",
            "  Macro F1: 0.3379\n",
            "  Accuracy: 0.5104\n",
            "  Targets: [94 98]\n",
            "  Preds:   [  0 192]\n",
            "--------------------\n",
            "--- MGMT ---\n",
            "  Macro F1: 0.3786\n",
            "  Accuracy: 0.6094\n",
            "  Targets: [117  75]\n",
            "  Preds:   [192]\n",
            "--------------------\n",
            "--- 1p/19q ---\n",
            "  Macro F1: 0.4861\n",
            "  Accuracy: 0.6146\n",
            "  Targets: [133  59]\n",
            "  Preds:   [155  37]\n",
            "--------------------\n",
            "--- grade ---\n",
            "  Macro F1: 0.2199\n",
            "  Accuracy: 0.3542\n",
            "  Targets: [27 75 90]\n",
            "  Preds:   [ 18 172   2]\n",
            "--------------------\n"
          ]
        },
        {
          "data": {
            "application/vnd.jupyter.widget-view+json": {
              "model_id": "22b871f7232f486f983cad910ded2bf0",
              "version_major": 2,
              "version_minor": 0
            },
            "text/plain": [
              "valid:   0%|          | 0/24 [00:00<?, ?it/s]"
            ]
          },
          "metadata": {},
          "output_type": "display_data"
        },
        {
          "name": "stdout",
          "output_type": "stream",
          "text": [
            "\n",
            "Epoch valid finished. Calculating final metrics...\n",
            "--- IDH1 ---\n",
            "  Macro F1: 0.2727\n",
            "  Accuracy: 0.3750\n",
            "  Targets: [15  9]\n",
            "  Preds:   [ 0 24]\n",
            "--------------------\n",
            "--- MGMT ---\n",
            "  Macro F1: 0.3143\n",
            "  Accuracy: 0.4583\n",
            "  Targets: [11 13]\n",
            "  Preds:   [24]\n",
            "--------------------\n",
            "--- 1p/19q ---\n",
            "  Macro F1: 0.4286\n",
            "  Accuracy: 0.7500\n",
            "  Targets: [18  6]\n",
            "  Preds:   [24]\n",
            "--------------------\n",
            "--- grade ---\n",
            "  Macro F1: 0.1505\n",
            "  Accuracy: 0.2917\n",
            "  Targets: [ 3  7 14]\n",
            "  Preds:   [ 0 24]\n",
            "--------------------\n",
            "Epoch 1: train_loss=3.4308, val_loss=3.2000, LR=0.000062\n",
            "Train Macro F1: {'IDH1_macro_f1': '0.3379', 'MGMT_macro_f1': '0.3786', '1p/19q_macro_f1': '0.4861', 'grade_macro_f1': '0.2199'}\n",
            "Val Macro F1: {'IDH1_macro_f1': '0.2727', 'MGMT_macro_f1': '0.3143', '1p/19q_macro_f1': '0.4286', 'grade_macro_f1': '0.1505'}\n",
            "Warmup phase (Epoch 1/5). LR controlled manually. Current LR: 0.000062\n",
            "Validation F1 ('grade') improved (-inf --> 0.1505). Saving model...\n",
            "\n",
            "--- Fold 1 | Epoch 2/30 ---\n"
          ]
        },
        {
          "data": {
            "application/vnd.jupyter.widget-view+json": {
              "model_id": "dbb158817871438389ee8db48d47fef0",
              "version_major": 2,
              "version_minor": 0
            },
            "text/plain": [
              "train:   0%|          | 0/192 [00:00<?, ?it/s]"
            ]
          },
          "metadata": {},
          "output_type": "display_data"
        },
        {
          "name": "stdout",
          "output_type": "stream",
          "text": [
            "\n",
            "Epoch train finished. Calculating final metrics...\n",
            "--- IDH1 ---\n",
            "  Macro F1: 0.4195\n",
            "  Accuracy: 0.5104\n",
            "  Targets: [93 99]\n",
            "  Preds:   [ 23 169]\n",
            "--------------------\n",
            "--- MGMT ---\n",
            "  Macro F1: 0.3752\n",
            "  Accuracy: 0.5729\n",
            "  Targets: [119  73]\n",
            "  Preds:   [181  11]\n",
            "--------------------\n",
            "--- 1p/19q ---\n",
            "  Macro F1: 0.4860\n",
            "  Accuracy: 0.5208\n",
            "  Targets: [145  47]\n",
            "  Preds:   [97 95]\n",
            "--------------------\n",
            "--- grade ---\n",
            "  Macro F1: 0.1898\n",
            "  Accuracy: 0.3125\n",
            "  Targets: [25 72 95]\n",
            "  Preds:   [ 25 165   2]\n",
            "--------------------\n"
          ]
        },
        {
          "data": {
            "application/vnd.jupyter.widget-view+json": {
              "model_id": "7a0d47369e434d8d98f6cfcb068309b0",
              "version_major": 2,
              "version_minor": 0
            },
            "text/plain": [
              "valid:   0%|          | 0/24 [00:00<?, ?it/s]"
            ]
          },
          "metadata": {},
          "output_type": "display_data"
        },
        {
          "name": "stdout",
          "output_type": "stream",
          "text": [
            "\n",
            "Epoch valid finished. Calculating final metrics...\n",
            "--- IDH1 ---\n",
            "  Macro F1: 0.7078\n",
            "  Accuracy: 0.7083\n",
            "  Targets: [15  9]\n",
            "  Preds:   [10 14]\n",
            "--------------------\n",
            "--- MGMT ---\n",
            "  Macro F1: 0.3143\n",
            "  Accuracy: 0.4583\n",
            "  Targets: [11 13]\n",
            "  Preds:   [24]\n",
            "--------------------\n",
            "--- 1p/19q ---\n",
            "  Macro F1: 0.2000\n",
            "  Accuracy: 0.2500\n",
            "  Targets: [18  6]\n",
            "  Preds:   [ 0 24]\n",
            "--------------------\n",
            "--- grade ---\n",
            "  Macro F1: 0.1505\n",
            "  Accuracy: 0.2917\n",
            "  Targets: [ 3  7 14]\n",
            "  Preds:   [ 0 24]\n",
            "--------------------\n",
            "Epoch 2: train_loss=3.3439, val_loss=3.1415, LR=0.000122\n",
            "Train Macro F1: {'IDH1_macro_f1': '0.4195', 'MGMT_macro_f1': '0.3752', '1p/19q_macro_f1': '0.4860', 'grade_macro_f1': '0.1898'}\n",
            "Val Macro F1: {'IDH1_macro_f1': '0.7078', 'MGMT_macro_f1': '0.3143', '1p/19q_macro_f1': '0.2000', 'grade_macro_f1': '0.1505'}\n",
            "Warmup phase (Epoch 2/5). LR controlled manually. Current LR: 0.000122\n",
            "\n",
            "--- Fold 1 | Epoch 3/30 ---\n"
          ]
        },
        {
          "data": {
            "application/vnd.jupyter.widget-view+json": {
              "model_id": "c7a1856a90b340938e05265352dbd124",
              "version_major": 2,
              "version_minor": 0
            },
            "text/plain": [
              "train:   0%|          | 0/192 [00:00<?, ?it/s]"
            ]
          },
          "metadata": {},
          "output_type": "display_data"
        },
        {
          "name": "stdout",
          "output_type": "stream",
          "text": [
            "\n",
            "Epoch train finished. Calculating final metrics...\n",
            "--- IDH1 ---\n",
            "  Macro F1: 0.4636\n",
            "  Accuracy: 0.5000\n",
            "  Targets: [107  85]\n",
            "  Preds:   [135  57]\n",
            "--------------------\n",
            "--- MGMT ---\n",
            "  Macro F1: 0.4840\n",
            "  Accuracy: 0.4896\n",
            "  Targets: [116  76]\n",
            "  Preds:   [96 96]\n",
            "--------------------\n",
            "--- 1p/19q ---\n",
            "  Macro F1: 0.2466\n",
            "  Accuracy: 0.3177\n",
            "  Targets: [132  60]\n",
            "  Preds:   [  1 191]\n",
            "--------------------\n",
            "--- grade ---\n",
            "  Macro F1: 0.1792\n",
            "  Accuracy: 0.3125\n",
            "  Targets: [ 27  59 106]\n",
            "  Preds:   [  6 182   4]\n",
            "--------------------\n"
          ]
        },
        {
          "data": {
            "application/vnd.jupyter.widget-view+json": {
              "model_id": "2dedbf87285441bfa58a4554aa76f361",
              "version_major": 2,
              "version_minor": 0
            },
            "text/plain": [
              "valid:   0%|          | 0/24 [00:00<?, ?it/s]"
            ]
          },
          "metadata": {},
          "output_type": "display_data"
        },
        {
          "name": "stdout",
          "output_type": "stream",
          "text": [
            "\n",
            "Epoch valid finished. Calculating final metrics...\n",
            "--- IDH1 ---\n",
            "  Macro F1: 0.3846\n",
            "  Accuracy: 0.6250\n",
            "  Targets: [15  9]\n",
            "  Preds:   [24]\n",
            "--------------------\n",
            "--- MGMT ---\n",
            "  Macro F1: 0.3514\n",
            "  Accuracy: 0.5417\n",
            "  Targets: [11 13]\n",
            "  Preds:   [ 0 24]\n",
            "--------------------\n",
            "--- 1p/19q ---\n",
            "  Macro F1: 0.2000\n",
            "  Accuracy: 0.2500\n",
            "  Targets: [18  6]\n",
            "  Preds:   [ 0 24]\n",
            "--------------------\n",
            "--- grade ---\n",
            "  Macro F1: 0.1505\n",
            "  Accuracy: 0.2917\n",
            "  Targets: [ 3  7 14]\n",
            "  Preds:   [ 0 24]\n",
            "--------------------\n",
            "Epoch 3: train_loss=3.2791, val_loss=3.1100, LR=0.000181\n",
            "Train Macro F1: {'IDH1_macro_f1': '0.4636', 'MGMT_macro_f1': '0.4840', '1p/19q_macro_f1': '0.2466', 'grade_macro_f1': '0.1792'}\n",
            "Val Macro F1: {'IDH1_macro_f1': '0.3846', 'MGMT_macro_f1': '0.3514', '1p/19q_macro_f1': '0.2000', 'grade_macro_f1': '0.1505'}\n",
            "Warmup phase (Epoch 3/5). LR controlled manually. Current LR: 0.000181\n",
            "\n",
            "--- Fold 1 | Epoch 4/30 ---\n"
          ]
        },
        {
          "data": {
            "application/vnd.jupyter.widget-view+json": {
              "model_id": "b94cd8161ecc4f98b530d93908ea99e4",
              "version_major": 2,
              "version_minor": 0
            },
            "text/plain": [
              "train:   0%|          | 0/192 [00:00<?, ?it/s]"
            ]
          },
          "metadata": {},
          "output_type": "display_data"
        },
        {
          "name": "stdout",
          "output_type": "stream",
          "text": [
            "\n",
            "Epoch train finished. Calculating final metrics...\n",
            "--- IDH1 ---\n",
            "  Macro F1: 0.4492\n",
            "  Accuracy: 0.5104\n",
            "  Targets: [100  92]\n",
            "  Preds:   [156  36]\n",
            "--------------------\n",
            "--- MGMT ---\n",
            "  Macro F1: 0.4187\n",
            "  Accuracy: 0.4427\n",
            "  Targets: [120  72]\n",
            "  Preds:   [ 33 159]\n",
            "--------------------\n",
            "--- 1p/19q ---\n",
            "  Macro F1: 0.2131\n",
            "  Accuracy: 0.2708\n",
            "  Targets: [140  52]\n",
            "  Preds:   [  0 192]\n",
            "--------------------\n",
            "--- grade ---\n",
            "  Macro F1: 0.2893\n",
            "  Accuracy: 0.3333\n",
            "  Targets: [ 26  60 106]\n",
            "  Preds:   [  8 131  53]\n",
            "--------------------\n"
          ]
        },
        {
          "data": {
            "application/vnd.jupyter.widget-view+json": {
              "model_id": "763fc946a3c94a77ab77a63d9004bafc",
              "version_major": 2,
              "version_minor": 0
            },
            "text/plain": [
              "valid:   0%|          | 0/24 [00:00<?, ?it/s]"
            ]
          },
          "metadata": {},
          "output_type": "display_data"
        },
        {
          "name": "stdout",
          "output_type": "stream",
          "text": [
            "\n",
            "Epoch valid finished. Calculating final metrics...\n",
            "--- IDH1 ---\n",
            "  Macro F1: 0.7078\n",
            "  Accuracy: 0.7083\n",
            "  Targets: [15  9]\n",
            "  Preds:   [10 14]\n",
            "--------------------\n",
            "--- MGMT ---\n",
            "  Macro F1: 0.3514\n",
            "  Accuracy: 0.5417\n",
            "  Targets: [11 13]\n",
            "  Preds:   [ 0 24]\n",
            "--------------------\n",
            "--- 1p/19q ---\n",
            "  Macro F1: 0.2000\n",
            "  Accuracy: 0.2500\n",
            "  Targets: [18  6]\n",
            "  Preds:   [ 0 24]\n",
            "--------------------\n",
            "--- grade ---\n",
            "  Macro F1: 0.1505\n",
            "  Accuracy: 0.2917\n",
            "  Targets: [ 3  7 14]\n",
            "  Preds:   [ 0 24]\n",
            "--------------------\n",
            "Epoch 4: train_loss=3.2375, val_loss=3.0925, LR=0.000241\n",
            "Train Macro F1: {'IDH1_macro_f1': '0.4492', 'MGMT_macro_f1': '0.4187', '1p/19q_macro_f1': '0.2131', 'grade_macro_f1': '0.2893'}\n",
            "Val Macro F1: {'IDH1_macro_f1': '0.7078', 'MGMT_macro_f1': '0.3514', '1p/19q_macro_f1': '0.2000', 'grade_macro_f1': '0.1505'}\n",
            "Warmup phase (Epoch 4/5). LR controlled manually. Current LR: 0.000241\n",
            "\n",
            "--- Fold 1 | Epoch 5/30 ---\n"
          ]
        },
        {
          "data": {
            "application/vnd.jupyter.widget-view+json": {
              "model_id": "06ea3c700ccd45399b4d62d163876051",
              "version_major": 2,
              "version_minor": 0
            },
            "text/plain": [
              "train:   0%|          | 0/192 [00:00<?, ?it/s]"
            ]
          },
          "metadata": {},
          "output_type": "display_data"
        },
        {
          "name": "stdout",
          "output_type": "stream",
          "text": [
            "\n",
            "Epoch train finished. Calculating final metrics...\n",
            "--- IDH1 ---\n",
            "  Macro F1: 0.5108\n",
            "  Accuracy: 0.5156\n",
            "  Targets: [103  89]\n",
            "  Preds:   [108  84]\n",
            "--------------------\n",
            "--- MGMT ---\n",
            "  Macro F1: 0.4302\n",
            "  Accuracy: 0.4896\n",
            "  Targets: [104  88]\n",
            "  Preds:   [ 26 166]\n",
            "--------------------\n",
            "--- 1p/19q ---\n",
            "  Macro F1: 0.4010\n",
            "  Accuracy: 0.4010\n",
            "  Targets: [141  51]\n",
            "  Preds:   [ 50 142]\n",
            "--------------------\n",
            "--- grade ---\n",
            "  Macro F1: 0.4027\n",
            "  Accuracy: 0.4219\n",
            "  Targets: [28 75 89]\n",
            "  Preds:   [ 23 124  45]\n",
            "--------------------\n"
          ]
        },
        {
          "data": {
            "application/vnd.jupyter.widget-view+json": {
              "model_id": "03c80d0ada84424db963bb549552d368",
              "version_major": 2,
              "version_minor": 0
            },
            "text/plain": [
              "valid:   0%|          | 0/24 [00:00<?, ?it/s]"
            ]
          },
          "metadata": {},
          "output_type": "display_data"
        },
        {
          "name": "stdout",
          "output_type": "stream",
          "text": [
            "\n",
            "Epoch valid finished. Calculating final metrics...\n",
            "--- IDH1 ---\n",
            "  Macro F1: 0.7500\n",
            "  Accuracy: 0.7500\n",
            "  Targets: [15  9]\n",
            "  Preds:   [ 9 15]\n",
            "--------------------\n",
            "--- MGMT ---\n",
            "  Macro F1: 0.3514\n",
            "  Accuracy: 0.5417\n",
            "  Targets: [11 13]\n",
            "  Preds:   [ 0 24]\n",
            "--------------------\n",
            "--- 1p/19q ---\n",
            "  Macro F1: 0.6080\n",
            "  Accuracy: 0.6250\n",
            "  Targets: [18  6]\n",
            "  Preds:   [11 13]\n",
            "--------------------\n",
            "--- grade ---\n",
            "  Macro F1: 0.1505\n",
            "  Accuracy: 0.2917\n",
            "  Targets: [ 3  7 14]\n",
            "  Preds:   [ 0 24]\n",
            "--------------------\n",
            "Epoch 5: train_loss=3.3995, val_loss=3.1057, LR=0.000300\n",
            "Train Macro F1: {'IDH1_macro_f1': '0.5108', 'MGMT_macro_f1': '0.4302', '1p/19q_macro_f1': '0.4010', 'grade_macro_f1': '0.4027'}\n",
            "Val Macro F1: {'IDH1_macro_f1': '0.7500', 'MGMT_macro_f1': '0.3514', '1p/19q_macro_f1': '0.6080', 'grade_macro_f1': '0.1505'}\n",
            "\n",
            "--- Fold 1 | Epoch 6/30 ---\n"
          ]
        },
        {
          "data": {
            "application/vnd.jupyter.widget-view+json": {
              "model_id": "cb1ea0380da5485999a5716dd6165997",
              "version_major": 2,
              "version_minor": 0
            },
            "text/plain": [
              "train:   0%|          | 0/192 [00:00<?, ?it/s]"
            ]
          },
          "metadata": {},
          "output_type": "display_data"
        },
        {
          "name": "stdout",
          "output_type": "stream",
          "text": [
            "\n",
            "Epoch train finished. Calculating final metrics...\n",
            "--- IDH1 ---\n",
            "  Macro F1: 0.5336\n",
            "  Accuracy: 0.5365\n",
            "  Targets: [ 86 106]\n",
            "  Preds:   [121  71]\n",
            "--------------------\n",
            "--- MGMT ---\n",
            "  Macro F1: 0.3274\n",
            "  Accuracy: 0.4531\n",
            "  Targets: [101  91]\n",
            "  Preds:   [  8 184]\n",
            "--------------------\n",
            "--- 1p/19q ---\n",
            "  Macro F1: 0.2992\n",
            "  Accuracy: 0.3281\n",
            "  Targets: [132  60]\n",
            "  Preds:   [ 21 171]\n",
            "--------------------\n",
            "--- grade ---\n",
            "  Macro F1: 0.2027\n",
            "  Accuracy: 0.3438\n",
            "  Targets: [ 21  67 104]\n",
            "  Preds:   [  3 186   3]\n",
            "--------------------\n"
          ]
        },
        {
          "data": {
            "application/vnd.jupyter.widget-view+json": {
              "model_id": "219f0cadcbf5410e83a1b682b64e9988",
              "version_major": 2,
              "version_minor": 0
            },
            "text/plain": [
              "valid:   0%|          | 0/24 [00:00<?, ?it/s]"
            ]
          },
          "metadata": {},
          "output_type": "display_data"
        },
        {
          "name": "stdout",
          "output_type": "stream",
          "text": [
            "\n",
            "Epoch valid finished. Calculating final metrics...\n",
            "--- IDH1 ---\n",
            "  Macro F1: 0.2727\n",
            "  Accuracy: 0.3750\n",
            "  Targets: [15  9]\n",
            "  Preds:   [ 0 24]\n",
            "--------------------\n",
            "--- MGMT ---\n",
            "  Macro F1: 0.3514\n",
            "  Accuracy: 0.5417\n",
            "  Targets: [11 13]\n",
            "  Preds:   [ 0 24]\n",
            "--------------------\n",
            "--- 1p/19q ---\n",
            "  Macro F1: 0.2000\n",
            "  Accuracy: 0.2500\n",
            "  Targets: [18  6]\n",
            "  Preds:   [ 0 24]\n",
            "--------------------\n",
            "--- grade ---\n",
            "  Macro F1: 0.1505\n",
            "  Accuracy: 0.2917\n",
            "  Targets: [ 3  7 14]\n",
            "  Preds:   [ 0 24]\n",
            "--------------------\n",
            "Epoch 6: train_loss=3.1141, val_loss=3.1038, LR=0.000300\n",
            "Train Macro F1: {'IDH1_macro_f1': '0.5336', 'MGMT_macro_f1': '0.3274', '1p/19q_macro_f1': '0.2992', 'grade_macro_f1': '0.2027'}\n",
            "Val Macro F1: {'IDH1_macro_f1': '0.2727', 'MGMT_macro_f1': '0.3514', '1p/19q_macro_f1': '0.2000', 'grade_macro_f1': '0.1505'}\n",
            "\n",
            "--- Fold 1 | Epoch 7/30 ---\n"
          ]
        },
        {
          "data": {
            "application/vnd.jupyter.widget-view+json": {
              "model_id": "5784b5250dfe4c41ae1475fd25c98a65",
              "version_major": 2,
              "version_minor": 0
            },
            "text/plain": [
              "train:   0%|          | 0/192 [00:00<?, ?it/s]"
            ]
          },
          "metadata": {},
          "output_type": "display_data"
        },
        {
          "name": "stdout",
          "output_type": "stream",
          "text": [
            "\n",
            "Epoch train finished. Calculating final metrics...\n",
            "--- IDH1 ---\n",
            "  Macro F1: 0.3502\n",
            "  Accuracy: 0.4688\n",
            "  Targets: [100  92]\n",
            "  Preds:   [ 10 182]\n",
            "--------------------\n",
            "--- MGMT ---\n",
            "  Macro F1: 0.3263\n",
            "  Accuracy: 0.4844\n",
            "  Targets: [98 94]\n",
            "  Preds:   [  1 191]\n",
            "--------------------\n",
            "--- 1p/19q ---\n",
            "  Macro F1: 0.2375\n",
            "  Accuracy: 0.2812\n",
            "  Targets: [142  50]\n",
            "  Preds:   [  4 188]\n",
            "--------------------\n",
            "--- grade ---\n",
            "  Macro F1: 0.2384\n",
            "  Accuracy: 0.3698\n",
            "  Targets: [ 23  62 107]\n",
            "  Preds:   [  0 170  22]\n",
            "--------------------\n"
          ]
        },
        {
          "data": {
            "application/vnd.jupyter.widget-view+json": {
              "model_id": "0e4aa8ae1dde4f83a73c686b3045a05f",
              "version_major": 2,
              "version_minor": 0
            },
            "text/plain": [
              "valid:   0%|          | 0/24 [00:00<?, ?it/s]"
            ]
          },
          "metadata": {},
          "output_type": "display_data"
        },
        {
          "name": "stdout",
          "output_type": "stream",
          "text": [
            "\n",
            "Epoch valid finished. Calculating final metrics...\n",
            "--- IDH1 ---\n",
            "  Macro F1: 0.2727\n",
            "  Accuracy: 0.3750\n",
            "  Targets: [15  9]\n",
            "  Preds:   [ 0 24]\n",
            "--------------------\n",
            "--- MGMT ---\n",
            "  Macro F1: 0.3514\n",
            "  Accuracy: 0.5417\n",
            "  Targets: [11 13]\n",
            "  Preds:   [ 0 24]\n",
            "--------------------\n",
            "--- 1p/19q ---\n",
            "  Macro F1: 0.2000\n",
            "  Accuracy: 0.2500\n",
            "  Targets: [18  6]\n",
            "  Preds:   [ 0 24]\n",
            "--------------------\n",
            "--- grade ---\n",
            "  Macro F1: 0.1505\n",
            "  Accuracy: 0.2917\n",
            "  Targets: [ 3  7 14]\n",
            "  Preds:   [ 0 24]\n",
            "--------------------\n",
            "Epoch 7: train_loss=3.0974, val_loss=3.0811, LR=0.000300\n",
            "Train Macro F1: {'IDH1_macro_f1': '0.3502', 'MGMT_macro_f1': '0.3263', '1p/19q_macro_f1': '0.2375', 'grade_macro_f1': '0.2384'}\n",
            "Val Macro F1: {'IDH1_macro_f1': '0.2727', 'MGMT_macro_f1': '0.3514', '1p/19q_macro_f1': '0.2000', 'grade_macro_f1': '0.1505'}\n",
            "\n",
            "--- Fold 1 | Epoch 8/30 ---\n"
          ]
        },
        {
          "data": {
            "application/vnd.jupyter.widget-view+json": {
              "model_id": "65718dae434f4f4395666bea3d551fd8",
              "version_major": 2,
              "version_minor": 0
            },
            "text/plain": [
              "train:   0%|          | 0/192 [00:00<?, ?it/s]"
            ]
          },
          "metadata": {},
          "output_type": "display_data"
        },
        {
          "name": "stdout",
          "output_type": "stream",
          "text": [
            "\n",
            "Epoch train finished. Calculating final metrics...\n",
            "--- IDH1 ---\n",
            "  Macro F1: 0.4284\n",
            "  Accuracy: 0.5156\n",
            "  Targets: [ 87 105]\n",
            "  Preds:   [ 30 162]\n",
            "--------------------\n",
            "--- MGMT ---\n",
            "  Macro F1: 0.3310\n",
            "  Accuracy: 0.4948\n",
            "  Targets: [96 96]\n",
            "  Preds:   [  1 191]\n",
            "--------------------\n",
            "--- 1p/19q ---\n",
            "  Macro F1: 0.2256\n",
            "  Accuracy: 0.2760\n",
            "  Targets: [139  53]\n",
            "  Preds:   [  4 188]\n",
            "--------------------\n",
            "--- grade ---\n",
            "  Macro F1: 0.3074\n",
            "  Accuracy: 0.3646\n",
            "  Targets: [31 69 92]\n",
            "  Preds:   [ 37 148   7]\n",
            "--------------------\n"
          ]
        },
        {
          "data": {
            "application/vnd.jupyter.widget-view+json": {
              "model_id": "0464dab6db594e9aa48284889f7ff6ef",
              "version_major": 2,
              "version_minor": 0
            },
            "text/plain": [
              "valid:   0%|          | 0/24 [00:00<?, ?it/s]"
            ]
          },
          "metadata": {},
          "output_type": "display_data"
        },
        {
          "name": "stdout",
          "output_type": "stream",
          "text": [
            "\n",
            "Epoch valid finished. Calculating final metrics...\n",
            "--- IDH1 ---\n",
            "  Macro F1: 0.6643\n",
            "  Accuracy: 0.6667\n",
            "  Targets: [15  9]\n",
            "  Preds:   [ 7 17]\n",
            "--------------------\n",
            "--- MGMT ---\n",
            "  Macro F1: 0.3514\n",
            "  Accuracy: 0.5417\n",
            "  Targets: [11 13]\n",
            "  Preds:   [ 0 24]\n",
            "--------------------\n",
            "--- 1p/19q ---\n",
            "  Macro F1: 0.2595\n",
            "  Accuracy: 0.2917\n",
            "  Targets: [18  6]\n",
            "  Preds:   [ 1 23]\n",
            "--------------------\n",
            "--- grade ---\n",
            "  Macro F1: 0.2082\n",
            "  Accuracy: 0.2083\n",
            "  Targets: [ 3  7 14]\n",
            "  Preds:   [ 8 16]\n",
            "--------------------\n",
            "Epoch 8: train_loss=3.4042, val_loss=3.0384, LR=0.000300\n",
            "Train Macro F1: {'IDH1_macro_f1': '0.4284', 'MGMT_macro_f1': '0.3310', '1p/19q_macro_f1': '0.2256', 'grade_macro_f1': '0.3074'}\n",
            "Val Macro F1: {'IDH1_macro_f1': '0.6643', 'MGMT_macro_f1': '0.3514', '1p/19q_macro_f1': '0.2595', 'grade_macro_f1': '0.2082'}\n",
            "Validation F1 ('grade') improved (0.1505 --> 0.2082). Saving model...\n",
            "\n",
            "--- Fold 1 | Epoch 9/30 ---\n"
          ]
        },
        {
          "data": {
            "application/vnd.jupyter.widget-view+json": {
              "model_id": "b99232b607f149f2b26b227aa55c3b64",
              "version_major": 2,
              "version_minor": 0
            },
            "text/plain": [
              "train:   0%|          | 0/192 [00:00<?, ?it/s]"
            ]
          },
          "metadata": {},
          "output_type": "display_data"
        },
        {
          "name": "stdout",
          "output_type": "stream",
          "text": [
            "\n",
            "Epoch train finished. Calculating final metrics...\n",
            "--- IDH1 ---\n",
            "  Macro F1: 0.5145\n",
            "  Accuracy: 0.5208\n",
            "  Targets: [ 87 105]\n",
            "  Preds:   [ 83 109]\n",
            "--------------------\n",
            "--- MGMT ---\n",
            "  Macro F1: 0.4039\n",
            "  Accuracy: 0.4062\n",
            "  Targets: [125  67]\n",
            "  Preds:   [ 55 137]\n",
            "--------------------\n",
            "--- 1p/19q ---\n",
            "  Macro F1: 0.3694\n",
            "  Accuracy: 0.4010\n",
            "  Targets: [130  62]\n",
            "  Preds:   [ 19 173]\n",
            "--------------------\n",
            "--- grade ---\n",
            "  Macro F1: 0.3553\n",
            "  Accuracy: 0.3802\n",
            "  Targets: [33 65 94]\n",
            "  Preds:   [ 75 111   6]\n",
            "--------------------\n"
          ]
        },
        {
          "data": {
            "application/vnd.jupyter.widget-view+json": {
              "model_id": "15a0df4a09ad486983d7572de393e8ed",
              "version_major": 2,
              "version_minor": 0
            },
            "text/plain": [
              "valid:   0%|          | 0/24 [00:00<?, ?it/s]"
            ]
          },
          "metadata": {},
          "output_type": "display_data"
        },
        {
          "name": "stdout",
          "output_type": "stream",
          "text": [
            "\n",
            "Epoch valid finished. Calculating final metrics...\n",
            "--- IDH1 ---\n",
            "  Macro F1: 0.3438\n",
            "  Accuracy: 0.4167\n",
            "  Targets: [15  9]\n",
            "  Preds:   [ 1 23]\n",
            "--------------------\n",
            "--- MGMT ---\n",
            "  Macro F1: 0.3143\n",
            "  Accuracy: 0.4583\n",
            "  Targets: [11 13]\n",
            "  Preds:   [24]\n",
            "--------------------\n",
            "--- 1p/19q ---\n",
            "  Macro F1: 0.2000\n",
            "  Accuracy: 0.2500\n",
            "  Targets: [18  6]\n",
            "  Preds:   [ 0 24]\n",
            "--------------------\n",
            "--- grade ---\n",
            "  Macro F1: 0.1476\n",
            "  Accuracy: 0.1667\n",
            "  Targets: [ 3  7 14]\n",
            "  Preds:   [ 8 16]\n",
            "--------------------\n",
            "Epoch 9: train_loss=3.3190, val_loss=3.0276, LR=0.000300\n",
            "Train Macro F1: {'IDH1_macro_f1': '0.5145', 'MGMT_macro_f1': '0.4039', '1p/19q_macro_f1': '0.3694', 'grade_macro_f1': '0.3553'}\n",
            "Val Macro F1: {'IDH1_macro_f1': '0.3438', 'MGMT_macro_f1': '0.3143', '1p/19q_macro_f1': '0.2000', 'grade_macro_f1': '0.1476'}\n",
            "\n",
            "--- Fold 1 | Epoch 10/30 ---\n"
          ]
        },
        {
          "data": {
            "application/vnd.jupyter.widget-view+json": {
              "model_id": "ef731ce6c1f04705969a8c1ec0221f2b",
              "version_major": 2,
              "version_minor": 0
            },
            "text/plain": [
              "train:   0%|          | 0/192 [00:00<?, ?it/s]"
            ]
          },
          "metadata": {},
          "output_type": "display_data"
        },
        {
          "name": "stdout",
          "output_type": "stream",
          "text": [
            "\n",
            "Epoch train finished. Calculating final metrics...\n",
            "--- IDH1 ---\n",
            "  Macro F1: 0.5286\n",
            "  Accuracy: 0.5417\n",
            "  Targets: [100  92]\n",
            "  Preds:   [ 60 132]\n",
            "--------------------\n",
            "--- MGMT ---\n",
            "  Macro F1: 0.3466\n",
            "  Accuracy: 0.3750\n",
            "  Targets: [105  87]\n",
            "  Preds:   [ 47 145]\n",
            "--------------------\n",
            "--- 1p/19q ---\n",
            "  Macro F1: 0.3690\n",
            "  Accuracy: 0.3698\n",
            "  Targets: [140  52]\n",
            "  Preds:   [ 45 147]\n",
            "--------------------\n",
            "--- grade ---\n",
            "  Macro F1: 0.4510\n",
            "  Accuracy: 0.4688\n",
            "  Targets: [ 23  59 110]\n",
            "  Preds:   [41 52 99]\n",
            "--------------------\n"
          ]
        },
        {
          "data": {
            "application/vnd.jupyter.widget-view+json": {
              "model_id": "945c803b5dee4134aca3006db5d3eb19",
              "version_major": 2,
              "version_minor": 0
            },
            "text/plain": [
              "valid:   0%|          | 0/24 [00:00<?, ?it/s]"
            ]
          },
          "metadata": {},
          "output_type": "display_data"
        },
        {
          "name": "stdout",
          "output_type": "stream",
          "text": [
            "\n",
            "Epoch valid finished. Calculating final metrics...\n",
            "--- IDH1 ---\n",
            "  Macro F1: 0.5253\n",
            "  Accuracy: 0.6250\n",
            "  Targets: [15  9]\n",
            "  Preds:   [20  4]\n",
            "--------------------\n",
            "--- MGMT ---\n",
            "  Macro F1: 0.3514\n",
            "  Accuracy: 0.5417\n",
            "  Targets: [11 13]\n",
            "  Preds:   [ 0 24]\n",
            "--------------------\n",
            "--- 1p/19q ---\n",
            "  Macro F1: 0.5901\n",
            "  Accuracy: 0.6250\n",
            "  Targets: [18  6]\n",
            "  Preds:   [13 11]\n",
            "--------------------\n",
            "--- grade ---\n",
            "  Macro F1: 0.2456\n",
            "  Accuracy: 0.5833\n",
            "  Targets: [ 3  7 14]\n",
            "  Preds:   [ 0  0 24]\n",
            "--------------------\n",
            "Epoch 10: train_loss=2.7864, val_loss=3.1043, LR=0.000300\n",
            "Train Macro F1: {'IDH1_macro_f1': '0.5286', 'MGMT_macro_f1': '0.3466', '1p/19q_macro_f1': '0.3690', 'grade_macro_f1': '0.4510'}\n",
            "Val Macro F1: {'IDH1_macro_f1': '0.5253', 'MGMT_macro_f1': '0.3514', '1p/19q_macro_f1': '0.5901', 'grade_macro_f1': '0.2456'}\n",
            "Validation F1 ('grade') improved (0.2082 --> 0.2456). Saving model...\n",
            "\n",
            "--- Fold 1 | Epoch 11/30 ---\n"
          ]
        },
        {
          "data": {
            "application/vnd.jupyter.widget-view+json": {
              "model_id": "802d85a0c71e434bbf6e0d90bc5b5c6d",
              "version_major": 2,
              "version_minor": 0
            },
            "text/plain": [
              "train:   0%|          | 0/192 [00:00<?, ?it/s]"
            ]
          },
          "metadata": {},
          "output_type": "display_data"
        },
        {
          "name": "stdout",
          "output_type": "stream",
          "text": [
            "\n",
            "Epoch train finished. Calculating final metrics...\n",
            "--- IDH1 ---\n",
            "  Macro F1: 0.5312\n",
            "  Accuracy: 0.5312\n",
            "  Targets: [98 94]\n",
            "  Preds:   [ 92 100]\n",
            "--------------------\n",
            "--- MGMT ---\n",
            "  Macro F1: 0.3705\n",
            "  Accuracy: 0.4167\n",
            "  Targets: [116  76]\n",
            "  Preds:   [ 24 168]\n",
            "--------------------\n",
            "--- 1p/19q ---\n",
            "  Macro F1: 0.3794\n",
            "  Accuracy: 0.3802\n",
            "  Targets: [144  48]\n",
            "  Preds:   [ 41 151]\n",
            "--------------------\n",
            "--- grade ---\n",
            "  Macro F1: 0.4166\n",
            "  Accuracy: 0.4740\n",
            "  Targets: [ 35  57 100]\n",
            "  Preds:   [78 23 91]\n",
            "--------------------\n"
          ]
        },
        {
          "data": {
            "application/vnd.jupyter.widget-view+json": {
              "model_id": "f41bb6daa1d0426a9df555e3dea2c3d9",
              "version_major": 2,
              "version_minor": 0
            },
            "text/plain": [
              "valid:   0%|          | 0/24 [00:00<?, ?it/s]"
            ]
          },
          "metadata": {},
          "output_type": "display_data"
        },
        {
          "name": "stdout",
          "output_type": "stream",
          "text": [
            "\n",
            "Epoch valid finished. Calculating final metrics...\n",
            "--- IDH1 ---\n",
            "  Macro F1: 0.4080\n",
            "  Accuracy: 0.4583\n",
            "  Targets: [15  9]\n",
            "  Preds:   [ 2 22]\n",
            "--------------------\n",
            "--- MGMT ---\n",
            "  Macro F1: 0.3514\n",
            "  Accuracy: 0.5417\n",
            "  Targets: [11 13]\n",
            "  Preds:   [ 0 24]\n",
            "--------------------\n",
            "--- 1p/19q ---\n",
            "  Macro F1: 0.3143\n",
            "  Accuracy: 0.3333\n",
            "  Targets: [18  6]\n",
            "  Preds:   [ 2 22]\n",
            "--------------------\n",
            "--- grade ---\n",
            "  Macro F1: 0.0800\n",
            "  Accuracy: 0.1250\n",
            "  Targets: [ 3  7 14]\n",
            "  Preds:   [22  2]\n",
            "--------------------\n",
            "Epoch 11: train_loss=3.0913, val_loss=3.4431, LR=0.000300\n",
            "Train Macro F1: {'IDH1_macro_f1': '0.5312', 'MGMT_macro_f1': '0.3705', '1p/19q_macro_f1': '0.3794', 'grade_macro_f1': '0.4166'}\n",
            "Val Macro F1: {'IDH1_macro_f1': '0.4080', 'MGMT_macro_f1': '0.3514', '1p/19q_macro_f1': '0.3143', 'grade_macro_f1': '0.0800'}\n",
            "\n",
            "--- Fold 1 | Epoch 12/30 ---\n"
          ]
        },
        {
          "data": {
            "application/vnd.jupyter.widget-view+json": {
              "model_id": "4bbb4364e76e421f93302b172470c1c3",
              "version_major": 2,
              "version_minor": 0
            },
            "text/plain": [
              "train:   0%|          | 0/192 [00:00<?, ?it/s]"
            ]
          },
          "metadata": {},
          "output_type": "display_data"
        },
        {
          "name": "stdout",
          "output_type": "stream",
          "text": [
            "\n",
            "Epoch train finished. Calculating final metrics...\n",
            "--- IDH1 ---\n",
            "  Macro F1: 0.5206\n",
            "  Accuracy: 0.5208\n",
            "  Targets: [ 89 103]\n",
            "  Preds:   [99 93]\n",
            "--------------------\n",
            "--- MGMT ---\n",
            "  Macro F1: 0.4296\n",
            "  Accuracy: 0.4531\n",
            "  Targets: [109  83]\n",
            "  Preds:   [ 44 148]\n",
            "--------------------\n",
            "--- 1p/19q ---\n",
            "  Macro F1: 0.4857\n",
            "  Accuracy: 0.5000\n",
            "  Targets: [139  53]\n",
            "  Preds:   [ 85 107]\n",
            "--------------------\n",
            "--- grade ---\n",
            "  Macro F1: 0.3489\n",
            "  Accuracy: 0.4010\n",
            "  Targets: [34 63 95]\n",
            "  Preds:   [101  13  78]\n",
            "--------------------\n"
          ]
        },
        {
          "data": {
            "application/vnd.jupyter.widget-view+json": {
              "model_id": "4dfdc204631c4e158af9e19555b9aa24",
              "version_major": 2,
              "version_minor": 0
            },
            "text/plain": [
              "valid:   0%|          | 0/24 [00:00<?, ?it/s]"
            ]
          },
          "metadata": {},
          "output_type": "display_data"
        },
        {
          "name": "stdout",
          "output_type": "stream",
          "text": [
            "\n",
            "Epoch valid finished. Calculating final metrics...\n",
            "--- IDH1 ---\n",
            "  Macro F1: 0.6444\n",
            "  Accuracy: 0.6667\n",
            "  Targets: [15  9]\n",
            "  Preds:   [15  9]\n",
            "--------------------\n",
            "--- MGMT ---\n",
            "  Macro F1: 0.3333\n",
            "  Accuracy: 0.5000\n",
            "  Targets: [11 13]\n",
            "  Preds:   [ 1 23]\n",
            "--------------------\n",
            "--- 1p/19q ---\n",
            "  Macro F1: 0.5000\n",
            "  Accuracy: 0.5000\n",
            "  Targets: [18  6]\n",
            "  Preds:   [ 6 18]\n",
            "--------------------\n",
            "--- grade ---\n",
            "  Macro F1: 0.4003\n",
            "  Accuracy: 0.5417\n",
            "  Targets: [ 3  7 14]\n",
            "  Preds:   [ 4  4 16]\n",
            "--------------------\n",
            "Epoch 12: train_loss=3.0363, val_loss=2.8886, LR=0.000300\n",
            "Train Macro F1: {'IDH1_macro_f1': '0.5206', 'MGMT_macro_f1': '0.4296', '1p/19q_macro_f1': '0.4857', 'grade_macro_f1': '0.3489'}\n",
            "Val Macro F1: {'IDH1_macro_f1': '0.6444', 'MGMT_macro_f1': '0.3333', '1p/19q_macro_f1': '0.5000', 'grade_macro_f1': '0.4003'}\n",
            "Validation F1 ('grade') improved (0.2456 --> 0.4003). Saving model...\n",
            "\n",
            "--- Fold 1 | Epoch 13/30 ---\n"
          ]
        },
        {
          "data": {
            "application/vnd.jupyter.widget-view+json": {
              "model_id": "b513392c6c814db7b56afbb0feb65183",
              "version_major": 2,
              "version_minor": 0
            },
            "text/plain": [
              "train:   0%|          | 0/192 [00:00<?, ?it/s]"
            ]
          },
          "metadata": {},
          "output_type": "display_data"
        },
        {
          "name": "stdout",
          "output_type": "stream",
          "text": [
            "\n",
            "Epoch train finished. Calculating final metrics...\n",
            "--- IDH1 ---\n",
            "  Macro F1: 0.5395\n",
            "  Accuracy: 0.5990\n",
            "  Targets: [ 84 108]\n",
            "  Preds:   [ 39 153]\n",
            "--------------------\n",
            "--- MGMT ---\n",
            "  Macro F1: 0.4383\n",
            "  Accuracy: 0.4427\n",
            "  Targets: [122  70]\n",
            "  Preds:   [ 53 139]\n",
            "--------------------\n",
            "--- 1p/19q ---\n",
            "  Macro F1: 0.3255\n",
            "  Accuracy: 0.3594\n",
            "  Targets: [134  58]\n",
            "  Preds:   [ 15 177]\n",
            "--------------------\n",
            "--- grade ---\n",
            "  Macro F1: 0.4254\n",
            "  Accuracy: 0.4271\n",
            "  Targets: [38 58 96]\n",
            "  Preds:   [72 58 62]\n",
            "--------------------\n"
          ]
        },
        {
          "data": {
            "application/vnd.jupyter.widget-view+json": {
              "model_id": "643a9d88493a48da85ac3fe992773ca4",
              "version_major": 2,
              "version_minor": 0
            },
            "text/plain": [
              "valid:   0%|          | 0/24 [00:00<?, ?it/s]"
            ]
          },
          "metadata": {},
          "output_type": "display_data"
        },
        {
          "name": "stdout",
          "output_type": "stream",
          "text": [
            "\n",
            "Epoch valid finished. Calculating final metrics...\n",
            "--- IDH1 ---\n",
            "  Macro F1: 0.2727\n",
            "  Accuracy: 0.3750\n",
            "  Targets: [15  9]\n",
            "  Preds:   [ 0 24]\n",
            "--------------------\n",
            "--- MGMT ---\n",
            "  Macro F1: 0.5253\n",
            "  Accuracy: 0.6250\n",
            "  Targets: [11 13]\n",
            "  Preds:   [ 2 22]\n",
            "--------------------\n",
            "--- 1p/19q ---\n",
            "  Macro F1: 0.2595\n",
            "  Accuracy: 0.2917\n",
            "  Targets: [18  6]\n",
            "  Preds:   [ 1 23]\n",
            "--------------------\n",
            "--- grade ---\n",
            "  Macro F1: 0.2754\n",
            "  Accuracy: 0.3333\n",
            "  Targets: [ 3  7 14]\n",
            "  Preds:   [17  2  5]\n",
            "--------------------\n",
            "Epoch 13: train_loss=2.9824, val_loss=3.1135, LR=0.000300\n",
            "Train Macro F1: {'IDH1_macro_f1': '0.5395', 'MGMT_macro_f1': '0.4383', '1p/19q_macro_f1': '0.3255', 'grade_macro_f1': '0.4254'}\n",
            "Val Macro F1: {'IDH1_macro_f1': '0.2727', 'MGMT_macro_f1': '0.5253', '1p/19q_macro_f1': '0.2595', 'grade_macro_f1': '0.2754'}\n",
            "\n",
            "--- Fold 1 | Epoch 14/30 ---\n"
          ]
        },
        {
          "data": {
            "application/vnd.jupyter.widget-view+json": {
              "model_id": "c3ab340e9f8a43a294c4145b36bd49f3",
              "version_major": 2,
              "version_minor": 0
            },
            "text/plain": [
              "train:   0%|          | 0/192 [00:00<?, ?it/s]"
            ]
          },
          "metadata": {},
          "output_type": "display_data"
        },
        {
          "name": "stdout",
          "output_type": "stream",
          "text": [
            "\n",
            "Epoch train finished. Calculating final metrics...\n",
            "--- IDH1 ---\n",
            "  Macro F1: 0.4459\n",
            "  Accuracy: 0.5260\n",
            "  Targets: [ 89 103]\n",
            "  Preds:   [ 30 162]\n",
            "--------------------\n",
            "--- MGMT ---\n",
            "  Macro F1: 0.4895\n",
            "  Accuracy: 0.4896\n",
            "  Targets: [108  84]\n",
            "  Preds:   [ 82 110]\n",
            "--------------------\n",
            "--- 1p/19q ---\n",
            "  Macro F1: 0.4119\n",
            "  Accuracy: 0.4219\n",
            "  Targets: [131  61]\n",
            "  Preds:   [ 36 156]\n",
            "--------------------\n",
            "--- grade ---\n",
            "  Macro F1: 0.4502\n",
            "  Accuracy: 0.4531\n",
            "  Targets: [35 74 83]\n",
            "  Preds:   [74 92 26]\n",
            "--------------------\n"
          ]
        },
        {
          "data": {
            "application/vnd.jupyter.widget-view+json": {
              "model_id": "f0679d9a4dd3497c84a958997cf5907b",
              "version_major": 2,
              "version_minor": 0
            },
            "text/plain": [
              "valid:   0%|          | 0/24 [00:00<?, ?it/s]"
            ]
          },
          "metadata": {},
          "output_type": "display_data"
        },
        {
          "name": "stdout",
          "output_type": "stream",
          "text": [
            "\n",
            "Epoch valid finished. Calculating final metrics...\n",
            "--- IDH1 ---\n",
            "  Macro F1: 0.6643\n",
            "  Accuracy: 0.6667\n",
            "  Targets: [15  9]\n",
            "  Preds:   [11 13]\n",
            "--------------------\n",
            "--- MGMT ---\n",
            "  Macro F1: 0.4198\n",
            "  Accuracy: 0.5417\n",
            "  Targets: [11 13]\n",
            "  Preds:   [ 2 22]\n",
            "--------------------\n",
            "--- 1p/19q ---\n",
            "  Macro F1: 0.3143\n",
            "  Accuracy: 0.3333\n",
            "  Targets: [18  6]\n",
            "  Preds:   [ 2 22]\n",
            "--------------------\n",
            "--- grade ---\n",
            "  Macro F1: 0.2576\n",
            "  Accuracy: 0.2500\n",
            "  Targets: [ 3  7 14]\n",
            "  Preds:   [ 9 15]\n",
            "--------------------\n",
            "Epoch 14: train_loss=2.5976, val_loss=2.6631, LR=0.000300\n",
            "Train Macro F1: {'IDH1_macro_f1': '0.4459', 'MGMT_macro_f1': '0.4895', '1p/19q_macro_f1': '0.4119', 'grade_macro_f1': '0.4502'}\n",
            "Val Macro F1: {'IDH1_macro_f1': '0.6643', 'MGMT_macro_f1': '0.4198', '1p/19q_macro_f1': '0.3143', 'grade_macro_f1': '0.2576'}\n",
            "\n",
            "--- Fold 1 | Epoch 15/30 ---\n"
          ]
        },
        {
          "data": {
            "application/vnd.jupyter.widget-view+json": {
              "model_id": "225c334c5db249ca97f81d8ff387d087",
              "version_major": 2,
              "version_minor": 0
            },
            "text/plain": [
              "train:   0%|          | 0/192 [00:00<?, ?it/s]"
            ]
          },
          "metadata": {},
          "output_type": "display_data"
        },
        {
          "name": "stdout",
          "output_type": "stream",
          "text": [
            "\n",
            "Epoch train finished. Calculating final metrics...\n",
            "--- IDH1 ---\n",
            "  Macro F1: 0.6243\n",
            "  Accuracy: 0.6250\n",
            "  Targets: [94 98]\n",
            "  Preds:   [ 90 102]\n",
            "--------------------\n",
            "--- MGMT ---\n",
            "  Macro F1: 0.3086\n",
            "  Accuracy: 0.3854\n",
            "  Targets: [115  77]\n",
            "  Preds:   [ 13 179]\n",
            "--------------------\n",
            "--- 1p/19q ---\n",
            "  Macro F1: 0.3411\n",
            "  Accuracy: 0.3490\n",
            "  Targets: [145  47]\n",
            "  Preds:   [ 26 166]\n",
            "--------------------\n",
            "--- grade ---\n",
            "  Macro F1: 0.4610\n",
            "  Accuracy: 0.4531\n",
            "  Targets: [ 31  57 104]\n",
            "  Preds:   [ 51 133   8]\n",
            "--------------------\n"
          ]
        },
        {
          "data": {
            "application/vnd.jupyter.widget-view+json": {
              "model_id": "a40ed4b1719049a6b84f75e0704c6ac9",
              "version_major": 2,
              "version_minor": 0
            },
            "text/plain": [
              "valid:   0%|          | 0/24 [00:00<?, ?it/s]"
            ]
          },
          "metadata": {},
          "output_type": "display_data"
        },
        {
          "name": "stdout",
          "output_type": "stream",
          "text": [
            "\n",
            "Epoch valid finished. Calculating final metrics...\n",
            "--- IDH1 ---\n",
            "  Macro F1: 0.4444\n",
            "  Accuracy: 0.5833\n",
            "  Targets: [15  9]\n",
            "  Preds:   [21  3]\n",
            "--------------------\n",
            "--- MGMT ---\n",
            "  Macro F1: 0.3514\n",
            "  Accuracy: 0.5417\n",
            "  Targets: [11 13]\n",
            "  Preds:   [ 0 24]\n",
            "--------------------\n",
            "--- 1p/19q ---\n",
            "  Macro F1: 0.5209\n",
            "  Accuracy: 0.5417\n",
            "  Targets: [18  6]\n",
            "  Preds:   [11 13]\n",
            "--------------------\n",
            "--- grade ---\n",
            "  Macro F1: 0.1379\n",
            "  Accuracy: 0.2500\n",
            "  Targets: [ 3  7 14]\n",
            "  Preds:   [ 2 22]\n",
            "--------------------\n",
            "Epoch 15: train_loss=2.0076, val_loss=3.6648, LR=0.000300\n",
            "Train Macro F1: {'IDH1_macro_f1': '0.6243', 'MGMT_macro_f1': '0.3086', '1p/19q_macro_f1': '0.3411', 'grade_macro_f1': '0.4610'}\n",
            "Val Macro F1: {'IDH1_macro_f1': '0.4444', 'MGMT_macro_f1': '0.3514', '1p/19q_macro_f1': '0.5209', 'grade_macro_f1': '0.1379'}\n",
            "\n",
            "--- Fold 1 | Epoch 16/30 ---\n"
          ]
        },
        {
          "data": {
            "application/vnd.jupyter.widget-view+json": {
              "model_id": "eeae714ad2b8403c8cdd7bd47a1236a7",
              "version_major": 2,
              "version_minor": 0
            },
            "text/plain": [
              "train:   0%|          | 0/192 [00:00<?, ?it/s]"
            ]
          },
          "metadata": {},
          "output_type": "display_data"
        },
        {
          "name": "stdout",
          "output_type": "stream",
          "text": [
            "\n",
            "Epoch train finished. Calculating final metrics...\n",
            "--- IDH1 ---\n",
            "  Macro F1: 0.6483\n",
            "  Accuracy: 0.6510\n",
            "  Targets: [102  90]\n",
            "  Preds:   [107  85]\n",
            "--------------------\n",
            "--- MGMT ---\n",
            "  Macro F1: 0.3902\n",
            "  Accuracy: 0.4167\n",
            "  Targets: [107  85]\n",
            "  Preds:   [ 45 147]\n",
            "--------------------\n",
            "--- 1p/19q ---\n",
            "  Macro F1: 0.3902\n",
            "  Accuracy: 0.3906\n",
            "  Targets: [138  54]\n",
            "  Preds:   [ 49 143]\n",
            "--------------------\n",
            "--- grade ---\n",
            "  Macro F1: 0.5617\n",
            "  Accuracy: 0.5208\n",
            "  Targets: [ 25  59 108]\n",
            "  Preds:   [ 38 124  30]\n",
            "--------------------\n"
          ]
        },
        {
          "data": {
            "application/vnd.jupyter.widget-view+json": {
              "model_id": "6372f4cd5dc7407bbe37bde333b69700",
              "version_major": 2,
              "version_minor": 0
            },
            "text/plain": [
              "valid:   0%|          | 0/24 [00:00<?, ?it/s]"
            ]
          },
          "metadata": {},
          "output_type": "display_data"
        },
        {
          "name": "stdout",
          "output_type": "stream",
          "text": [
            "\n",
            "Epoch valid finished. Calculating final metrics...\n",
            "--- IDH1 ---\n",
            "  Macro F1: 0.7429\n",
            "  Accuracy: 0.7500\n",
            "  Targets: [15  9]\n",
            "  Preds:   [13 11]\n",
            "--------------------\n",
            "--- MGMT ---\n",
            "  Macro F1: 0.3333\n",
            "  Accuracy: 0.5000\n",
            "  Targets: [11 13]\n",
            "  Preds:   [ 1 23]\n",
            "--------------------\n",
            "--- 1p/19q ---\n",
            "  Macro F1: 0.2000\n",
            "  Accuracy: 0.2500\n",
            "  Targets: [18  6]\n",
            "  Preds:   [ 0 24]\n",
            "--------------------\n",
            "--- grade ---\n",
            "  Macro F1: 0.2470\n",
            "  Accuracy: 0.2500\n",
            "  Targets: [ 3  7 14]\n",
            "  Preds:   [10  8  6]\n",
            "--------------------\n",
            "Epoch 16: train_loss=1.7452, val_loss=3.6533, LR=0.000300\n",
            "Train Macro F1: {'IDH1_macro_f1': '0.6483', 'MGMT_macro_f1': '0.3902', '1p/19q_macro_f1': '0.3902', 'grade_macro_f1': '0.5617'}\n",
            "Val Macro F1: {'IDH1_macro_f1': '0.7429', 'MGMT_macro_f1': '0.3333', '1p/19q_macro_f1': '0.2000', 'grade_macro_f1': '0.2470'}\n",
            "\n",
            "--- Fold 1 | Epoch 17/30 ---\n"
          ]
        },
        {
          "data": {
            "application/vnd.jupyter.widget-view+json": {
              "model_id": "6386e364851b458698ee5b9f40b082ba",
              "version_major": 2,
              "version_minor": 0
            },
            "text/plain": [
              "train:   0%|          | 0/192 [00:00<?, ?it/s]"
            ]
          },
          "metadata": {},
          "output_type": "display_data"
        },
        {
          "name": "stdout",
          "output_type": "stream",
          "text": [
            "\n",
            "Epoch train finished. Calculating final metrics...\n",
            "--- IDH1 ---\n",
            "  Macro F1: 0.6594\n",
            "  Accuracy: 0.6615\n",
            "  Targets: [95 97]\n",
            "  Preds:   [112  80]\n",
            "--------------------\n",
            "--- MGMT ---\n",
            "  Macro F1: 0.4723\n",
            "  Accuracy: 0.4844\n",
            "  Targets: [111  81]\n",
            "  Preds:   [ 52 140]\n",
            "--------------------\n",
            "--- 1p/19q ---\n",
            "  Macro F1: 0.3712\n",
            "  Accuracy: 0.3958\n",
            "  Targets: [131  61]\n",
            "  Preds:   [ 23 169]\n",
            "--------------------\n",
            "--- grade ---\n",
            "  Macro F1: 0.6187\n",
            "  Accuracy: 0.5729\n",
            "  Targets: [27 73 92]\n",
            "  Preds:   [ 34 109  49]\n",
            "--------------------\n"
          ]
        },
        {
          "data": {
            "application/vnd.jupyter.widget-view+json": {
              "model_id": "4345d780de984f70a3b87049ea143520",
              "version_major": 2,
              "version_minor": 0
            },
            "text/plain": [
              "valid:   0%|          | 0/24 [00:00<?, ?it/s]"
            ]
          },
          "metadata": {},
          "output_type": "display_data"
        },
        {
          "name": "stdout",
          "output_type": "stream",
          "text": [
            "\n",
            "Epoch valid finished. Calculating final metrics...\n",
            "--- IDH1 ---\n",
            "  Macro F1: 0.8286\n",
            "  Accuracy: 0.8333\n",
            "  Targets: [15  9]\n",
            "  Preds:   [13 11]\n",
            "--------------------\n",
            "--- MGMT ---\n",
            "  Macro F1: 0.4198\n",
            "  Accuracy: 0.5417\n",
            "  Targets: [11 13]\n",
            "  Preds:   [ 2 22]\n",
            "--------------------\n",
            "--- 1p/19q ---\n",
            "  Macro F1: 0.4574\n",
            "  Accuracy: 0.4583\n",
            "  Targets: [18  6]\n",
            "  Preds:   [ 5 19]\n",
            "--------------------\n",
            "--- grade ---\n",
            "  Macro F1: 0.2861\n",
            "  Accuracy: 0.2917\n",
            "  Targets: [ 3  7 14]\n",
            "  Preds:   [9 9 6]\n",
            "--------------------\n",
            "Epoch 17: train_loss=1.6510, val_loss=4.0479, LR=0.000150\n",
            "Train Macro F1: {'IDH1_macro_f1': '0.6594', 'MGMT_macro_f1': '0.4723', '1p/19q_macro_f1': '0.3712', 'grade_macro_f1': '0.6187'}\n",
            "Val Macro F1: {'IDH1_macro_f1': '0.8286', 'MGMT_macro_f1': '0.4198', '1p/19q_macro_f1': '0.4574', 'grade_macro_f1': '0.2861'}\n",
            "\n",
            "--- Fold 1 | Epoch 18/30 ---\n"
          ]
        },
        {
          "data": {
            "application/vnd.jupyter.widget-view+json": {
              "model_id": "8c0613239cf3426385c2aeda6d782d1e",
              "version_major": 2,
              "version_minor": 0
            },
            "text/plain": [
              "train:   0%|          | 0/192 [00:00<?, ?it/s]"
            ]
          },
          "metadata": {},
          "output_type": "display_data"
        },
        {
          "name": "stdout",
          "output_type": "stream",
          "text": [
            "\n",
            "Epoch train finished. Calculating final metrics...\n",
            "--- IDH1 ---\n",
            "  Macro F1: 0.5822\n",
            "  Accuracy: 0.6094\n",
            "  Targets: [112  80]\n",
            "  Preds:   [129  63]\n",
            "--------------------\n",
            "--- MGMT ---\n",
            "  Macro F1: 0.4649\n",
            "  Accuracy: 0.4740\n",
            "  Targets: [119  73]\n",
            "  Preds:   [ 48 144]\n",
            "--------------------\n",
            "--- 1p/19q ---\n",
            "  Macro F1: 0.4370\n",
            "  Accuracy: 0.4375\n",
            "  Targets: [144  48]\n",
            "  Preds:   [ 54 138]\n",
            "--------------------\n",
            "--- grade ---\n",
            "  Macro F1: 0.5582\n",
            "  Accuracy: 0.5104\n",
            "  Targets: [ 26  56 110]\n",
            "  Preds:   [ 38 106  48]\n",
            "--------------------\n"
          ]
        },
        {
          "data": {
            "application/vnd.jupyter.widget-view+json": {
              "model_id": "3cc62e321e7446c49a029ae63b28f5d6",
              "version_major": 2,
              "version_minor": 0
            },
            "text/plain": [
              "valid:   0%|          | 0/24 [00:00<?, ?it/s]"
            ]
          },
          "metadata": {},
          "output_type": "display_data"
        },
        {
          "name": "stdout",
          "output_type": "stream",
          "text": [
            "\n",
            "Epoch valid finished. Calculating final metrics...\n",
            "--- IDH1 ---\n",
            "  Macro F1: 0.7822\n",
            "  Accuracy: 0.7917\n",
            "  Targets: [15  9]\n",
            "  Preds:   [14 10]\n",
            "--------------------\n",
            "--- MGMT ---\n",
            "  Macro F1: 0.4198\n",
            "  Accuracy: 0.5417\n",
            "  Targets: [11 13]\n",
            "  Preds:   [ 2 22]\n",
            "--------------------\n",
            "--- 1p/19q ---\n",
            "  Macro F1: 0.6080\n",
            "  Accuracy: 0.6250\n",
            "  Targets: [18  6]\n",
            "  Preds:   [11 13]\n",
            "--------------------\n",
            "--- grade ---\n",
            "  Macro F1: 0.4093\n",
            "  Accuracy: 0.5000\n",
            "  Targets: [ 3  7 14]\n",
            "  Preds:   [11  2 11]\n",
            "--------------------\n",
            "Epoch 18: train_loss=1.7252, val_loss=4.3422, LR=0.000150\n",
            "Train Macro F1: {'IDH1_macro_f1': '0.5822', 'MGMT_macro_f1': '0.4649', '1p/19q_macro_f1': '0.4370', 'grade_macro_f1': '0.5582'}\n",
            "Val Macro F1: {'IDH1_macro_f1': '0.7822', 'MGMT_macro_f1': '0.4198', '1p/19q_macro_f1': '0.6080', 'grade_macro_f1': '0.4093'}\n",
            "Validation F1 ('grade') improved (0.4003 --> 0.4093). Saving model...\n",
            "\n",
            "--- Fold 1 | Epoch 19/30 ---\n"
          ]
        },
        {
          "data": {
            "application/vnd.jupyter.widget-view+json": {
              "model_id": "35e536b984f14e138939430cb5c9bc70",
              "version_major": 2,
              "version_minor": 0
            },
            "text/plain": [
              "train:   0%|          | 0/192 [00:00<?, ?it/s]"
            ]
          },
          "metadata": {},
          "output_type": "display_data"
        },
        {
          "name": "stdout",
          "output_type": "stream",
          "text": [
            "\n",
            "Epoch train finished. Calculating final metrics...\n",
            "--- IDH1 ---\n",
            "  Macro F1: 0.5843\n",
            "  Accuracy: 0.6042\n",
            "  Targets: [98 94]\n",
            "  Preds:   [136  56]\n",
            "--------------------\n",
            "--- MGMT ---\n",
            "  Macro F1: 0.4120\n",
            "  Accuracy: 0.4375\n",
            "  Targets: [112  80]\n",
            "  Preds:   [ 40 152]\n",
            "--------------------\n",
            "--- 1p/19q ---\n",
            "  Macro F1: 0.5907\n",
            "  Accuracy: 0.6094\n",
            "  Targets: [129  63]\n",
            "  Preds:   [104  88]\n",
            "--------------------\n",
            "--- grade ---\n",
            "  Macro F1: 0.6344\n",
            "  Accuracy: 0.5938\n",
            "  Targets: [30 74 88]\n",
            "  Preds:   [40 66 86]\n",
            "--------------------\n"
          ]
        },
        {
          "data": {
            "application/vnd.jupyter.widget-view+json": {
              "model_id": "f613ff4d5b3a44a29ef5dac3d355c700",
              "version_major": 2,
              "version_minor": 0
            },
            "text/plain": [
              "valid:   0%|          | 0/24 [00:00<?, ?it/s]"
            ]
          },
          "metadata": {},
          "output_type": "display_data"
        },
        {
          "name": "stdout",
          "output_type": "stream",
          "text": [
            "\n",
            "Epoch valid finished. Calculating final metrics...\n",
            "--- IDH1 ---\n",
            "  Macro F1: 0.4444\n",
            "  Accuracy: 0.5833\n",
            "  Targets: [15  9]\n",
            "  Preds:   [21  3]\n",
            "--------------------\n",
            "--- MGMT ---\n",
            "  Macro F1: 0.3514\n",
            "  Accuracy: 0.5417\n",
            "  Targets: [11 13]\n",
            "  Preds:   [ 0 24]\n",
            "--------------------\n",
            "--- 1p/19q ---\n",
            "  Macro F1: 0.5344\n",
            "  Accuracy: 0.5417\n",
            "  Targets: [18  6]\n",
            "  Preds:   [ 9 15]\n",
            "--------------------\n",
            "--- grade ---\n",
            "  Macro F1: 0.2568\n",
            "  Accuracy: 0.2500\n",
            "  Targets: [ 3  7 14]\n",
            "  Preds:   [ 2 20  2]\n",
            "--------------------\n",
            "Epoch 19: train_loss=1.6636, val_loss=3.2274, LR=0.000150\n",
            "Train Macro F1: {'IDH1_macro_f1': '0.5843', 'MGMT_macro_f1': '0.4120', '1p/19q_macro_f1': '0.5907', 'grade_macro_f1': '0.6344'}\n",
            "Val Macro F1: {'IDH1_macro_f1': '0.4444', 'MGMT_macro_f1': '0.3514', '1p/19q_macro_f1': '0.5344', 'grade_macro_f1': '0.2568'}\n",
            "\n",
            "--- Fold 1 | Epoch 20/30 ---\n"
          ]
        },
        {
          "data": {
            "application/vnd.jupyter.widget-view+json": {
              "model_id": "ff7ed69bf16a4f588b32214b1f3bdecf",
              "version_major": 2,
              "version_minor": 0
            },
            "text/plain": [
              "train:   0%|          | 0/192 [00:00<?, ?it/s]"
            ]
          },
          "metadata": {},
          "output_type": "display_data"
        },
        {
          "name": "stdout",
          "output_type": "stream",
          "text": [
            "\n",
            "Epoch train finished. Calculating final metrics...\n",
            "--- IDH1 ---\n",
            "  Macro F1: 0.6363\n",
            "  Accuracy: 0.6406\n",
            "  Targets: [99 93]\n",
            "  Preds:   [114  78]\n",
            "--------------------\n",
            "--- MGMT ---\n",
            "  Macro F1: 0.4516\n",
            "  Accuracy: 0.4688\n",
            "  Targets: [109  83]\n",
            "  Preds:   [ 49 143]\n",
            "--------------------\n",
            "--- 1p/19q ---\n",
            "  Macro F1: 0.3604\n",
            "  Accuracy: 0.3854\n",
            "  Targets: [135  57]\n",
            "  Preds:   [ 19 173]\n",
            "--------------------\n",
            "--- grade ---\n",
            "  Macro F1: 0.5386\n",
            "  Accuracy: 0.4948\n",
            "  Targets: [29 64 99]\n",
            "  Preds:   [ 34 147  11]\n",
            "--------------------\n"
          ]
        },
        {
          "data": {
            "application/vnd.jupyter.widget-view+json": {
              "model_id": "2226c229cf324e8dadb036747e7c0e1c",
              "version_major": 2,
              "version_minor": 0
            },
            "text/plain": [
              "valid:   0%|          | 0/24 [00:00<?, ?it/s]"
            ]
          },
          "metadata": {},
          "output_type": "display_data"
        },
        {
          "name": "stdout",
          "output_type": "stream",
          "text": [
            "\n",
            "Epoch valid finished. Calculating final metrics...\n",
            "--- IDH1 ---\n",
            "  Macro F1: 0.5804\n",
            "  Accuracy: 0.5833\n",
            "  Targets: [15  9]\n",
            "  Preds:   [11 13]\n",
            "--------------------\n",
            "--- MGMT ---\n",
            "  Macro F1: 0.3333\n",
            "  Accuracy: 0.5000\n",
            "  Targets: [11 13]\n",
            "  Preds:   [ 1 23]\n",
            "--------------------\n",
            "--- 1p/19q ---\n",
            "  Macro F1: 0.2000\n",
            "  Accuracy: 0.2500\n",
            "  Targets: [18  6]\n",
            "  Preds:   [ 0 24]\n",
            "--------------------\n",
            "--- grade ---\n",
            "  Macro F1: 0.2713\n",
            "  Accuracy: 0.2917\n",
            "  Targets: [ 3  7 14]\n",
            "  Preds:   [ 2 22]\n",
            "--------------------\n",
            "Epoch 20: train_loss=1.3238, val_loss=3.8319, LR=0.000150\n",
            "Train Macro F1: {'IDH1_macro_f1': '0.6363', 'MGMT_macro_f1': '0.4516', '1p/19q_macro_f1': '0.3604', 'grade_macro_f1': '0.5386'}\n",
            "Val Macro F1: {'IDH1_macro_f1': '0.5804', 'MGMT_macro_f1': '0.3333', '1p/19q_macro_f1': '0.2000', 'grade_macro_f1': '0.2713'}\n",
            "\n",
            "--- Fold 1 | Epoch 21/30 ---\n"
          ]
        },
        {
          "data": {
            "application/vnd.jupyter.widget-view+json": {
              "model_id": "4417e94df59e45f58e37c2796b7d90df",
              "version_major": 2,
              "version_minor": 0
            },
            "text/plain": [
              "train:   0%|          | 0/192 [00:00<?, ?it/s]"
            ]
          },
          "metadata": {},
          "output_type": "display_data"
        },
        {
          "name": "stdout",
          "output_type": "stream",
          "text": [
            "\n",
            "Epoch train finished. Calculating final metrics...\n",
            "--- IDH1 ---\n",
            "  Macro F1: 0.6353\n",
            "  Accuracy: 0.6354\n",
            "  Targets: [ 90 102]\n",
            "  Preds:   [106  86]\n",
            "--------------------\n",
            "--- MGMT ---\n",
            "  Macro F1: 0.5050\n",
            "  Accuracy: 0.5104\n",
            "  Targets: [118  74]\n",
            "  Preds:   [ 54 138]\n",
            "--------------------\n",
            "--- 1p/19q ---\n",
            "  Macro F1: 0.4013\n",
            "  Accuracy: 0.4115\n",
            "  Targets: [137  55]\n",
            "  Preds:   [ 30 162]\n",
            "--------------------\n",
            "--- grade ---\n",
            "  Macro F1: 0.6412\n",
            "  Accuracy: 0.5469\n",
            "  Targets: [ 21  64 107]\n",
            "  Preds:   [ 21 147  24]\n",
            "--------------------\n"
          ]
        },
        {
          "data": {
            "application/vnd.jupyter.widget-view+json": {
              "model_id": "b09d8546a9004c7bbf3e8e31ff009e70",
              "version_major": 2,
              "version_minor": 0
            },
            "text/plain": [
              "valid:   0%|          | 0/24 [00:00<?, ?it/s]"
            ]
          },
          "metadata": {},
          "output_type": "display_data"
        },
        {
          "name": "stdout",
          "output_type": "stream",
          "text": [
            "\n",
            "Epoch valid finished. Calculating final metrics...\n",
            "--- IDH1 ---\n",
            "  Macro F1: 0.7188\n",
            "  Accuracy: 0.7500\n",
            "  Targets: [15  9]\n",
            "  Preds:   [17  7]\n",
            "--------------------\n",
            "--- MGMT ---\n",
            "  Macro F1: 0.4198\n",
            "  Accuracy: 0.5417\n",
            "  Targets: [11 13]\n",
            "  Preds:   [ 2 22]\n",
            "--------------------\n",
            "--- 1p/19q ---\n",
            "  Macro F1: 0.4574\n",
            "  Accuracy: 0.4583\n",
            "  Targets: [18  6]\n",
            "  Preds:   [ 5 19]\n",
            "--------------------\n",
            "--- grade ---\n",
            "  Macro F1: 0.2500\n",
            "  Accuracy: 0.2500\n",
            "  Targets: [ 3  7 14]\n",
            "  Preds:   [ 5 13  6]\n",
            "--------------------\n",
            "Epoch 21: train_loss=1.2157, val_loss=3.4993, LR=0.000150\n",
            "Train Macro F1: {'IDH1_macro_f1': '0.6353', 'MGMT_macro_f1': '0.5050', '1p/19q_macro_f1': '0.4013', 'grade_macro_f1': '0.6412'}\n",
            "Val Macro F1: {'IDH1_macro_f1': '0.7188', 'MGMT_macro_f1': '0.4198', '1p/19q_macro_f1': '0.4574', 'grade_macro_f1': '0.2500'}\n",
            "\n",
            "--- Fold 1 | Epoch 22/30 ---\n"
          ]
        },
        {
          "data": {
            "application/vnd.jupyter.widget-view+json": {
              "model_id": "f02f5d2a56254b219d6c8d68f2c4225f",
              "version_major": 2,
              "version_minor": 0
            },
            "text/plain": [
              "train:   0%|          | 0/192 [00:00<?, ?it/s]"
            ]
          },
          "metadata": {},
          "output_type": "display_data"
        },
        {
          "name": "stdout",
          "output_type": "stream",
          "text": [
            "\n",
            "Epoch train finished. Calculating final metrics...\n",
            "--- IDH1 ---\n",
            "  Macro F1: 0.6224\n",
            "  Accuracy: 0.6250\n",
            "  Targets: [97 95]\n",
            "  Preds:   [111  81]\n",
            "--------------------\n",
            "--- MGMT ---\n",
            "  Macro F1: 0.5175\n",
            "  Accuracy: 0.5208\n",
            "  Targets: [128  64]\n",
            "  Preds:   [ 80 112]\n",
            "--------------------\n",
            "--- 1p/19q ---\n",
            "  Macro F1: 0.3727\n",
            "  Accuracy: 0.3802\n",
            "  Targets: [139  53]\n",
            "  Preds:   [ 32 160]\n",
            "--------------------\n",
            "--- grade ---\n",
            "  Macro F1: 0.5989\n",
            "  Accuracy: 0.4948\n",
            "  Targets: [ 24  61 107]\n",
            "  Preds:   [ 25 133  34]\n",
            "--------------------\n"
          ]
        },
        {
          "data": {
            "application/vnd.jupyter.widget-view+json": {
              "model_id": "bec129e2234442fcaca954ca7a27e67b",
              "version_major": 2,
              "version_minor": 0
            },
            "text/plain": [
              "valid:   0%|          | 0/24 [00:00<?, ?it/s]"
            ]
          },
          "metadata": {},
          "output_type": "display_data"
        },
        {
          "name": "stdout",
          "output_type": "stream",
          "text": [
            "\n",
            "Epoch valid finished. Calculating final metrics...\n",
            "--- IDH1 ---\n",
            "  Macro F1: 0.5253\n",
            "  Accuracy: 0.6250\n",
            "  Targets: [15  9]\n",
            "  Preds:   [20  4]\n",
            "--------------------\n",
            "--- MGMT ---\n",
            "  Macro F1: 0.3438\n",
            "  Accuracy: 0.4167\n",
            "  Targets: [11 13]\n",
            "  Preds:   [21  3]\n",
            "--------------------\n",
            "--- 1p/19q ---\n",
            "  Macro F1: 0.3143\n",
            "  Accuracy: 0.3333\n",
            "  Targets: [18  6]\n",
            "  Preds:   [ 2 22]\n",
            "--------------------\n",
            "--- grade ---\n",
            "  Macro F1: 0.2654\n",
            "  Accuracy: 0.2083\n",
            "  Targets: [ 3  7 14]\n",
            "  Preds:   [ 1 20  3]\n",
            "--------------------\n",
            "Epoch 22: train_loss=1.1957, val_loss=3.9090, LR=0.000150\n",
            "Train Macro F1: {'IDH1_macro_f1': '0.6224', 'MGMT_macro_f1': '0.5175', '1p/19q_macro_f1': '0.3727', 'grade_macro_f1': '0.5989'}\n",
            "Val Macro F1: {'IDH1_macro_f1': '0.5253', 'MGMT_macro_f1': '0.3438', '1p/19q_macro_f1': '0.3143', 'grade_macro_f1': '0.2654'}\n",
            "\n",
            "--- Fold 1 | Epoch 23/30 ---\n"
          ]
        },
        {
          "data": {
            "application/vnd.jupyter.widget-view+json": {
              "model_id": "7ce2b24c68134c748ebb4c8cf93021d5",
              "version_major": 2,
              "version_minor": 0
            },
            "text/plain": [
              "train:   0%|          | 0/192 [00:00<?, ?it/s]"
            ]
          },
          "metadata": {},
          "output_type": "display_data"
        },
        {
          "name": "stdout",
          "output_type": "stream",
          "text": [
            "\n",
            "Epoch train finished. Calculating final metrics...\n",
            "--- IDH1 ---\n",
            "  Macro F1: 0.6015\n",
            "  Accuracy: 0.6094\n",
            "  Targets: [100  92]\n",
            "  Preds:   [119  73]\n",
            "--------------------\n",
            "--- MGMT ---\n",
            "  Macro F1: 0.4837\n",
            "  Accuracy: 0.5260\n",
            "  Targets: [112  80]\n",
            "  Preds:   [135  57]\n",
            "--------------------\n",
            "--- 1p/19q ---\n",
            "  Macro F1: 0.3471\n",
            "  Accuracy: 0.3542\n",
            "  Targets: [145  47]\n",
            "  Preds:   [ 27 165]\n",
            "--------------------\n",
            "--- grade ---\n",
            "  Macro F1: 0.6068\n",
            "  Accuracy: 0.5052\n",
            "  Targets: [ 22  68 102]\n",
            "  Preds:   [ 22 141  29]\n",
            "--------------------\n"
          ]
        },
        {
          "data": {
            "application/vnd.jupyter.widget-view+json": {
              "model_id": "ac41885529e94fcc94bc856d5567090d",
              "version_major": 2,
              "version_minor": 0
            },
            "text/plain": [
              "valid:   0%|          | 0/24 [00:00<?, ?it/s]"
            ]
          },
          "metadata": {},
          "output_type": "display_data"
        },
        {
          "name": "stdout",
          "output_type": "stream",
          "text": [
            "\n",
            "Epoch valid finished. Calculating final metrics...\n",
            "--- IDH1 ---\n",
            "  Macro F1: 0.7188\n",
            "  Accuracy: 0.7500\n",
            "  Targets: [15  9]\n",
            "  Preds:   [17  7]\n",
            "--------------------\n",
            "--- MGMT ---\n",
            "  Macro F1: 0.5344\n",
            "  Accuracy: 0.5417\n",
            "  Targets: [11 13]\n",
            "  Preds:   [16  8]\n",
            "--------------------\n",
            "--- 1p/19q ---\n",
            "  Macro F1: 0.5000\n",
            "  Accuracy: 0.5000\n",
            "  Targets: [18  6]\n",
            "  Preds:   [ 6 18]\n",
            "--------------------\n",
            "--- grade ---\n",
            "  Macro F1: 0.2914\n",
            "  Accuracy: 0.2917\n",
            "  Targets: [ 3  7 14]\n",
            "  Preds:   [ 4 15  5]\n",
            "--------------------\n",
            "Epoch 23: train_loss=1.2127, val_loss=3.9535, LR=0.000075\n",
            "Train Macro F1: {'IDH1_macro_f1': '0.6015', 'MGMT_macro_f1': '0.4837', '1p/19q_macro_f1': '0.3471', 'grade_macro_f1': '0.6068'}\n",
            "Val Macro F1: {'IDH1_macro_f1': '0.7188', 'MGMT_macro_f1': '0.5344', '1p/19q_macro_f1': '0.5000', 'grade_macro_f1': '0.2914'}\n",
            "\n",
            "--- Fold 1 | Epoch 24/30 ---\n"
          ]
        },
        {
          "data": {
            "application/vnd.jupyter.widget-view+json": {
              "model_id": "1f0f84856fce493780caafc7f6976ebe",
              "version_major": 2,
              "version_minor": 0
            },
            "text/plain": [
              "train:   0%|          | 0/192 [00:00<?, ?it/s]"
            ]
          },
          "metadata": {},
          "output_type": "display_data"
        },
        {
          "name": "stdout",
          "output_type": "stream",
          "text": [
            "\n",
            "Epoch train finished. Calculating final metrics...\n",
            "--- IDH1 ---\n",
            "  Macro F1: 0.6091\n",
            "  Accuracy: 0.6094\n",
            "  Targets: [ 88 104]\n",
            "  Preds:   [99 93]\n",
            "--------------------\n",
            "--- MGMT ---\n",
            "  Macro F1: 0.5051\n",
            "  Accuracy: 0.5052\n",
            "  Targets: [106  86]\n",
            "  Preds:   [ 83 109]\n",
            "--------------------\n",
            "--- 1p/19q ---\n",
            "  Macro F1: 0.3923\n",
            "  Accuracy: 0.4010\n",
            "  Targets: [133  59]\n",
            "  Preds:   [ 36 156]\n",
            "--------------------\n",
            "--- grade ---\n",
            "  Macro F1: 0.6385\n",
            "  Accuracy: 0.5885\n",
            "  Targets: [33 74 85]\n",
            "  Preds:   [ 33 131  28]\n",
            "--------------------\n"
          ]
        },
        {
          "data": {
            "application/vnd.jupyter.widget-view+json": {
              "model_id": "8e84725b2ddb49b894678d8461022121",
              "version_major": 2,
              "version_minor": 0
            },
            "text/plain": [
              "valid:   0%|          | 0/24 [00:00<?, ?it/s]"
            ]
          },
          "metadata": {},
          "output_type": "display_data"
        },
        {
          "name": "stdout",
          "output_type": "stream",
          "text": [
            "\n",
            "Epoch valid finished. Calculating final metrics...\n",
            "--- IDH1 ---\n",
            "  Macro F1: 0.3739\n",
            "  Accuracy: 0.3750\n",
            "  Targets: [15  9]\n",
            "  Preds:   [10 14]\n",
            "--------------------\n",
            "--- MGMT ---\n",
            "  Macro F1: 0.4198\n",
            "  Accuracy: 0.5417\n",
            "  Targets: [11 13]\n",
            "  Preds:   [ 2 22]\n",
            "--------------------\n",
            "--- 1p/19q ---\n",
            "  Macro F1: 0.3651\n",
            "  Accuracy: 0.3750\n",
            "  Targets: [18  6]\n",
            "  Preds:   [ 3 21]\n",
            "--------------------\n",
            "--- grade ---\n",
            "  Macro F1: 0.2857\n",
            "  Accuracy: 0.2500\n",
            "  Targets: [ 3  7 14]\n",
            "  Preds:   [ 1 21  2]\n",
            "--------------------\n",
            "Epoch 24: train_loss=1.1789, val_loss=3.8623, LR=0.000075\n",
            "Train Macro F1: {'IDH1_macro_f1': '0.6091', 'MGMT_macro_f1': '0.5051', '1p/19q_macro_f1': '0.3923', 'grade_macro_f1': '0.6385'}\n",
            "Val Macro F1: {'IDH1_macro_f1': '0.3739', 'MGMT_macro_f1': '0.4198', '1p/19q_macro_f1': '0.3651', 'grade_macro_f1': '0.2857'}\n",
            "\n",
            "--- Fold 1 | Epoch 25/30 ---\n"
          ]
        },
        {
          "data": {
            "application/vnd.jupyter.widget-view+json": {
              "model_id": "5ab48b19e54b4189a0794b5ca44952d9",
              "version_major": 2,
              "version_minor": 0
            },
            "text/plain": [
              "train:   0%|          | 0/192 [00:00<?, ?it/s]"
            ]
          },
          "metadata": {},
          "output_type": "display_data"
        },
        {
          "name": "stdout",
          "output_type": "stream",
          "text": [
            "\n",
            "Epoch train finished. Calculating final metrics...\n",
            "--- IDH1 ---\n",
            "  Macro F1: 0.6458\n",
            "  Accuracy: 0.6458\n",
            "  Targets: [105  87]\n",
            "  Preds:   [ 89 103]\n",
            "--------------------\n",
            "--- MGMT ---\n",
            "  Macro F1: 0.4800\n",
            "  Accuracy: 0.4896\n",
            "  Targets: [124  68]\n",
            "  Preds:   [ 42 150]\n",
            "--------------------\n",
            "--- 1p/19q ---\n",
            "  Macro F1: 0.4115\n",
            "  Accuracy: 0.4167\n",
            "  Targets: [136  56]\n",
            "  Preds:   [ 38 154]\n",
            "--------------------\n",
            "--- grade ---\n",
            "  Macro F1: 0.5834\n",
            "  Accuracy: 0.5052\n",
            "  Targets: [ 25  64 103]\n",
            "  Preds:   [ 25 153  14]\n",
            "--------------------\n"
          ]
        },
        {
          "data": {
            "application/vnd.jupyter.widget-view+json": {
              "model_id": "257f1a9dccb34be69bd1276f7815d72a",
              "version_major": 2,
              "version_minor": 0
            },
            "text/plain": [
              "valid:   0%|          | 0/24 [00:00<?, ?it/s]"
            ]
          },
          "metadata": {},
          "output_type": "display_data"
        },
        {
          "name": "stdout",
          "output_type": "stream",
          "text": [
            "\n",
            "Epoch valid finished. Calculating final metrics...\n",
            "--- IDH1 ---\n",
            "  Macro F1: 0.6250\n",
            "  Accuracy: 0.6667\n",
            "  Targets: [15  9]\n",
            "  Preds:   [17  7]\n",
            "--------------------\n",
            "--- MGMT ---\n",
            "  Macro F1: 0.4198\n",
            "  Accuracy: 0.5417\n",
            "  Targets: [11 13]\n",
            "  Preds:   [ 2 22]\n",
            "--------------------\n",
            "--- 1p/19q ---\n",
            "  Macro F1: 0.4497\n",
            "  Accuracy: 0.4583\n",
            "  Targets: [18  6]\n",
            "  Preds:   [ 9 15]\n",
            "--------------------\n",
            "--- grade ---\n",
            "  Macro F1: 0.2679\n",
            "  Accuracy: 0.2917\n",
            "  Targets: [ 3  7 14]\n",
            "  Preds:   [ 4 19  1]\n",
            "--------------------\n",
            "Epoch 25: train_loss=1.1458, val_loss=3.9136, LR=0.000075\n",
            "Train Macro F1: {'IDH1_macro_f1': '0.6458', 'MGMT_macro_f1': '0.4800', '1p/19q_macro_f1': '0.4115', 'grade_macro_f1': '0.5834'}\n",
            "Val Macro F1: {'IDH1_macro_f1': '0.6250', 'MGMT_macro_f1': '0.4198', '1p/19q_macro_f1': '0.4497', 'grade_macro_f1': '0.2679'}\n",
            "\n",
            "--- Fold 1 | Epoch 26/30 ---\n"
          ]
        },
        {
          "data": {
            "application/vnd.jupyter.widget-view+json": {
              "model_id": "99256693c78f4e75b618ddc73e6fd9f0",
              "version_major": 2,
              "version_minor": 0
            },
            "text/plain": [
              "train:   0%|          | 0/192 [00:00<?, ?it/s]"
            ]
          },
          "metadata": {},
          "output_type": "display_data"
        },
        {
          "name": "stdout",
          "output_type": "stream",
          "text": [
            "\n",
            "Epoch train finished. Calculating final metrics...\n",
            "--- IDH1 ---\n",
            "  Macro F1: 0.6536\n",
            "  Accuracy: 0.6615\n",
            "  Targets: [98 94]\n",
            "  Preds:   [123  69]\n",
            "--------------------\n",
            "--- MGMT ---\n",
            "  Macro F1: 0.4857\n",
            "  Accuracy: 0.5000\n",
            "  Targets: [114  78]\n",
            "  Preds:   [ 46 146]\n",
            "--------------------\n",
            "--- 1p/19q ---\n",
            "  Macro F1: 0.5952\n",
            "  Accuracy: 0.6146\n",
            "  Targets: [145  47]\n",
            "  Preds:   [ 89 103]\n",
            "--------------------\n",
            "--- grade ---\n",
            "  Macro F1: 0.6926\n",
            "  Accuracy: 0.5990\n",
            "  Targets: [ 24  57 111]\n",
            "  Preds:   [ 24 124  44]\n",
            "--------------------\n"
          ]
        },
        {
          "data": {
            "application/vnd.jupyter.widget-view+json": {
              "model_id": "fd866530aeb94f57bbd9513557811500",
              "version_major": 2,
              "version_minor": 0
            },
            "text/plain": [
              "valid:   0%|          | 0/24 [00:00<?, ?it/s]"
            ]
          },
          "metadata": {},
          "output_type": "display_data"
        },
        {
          "name": "stdout",
          "output_type": "stream",
          "text": [
            "\n",
            "Epoch valid finished. Calculating final metrics...\n",
            "--- IDH1 ---\n",
            "  Macro F1: 0.5966\n",
            "  Accuracy: 0.6667\n",
            "  Targets: [15  9]\n",
            "  Preds:   [19  5]\n",
            "--------------------\n",
            "--- MGMT ---\n",
            "  Macro F1: 0.4198\n",
            "  Accuracy: 0.5417\n",
            "  Targets: [11 13]\n",
            "  Preds:   [ 2 22]\n",
            "--------------------\n",
            "--- 1p/19q ---\n",
            "  Macro F1: 0.4991\n",
            "  Accuracy: 0.5417\n",
            "  Targets: [18  6]\n",
            "  Preds:   [13 11]\n",
            "--------------------\n",
            "--- grade ---\n",
            "  Macro F1: 0.2682\n",
            "  Accuracy: 0.2500\n",
            "  Targets: [ 3  7 14]\n",
            "  Preds:   [ 3 16  5]\n",
            "--------------------\n",
            "Epoch 26: train_loss=1.1047, val_loss=3.8471, LR=0.000075\n",
            "Train Macro F1: {'IDH1_macro_f1': '0.6536', 'MGMT_macro_f1': '0.4857', '1p/19q_macro_f1': '0.5952', 'grade_macro_f1': '0.6926'}\n",
            "Val Macro F1: {'IDH1_macro_f1': '0.5966', 'MGMT_macro_f1': '0.4198', '1p/19q_macro_f1': '0.4991', 'grade_macro_f1': '0.2682'}\n",
            "\n",
            "--- Fold 1 | Epoch 27/30 ---\n"
          ]
        },
        {
          "data": {
            "application/vnd.jupyter.widget-view+json": {
              "model_id": "4cff9874a1ec4785bfcfc57df3890f04",
              "version_major": 2,
              "version_minor": 0
            },
            "text/plain": [
              "train:   0%|          | 0/192 [00:00<?, ?it/s]"
            ]
          },
          "metadata": {},
          "output_type": "display_data"
        },
        {
          "name": "stdout",
          "output_type": "stream",
          "text": [
            "\n",
            "Epoch train finished. Calculating final metrics...\n",
            "--- IDH1 ---\n",
            "  Macro F1: 0.6185\n",
            "  Accuracy: 0.6198\n",
            "  Targets: [ 90 102]\n",
            "  Preds:   [113  79]\n",
            "--------------------\n",
            "--- MGMT ---\n",
            "  Macro F1: 0.5296\n",
            "  Accuracy: 0.5521\n",
            "  Targets: [104  88]\n",
            "  Preds:   [ 46 146]\n",
            "--------------------\n",
            "--- 1p/19q ---\n",
            "  Macro F1: 0.5621\n",
            "  Accuracy: 0.5625\n",
            "  Targets: [123  69]\n",
            "  Preds:   [ 75 117]\n",
            "--------------------\n",
            "--- grade ---\n",
            "  Macro F1: 0.6826\n",
            "  Accuracy: 0.6042\n",
            "  Targets: [22 75 95]\n",
            "  Preds:   [ 22 137  33]\n",
            "--------------------\n"
          ]
        },
        {
          "data": {
            "application/vnd.jupyter.widget-view+json": {
              "model_id": "452c2173a3ed4c44a90a2974949a65ca",
              "version_major": 2,
              "version_minor": 0
            },
            "text/plain": [
              "valid:   0%|          | 0/24 [00:00<?, ?it/s]"
            ]
          },
          "metadata": {},
          "output_type": "display_data"
        },
        {
          "name": "stdout",
          "output_type": "stream",
          "text": [
            "\n",
            "Epoch valid finished. Calculating final metrics...\n",
            "--- IDH1 ---\n",
            "  Macro F1: 0.4958\n",
            "  Accuracy: 0.5833\n",
            "  Targets: [15  9]\n",
            "  Preds:   [19  5]\n",
            "--------------------\n",
            "--- MGMT ---\n",
            "  Macro F1: 0.4198\n",
            "  Accuracy: 0.5417\n",
            "  Targets: [11 13]\n",
            "  Preds:   [ 2 22]\n",
            "--------------------\n",
            "--- 1p/19q ---\n",
            "  Macro F1: 0.4000\n",
            "  Accuracy: 0.4167\n",
            "  Targets: [18  6]\n",
            "  Preds:   [10 14]\n",
            "--------------------\n",
            "--- grade ---\n",
            "  Macro F1: 0.3435\n",
            "  Accuracy: 0.2917\n",
            "  Targets: [ 3  7 14]\n",
            "  Preds:   [ 1 18  5]\n",
            "--------------------\n",
            "Epoch 27: train_loss=1.1929, val_loss=3.9189, LR=0.000037\n",
            "Train Macro F1: {'IDH1_macro_f1': '0.6185', 'MGMT_macro_f1': '0.5296', '1p/19q_macro_f1': '0.5621', 'grade_macro_f1': '0.6826'}\n",
            "Val Macro F1: {'IDH1_macro_f1': '0.4958', 'MGMT_macro_f1': '0.4198', '1p/19q_macro_f1': '0.4000', 'grade_macro_f1': '0.3435'}\n",
            "\n",
            "--- Fold 1 | Epoch 28/30 ---\n"
          ]
        },
        {
          "data": {
            "application/vnd.jupyter.widget-view+json": {
              "model_id": "ebe0d74d7a6543968337e63f944fb450",
              "version_major": 2,
              "version_minor": 0
            },
            "text/plain": [
              "train:   0%|          | 0/192 [00:00<?, ?it/s]"
            ]
          },
          "metadata": {},
          "output_type": "display_data"
        },
        {
          "name": "stdout",
          "output_type": "stream",
          "text": [
            "\n",
            "Epoch train finished. Calculating final metrics...\n",
            "--- IDH1 ---\n",
            "  Macro F1: 0.6506\n",
            "  Accuracy: 0.6510\n",
            "  Targets: [96 96]\n",
            "  Preds:   [103  89]\n",
            "--------------------\n",
            "--- MGMT ---\n",
            "  Macro F1: 0.4408\n",
            "  Accuracy: 0.4583\n",
            "  Targets: [116  76]\n",
            "  Preds:   [ 42 150]\n",
            "--------------------\n",
            "--- 1p/19q ---\n",
            "  Macro F1: 0.4583\n",
            "  Accuracy: 0.4583\n",
            "  Targets: [143  49]\n",
            "  Preds:   [ 49 143]\n",
            "--------------------\n",
            "--- grade ---\n",
            "  Macro F1: 0.6283\n",
            "  Accuracy: 0.5833\n",
            "  Targets: [28 71 93]\n",
            "  Preds:   [ 28 151  13]\n",
            "--------------------\n"
          ]
        },
        {
          "data": {
            "application/vnd.jupyter.widget-view+json": {
              "model_id": "e5e659c6ef3e4023ba28a138a1b696ff",
              "version_major": 2,
              "version_minor": 0
            },
            "text/plain": [
              "valid:   0%|          | 0/24 [00:00<?, ?it/s]"
            ]
          },
          "metadata": {},
          "output_type": "display_data"
        },
        {
          "name": "stdout",
          "output_type": "stream",
          "text": [
            "\n",
            "Epoch valid finished. Calculating final metrics...\n",
            "--- IDH1 ---\n",
            "  Macro F1: 0.4991\n",
            "  Accuracy: 0.5417\n",
            "  Targets: [15  9]\n",
            "  Preds:   [16  8]\n",
            "--------------------\n",
            "--- MGMT ---\n",
            "  Macro F1: 0.4198\n",
            "  Accuracy: 0.5417\n",
            "  Targets: [11 13]\n",
            "  Preds:   [ 2 22]\n",
            "--------------------\n",
            "--- 1p/19q ---\n",
            "  Macro F1: 0.4574\n",
            "  Accuracy: 0.4583\n",
            "  Targets: [18  6]\n",
            "  Preds:   [ 7 17]\n",
            "--------------------\n",
            "--- grade ---\n",
            "  Macro F1: 0.2770\n",
            "  Accuracy: 0.2500\n",
            "  Targets: [ 3  7 14]\n",
            "  Preds:   [ 2 18  4]\n",
            "--------------------\n",
            "Epoch 28: train_loss=1.0999, val_loss=4.0333, LR=0.000037\n",
            "Train Macro F1: {'IDH1_macro_f1': '0.6506', 'MGMT_macro_f1': '0.4408', '1p/19q_macro_f1': '0.4583', 'grade_macro_f1': '0.6283'}\n",
            "Val Macro F1: {'IDH1_macro_f1': '0.4991', 'MGMT_macro_f1': '0.4198', '1p/19q_macro_f1': '0.4574', 'grade_macro_f1': '0.2770'}\n",
            "\n",
            "--- Fold 1 | Epoch 29/30 ---\n"
          ]
        },
        {
          "data": {
            "application/vnd.jupyter.widget-view+json": {
              "model_id": "9bb7f0a929c24c5488f7615181fa829a",
              "version_major": 2,
              "version_minor": 0
            },
            "text/plain": [
              "train:   0%|          | 0/192 [00:00<?, ?it/s]"
            ]
          },
          "metadata": {},
          "output_type": "display_data"
        },
        {
          "name": "stdout",
          "output_type": "stream",
          "text": [
            "\n",
            "Epoch train finished. Calculating final metrics...\n",
            "--- IDH1 ---\n",
            "  Macro F1: 0.7236\n",
            "  Accuracy: 0.7240\n",
            "  Targets: [101  91]\n",
            "  Preds:   [98 94]\n",
            "--------------------\n",
            "--- MGMT ---\n",
            "  Macro F1: 0.4190\n",
            "  Accuracy: 0.4323\n",
            "  Targets: [117  75]\n",
            "  Preds:   [ 46 146]\n",
            "--------------------\n",
            "--- 1p/19q ---\n",
            "  Macro F1: 0.4373\n",
            "  Accuracy: 0.4375\n",
            "  Targets: [142  50]\n",
            "  Preds:   [ 46 146]\n",
            "--------------------\n",
            "--- grade ---\n",
            "  Macro F1: 0.6762\n",
            "  Accuracy: 0.5938\n",
            "  Targets: [ 27  61 104]\n",
            "  Preds:   [ 27 131  34]\n",
            "--------------------\n"
          ]
        },
        {
          "data": {
            "application/vnd.jupyter.widget-view+json": {
              "model_id": "36f974ea9d1a44fabed88a76a694f2b4",
              "version_major": 2,
              "version_minor": 0
            },
            "text/plain": [
              "valid:   0%|          | 0/24 [00:00<?, ?it/s]"
            ]
          },
          "metadata": {},
          "output_type": "display_data"
        },
        {
          "name": "stdout",
          "output_type": "stream",
          "text": [
            "\n",
            "Epoch valid finished. Calculating final metrics...\n",
            "--- IDH1 ---\n",
            "  Macro F1: 0.4991\n",
            "  Accuracy: 0.5417\n",
            "  Targets: [15  9]\n",
            "  Preds:   [16  8]\n",
            "--------------------\n",
            "--- MGMT ---\n",
            "  Macro F1: 0.4198\n",
            "  Accuracy: 0.5417\n",
            "  Targets: [11 13]\n",
            "  Preds:   [ 2 22]\n",
            "--------------------\n",
            "--- 1p/19q ---\n",
            "  Macro F1: 0.4126\n",
            "  Accuracy: 0.4167\n",
            "  Targets: [18  6]\n",
            "  Preds:   [ 8 16]\n",
            "--------------------\n",
            "--- grade ---\n",
            "  Macro F1: 0.2212\n",
            "  Accuracy: 0.2083\n",
            "  Targets: [ 3  7 14]\n",
            "  Preds:   [ 4 15  5]\n",
            "--------------------\n",
            "Epoch 29: train_loss=1.0908, val_loss=4.1233, LR=0.000037\n",
            "Train Macro F1: {'IDH1_macro_f1': '0.7236', 'MGMT_macro_f1': '0.4190', '1p/19q_macro_f1': '0.4373', 'grade_macro_f1': '0.6762'}\n",
            "Val Macro F1: {'IDH1_macro_f1': '0.4991', 'MGMT_macro_f1': '0.4198', '1p/19q_macro_f1': '0.4126', 'grade_macro_f1': '0.2212'}\n",
            "\n",
            "--- Fold 1 | Epoch 30/30 ---\n"
          ]
        },
        {
          "data": {
            "application/vnd.jupyter.widget-view+json": {
              "model_id": "47fd745caa8042d9a2059e89bbcd3290",
              "version_major": 2,
              "version_minor": 0
            },
            "text/plain": [
              "train:   0%|          | 0/192 [00:00<?, ?it/s]"
            ]
          },
          "metadata": {},
          "output_type": "display_data"
        },
        {
          "name": "stdout",
          "output_type": "stream",
          "text": [
            "\n",
            "Epoch train finished. Calculating final metrics...\n",
            "--- IDH1 ---\n",
            "  Macro F1: 0.6714\n",
            "  Accuracy: 0.6719\n",
            "  Targets: [94 98]\n",
            "  Preds:   [105  87]\n",
            "--------------------\n",
            "--- MGMT ---\n",
            "  Macro F1: 0.4072\n",
            "  Accuracy: 0.4427\n",
            "  Targets: [117  75]\n",
            "  Preds:   [ 28 164]\n",
            "--------------------\n",
            "--- 1p/19q ---\n",
            "  Macro F1: 0.5260\n",
            "  Accuracy: 0.5260\n",
            "  Targets: [133  59]\n",
            "  Preds:   [ 60 132]\n",
            "--------------------\n",
            "--- grade ---\n",
            "  Macro F1: 0.7319\n",
            "  Accuracy: 0.6875\n",
            "  Targets: [35 68 89]\n",
            "  Preds:   [ 35 124  33]\n",
            "--------------------\n"
          ]
        },
        {
          "data": {
            "application/vnd.jupyter.widget-view+json": {
              "model_id": "13f6fa864b024601bc9dff612124eee5",
              "version_major": 2,
              "version_minor": 0
            },
            "text/plain": [
              "valid:   0%|          | 0/24 [00:00<?, ?it/s]"
            ]
          },
          "metadata": {},
          "output_type": "display_data"
        },
        {
          "name": "stdout",
          "output_type": "stream",
          "text": [
            "\n",
            "Epoch valid finished. Calculating final metrics...\n",
            "--- IDH1 ---\n",
            "  Macro F1: 0.4667\n",
            "  Accuracy: 0.5417\n",
            "  Targets: [15  9]\n",
            "  Preds:   [18  6]\n",
            "--------------------\n",
            "--- MGMT ---\n",
            "  Macro F1: 0.4198\n",
            "  Accuracy: 0.5417\n",
            "  Targets: [11 13]\n",
            "  Preds:   [ 2 22]\n",
            "--------------------\n",
            "--- 1p/19q ---\n",
            "  Macro F1: 0.4126\n",
            "  Accuracy: 0.4167\n",
            "  Targets: [18  6]\n",
            "  Preds:   [ 8 16]\n",
            "--------------------\n",
            "--- grade ---\n",
            "  Macro F1: 0.3435\n",
            "  Accuracy: 0.2917\n",
            "  Targets: [ 3  7 14]\n",
            "  Preds:   [ 1 18  5]\n",
            "--------------------\n",
            "Epoch 30: train_loss=1.0547, val_loss=4.0195, LR=0.000037\n",
            "Train Macro F1: {'IDH1_macro_f1': '0.6714', 'MGMT_macro_f1': '0.4072', '1p/19q_macro_f1': '0.5260', 'grade_macro_f1': '0.7319'}\n",
            "Val Macro F1: {'IDH1_macro_f1': '0.4667', 'MGMT_macro_f1': '0.4198', '1p/19q_macro_f1': '0.4126', 'grade_macro_f1': '0.3435'}\n",
            "\n",
            "==========  FOLD 2/5  (96 train / 24 val) ==========\n",
            "Warmup: 5 epochs, 60 steps, LR start factor: 0.01\n",
            "\n",
            "--- Fold 2 | Epoch 1/30 ---\n"
          ]
        },
        {
          "name": "stderr",
          "output_type": "stream",
          "text": [
            "/usr/local/lib/python3.11/dist-packages/torch/optim/lr_scheduler.py:62: UserWarning: The verbose parameter is deprecated. Please use get_last_lr() to access the learning rate.\n",
            "  warnings.warn(\n"
          ]
        },
        {
          "data": {
            "application/vnd.jupyter.widget-view+json": {
              "model_id": "6888baa329234f8d85f47527f52609fc",
              "version_major": 2,
              "version_minor": 0
            },
            "text/plain": [
              "train:   0%|          | 0/192 [00:00<?, ?it/s]"
            ]
          },
          "metadata": {},
          "output_type": "display_data"
        },
        {
          "name": "stdout",
          "output_type": "stream",
          "text": [
            "\n",
            "Epoch train finished. Calculating final metrics...\n",
            "--- IDH1 ---\n",
            "  Macro F1: 0.4129\n",
            "  Accuracy: 0.4844\n",
            "  Targets: [98 94]\n",
            "  Preds:   [ 27 165]\n",
            "--------------------\n",
            "--- MGMT ---\n",
            "  Macro F1: 0.4253\n",
            "  Accuracy: 0.4583\n",
            "  Targets: [103  89]\n",
            "  Preds:   [ 43 149]\n",
            "--------------------\n",
            "--- 1p/19q ---\n",
            "  Macro F1: 0.2381\n",
            "  Accuracy: 0.3125\n",
            "  Targets: [132  60]\n",
            "  Preds:   [  0 192]\n",
            "--------------------\n",
            "--- grade ---\n",
            "  Macro F1: 0.1289\n",
            "  Accuracy: 0.1458\n",
            "  Targets: [23 72 97]\n",
            "  Preds:   [167  10  15]\n",
            "--------------------\n"
          ]
        },
        {
          "data": {
            "application/vnd.jupyter.widget-view+json": {
              "model_id": "cf162a5a2d46460c917ea63a7858e54b",
              "version_major": 2,
              "version_minor": 0
            },
            "text/plain": [
              "valid:   0%|          | 0/24 [00:00<?, ?it/s]"
            ]
          },
          "metadata": {},
          "output_type": "display_data"
        },
        {
          "name": "stdout",
          "output_type": "stream",
          "text": [
            "\n",
            "Epoch valid finished. Calculating final metrics...\n",
            "--- IDH1 ---\n",
            "  Macro F1: 0.3514\n",
            "  Accuracy: 0.5417\n",
            "  Targets: [11 13]\n",
            "  Preds:   [ 0 24]\n",
            "--------------------\n",
            "--- MGMT ---\n",
            "  Macro F1: 0.2500\n",
            "  Accuracy: 0.3333\n",
            "  Targets: [16  8]\n",
            "  Preds:   [ 0 24]\n",
            "--------------------\n",
            "--- 1p/19q ---\n",
            "  Macro F1: 0.2500\n",
            "  Accuracy: 0.3333\n",
            "  Targets: [16  8]\n",
            "  Preds:   [ 0 24]\n",
            "--------------------\n",
            "--- grade ---\n",
            "  Macro F1: 0.0741\n",
            "  Accuracy: 0.1250\n",
            "  Targets: [ 3  7 14]\n",
            "  Preds:   [24]\n",
            "--------------------\n",
            "Epoch 1: train_loss=3.3329, val_loss=3.1259, LR=0.000062\n",
            "Train Macro F1: {'IDH1_macro_f1': '0.4129', 'MGMT_macro_f1': '0.4253', '1p/19q_macro_f1': '0.2381', 'grade_macro_f1': '0.1289'}\n",
            "Val Macro F1: {'IDH1_macro_f1': '0.3514', 'MGMT_macro_f1': '0.2500', '1p/19q_macro_f1': '0.2500', 'grade_macro_f1': '0.0741'}\n",
            "Warmup phase (Epoch 1/5). LR controlled manually. Current LR: 0.000062\n",
            "Validation F1 ('grade') improved (-inf --> 0.0741). Saving model...\n",
            "\n",
            "--- Fold 2 | Epoch 2/30 ---\n"
          ]
        },
        {
          "data": {
            "application/vnd.jupyter.widget-view+json": {
              "model_id": "eee65c85af634bee83f04422783206f7",
              "version_major": 2,
              "version_minor": 0
            },
            "text/plain": [
              "train:   0%|          | 0/192 [00:00<?, ?it/s]"
            ]
          },
          "metadata": {},
          "output_type": "display_data"
        },
        {
          "name": "stdout",
          "output_type": "stream",
          "text": [
            "\n",
            "Epoch train finished. Calculating final metrics...\n",
            "--- IDH1 ---\n",
            "  Macro F1: 0.4363\n",
            "  Accuracy: 0.4583\n",
            "  Targets: [108  84]\n",
            "  Preds:   [ 46 146]\n",
            "--------------------\n",
            "--- MGMT ---\n",
            "  Macro F1: 0.4832\n",
            "  Accuracy: 0.4844\n",
            "  Targets: [104  88]\n",
            "  Preds:   [ 79 113]\n",
            "--------------------\n",
            "--- 1p/19q ---\n",
            "  Macro F1: 0.2033\n",
            "  Accuracy: 0.2552\n",
            "  Targets: [143  49]\n",
            "  Preds:   [  0 192]\n",
            "--------------------\n",
            "--- grade ---\n",
            "  Macro F1: 0.2540\n",
            "  Accuracy: 0.2917\n",
            "  Targets: [31 69 92]\n",
            "  Preds:   [ 52 123  17]\n",
            "--------------------\n"
          ]
        },
        {
          "data": {
            "application/vnd.jupyter.widget-view+json": {
              "model_id": "5695fcf2c01d4201bd2d2f3b3c4f0766",
              "version_major": 2,
              "version_minor": 0
            },
            "text/plain": [
              "valid:   0%|          | 0/24 [00:00<?, ?it/s]"
            ]
          },
          "metadata": {},
          "output_type": "display_data"
        },
        {
          "name": "stdout",
          "output_type": "stream",
          "text": [
            "\n",
            "Epoch valid finished. Calculating final metrics...\n",
            "--- IDH1 ---\n",
            "  Macro F1: 0.3143\n",
            "  Accuracy: 0.4583\n",
            "  Targets: [11 13]\n",
            "  Preds:   [24]\n",
            "--------------------\n",
            "--- MGMT ---\n",
            "  Macro F1: 0.4126\n",
            "  Accuracy: 0.4167\n",
            "  Targets: [16  8]\n",
            "  Preds:   [ 6 18]\n",
            "--------------------\n",
            "--- 1p/19q ---\n",
            "  Macro F1: 0.2500\n",
            "  Accuracy: 0.3333\n",
            "  Targets: [16  8]\n",
            "  Preds:   [ 0 24]\n",
            "--------------------\n",
            "--- grade ---\n",
            "  Macro F1: 0.1505\n",
            "  Accuracy: 0.2917\n",
            "  Targets: [ 3  7 14]\n",
            "  Preds:   [ 0 24]\n",
            "--------------------\n",
            "Epoch 2: train_loss=3.5133, val_loss=3.1541, LR=0.000122\n",
            "Train Macro F1: {'IDH1_macro_f1': '0.4363', 'MGMT_macro_f1': '0.4832', '1p/19q_macro_f1': '0.2033', 'grade_macro_f1': '0.2540'}\n",
            "Val Macro F1: {'IDH1_macro_f1': '0.3143', 'MGMT_macro_f1': '0.4126', '1p/19q_macro_f1': '0.2500', 'grade_macro_f1': '0.1505'}\n",
            "Warmup phase (Epoch 2/5). LR controlled manually. Current LR: 0.000122\n",
            "Validation F1 ('grade') improved (0.0741 --> 0.1505). Saving model...\n",
            "\n",
            "--- Fold 2 | Epoch 3/30 ---\n"
          ]
        },
        {
          "data": {
            "application/vnd.jupyter.widget-view+json": {
              "model_id": "018df8682f82471aad76e6c04ef81f15",
              "version_major": 2,
              "version_minor": 0
            },
            "text/plain": [
              "train:   0%|          | 0/192 [00:00<?, ?it/s]"
            ]
          },
          "metadata": {},
          "output_type": "display_data"
        },
        {
          "name": "stdout",
          "output_type": "stream",
          "text": [
            "\n",
            "Epoch train finished. Calculating final metrics...\n",
            "--- IDH1 ---\n",
            "  Macro F1: 0.4840\n",
            "  Accuracy: 0.4844\n",
            "  Targets: [96 96]\n",
            "  Preds:   [ 91 101]\n",
            "--------------------\n",
            "--- MGMT ---\n",
            "  Macro F1: 0.4818\n",
            "  Accuracy: 0.5000\n",
            "  Targets: [112  80]\n",
            "  Preds:   [ 44 148]\n",
            "--------------------\n",
            "--- 1p/19q ---\n",
            "  Macro F1: 0.2755\n",
            "  Accuracy: 0.2969\n",
            "  Targets: [145  47]\n",
            "  Preds:   [ 14 178]\n",
            "--------------------\n",
            "--- grade ---\n",
            "  Macro F1: 0.2239\n",
            "  Accuracy: 0.3177\n",
            "  Targets: [30 70 92]\n",
            "  Preds:   [ 32 160]\n",
            "--------------------\n"
          ]
        },
        {
          "data": {
            "application/vnd.jupyter.widget-view+json": {
              "model_id": "8a3ea3ca497540d791d940f35638ccea",
              "version_major": 2,
              "version_minor": 0
            },
            "text/plain": [
              "valid:   0%|          | 0/24 [00:00<?, ?it/s]"
            ]
          },
          "metadata": {},
          "output_type": "display_data"
        },
        {
          "name": "stdout",
          "output_type": "stream",
          "text": [
            "\n",
            "Epoch valid finished. Calculating final metrics...\n",
            "--- IDH1 ---\n",
            "  Macro F1: 0.3514\n",
            "  Accuracy: 0.5417\n",
            "  Targets: [11 13]\n",
            "  Preds:   [ 0 24]\n",
            "--------------------\n",
            "--- MGMT ---\n",
            "  Macro F1: 0.2500\n",
            "  Accuracy: 0.3333\n",
            "  Targets: [16  8]\n",
            "  Preds:   [ 0 24]\n",
            "--------------------\n",
            "--- 1p/19q ---\n",
            "  Macro F1: 0.2500\n",
            "  Accuracy: 0.3333\n",
            "  Targets: [16  8]\n",
            "  Preds:   [ 0 24]\n",
            "--------------------\n",
            "--- grade ---\n",
            "  Macro F1: 0.1505\n",
            "  Accuracy: 0.2917\n",
            "  Targets: [ 3  7 14]\n",
            "  Preds:   [ 0 24]\n",
            "--------------------\n",
            "Epoch 3: train_loss=3.4593, val_loss=3.1628, LR=0.000181\n",
            "Train Macro F1: {'IDH1_macro_f1': '0.4840', 'MGMT_macro_f1': '0.4818', '1p/19q_macro_f1': '0.2755', 'grade_macro_f1': '0.2239'}\n",
            "Val Macro F1: {'IDH1_macro_f1': '0.3514', 'MGMT_macro_f1': '0.2500', '1p/19q_macro_f1': '0.2500', 'grade_macro_f1': '0.1505'}\n",
            "Warmup phase (Epoch 3/5). LR controlled manually. Current LR: 0.000181\n",
            "\n",
            "--- Fold 2 | Epoch 4/30 ---\n"
          ]
        },
        {
          "data": {
            "application/vnd.jupyter.widget-view+json": {
              "model_id": "327cfc7e13fd4080820fefa3d4a4f8ae",
              "version_major": 2,
              "version_minor": 0
            },
            "text/plain": [
              "train:   0%|          | 0/192 [00:00<?, ?it/s]"
            ]
          },
          "metadata": {},
          "output_type": "display_data"
        },
        {
          "name": "stdout",
          "output_type": "stream",
          "text": [
            "\n",
            "Epoch train finished. Calculating final metrics...\n",
            "--- IDH1 ---\n",
            "  Macro F1: 0.4109\n",
            "  Accuracy: 0.5521\n",
            "  Targets: [ 87 105]\n",
            "  Preds:   [ 11 181]\n",
            "--------------------\n",
            "--- MGMT ---\n",
            "  Macro F1: 0.4728\n",
            "  Accuracy: 0.4740\n",
            "  Targets: [96 96]\n",
            "  Preds:   [ 87 105]\n",
            "--------------------\n",
            "--- 1p/19q ---\n",
            "  Macro F1: 0.4960\n",
            "  Accuracy: 0.5469\n",
            "  Targets: [145  47]\n",
            "  Preds:   [108  84]\n",
            "--------------------\n",
            "--- grade ---\n",
            "  Macro F1: 0.2089\n",
            "  Accuracy: 0.3333\n",
            "  Targets: [25 72 95]\n",
            "  Preds:   [ 11 174   7]\n",
            "--------------------\n"
          ]
        },
        {
          "data": {
            "application/vnd.jupyter.widget-view+json": {
              "model_id": "63b8a502244a45c192c70c65f043ee65",
              "version_major": 2,
              "version_minor": 0
            },
            "text/plain": [
              "valid:   0%|          | 0/24 [00:00<?, ?it/s]"
            ]
          },
          "metadata": {},
          "output_type": "display_data"
        },
        {
          "name": "stdout",
          "output_type": "stream",
          "text": [
            "\n",
            "Epoch valid finished. Calculating final metrics...\n",
            "--- IDH1 ---\n",
            "  Macro F1: 0.3514\n",
            "  Accuracy: 0.5417\n",
            "  Targets: [11 13]\n",
            "  Preds:   [ 0 24]\n",
            "--------------------\n",
            "--- MGMT ---\n",
            "  Macro F1: 0.4857\n",
            "  Accuracy: 0.5000\n",
            "  Targets: [16  8]\n",
            "  Preds:   [12 12]\n",
            "--------------------\n",
            "--- 1p/19q ---\n",
            "  Macro F1: 0.2000\n",
            "  Accuracy: 0.2500\n",
            "  Targets: [16  8]\n",
            "  Preds:   [ 2 22]\n",
            "--------------------\n",
            "--- grade ---\n",
            "  Macro F1: 0.1505\n",
            "  Accuracy: 0.2917\n",
            "  Targets: [ 3  7 14]\n",
            "  Preds:   [ 0 24]\n",
            "--------------------\n",
            "Epoch 4: train_loss=3.2988, val_loss=3.1487, LR=0.000241\n",
            "Train Macro F1: {'IDH1_macro_f1': '0.4109', 'MGMT_macro_f1': '0.4728', '1p/19q_macro_f1': '0.4960', 'grade_macro_f1': '0.2089'}\n",
            "Val Macro F1: {'IDH1_macro_f1': '0.3514', 'MGMT_macro_f1': '0.4857', '1p/19q_macro_f1': '0.2000', 'grade_macro_f1': '0.1505'}\n",
            "Warmup phase (Epoch 4/5). LR controlled manually. Current LR: 0.000241\n",
            "\n",
            "--- Fold 2 | Epoch 5/30 ---\n"
          ]
        },
        {
          "data": {
            "application/vnd.jupyter.widget-view+json": {
              "model_id": "9099aecdca874e81801b63f20dcb2b32",
              "version_major": 2,
              "version_minor": 0
            },
            "text/plain": [
              "train:   0%|          | 0/192 [00:00<?, ?it/s]"
            ]
          },
          "metadata": {},
          "output_type": "display_data"
        },
        {
          "name": "stdout",
          "output_type": "stream",
          "text": [
            "\n",
            "Epoch train finished. Calculating final metrics...\n",
            "--- IDH1 ---\n",
            "  Macro F1: 0.4071\n",
            "  Accuracy: 0.5000\n",
            "  Targets: [103  89]\n",
            "  Preds:   [ 13 179]\n",
            "--------------------\n",
            "--- MGMT ---\n",
            "  Macro F1: 0.4498\n",
            "  Accuracy: 0.5000\n",
            "  Targets: [105  87]\n",
            "  Preds:   [ 29 163]\n",
            "--------------------\n",
            "--- 1p/19q ---\n",
            "  Macro F1: 0.3077\n",
            "  Accuracy: 0.3281\n",
            "  Targets: [137  55]\n",
            "  Preds:   [ 22 170]\n",
            "--------------------\n",
            "--- grade ---\n",
            "  Macro F1: 0.1776\n",
            "  Accuracy: 0.3594\n",
            "  Targets: [24 69 99]\n",
            "  Preds:   [  2 190]\n",
            "--------------------\n"
          ]
        },
        {
          "data": {
            "application/vnd.jupyter.widget-view+json": {
              "model_id": "e4aec3fab7d04bf289149640631884f7",
              "version_major": 2,
              "version_minor": 0
            },
            "text/plain": [
              "valid:   0%|          | 0/24 [00:00<?, ?it/s]"
            ]
          },
          "metadata": {},
          "output_type": "display_data"
        },
        {
          "name": "stdout",
          "output_type": "stream",
          "text": [
            "\n",
            "Epoch valid finished. Calculating final metrics...\n",
            "--- IDH1 ---\n",
            "  Macro F1: 0.3514\n",
            "  Accuracy: 0.5417\n",
            "  Targets: [11 13]\n",
            "  Preds:   [ 0 24]\n",
            "--------------------\n",
            "--- MGMT ---\n",
            "  Macro F1: 0.2500\n",
            "  Accuracy: 0.3333\n",
            "  Targets: [16  8]\n",
            "  Preds:   [ 0 24]\n",
            "--------------------\n",
            "--- 1p/19q ---\n",
            "  Macro F1: 0.2500\n",
            "  Accuracy: 0.3333\n",
            "  Targets: [16  8]\n",
            "  Preds:   [ 0 24]\n",
            "--------------------\n",
            "--- grade ---\n",
            "  Macro F1: 0.1505\n",
            "  Accuracy: 0.2917\n",
            "  Targets: [ 3  7 14]\n",
            "  Preds:   [ 0 24]\n",
            "--------------------\n",
            "Epoch 5: train_loss=3.2656, val_loss=3.1471, LR=0.000300\n",
            "Train Macro F1: {'IDH1_macro_f1': '0.4071', 'MGMT_macro_f1': '0.4498', '1p/19q_macro_f1': '0.3077', 'grade_macro_f1': '0.1776'}\n",
            "Val Macro F1: {'IDH1_macro_f1': '0.3514', 'MGMT_macro_f1': '0.2500', '1p/19q_macro_f1': '0.2500', 'grade_macro_f1': '0.1505'}\n",
            "\n",
            "--- Fold 2 | Epoch 6/30 ---\n"
          ]
        },
        {
          "data": {
            "application/vnd.jupyter.widget-view+json": {
              "model_id": "9d2e0b568a464368a5a979182b837224",
              "version_major": 2,
              "version_minor": 0
            },
            "text/plain": [
              "train:   0%|          | 0/192 [00:00<?, ?it/s]"
            ]
          },
          "metadata": {},
          "output_type": "display_data"
        },
        {
          "name": "stdout",
          "output_type": "stream",
          "text": [
            "\n",
            "Epoch train finished. Calculating final metrics...\n",
            "--- IDH1 ---\n",
            "  Macro F1: 0.5050\n",
            "  Accuracy: 0.5104\n",
            "  Targets: [96 96]\n",
            "  Preds:   [ 76 116]\n",
            "--------------------\n",
            "--- MGMT ---\n",
            "  Macro F1: 0.3474\n",
            "  Accuracy: 0.4635\n",
            "  Targets: [101  91]\n",
            "  Preds:   [ 10 182]\n",
            "--------------------\n",
            "--- 1p/19q ---\n",
            "  Macro F1: 0.2927\n",
            "  Accuracy: 0.3333\n",
            "  Targets: [136  56]\n",
            "  Preds:   [ 10 182]\n",
            "--------------------\n",
            "--- grade ---\n",
            "  Macro F1: 0.2090\n",
            "  Accuracy: 0.2917\n",
            "  Targets: [34 65 93]\n",
            "  Preds:   [ 49 141   2]\n",
            "--------------------\n"
          ]
        },
        {
          "data": {
            "application/vnd.jupyter.widget-view+json": {
              "model_id": "90b3eb057a5340d79af917c0553c8fb6",
              "version_major": 2,
              "version_minor": 0
            },
            "text/plain": [
              "valid:   0%|          | 0/24 [00:00<?, ?it/s]"
            ]
          },
          "metadata": {},
          "output_type": "display_data"
        },
        {
          "name": "stdout",
          "output_type": "stream",
          "text": [
            "\n",
            "Epoch valid finished. Calculating final metrics...\n",
            "--- IDH1 ---\n",
            "  Macro F1: 0.2727\n",
            "  Accuracy: 0.3750\n",
            "  Targets: [11 13]\n",
            "  Preds:   [22  2]\n",
            "--------------------\n",
            "--- MGMT ---\n",
            "  Macro F1: 0.2500\n",
            "  Accuracy: 0.3333\n",
            "  Targets: [16  8]\n",
            "  Preds:   [ 0 24]\n",
            "--------------------\n",
            "--- 1p/19q ---\n",
            "  Macro F1: 0.2500\n",
            "  Accuracy: 0.3333\n",
            "  Targets: [16  8]\n",
            "  Preds:   [ 0 24]\n",
            "--------------------\n",
            "--- grade ---\n",
            "  Macro F1: 0.0741\n",
            "  Accuracy: 0.1250\n",
            "  Targets: [ 3  7 14]\n",
            "  Preds:   [24]\n",
            "--------------------\n",
            "Epoch 6: train_loss=3.6065, val_loss=3.1666, LR=0.000300\n",
            "Train Macro F1: {'IDH1_macro_f1': '0.5050', 'MGMT_macro_f1': '0.3474', '1p/19q_macro_f1': '0.2927', 'grade_macro_f1': '0.2090'}\n",
            "Val Macro F1: {'IDH1_macro_f1': '0.2727', 'MGMT_macro_f1': '0.2500', '1p/19q_macro_f1': '0.2500', 'grade_macro_f1': '0.0741'}\n",
            "\n",
            "--- Fold 2 | Epoch 7/30 ---\n"
          ]
        },
        {
          "data": {
            "application/vnd.jupyter.widget-view+json": {
              "model_id": "d1346ece6ac143279da62eb06abea81f",
              "version_major": 2,
              "version_minor": 0
            },
            "text/plain": [
              "train:   0%|          | 0/192 [00:00<?, ?it/s]"
            ]
          },
          "metadata": {},
          "output_type": "display_data"
        },
        {
          "name": "stdout",
          "output_type": "stream",
          "text": [
            "\n",
            "Epoch train finished. Calculating final metrics...\n",
            "--- IDH1 ---\n",
            "  Macro F1: 0.3665\n",
            "  Accuracy: 0.4531\n",
            "  Targets: [101  91]\n",
            "  Preds:   [ 20 172]\n",
            "--------------------\n",
            "--- MGMT ---\n",
            "  Macro F1: 0.4513\n",
            "  Accuracy: 0.4740\n",
            "  Targets: [103  89]\n",
            "  Preds:   [ 50 142]\n",
            "--------------------\n",
            "--- 1p/19q ---\n",
            "  Macro F1: 0.2159\n",
            "  Accuracy: 0.2552\n",
            "  Targets: [145  47]\n",
            "  Preds:   [  4 188]\n",
            "--------------------\n",
            "--- grade ---\n",
            "  Macro F1: 0.2384\n",
            "  Accuracy: 0.3073\n",
            "  Targets: [24 74 94]\n",
            "  Preds:   [ 58 134]\n",
            "--------------------\n"
          ]
        },
        {
          "data": {
            "application/vnd.jupyter.widget-view+json": {
              "model_id": "d1d5b4dc4e844fa98c49bf4d7732d15b",
              "version_major": 2,
              "version_minor": 0
            },
            "text/plain": [
              "valid:   0%|          | 0/24 [00:00<?, ?it/s]"
            ]
          },
          "metadata": {},
          "output_type": "display_data"
        },
        {
          "name": "stdout",
          "output_type": "stream",
          "text": [
            "\n",
            "Epoch valid finished. Calculating final metrics...\n",
            "--- IDH1 ---\n",
            "  Macro F1: 0.3514\n",
            "  Accuracy: 0.5417\n",
            "  Targets: [11 13]\n",
            "  Preds:   [ 0 24]\n",
            "--------------------\n",
            "--- MGMT ---\n",
            "  Macro F1: 0.3143\n",
            "  Accuracy: 0.3333\n",
            "  Targets: [16  8]\n",
            "  Preds:   [ 4 20]\n",
            "--------------------\n",
            "--- 1p/19q ---\n",
            "  Macro F1: 0.2500\n",
            "  Accuracy: 0.3333\n",
            "  Targets: [16  8]\n",
            "  Preds:   [ 0 24]\n",
            "--------------------\n",
            "--- grade ---\n",
            "  Macro F1: 0.1505\n",
            "  Accuracy: 0.2917\n",
            "  Targets: [ 3  7 14]\n",
            "  Preds:   [ 0 24]\n",
            "--------------------\n",
            "Epoch 7: train_loss=3.2819, val_loss=3.1337, LR=0.000300\n",
            "Train Macro F1: {'IDH1_macro_f1': '0.3665', 'MGMT_macro_f1': '0.4513', '1p/19q_macro_f1': '0.2159', 'grade_macro_f1': '0.2384'}\n",
            "Val Macro F1: {'IDH1_macro_f1': '0.3514', 'MGMT_macro_f1': '0.3143', '1p/19q_macro_f1': '0.2500', 'grade_macro_f1': '0.1505'}\n",
            "\n",
            "--- Fold 2 | Epoch 8/30 ---\n"
          ]
        },
        {
          "data": {
            "application/vnd.jupyter.widget-view+json": {
              "model_id": "8c74150056b34661b532cbeb41b9aa4c",
              "version_major": 2,
              "version_minor": 0
            },
            "text/plain": [
              "train:   0%|          | 0/192 [00:00<?, ?it/s]"
            ]
          },
          "metadata": {},
          "output_type": "display_data"
        },
        {
          "name": "stdout",
          "output_type": "stream",
          "text": [
            "\n",
            "Epoch train finished. Calculating final metrics...\n",
            "--- IDH1 ---\n",
            "  Macro F1: 0.3698\n",
            "  Accuracy: 0.5052\n",
            "  Targets: [ 92 100]\n",
            "  Preds:   [ 11 181]\n",
            "--------------------\n",
            "--- MGMT ---\n",
            "  Macro F1: 0.3967\n",
            "  Accuracy: 0.4427\n",
            "  Targets: [97 95]\n",
            "  Preds:   [ 42 150]\n",
            "--------------------\n",
            "--- 1p/19q ---\n",
            "  Macro F1: 0.2276\n",
            "  Accuracy: 0.2865\n",
            "  Targets: [136  56]\n",
            "  Preds:   [  3 189]\n",
            "--------------------\n",
            "--- grade ---\n",
            "  Macro F1: 0.2408\n",
            "  Accuracy: 0.4062\n",
            "  Targets: [29 75 88]\n",
            "  Preds:   [  0 177  15]\n",
            "--------------------\n"
          ]
        },
        {
          "data": {
            "application/vnd.jupyter.widget-view+json": {
              "model_id": "ce2dbc5283d6439e9d207ebd5cbceb1d",
              "version_major": 2,
              "version_minor": 0
            },
            "text/plain": [
              "valid:   0%|          | 0/24 [00:00<?, ?it/s]"
            ]
          },
          "metadata": {},
          "output_type": "display_data"
        },
        {
          "name": "stdout",
          "output_type": "stream",
          "text": [
            "\n",
            "Epoch valid finished. Calculating final metrics...\n",
            "--- IDH1 ---\n",
            "  Macro F1: 0.3514\n",
            "  Accuracy: 0.5417\n",
            "  Targets: [11 13]\n",
            "  Preds:   [ 0 24]\n",
            "--------------------\n",
            "--- MGMT ---\n",
            "  Macro F1: 0.2500\n",
            "  Accuracy: 0.3333\n",
            "  Targets: [16  8]\n",
            "  Preds:   [ 0 24]\n",
            "--------------------\n",
            "--- 1p/19q ---\n",
            "  Macro F1: 0.2500\n",
            "  Accuracy: 0.3333\n",
            "  Targets: [16  8]\n",
            "  Preds:   [ 0 24]\n",
            "--------------------\n",
            "--- grade ---\n",
            "  Macro F1: 0.1505\n",
            "  Accuracy: 0.2917\n",
            "  Targets: [ 3  7 14]\n",
            "  Preds:   [ 0 24]\n",
            "--------------------\n",
            "Epoch 8: train_loss=3.4976, val_loss=3.1849, LR=0.000300\n",
            "Train Macro F1: {'IDH1_macro_f1': '0.3698', 'MGMT_macro_f1': '0.3967', '1p/19q_macro_f1': '0.2276', 'grade_macro_f1': '0.2408'}\n",
            "Val Macro F1: {'IDH1_macro_f1': '0.3514', 'MGMT_macro_f1': '0.2500', '1p/19q_macro_f1': '0.2500', 'grade_macro_f1': '0.1505'}\n",
            "\n",
            "--- Fold 2 | Epoch 9/30 ---\n"
          ]
        },
        {
          "data": {
            "application/vnd.jupyter.widget-view+json": {
              "model_id": "38b638df4b414957b25fbdddd29b23a6",
              "version_major": 2,
              "version_minor": 0
            },
            "text/plain": [
              "train:   0%|          | 0/192 [00:00<?, ?it/s]"
            ]
          },
          "metadata": {},
          "output_type": "display_data"
        },
        {
          "name": "stdout",
          "output_type": "stream",
          "text": [
            "\n",
            "Epoch train finished. Calculating final metrics...\n",
            "--- IDH1 ---\n",
            "  Macro F1: 0.4559\n",
            "  Accuracy: 0.4740\n",
            "  Targets: [104  88]\n",
            "  Preds:   [ 53 139]\n",
            "--------------------\n",
            "--- MGMT ---\n",
            "  Macro F1: 0.3380\n",
            "  Accuracy: 0.4740\n",
            "  Targets: [103  89]\n",
            "  Preds:   [  2 190]\n",
            "--------------------\n",
            "--- 1p/19q ---\n",
            "  Macro F1: 0.2558\n",
            "  Accuracy: 0.2865\n",
            "  Targets: [141  51]\n",
            "  Preds:   [ 12 180]\n",
            "--------------------\n",
            "--- grade ---\n",
            "  Macro F1: 0.2595\n",
            "  Accuracy: 0.3385\n",
            "  Targets: [32 70 90]\n",
            "  Preds:   [ 49 143]\n",
            "--------------------\n"
          ]
        },
        {
          "data": {
            "application/vnd.jupyter.widget-view+json": {
              "model_id": "fd63de6ce0b34bb9afdde88d8387456d",
              "version_major": 2,
              "version_minor": 0
            },
            "text/plain": [
              "valid:   0%|          | 0/24 [00:00<?, ?it/s]"
            ]
          },
          "metadata": {},
          "output_type": "display_data"
        },
        {
          "name": "stdout",
          "output_type": "stream",
          "text": [
            "\n",
            "Epoch valid finished. Calculating final metrics...\n",
            "--- IDH1 ---\n",
            "  Macro F1: 0.3514\n",
            "  Accuracy: 0.5417\n",
            "  Targets: [11 13]\n",
            "  Preds:   [ 0 24]\n",
            "--------------------\n",
            "--- MGMT ---\n",
            "  Macro F1: 0.2500\n",
            "  Accuracy: 0.3333\n",
            "  Targets: [16  8]\n",
            "  Preds:   [ 0 24]\n",
            "--------------------\n",
            "--- 1p/19q ---\n",
            "  Macro F1: 0.2500\n",
            "  Accuracy: 0.3333\n",
            "  Targets: [16  8]\n",
            "  Preds:   [ 0 24]\n",
            "--------------------\n",
            "--- grade ---\n",
            "  Macro F1: 0.1541\n",
            "  Accuracy: 0.1667\n",
            "  Targets: [ 3  7 14]\n",
            "  Preds:   [22  2]\n",
            "--------------------\n",
            "Epoch 9: train_loss=3.5308, val_loss=3.2072, LR=0.000300\n",
            "Train Macro F1: {'IDH1_macro_f1': '0.4559', 'MGMT_macro_f1': '0.3380', '1p/19q_macro_f1': '0.2558', 'grade_macro_f1': '0.2595'}\n",
            "Val Macro F1: {'IDH1_macro_f1': '0.3514', 'MGMT_macro_f1': '0.2500', '1p/19q_macro_f1': '0.2500', 'grade_macro_f1': '0.1541'}\n",
            "Validation F1 ('grade') improved (0.1505 --> 0.1541). Saving model...\n",
            "\n",
            "--- Fold 2 | Epoch 10/30 ---\n"
          ]
        },
        {
          "data": {
            "application/vnd.jupyter.widget-view+json": {
              "model_id": "8e9c8e9a0ead468da064fcf7c85899bf",
              "version_major": 2,
              "version_minor": 0
            },
            "text/plain": [
              "train:   0%|          | 0/192 [00:00<?, ?it/s]"
            ]
          },
          "metadata": {},
          "output_type": "display_data"
        },
        {
          "name": "stdout",
          "output_type": "stream",
          "text": [
            "\n",
            "Epoch train finished. Calculating final metrics...\n",
            "--- IDH1 ---\n",
            "  Macro F1: 0.4862\n",
            "  Accuracy: 0.6042\n",
            "  Targets: [ 77 115]\n",
            "  Preds:   [ 23 169]\n",
            "--------------------\n",
            "--- MGMT ---\n",
            "  Macro F1: 0.3906\n",
            "  Accuracy: 0.4740\n",
            "  Targets: [96 96]\n",
            "  Preds:   [ 25 167]\n",
            "--------------------\n",
            "--- 1p/19q ---\n",
            "  Macro F1: 0.2854\n",
            "  Accuracy: 0.3750\n",
            "  Targets: [121  71]\n",
            "  Preds:   [  3 189]\n",
            "--------------------\n",
            "--- grade ---\n",
            "  Macro F1: 0.1661\n",
            "  Accuracy: 0.2240\n",
            "  Targets: [37 78 77]\n",
            "  Preds:   [173  19]\n",
            "--------------------\n"
          ]
        },
        {
          "data": {
            "application/vnd.jupyter.widget-view+json": {
              "model_id": "552f1e49ea6c40edab0c1299a42594d2",
              "version_major": 2,
              "version_minor": 0
            },
            "text/plain": [
              "valid:   0%|          | 0/24 [00:00<?, ?it/s]"
            ]
          },
          "metadata": {},
          "output_type": "display_data"
        },
        {
          "name": "stdout",
          "output_type": "stream",
          "text": [
            "\n",
            "Epoch valid finished. Calculating final metrics...\n",
            "--- IDH1 ---\n",
            "  Macro F1: 0.3514\n",
            "  Accuracy: 0.5417\n",
            "  Targets: [11 13]\n",
            "  Preds:   [ 0 24]\n",
            "--------------------\n",
            "--- MGMT ---\n",
            "  Macro F1: 0.2500\n",
            "  Accuracy: 0.3333\n",
            "  Targets: [16  8]\n",
            "  Preds:   [ 0 24]\n",
            "--------------------\n",
            "--- 1p/19q ---\n",
            "  Macro F1: 0.2500\n",
            "  Accuracy: 0.3333\n",
            "  Targets: [16  8]\n",
            "  Preds:   [ 0 24]\n",
            "--------------------\n",
            "--- grade ---\n",
            "  Macro F1: 0.2745\n",
            "  Accuracy: 0.2917\n",
            "  Targets: [ 3  7 14]\n",
            "  Preds:   [14 10]\n",
            "--------------------\n",
            "Epoch 10: train_loss=3.6802, val_loss=3.2726, LR=0.000300\n",
            "Train Macro F1: {'IDH1_macro_f1': '0.4862', 'MGMT_macro_f1': '0.3906', '1p/19q_macro_f1': '0.2854', 'grade_macro_f1': '0.1661'}\n",
            "Val Macro F1: {'IDH1_macro_f1': '0.3514', 'MGMT_macro_f1': '0.2500', '1p/19q_macro_f1': '0.2500', 'grade_macro_f1': '0.2745'}\n",
            "Validation F1 ('grade') improved (0.1541 --> 0.2745). Saving model...\n",
            "\n",
            "--- Fold 2 | Epoch 11/30 ---\n"
          ]
        },
        {
          "data": {
            "application/vnd.jupyter.widget-view+json": {
              "model_id": "b2956c2246d74faf81dac6934a3f9f7f",
              "version_major": 2,
              "version_minor": 0
            },
            "text/plain": [
              "train:   0%|          | 0/192 [00:00<?, ?it/s]"
            ]
          },
          "metadata": {},
          "output_type": "display_data"
        },
        {
          "name": "stdout",
          "output_type": "stream",
          "text": [
            "\n",
            "Epoch train finished. Calculating final metrics...\n",
            "--- IDH1 ---\n",
            "  Macro F1: 0.3356\n",
            "  Accuracy: 0.5052\n",
            "  Targets: [93 99]\n",
            "  Preds:   [  2 190]\n",
            "--------------------\n",
            "--- MGMT ---\n",
            "  Macro F1: 0.3216\n",
            "  Accuracy: 0.4740\n",
            "  Targets: [99 93]\n",
            "  Preds:   [  2 190]\n",
            "--------------------\n",
            "--- 1p/19q ---\n",
            "  Macro F1: 0.2308\n",
            "  Accuracy: 0.2917\n",
            "  Targets: [137  55]\n",
            "  Preds:   [  1 191]\n",
            "--------------------\n",
            "--- grade ---\n",
            "  Macro F1: 0.2622\n",
            "  Accuracy: 0.3854\n",
            "  Targets: [29 82 81]\n",
            "  Preds:   [ 30 162]\n",
            "--------------------\n"
          ]
        },
        {
          "data": {
            "application/vnd.jupyter.widget-view+json": {
              "model_id": "35061997f9034b19b5fdded28a3eea49",
              "version_major": 2,
              "version_minor": 0
            },
            "text/plain": [
              "valid:   0%|          | 0/24 [00:00<?, ?it/s]"
            ]
          },
          "metadata": {},
          "output_type": "display_data"
        },
        {
          "name": "stdout",
          "output_type": "stream",
          "text": [
            "\n",
            "Epoch valid finished. Calculating final metrics...\n",
            "--- IDH1 ---\n",
            "  Macro F1: 0.3514\n",
            "  Accuracy: 0.5417\n",
            "  Targets: [11 13]\n",
            "  Preds:   [ 0 24]\n",
            "--------------------\n",
            "--- MGMT ---\n",
            "  Macro F1: 0.2500\n",
            "  Accuracy: 0.3333\n",
            "  Targets: [16  8]\n",
            "  Preds:   [ 0 24]\n",
            "--------------------\n",
            "--- 1p/19q ---\n",
            "  Macro F1: 0.2500\n",
            "  Accuracy: 0.3333\n",
            "  Targets: [16  8]\n",
            "  Preds:   [ 0 24]\n",
            "--------------------\n",
            "--- grade ---\n",
            "  Macro F1: 0.1505\n",
            "  Accuracy: 0.2917\n",
            "  Targets: [ 3  7 14]\n",
            "  Preds:   [ 0 24]\n",
            "--------------------\n",
            "Epoch 11: train_loss=3.4532, val_loss=3.2168, LR=0.000300\n",
            "Train Macro F1: {'IDH1_macro_f1': '0.3356', 'MGMT_macro_f1': '0.3216', '1p/19q_macro_f1': '0.2308', 'grade_macro_f1': '0.2622'}\n",
            "Val Macro F1: {'IDH1_macro_f1': '0.3514', 'MGMT_macro_f1': '0.2500', '1p/19q_macro_f1': '0.2500', 'grade_macro_f1': '0.1505'}\n",
            "\n",
            "--- Fold 2 | Epoch 12/30 ---\n"
          ]
        },
        {
          "data": {
            "application/vnd.jupyter.widget-view+json": {
              "model_id": "0de20926746547df93004d7deb6c3055",
              "version_major": 2,
              "version_minor": 0
            },
            "text/plain": [
              "train:   0%|          | 0/192 [00:00<?, ?it/s]"
            ]
          },
          "metadata": {},
          "output_type": "display_data"
        },
        {
          "name": "stdout",
          "output_type": "stream",
          "text": [
            "\n",
            "Epoch train finished. Calculating final metrics...\n",
            "--- IDH1 ---\n",
            "  Macro F1: 0.3643\n",
            "  Accuracy: 0.4948\n",
            "  Targets: [ 91 101]\n",
            "  Preds:   [ 14 178]\n",
            "--------------------\n",
            "--- MGMT ---\n",
            "  Macro F1: 0.4667\n",
            "  Accuracy: 0.4844\n",
            "  Targets: [113  79]\n",
            "  Preds:   [114  78]\n",
            "--------------------\n",
            "--- 1p/19q ---\n",
            "  Macro F1: 0.2889\n",
            "  Accuracy: 0.3229\n",
            "  Targets: [136  56]\n",
            "  Preds:   [ 14 178]\n",
            "--------------------\n",
            "--- grade ---\n",
            "  Macro F1: 0.2207\n",
            "  Accuracy: 0.4167\n",
            "  Targets: [25 79 88]\n",
            "  Preds:   [  1 191]\n",
            "--------------------\n"
          ]
        },
        {
          "data": {
            "application/vnd.jupyter.widget-view+json": {
              "model_id": "548b473ad24a40968856eae9c2ac3653",
              "version_major": 2,
              "version_minor": 0
            },
            "text/plain": [
              "valid:   0%|          | 0/24 [00:00<?, ?it/s]"
            ]
          },
          "metadata": {},
          "output_type": "display_data"
        },
        {
          "name": "stdout",
          "output_type": "stream",
          "text": [
            "\n",
            "Epoch valid finished. Calculating final metrics...\n",
            "--- IDH1 ---\n",
            "  Macro F1: 0.3514\n",
            "  Accuracy: 0.5417\n",
            "  Targets: [11 13]\n",
            "  Preds:   [ 0 24]\n",
            "--------------------\n",
            "--- MGMT ---\n",
            "  Macro F1: 0.3846\n",
            "  Accuracy: 0.6250\n",
            "  Targets: [16  8]\n",
            "  Preds:   [23  1]\n",
            "--------------------\n",
            "--- 1p/19q ---\n",
            "  Macro F1: 0.2500\n",
            "  Accuracy: 0.3333\n",
            "  Targets: [16  8]\n",
            "  Preds:   [ 0 24]\n",
            "--------------------\n",
            "--- grade ---\n",
            "  Macro F1: 0.3222\n",
            "  Accuracy: 0.3333\n",
            "  Targets: [ 3  7 14]\n",
            "  Preds:   [ 1 23]\n",
            "--------------------\n",
            "Epoch 12: train_loss=3.2102, val_loss=3.2621, LR=0.000300\n",
            "Train Macro F1: {'IDH1_macro_f1': '0.3643', 'MGMT_macro_f1': '0.4667', '1p/19q_macro_f1': '0.2889', 'grade_macro_f1': '0.2207'}\n",
            "Val Macro F1: {'IDH1_macro_f1': '0.3514', 'MGMT_macro_f1': '0.3846', '1p/19q_macro_f1': '0.2500', 'grade_macro_f1': '0.3222'}\n",
            "Validation F1 ('grade') improved (0.2745 --> 0.3222). Saving model...\n",
            "\n",
            "--- Fold 2 | Epoch 13/30 ---\n"
          ]
        },
        {
          "data": {
            "application/vnd.jupyter.widget-view+json": {
              "model_id": "b5aec17212f548f5b19925e80ba82041",
              "version_major": 2,
              "version_minor": 0
            },
            "text/plain": [
              "train:   0%|          | 0/192 [00:00<?, ?it/s]"
            ]
          },
          "metadata": {},
          "output_type": "display_data"
        },
        {
          "name": "stdout",
          "output_type": "stream",
          "text": [
            "\n",
            "Epoch train finished. Calculating final metrics...\n",
            "--- IDH1 ---\n",
            "  Macro F1: 0.4617\n",
            "  Accuracy: 0.4688\n",
            "  Targets: [113  79]\n",
            "  Preds:   [ 57 135]\n",
            "--------------------\n",
            "--- MGMT ---\n",
            "  Macro F1: 0.4783\n",
            "  Accuracy: 0.4792\n",
            "  Targets: [100  92]\n",
            "  Preds:   [100  92]\n",
            "--------------------\n",
            "--- 1p/19q ---\n",
            "  Macro F1: 0.3100\n",
            "  Accuracy: 0.3646\n",
            "  Targets: [127  65]\n",
            "  Preds:   [ 11 181]\n",
            "--------------------\n",
            "--- grade ---\n",
            "  Macro F1: 0.3208\n",
            "  Accuracy: 0.3802\n",
            "  Targets: [27 68 97]\n",
            "  Preds:   [ 36 155   1]\n",
            "--------------------\n"
          ]
        },
        {
          "data": {
            "application/vnd.jupyter.widget-view+json": {
              "model_id": "6df3248abe6042c480a51e3b6001e1ff",
              "version_major": 2,
              "version_minor": 0
            },
            "text/plain": [
              "valid:   0%|          | 0/24 [00:00<?, ?it/s]"
            ]
          },
          "metadata": {},
          "output_type": "display_data"
        },
        {
          "name": "stdout",
          "output_type": "stream",
          "text": [
            "\n",
            "Epoch valid finished. Calculating final metrics...\n",
            "--- IDH1 ---\n",
            "  Macro F1: 0.3143\n",
            "  Accuracy: 0.4583\n",
            "  Targets: [11 13]\n",
            "  Preds:   [24]\n",
            "--------------------\n",
            "--- MGMT ---\n",
            "  Macro F1: 0.2500\n",
            "  Accuracy: 0.3333\n",
            "  Targets: [16  8]\n",
            "  Preds:   [ 0 24]\n",
            "--------------------\n",
            "--- 1p/19q ---\n",
            "  Macro F1: 0.2500\n",
            "  Accuracy: 0.3333\n",
            "  Targets: [16  8]\n",
            "  Preds:   [ 0 24]\n",
            "--------------------\n",
            "--- grade ---\n",
            "  Macro F1: 0.2386\n",
            "  Accuracy: 0.2500\n",
            "  Targets: [ 3  7 14]\n",
            "  Preds:   [16  8]\n",
            "--------------------\n",
            "Epoch 13: train_loss=3.1217, val_loss=3.3143, LR=0.000300\n",
            "Train Macro F1: {'IDH1_macro_f1': '0.4617', 'MGMT_macro_f1': '0.4783', '1p/19q_macro_f1': '0.3100', 'grade_macro_f1': '0.3208'}\n",
            "Val Macro F1: {'IDH1_macro_f1': '0.3143', 'MGMT_macro_f1': '0.2500', '1p/19q_macro_f1': '0.2500', 'grade_macro_f1': '0.2386'}\n",
            "\n",
            "--- Fold 2 | Epoch 14/30 ---\n"
          ]
        },
        {
          "data": {
            "application/vnd.jupyter.widget-view+json": {
              "model_id": "1f64af1628cc4d1ba5062d8c386b4333",
              "version_major": 2,
              "version_minor": 0
            },
            "text/plain": [
              "train:   0%|          | 0/192 [00:00<?, ?it/s]"
            ]
          },
          "metadata": {},
          "output_type": "display_data"
        },
        {
          "name": "stdout",
          "output_type": "stream",
          "text": [
            "\n",
            "Epoch train finished. Calculating final metrics...\n",
            "--- IDH1 ---\n",
            "  Macro F1: 0.4999\n",
            "  Accuracy: 0.5000\n",
            "  Targets: [ 84 108]\n",
            "  Preds:   [106  86]\n",
            "--------------------\n",
            "--- MGMT ---\n",
            "  Macro F1: 0.3375\n",
            "  Accuracy: 0.4583\n",
            "  Targets: [104  88]\n",
            "  Preds:   [  6 186]\n",
            "--------------------\n",
            "--- 1p/19q ---\n",
            "  Macro F1: 0.2145\n",
            "  Accuracy: 0.2656\n",
            "  Targets: [142  50]\n",
            "  Preds:   [  1 191]\n",
            "--------------------\n",
            "--- grade ---\n",
            "  Macro F1: 0.3824\n",
            "  Accuracy: 0.4010\n",
            "  Targets: [26 75 91]\n",
            "  Preds:   [70 97 25]\n",
            "--------------------\n"
          ]
        },
        {
          "data": {
            "application/vnd.jupyter.widget-view+json": {
              "model_id": "8e3de1564c7d44c2a450e8d1ecc4057a",
              "version_major": 2,
              "version_minor": 0
            },
            "text/plain": [
              "valid:   0%|          | 0/24 [00:00<?, ?it/s]"
            ]
          },
          "metadata": {},
          "output_type": "display_data"
        },
        {
          "name": "stdout",
          "output_type": "stream",
          "text": [
            "\n",
            "Epoch valid finished. Calculating final metrics...\n",
            "--- IDH1 ---\n",
            "  Macro F1: 0.3514\n",
            "  Accuracy: 0.5417\n",
            "  Targets: [11 13]\n",
            "  Preds:   [ 0 24]\n",
            "--------------------\n",
            "--- MGMT ---\n",
            "  Macro F1: 0.2500\n",
            "  Accuracy: 0.3333\n",
            "  Targets: [16  8]\n",
            "  Preds:   [ 0 24]\n",
            "--------------------\n",
            "--- 1p/19q ---\n",
            "  Macro F1: 0.2500\n",
            "  Accuracy: 0.3333\n",
            "  Targets: [16  8]\n",
            "  Preds:   [ 0 24]\n",
            "--------------------\n",
            "--- grade ---\n",
            "  Macro F1: 0.3333\n",
            "  Accuracy: 0.3750\n",
            "  Targets: [ 3  7 14]\n",
            "  Preds:   [ 5 17  2]\n",
            "--------------------\n",
            "Epoch 14: train_loss=3.1130, val_loss=3.0111, LR=0.000300\n",
            "Train Macro F1: {'IDH1_macro_f1': '0.4999', 'MGMT_macro_f1': '0.3375', '1p/19q_macro_f1': '0.2145', 'grade_macro_f1': '0.3824'}\n",
            "Val Macro F1: {'IDH1_macro_f1': '0.3514', 'MGMT_macro_f1': '0.2500', '1p/19q_macro_f1': '0.2500', 'grade_macro_f1': '0.3333'}\n",
            "Validation F1 ('grade') improved (0.3222 --> 0.3333). Saving model...\n",
            "\n",
            "--- Fold 2 | Epoch 15/30 ---\n"
          ]
        },
        {
          "data": {
            "application/vnd.jupyter.widget-view+json": {
              "model_id": "d68b270372ae45b996897c0e07dc01d3",
              "version_major": 2,
              "version_minor": 0
            },
            "text/plain": [
              "train:   0%|          | 0/192 [00:00<?, ?it/s]"
            ]
          },
          "metadata": {},
          "output_type": "display_data"
        },
        {
          "name": "stdout",
          "output_type": "stream",
          "text": [
            "\n",
            "Epoch train finished. Calculating final metrics...\n",
            "--- IDH1 ---\n",
            "  Macro F1: 0.3559\n",
            "  Accuracy: 0.4792\n",
            "  Targets: [101  91]\n",
            "  Preds:   [  7 185]\n",
            "--------------------\n",
            "--- MGMT ---\n",
            "  Macro F1: 0.4370\n",
            "  Accuracy: 0.4375\n",
            "  Targets: [102  90]\n",
            "  Preds:   [ 84 108]\n",
            "--------------------\n",
            "--- 1p/19q ---\n",
            "  Macro F1: 0.2297\n",
            "  Accuracy: 0.2344\n",
            "  Targets: [153  39]\n",
            "  Preds:   [ 24 168]\n",
            "--------------------\n",
            "--- grade ---\n",
            "  Macro F1: 0.2882\n",
            "  Accuracy: 0.4271\n",
            "  Targets: [ 22  70 100]\n",
            "  Preds:   [  2 175  15]\n",
            "--------------------\n"
          ]
        },
        {
          "data": {
            "application/vnd.jupyter.widget-view+json": {
              "model_id": "221252e831164c72b1b304e10e8a8906",
              "version_major": 2,
              "version_minor": 0
            },
            "text/plain": [
              "valid:   0%|          | 0/24 [00:00<?, ?it/s]"
            ]
          },
          "metadata": {},
          "output_type": "display_data"
        },
        {
          "name": "stdout",
          "output_type": "stream",
          "text": [
            "\n",
            "Epoch valid finished. Calculating final metrics...\n",
            "--- IDH1 ---\n",
            "  Macro F1: 0.3514\n",
            "  Accuracy: 0.5417\n",
            "  Targets: [11 13]\n",
            "  Preds:   [ 0 24]\n",
            "--------------------\n",
            "--- MGMT ---\n",
            "  Macro F1: 0.2804\n",
            "  Accuracy: 0.2917\n",
            "  Targets: [16  8]\n",
            "  Preds:   [11 13]\n",
            "--------------------\n",
            "--- 1p/19q ---\n",
            "  Macro F1: 0.4693\n",
            "  Accuracy: 0.6250\n",
            "  Targets: [16  8]\n",
            "  Preds:   [21  3]\n",
            "--------------------\n",
            "--- grade ---\n",
            "  Macro F1: 0.1796\n",
            "  Accuracy: 0.2917\n",
            "  Targets: [ 3  7 14]\n",
            "  Preds:   [ 0 22  2]\n",
            "--------------------\n",
            "Epoch 15: train_loss=3.0407, val_loss=3.1367, LR=0.000300\n",
            "Train Macro F1: {'IDH1_macro_f1': '0.3559', 'MGMT_macro_f1': '0.4370', '1p/19q_macro_f1': '0.2297', 'grade_macro_f1': '0.2882'}\n",
            "Val Macro F1: {'IDH1_macro_f1': '0.3514', 'MGMT_macro_f1': '0.2804', '1p/19q_macro_f1': '0.4693', 'grade_macro_f1': '0.1796'}\n",
            "\n",
            "--- Fold 2 | Epoch 16/30 ---\n"
          ]
        },
        {
          "data": {
            "application/vnd.jupyter.widget-view+json": {
              "model_id": "9420bb7f715841d6ae6fb46415e765df",
              "version_major": 2,
              "version_minor": 0
            },
            "text/plain": [
              "train:   0%|          | 0/192 [00:00<?, ?it/s]"
            ]
          },
          "metadata": {},
          "output_type": "display_data"
        },
        {
          "name": "stdout",
          "output_type": "stream",
          "text": [
            "\n",
            "Epoch train finished. Calculating final metrics...\n",
            "--- IDH1 ---\n",
            "  Macro F1: 0.5664\n",
            "  Accuracy: 0.6146\n",
            "  Targets: [96 96]\n",
            "  Preds:   [ 32 160]\n",
            "--------------------\n",
            "--- MGMT ---\n",
            "  Macro F1: 0.4529\n",
            "  Accuracy: 0.5156\n",
            "  Targets: [96 96]\n",
            "  Preds:   [ 31 161]\n",
            "--------------------\n",
            "--- 1p/19q ---\n",
            "  Macro F1: 0.4764\n",
            "  Accuracy: 0.4792\n",
            "  Targets: [135  57]\n",
            "  Preds:   [ 71 121]\n",
            "--------------------\n",
            "--- grade ---\n",
            "  Macro F1: 0.4182\n",
            "  Accuracy: 0.4531\n",
            "  Targets: [24 71 97]\n",
            "  Preds:   [ 36 121  35]\n",
            "--------------------\n"
          ]
        },
        {
          "data": {
            "application/vnd.jupyter.widget-view+json": {
              "model_id": "86cf63b7b19140beb799b8ce81857c12",
              "version_major": 2,
              "version_minor": 0
            },
            "text/plain": [
              "valid:   0%|          | 0/24 [00:00<?, ?it/s]"
            ]
          },
          "metadata": {},
          "output_type": "display_data"
        },
        {
          "name": "stdout",
          "output_type": "stream",
          "text": [
            "\n",
            "Epoch valid finished. Calculating final metrics...\n",
            "--- IDH1 ---\n",
            "  Macro F1: 0.5209\n",
            "  Accuracy: 0.5417\n",
            "  Targets: [11 13]\n",
            "  Preds:   [ 8 16]\n",
            "--------------------\n",
            "--- MGMT ---\n",
            "  Macro F1: 0.2500\n",
            "  Accuracy: 0.3333\n",
            "  Targets: [16  8]\n",
            "  Preds:   [ 0 24]\n",
            "--------------------\n",
            "--- 1p/19q ---\n",
            "  Macro F1: 0.5000\n",
            "  Accuracy: 0.5000\n",
            "  Targets: [16  8]\n",
            "  Preds:   [ 8 16]\n",
            "--------------------\n",
            "--- grade ---\n",
            "  Macro F1: 0.4823\n",
            "  Accuracy: 0.4583\n",
            "  Targets: [ 3  7 14]\n",
            "  Preds:   [ 4 12  8]\n",
            "--------------------\n",
            "Epoch 16: train_loss=2.9779, val_loss=2.9299, LR=0.000300\n",
            "Train Macro F1: {'IDH1_macro_f1': '0.5664', 'MGMT_macro_f1': '0.4529', '1p/19q_macro_f1': '0.4764', 'grade_macro_f1': '0.4182'}\n",
            "Val Macro F1: {'IDH1_macro_f1': '0.5209', 'MGMT_macro_f1': '0.2500', '1p/19q_macro_f1': '0.5000', 'grade_macro_f1': '0.4823'}\n",
            "Validation F1 ('grade') improved (0.3333 --> 0.4823). Saving model...\n",
            "\n",
            "--- Fold 2 | Epoch 17/30 ---\n"
          ]
        },
        {
          "data": {
            "application/vnd.jupyter.widget-view+json": {
              "model_id": "16c81bcfd7a9427aaba06fc04d0ea839",
              "version_major": 2,
              "version_minor": 0
            },
            "text/plain": [
              "train:   0%|          | 0/192 [00:00<?, ?it/s]"
            ]
          },
          "metadata": {},
          "output_type": "display_data"
        },
        {
          "name": "stdout",
          "output_type": "stream",
          "text": [
            "\n",
            "Epoch train finished. Calculating final metrics...\n",
            "--- IDH1 ---\n",
            "  Macro F1: 0.5971\n",
            "  Accuracy: 0.5990\n",
            "  Targets: [98 94]\n",
            "  Preds:   [107  85]\n",
            "--------------------\n",
            "--- MGMT ---\n",
            "  Macro F1: 0.3388\n",
            "  Accuracy: 0.4479\n",
            "  Targets: [106  86]\n",
            "  Preds:   [  8 184]\n",
            "--------------------\n",
            "--- 1p/19q ---\n",
            "  Macro F1: 0.4650\n",
            "  Accuracy: 0.4688\n",
            "  Targets: [147  45]\n",
            "  Preds:   [ 61 131]\n",
            "--------------------\n",
            "--- grade ---\n",
            "  Macro F1: 0.4590\n",
            "  Accuracy: 0.5052\n",
            "  Targets: [ 18  73 101]\n",
            "  Preds:   [20 76 96]\n",
            "--------------------\n"
          ]
        },
        {
          "data": {
            "application/vnd.jupyter.widget-view+json": {
              "model_id": "0e17ea3a0deb44ab9dadc96437de90dd",
              "version_major": 2,
              "version_minor": 0
            },
            "text/plain": [
              "valid:   0%|          | 0/24 [00:00<?, ?it/s]"
            ]
          },
          "metadata": {},
          "output_type": "display_data"
        },
        {
          "name": "stdout",
          "output_type": "stream",
          "text": [
            "\n",
            "Epoch valid finished. Calculating final metrics...\n",
            "--- IDH1 ---\n",
            "  Macro F1: 0.5833\n",
            "  Accuracy: 0.5833\n",
            "  Targets: [11 13]\n",
            "  Preds:   [13 11]\n",
            "--------------------\n",
            "--- MGMT ---\n",
            "  Macro F1: 0.6667\n",
            "  Accuracy: 0.6667\n",
            "  Targets: [16  8]\n",
            "  Preds:   [ 8 16]\n",
            "--------------------\n",
            "--- 1p/19q ---\n",
            "  Macro F1: 0.4965\n",
            "  Accuracy: 0.5000\n",
            "  Targets: [16  8]\n",
            "  Preds:   [ 6 18]\n",
            "--------------------\n",
            "--- grade ---\n",
            "  Macro F1: 0.4202\n",
            "  Accuracy: 0.4167\n",
            "  Targets: [ 3  7 14]\n",
            "  Preds:   [ 1 11 12]\n",
            "--------------------\n",
            "Epoch 17: train_loss=2.7006, val_loss=2.7895, LR=0.000300\n",
            "Train Macro F1: {'IDH1_macro_f1': '0.5971', 'MGMT_macro_f1': '0.3388', '1p/19q_macro_f1': '0.4650', 'grade_macro_f1': '0.4590'}\n",
            "Val Macro F1: {'IDH1_macro_f1': '0.5833', 'MGMT_macro_f1': '0.6667', '1p/19q_macro_f1': '0.4965', 'grade_macro_f1': '0.4202'}\n",
            "\n",
            "--- Fold 2 | Epoch 18/30 ---\n"
          ]
        },
        {
          "data": {
            "application/vnd.jupyter.widget-view+json": {
              "model_id": "d7ec28175dd64f7381f31d6427670305",
              "version_major": 2,
              "version_minor": 0
            },
            "text/plain": [
              "train:   0%|          | 0/192 [00:00<?, ?it/s]"
            ]
          },
          "metadata": {},
          "output_type": "display_data"
        },
        {
          "name": "stdout",
          "output_type": "stream",
          "text": [
            "\n",
            "Epoch train finished. Calculating final metrics...\n",
            "--- IDH1 ---\n",
            "  Macro F1: 0.6524\n",
            "  Accuracy: 0.6615\n",
            "  Targets: [104  88]\n",
            "  Preds:   [ 57 135]\n",
            "--------------------\n",
            "--- MGMT ---\n",
            "  Macro F1: 0.4183\n",
            "  Accuracy: 0.4531\n",
            "  Targets: [102  90]\n",
            "  Preds:   [ 43 149]\n",
            "--------------------\n",
            "--- 1p/19q ---\n",
            "  Macro F1: 0.4409\n",
            "  Accuracy: 0.4427\n",
            "  Targets: [138  54]\n",
            "  Preds:   [ 43 149]\n",
            "--------------------\n",
            "--- grade ---\n",
            "  Macro F1: 0.4589\n",
            "  Accuracy: 0.4583\n",
            "  Targets: [ 31  60 101]\n",
            "  Preds:   [60 87 45]\n",
            "--------------------\n"
          ]
        },
        {
          "data": {
            "application/vnd.jupyter.widget-view+json": {
              "model_id": "1e52d38dbd7445f2b91343b3d508d20d",
              "version_major": 2,
              "version_minor": 0
            },
            "text/plain": [
              "valid:   0%|          | 0/24 [00:00<?, ?it/s]"
            ]
          },
          "metadata": {},
          "output_type": "display_data"
        },
        {
          "name": "stdout",
          "output_type": "stream",
          "text": [
            "\n",
            "Epoch valid finished. Calculating final metrics...\n",
            "--- IDH1 ---\n",
            "  Macro F1: 0.4375\n",
            "  Accuracy: 0.5000\n",
            "  Targets: [11 13]\n",
            "  Preds:   [21  3]\n",
            "--------------------\n",
            "--- MGMT ---\n",
            "  Macro F1: 0.2500\n",
            "  Accuracy: 0.3333\n",
            "  Targets: [16  8]\n",
            "  Preds:   [ 0 24]\n",
            "--------------------\n",
            "--- 1p/19q ---\n",
            "  Macro F1: 0.4444\n",
            "  Accuracy: 0.5833\n",
            "  Targets: [16  8]\n",
            "  Preds:   [20  4]\n",
            "--------------------\n",
            "--- grade ---\n",
            "  Macro F1: 0.2627\n",
            "  Accuracy: 0.4583\n",
            "  Targets: [ 3  7 14]\n",
            "  Preds:   [ 0  7 17]\n",
            "--------------------\n",
            "Epoch 18: train_loss=2.9346, val_loss=3.3400, LR=0.000300\n",
            "Train Macro F1: {'IDH1_macro_f1': '0.6524', 'MGMT_macro_f1': '0.4183', '1p/19q_macro_f1': '0.4409', 'grade_macro_f1': '0.4589'}\n",
            "Val Macro F1: {'IDH1_macro_f1': '0.4375', 'MGMT_macro_f1': '0.2500', '1p/19q_macro_f1': '0.4444', 'grade_macro_f1': '0.2627'}\n",
            "\n",
            "--- Fold 2 | Epoch 19/30 ---\n"
          ]
        },
        {
          "data": {
            "application/vnd.jupyter.widget-view+json": {
              "model_id": "6dd00d1398ad4efcad1c038f0efd696a",
              "version_major": 2,
              "version_minor": 0
            },
            "text/plain": [
              "train:   0%|          | 0/192 [00:00<?, ?it/s]"
            ]
          },
          "metadata": {},
          "output_type": "display_data"
        },
        {
          "name": "stdout",
          "output_type": "stream",
          "text": [
            "\n",
            "Epoch train finished. Calculating final metrics...\n",
            "--- IDH1 ---\n",
            "  Macro F1: 0.5853\n",
            "  Accuracy: 0.5885\n",
            "  Targets: [106  86]\n",
            "  Preds:   [103  89]\n",
            "--------------------\n",
            "--- MGMT ---\n",
            "  Macro F1: 0.4617\n",
            "  Accuracy: 0.4688\n",
            "  Targets: [107  85]\n",
            "  Preds:   [ 63 129]\n",
            "--------------------\n",
            "--- 1p/19q ---\n",
            "  Macro F1: 0.5558\n",
            "  Accuracy: 0.5781\n",
            "  Targets: [146  46]\n",
            "  Preds:   [ 89 103]\n",
            "--------------------\n",
            "--- grade ---\n",
            "  Macro F1: 0.4747\n",
            "  Accuracy: 0.5052\n",
            "  Targets: [ 33  54 105]\n",
            "  Preds:   [50 57 85]\n",
            "--------------------\n"
          ]
        },
        {
          "data": {
            "application/vnd.jupyter.widget-view+json": {
              "model_id": "20bb1ed6939540609dc4b3fc3c7ecbe9",
              "version_major": 2,
              "version_minor": 0
            },
            "text/plain": [
              "valid:   0%|          | 0/24 [00:00<?, ?it/s]"
            ]
          },
          "metadata": {},
          "output_type": "display_data"
        },
        {
          "name": "stdout",
          "output_type": "stream",
          "text": [
            "\n",
            "Epoch valid finished. Calculating final metrics...\n",
            "--- IDH1 ---\n",
            "  Macro F1: 0.4574\n",
            "  Accuracy: 0.4583\n",
            "  Targets: [11 13]\n",
            "  Preds:   [14 10]\n",
            "--------------------\n",
            "--- MGMT ---\n",
            "  Macro F1: 0.5804\n",
            "  Accuracy: 0.5833\n",
            "  Targets: [16  8]\n",
            "  Preds:   [ 6 18]\n",
            "--------------------\n",
            "--- 1p/19q ---\n",
            "  Macro F1: 0.4857\n",
            "  Accuracy: 0.5000\n",
            "  Targets: [16  8]\n",
            "  Preds:   [12 12]\n",
            "--------------------\n",
            "--- grade ---\n",
            "  Macro F1: 0.2434\n",
            "  Accuracy: 0.2500\n",
            "  Targets: [ 3  7 14]\n",
            "  Preds:   [ 6 10  8]\n",
            "--------------------\n",
            "Epoch 19: train_loss=3.2482, val_loss=3.1184, LR=0.000300\n",
            "Train Macro F1: {'IDH1_macro_f1': '0.5853', 'MGMT_macro_f1': '0.4617', '1p/19q_macro_f1': '0.5558', 'grade_macro_f1': '0.4747'}\n",
            "Val Macro F1: {'IDH1_macro_f1': '0.4574', 'MGMT_macro_f1': '0.5804', '1p/19q_macro_f1': '0.4857', 'grade_macro_f1': '0.2434'}\n",
            "\n",
            "--- Fold 2 | Epoch 20/30 ---\n"
          ]
        },
        {
          "data": {
            "application/vnd.jupyter.widget-view+json": {
              "model_id": "ebc2bf959147482eb8298d8383a202f2",
              "version_major": 2,
              "version_minor": 0
            },
            "text/plain": [
              "train:   0%|          | 0/192 [00:00<?, ?it/s]"
            ]
          },
          "metadata": {},
          "output_type": "display_data"
        },
        {
          "name": "stdout",
          "output_type": "stream",
          "text": [
            "\n",
            "Epoch train finished. Calculating final metrics...\n",
            "--- IDH1 ---\n",
            "  Macro F1: 0.6129\n",
            "  Accuracy: 0.6250\n",
            "  Targets: [102  90]\n",
            "  Preds:   [124  68]\n",
            "--------------------\n",
            "--- MGMT ---\n",
            "  Macro F1: 0.4736\n",
            "  Accuracy: 0.4740\n",
            "  Targets: [101  91]\n",
            "  Preds:   [ 86 106]\n",
            "--------------------\n",
            "--- 1p/19q ---\n",
            "  Macro F1: 0.5535\n",
            "  Accuracy: 0.5729\n",
            "  Targets: [141  51]\n",
            "  Preds:   [ 91 101]\n",
            "--------------------\n",
            "--- grade ---\n",
            "  Macro F1: 0.5868\n",
            "  Accuracy: 0.6250\n",
            "  Targets: [ 26  60 106]\n",
            "  Preds:   [17 85 90]\n",
            "--------------------\n"
          ]
        },
        {
          "data": {
            "application/vnd.jupyter.widget-view+json": {
              "model_id": "e73396b5a6684135a56fba0fd613ad78",
              "version_major": 2,
              "version_minor": 0
            },
            "text/plain": [
              "valid:   0%|          | 0/24 [00:00<?, ?it/s]"
            ]
          },
          "metadata": {},
          "output_type": "display_data"
        },
        {
          "name": "stdout",
          "output_type": "stream",
          "text": [
            "\n",
            "Epoch valid finished. Calculating final metrics...\n",
            "--- IDH1 ---\n",
            "  Macro F1: 0.5209\n",
            "  Accuracy: 0.5417\n",
            "  Targets: [11 13]\n",
            "  Preds:   [ 8 16]\n",
            "--------------------\n",
            "--- MGMT ---\n",
            "  Macro F1: 0.3466\n",
            "  Accuracy: 0.3750\n",
            "  Targets: [16  8]\n",
            "  Preds:   [ 3 21]\n",
            "--------------------\n",
            "--- 1p/19q ---\n",
            "  Macro F1: 0.2595\n",
            "  Accuracy: 0.2917\n",
            "  Targets: [16  8]\n",
            "  Preds:   [ 3 21]\n",
            "--------------------\n",
            "--- grade ---\n",
            "  Macro F1: 0.3198\n",
            "  Accuracy: 0.3333\n",
            "  Targets: [ 3  7 14]\n",
            "  Preds:   [ 7  7 10]\n",
            "--------------------\n",
            "Epoch 20: train_loss=2.7249, val_loss=2.9466, LR=0.000300\n",
            "Train Macro F1: {'IDH1_macro_f1': '0.6129', 'MGMT_macro_f1': '0.4736', '1p/19q_macro_f1': '0.5535', 'grade_macro_f1': '0.5868'}\n",
            "Val Macro F1: {'IDH1_macro_f1': '0.5209', 'MGMT_macro_f1': '0.3466', '1p/19q_macro_f1': '0.2595', 'grade_macro_f1': '0.3198'}\n",
            "\n",
            "--- Fold 2 | Epoch 21/30 ---\n"
          ]
        },
        {
          "data": {
            "application/vnd.jupyter.widget-view+json": {
              "model_id": "3b23b7d65c6d49259f1eeac6ea0a56cd",
              "version_major": 2,
              "version_minor": 0
            },
            "text/plain": [
              "train:   0%|          | 0/192 [00:00<?, ?it/s]"
            ]
          },
          "metadata": {},
          "output_type": "display_data"
        },
        {
          "name": "stdout",
          "output_type": "stream",
          "text": [
            "\n",
            "Epoch train finished. Calculating final metrics...\n",
            "--- IDH1 ---\n",
            "  Macro F1: 0.6266\n",
            "  Accuracy: 0.6302\n",
            "  Targets: [100  92]\n",
            "  Preds:   [ 73 119]\n",
            "--------------------\n",
            "--- MGMT ---\n",
            "  Macro F1: 0.4537\n",
            "  Accuracy: 0.4740\n",
            "  Targets: [102  90]\n",
            "  Preds:   [ 53 139]\n",
            "--------------------\n",
            "--- 1p/19q ---\n",
            "  Macro F1: 0.4792\n",
            "  Accuracy: 0.4792\n",
            "  Targets: [143  49]\n",
            "  Preds:   [ 49 143]\n",
            "--------------------\n",
            "--- grade ---\n",
            "  Macro F1: 0.5154\n",
            "  Accuracy: 0.5521\n",
            "  Targets: [26 67 99]\n",
            "  Preds:   [54 54 84]\n",
            "--------------------\n"
          ]
        },
        {
          "data": {
            "application/vnd.jupyter.widget-view+json": {
              "model_id": "5c5beca769ec4edf9b9e69d196f019c3",
              "version_major": 2,
              "version_minor": 0
            },
            "text/plain": [
              "valid:   0%|          | 0/24 [00:00<?, ?it/s]"
            ]
          },
          "metadata": {},
          "output_type": "display_data"
        },
        {
          "name": "stdout",
          "output_type": "stream",
          "text": [
            "\n",
            "Epoch valid finished. Calculating final metrics...\n",
            "--- IDH1 ---\n",
            "  Macro F1: 0.5714\n",
            "  Accuracy: 0.5833\n",
            "  Targets: [11 13]\n",
            "  Preds:   [17  7]\n",
            "--------------------\n",
            "--- MGMT ---\n",
            "  Macro F1: 0.2500\n",
            "  Accuracy: 0.3333\n",
            "  Targets: [16  8]\n",
            "  Preds:   [ 0 24]\n",
            "--------------------\n",
            "--- 1p/19q ---\n",
            "  Macro F1: 0.4991\n",
            "  Accuracy: 0.5417\n",
            "  Targets: [16  8]\n",
            "  Preds:   [15  9]\n",
            "--------------------\n",
            "--- grade ---\n",
            "  Macro F1: 0.3417\n",
            "  Accuracy: 0.4583\n",
            "  Targets: [ 3  7 14]\n",
            "  Preds:   [ 2  4 18]\n",
            "--------------------\n",
            "Epoch 21: train_loss=2.6073, val_loss=2.9803, LR=0.000150\n",
            "Train Macro F1: {'IDH1_macro_f1': '0.6266', 'MGMT_macro_f1': '0.4537', '1p/19q_macro_f1': '0.4792', 'grade_macro_f1': '0.5154'}\n",
            "Val Macro F1: {'IDH1_macro_f1': '0.5714', 'MGMT_macro_f1': '0.2500', '1p/19q_macro_f1': '0.4991', 'grade_macro_f1': '0.3417'}\n",
            "\n",
            "--- Fold 2 | Epoch 22/30 ---\n"
          ]
        },
        {
          "data": {
            "application/vnd.jupyter.widget-view+json": {
              "model_id": "a62255aa23144834b28b29e842333cef",
              "version_major": 2,
              "version_minor": 0
            },
            "text/plain": [
              "train:   0%|          | 0/192 [00:00<?, ?it/s]"
            ]
          },
          "metadata": {},
          "output_type": "display_data"
        },
        {
          "name": "stdout",
          "output_type": "stream",
          "text": [
            "\n",
            "Epoch train finished. Calculating final metrics...\n",
            "--- IDH1 ---\n",
            "  Macro F1: 0.6198\n",
            "  Accuracy: 0.6198\n",
            "  Targets: [98 94]\n",
            "  Preds:   [95 97]\n",
            "--------------------\n",
            "--- MGMT ---\n",
            "  Macro F1: 0.3959\n",
            "  Accuracy: 0.4740\n",
            "  Targets: [98 94]\n",
            "  Preds:   [ 25 167]\n",
            "--------------------\n",
            "--- 1p/19q ---\n",
            "  Macro F1: 0.5291\n",
            "  Accuracy: 0.5573\n",
            "  Targets: [140  52]\n",
            "  Preds:   [99 93]\n",
            "--------------------\n",
            "--- grade ---\n",
            "  Macro F1: 0.5434\n",
            "  Accuracy: 0.5885\n",
            "  Targets: [25 70 97]\n",
            "  Preds:   [ 32  56 104]\n",
            "--------------------\n"
          ]
        },
        {
          "data": {
            "application/vnd.jupyter.widget-view+json": {
              "model_id": "ef3dbecb89e74df396abda8201bb07fc",
              "version_major": 2,
              "version_minor": 0
            },
            "text/plain": [
              "valid:   0%|          | 0/24 [00:00<?, ?it/s]"
            ]
          },
          "metadata": {},
          "output_type": "display_data"
        },
        {
          "name": "stdout",
          "output_type": "stream",
          "text": [
            "\n",
            "Epoch valid finished. Calculating final metrics...\n",
            "--- IDH1 ---\n",
            "  Macro F1: 0.6190\n",
            "  Accuracy: 0.6250\n",
            "  Targets: [11 13]\n",
            "  Preds:   [10 14]\n",
            "--------------------\n",
            "--- MGMT ---\n",
            "  Macro F1: 0.2500\n",
            "  Accuracy: 0.3333\n",
            "  Targets: [16  8]\n",
            "  Preds:   [ 0 24]\n",
            "--------------------\n",
            "--- 1p/19q ---\n",
            "  Macro F1: 0.3651\n",
            "  Accuracy: 0.3750\n",
            "  Targets: [16  8]\n",
            "  Preds:   [11 13]\n",
            "--------------------\n",
            "--- grade ---\n",
            "  Macro F1: 0.3633\n",
            "  Accuracy: 0.4167\n",
            "  Targets: [ 3  7 14]\n",
            "  Preds:   [ 4  7 13]\n",
            "--------------------\n",
            "Epoch 22: train_loss=2.5396, val_loss=2.9381, LR=0.000150\n",
            "Train Macro F1: {'IDH1_macro_f1': '0.6198', 'MGMT_macro_f1': '0.3959', '1p/19q_macro_f1': '0.5291', 'grade_macro_f1': '0.5434'}\n",
            "Val Macro F1: {'IDH1_macro_f1': '0.6190', 'MGMT_macro_f1': '0.2500', '1p/19q_macro_f1': '0.3651', 'grade_macro_f1': '0.3633'}\n",
            "\n",
            "--- Fold 2 | Epoch 23/30 ---\n"
          ]
        },
        {
          "data": {
            "application/vnd.jupyter.widget-view+json": {
              "model_id": "effebd7171934c80a979f78c4da67ed5",
              "version_major": 2,
              "version_minor": 0
            },
            "text/plain": [
              "train:   0%|          | 0/192 [00:00<?, ?it/s]"
            ]
          },
          "metadata": {},
          "output_type": "display_data"
        },
        {
          "name": "stdout",
          "output_type": "stream",
          "text": [
            "\n",
            "Epoch train finished. Calculating final metrics...\n",
            "--- IDH1 ---\n",
            "  Macro F1: 0.5801\n",
            "  Accuracy: 0.6042\n",
            "  Targets: [93 99]\n",
            "  Preds:   [ 53 139]\n",
            "--------------------\n",
            "--- MGMT ---\n",
            "  Macro F1: 0.3831\n",
            "  Accuracy: 0.5156\n",
            "  Targets: [93 99]\n",
            "  Preds:   [ 10 182]\n",
            "--------------------\n",
            "--- 1p/19q ---\n",
            "  Macro F1: 0.4842\n",
            "  Accuracy: 0.4844\n",
            "  Targets: [134  58]\n",
            "  Preds:   [ 55 137]\n",
            "--------------------\n",
            "--- grade ---\n",
            "  Macro F1: 0.5670\n",
            "  Accuracy: 0.5677\n",
            "  Targets: [32 67 93]\n",
            "  Preds:   [50 87 55]\n",
            "--------------------\n"
          ]
        },
        {
          "data": {
            "application/vnd.jupyter.widget-view+json": {
              "model_id": "7de34e8f678744b187ac3d606e763bb0",
              "version_major": 2,
              "version_minor": 0
            },
            "text/plain": [
              "valid:   0%|          | 0/24 [00:00<?, ?it/s]"
            ]
          },
          "metadata": {},
          "output_type": "display_data"
        },
        {
          "name": "stdout",
          "output_type": "stream",
          "text": [
            "\n",
            "Epoch valid finished. Calculating final metrics...\n",
            "--- IDH1 ---\n",
            "  Macro F1: 0.4991\n",
            "  Accuracy: 0.5417\n",
            "  Targets: [11 13]\n",
            "  Preds:   [ 6 18]\n",
            "--------------------\n",
            "--- MGMT ---\n",
            "  Macro F1: 0.2500\n",
            "  Accuracy: 0.3333\n",
            "  Targets: [16  8]\n",
            "  Preds:   [ 0 24]\n",
            "--------------------\n",
            "--- 1p/19q ---\n",
            "  Macro F1: 0.3651\n",
            "  Accuracy: 0.3750\n",
            "  Targets: [16  8]\n",
            "  Preds:   [ 5 19]\n",
            "--------------------\n",
            "--- grade ---\n",
            "  Macro F1: 0.2998\n",
            "  Accuracy: 0.2917\n",
            "  Targets: [ 3  7 14]\n",
            "  Preds:   [8 9 7]\n",
            "--------------------\n",
            "Epoch 23: train_loss=2.5999, val_loss=2.9962, LR=0.000150\n",
            "Train Macro F1: {'IDH1_macro_f1': '0.5801', 'MGMT_macro_f1': '0.3831', '1p/19q_macro_f1': '0.4842', 'grade_macro_f1': '0.5670'}\n",
            "Val Macro F1: {'IDH1_macro_f1': '0.4991', 'MGMT_macro_f1': '0.2500', '1p/19q_macro_f1': '0.3651', 'grade_macro_f1': '0.2998'}\n",
            "\n",
            "--- Fold 2 | Epoch 24/30 ---\n"
          ]
        },
        {
          "data": {
            "application/vnd.jupyter.widget-view+json": {
              "model_id": "5f093d09b2a049e584c3c9a35d0b21e7",
              "version_major": 2,
              "version_minor": 0
            },
            "text/plain": [
              "train:   0%|          | 0/192 [00:00<?, ?it/s]"
            ]
          },
          "metadata": {},
          "output_type": "display_data"
        },
        {
          "name": "stdout",
          "output_type": "stream",
          "text": [
            "\n",
            "Epoch train finished. Calculating final metrics...\n",
            "--- IDH1 ---\n",
            "  Macro F1: 0.6109\n",
            "  Accuracy: 0.6198\n",
            "  Targets: [94 98]\n",
            "  Preds:   [ 69 123]\n",
            "--------------------\n",
            "--- MGMT ---\n",
            "  Macro F1: 0.3879\n",
            "  Accuracy: 0.5573\n",
            "  Targets: [ 88 104]\n",
            "  Preds:   [  3 189]\n",
            "--------------------\n",
            "--- 1p/19q ---\n",
            "  Macro F1: 0.5461\n",
            "  Accuracy: 0.5521\n",
            "  Targets: [138  54]\n",
            "  Preds:   [ 76 116]\n",
            "--------------------\n",
            "--- grade ---\n",
            "  Macro F1: 0.6020\n",
            "  Accuracy: 0.6406\n",
            "  Targets: [22 71 99]\n",
            "  Preds:   [45 68 79]\n",
            "--------------------\n"
          ]
        },
        {
          "data": {
            "application/vnd.jupyter.widget-view+json": {
              "model_id": "db628b8c62b84039bb1e3638dd32b998",
              "version_major": 2,
              "version_minor": 0
            },
            "text/plain": [
              "valid:   0%|          | 0/24 [00:00<?, ?it/s]"
            ]
          },
          "metadata": {},
          "output_type": "display_data"
        },
        {
          "name": "stdout",
          "output_type": "stream",
          "text": [
            "\n",
            "Epoch valid finished. Calculating final metrics...\n",
            "--- IDH1 ---\n",
            "  Macro F1: 0.5409\n",
            "  Accuracy: 0.5417\n",
            "  Targets: [11 13]\n",
            "  Preds:   [12 12]\n",
            "--------------------\n",
            "--- MGMT ---\n",
            "  Macro F1: 0.2500\n",
            "  Accuracy: 0.3333\n",
            "  Targets: [16  8]\n",
            "  Preds:   [ 0 24]\n",
            "--------------------\n",
            "--- 1p/19q ---\n",
            "  Macro F1: 0.5556\n",
            "  Accuracy: 0.5833\n",
            "  Targets: [16  8]\n",
            "  Preds:   [14 10]\n",
            "--------------------\n",
            "--- grade ---\n",
            "  Macro F1: 0.3880\n",
            "  Accuracy: 0.4583\n",
            "  Targets: [ 3  7 14]\n",
            "  Preds:   [ 4  7 13]\n",
            "--------------------\n",
            "Epoch 24: train_loss=2.2591, val_loss=3.0098, LR=0.000150\n",
            "Train Macro F1: {'IDH1_macro_f1': '0.6109', 'MGMT_macro_f1': '0.3879', '1p/19q_macro_f1': '0.5461', 'grade_macro_f1': '0.6020'}\n",
            "Val Macro F1: {'IDH1_macro_f1': '0.5409', 'MGMT_macro_f1': '0.2500', '1p/19q_macro_f1': '0.5556', 'grade_macro_f1': '0.3880'}\n",
            "\n",
            "--- Fold 2 | Epoch 25/30 ---\n"
          ]
        },
        {
          "data": {
            "application/vnd.jupyter.widget-view+json": {
              "model_id": "87356e7a7c9f4e6a85c24f80cec2ee90",
              "version_major": 2,
              "version_minor": 0
            },
            "text/plain": [
              "train:   0%|          | 0/192 [00:00<?, ?it/s]"
            ]
          },
          "metadata": {},
          "output_type": "display_data"
        },
        {
          "name": "stdout",
          "output_type": "stream",
          "text": [
            "\n",
            "Epoch train finished. Calculating final metrics...\n",
            "--- IDH1 ---\n",
            "  Macro F1: 0.5981\n",
            "  Accuracy: 0.5990\n",
            "  Targets: [101  91]\n",
            "  Preds:   [100  92]\n",
            "--------------------\n",
            "--- MGMT ---\n",
            "  Macro F1: 0.3645\n",
            "  Accuracy: 0.5104\n",
            "  Targets: [94 98]\n",
            "  Preds:   [  6 186]\n",
            "--------------------\n",
            "--- 1p/19q ---\n",
            "  Macro F1: 0.5426\n",
            "  Accuracy: 0.5677\n",
            "  Targets: [143  49]\n",
            "  Preds:   [94 98]\n",
            "--------------------\n",
            "--- grade ---\n",
            "  Macro F1: 0.6725\n",
            "  Accuracy: 0.6979\n",
            "  Targets: [ 20  68 104]\n",
            "  Preds:   [30 65 97]\n",
            "--------------------\n"
          ]
        },
        {
          "data": {
            "application/vnd.jupyter.widget-view+json": {
              "model_id": "02a6e7d9663f478ba2bad741c48e304e",
              "version_major": 2,
              "version_minor": 0
            },
            "text/plain": [
              "valid:   0%|          | 0/24 [00:00<?, ?it/s]"
            ]
          },
          "metadata": {},
          "output_type": "display_data"
        },
        {
          "name": "stdout",
          "output_type": "stream",
          "text": [
            "\n",
            "Epoch valid finished. Calculating final metrics...\n",
            "--- IDH1 ---\n",
            "  Macro F1: 0.5714\n",
            "  Accuracy: 0.5833\n",
            "  Targets: [11 13]\n",
            "  Preds:   [17  7]\n",
            "--------------------\n",
            "--- MGMT ---\n",
            "  Macro F1: 0.2500\n",
            "  Accuracy: 0.3333\n",
            "  Targets: [16  8]\n",
            "  Preds:   [ 0 24]\n",
            "--------------------\n",
            "--- 1p/19q ---\n",
            "  Macro F1: 0.5636\n",
            "  Accuracy: 0.6250\n",
            "  Targets: [16  8]\n",
            "  Preds:   [17  7]\n",
            "--------------------\n",
            "--- grade ---\n",
            "  Macro F1: 0.2706\n",
            "  Accuracy: 0.4583\n",
            "  Targets: [ 3  7 14]\n",
            "  Preds:   [ 2  5 17]\n",
            "--------------------\n",
            "Epoch 25: train_loss=1.8896, val_loss=3.3677, LR=0.000075\n",
            "Train Macro F1: {'IDH1_macro_f1': '0.5981', 'MGMT_macro_f1': '0.3645', '1p/19q_macro_f1': '0.5426', 'grade_macro_f1': '0.6725'}\n",
            "Val Macro F1: {'IDH1_macro_f1': '0.5714', 'MGMT_macro_f1': '0.2500', '1p/19q_macro_f1': '0.5636', 'grade_macro_f1': '0.2706'}\n",
            "\n",
            "--- Fold 2 | Epoch 26/30 ---\n"
          ]
        },
        {
          "data": {
            "application/vnd.jupyter.widget-view+json": {
              "model_id": "588f0e122b7746a2a6dd436029e67c55",
              "version_major": 2,
              "version_minor": 0
            },
            "text/plain": [
              "train:   0%|          | 0/192 [00:00<?, ?it/s]"
            ]
          },
          "metadata": {},
          "output_type": "display_data"
        },
        {
          "name": "stdout",
          "output_type": "stream",
          "text": [
            "\n",
            "Epoch train finished. Calculating final metrics...\n",
            "--- IDH1 ---\n",
            "  Macro F1: 0.6714\n",
            "  Accuracy: 0.6823\n",
            "  Targets: [93 99]\n",
            "  Preds:   [ 64 128]\n",
            "--------------------\n",
            "--- MGMT ---\n",
            "  Macro F1: 0.3248\n",
            "  Accuracy: 0.4479\n",
            "  Targets: [106  86]\n",
            "  Preds:   [  4 188]\n",
            "--------------------\n",
            "--- 1p/19q ---\n",
            "  Macro F1: 0.4745\n",
            "  Accuracy: 0.4792\n",
            "  Targets: [147  45]\n",
            "  Preds:   [ 63 129]\n",
            "--------------------\n",
            "--- grade ---\n",
            "  Macro F1: 0.6925\n",
            "  Accuracy: 0.6927\n",
            "  Targets: [37 67 88]\n",
            "  Preds:   [47 84 61]\n",
            "--------------------\n"
          ]
        },
        {
          "data": {
            "application/vnd.jupyter.widget-view+json": {
              "model_id": "c538466e1ae5432ca7303150c8b6aa5a",
              "version_major": 2,
              "version_minor": 0
            },
            "text/plain": [
              "valid:   0%|          | 0/24 [00:00<?, ?it/s]"
            ]
          },
          "metadata": {},
          "output_type": "display_data"
        },
        {
          "name": "stdout",
          "output_type": "stream",
          "text": [
            "\n",
            "Epoch valid finished. Calculating final metrics...\n",
            "--- IDH1 ---\n",
            "  Macro F1: 0.5714\n",
            "  Accuracy: 0.5833\n",
            "  Targets: [11 13]\n",
            "  Preds:   [ 9 15]\n",
            "--------------------\n",
            "--- MGMT ---\n",
            "  Macro F1: 0.2500\n",
            "  Accuracy: 0.3333\n",
            "  Targets: [16  8]\n",
            "  Preds:   [ 0 24]\n",
            "--------------------\n",
            "--- 1p/19q ---\n",
            "  Macro F1: 0.4574\n",
            "  Accuracy: 0.4583\n",
            "  Targets: [16  8]\n",
            "  Preds:   [ 9 15]\n",
            "--------------------\n",
            "--- grade ---\n",
            "  Macro F1: 0.3889\n",
            "  Accuracy: 0.3750\n",
            "  Targets: [ 3  7 14]\n",
            "  Preds:   [ 5  9 10]\n",
            "--------------------\n",
            "Epoch 26: train_loss=2.2379, val_loss=2.9211, LR=0.000075\n",
            "Train Macro F1: {'IDH1_macro_f1': '0.6714', 'MGMT_macro_f1': '0.3248', '1p/19q_macro_f1': '0.4745', 'grade_macro_f1': '0.6925'}\n",
            "Val Macro F1: {'IDH1_macro_f1': '0.5714', 'MGMT_macro_f1': '0.2500', '1p/19q_macro_f1': '0.4574', 'grade_macro_f1': '0.3889'}\n",
            "\n",
            "--- Fold 2 | Epoch 27/30 ---\n"
          ]
        },
        {
          "data": {
            "application/vnd.jupyter.widget-view+json": {
              "model_id": "a3632850bc914f94b031d6b4c244c6ac",
              "version_major": 2,
              "version_minor": 0
            },
            "text/plain": [
              "train:   0%|          | 0/192 [00:00<?, ?it/s]"
            ]
          },
          "metadata": {},
          "output_type": "display_data"
        },
        {
          "name": "stdout",
          "output_type": "stream",
          "text": [
            "\n",
            "Epoch train finished. Calculating final metrics...\n",
            "--- IDH1 ---\n",
            "  Macro F1: 0.6517\n",
            "  Accuracy: 0.6562\n",
            "  Targets: [99 93]\n",
            "  Preds:   [ 71 121]\n",
            "--------------------\n",
            "--- MGMT ---\n",
            "  Macro F1: 0.3950\n",
            "  Accuracy: 0.5000\n",
            "  Targets: [101  91]\n",
            "  Preds:   [ 11 181]\n",
            "--------------------\n",
            "--- 1p/19q ---\n",
            "  Macro F1: 0.5561\n",
            "  Accuracy: 0.5677\n",
            "  Targets: [146  46]\n",
            "  Preds:   [ 77 115]\n",
            "--------------------\n",
            "--- grade ---\n",
            "  Macro F1: 0.6239\n",
            "  Accuracy: 0.6250\n",
            "  Targets: [ 30  59 103]\n",
            "  Preds:   [38 82 72]\n",
            "--------------------\n"
          ]
        },
        {
          "data": {
            "application/vnd.jupyter.widget-view+json": {
              "model_id": "d451bb91fe6047f0b9e1aec2f381f64d",
              "version_major": 2,
              "version_minor": 0
            },
            "text/plain": [
              "valid:   0%|          | 0/24 [00:00<?, ?it/s]"
            ]
          },
          "metadata": {},
          "output_type": "display_data"
        },
        {
          "name": "stdout",
          "output_type": "stream",
          "text": [
            "\n",
            "Epoch valid finished. Calculating final metrics...\n",
            "--- IDH1 ---\n",
            "  Macro F1: 0.6667\n",
            "  Accuracy: 0.6667\n",
            "  Targets: [11 13]\n",
            "  Preds:   [13 11]\n",
            "--------------------\n",
            "--- MGMT ---\n",
            "  Macro F1: 0.2500\n",
            "  Accuracy: 0.3333\n",
            "  Targets: [16  8]\n",
            "  Preds:   [ 0 24]\n",
            "--------------------\n",
            "--- 1p/19q ---\n",
            "  Macro F1: 0.5209\n",
            "  Accuracy: 0.5417\n",
            "  Targets: [16  8]\n",
            "  Preds:   [13 11]\n",
            "--------------------\n",
            "--- grade ---\n",
            "  Macro F1: 0.4668\n",
            "  Accuracy: 0.5000\n",
            "  Targets: [ 3  7 14]\n",
            "  Preds:   [ 5  6 13]\n",
            "--------------------\n",
            "Epoch 27: train_loss=2.1074, val_loss=2.9252, LR=0.000075\n",
            "Train Macro F1: {'IDH1_macro_f1': '0.6517', 'MGMT_macro_f1': '0.3950', '1p/19q_macro_f1': '0.5561', 'grade_macro_f1': '0.6239'}\n",
            "Val Macro F1: {'IDH1_macro_f1': '0.6667', 'MGMT_macro_f1': '0.2500', '1p/19q_macro_f1': '0.5209', 'grade_macro_f1': '0.4668'}\n",
            "\n",
            "--- Fold 2 | Epoch 28/30 ---\n"
          ]
        },
        {
          "data": {
            "application/vnd.jupyter.widget-view+json": {
              "model_id": "4a0e7260ae674869bd4089efa67ad46c",
              "version_major": 2,
              "version_minor": 0
            },
            "text/plain": [
              "train:   0%|          | 0/192 [00:00<?, ?it/s]"
            ]
          },
          "metadata": {},
          "output_type": "display_data"
        },
        {
          "name": "stdout",
          "output_type": "stream",
          "text": [
            "\n",
            "Epoch train finished. Calculating final metrics...\n",
            "--- IDH1 ---\n",
            "  Macro F1: 0.6614\n",
            "  Accuracy: 0.6615\n",
            "  Targets: [101  91]\n",
            "  Preds:   [ 92 100]\n",
            "--------------------\n",
            "--- MGMT ---\n",
            "  Macro F1: 0.4037\n",
            "  Accuracy: 0.4271\n",
            "  Targets: [111  81]\n",
            "  Preds:   [ 43 149]\n",
            "--------------------\n",
            "--- 1p/19q ---\n",
            "  Macro F1: 0.6314\n",
            "  Accuracy: 0.6458\n",
            "  Targets: [134  58]\n",
            "  Preds:   [96 96]\n",
            "--------------------\n",
            "--- grade ---\n",
            "  Macro F1: 0.6822\n",
            "  Accuracy: 0.6927\n",
            "  Targets: [30 69 93]\n",
            "  Preds:   [43 65 84]\n",
            "--------------------\n"
          ]
        },
        {
          "data": {
            "application/vnd.jupyter.widget-view+json": {
              "model_id": "4aa0591c4364461fb406ba81a29c32e9",
              "version_major": 2,
              "version_minor": 0
            },
            "text/plain": [
              "valid:   0%|          | 0/24 [00:00<?, ?it/s]"
            ]
          },
          "metadata": {},
          "output_type": "display_data"
        },
        {
          "name": "stdout",
          "output_type": "stream",
          "text": [
            "\n",
            "Epoch valid finished. Calculating final metrics...\n",
            "--- IDH1 ---\n",
            "  Macro F1: 0.6190\n",
            "  Accuracy: 0.6250\n",
            "  Targets: [11 13]\n",
            "  Preds:   [16  8]\n",
            "--------------------\n",
            "--- MGMT ---\n",
            "  Macro F1: 0.2889\n",
            "  Accuracy: 0.3333\n",
            "  Targets: [16  8]\n",
            "  Preds:   [ 2 22]\n",
            "--------------------\n",
            "--- 1p/19q ---\n",
            "  Macro F1: 0.6250\n",
            "  Accuracy: 0.6667\n",
            "  Targets: [16  8]\n",
            "  Preds:   [16  8]\n",
            "--------------------\n",
            "--- grade ---\n",
            "  Macro F1: 0.3889\n",
            "  Accuracy: 0.5000\n",
            "  Targets: [ 3  7 14]\n",
            "  Preds:   [ 3  5 16]\n",
            "--------------------\n",
            "Epoch 28: train_loss=1.9565, val_loss=3.1003, LR=0.000075\n",
            "Train Macro F1: {'IDH1_macro_f1': '0.6614', 'MGMT_macro_f1': '0.4037', '1p/19q_macro_f1': '0.6314', 'grade_macro_f1': '0.6822'}\n",
            "Val Macro F1: {'IDH1_macro_f1': '0.6190', 'MGMT_macro_f1': '0.2889', '1p/19q_macro_f1': '0.6250', 'grade_macro_f1': '0.3889'}\n",
            "\n",
            "--- Fold 2 | Epoch 29/30 ---\n"
          ]
        },
        {
          "data": {
            "application/vnd.jupyter.widget-view+json": {
              "model_id": "9e4370fe30a84da796cde13686e4749a",
              "version_major": 2,
              "version_minor": 0
            },
            "text/plain": [
              "train:   0%|          | 0/192 [00:00<?, ?it/s]"
            ]
          },
          "metadata": {},
          "output_type": "display_data"
        },
        {
          "name": "stdout",
          "output_type": "stream",
          "text": [
            "\n",
            "Epoch train finished. Calculating final metrics...\n",
            "--- IDH1 ---\n",
            "  Macro F1: 0.6512\n",
            "  Accuracy: 0.6615\n",
            "  Targets: [107  85]\n",
            "  Preds:   [118  74]\n",
            "--------------------\n",
            "--- MGMT ---\n",
            "  Macro F1: 0.4723\n",
            "  Accuracy: 0.5000\n",
            "  Targets: [104  88]\n",
            "  Preds:   [ 44 148]\n",
            "--------------------\n",
            "--- 1p/19q ---\n",
            "  Macro F1: 0.5706\n",
            "  Accuracy: 0.6198\n",
            "  Targets: [152  40]\n",
            "  Preds:   [105  87]\n",
            "--------------------\n",
            "--- grade ---\n",
            "  Macro F1: 0.6902\n",
            "  Accuracy: 0.7135\n",
            "  Targets: [ 21  64 107]\n",
            "  Preds:   [ 32  58 102]\n",
            "--------------------\n"
          ]
        },
        {
          "data": {
            "application/vnd.jupyter.widget-view+json": {
              "model_id": "5e23761539c2459986bf63dbc4e3ca33",
              "version_major": 2,
              "version_minor": 0
            },
            "text/plain": [
              "valid:   0%|          | 0/24 [00:00<?, ?it/s]"
            ]
          },
          "metadata": {},
          "output_type": "display_data"
        },
        {
          "name": "stdout",
          "output_type": "stream",
          "text": [
            "\n",
            "Epoch valid finished. Calculating final metrics...\n",
            "--- IDH1 ---\n",
            "  Macro F1: 0.6643\n",
            "  Accuracy: 0.6667\n",
            "  Targets: [11 13]\n",
            "  Preds:   [15  9]\n",
            "--------------------\n",
            "--- MGMT ---\n",
            "  Macro F1: 0.4965\n",
            "  Accuracy: 0.5000\n",
            "  Targets: [16  8]\n",
            "  Preds:   [ 6 18]\n",
            "--------------------\n",
            "--- 1p/19q ---\n",
            "  Macro F1: 0.5556\n",
            "  Accuracy: 0.5833\n",
            "  Targets: [16  8]\n",
            "  Preds:   [14 10]\n",
            "--------------------\n",
            "--- grade ---\n",
            "  Macro F1: 0.4121\n",
            "  Accuracy: 0.5000\n",
            "  Targets: [ 3  7 14]\n",
            "  Preds:   [ 4  6 14]\n",
            "--------------------\n",
            "Epoch 29: train_loss=1.6596, val_loss=2.9717, LR=0.000037\n",
            "Train Macro F1: {'IDH1_macro_f1': '0.6512', 'MGMT_macro_f1': '0.4723', '1p/19q_macro_f1': '0.5706', 'grade_macro_f1': '0.6902'}\n",
            "Val Macro F1: {'IDH1_macro_f1': '0.6643', 'MGMT_macro_f1': '0.4965', '1p/19q_macro_f1': '0.5556', 'grade_macro_f1': '0.4121'}\n",
            "\n",
            "--- Fold 2 | Epoch 30/30 ---\n"
          ]
        },
        {
          "data": {
            "application/vnd.jupyter.widget-view+json": {
              "model_id": "b01a513a77f44d358c2f39e66e1a38cf",
              "version_major": 2,
              "version_minor": 0
            },
            "text/plain": [
              "train:   0%|          | 0/192 [00:00<?, ?it/s]"
            ]
          },
          "metadata": {},
          "output_type": "display_data"
        },
        {
          "name": "stdout",
          "output_type": "stream",
          "text": [
            "\n",
            "Epoch train finished. Calculating final metrics...\n",
            "--- IDH1 ---\n",
            "  Macro F1: 0.6823\n",
            "  Accuracy: 0.6823\n",
            "  Targets: [93 99]\n",
            "  Preds:   [98 94]\n",
            "--------------------\n",
            "--- MGMT ---\n",
            "  Macro F1: 0.5003\n",
            "  Accuracy: 0.5052\n",
            "  Targets: [111  81]\n",
            "  Preds:   [ 62 130]\n",
            "--------------------\n",
            "--- 1p/19q ---\n",
            "  Macro F1: 0.6376\n",
            "  Accuracy: 0.6510\n",
            "  Targets: [136  56]\n",
            "  Preds:   [93 99]\n",
            "--------------------\n",
            "--- grade ---\n",
            "  Macro F1: 0.7665\n",
            "  Accuracy: 0.7604\n",
            "  Targets: [35 61 96]\n",
            "  Preds:   [40 62 90]\n",
            "--------------------\n"
          ]
        },
        {
          "data": {
            "application/vnd.jupyter.widget-view+json": {
              "model_id": "01f16f0515f54a5fbf5546193acf0c1b",
              "version_major": 2,
              "version_minor": 0
            },
            "text/plain": [
              "valid:   0%|          | 0/24 [00:00<?, ?it/s]"
            ]
          },
          "metadata": {},
          "output_type": "display_data"
        },
        {
          "name": "stdout",
          "output_type": "stream",
          "text": [
            "\n",
            "Epoch valid finished. Calculating final metrics...\n",
            "--- IDH1 ---\n",
            "  Macro F1: 0.6243\n",
            "  Accuracy: 0.6250\n",
            "  Targets: [11 13]\n",
            "  Preds:   [12 12]\n",
            "--------------------\n",
            "--- MGMT ---\n",
            "  Macro F1: 0.6080\n",
            "  Accuracy: 0.6250\n",
            "  Targets: [16  8]\n",
            "  Preds:   [13 11]\n",
            "--------------------\n",
            "--- 1p/19q ---\n",
            "  Macro F1: 0.4857\n",
            "  Accuracy: 0.5000\n",
            "  Targets: [16  8]\n",
            "  Preds:   [12 12]\n",
            "--------------------\n",
            "--- grade ---\n",
            "  Macro F1: 0.3739\n",
            "  Accuracy: 0.4167\n",
            "  Targets: [ 3  7 14]\n",
            "  Preds:   [ 3  9 12]\n",
            "--------------------\n",
            "Epoch 30: train_loss=1.6757, val_loss=2.8502, LR=0.000037\n",
            "Train Macro F1: {'IDH1_macro_f1': '0.6823', 'MGMT_macro_f1': '0.5003', '1p/19q_macro_f1': '0.6376', 'grade_macro_f1': '0.7665'}\n",
            "Val Macro F1: {'IDH1_macro_f1': '0.6243', 'MGMT_macro_f1': '0.6080', '1p/19q_macro_f1': '0.4857', 'grade_macro_f1': '0.3739'}\n",
            "\n",
            "==========  FOLD 3/5  (96 train / 24 val) ==========\n",
            "Warmup: 5 epochs, 60 steps, LR start factor: 0.01\n",
            "\n",
            "--- Fold 3 | Epoch 1/30 ---\n"
          ]
        },
        {
          "name": "stderr",
          "output_type": "stream",
          "text": [
            "/usr/local/lib/python3.11/dist-packages/torch/optim/lr_scheduler.py:62: UserWarning: The verbose parameter is deprecated. Please use get_last_lr() to access the learning rate.\n",
            "  warnings.warn(\n"
          ]
        },
        {
          "data": {
            "application/vnd.jupyter.widget-view+json": {
              "model_id": "da332e7017e841399611da00d36834ee",
              "version_major": 2,
              "version_minor": 0
            },
            "text/plain": [
              "train:   0%|          | 0/192 [00:00<?, ?it/s]"
            ]
          },
          "metadata": {},
          "output_type": "display_data"
        },
        {
          "name": "stdout",
          "output_type": "stream",
          "text": [
            "\n",
            "Epoch train finished. Calculating final metrics...\n",
            "--- IDH1 ---\n",
            "  Macro F1: 0.3379\n",
            "  Accuracy: 0.5104\n",
            "  Targets: [94 98]\n",
            "  Preds:   [  0 192]\n",
            "--------------------\n",
            "--- MGMT ---\n",
            "  Macro F1: 0.4161\n",
            "  Accuracy: 0.5052\n",
            "  Targets: [96 96]\n",
            "  Preds:   [ 21 171]\n",
            "--------------------\n",
            "--- 1p/19q ---\n",
            "  Macro F1: 0.3414\n",
            "  Accuracy: 0.3646\n",
            "  Targets: [126  66]\n",
            "  Preds:   [ 30 162]\n",
            "--------------------\n",
            "--- grade ---\n",
            "  Macro F1: 0.3155\n",
            "  Accuracy: 0.4583\n",
            "  Targets: [17 78 97]\n",
            "  Preds:   [  0  83 109]\n",
            "--------------------\n"
          ]
        },
        {
          "data": {
            "application/vnd.jupyter.widget-view+json": {
              "model_id": "8c76eb0fe5c64ac9a0a03c9f30e706b1",
              "version_major": 2,
              "version_minor": 0
            },
            "text/plain": [
              "valid:   0%|          | 0/24 [00:00<?, ?it/s]"
            ]
          },
          "metadata": {},
          "output_type": "display_data"
        },
        {
          "name": "stdout",
          "output_type": "stream",
          "text": [
            "\n",
            "Epoch valid finished. Calculating final metrics...\n",
            "--- IDH1 ---\n",
            "  Macro F1: 0.3333\n",
            "  Accuracy: 0.5000\n",
            "  Targets: [12 12]\n",
            "  Preds:   [ 0 24]\n",
            "--------------------\n",
            "--- MGMT ---\n",
            "  Macro F1: 0.2000\n",
            "  Accuracy: 0.2500\n",
            "  Targets: [18  6]\n",
            "  Preds:   [ 0 24]\n",
            "--------------------\n",
            "--- 1p/19q ---\n",
            "  Macro F1: 0.1724\n",
            "  Accuracy: 0.2083\n",
            "  Targets: [19  5]\n",
            "  Preds:   [ 0 24]\n",
            "--------------------\n",
            "--- grade ---\n",
            "  Macro F1: 0.1505\n",
            "  Accuracy: 0.2917\n",
            "  Targets: [ 3  7 14]\n",
            "  Preds:   [ 0 24]\n",
            "--------------------\n",
            "Epoch 1: train_loss=2.9792, val_loss=3.1620, LR=0.000062\n",
            "Train Macro F1: {'IDH1_macro_f1': '0.3379', 'MGMT_macro_f1': '0.4161', '1p/19q_macro_f1': '0.3414', 'grade_macro_f1': '0.3155'}\n",
            "Val Macro F1: {'IDH1_macro_f1': '0.3333', 'MGMT_macro_f1': '0.2000', '1p/19q_macro_f1': '0.1724', 'grade_macro_f1': '0.1505'}\n",
            "Warmup phase (Epoch 1/5). LR controlled manually. Current LR: 0.000062\n",
            "Validation F1 ('grade') improved (-inf --> 0.1505). Saving model...\n",
            "\n",
            "--- Fold 3 | Epoch 2/30 ---\n"
          ]
        },
        {
          "data": {
            "application/vnd.jupyter.widget-view+json": {
              "model_id": "8913ea63ff0d463d8c1ee204137408d4",
              "version_major": 2,
              "version_minor": 0
            },
            "text/plain": [
              "train:   0%|          | 0/192 [00:00<?, ?it/s]"
            ]
          },
          "metadata": {},
          "output_type": "display_data"
        },
        {
          "name": "stdout",
          "output_type": "stream",
          "text": [
            "\n",
            "Epoch train finished. Calculating final metrics...\n",
            "--- IDH1 ---\n",
            "  Macro F1: 0.3544\n",
            "  Accuracy: 0.5260\n",
            "  Targets: [ 91 101]\n",
            "  Preds:   [  2 190]\n",
            "--------------------\n",
            "--- MGMT ---\n",
            "  Macro F1: 0.4731\n",
            "  Accuracy: 0.4896\n",
            "  Targets: [98 94]\n",
            "  Preds:   [ 60 132]\n",
            "--------------------\n",
            "--- 1p/19q ---\n",
            "  Macro F1: 0.2761\n",
            "  Accuracy: 0.3333\n",
            "  Targets: [133  59]\n",
            "  Preds:   [  5 187]\n",
            "--------------------\n",
            "--- grade ---\n",
            "  Macro F1: 0.1869\n",
            "  Accuracy: 0.3698\n",
            "  Targets: [34 72 86]\n",
            "  Preds:   [  0 188   4]\n",
            "--------------------\n"
          ]
        },
        {
          "data": {
            "application/vnd.jupyter.widget-view+json": {
              "model_id": "9af3b20031e34487853711a6282ce0fd",
              "version_major": 2,
              "version_minor": 0
            },
            "text/plain": [
              "valid:   0%|          | 0/24 [00:00<?, ?it/s]"
            ]
          },
          "metadata": {},
          "output_type": "display_data"
        },
        {
          "name": "stdout",
          "output_type": "stream",
          "text": [
            "\n",
            "Epoch valid finished. Calculating final metrics...\n",
            "--- IDH1 ---\n",
            "  Macro F1: 0.3333\n",
            "  Accuracy: 0.5000\n",
            "  Targets: [12 12]\n",
            "  Preds:   [ 0 24]\n",
            "--------------------\n",
            "--- MGMT ---\n",
            "  Macro F1: 0.2000\n",
            "  Accuracy: 0.2500\n",
            "  Targets: [18  6]\n",
            "  Preds:   [ 0 24]\n",
            "--------------------\n",
            "--- 1p/19q ---\n",
            "  Macro F1: 0.1724\n",
            "  Accuracy: 0.2083\n",
            "  Targets: [19  5]\n",
            "  Preds:   [ 0 24]\n",
            "--------------------\n",
            "--- grade ---\n",
            "  Macro F1: 0.1505\n",
            "  Accuracy: 0.2917\n",
            "  Targets: [ 3  7 14]\n",
            "  Preds:   [ 0 24]\n",
            "--------------------\n",
            "Epoch 2: train_loss=3.7934, val_loss=3.1438, LR=0.000122\n",
            "Train Macro F1: {'IDH1_macro_f1': '0.3544', 'MGMT_macro_f1': '0.4731', '1p/19q_macro_f1': '0.2761', 'grade_macro_f1': '0.1869'}\n",
            "Val Macro F1: {'IDH1_macro_f1': '0.3333', 'MGMT_macro_f1': '0.2000', '1p/19q_macro_f1': '0.1724', 'grade_macro_f1': '0.1505'}\n",
            "Warmup phase (Epoch 2/5). LR controlled manually. Current LR: 0.000122\n",
            "\n",
            "--- Fold 3 | Epoch 3/30 ---\n"
          ]
        },
        {
          "data": {
            "application/vnd.jupyter.widget-view+json": {
              "model_id": "e3f9091d08564fe8b24e59915808cdbc",
              "version_major": 2,
              "version_minor": 0
            },
            "text/plain": [
              "train:   0%|          | 0/192 [00:00<?, ?it/s]"
            ]
          },
          "metadata": {},
          "output_type": "display_data"
        },
        {
          "name": "stdout",
          "output_type": "stream",
          "text": [
            "\n",
            "Epoch train finished. Calculating final metrics...\n",
            "--- IDH1 ---\n",
            "  Macro F1: 0.3857\n",
            "  Accuracy: 0.5729\n",
            "  Targets: [ 77 115]\n",
            "  Preds:   [  9 183]\n",
            "--------------------\n",
            "--- MGMT ---\n",
            "  Macro F1: 0.3835\n",
            "  Accuracy: 0.5312\n",
            "  Targets: [ 91 101]\n",
            "  Preds:   [  7 185]\n",
            "--------------------\n",
            "--- 1p/19q ---\n",
            "  Macro F1: 0.2987\n",
            "  Accuracy: 0.4115\n",
            "  Targets: [114  78]\n",
            "  Preds:   [  1 191]\n",
            "--------------------\n",
            "--- grade ---\n",
            "  Macro F1: 0.1981\n",
            "  Accuracy: 0.4010\n",
            "  Targets: [30 76 86]\n",
            "  Preds:   [  1 190   1]\n",
            "--------------------\n"
          ]
        },
        {
          "data": {
            "application/vnd.jupyter.widget-view+json": {
              "model_id": "61b78e3188a348f19695cc9e97a75f75",
              "version_major": 2,
              "version_minor": 0
            },
            "text/plain": [
              "valid:   0%|          | 0/24 [00:00<?, ?it/s]"
            ]
          },
          "metadata": {},
          "output_type": "display_data"
        },
        {
          "name": "stdout",
          "output_type": "stream",
          "text": [
            "\n",
            "Epoch valid finished. Calculating final metrics...\n",
            "--- IDH1 ---\n",
            "  Macro F1: 0.3333\n",
            "  Accuracy: 0.5000\n",
            "  Targets: [12 12]\n",
            "  Preds:   [ 0 24]\n",
            "--------------------\n",
            "--- MGMT ---\n",
            "  Macro F1: 0.2000\n",
            "  Accuracy: 0.2500\n",
            "  Targets: [18  6]\n",
            "  Preds:   [ 0 24]\n",
            "--------------------\n",
            "--- 1p/19q ---\n",
            "  Macro F1: 0.1724\n",
            "  Accuracy: 0.2083\n",
            "  Targets: [19  5]\n",
            "  Preds:   [ 0 24]\n",
            "--------------------\n",
            "--- grade ---\n",
            "  Macro F1: 0.1505\n",
            "  Accuracy: 0.2917\n",
            "  Targets: [ 3  7 14]\n",
            "  Preds:   [ 0 24]\n",
            "--------------------\n",
            "Epoch 3: train_loss=3.5262, val_loss=3.1524, LR=0.000181\n",
            "Train Macro F1: {'IDH1_macro_f1': '0.3857', 'MGMT_macro_f1': '0.3835', '1p/19q_macro_f1': '0.2987', 'grade_macro_f1': '0.1981'}\n",
            "Val Macro F1: {'IDH1_macro_f1': '0.3333', 'MGMT_macro_f1': '0.2000', '1p/19q_macro_f1': '0.1724', 'grade_macro_f1': '0.1505'}\n",
            "Warmup phase (Epoch 3/5). LR controlled manually. Current LR: 0.000181\n",
            "\n",
            "--- Fold 3 | Epoch 4/30 ---\n"
          ]
        },
        {
          "data": {
            "application/vnd.jupyter.widget-view+json": {
              "model_id": "d4c80b6f3b9348d3846d67021491f0c6",
              "version_major": 2,
              "version_minor": 0
            },
            "text/plain": [
              "train:   0%|          | 0/192 [00:00<?, ?it/s]"
            ]
          },
          "metadata": {},
          "output_type": "display_data"
        },
        {
          "name": "stdout",
          "output_type": "stream",
          "text": [
            "\n",
            "Epoch train finished. Calculating final metrics...\n",
            "--- IDH1 ---\n",
            "  Macro F1: 0.3733\n",
            "  Accuracy: 0.4062\n",
            "  Targets: [113  79]\n",
            "  Preds:   [ 35 157]\n",
            "--------------------\n",
            "--- MGMT ---\n",
            "  Macro F1: 0.3544\n",
            "  Accuracy: 0.5260\n",
            "  Targets: [ 92 100]\n",
            "  Preds:   [  1 191]\n",
            "--------------------\n",
            "--- 1p/19q ---\n",
            "  Macro F1: 0.2258\n",
            "  Accuracy: 0.2917\n",
            "  Targets: [136  56]\n",
            "  Preds:   [  0 192]\n",
            "--------------------\n",
            "--- grade ---\n",
            "  Macro F1: 0.1919\n",
            "  Accuracy: 0.2135\n",
            "  Targets: [36 63 93]\n",
            "  Preds:   [130  61   1]\n",
            "--------------------\n"
          ]
        },
        {
          "data": {
            "application/vnd.jupyter.widget-view+json": {
              "model_id": "feb612c1f1f34f40bbfa88f08f793b70",
              "version_major": 2,
              "version_minor": 0
            },
            "text/plain": [
              "valid:   0%|          | 0/24 [00:00<?, ?it/s]"
            ]
          },
          "metadata": {},
          "output_type": "display_data"
        },
        {
          "name": "stdout",
          "output_type": "stream",
          "text": [
            "\n",
            "Epoch valid finished. Calculating final metrics...\n",
            "--- IDH1 ---\n",
            "  Macro F1: 0.3333\n",
            "  Accuracy: 0.5000\n",
            "  Targets: [12 12]\n",
            "  Preds:   [ 0 24]\n",
            "--------------------\n",
            "--- MGMT ---\n",
            "  Macro F1: 0.2000\n",
            "  Accuracy: 0.2500\n",
            "  Targets: [18  6]\n",
            "  Preds:   [ 0 24]\n",
            "--------------------\n",
            "--- 1p/19q ---\n",
            "  Macro F1: 0.1724\n",
            "  Accuracy: 0.2083\n",
            "  Targets: [19  5]\n",
            "  Preds:   [ 0 24]\n",
            "--------------------\n",
            "--- grade ---\n",
            "  Macro F1: 0.0741\n",
            "  Accuracy: 0.1250\n",
            "  Targets: [ 3  7 14]\n",
            "  Preds:   [24]\n",
            "--------------------\n",
            "Epoch 4: train_loss=3.6672, val_loss=3.1912, LR=0.000241\n",
            "Train Macro F1: {'IDH1_macro_f1': '0.3733', 'MGMT_macro_f1': '0.3544', '1p/19q_macro_f1': '0.2258', 'grade_macro_f1': '0.1919'}\n",
            "Val Macro F1: {'IDH1_macro_f1': '0.3333', 'MGMT_macro_f1': '0.2000', '1p/19q_macro_f1': '0.1724', 'grade_macro_f1': '0.0741'}\n",
            "Warmup phase (Epoch 4/5). LR controlled manually. Current LR: 0.000241\n",
            "\n",
            "--- Fold 3 | Epoch 5/30 ---\n"
          ]
        },
        {
          "data": {
            "application/vnd.jupyter.widget-view+json": {
              "model_id": "0e0b8eb911f0411d9ac8921563d3f096",
              "version_major": 2,
              "version_minor": 0
            },
            "text/plain": [
              "train:   0%|          | 0/192 [00:00<?, ?it/s]"
            ]
          },
          "metadata": {},
          "output_type": "display_data"
        },
        {
          "name": "stdout",
          "output_type": "stream",
          "text": [
            "\n",
            "Epoch train finished. Calculating final metrics...\n",
            "--- IDH1 ---\n",
            "  Macro F1: 0.4104\n",
            "  Accuracy: 0.5052\n",
            "  Targets: [95 97]\n",
            "  Preds:   [ 20 172]\n",
            "--------------------\n",
            "--- MGMT ---\n",
            "  Macro F1: 0.4176\n",
            "  Accuracy: 0.4844\n",
            "  Targets: [93 99]\n",
            "  Preds:   [ 34 158]\n",
            "--------------------\n",
            "--- 1p/19q ---\n",
            "  Macro F1: 0.2356\n",
            "  Accuracy: 0.2917\n",
            "  Targets: [134  58]\n",
            "  Preds:   [  6 186]\n",
            "--------------------\n",
            "--- grade ---\n",
            "  Macro F1: 0.2099\n",
            "  Accuracy: 0.3281\n",
            "  Targets: [25 69 98]\n",
            "  Preds:   [ 33 159]\n",
            "--------------------\n"
          ]
        },
        {
          "data": {
            "application/vnd.jupyter.widget-view+json": {
              "model_id": "fdda03d9cd004a2bbd17970a6f2fea4a",
              "version_major": 2,
              "version_minor": 0
            },
            "text/plain": [
              "valid:   0%|          | 0/24 [00:00<?, ?it/s]"
            ]
          },
          "metadata": {},
          "output_type": "display_data"
        },
        {
          "name": "stdout",
          "output_type": "stream",
          "text": [
            "\n",
            "Epoch valid finished. Calculating final metrics...\n",
            "--- IDH1 ---\n",
            "  Macro F1: 0.3333\n",
            "  Accuracy: 0.5000\n",
            "  Targets: [12 12]\n",
            "  Preds:   [ 0 24]\n",
            "--------------------\n",
            "--- MGMT ---\n",
            "  Macro F1: 0.2000\n",
            "  Accuracy: 0.2500\n",
            "  Targets: [18  6]\n",
            "  Preds:   [ 0 24]\n",
            "--------------------\n",
            "--- 1p/19q ---\n",
            "  Macro F1: 0.1724\n",
            "  Accuracy: 0.2083\n",
            "  Targets: [19  5]\n",
            "  Preds:   [ 0 24]\n",
            "--------------------\n",
            "--- grade ---\n",
            "  Macro F1: 0.1505\n",
            "  Accuracy: 0.2917\n",
            "  Targets: [ 3  7 14]\n",
            "  Preds:   [ 0 24]\n",
            "--------------------\n",
            "Epoch 5: train_loss=3.3192, val_loss=3.1815, LR=0.000300\n",
            "Train Macro F1: {'IDH1_macro_f1': '0.4104', 'MGMT_macro_f1': '0.4176', '1p/19q_macro_f1': '0.2356', 'grade_macro_f1': '0.2099'}\n",
            "Val Macro F1: {'IDH1_macro_f1': '0.3333', 'MGMT_macro_f1': '0.2000', '1p/19q_macro_f1': '0.1724', 'grade_macro_f1': '0.1505'}\n",
            "\n",
            "--- Fold 3 | Epoch 6/30 ---\n"
          ]
        },
        {
          "data": {
            "application/vnd.jupyter.widget-view+json": {
              "model_id": "60cc86bf298749d1809c172533dd8737",
              "version_major": 2,
              "version_minor": 0
            },
            "text/plain": [
              "train:   0%|          | 0/192 [00:00<?, ?it/s]"
            ]
          },
          "metadata": {},
          "output_type": "display_data"
        },
        {
          "name": "stdout",
          "output_type": "stream",
          "text": [
            "\n",
            "Epoch train finished. Calculating final metrics...\n",
            "--- IDH1 ---\n",
            "  Macro F1: 0.3915\n",
            "  Accuracy: 0.4844\n",
            "  Targets: [95 97]\n",
            "  Preds:   [ 22 170]\n",
            "--------------------\n",
            "--- MGMT ---\n",
            "  Macro F1: 0.3944\n",
            "  Accuracy: 0.5365\n",
            "  Targets: [ 91 101]\n",
            "  Preds:   [  8 184]\n",
            "--------------------\n",
            "--- 1p/19q ---\n",
            "  Macro F1: 0.2794\n",
            "  Accuracy: 0.3385\n",
            "  Targets: [132  60]\n",
            "  Preds:   [  5 187]\n",
            "--------------------\n",
            "--- grade ---\n",
            "  Macro F1: 0.1836\n",
            "  Accuracy: 0.3802\n",
            "  Targets: [22 73 97]\n",
            "  Preds:   [  0 192]\n",
            "--------------------\n"
          ]
        },
        {
          "data": {
            "application/vnd.jupyter.widget-view+json": {
              "model_id": "f7f5ebc8fc214925a2511fd96fe6b83e",
              "version_major": 2,
              "version_minor": 0
            },
            "text/plain": [
              "valid:   0%|          | 0/24 [00:00<?, ?it/s]"
            ]
          },
          "metadata": {},
          "output_type": "display_data"
        },
        {
          "name": "stdout",
          "output_type": "stream",
          "text": [
            "\n",
            "Epoch valid finished. Calculating final metrics...\n",
            "--- IDH1 ---\n",
            "  Macro F1: 0.3333\n",
            "  Accuracy: 0.5000\n",
            "  Targets: [12 12]\n",
            "  Preds:   [ 0 24]\n",
            "--------------------\n",
            "--- MGMT ---\n",
            "  Macro F1: 0.2000\n",
            "  Accuracy: 0.2500\n",
            "  Targets: [18  6]\n",
            "  Preds:   [ 0 24]\n",
            "--------------------\n",
            "--- 1p/19q ---\n",
            "  Macro F1: 0.1724\n",
            "  Accuracy: 0.2083\n",
            "  Targets: [19  5]\n",
            "  Preds:   [ 0 24]\n",
            "--------------------\n",
            "--- grade ---\n",
            "  Macro F1: 0.1505\n",
            "  Accuracy: 0.2917\n",
            "  Targets: [ 3  7 14]\n",
            "  Preds:   [ 0 24]\n",
            "--------------------\n",
            "Epoch 6: train_loss=3.1896, val_loss=3.1465, LR=0.000300\n",
            "Train Macro F1: {'IDH1_macro_f1': '0.3915', 'MGMT_macro_f1': '0.3944', '1p/19q_macro_f1': '0.2794', 'grade_macro_f1': '0.1836'}\n",
            "Val Macro F1: {'IDH1_macro_f1': '0.3333', 'MGMT_macro_f1': '0.2000', '1p/19q_macro_f1': '0.1724', 'grade_macro_f1': '0.1505'}\n",
            "\n",
            "--- Fold 3 | Epoch 7/30 ---\n"
          ]
        },
        {
          "data": {
            "application/vnd.jupyter.widget-view+json": {
              "model_id": "65457d52a7f34f5eaac3a17420159ccf",
              "version_major": 2,
              "version_minor": 0
            },
            "text/plain": [
              "train:   0%|          | 0/192 [00:00<?, ?it/s]"
            ]
          },
          "metadata": {},
          "output_type": "display_data"
        },
        {
          "name": "stdout",
          "output_type": "stream",
          "text": [
            "\n",
            "Epoch train finished. Calculating final metrics...\n",
            "--- IDH1 ---\n",
            "  Macro F1: 0.5513\n",
            "  Accuracy: 0.5521\n",
            "  Targets: [105  87]\n",
            "  Preds:   [95 97]\n",
            "--------------------\n",
            "--- MGMT ---\n",
            "  Macro F1: 0.3310\n",
            "  Accuracy: 0.4948\n",
            "  Targets: [97 95]\n",
            "  Preds:   [  0 192]\n",
            "--------------------\n",
            "--- 1p/19q ---\n",
            "  Macro F1: 0.2375\n",
            "  Accuracy: 0.2812\n",
            "  Targets: [136  56]\n",
            "  Preds:   [ 10 182]\n",
            "--------------------\n",
            "--- grade ---\n",
            "  Macro F1: 0.2717\n",
            "  Accuracy: 0.3750\n",
            "  Targets: [32 61 99]\n",
            "  Preds:   [  1 103  88]\n",
            "--------------------\n"
          ]
        },
        {
          "data": {
            "application/vnd.jupyter.widget-view+json": {
              "model_id": "8a87e9f254844e74a26b1cef42191a61",
              "version_major": 2,
              "version_minor": 0
            },
            "text/plain": [
              "valid:   0%|          | 0/24 [00:00<?, ?it/s]"
            ]
          },
          "metadata": {},
          "output_type": "display_data"
        },
        {
          "name": "stdout",
          "output_type": "stream",
          "text": [
            "\n",
            "Epoch valid finished. Calculating final metrics...\n",
            "--- IDH1 ---\n",
            "  Macro F1: 0.3333\n",
            "  Accuracy: 0.5000\n",
            "  Targets: [12 12]\n",
            "  Preds:   [24]\n",
            "--------------------\n",
            "--- MGMT ---\n",
            "  Macro F1: 0.2000\n",
            "  Accuracy: 0.2500\n",
            "  Targets: [18  6]\n",
            "  Preds:   [ 0 24]\n",
            "--------------------\n",
            "--- 1p/19q ---\n",
            "  Macro F1: 0.1724\n",
            "  Accuracy: 0.2083\n",
            "  Targets: [19  5]\n",
            "  Preds:   [ 0 24]\n",
            "--------------------\n",
            "--- grade ---\n",
            "  Macro F1: 0.2456\n",
            "  Accuracy: 0.5833\n",
            "  Targets: [ 3  7 14]\n",
            "  Preds:   [ 0  0 24]\n",
            "--------------------\n",
            "Epoch 7: train_loss=3.5025, val_loss=3.1109, LR=0.000300\n",
            "Train Macro F1: {'IDH1_macro_f1': '0.5513', 'MGMT_macro_f1': '0.3310', '1p/19q_macro_f1': '0.2375', 'grade_macro_f1': '0.2717'}\n",
            "Val Macro F1: {'IDH1_macro_f1': '0.3333', 'MGMT_macro_f1': '0.2000', '1p/19q_macro_f1': '0.1724', 'grade_macro_f1': '0.2456'}\n",
            "Validation F1 ('grade') improved (0.1505 --> 0.2456). Saving model...\n",
            "\n",
            "--- Fold 3 | Epoch 8/30 ---\n"
          ]
        },
        {
          "data": {
            "application/vnd.jupyter.widget-view+json": {
              "model_id": "f4f8a9e1b0bf410096ebd0a719df3ecb",
              "version_major": 2,
              "version_minor": 0
            },
            "text/plain": [
              "train:   0%|          | 0/192 [00:00<?, ?it/s]"
            ]
          },
          "metadata": {},
          "output_type": "display_data"
        },
        {
          "name": "stdout",
          "output_type": "stream",
          "text": [
            "\n",
            "Epoch train finished. Calculating final metrics...\n",
            "--- IDH1 ---\n",
            "  Macro F1: 0.4755\n",
            "  Accuracy: 0.4792\n",
            "  Targets: [93 99]\n",
            "  Preds:   [ 83 109]\n",
            "--------------------\n",
            "--- MGMT ---\n",
            "  Macro F1: 0.5052\n",
            "  Accuracy: 0.5052\n",
            "  Targets: [107  85]\n",
            "  Preds:   [ 84 108]\n",
            "--------------------\n",
            "--- 1p/19q ---\n",
            "  Macro F1: 0.2964\n",
            "  Accuracy: 0.3333\n",
            "  Targets: [133  59]\n",
            "  Preds:   [ 15 177]\n",
            "--------------------\n",
            "--- grade ---\n",
            "  Macro F1: 0.2330\n",
            "  Accuracy: 0.2448\n",
            "  Targets: [27 74 91]\n",
            "  Preds:   [97 76 19]\n",
            "--------------------\n"
          ]
        },
        {
          "data": {
            "application/vnd.jupyter.widget-view+json": {
              "model_id": "1ef7c27ec3d341af9997d418ef515988",
              "version_major": 2,
              "version_minor": 0
            },
            "text/plain": [
              "valid:   0%|          | 0/24 [00:00<?, ?it/s]"
            ]
          },
          "metadata": {},
          "output_type": "display_data"
        },
        {
          "name": "stdout",
          "output_type": "stream",
          "text": [
            "\n",
            "Epoch valid finished. Calculating final metrics...\n",
            "--- IDH1 ---\n",
            "  Macro F1: 0.3333\n",
            "  Accuracy: 0.5000\n",
            "  Targets: [12 12]\n",
            "  Preds:   [ 0 24]\n",
            "--------------------\n",
            "--- MGMT ---\n",
            "  Macro F1: 0.4286\n",
            "  Accuracy: 0.7500\n",
            "  Targets: [18  6]\n",
            "  Preds:   [24]\n",
            "--------------------\n",
            "--- 1p/19q ---\n",
            "  Macro F1: 0.1724\n",
            "  Accuracy: 0.2083\n",
            "  Targets: [19  5]\n",
            "  Preds:   [ 0 24]\n",
            "--------------------\n",
            "--- grade ---\n",
            "  Macro F1: 0.1505\n",
            "  Accuracy: 0.2917\n",
            "  Targets: [ 3  7 14]\n",
            "  Preds:   [ 0 24]\n",
            "--------------------\n",
            "Epoch 8: train_loss=3.4650, val_loss=3.1774, LR=0.000300\n",
            "Train Macro F1: {'IDH1_macro_f1': '0.4755', 'MGMT_macro_f1': '0.5052', '1p/19q_macro_f1': '0.2964', 'grade_macro_f1': '0.2330'}\n",
            "Val Macro F1: {'IDH1_macro_f1': '0.3333', 'MGMT_macro_f1': '0.4286', '1p/19q_macro_f1': '0.1724', 'grade_macro_f1': '0.1505'}\n",
            "\n",
            "--- Fold 3 | Epoch 9/30 ---\n"
          ]
        },
        {
          "data": {
            "application/vnd.jupyter.widget-view+json": {
              "model_id": "d6476046c35a4b0aacc19985acf53f82",
              "version_major": 2,
              "version_minor": 0
            },
            "text/plain": [
              "train:   0%|          | 0/192 [00:00<?, ?it/s]"
            ]
          },
          "metadata": {},
          "output_type": "display_data"
        },
        {
          "name": "stdout",
          "output_type": "stream",
          "text": [
            "\n",
            "Epoch train finished. Calculating final metrics...\n",
            "--- IDH1 ---\n",
            "  Macro F1: 0.3510\n",
            "  Accuracy: 0.5000\n",
            "  Targets: [96 96]\n",
            "  Preds:   [  4 188]\n",
            "--------------------\n",
            "--- MGMT ---\n",
            "  Macro F1: 0.4741\n",
            "  Accuracy: 0.5677\n",
            "  Targets: [111  81]\n",
            "  Preds:   [162  30]\n",
            "--------------------\n",
            "--- 1p/19q ---\n",
            "  Macro F1: 0.2435\n",
            "  Accuracy: 0.3125\n",
            "  Targets: [133  59]\n",
            "  Preds:   [  1 191]\n",
            "--------------------\n",
            "--- grade ---\n",
            "  Macro F1: 0.1788\n",
            "  Accuracy: 0.3646\n",
            "  Targets: [26 71 95]\n",
            "  Preds:   [  2 190]\n",
            "--------------------\n"
          ]
        },
        {
          "data": {
            "application/vnd.jupyter.widget-view+json": {
              "model_id": "be4c571d72984c059fbe6c7c28077377",
              "version_major": 2,
              "version_minor": 0
            },
            "text/plain": [
              "valid:   0%|          | 0/24 [00:00<?, ?it/s]"
            ]
          },
          "metadata": {},
          "output_type": "display_data"
        },
        {
          "name": "stdout",
          "output_type": "stream",
          "text": [
            "\n",
            "Epoch valid finished. Calculating final metrics...\n",
            "--- IDH1 ---\n",
            "  Macro F1: 0.3333\n",
            "  Accuracy: 0.5000\n",
            "  Targets: [12 12]\n",
            "  Preds:   [ 0 24]\n",
            "--------------------\n",
            "--- MGMT ---\n",
            "  Macro F1: 0.4286\n",
            "  Accuracy: 0.7500\n",
            "  Targets: [18  6]\n",
            "  Preds:   [24]\n",
            "--------------------\n",
            "--- 1p/19q ---\n",
            "  Macro F1: 0.1724\n",
            "  Accuracy: 0.2083\n",
            "  Targets: [19  5]\n",
            "  Preds:   [ 0 24]\n",
            "--------------------\n",
            "--- grade ---\n",
            "  Macro F1: 0.1505\n",
            "  Accuracy: 0.2917\n",
            "  Targets: [ 3  7 14]\n",
            "  Preds:   [ 0 24]\n",
            "--------------------\n",
            "Epoch 9: train_loss=3.3483, val_loss=3.1696, LR=0.000300\n",
            "Train Macro F1: {'IDH1_macro_f1': '0.3510', 'MGMT_macro_f1': '0.4741', '1p/19q_macro_f1': '0.2435', 'grade_macro_f1': '0.1788'}\n",
            "Val Macro F1: {'IDH1_macro_f1': '0.3333', 'MGMT_macro_f1': '0.4286', '1p/19q_macro_f1': '0.1724', 'grade_macro_f1': '0.1505'}\n",
            "\n",
            "--- Fold 3 | Epoch 10/30 ---\n"
          ]
        },
        {
          "data": {
            "application/vnd.jupyter.widget-view+json": {
              "model_id": "82bf77ec26e34d98a85bab71d4ee8850",
              "version_major": 2,
              "version_minor": 0
            },
            "text/plain": [
              "train:   0%|          | 0/192 [00:00<?, ?it/s]"
            ]
          },
          "metadata": {},
          "output_type": "display_data"
        },
        {
          "name": "stdout",
          "output_type": "stream",
          "text": [
            "\n",
            "Epoch train finished. Calculating final metrics...\n",
            "--- IDH1 ---\n",
            "  Macro F1: 0.4998\n",
            "  Accuracy: 0.5625\n",
            "  Targets: [ 92 100]\n",
            "  Preds:   [ 32 160]\n",
            "--------------------\n",
            "--- MGMT ---\n",
            "  Macro F1: 0.4569\n",
            "  Accuracy: 0.4583\n",
            "  Targets: [94 98]\n",
            "  Preds:   [ 88 104]\n",
            "--------------------\n",
            "--- 1p/19q ---\n",
            "  Macro F1: 0.2581\n",
            "  Accuracy: 0.3281\n",
            "  Targets: [129  63]\n",
            "  Preds:   [  4 188]\n",
            "--------------------\n",
            "--- grade ---\n",
            "  Macro F1: 0.1673\n",
            "  Accuracy: 0.3229\n",
            "  Targets: [ 19  62 111]\n",
            "  Preds:   [  0 190   2]\n",
            "--------------------\n"
          ]
        },
        {
          "data": {
            "application/vnd.jupyter.widget-view+json": {
              "model_id": "3542647b26d14bc580cc93c6f30d9e93",
              "version_major": 2,
              "version_minor": 0
            },
            "text/plain": [
              "valid:   0%|          | 0/24 [00:00<?, ?it/s]"
            ]
          },
          "metadata": {},
          "output_type": "display_data"
        },
        {
          "name": "stdout",
          "output_type": "stream",
          "text": [
            "\n",
            "Epoch valid finished. Calculating final metrics...\n",
            "--- IDH1 ---\n",
            "  Macro F1: 0.3333\n",
            "  Accuracy: 0.5000\n",
            "  Targets: [12 12]\n",
            "  Preds:   [ 0 24]\n",
            "--------------------\n",
            "--- MGMT ---\n",
            "  Macro F1: 0.2000\n",
            "  Accuracy: 0.2500\n",
            "  Targets: [18  6]\n",
            "  Preds:   [ 0 24]\n",
            "--------------------\n",
            "--- 1p/19q ---\n",
            "  Macro F1: 0.1724\n",
            "  Accuracy: 0.2083\n",
            "  Targets: [19  5]\n",
            "  Preds:   [ 0 24]\n",
            "--------------------\n",
            "--- grade ---\n",
            "  Macro F1: 0.1505\n",
            "  Accuracy: 0.2917\n",
            "  Targets: [ 3  7 14]\n",
            "  Preds:   [ 0 24]\n",
            "--------------------\n",
            "Epoch 10: train_loss=2.9860, val_loss=3.1208, LR=0.000300\n",
            "Train Macro F1: {'IDH1_macro_f1': '0.4998', 'MGMT_macro_f1': '0.4569', '1p/19q_macro_f1': '0.2581', 'grade_macro_f1': '0.1673'}\n",
            "Val Macro F1: {'IDH1_macro_f1': '0.3333', 'MGMT_macro_f1': '0.2000', '1p/19q_macro_f1': '0.1724', 'grade_macro_f1': '0.1505'}\n",
            "\n",
            "--- Fold 3 | Epoch 11/30 ---\n"
          ]
        },
        {
          "data": {
            "application/vnd.jupyter.widget-view+json": {
              "model_id": "30de0c81a2de4fd999f97f8db137c090",
              "version_major": 2,
              "version_minor": 0
            },
            "text/plain": [
              "train:   0%|          | 0/192 [00:00<?, ?it/s]"
            ]
          },
          "metadata": {},
          "output_type": "display_data"
        },
        {
          "name": "stdout",
          "output_type": "stream",
          "text": [
            "\n",
            "Epoch train finished. Calculating final metrics...\n",
            "--- IDH1 ---\n",
            "  Macro F1: 0.3636\n",
            "  Accuracy: 0.5260\n",
            "  Targets: [ 90 102]\n",
            "  Preds:   [  5 187]\n",
            "--------------------\n",
            "--- MGMT ---\n",
            "  Macro F1: 0.3310\n",
            "  Accuracy: 0.4948\n",
            "  Targets: [96 96]\n",
            "  Preds:   [  1 191]\n",
            "--------------------\n",
            "--- 1p/19q ---\n",
            "  Macro F1: 0.2529\n",
            "  Accuracy: 0.3385\n",
            "  Targets: [127  65]\n",
            "  Preds:   [  0 192]\n",
            "--------------------\n",
            "--- grade ---\n",
            "  Macro F1: 0.1914\n",
            "  Accuracy: 0.3281\n",
            "  Targets: [34 69 89]\n",
            "  Preds:   [  0 171  21]\n",
            "--------------------\n"
          ]
        },
        {
          "data": {
            "application/vnd.jupyter.widget-view+json": {
              "model_id": "ff96e2c3c54142d89806bcd0e63d5999",
              "version_major": 2,
              "version_minor": 0
            },
            "text/plain": [
              "valid:   0%|          | 0/24 [00:00<?, ?it/s]"
            ]
          },
          "metadata": {},
          "output_type": "display_data"
        },
        {
          "name": "stdout",
          "output_type": "stream",
          "text": [
            "\n",
            "Epoch valid finished. Calculating final metrics...\n",
            "--- IDH1 ---\n",
            "  Macro F1: 0.3333\n",
            "  Accuracy: 0.5000\n",
            "  Targets: [12 12]\n",
            "  Preds:   [ 0 24]\n",
            "--------------------\n",
            "--- MGMT ---\n",
            "  Macro F1: 0.2000\n",
            "  Accuracy: 0.2500\n",
            "  Targets: [18  6]\n",
            "  Preds:   [ 0 24]\n",
            "--------------------\n",
            "--- 1p/19q ---\n",
            "  Macro F1: 0.1724\n",
            "  Accuracy: 0.2083\n",
            "  Targets: [19  5]\n",
            "  Preds:   [ 0 24]\n",
            "--------------------\n",
            "--- grade ---\n",
            "  Macro F1: 0.1505\n",
            "  Accuracy: 0.2917\n",
            "  Targets: [ 3  7 14]\n",
            "  Preds:   [ 0 24]\n",
            "--------------------\n",
            "Epoch 11: train_loss=3.6771, val_loss=3.1223, LR=0.000300\n",
            "Train Macro F1: {'IDH1_macro_f1': '0.3636', 'MGMT_macro_f1': '0.3310', '1p/19q_macro_f1': '0.2529', 'grade_macro_f1': '0.1914'}\n",
            "Val Macro F1: {'IDH1_macro_f1': '0.3333', 'MGMT_macro_f1': '0.2000', '1p/19q_macro_f1': '0.1724', 'grade_macro_f1': '0.1505'}\n",
            "\n",
            "--- Fold 3 | Epoch 12/30 ---\n"
          ]
        },
        {
          "data": {
            "application/vnd.jupyter.widget-view+json": {
              "model_id": "9b8e822e77c247c183e7dc3fccde43a9",
              "version_major": 2,
              "version_minor": 0
            },
            "text/plain": [
              "train:   0%|          | 0/192 [00:00<?, ?it/s]"
            ]
          },
          "metadata": {},
          "output_type": "display_data"
        },
        {
          "name": "stdout",
          "output_type": "stream",
          "text": [
            "\n",
            "Epoch train finished. Calculating final metrics...\n",
            "--- IDH1 ---\n",
            "  Macro F1: 0.3354\n",
            "  Accuracy: 0.4688\n",
            "  Targets: [101  91]\n",
            "  Preds:   [  5 187]\n",
            "--------------------\n",
            "--- MGMT ---\n",
            "  Macro F1: 0.3941\n",
            "  Accuracy: 0.4635\n",
            "  Targets: [102  90]\n",
            "  Preds:   [ 25 167]\n",
            "--------------------\n",
            "--- 1p/19q ---\n",
            "  Macro F1: 0.2099\n",
            "  Accuracy: 0.2656\n",
            "  Targets: [140  52]\n",
            "  Preds:   [  1 191]\n",
            "--------------------\n",
            "--- grade ---\n",
            "  Macro F1: 0.2532\n",
            "  Accuracy: 0.3229\n",
            "  Targets: [28 65 99]\n",
            "  Preds:   [ 28 148  16]\n",
            "--------------------\n"
          ]
        },
        {
          "data": {
            "application/vnd.jupyter.widget-view+json": {
              "model_id": "63395160c1aa48578eda17b3b95ebdc7",
              "version_major": 2,
              "version_minor": 0
            },
            "text/plain": [
              "valid:   0%|          | 0/24 [00:00<?, ?it/s]"
            ]
          },
          "metadata": {},
          "output_type": "display_data"
        },
        {
          "name": "stdout",
          "output_type": "stream",
          "text": [
            "\n",
            "Epoch valid finished. Calculating final metrics...\n",
            "--- IDH1 ---\n",
            "  Macro F1: 0.3333\n",
            "  Accuracy: 0.5000\n",
            "  Targets: [12 12]\n",
            "  Preds:   [ 0 24]\n",
            "--------------------\n",
            "--- MGMT ---\n",
            "  Macro F1: 0.2000\n",
            "  Accuracy: 0.2500\n",
            "  Targets: [18  6]\n",
            "  Preds:   [ 0 24]\n",
            "--------------------\n",
            "--- 1p/19q ---\n",
            "  Macro F1: 0.1724\n",
            "  Accuracy: 0.2083\n",
            "  Targets: [19  5]\n",
            "  Preds:   [ 0 24]\n",
            "--------------------\n",
            "--- grade ---\n",
            "  Macro F1: 0.1505\n",
            "  Accuracy: 0.2917\n",
            "  Targets: [ 3  7 14]\n",
            "  Preds:   [ 0 24]\n",
            "--------------------\n",
            "Epoch 12: train_loss=3.3614, val_loss=3.1127, LR=0.000150\n",
            "Train Macro F1: {'IDH1_macro_f1': '0.3354', 'MGMT_macro_f1': '0.3941', '1p/19q_macro_f1': '0.2099', 'grade_macro_f1': '0.2532'}\n",
            "Val Macro F1: {'IDH1_macro_f1': '0.3333', 'MGMT_macro_f1': '0.2000', '1p/19q_macro_f1': '0.1724', 'grade_macro_f1': '0.1505'}\n",
            "\n",
            "--- Fold 3 | Epoch 13/30 ---\n"
          ]
        },
        {
          "data": {
            "application/vnd.jupyter.widget-view+json": {
              "model_id": "3e906a3e5ac04b969ffb47af98b03e54",
              "version_major": 2,
              "version_minor": 0
            },
            "text/plain": [
              "train:   0%|          | 0/192 [00:00<?, ?it/s]"
            ]
          },
          "metadata": {},
          "output_type": "display_data"
        },
        {
          "name": "stdout",
          "output_type": "stream",
          "text": [
            "\n",
            "Epoch train finished. Calculating final metrics...\n",
            "--- IDH1 ---\n",
            "  Macro F1: 0.4636\n",
            "  Accuracy: 0.5000\n",
            "  Targets: [103  89]\n",
            "  Preds:   [ 39 153]\n",
            "--------------------\n",
            "--- MGMT ---\n",
            "  Macro F1: 0.4728\n",
            "  Accuracy: 0.4740\n",
            "  Targets: [102  90]\n",
            "  Preds:   [ 81 111]\n",
            "--------------------\n",
            "--- 1p/19q ---\n",
            "  Macro F1: 0.2925\n",
            "  Accuracy: 0.3385\n",
            "  Targets: [130  62]\n",
            "  Preds:   [ 13 179]\n",
            "--------------------\n",
            "--- grade ---\n",
            "  Macro F1: 0.3428\n",
            "  Accuracy: 0.3698\n",
            "  Targets: [32 66 94]\n",
            "  Preds:   [76 99 17]\n",
            "--------------------\n"
          ]
        },
        {
          "data": {
            "application/vnd.jupyter.widget-view+json": {
              "model_id": "2ee324e04cea4913a9b1e2004c9c94bb",
              "version_major": 2,
              "version_minor": 0
            },
            "text/plain": [
              "valid:   0%|          | 0/24 [00:00<?, ?it/s]"
            ]
          },
          "metadata": {},
          "output_type": "display_data"
        },
        {
          "name": "stdout",
          "output_type": "stream",
          "text": [
            "\n",
            "Epoch valid finished. Calculating final metrics...\n",
            "--- IDH1 ---\n",
            "  Macro F1: 0.3333\n",
            "  Accuracy: 0.5000\n",
            "  Targets: [12 12]\n",
            "  Preds:   [ 0 24]\n",
            "--------------------\n",
            "--- MGMT ---\n",
            "  Macro F1: 0.2000\n",
            "  Accuracy: 0.2500\n",
            "  Targets: [18  6]\n",
            "  Preds:   [ 0 24]\n",
            "--------------------\n",
            "--- 1p/19q ---\n",
            "  Macro F1: 0.1724\n",
            "  Accuracy: 0.2083\n",
            "  Targets: [19  5]\n",
            "  Preds:   [ 0 24]\n",
            "--------------------\n",
            "--- grade ---\n",
            "  Macro F1: 0.1204\n",
            "  Accuracy: 0.1250\n",
            "  Targets: [ 3  7 14]\n",
            "  Preds:   [13 11]\n",
            "--------------------\n",
            "Epoch 13: train_loss=3.4914, val_loss=3.1262, LR=0.000150\n",
            "Train Macro F1: {'IDH1_macro_f1': '0.4636', 'MGMT_macro_f1': '0.4728', '1p/19q_macro_f1': '0.2925', 'grade_macro_f1': '0.3428'}\n",
            "Val Macro F1: {'IDH1_macro_f1': '0.3333', 'MGMT_macro_f1': '0.2000', '1p/19q_macro_f1': '0.1724', 'grade_macro_f1': '0.1204'}\n",
            "\n",
            "--- Fold 3 | Epoch 14/30 ---\n"
          ]
        },
        {
          "data": {
            "application/vnd.jupyter.widget-view+json": {
              "model_id": "0d6a22081dee4da18a0583cd874b94a0",
              "version_major": 2,
              "version_minor": 0
            },
            "text/plain": [
              "train:   0%|          | 0/192 [00:00<?, ?it/s]"
            ]
          },
          "metadata": {},
          "output_type": "display_data"
        },
        {
          "name": "stdout",
          "output_type": "stream",
          "text": [
            "\n",
            "Epoch train finished. Calculating final metrics...\n",
            "--- IDH1 ---\n",
            "  Macro F1: 0.4833\n",
            "  Accuracy: 0.5104\n",
            "  Targets: [99 93]\n",
            "  Preds:   [ 49 143]\n",
            "--------------------\n",
            "--- MGMT ---\n",
            "  Macro F1: 0.4806\n",
            "  Accuracy: 0.5104\n",
            "  Targets: [95 97]\n",
            "  Preds:   [ 51 141]\n",
            "--------------------\n",
            "--- 1p/19q ---\n",
            "  Macro F1: 0.2256\n",
            "  Accuracy: 0.2760\n",
            "  Targets: [141  51]\n",
            "  Preds:   [  2 190]\n",
            "--------------------\n",
            "--- grade ---\n",
            "  Macro F1: 0.1695\n",
            "  Accuracy: 0.1875\n",
            "  Targets: [ 29  59 104]\n",
            "  Preds:   [153  39]\n",
            "--------------------\n"
          ]
        },
        {
          "data": {
            "application/vnd.jupyter.widget-view+json": {
              "model_id": "52d27d81787a4d53ade439d3bd3620b3",
              "version_major": 2,
              "version_minor": 0
            },
            "text/plain": [
              "valid:   0%|          | 0/24 [00:00<?, ?it/s]"
            ]
          },
          "metadata": {},
          "output_type": "display_data"
        },
        {
          "name": "stdout",
          "output_type": "stream",
          "text": [
            "\n",
            "Epoch valid finished. Calculating final metrics...\n",
            "--- IDH1 ---\n",
            "  Macro F1: 0.3333\n",
            "  Accuracy: 0.5000\n",
            "  Targets: [12 12]\n",
            "  Preds:   [ 0 24]\n",
            "--------------------\n",
            "--- MGMT ---\n",
            "  Macro F1: 0.2000\n",
            "  Accuracy: 0.2500\n",
            "  Targets: [18  6]\n",
            "  Preds:   [ 0 24]\n",
            "--------------------\n",
            "--- 1p/19q ---\n",
            "  Macro F1: 0.1724\n",
            "  Accuracy: 0.2083\n",
            "  Targets: [19  5]\n",
            "  Preds:   [ 0 24]\n",
            "--------------------\n",
            "--- grade ---\n",
            "  Macro F1: 0.0741\n",
            "  Accuracy: 0.1250\n",
            "  Targets: [ 3  7 14]\n",
            "  Preds:   [24]\n",
            "--------------------\n",
            "Epoch 14: train_loss=3.3379, val_loss=3.1276, LR=0.000150\n",
            "Train Macro F1: {'IDH1_macro_f1': '0.4833', 'MGMT_macro_f1': '0.4806', '1p/19q_macro_f1': '0.2256', 'grade_macro_f1': '0.1695'}\n",
            "Val Macro F1: {'IDH1_macro_f1': '0.3333', 'MGMT_macro_f1': '0.2000', '1p/19q_macro_f1': '0.1724', 'grade_macro_f1': '0.0741'}\n",
            "\n",
            "--- Fold 3 | Epoch 15/30 ---\n"
          ]
        },
        {
          "data": {
            "application/vnd.jupyter.widget-view+json": {
              "model_id": "a905c795a62d473aa50cadca717536bb",
              "version_major": 2,
              "version_minor": 0
            },
            "text/plain": [
              "train:   0%|          | 0/192 [00:00<?, ?it/s]"
            ]
          },
          "metadata": {},
          "output_type": "display_data"
        },
        {
          "name": "stdout",
          "output_type": "stream",
          "text": [
            "\n",
            "Epoch train finished. Calculating final metrics...\n",
            "--- IDH1 ---\n",
            "  Macro F1: 0.5073\n",
            "  Accuracy: 0.5156\n",
            "  Targets: [101  91]\n",
            "  Preds:   [ 66 126]\n",
            "--------------------\n",
            "--- MGMT ---\n",
            "  Macro F1: 0.3980\n",
            "  Accuracy: 0.4948\n",
            "  Targets: [98 94]\n",
            "  Preds:   [ 17 175]\n",
            "--------------------\n",
            "--- 1p/19q ---\n",
            "  Macro F1: 0.2351\n",
            "  Accuracy: 0.3073\n",
            "  Targets: [133  59]\n",
            "  Preds:   [  0 192]\n",
            "--------------------\n",
            "--- grade ---\n",
            "  Macro F1: 0.2530\n",
            "  Accuracy: 0.3021\n",
            "  Targets: [ 26  62 104]\n",
            "  Preds:   [ 41 135  16]\n",
            "--------------------\n"
          ]
        },
        {
          "data": {
            "application/vnd.jupyter.widget-view+json": {
              "model_id": "be940963a6fc49c690071af764036f00",
              "version_major": 2,
              "version_minor": 0
            },
            "text/plain": [
              "valid:   0%|          | 0/24 [00:00<?, ?it/s]"
            ]
          },
          "metadata": {},
          "output_type": "display_data"
        },
        {
          "name": "stdout",
          "output_type": "stream",
          "text": [
            "\n",
            "Epoch valid finished. Calculating final metrics...\n",
            "--- IDH1 ---\n",
            "  Macro F1: 0.3333\n",
            "  Accuracy: 0.5000\n",
            "  Targets: [12 12]\n",
            "  Preds:   [ 0 24]\n",
            "--------------------\n",
            "--- MGMT ---\n",
            "  Macro F1: 0.2000\n",
            "  Accuracy: 0.2500\n",
            "  Targets: [18  6]\n",
            "  Preds:   [ 0 24]\n",
            "--------------------\n",
            "--- 1p/19q ---\n",
            "  Macro F1: 0.1724\n",
            "  Accuracy: 0.2083\n",
            "  Targets: [19  5]\n",
            "  Preds:   [ 0 24]\n",
            "--------------------\n",
            "--- grade ---\n",
            "  Macro F1: 0.1505\n",
            "  Accuracy: 0.2917\n",
            "  Targets: [ 3  7 14]\n",
            "  Preds:   [ 0 24]\n",
            "--------------------\n",
            "Epoch 15: train_loss=3.2563, val_loss=3.1121, LR=0.000150\n",
            "Train Macro F1: {'IDH1_macro_f1': '0.5073', 'MGMT_macro_f1': '0.3980', '1p/19q_macro_f1': '0.2351', 'grade_macro_f1': '0.2530'}\n",
            "Val Macro F1: {'IDH1_macro_f1': '0.3333', 'MGMT_macro_f1': '0.2000', '1p/19q_macro_f1': '0.1724', 'grade_macro_f1': '0.1505'}\n",
            "\n",
            "--- Fold 3 | Epoch 16/30 ---\n"
          ]
        },
        {
          "data": {
            "application/vnd.jupyter.widget-view+json": {
              "model_id": "63610dbaf84a422ea846ddbede351945",
              "version_major": 2,
              "version_minor": 0
            },
            "text/plain": [
              "train:   0%|          | 0/192 [00:00<?, ?it/s]"
            ]
          },
          "metadata": {},
          "output_type": "display_data"
        },
        {
          "name": "stdout",
          "output_type": "stream",
          "text": [
            "\n",
            "Epoch train finished. Calculating final metrics...\n",
            "--- IDH1 ---\n",
            "  Macro F1: 0.4155\n",
            "  Accuracy: 0.4583\n",
            "  Targets: [104  88]\n",
            "  Preds:   [ 36 156]\n",
            "--------------------\n",
            "--- MGMT ---\n",
            "  Macro F1: 0.3350\n",
            "  Accuracy: 0.4844\n",
            "  Targets: [99 93]\n",
            "  Preds:   [  2 190]\n",
            "--------------------\n",
            "--- 1p/19q ---\n",
            "  Macro F1: 0.2377\n",
            "  Accuracy: 0.2708\n",
            "  Targets: [144  48]\n",
            "  Preds:   [  8 184]\n",
            "--------------------\n",
            "--- grade ---\n",
            "  Macro F1: 0.2807\n",
            "  Accuracy: 0.3958\n",
            "  Targets: [ 26  59 107]\n",
            "  Preds:   [  0 139  53]\n",
            "--------------------\n"
          ]
        },
        {
          "data": {
            "application/vnd.jupyter.widget-view+json": {
              "model_id": "92b8bf723e314bc5bfa7140a2b822fb8",
              "version_major": 2,
              "version_minor": 0
            },
            "text/plain": [
              "valid:   0%|          | 0/24 [00:00<?, ?it/s]"
            ]
          },
          "metadata": {},
          "output_type": "display_data"
        },
        {
          "name": "stdout",
          "output_type": "stream",
          "text": [
            "\n",
            "Epoch valid finished. Calculating final metrics...\n",
            "--- IDH1 ---\n",
            "  Macro F1: 0.3333\n",
            "  Accuracy: 0.5000\n",
            "  Targets: [12 12]\n",
            "  Preds:   [ 0 24]\n",
            "--------------------\n",
            "--- MGMT ---\n",
            "  Macro F1: 0.2000\n",
            "  Accuracy: 0.2500\n",
            "  Targets: [18  6]\n",
            "  Preds:   [ 0 24]\n",
            "--------------------\n",
            "--- 1p/19q ---\n",
            "  Macro F1: 0.1724\n",
            "  Accuracy: 0.2083\n",
            "  Targets: [19  5]\n",
            "  Preds:   [ 0 24]\n",
            "--------------------\n",
            "--- grade ---\n",
            "  Macro F1: 0.2000\n",
            "  Accuracy: 0.3333\n",
            "  Targets: [ 3  7 14]\n",
            "  Preds:   [ 0 23  1]\n",
            "--------------------\n",
            "Epoch 16: train_loss=3.2318, val_loss=3.1053, LR=0.000075\n",
            "Train Macro F1: {'IDH1_macro_f1': '0.4155', 'MGMT_macro_f1': '0.3350', '1p/19q_macro_f1': '0.2377', 'grade_macro_f1': '0.2807'}\n",
            "Val Macro F1: {'IDH1_macro_f1': '0.3333', 'MGMT_macro_f1': '0.2000', '1p/19q_macro_f1': '0.1724', 'grade_macro_f1': '0.2000'}\n",
            "\n",
            "--- Fold 3 | Epoch 17/30 ---\n"
          ]
        },
        {
          "data": {
            "application/vnd.jupyter.widget-view+json": {
              "model_id": "6c25ebb3dce2406fa938d3319497ef05",
              "version_major": 2,
              "version_minor": 0
            },
            "text/plain": [
              "train:   0%|          | 0/192 [00:00<?, ?it/s]"
            ]
          },
          "metadata": {},
          "output_type": "display_data"
        },
        {
          "name": "stdout",
          "output_type": "stream",
          "text": [
            "\n",
            "Epoch train finished. Calculating final metrics...\n",
            "--- IDH1 ---\n",
            "  Macro F1: 0.4764\n",
            "  Accuracy: 0.4792\n",
            "  Targets: [103  89]\n",
            "  Preds:   [ 75 117]\n",
            "--------------------\n",
            "--- MGMT ---\n",
            "  Macro F1: 0.3586\n",
            "  Accuracy: 0.5156\n",
            "  Targets: [ 90 102]\n",
            "  Preds:   [  7 185]\n",
            "--------------------\n",
            "--- 1p/19q ---\n",
            "  Macro F1: 0.2883\n",
            "  Accuracy: 0.3385\n",
            "  Targets: [130  62]\n",
            "  Preds:   [ 11 181]\n",
            "--------------------\n",
            "--- grade ---\n",
            "  Macro F1: 0.3850\n",
            "  Accuracy: 0.4115\n",
            "  Targets: [ 30  57 105]\n",
            "  Preds:   [32 97 63]\n",
            "--------------------\n"
          ]
        },
        {
          "data": {
            "application/vnd.jupyter.widget-view+json": {
              "model_id": "ec484e912d244f9bacdbe6d3584efaa3",
              "version_major": 2,
              "version_minor": 0
            },
            "text/plain": [
              "valid:   0%|          | 0/24 [00:00<?, ?it/s]"
            ]
          },
          "metadata": {},
          "output_type": "display_data"
        },
        {
          "name": "stdout",
          "output_type": "stream",
          "text": [
            "\n",
            "Epoch valid finished. Calculating final metrics...\n",
            "--- IDH1 ---\n",
            "  Macro F1: 0.4667\n",
            "  Accuracy: 0.5000\n",
            "  Targets: [12 12]\n",
            "  Preds:   [ 6 18]\n",
            "--------------------\n",
            "--- MGMT ---\n",
            "  Macro F1: 0.2000\n",
            "  Accuracy: 0.2500\n",
            "  Targets: [18  6]\n",
            "  Preds:   [ 0 24]\n",
            "--------------------\n",
            "--- 1p/19q ---\n",
            "  Macro F1: 0.1724\n",
            "  Accuracy: 0.2083\n",
            "  Targets: [19  5]\n",
            "  Preds:   [ 0 24]\n",
            "--------------------\n",
            "--- grade ---\n",
            "  Macro F1: 0.2391\n",
            "  Accuracy: 0.2917\n",
            "  Targets: [ 3  7 14]\n",
            "  Preds:   [19  1  4]\n",
            "--------------------\n",
            "Epoch 17: train_loss=3.3277, val_loss=3.1114, LR=0.000075\n",
            "Train Macro F1: {'IDH1_macro_f1': '0.4764', 'MGMT_macro_f1': '0.3586', '1p/19q_macro_f1': '0.2883', 'grade_macro_f1': '0.3850'}\n",
            "Val Macro F1: {'IDH1_macro_f1': '0.4667', 'MGMT_macro_f1': '0.2000', '1p/19q_macro_f1': '0.1724', 'grade_macro_f1': '0.2391'}\n",
            "\n",
            "--- Fold 3 | Epoch 18/30 ---\n"
          ]
        },
        {
          "data": {
            "application/vnd.jupyter.widget-view+json": {
              "model_id": "9c4691b16e794832be46a759dd743569",
              "version_major": 2,
              "version_minor": 0
            },
            "text/plain": [
              "train:   0%|          | 0/192 [00:00<?, ?it/s]"
            ]
          },
          "metadata": {},
          "output_type": "display_data"
        },
        {
          "name": "stdout",
          "output_type": "stream",
          "text": [
            "\n",
            "Epoch train finished. Calculating final metrics...\n",
            "--- IDH1 ---\n",
            "  Macro F1: 0.4778\n",
            "  Accuracy: 0.5104\n",
            "  Targets: [94 98]\n",
            "  Preds:   [ 50 142]\n",
            "--------------------\n",
            "--- MGMT ---\n",
            "  Macro F1: 0.3561\n",
            "  Accuracy: 0.5104\n",
            "  Targets: [ 92 100]\n",
            "  Preds:   [  6 186]\n",
            "--------------------\n",
            "--- 1p/19q ---\n",
            "  Macro F1: 0.2163\n",
            "  Accuracy: 0.2760\n",
            "  Targets: [135  57]\n",
            "  Preds:   [  4 188]\n",
            "--------------------\n",
            "--- grade ---\n",
            "  Macro F1: 0.2752\n",
            "  Accuracy: 0.2812\n",
            "  Targets: [29 69 94]\n",
            "  Preds:   [123  56  13]\n",
            "--------------------\n"
          ]
        },
        {
          "data": {
            "application/vnd.jupyter.widget-view+json": {
              "model_id": "a4fc481b7439499f83144a7d791361be",
              "version_major": 2,
              "version_minor": 0
            },
            "text/plain": [
              "valid:   0%|          | 0/24 [00:00<?, ?it/s]"
            ]
          },
          "metadata": {},
          "output_type": "display_data"
        },
        {
          "name": "stdout",
          "output_type": "stream",
          "text": [
            "\n",
            "Epoch valid finished. Calculating final metrics...\n",
            "--- IDH1 ---\n",
            "  Macro F1: 0.3333\n",
            "  Accuracy: 0.5000\n",
            "  Targets: [12 12]\n",
            "  Preds:   [ 0 24]\n",
            "--------------------\n",
            "--- MGMT ---\n",
            "  Macro F1: 0.2000\n",
            "  Accuracy: 0.2500\n",
            "  Targets: [18  6]\n",
            "  Preds:   [ 0 24]\n",
            "--------------------\n",
            "--- 1p/19q ---\n",
            "  Macro F1: 0.1724\n",
            "  Accuracy: 0.2083\n",
            "  Targets: [19  5]\n",
            "  Preds:   [ 0 24]\n",
            "--------------------\n",
            "--- grade ---\n",
            "  Macro F1: 0.1176\n",
            "  Accuracy: 0.1250\n",
            "  Targets: [ 3  7 14]\n",
            "  Preds:   [14 10]\n",
            "--------------------\n",
            "Epoch 18: train_loss=3.4015, val_loss=3.1303, LR=0.000075\n",
            "Train Macro F1: {'IDH1_macro_f1': '0.4778', 'MGMT_macro_f1': '0.3561', '1p/19q_macro_f1': '0.2163', 'grade_macro_f1': '0.2752'}\n",
            "Val Macro F1: {'IDH1_macro_f1': '0.3333', 'MGMT_macro_f1': '0.2000', '1p/19q_macro_f1': '0.1724', 'grade_macro_f1': '0.1176'}\n",
            "\n",
            "--- Fold 3 | Epoch 19/30 ---\n"
          ]
        },
        {
          "data": {
            "application/vnd.jupyter.widget-view+json": {
              "model_id": "0f5906578f114e27ab26d4e39a0a7eb9",
              "version_major": 2,
              "version_minor": 0
            },
            "text/plain": [
              "train:   0%|          | 0/192 [00:00<?, ?it/s]"
            ]
          },
          "metadata": {},
          "output_type": "display_data"
        },
        {
          "name": "stdout",
          "output_type": "stream",
          "text": [
            "\n",
            "Epoch train finished. Calculating final metrics...\n",
            "--- IDH1 ---\n",
            "  Macro F1: 0.3972\n",
            "  Accuracy: 0.4844\n",
            "  Targets: [97 95]\n",
            "  Preds:   [ 22 170]\n",
            "--------------------\n",
            "--- MGMT ---\n",
            "  Macro F1: 0.3330\n",
            "  Accuracy: 0.4375\n",
            "  Targets: [109  83]\n",
            "  Preds:   [  7 185]\n",
            "--------------------\n",
            "--- 1p/19q ---\n",
            "  Macro F1: 0.2435\n",
            "  Accuracy: 0.3125\n",
            "  Targets: [133  59]\n",
            "  Preds:   [  1 191]\n",
            "--------------------\n",
            "--- grade ---\n",
            "  Macro F1: 0.3327\n",
            "  Accuracy: 0.3490\n",
            "  Targets: [29 64 99]\n",
            "  Preds:   [81 99 12]\n",
            "--------------------\n"
          ]
        },
        {
          "data": {
            "application/vnd.jupyter.widget-view+json": {
              "model_id": "1ac35601582549239ac0b89bfcb86f68",
              "version_major": 2,
              "version_minor": 0
            },
            "text/plain": [
              "valid:   0%|          | 0/24 [00:00<?, ?it/s]"
            ]
          },
          "metadata": {},
          "output_type": "display_data"
        },
        {
          "name": "stdout",
          "output_type": "stream",
          "text": [
            "\n",
            "Epoch valid finished. Calculating final metrics...\n",
            "--- IDH1 ---\n",
            "  Macro F1: 0.3333\n",
            "  Accuracy: 0.5000\n",
            "  Targets: [12 12]\n",
            "  Preds:   [ 0 24]\n",
            "--------------------\n",
            "--- MGMT ---\n",
            "  Macro F1: 0.2000\n",
            "  Accuracy: 0.2500\n",
            "  Targets: [18  6]\n",
            "  Preds:   [ 0 24]\n",
            "--------------------\n",
            "--- 1p/19q ---\n",
            "  Macro F1: 0.1724\n",
            "  Accuracy: 0.2083\n",
            "  Targets: [19  5]\n",
            "  Preds:   [ 0 24]\n",
            "--------------------\n",
            "--- grade ---\n",
            "  Macro F1: 0.2540\n",
            "  Accuracy: 0.2917\n",
            "  Targets: [ 3  7 14]\n",
            "  Preds:   [ 3 21]\n",
            "--------------------\n",
            "Epoch 19: train_loss=3.3505, val_loss=3.1091, LR=0.000075\n",
            "Train Macro F1: {'IDH1_macro_f1': '0.3972', 'MGMT_macro_f1': '0.3330', '1p/19q_macro_f1': '0.2435', 'grade_macro_f1': '0.3327'}\n",
            "Val Macro F1: {'IDH1_macro_f1': '0.3333', 'MGMT_macro_f1': '0.2000', '1p/19q_macro_f1': '0.1724', 'grade_macro_f1': '0.2540'}\n",
            "Validation F1 ('grade') improved (0.2456 --> 0.2540). Saving model...\n",
            "\n",
            "--- Fold 3 | Epoch 20/30 ---\n"
          ]
        },
        {
          "data": {
            "application/vnd.jupyter.widget-view+json": {
              "model_id": "f1f9870b101d4794bdefbcb15f92f97e",
              "version_major": 2,
              "version_minor": 0
            },
            "text/plain": [
              "train:   0%|          | 0/192 [00:00<?, ?it/s]"
            ]
          },
          "metadata": {},
          "output_type": "display_data"
        },
        {
          "name": "stdout",
          "output_type": "stream",
          "text": [
            "\n",
            "Epoch train finished. Calculating final metrics...\n",
            "--- IDH1 ---\n",
            "  Macro F1: 0.3854\n",
            "  Accuracy: 0.4948\n",
            "  Targets: [95 97]\n",
            "  Preds:   [ 16 176]\n",
            "--------------------\n",
            "--- MGMT ---\n",
            "  Macro F1: 0.4104\n",
            "  Accuracy: 0.5052\n",
            "  Targets: [94 98]\n",
            "  Preds:   [ 21 171]\n",
            "--------------------\n",
            "--- 1p/19q ---\n",
            "  Macro F1: 0.2932\n",
            "  Accuracy: 0.4010\n",
            "  Targets: [116  76]\n",
            "  Preds:   [  1 191]\n",
            "--------------------\n",
            "--- grade ---\n",
            "  Macro F1: 0.3519\n",
            "  Accuracy: 0.3854\n",
            "  Targets: [32 79 81]\n",
            "  Preds:   [ 67 110  15]\n",
            "--------------------\n"
          ]
        },
        {
          "data": {
            "application/vnd.jupyter.widget-view+json": {
              "model_id": "6ee9156098dc476284c9418be1ffba87",
              "version_major": 2,
              "version_minor": 0
            },
            "text/plain": [
              "valid:   0%|          | 0/24 [00:00<?, ?it/s]"
            ]
          },
          "metadata": {},
          "output_type": "display_data"
        },
        {
          "name": "stdout",
          "output_type": "stream",
          "text": [
            "\n",
            "Epoch valid finished. Calculating final metrics...\n",
            "--- IDH1 ---\n",
            "  Macro F1: 0.3333\n",
            "  Accuracy: 0.5000\n",
            "  Targets: [12 12]\n",
            "  Preds:   [ 0 24]\n",
            "--------------------\n",
            "--- MGMT ---\n",
            "  Macro F1: 0.2000\n",
            "  Accuracy: 0.2500\n",
            "  Targets: [18  6]\n",
            "  Preds:   [ 0 24]\n",
            "--------------------\n",
            "--- 1p/19q ---\n",
            "  Macro F1: 0.1724\n",
            "  Accuracy: 0.2083\n",
            "  Targets: [19  5]\n",
            "  Preds:   [ 0 24]\n",
            "--------------------\n",
            "--- grade ---\n",
            "  Macro F1: 0.1500\n",
            "  Accuracy: 0.1667\n",
            "  Targets: [ 3  7 14]\n",
            "  Preds:   [ 7 17]\n",
            "--------------------\n",
            "Epoch 20: train_loss=3.5446, val_loss=3.1357, LR=0.000075\n",
            "Train Macro F1: {'IDH1_macro_f1': '0.3854', 'MGMT_macro_f1': '0.4104', '1p/19q_macro_f1': '0.2932', 'grade_macro_f1': '0.3519'}\n",
            "Val Macro F1: {'IDH1_macro_f1': '0.3333', 'MGMT_macro_f1': '0.2000', '1p/19q_macro_f1': '0.1724', 'grade_macro_f1': '0.1500'}\n",
            "\n",
            "--- Fold 3 | Epoch 21/30 ---\n"
          ]
        },
        {
          "data": {
            "application/vnd.jupyter.widget-view+json": {
              "model_id": "e977d794e283401e96ccffc3125a1276",
              "version_major": 2,
              "version_minor": 0
            },
            "text/plain": [
              "train:   0%|          | 0/192 [00:00<?, ?it/s]"
            ]
          },
          "metadata": {},
          "output_type": "display_data"
        },
        {
          "name": "stdout",
          "output_type": "stream",
          "text": [
            "\n",
            "Epoch train finished. Calculating final metrics...\n",
            "--- IDH1 ---\n",
            "  Macro F1: 0.4043\n",
            "  Accuracy: 0.5156\n",
            "  Targets: [97 95]\n",
            "  Preds:   [ 12 180]\n",
            "--------------------\n",
            "--- MGMT ---\n",
            "  Macro F1: 0.3607\n",
            "  Accuracy: 0.4531\n",
            "  Targets: [102  90]\n",
            "  Preds:   [ 17 175]\n",
            "--------------------\n",
            "--- 1p/19q ---\n",
            "  Macro F1: 0.2178\n",
            "  Accuracy: 0.2708\n",
            "  Targets: [141  51]\n",
            "  Preds:   [  1 191]\n",
            "--------------------\n",
            "--- grade ---\n",
            "  Macro F1: 0.2826\n",
            "  Accuracy: 0.3229\n",
            "  Targets: [ 22  61 109]\n",
            "  Preds:   [ 18 168   6]\n",
            "--------------------\n"
          ]
        },
        {
          "data": {
            "application/vnd.jupyter.widget-view+json": {
              "model_id": "2f9301ed46ac4abba21102aa16ba5baa",
              "version_major": 2,
              "version_minor": 0
            },
            "text/plain": [
              "valid:   0%|          | 0/24 [00:00<?, ?it/s]"
            ]
          },
          "metadata": {},
          "output_type": "display_data"
        },
        {
          "name": "stdout",
          "output_type": "stream",
          "text": [
            "\n",
            "Epoch valid finished. Calculating final metrics...\n",
            "--- IDH1 ---\n",
            "  Macro F1: 0.3333\n",
            "  Accuracy: 0.5000\n",
            "  Targets: [12 12]\n",
            "  Preds:   [ 0 24]\n",
            "--------------------\n",
            "--- MGMT ---\n",
            "  Macro F1: 0.2000\n",
            "  Accuracy: 0.2500\n",
            "  Targets: [18  6]\n",
            "  Preds:   [ 0 24]\n",
            "--------------------\n",
            "--- 1p/19q ---\n",
            "  Macro F1: 0.1724\n",
            "  Accuracy: 0.2083\n",
            "  Targets: [19  5]\n",
            "  Preds:   [ 0 24]\n",
            "--------------------\n",
            "--- grade ---\n",
            "  Macro F1: 0.1505\n",
            "  Accuracy: 0.2917\n",
            "  Targets: [ 3  7 14]\n",
            "  Preds:   [ 0 24]\n",
            "--------------------\n",
            "Epoch 21: train_loss=3.0584, val_loss=3.1075, LR=0.000075\n",
            "Train Macro F1: {'IDH1_macro_f1': '0.4043', 'MGMT_macro_f1': '0.3607', '1p/19q_macro_f1': '0.2178', 'grade_macro_f1': '0.2826'}\n",
            "Val Macro F1: {'IDH1_macro_f1': '0.3333', 'MGMT_macro_f1': '0.2000', '1p/19q_macro_f1': '0.1724', 'grade_macro_f1': '0.1505'}\n",
            "\n",
            "--- Fold 3 | Epoch 22/30 ---\n"
          ]
        },
        {
          "data": {
            "application/vnd.jupyter.widget-view+json": {
              "model_id": "9f2c723a0a8a480f874f017795a6ccd7",
              "version_major": 2,
              "version_minor": 0
            },
            "text/plain": [
              "train:   0%|          | 0/192 [00:00<?, ?it/s]"
            ]
          },
          "metadata": {},
          "output_type": "display_data"
        },
        {
          "name": "stdout",
          "output_type": "stream",
          "text": [
            "\n",
            "Epoch train finished. Calculating final metrics...\n",
            "--- IDH1 ---\n",
            "  Macro F1: 0.3697\n",
            "  Accuracy: 0.4792\n",
            "  Targets: [98 94]\n",
            "  Preds:   [ 14 178]\n",
            "--------------------\n",
            "--- MGMT ---\n",
            "  Macro F1: 0.3403\n",
            "  Accuracy: 0.4635\n",
            "  Targets: [95 97]\n",
            "  Preds:   [ 14 178]\n",
            "--------------------\n",
            "--- 1p/19q ---\n",
            "  Macro F1: 0.2145\n",
            "  Accuracy: 0.2656\n",
            "  Targets: [142  50]\n",
            "  Preds:   [  1 191]\n",
            "--------------------\n",
            "--- grade ---\n",
            "  Macro F1: 0.2858\n",
            "  Accuracy: 0.3594\n",
            "  Targets: [30 67 95]\n",
            "  Preds:   [ 35 152   5]\n",
            "--------------------\n"
          ]
        },
        {
          "data": {
            "application/vnd.jupyter.widget-view+json": {
              "model_id": "76c71653b1fd4a99b621deda918420ee",
              "version_major": 2,
              "version_minor": 0
            },
            "text/plain": [
              "valid:   0%|          | 0/24 [00:00<?, ?it/s]"
            ]
          },
          "metadata": {},
          "output_type": "display_data"
        },
        {
          "name": "stdout",
          "output_type": "stream",
          "text": [
            "\n",
            "Epoch valid finished. Calculating final metrics...\n",
            "--- IDH1 ---\n",
            "  Macro F1: 0.3333\n",
            "  Accuracy: 0.5000\n",
            "  Targets: [12 12]\n",
            "  Preds:   [ 0 24]\n",
            "--------------------\n",
            "--- MGMT ---\n",
            "  Macro F1: 0.2000\n",
            "  Accuracy: 0.2500\n",
            "  Targets: [18  6]\n",
            "  Preds:   [ 0 24]\n",
            "--------------------\n",
            "--- 1p/19q ---\n",
            "  Macro F1: 0.1724\n",
            "  Accuracy: 0.2083\n",
            "  Targets: [19  5]\n",
            "  Preds:   [ 0 24]\n",
            "--------------------\n",
            "--- grade ---\n",
            "  Macro F1: 0.2115\n",
            "  Accuracy: 0.2500\n",
            "  Targets: [ 3  7 14]\n",
            "  Preds:   [ 5 19]\n",
            "--------------------\n",
            "Epoch 22: train_loss=3.3595, val_loss=3.1067, LR=0.000075\n",
            "Train Macro F1: {'IDH1_macro_f1': '0.3697', 'MGMT_macro_f1': '0.3403', '1p/19q_macro_f1': '0.2145', 'grade_macro_f1': '0.2858'}\n",
            "Val Macro F1: {'IDH1_macro_f1': '0.3333', 'MGMT_macro_f1': '0.2000', '1p/19q_macro_f1': '0.1724', 'grade_macro_f1': '0.2115'}\n",
            "\n",
            "--- Fold 3 | Epoch 23/30 ---\n"
          ]
        },
        {
          "data": {
            "application/vnd.jupyter.widget-view+json": {
              "model_id": "7524c8502923477581f76bb5c74ed1c6",
              "version_major": 2,
              "version_minor": 0
            },
            "text/plain": [
              "train:   0%|          | 0/192 [00:00<?, ?it/s]"
            ]
          },
          "metadata": {},
          "output_type": "display_data"
        },
        {
          "name": "stdout",
          "output_type": "stream",
          "text": [
            "\n",
            "Epoch train finished. Calculating final metrics...\n",
            "--- IDH1 ---\n",
            "  Macro F1: 0.3833\n",
            "  Accuracy: 0.5677\n",
            "  Targets: [ 80 112]\n",
            "  Preds:   [  7 185]\n",
            "--------------------\n",
            "--- MGMT ---\n",
            "  Macro F1: 0.3725\n",
            "  Accuracy: 0.5104\n",
            "  Targets: [ 90 102]\n",
            "  Preds:   [ 12 180]\n",
            "--------------------\n",
            "--- 1p/19q ---\n",
            "  Macro F1: 0.2527\n",
            "  Accuracy: 0.3281\n",
            "  Targets: [130  62]\n",
            "  Preds:   [  1 191]\n",
            "--------------------\n",
            "--- grade ---\n",
            "  Macro F1: 0.3442\n",
            "  Accuracy: 0.3958\n",
            "  Targets: [34 77 81]\n",
            "  Preds:   [ 62 124   6]\n",
            "--------------------\n"
          ]
        },
        {
          "data": {
            "application/vnd.jupyter.widget-view+json": {
              "model_id": "6fa90fd8e41b4f019f78b58b529bfb12",
              "version_major": 2,
              "version_minor": 0
            },
            "text/plain": [
              "valid:   0%|          | 0/24 [00:00<?, ?it/s]"
            ]
          },
          "metadata": {},
          "output_type": "display_data"
        },
        {
          "name": "stdout",
          "output_type": "stream",
          "text": [
            "\n",
            "Epoch valid finished. Calculating final metrics...\n",
            "--- IDH1 ---\n",
            "  Macro F1: 0.3333\n",
            "  Accuracy: 0.5000\n",
            "  Targets: [12 12]\n",
            "  Preds:   [ 0 24]\n",
            "--------------------\n",
            "--- MGMT ---\n",
            "  Macro F1: 0.2000\n",
            "  Accuracy: 0.2500\n",
            "  Targets: [18  6]\n",
            "  Preds:   [ 0 24]\n",
            "--------------------\n",
            "--- 1p/19q ---\n",
            "  Macro F1: 0.1724\n",
            "  Accuracy: 0.2083\n",
            "  Targets: [19  5]\n",
            "  Preds:   [ 0 24]\n",
            "--------------------\n",
            "--- grade ---\n",
            "  Macro F1: 0.2115\n",
            "  Accuracy: 0.2500\n",
            "  Targets: [ 3  7 14]\n",
            "  Preds:   [ 5 19]\n",
            "--------------------\n",
            "Epoch 23: train_loss=3.5516, val_loss=3.1094, LR=0.000075\n",
            "Train Macro F1: {'IDH1_macro_f1': '0.3833', 'MGMT_macro_f1': '0.3725', '1p/19q_macro_f1': '0.2527', 'grade_macro_f1': '0.3442'}\n",
            "Val Macro F1: {'IDH1_macro_f1': '0.3333', 'MGMT_macro_f1': '0.2000', '1p/19q_macro_f1': '0.1724', 'grade_macro_f1': '0.2115'}\n",
            "\n",
            "--- Fold 3 | Epoch 24/30 ---\n"
          ]
        },
        {
          "data": {
            "application/vnd.jupyter.widget-view+json": {
              "model_id": "aa978ef41fa34990af5c1e1fa651727f",
              "version_major": 2,
              "version_minor": 0
            },
            "text/plain": [
              "train:   0%|          | 0/192 [00:00<?, ?it/s]"
            ]
          },
          "metadata": {},
          "output_type": "display_data"
        },
        {
          "name": "stdout",
          "output_type": "stream",
          "text": [
            "\n",
            "Epoch train finished. Calculating final metrics...\n",
            "--- IDH1 ---\n",
            "  Macro F1: 0.3457\n",
            "  Accuracy: 0.4740\n",
            "  Targets: [101  91]\n",
            "  Preds:   [  6 186]\n",
            "--------------------\n",
            "--- MGMT ---\n",
            "  Macro F1: 0.3793\n",
            "  Accuracy: 0.4844\n",
            "  Targets: [104  88]\n",
            "  Preds:   [  9 183]\n",
            "--------------------\n",
            "--- 1p/19q ---\n",
            "  Macro F1: 0.2333\n",
            "  Accuracy: 0.2812\n",
            "  Targets: [141  51]\n",
            "  Preds:   [  3 189]\n",
            "--------------------\n",
            "--- grade ---\n",
            "  Macro F1: 0.3679\n",
            "  Accuracy: 0.3906\n",
            "  Targets: [ 25  64 103]\n",
            "  Preds:   [ 35 154   3]\n",
            "--------------------\n"
          ]
        },
        {
          "data": {
            "application/vnd.jupyter.widget-view+json": {
              "model_id": "9a3bd33295424e0c95942375832174de",
              "version_major": 2,
              "version_minor": 0
            },
            "text/plain": [
              "valid:   0%|          | 0/24 [00:00<?, ?it/s]"
            ]
          },
          "metadata": {},
          "output_type": "display_data"
        },
        {
          "name": "stdout",
          "output_type": "stream",
          "text": [
            "\n",
            "Epoch valid finished. Calculating final metrics...\n",
            "--- IDH1 ---\n",
            "  Macro F1: 0.3333\n",
            "  Accuracy: 0.5000\n",
            "  Targets: [12 12]\n",
            "  Preds:   [ 0 24]\n",
            "--------------------\n",
            "--- MGMT ---\n",
            "  Macro F1: 0.2000\n",
            "  Accuracy: 0.2500\n",
            "  Targets: [18  6]\n",
            "  Preds:   [ 0 24]\n",
            "--------------------\n",
            "--- 1p/19q ---\n",
            "  Macro F1: 0.1724\n",
            "  Accuracy: 0.2083\n",
            "  Targets: [19  5]\n",
            "  Preds:   [ 0 24]\n",
            "--------------------\n",
            "--- grade ---\n",
            "  Macro F1: 0.2540\n",
            "  Accuracy: 0.2917\n",
            "  Targets: [ 3  7 14]\n",
            "  Preds:   [ 3 21]\n",
            "--------------------\n",
            "Epoch 24: train_loss=3.1095, val_loss=3.0858, LR=0.000037\n",
            "Train Macro F1: {'IDH1_macro_f1': '0.3457', 'MGMT_macro_f1': '0.3793', '1p/19q_macro_f1': '0.2333', 'grade_macro_f1': '0.3679'}\n",
            "Val Macro F1: {'IDH1_macro_f1': '0.3333', 'MGMT_macro_f1': '0.2000', '1p/19q_macro_f1': '0.1724', 'grade_macro_f1': '0.2540'}\n",
            "\n",
            "--- Fold 3 | Epoch 25/30 ---\n"
          ]
        },
        {
          "data": {
            "application/vnd.jupyter.widget-view+json": {
              "model_id": "273c853e1a6a43a8a3ba1e4949590004",
              "version_major": 2,
              "version_minor": 0
            },
            "text/plain": [
              "train:   0%|          | 0/192 [00:00<?, ?it/s]"
            ]
          },
          "metadata": {},
          "output_type": "display_data"
        },
        {
          "name": "stdout",
          "output_type": "stream",
          "text": [
            "\n",
            "Epoch train finished. Calculating final metrics...\n",
            "--- IDH1 ---\n",
            "  Macro F1: 0.4299\n",
            "  Accuracy: 0.5365\n",
            "  Targets: [96 96]\n",
            "  Preds:   [ 13 179]\n",
            "--------------------\n",
            "--- MGMT ---\n",
            "  Macro F1: 0.4113\n",
            "  Accuracy: 0.4896\n",
            "  Targets: [105  87]\n",
            "  Preds:   [ 17 175]\n",
            "--------------------\n",
            "--- 1p/19q ---\n",
            "  Macro F1: 0.3295\n",
            "  Accuracy: 0.3750\n",
            "  Targets: [128  64]\n",
            "  Preds:   [ 14 178]\n",
            "--------------------\n",
            "--- grade ---\n",
            "  Macro F1: 0.3914\n",
            "  Accuracy: 0.3854\n",
            "  Targets: [ 25  61 106]\n",
            "  Preds:   [ 32 149  11]\n",
            "--------------------\n"
          ]
        },
        {
          "data": {
            "application/vnd.jupyter.widget-view+json": {
              "model_id": "b704763082404906ba00e7aa099383d9",
              "version_major": 2,
              "version_minor": 0
            },
            "text/plain": [
              "valid:   0%|          | 0/24 [00:00<?, ?it/s]"
            ]
          },
          "metadata": {},
          "output_type": "display_data"
        },
        {
          "name": "stdout",
          "output_type": "stream",
          "text": [
            "\n",
            "Epoch valid finished. Calculating final metrics...\n",
            "--- IDH1 ---\n",
            "  Macro F1: 0.3333\n",
            "  Accuracy: 0.5000\n",
            "  Targets: [12 12]\n",
            "  Preds:   [ 0 24]\n",
            "--------------------\n",
            "--- MGMT ---\n",
            "  Macro F1: 0.2000\n",
            "  Accuracy: 0.2500\n",
            "  Targets: [18  6]\n",
            "  Preds:   [ 0 24]\n",
            "--------------------\n",
            "--- 1p/19q ---\n",
            "  Macro F1: 0.1724\n",
            "  Accuracy: 0.2083\n",
            "  Targets: [19  5]\n",
            "  Preds:   [ 0 24]\n",
            "--------------------\n",
            "--- grade ---\n",
            "  Macro F1: 0.1186\n",
            "  Accuracy: 0.1250\n",
            "  Targets: [ 3  7 14]\n",
            "  Preds:   [ 8 16]\n",
            "--------------------\n",
            "Epoch 25: train_loss=3.0183, val_loss=3.0896, LR=0.000037\n",
            "Train Macro F1: {'IDH1_macro_f1': '0.4299', 'MGMT_macro_f1': '0.4113', '1p/19q_macro_f1': '0.3295', 'grade_macro_f1': '0.3914'}\n",
            "Val Macro F1: {'IDH1_macro_f1': '0.3333', 'MGMT_macro_f1': '0.2000', '1p/19q_macro_f1': '0.1724', 'grade_macro_f1': '0.1186'}\n",
            "\n",
            "--- Fold 3 | Epoch 26/30 ---\n"
          ]
        },
        {
          "data": {
            "application/vnd.jupyter.widget-view+json": {
              "model_id": "23519247d47d49bcb5b21a938dba9538",
              "version_major": 2,
              "version_minor": 0
            },
            "text/plain": [
              "train:   0%|          | 0/192 [00:00<?, ?it/s]"
            ]
          },
          "metadata": {},
          "output_type": "display_data"
        },
        {
          "name": "stdout",
          "output_type": "stream",
          "text": [
            "\n",
            "Epoch train finished. Calculating final metrics...\n",
            "--- IDH1 ---\n",
            "  Macro F1: 0.4639\n",
            "  Accuracy: 0.4896\n",
            "  Targets: [107  85]\n",
            "  Preds:   [ 43 149]\n",
            "--------------------\n",
            "--- MGMT ---\n",
            "  Macro F1: 0.4250\n",
            "  Accuracy: 0.5104\n",
            "  Targets: [ 89 103]\n",
            "  Preds:   [ 29 163]\n",
            "--------------------\n",
            "--- 1p/19q ---\n",
            "  Macro F1: 0.2883\n",
            "  Accuracy: 0.3177\n",
            "  Targets: [141  51]\n",
            "  Preds:   [ 12 180]\n",
            "--------------------\n",
            "--- grade ---\n",
            "  Macro F1: 0.4477\n",
            "  Accuracy: 0.4271\n",
            "  Targets: [ 29  55 108]\n",
            "  Preds:   [50 93 49]\n",
            "--------------------\n"
          ]
        },
        {
          "data": {
            "application/vnd.jupyter.widget-view+json": {
              "model_id": "6617a3ba62904d899faedaadb81482b6",
              "version_major": 2,
              "version_minor": 0
            },
            "text/plain": [
              "valid:   0%|          | 0/24 [00:00<?, ?it/s]"
            ]
          },
          "metadata": {},
          "output_type": "display_data"
        },
        {
          "name": "stdout",
          "output_type": "stream",
          "text": [
            "\n",
            "Epoch valid finished. Calculating final metrics...\n",
            "--- IDH1 ---\n",
            "  Macro F1: 0.6643\n",
            "  Accuracy: 0.6667\n",
            "  Targets: [12 12]\n",
            "  Preds:   [14 10]\n",
            "--------------------\n",
            "--- MGMT ---\n",
            "  Macro F1: 0.2000\n",
            "  Accuracy: 0.2500\n",
            "  Targets: [18  6]\n",
            "  Preds:   [ 0 24]\n",
            "--------------------\n",
            "--- 1p/19q ---\n",
            "  Macro F1: 0.1724\n",
            "  Accuracy: 0.2083\n",
            "  Targets: [19  5]\n",
            "  Preds:   [ 0 24]\n",
            "--------------------\n",
            "--- grade ---\n",
            "  Macro F1: 0.5510\n",
            "  Accuracy: 0.6667\n",
            "  Targets: [ 3  7 14]\n",
            "  Preds:   [ 3  4 17]\n",
            "--------------------\n",
            "Epoch 26: train_loss=3.1080, val_loss=3.0537, LR=0.000037\n",
            "Train Macro F1: {'IDH1_macro_f1': '0.4639', 'MGMT_macro_f1': '0.4250', '1p/19q_macro_f1': '0.2883', 'grade_macro_f1': '0.4477'}\n",
            "Val Macro F1: {'IDH1_macro_f1': '0.6643', 'MGMT_macro_f1': '0.2000', '1p/19q_macro_f1': '0.1724', 'grade_macro_f1': '0.5510'}\n",
            "Validation F1 ('grade') improved (0.2540 --> 0.5510). Saving model...\n",
            "\n",
            "--- Fold 3 | Epoch 27/30 ---\n"
          ]
        },
        {
          "data": {
            "application/vnd.jupyter.widget-view+json": {
              "model_id": "551b38fa15434502841ac28e537e5db2",
              "version_major": 2,
              "version_minor": 0
            },
            "text/plain": [
              "train:   0%|          | 0/192 [00:00<?, ?it/s]"
            ]
          },
          "metadata": {},
          "output_type": "display_data"
        },
        {
          "name": "stdout",
          "output_type": "stream",
          "text": [
            "\n",
            "Epoch train finished. Calculating final metrics...\n",
            "--- IDH1 ---\n",
            "  Macro F1: 0.6275\n",
            "  Accuracy: 0.6354\n",
            "  Targets: [ 91 101]\n",
            "  Preds:   [ 73 119]\n",
            "--------------------\n",
            "--- MGMT ---\n",
            "  Macro F1: 0.4375\n",
            "  Accuracy: 0.5000\n",
            "  Targets: [100  92]\n",
            "  Preds:   [ 28 164]\n",
            "--------------------\n",
            "--- 1p/19q ---\n",
            "  Macro F1: 0.2693\n",
            "  Accuracy: 0.3229\n",
            "  Targets: [134  58]\n",
            "  Preds:   [  6 186]\n",
            "--------------------\n",
            "--- grade ---\n",
            "  Macro F1: 0.5468\n",
            "  Accuracy: 0.5625\n",
            "  Targets: [24 73 95]\n",
            "  Preds:   [45 60 87]\n",
            "--------------------\n"
          ]
        },
        {
          "data": {
            "application/vnd.jupyter.widget-view+json": {
              "model_id": "effb836c2d414bf1a967090b52d18424",
              "version_major": 2,
              "version_minor": 0
            },
            "text/plain": [
              "valid:   0%|          | 0/24 [00:00<?, ?it/s]"
            ]
          },
          "metadata": {},
          "output_type": "display_data"
        },
        {
          "name": "stdout",
          "output_type": "stream",
          "text": [
            "\n",
            "Epoch valid finished. Calculating final metrics...\n",
            "--- IDH1 ---\n",
            "  Macro F1: 0.3143\n",
            "  Accuracy: 0.4583\n",
            "  Targets: [12 12]\n",
            "  Preds:   [ 1 23]\n",
            "--------------------\n",
            "--- MGMT ---\n",
            "  Macro F1: 0.2000\n",
            "  Accuracy: 0.2500\n",
            "  Targets: [18  6]\n",
            "  Preds:   [ 0 24]\n",
            "--------------------\n",
            "--- 1p/19q ---\n",
            "  Macro F1: 0.1724\n",
            "  Accuracy: 0.2083\n",
            "  Targets: [19  5]\n",
            "  Preds:   [ 0 24]\n",
            "--------------------\n",
            "--- grade ---\n",
            "  Macro F1: 0.5019\n",
            "  Accuracy: 0.5833\n",
            "  Targets: [ 3  7 14]\n",
            "  Preds:   [ 4  9 11]\n",
            "--------------------\n",
            "Epoch 27: train_loss=3.0526, val_loss=3.0703, LR=0.000037\n",
            "Train Macro F1: {'IDH1_macro_f1': '0.6275', 'MGMT_macro_f1': '0.4375', '1p/19q_macro_f1': '0.2693', 'grade_macro_f1': '0.5468'}\n",
            "Val Macro F1: {'IDH1_macro_f1': '0.3143', 'MGMT_macro_f1': '0.2000', '1p/19q_macro_f1': '0.1724', 'grade_macro_f1': '0.5019'}\n",
            "\n",
            "--- Fold 3 | Epoch 28/30 ---\n"
          ]
        },
        {
          "data": {
            "application/vnd.jupyter.widget-view+json": {
              "model_id": "2cc137ba1fe84f9ea0252e5fc808aa7e",
              "version_major": 2,
              "version_minor": 0
            },
            "text/plain": [
              "train:   0%|          | 0/192 [00:00<?, ?it/s]"
            ]
          },
          "metadata": {},
          "output_type": "display_data"
        },
        {
          "name": "stdout",
          "output_type": "stream",
          "text": [
            "\n",
            "Epoch train finished. Calculating final metrics...\n",
            "--- IDH1 ---\n",
            "  Macro F1: 0.5383\n",
            "  Accuracy: 0.5625\n",
            "  Targets: [100  92]\n",
            "  Preds:   [ 48 144]\n",
            "--------------------\n",
            "--- MGMT ---\n",
            "  Macro F1: 0.3668\n",
            "  Accuracy: 0.4740\n",
            "  Targets: [97 95]\n",
            "  Preds:   [ 16 176]\n",
            "--------------------\n",
            "--- 1p/19q ---\n",
            "  Macro F1: 0.2926\n",
            "  Accuracy: 0.3281\n",
            "  Targets: [138  54]\n",
            "  Preds:   [ 11 181]\n",
            "--------------------\n",
            "--- grade ---\n",
            "  Macro F1: 0.4706\n",
            "  Accuracy: 0.4479\n",
            "  Targets: [ 28  62 102]\n",
            "  Preds:   [36 94 62]\n",
            "--------------------\n"
          ]
        },
        {
          "data": {
            "application/vnd.jupyter.widget-view+json": {
              "model_id": "d1c7f1d751a7416ea9201f8e816a518f",
              "version_major": 2,
              "version_minor": 0
            },
            "text/plain": [
              "valid:   0%|          | 0/24 [00:00<?, ?it/s]"
            ]
          },
          "metadata": {},
          "output_type": "display_data"
        },
        {
          "name": "stdout",
          "output_type": "stream",
          "text": [
            "\n",
            "Epoch valid finished. Calculating final metrics...\n",
            "--- IDH1 ---\n",
            "  Macro F1: 0.3697\n",
            "  Accuracy: 0.4583\n",
            "  Targets: [12 12]\n",
            "  Preds:   [ 3 21]\n",
            "--------------------\n",
            "--- MGMT ---\n",
            "  Macro F1: 0.2000\n",
            "  Accuracy: 0.2500\n",
            "  Targets: [18  6]\n",
            "  Preds:   [ 0 24]\n",
            "--------------------\n",
            "--- 1p/19q ---\n",
            "  Macro F1: 0.1724\n",
            "  Accuracy: 0.2083\n",
            "  Targets: [19  5]\n",
            "  Preds:   [ 0 24]\n",
            "--------------------\n",
            "--- grade ---\n",
            "  Macro F1: 0.4132\n",
            "  Accuracy: 0.5000\n",
            "  Targets: [ 3  7 14]\n",
            "  Preds:   [ 8  6 10]\n",
            "--------------------\n",
            "Epoch 28: train_loss=3.0607, val_loss=3.0941, LR=0.000037\n",
            "Train Macro F1: {'IDH1_macro_f1': '0.5383', 'MGMT_macro_f1': '0.3668', '1p/19q_macro_f1': '0.2926', 'grade_macro_f1': '0.4706'}\n",
            "Val Macro F1: {'IDH1_macro_f1': '0.3697', 'MGMT_macro_f1': '0.2000', '1p/19q_macro_f1': '0.1724', 'grade_macro_f1': '0.4132'}\n",
            "\n",
            "--- Fold 3 | Epoch 29/30 ---\n"
          ]
        },
        {
          "data": {
            "application/vnd.jupyter.widget-view+json": {
              "model_id": "cbee4e22357040dea4d431d9e23719c7",
              "version_major": 2,
              "version_minor": 0
            },
            "text/plain": [
              "train:   0%|          | 0/192 [00:00<?, ?it/s]"
            ]
          },
          "metadata": {},
          "output_type": "display_data"
        },
        {
          "name": "stdout",
          "output_type": "stream",
          "text": [
            "\n",
            "Epoch train finished. Calculating final metrics...\n",
            "--- IDH1 ---\n",
            "  Macro F1: 0.5623\n",
            "  Accuracy: 0.5885\n",
            "  Targets: [98 94]\n",
            "  Preds:   [ 47 145]\n",
            "--------------------\n",
            "--- MGMT ---\n",
            "  Macro F1: 0.4623\n",
            "  Accuracy: 0.5677\n",
            "  Targets: [ 88 104]\n",
            "  Preds:   [ 19 173]\n",
            "--------------------\n",
            "--- 1p/19q ---\n",
            "  Macro F1: 0.2290\n",
            "  Accuracy: 0.2812\n",
            "  Targets: [140  52]\n",
            "  Preds:   [  2 190]\n",
            "--------------------\n",
            "--- grade ---\n",
            "  Macro F1: 0.4647\n",
            "  Accuracy: 0.4635\n",
            "  Targets: [ 29  62 101]\n",
            "  Preds:   [58 79 55]\n",
            "--------------------\n"
          ]
        },
        {
          "data": {
            "application/vnd.jupyter.widget-view+json": {
              "model_id": "bb98719bde584e82af7d048b92f203f0",
              "version_major": 2,
              "version_minor": 0
            },
            "text/plain": [
              "valid:   0%|          | 0/24 [00:00<?, ?it/s]"
            ]
          },
          "metadata": {},
          "output_type": "display_data"
        },
        {
          "name": "stdout",
          "output_type": "stream",
          "text": [
            "\n",
            "Epoch valid finished. Calculating final metrics...\n",
            "--- IDH1 ---\n",
            "  Macro F1: 0.5833\n",
            "  Accuracy: 0.5833\n",
            "  Targets: [12 12]\n",
            "  Preds:   [12 12]\n",
            "--------------------\n",
            "--- MGMT ---\n",
            "  Macro F1: 0.2000\n",
            "  Accuracy: 0.2500\n",
            "  Targets: [18  6]\n",
            "  Preds:   [ 0 24]\n",
            "--------------------\n",
            "--- 1p/19q ---\n",
            "  Macro F1: 0.1724\n",
            "  Accuracy: 0.2083\n",
            "  Targets: [19  5]\n",
            "  Preds:   [ 0 24]\n",
            "--------------------\n",
            "--- grade ---\n",
            "  Macro F1: 0.5500\n",
            "  Accuracy: 0.6667\n",
            "  Targets: [ 3  7 14]\n",
            "  Preds:   [ 5  3 16]\n",
            "--------------------\n",
            "Epoch 29: train_loss=3.0889, val_loss=3.0608, LR=0.000037\n",
            "Train Macro F1: {'IDH1_macro_f1': '0.5623', 'MGMT_macro_f1': '0.4623', '1p/19q_macro_f1': '0.2290', 'grade_macro_f1': '0.4647'}\n",
            "Val Macro F1: {'IDH1_macro_f1': '0.5833', 'MGMT_macro_f1': '0.2000', '1p/19q_macro_f1': '0.1724', 'grade_macro_f1': '0.5500'}\n",
            "\n",
            "--- Fold 3 | Epoch 30/30 ---\n"
          ]
        },
        {
          "data": {
            "application/vnd.jupyter.widget-view+json": {
              "model_id": "318247960d95413998641801487e6833",
              "version_major": 2,
              "version_minor": 0
            },
            "text/plain": [
              "train:   0%|          | 0/192 [00:00<?, ?it/s]"
            ]
          },
          "metadata": {},
          "output_type": "display_data"
        },
        {
          "name": "stdout",
          "output_type": "stream",
          "text": [
            "\n",
            "Epoch train finished. Calculating final metrics...\n",
            "--- IDH1 ---\n",
            "  Macro F1: 0.5447\n",
            "  Accuracy: 0.5625\n",
            "  Targets: [102  90]\n",
            "  Preds:   [ 52 140]\n",
            "--------------------\n",
            "--- MGMT ---\n",
            "  Macro F1: 0.4302\n",
            "  Accuracy: 0.4896\n",
            "  Targets: [109  83]\n",
            "  Preds:   [ 21 171]\n",
            "--------------------\n",
            "--- 1p/19q ---\n",
            "  Macro F1: 0.2560\n",
            "  Accuracy: 0.2969\n",
            "  Targets: [139  53]\n",
            "  Preds:   [  8 184]\n",
            "--------------------\n",
            "--- grade ---\n",
            "  Macro F1: 0.4187\n",
            "  Accuracy: 0.4219\n",
            "  Targets: [ 28  63 101]\n",
            "  Preds:   [72 58 62]\n",
            "--------------------\n"
          ]
        },
        {
          "data": {
            "application/vnd.jupyter.widget-view+json": {
              "model_id": "55770e7275624a94b4c46308ee735b16",
              "version_major": 2,
              "version_minor": 0
            },
            "text/plain": [
              "valid:   0%|          | 0/24 [00:00<?, ?it/s]"
            ]
          },
          "metadata": {},
          "output_type": "display_data"
        },
        {
          "name": "stdout",
          "output_type": "stream",
          "text": [
            "\n",
            "Epoch valid finished. Calculating final metrics...\n",
            "--- IDH1 ---\n",
            "  Macro F1: 0.6667\n",
            "  Accuracy: 0.6667\n",
            "  Targets: [12 12]\n",
            "  Preds:   [12 12]\n",
            "--------------------\n",
            "--- MGMT ---\n",
            "  Macro F1: 0.2000\n",
            "  Accuracy: 0.2500\n",
            "  Targets: [18  6]\n",
            "  Preds:   [ 0 24]\n",
            "--------------------\n",
            "--- 1p/19q ---\n",
            "  Macro F1: 0.1724\n",
            "  Accuracy: 0.2083\n",
            "  Targets: [19  5]\n",
            "  Preds:   [ 0 24]\n",
            "--------------------\n",
            "--- grade ---\n",
            "  Macro F1: 0.4043\n",
            "  Accuracy: 0.5417\n",
            "  Targets: [ 3  7 14]\n",
            "  Preds:   [ 9  3 12]\n",
            "--------------------\n",
            "Epoch 30: train_loss=3.0142, val_loss=3.0994, LR=0.000037\n",
            "Train Macro F1: {'IDH1_macro_f1': '0.5447', 'MGMT_macro_f1': '0.4302', '1p/19q_macro_f1': '0.2560', 'grade_macro_f1': '0.4187'}\n",
            "Val Macro F1: {'IDH1_macro_f1': '0.6667', 'MGMT_macro_f1': '0.2000', '1p/19q_macro_f1': '0.1724', 'grade_macro_f1': '0.4043'}\n",
            "\n",
            "==========  FOLD 4/5  (96 train / 24 val) ==========\n",
            "Warmup: 5 epochs, 60 steps, LR start factor: 0.01\n",
            "\n",
            "--- Fold 4 | Epoch 1/30 ---\n"
          ]
        },
        {
          "name": "stderr",
          "output_type": "stream",
          "text": [
            "/usr/local/lib/python3.11/dist-packages/torch/optim/lr_scheduler.py:62: UserWarning: The verbose parameter is deprecated. Please use get_last_lr() to access the learning rate.\n",
            "  warnings.warn(\n"
          ]
        },
        {
          "data": {
            "application/vnd.jupyter.widget-view+json": {
              "model_id": "e1b4e6721ba14c4aaa1866b005e3423b",
              "version_major": 2,
              "version_minor": 0
            },
            "text/plain": [
              "train:   0%|          | 0/192 [00:00<?, ?it/s]"
            ]
          },
          "metadata": {},
          "output_type": "display_data"
        },
        {
          "name": "stdout",
          "output_type": "stream",
          "text": [
            "\n",
            "Epoch train finished. Calculating final metrics...\n",
            "--- IDH1 ---\n",
            "  Macro F1: 0.3310\n",
            "  Accuracy: 0.4948\n",
            "  Targets: [95 97]\n",
            "  Preds:   [192]\n",
            "--------------------\n",
            "--- MGMT ---\n",
            "  Macro F1: 0.4229\n",
            "  Accuracy: 0.4479\n",
            "  Targets: [116  76]\n",
            "  Preds:   [ 36 156]\n",
            "--------------------\n",
            "--- 1p/19q ---\n",
            "  Macro F1: 0.4146\n",
            "  Accuracy: 0.7083\n",
            "  Targets: [137  55]\n",
            "  Preds:   [191   1]\n",
            "--------------------\n",
            "--- grade ---\n",
            "  Macro F1: 0.2520\n",
            "  Accuracy: 0.3750\n",
            "  Targets: [ 17  63 112]\n",
            "  Preds:   [  1 154  37]\n",
            "--------------------\n"
          ]
        },
        {
          "data": {
            "application/vnd.jupyter.widget-view+json": {
              "model_id": "0ec1b9a45d804a3a8f956b04d4254206",
              "version_major": 2,
              "version_minor": 0
            },
            "text/plain": [
              "valid:   0%|          | 0/24 [00:00<?, ?it/s]"
            ]
          },
          "metadata": {},
          "output_type": "display_data"
        },
        {
          "name": "stdout",
          "output_type": "stream",
          "text": [
            "\n",
            "Epoch valid finished. Calculating final metrics...\n",
            "--- IDH1 ---\n",
            "  Macro F1: 0.3846\n",
            "  Accuracy: 0.6250\n",
            "  Targets: [15  9]\n",
            "  Preds:   [24]\n",
            "--------------------\n",
            "--- MGMT ---\n",
            "  Macro F1: 0.2941\n",
            "  Accuracy: 0.4167\n",
            "  Targets: [10 14]\n",
            "  Preds:   [24]\n",
            "--------------------\n",
            "--- 1p/19q ---\n",
            "  Macro F1: 0.4545\n",
            "  Accuracy: 0.8333\n",
            "  Targets: [20  4]\n",
            "  Preds:   [24]\n",
            "--------------------\n",
            "--- grade ---\n",
            "  Macro F1: 0.1667\n",
            "  Accuracy: 0.3333\n",
            "  Targets: [ 3  8 13]\n",
            "  Preds:   [ 0 24]\n",
            "--------------------\n",
            "Epoch 1: train_loss=2.9131, val_loss=3.2144, LR=0.000062\n",
            "Train Macro F1: {'IDH1_macro_f1': '0.3310', 'MGMT_macro_f1': '0.4229', '1p/19q_macro_f1': '0.4146', 'grade_macro_f1': '0.2520'}\n",
            "Val Macro F1: {'IDH1_macro_f1': '0.3846', 'MGMT_macro_f1': '0.2941', '1p/19q_macro_f1': '0.4545', 'grade_macro_f1': '0.1667'}\n",
            "Warmup phase (Epoch 1/5). LR controlled manually. Current LR: 0.000062\n",
            "Validation F1 ('grade') improved (-inf --> 0.1667). Saving model...\n",
            "\n",
            "--- Fold 4 | Epoch 2/30 ---\n"
          ]
        },
        {
          "data": {
            "application/vnd.jupyter.widget-view+json": {
              "model_id": "b6cb48bedfd646f1b54addf700732754",
              "version_major": 2,
              "version_minor": 0
            },
            "text/plain": [
              "train:   0%|          | 0/192 [00:00<?, ?it/s]"
            ]
          },
          "metadata": {},
          "output_type": "display_data"
        },
        {
          "name": "stdout",
          "output_type": "stream",
          "text": [
            "\n",
            "Epoch train finished. Calculating final metrics...\n",
            "--- IDH1 ---\n",
            "  Macro F1: 0.3852\n",
            "  Accuracy: 0.4375\n",
            "  Targets: [ 80 112]\n",
            "  Preds:   [168  24]\n",
            "--------------------\n",
            "--- MGMT ---\n",
            "  Macro F1: 0.4875\n",
            "  Accuracy: 0.5000\n",
            "  Targets: [119  73]\n",
            "  Preds:   [ 43 149]\n",
            "--------------------\n",
            "--- 1p/19q ---\n",
            "  Macro F1: 0.4576\n",
            "  Accuracy: 0.6198\n",
            "  Targets: [124  68]\n",
            "  Preds:   [173  19]\n",
            "--------------------\n",
            "--- grade ---\n",
            "  Macro F1: 0.2383\n",
            "  Accuracy: 0.3490\n",
            "  Targets: [33 69 90]\n",
            "  Preds:   [  0 147  45]\n",
            "--------------------\n"
          ]
        },
        {
          "data": {
            "application/vnd.jupyter.widget-view+json": {
              "model_id": "dbacf708a8524372a74784377aab2000",
              "version_major": 2,
              "version_minor": 0
            },
            "text/plain": [
              "valid:   0%|          | 0/24 [00:00<?, ?it/s]"
            ]
          },
          "metadata": {},
          "output_type": "display_data"
        },
        {
          "name": "stdout",
          "output_type": "stream",
          "text": [
            "\n",
            "Epoch valid finished. Calculating final metrics...\n",
            "--- IDH1 ---\n",
            "  Macro F1: 0.2727\n",
            "  Accuracy: 0.3750\n",
            "  Targets: [15  9]\n",
            "  Preds:   [ 0 24]\n",
            "--------------------\n",
            "--- MGMT ---\n",
            "  Macro F1: 0.3684\n",
            "  Accuracy: 0.5833\n",
            "  Targets: [10 14]\n",
            "  Preds:   [ 0 24]\n",
            "--------------------\n",
            "--- 1p/19q ---\n",
            "  Macro F1: 0.4545\n",
            "  Accuracy: 0.8333\n",
            "  Targets: [20  4]\n",
            "  Preds:   [24]\n",
            "--------------------\n",
            "--- grade ---\n",
            "  Macro F1: 0.1667\n",
            "  Accuracy: 0.3333\n",
            "  Targets: [ 3  8 13]\n",
            "  Preds:   [ 0 24]\n",
            "--------------------\n",
            "Epoch 2: train_loss=3.7375, val_loss=3.2025, LR=0.000122\n",
            "Train Macro F1: {'IDH1_macro_f1': '0.3852', 'MGMT_macro_f1': '0.4875', '1p/19q_macro_f1': '0.4576', 'grade_macro_f1': '0.2383'}\n",
            "Val Macro F1: {'IDH1_macro_f1': '0.2727', 'MGMT_macro_f1': '0.3684', '1p/19q_macro_f1': '0.4545', 'grade_macro_f1': '0.1667'}\n",
            "Warmup phase (Epoch 2/5). LR controlled manually. Current LR: 0.000122\n",
            "\n",
            "--- Fold 4 | Epoch 3/30 ---\n"
          ]
        },
        {
          "data": {
            "application/vnd.jupyter.widget-view+json": {
              "model_id": "85f2fdaa58ba46a2a54285281820d3ba",
              "version_major": 2,
              "version_minor": 0
            },
            "text/plain": [
              "train:   0%|          | 0/192 [00:00<?, ?it/s]"
            ]
          },
          "metadata": {},
          "output_type": "display_data"
        },
        {
          "name": "stdout",
          "output_type": "stream",
          "text": [
            "\n",
            "Epoch train finished. Calculating final metrics...\n",
            "--- IDH1 ---\n",
            "  Macro F1: 0.3879\n",
            "  Accuracy: 0.5573\n",
            "  Targets: [ 82 110]\n",
            "  Preds:   [  9 183]\n",
            "--------------------\n",
            "--- MGMT ---\n",
            "  Macro F1: 0.3274\n",
            "  Accuracy: 0.4531\n",
            "  Targets: [106  86]\n",
            "  Preds:   [  3 189]\n",
            "--------------------\n",
            "--- 1p/19q ---\n",
            "  Macro F1: 0.4506\n",
            "  Accuracy: 0.4531\n",
            "  Targets: [124  68]\n",
            "  Preds:   [ 55 137]\n",
            "--------------------\n",
            "--- grade ---\n",
            "  Macro F1: 0.1781\n",
            "  Accuracy: 0.3646\n",
            "  Targets: [28 71 93]\n",
            "  Preds:   [  1 191]\n",
            "--------------------\n"
          ]
        },
        {
          "data": {
            "application/vnd.jupyter.widget-view+json": {
              "model_id": "a3e298ef6a9d42da8ad9a0408989b421",
              "version_major": 2,
              "version_minor": 0
            },
            "text/plain": [
              "valid:   0%|          | 0/24 [00:00<?, ?it/s]"
            ]
          },
          "metadata": {},
          "output_type": "display_data"
        },
        {
          "name": "stdout",
          "output_type": "stream",
          "text": [
            "\n",
            "Epoch valid finished. Calculating final metrics...\n",
            "--- IDH1 ---\n",
            "  Macro F1: 0.2727\n",
            "  Accuracy: 0.3750\n",
            "  Targets: [15  9]\n",
            "  Preds:   [ 0 24]\n",
            "--------------------\n",
            "--- MGMT ---\n",
            "  Macro F1: 0.3684\n",
            "  Accuracy: 0.5833\n",
            "  Targets: [10 14]\n",
            "  Preds:   [ 0 24]\n",
            "--------------------\n",
            "--- 1p/19q ---\n",
            "  Macro F1: 0.1429\n",
            "  Accuracy: 0.1667\n",
            "  Targets: [20  4]\n",
            "  Preds:   [ 0 24]\n",
            "--------------------\n",
            "--- grade ---\n",
            "  Macro F1: 0.1667\n",
            "  Accuracy: 0.3333\n",
            "  Targets: [ 3  8 13]\n",
            "  Preds:   [ 0 24]\n",
            "--------------------\n",
            "Epoch 3: train_loss=3.4325, val_loss=3.2346, LR=0.000181\n",
            "Train Macro F1: {'IDH1_macro_f1': '0.3879', 'MGMT_macro_f1': '0.3274', '1p/19q_macro_f1': '0.4506', 'grade_macro_f1': '0.1781'}\n",
            "Val Macro F1: {'IDH1_macro_f1': '0.2727', 'MGMT_macro_f1': '0.3684', '1p/19q_macro_f1': '0.1429', 'grade_macro_f1': '0.1667'}\n",
            "Warmup phase (Epoch 3/5). LR controlled manually. Current LR: 0.000181\n",
            "\n",
            "--- Fold 4 | Epoch 4/30 ---\n"
          ]
        },
        {
          "data": {
            "application/vnd.jupyter.widget-view+json": {
              "model_id": "6b9ad967c15949c491b300cb305c1ca6",
              "version_major": 2,
              "version_minor": 0
            },
            "text/plain": [
              "train:   0%|          | 0/192 [00:00<?, ?it/s]"
            ]
          },
          "metadata": {},
          "output_type": "display_data"
        },
        {
          "name": "stdout",
          "output_type": "stream",
          "text": [
            "\n",
            "Epoch train finished. Calculating final metrics...\n",
            "--- IDH1 ---\n",
            "  Macro F1: 0.3447\n",
            "  Accuracy: 0.5260\n",
            "  Targets: [ 91 101]\n",
            "  Preds:   [  0 192]\n",
            "--------------------\n",
            "--- MGMT ---\n",
            "  Macro F1: 0.5344\n",
            "  Accuracy: 0.5417\n",
            "  Targets: [118  74]\n",
            "  Preds:   [ 50 142]\n",
            "--------------------\n",
            "--- 1p/19q ---\n",
            "  Macro F1: 0.2441\n",
            "  Accuracy: 0.3229\n",
            "  Targets: [130  62]\n",
            "  Preds:   [  0 192]\n",
            "--------------------\n",
            "--- grade ---\n",
            "  Macro F1: 0.2341\n",
            "  Accuracy: 0.3490\n",
            "  Targets: [26 68 98]\n",
            "  Preds:   [  8 181   3]\n",
            "--------------------\n"
          ]
        },
        {
          "data": {
            "application/vnd.jupyter.widget-view+json": {
              "model_id": "b4afa697b36243f7be41f13c827f8488",
              "version_major": 2,
              "version_minor": 0
            },
            "text/plain": [
              "valid:   0%|          | 0/24 [00:00<?, ?it/s]"
            ]
          },
          "metadata": {},
          "output_type": "display_data"
        },
        {
          "name": "stdout",
          "output_type": "stream",
          "text": [
            "\n",
            "Epoch valid finished. Calculating final metrics...\n",
            "--- IDH1 ---\n",
            "  Macro F1: 0.2727\n",
            "  Accuracy: 0.3750\n",
            "  Targets: [15  9]\n",
            "  Preds:   [ 0 24]\n",
            "--------------------\n",
            "--- MGMT ---\n",
            "  Macro F1: 0.3651\n",
            "  Accuracy: 0.3750\n",
            "  Targets: [10 14]\n",
            "  Preds:   [11 13]\n",
            "--------------------\n",
            "--- 1p/19q ---\n",
            "  Macro F1: 0.1429\n",
            "  Accuracy: 0.1667\n",
            "  Targets: [20  4]\n",
            "  Preds:   [ 0 24]\n",
            "--------------------\n",
            "--- grade ---\n",
            "  Macro F1: 0.1667\n",
            "  Accuracy: 0.3333\n",
            "  Targets: [ 3  8 13]\n",
            "  Preds:   [ 0 24]\n",
            "--------------------\n",
            "Epoch 4: train_loss=3.3277, val_loss=3.2222, LR=0.000241\n",
            "Train Macro F1: {'IDH1_macro_f1': '0.3447', 'MGMT_macro_f1': '0.5344', '1p/19q_macro_f1': '0.2441', 'grade_macro_f1': '0.2341'}\n",
            "Val Macro F1: {'IDH1_macro_f1': '0.2727', 'MGMT_macro_f1': '0.3651', '1p/19q_macro_f1': '0.1429', 'grade_macro_f1': '0.1667'}\n",
            "Warmup phase (Epoch 4/5). LR controlled manually. Current LR: 0.000241\n",
            "\n",
            "--- Fold 4 | Epoch 5/30 ---\n"
          ]
        },
        {
          "data": {
            "application/vnd.jupyter.widget-view+json": {
              "model_id": "31a85f2e2c644c5d87a227ceb37316d4",
              "version_major": 2,
              "version_minor": 0
            },
            "text/plain": [
              "train:   0%|          | 0/192 [00:00<?, ?it/s]"
            ]
          },
          "metadata": {},
          "output_type": "display_data"
        },
        {
          "name": "stdout",
          "output_type": "stream",
          "text": [
            "\n",
            "Epoch train finished. Calculating final metrics...\n",
            "--- IDH1 ---\n",
            "  Macro F1: 0.4623\n",
            "  Accuracy: 0.5677\n",
            "  Targets: [ 79 113]\n",
            "  Preds:   [ 28 164]\n",
            "--------------------\n",
            "--- MGMT ---\n",
            "  Macro F1: 0.5987\n",
            "  Accuracy: 0.5990\n",
            "  Targets: [108  84]\n",
            "  Preds:   [ 79 113]\n",
            "--------------------\n",
            "--- 1p/19q ---\n",
            "  Macro F1: 0.2587\n",
            "  Accuracy: 0.3385\n",
            "  Targets: [128  64]\n",
            "  Preds:   [  1 191]\n",
            "--------------------\n",
            "--- grade ---\n",
            "  Macro F1: 0.2258\n",
            "  Accuracy: 0.3958\n",
            "  Targets: [31 74 87]\n",
            "  Preds:   [  6 186]\n",
            "--------------------\n"
          ]
        },
        {
          "data": {
            "application/vnd.jupyter.widget-view+json": {
              "model_id": "893454993b6149e59629a92c6123ad8f",
              "version_major": 2,
              "version_minor": 0
            },
            "text/plain": [
              "valid:   0%|          | 0/24 [00:00<?, ?it/s]"
            ]
          },
          "metadata": {},
          "output_type": "display_data"
        },
        {
          "name": "stdout",
          "output_type": "stream",
          "text": [
            "\n",
            "Epoch valid finished. Calculating final metrics...\n",
            "--- IDH1 ---\n",
            "  Macro F1: 0.2727\n",
            "  Accuracy: 0.3750\n",
            "  Targets: [15  9]\n",
            "  Preds:   [ 0 24]\n",
            "--------------------\n",
            "--- MGMT ---\n",
            "  Macro F1: 0.3684\n",
            "  Accuracy: 0.5833\n",
            "  Targets: [10 14]\n",
            "  Preds:   [ 0 24]\n",
            "--------------------\n",
            "--- 1p/19q ---\n",
            "  Macro F1: 0.1429\n",
            "  Accuracy: 0.1667\n",
            "  Targets: [20  4]\n",
            "  Preds:   [ 0 24]\n",
            "--------------------\n",
            "--- grade ---\n",
            "  Macro F1: 0.1667\n",
            "  Accuracy: 0.3333\n",
            "  Targets: [ 3  8 13]\n",
            "  Preds:   [ 0 24]\n",
            "--------------------\n",
            "Epoch 5: train_loss=3.5201, val_loss=3.2397, LR=0.000300\n",
            "Train Macro F1: {'IDH1_macro_f1': '0.4623', 'MGMT_macro_f1': '0.5987', '1p/19q_macro_f1': '0.2587', 'grade_macro_f1': '0.2258'}\n",
            "Val Macro F1: {'IDH1_macro_f1': '0.2727', 'MGMT_macro_f1': '0.3684', '1p/19q_macro_f1': '0.1429', 'grade_macro_f1': '0.1667'}\n",
            "\n",
            "--- Fold 4 | Epoch 6/30 ---\n"
          ]
        },
        {
          "data": {
            "application/vnd.jupyter.widget-view+json": {
              "model_id": "51c55c29f3144870bd93ce6bdc4054cb",
              "version_major": 2,
              "version_minor": 0
            },
            "text/plain": [
              "train:   0%|          | 0/192 [00:00<?, ?it/s]"
            ]
          },
          "metadata": {},
          "output_type": "display_data"
        },
        {
          "name": "stdout",
          "output_type": "stream",
          "text": [
            "\n",
            "Epoch train finished. Calculating final metrics...\n",
            "--- IDH1 ---\n",
            "  Macro F1: 0.4332\n",
            "  Accuracy: 0.5417\n",
            "  Targets: [94 98]\n",
            "  Preds:   [ 14 178]\n",
            "--------------------\n",
            "--- MGMT ---\n",
            "  Macro F1: 0.4229\n",
            "  Accuracy: 0.4479\n",
            "  Targets: [118  74]\n",
            "  Preds:   [ 34 158]\n",
            "--------------------\n",
            "--- 1p/19q ---\n",
            "  Macro F1: 0.2941\n",
            "  Accuracy: 0.3542\n",
            "  Targets: [125  67]\n",
            "  Preds:   [ 11 181]\n",
            "--------------------\n",
            "--- grade ---\n",
            "  Macro F1: 0.3231\n",
            "  Accuracy: 0.3854\n",
            "  Targets: [ 25  67 100]\n",
            "  Preds:   [  7 185]\n",
            "--------------------\n"
          ]
        },
        {
          "data": {
            "application/vnd.jupyter.widget-view+json": {
              "model_id": "bbe68f59687743238c2ae4a8e2d8e766",
              "version_major": 2,
              "version_minor": 0
            },
            "text/plain": [
              "valid:   0%|          | 0/24 [00:00<?, ?it/s]"
            ]
          },
          "metadata": {},
          "output_type": "display_data"
        },
        {
          "name": "stdout",
          "output_type": "stream",
          "text": [
            "\n",
            "Epoch valid finished. Calculating final metrics...\n",
            "--- IDH1 ---\n",
            "  Macro F1: 0.2727\n",
            "  Accuracy: 0.3750\n",
            "  Targets: [15  9]\n",
            "  Preds:   [ 0 24]\n",
            "--------------------\n",
            "--- MGMT ---\n",
            "  Macro F1: 0.4965\n",
            "  Accuracy: 0.5000\n",
            "  Targets: [10 14]\n",
            "  Preds:   [16  8]\n",
            "--------------------\n",
            "--- 1p/19q ---\n",
            "  Macro F1: 0.1429\n",
            "  Accuracy: 0.1667\n",
            "  Targets: [20  4]\n",
            "  Preds:   [ 0 24]\n",
            "--------------------\n",
            "--- grade ---\n",
            "  Macro F1: 0.1556\n",
            "  Accuracy: 0.2917\n",
            "  Targets: [ 3  8 13]\n",
            "  Preds:   [ 2 22]\n",
            "--------------------\n",
            "Epoch 6: train_loss=3.1599, val_loss=3.1947, LR=0.000300\n",
            "Train Macro F1: {'IDH1_macro_f1': '0.4332', 'MGMT_macro_f1': '0.4229', '1p/19q_macro_f1': '0.2941', 'grade_macro_f1': '0.3231'}\n",
            "Val Macro F1: {'IDH1_macro_f1': '0.2727', 'MGMT_macro_f1': '0.4965', '1p/19q_macro_f1': '0.1429', 'grade_macro_f1': '0.1556'}\n",
            "\n",
            "--- Fold 4 | Epoch 7/30 ---\n"
          ]
        },
        {
          "data": {
            "application/vnd.jupyter.widget-view+json": {
              "model_id": "b0c09d50455f406b951fd1371fbb6dfa",
              "version_major": 2,
              "version_minor": 0
            },
            "text/plain": [
              "train:   0%|          | 0/192 [00:00<?, ?it/s]"
            ]
          },
          "metadata": {},
          "output_type": "display_data"
        },
        {
          "name": "stdout",
          "output_type": "stream",
          "text": [
            "\n",
            "Epoch train finished. Calculating final metrics...\n",
            "--- IDH1 ---\n",
            "  Macro F1: 0.4332\n",
            "  Accuracy: 0.5417\n",
            "  Targets: [ 89 103]\n",
            "  Preds:   [ 19 173]\n",
            "--------------------\n",
            "--- MGMT ---\n",
            "  Macro F1: 0.4536\n",
            "  Accuracy: 0.5052\n",
            "  Targets: [118  74]\n",
            "  Preds:   [133  59]\n",
            "--------------------\n",
            "--- 1p/19q ---\n",
            "  Macro F1: 0.2500\n",
            "  Accuracy: 0.3333\n",
            "  Targets: [128  64]\n",
            "  Preds:   [  0 192]\n",
            "--------------------\n",
            "--- grade ---\n",
            "  Macro F1: 0.2161\n",
            "  Accuracy: 0.3125\n",
            "  Targets: [34 60 98]\n",
            "  Preds:   [  6 179   7]\n",
            "--------------------\n"
          ]
        },
        {
          "data": {
            "application/vnd.jupyter.widget-view+json": {
              "model_id": "62bddf9281334535ab8c8422580648fc",
              "version_major": 2,
              "version_minor": 0
            },
            "text/plain": [
              "valid:   0%|          | 0/24 [00:00<?, ?it/s]"
            ]
          },
          "metadata": {},
          "output_type": "display_data"
        },
        {
          "name": "stdout",
          "output_type": "stream",
          "text": [
            "\n",
            "Epoch valid finished. Calculating final metrics...\n",
            "--- IDH1 ---\n",
            "  Macro F1: 0.2727\n",
            "  Accuracy: 0.3750\n",
            "  Targets: [15  9]\n",
            "  Preds:   [ 0 24]\n",
            "--------------------\n",
            "--- MGMT ---\n",
            "  Macro F1: 0.3684\n",
            "  Accuracy: 0.5833\n",
            "  Targets: [10 14]\n",
            "  Preds:   [ 0 24]\n",
            "--------------------\n",
            "--- 1p/19q ---\n",
            "  Macro F1: 0.1429\n",
            "  Accuracy: 0.1667\n",
            "  Targets: [20  4]\n",
            "  Preds:   [ 0 24]\n",
            "--------------------\n",
            "--- grade ---\n",
            "  Macro F1: 0.0741\n",
            "  Accuracy: 0.1250\n",
            "  Targets: [ 3  8 13]\n",
            "  Preds:   [24]\n",
            "--------------------\n",
            "Epoch 7: train_loss=3.6481, val_loss=3.2382, LR=0.000300\n",
            "Train Macro F1: {'IDH1_macro_f1': '0.4332', 'MGMT_macro_f1': '0.4536', '1p/19q_macro_f1': '0.2500', 'grade_macro_f1': '0.2161'}\n",
            "Val Macro F1: {'IDH1_macro_f1': '0.2727', 'MGMT_macro_f1': '0.3684', '1p/19q_macro_f1': '0.1429', 'grade_macro_f1': '0.0741'}\n",
            "\n",
            "--- Fold 4 | Epoch 8/30 ---\n"
          ]
        },
        {
          "data": {
            "application/vnd.jupyter.widget-view+json": {
              "model_id": "66bd62918b304300855cd355eff78d55",
              "version_major": 2,
              "version_minor": 0
            },
            "text/plain": [
              "train:   0%|          | 0/192 [00:00<?, ?it/s]"
            ]
          },
          "metadata": {},
          "output_type": "display_data"
        },
        {
          "name": "stdout",
          "output_type": "stream",
          "text": [
            "\n",
            "Epoch train finished. Calculating final metrics...\n",
            "--- IDH1 ---\n",
            "  Macro F1: 0.4185\n",
            "  Accuracy: 0.4792\n",
            "  Targets: [97 95]\n",
            "  Preds:   [ 33 159]\n",
            "--------------------\n",
            "--- MGMT ---\n",
            "  Macro F1: 0.4511\n",
            "  Accuracy: 0.4583\n",
            "  Targets: [118  74]\n",
            "  Preds:   [ 52 140]\n",
            "--------------------\n",
            "--- 1p/19q ---\n",
            "  Macro F1: 0.2320\n",
            "  Accuracy: 0.3021\n",
            "  Targets: [134  58]\n",
            "  Preds:   [  0 192]\n",
            "--------------------\n",
            "--- grade ---\n",
            "  Macro F1: 0.1496\n",
            "  Accuracy: 0.1510\n",
            "  Targets: [ 24  65 103]\n",
            "  Preds:   [152  26  14]\n",
            "--------------------\n"
          ]
        },
        {
          "data": {
            "application/vnd.jupyter.widget-view+json": {
              "model_id": "ef871ec47c504376b5da4751aa4e6066",
              "version_major": 2,
              "version_minor": 0
            },
            "text/plain": [
              "valid:   0%|          | 0/24 [00:00<?, ?it/s]"
            ]
          },
          "metadata": {},
          "output_type": "display_data"
        },
        {
          "name": "stdout",
          "output_type": "stream",
          "text": [
            "\n",
            "Epoch valid finished. Calculating final metrics...\n",
            "--- IDH1 ---\n",
            "  Macro F1: 0.3846\n",
            "  Accuracy: 0.6250\n",
            "  Targets: [15  9]\n",
            "  Preds:   [24]\n",
            "--------------------\n",
            "--- MGMT ---\n",
            "  Macro F1: 0.2941\n",
            "  Accuracy: 0.4167\n",
            "  Targets: [10 14]\n",
            "  Preds:   [24]\n",
            "--------------------\n",
            "--- 1p/19q ---\n",
            "  Macro F1: 0.1429\n",
            "  Accuracy: 0.1667\n",
            "  Targets: [20  4]\n",
            "  Preds:   [ 0 24]\n",
            "--------------------\n",
            "--- grade ---\n",
            "  Macro F1: 0.2342\n",
            "  Accuracy: 0.5417\n",
            "  Targets: [ 3  8 13]\n",
            "  Preds:   [ 0  0 24]\n",
            "--------------------\n",
            "Epoch 8: train_loss=3.3183, val_loss=3.2258, LR=0.000300\n",
            "Train Macro F1: {'IDH1_macro_f1': '0.4185', 'MGMT_macro_f1': '0.4511', '1p/19q_macro_f1': '0.2320', 'grade_macro_f1': '0.1496'}\n",
            "Val Macro F1: {'IDH1_macro_f1': '0.3846', 'MGMT_macro_f1': '0.2941', '1p/19q_macro_f1': '0.1429', 'grade_macro_f1': '0.2342'}\n",
            "Validation F1 ('grade') improved (0.1667 --> 0.2342). Saving model...\n",
            "\n",
            "--- Fold 4 | Epoch 9/30 ---\n"
          ]
        },
        {
          "data": {
            "application/vnd.jupyter.widget-view+json": {
              "model_id": "8dd39bee504b4c0884475bdcc847ae43",
              "version_major": 2,
              "version_minor": 0
            },
            "text/plain": [
              "train:   0%|          | 0/192 [00:00<?, ?it/s]"
            ]
          },
          "metadata": {},
          "output_type": "display_data"
        },
        {
          "name": "stdout",
          "output_type": "stream",
          "text": [
            "\n",
            "Epoch train finished. Calculating final metrics...\n",
            "--- IDH1 ---\n",
            "  Macro F1: 0.4764\n",
            "  Accuracy: 0.5052\n",
            "  Targets: [100  92]\n",
            "  Preds:   [137  55]\n",
            "--------------------\n",
            "--- MGMT ---\n",
            "  Macro F1: 0.4462\n",
            "  Accuracy: 0.4740\n",
            "  Targets: [119  73]\n",
            "  Preds:   [116  76]\n",
            "--------------------\n",
            "--- 1p/19q ---\n",
            "  Macro F1: 0.3772\n",
            "  Accuracy: 0.3854\n",
            "  Targets: [134  58]\n",
            "  Preds:   [ 36 156]\n",
            "--------------------\n",
            "--- grade ---\n",
            "  Macro F1: 0.3373\n",
            "  Accuracy: 0.4115\n",
            "  Targets: [ 29  56 107]\n",
            "  Preds:   [ 40  50 102]\n",
            "--------------------\n"
          ]
        },
        {
          "data": {
            "application/vnd.jupyter.widget-view+json": {
              "model_id": "ccae314ca1fa4c628db22427168a09f1",
              "version_major": 2,
              "version_minor": 0
            },
            "text/plain": [
              "valid:   0%|          | 0/24 [00:00<?, ?it/s]"
            ]
          },
          "metadata": {},
          "output_type": "display_data"
        },
        {
          "name": "stdout",
          "output_type": "stream",
          "text": [
            "\n",
            "Epoch valid finished. Calculating final metrics...\n",
            "--- IDH1 ---\n",
            "  Macro F1: 0.3846\n",
            "  Accuracy: 0.6250\n",
            "  Targets: [15  9]\n",
            "  Preds:   [24]\n",
            "--------------------\n",
            "--- MGMT ---\n",
            "  Macro F1: 0.3684\n",
            "  Accuracy: 0.5833\n",
            "  Targets: [10 14]\n",
            "  Preds:   [ 0 24]\n",
            "--------------------\n",
            "--- 1p/19q ---\n",
            "  Macro F1: 0.1429\n",
            "  Accuracy: 0.1667\n",
            "  Targets: [20  4]\n",
            "  Preds:   [ 0 24]\n",
            "--------------------\n",
            "--- grade ---\n",
            "  Macro F1: 0.0741\n",
            "  Accuracy: 0.1250\n",
            "  Targets: [ 3  8 13]\n",
            "  Preds:   [24]\n",
            "--------------------\n",
            "Epoch 9: train_loss=3.3524, val_loss=3.2227, LR=0.000300\n",
            "Train Macro F1: {'IDH1_macro_f1': '0.4764', 'MGMT_macro_f1': '0.4462', '1p/19q_macro_f1': '0.3772', 'grade_macro_f1': '0.3373'}\n",
            "Val Macro F1: {'IDH1_macro_f1': '0.3846', 'MGMT_macro_f1': '0.3684', '1p/19q_macro_f1': '0.1429', 'grade_macro_f1': '0.0741'}\n",
            "\n",
            "--- Fold 4 | Epoch 10/30 ---\n"
          ]
        },
        {
          "data": {
            "application/vnd.jupyter.widget-view+json": {
              "model_id": "1c4633916dc745ed90456e9b43812011",
              "version_major": 2,
              "version_minor": 0
            },
            "text/plain": [
              "train:   0%|          | 0/192 [00:00<?, ?it/s]"
            ]
          },
          "metadata": {},
          "output_type": "display_data"
        },
        {
          "name": "stdout",
          "output_type": "stream",
          "text": [
            "\n",
            "Epoch train finished. Calculating final metrics...\n",
            "--- IDH1 ---\n",
            "  Macro F1: 0.4681\n",
            "  Accuracy: 0.4948\n",
            "  Targets: [ 83 109]\n",
            "  Preds:   [ 66 126]\n",
            "--------------------\n",
            "--- MGMT ---\n",
            "  Macro F1: 0.3531\n",
            "  Accuracy: 0.4740\n",
            "  Targets: [104  88]\n",
            "  Preds:   [  5 187]\n",
            "--------------------\n",
            "--- 1p/19q ---\n",
            "  Macro F1: 0.2625\n",
            "  Accuracy: 0.3125\n",
            "  Targets: [130  62]\n",
            "  Preds:   [ 12 180]\n",
            "--------------------\n",
            "--- grade ---\n",
            "  Macro F1: 0.2378\n",
            "  Accuracy: 0.2865\n",
            "  Targets: [19 76 97]\n",
            "  Preds:   [ 66 103  23]\n",
            "--------------------\n"
          ]
        },
        {
          "data": {
            "application/vnd.jupyter.widget-view+json": {
              "model_id": "ad963e9f1ca849ecb5c0e82457047486",
              "version_major": 2,
              "version_minor": 0
            },
            "text/plain": [
              "valid:   0%|          | 0/24 [00:00<?, ?it/s]"
            ]
          },
          "metadata": {},
          "output_type": "display_data"
        },
        {
          "name": "stdout",
          "output_type": "stream",
          "text": [
            "\n",
            "Epoch valid finished. Calculating final metrics...\n",
            "--- IDH1 ---\n",
            "  Macro F1: 0.2727\n",
            "  Accuracy: 0.3750\n",
            "  Targets: [15  9]\n",
            "  Preds:   [ 0 24]\n",
            "--------------------\n",
            "--- MGMT ---\n",
            "  Macro F1: 0.3684\n",
            "  Accuracy: 0.5833\n",
            "  Targets: [10 14]\n",
            "  Preds:   [ 0 24]\n",
            "--------------------\n",
            "--- 1p/19q ---\n",
            "  Macro F1: 0.1429\n",
            "  Accuracy: 0.1667\n",
            "  Targets: [20  4]\n",
            "  Preds:   [ 0 24]\n",
            "--------------------\n",
            "--- grade ---\n",
            "  Macro F1: 0.1667\n",
            "  Accuracy: 0.3333\n",
            "  Targets: [ 3  8 13]\n",
            "  Preds:   [ 0 24]\n",
            "--------------------\n",
            "Epoch 10: train_loss=3.1826, val_loss=3.2172, LR=0.000300\n",
            "Train Macro F1: {'IDH1_macro_f1': '0.4681', 'MGMT_macro_f1': '0.3531', '1p/19q_macro_f1': '0.2625', 'grade_macro_f1': '0.2378'}\n",
            "Val Macro F1: {'IDH1_macro_f1': '0.2727', 'MGMT_macro_f1': '0.3684', '1p/19q_macro_f1': '0.1429', 'grade_macro_f1': '0.1667'}\n",
            "\n",
            "--- Fold 4 | Epoch 11/30 ---\n"
          ]
        },
        {
          "data": {
            "application/vnd.jupyter.widget-view+json": {
              "model_id": "caa37560539a4247a91d6e355f9c2050",
              "version_major": 2,
              "version_minor": 0
            },
            "text/plain": [
              "train:   0%|          | 0/192 [00:00<?, ?it/s]"
            ]
          },
          "metadata": {},
          "output_type": "display_data"
        },
        {
          "name": "stdout",
          "output_type": "stream",
          "text": [
            "\n",
            "Epoch train finished. Calculating final metrics...\n",
            "--- IDH1 ---\n",
            "  Macro F1: 0.3661\n",
            "  Accuracy: 0.5312\n",
            "  Targets: [ 89 103]\n",
            "  Preds:   [  5 187]\n",
            "--------------------\n",
            "--- MGMT ---\n",
            "  Macro F1: 0.4623\n",
            "  Accuracy: 0.4792\n",
            "  Targets: [113  79]\n",
            "  Preds:   [ 45 147]\n",
            "--------------------\n",
            "--- 1p/19q ---\n",
            "  Macro F1: 0.2529\n",
            "  Accuracy: 0.3385\n",
            "  Targets: [127  65]\n",
            "  Preds:   [  0 192]\n",
            "--------------------\n",
            "--- grade ---\n",
            "  Macro F1: 0.1705\n",
            "  Accuracy: 0.3438\n",
            "  Targets: [30 66 96]\n",
            "  Preds:   [  0 192]\n",
            "--------------------\n"
          ]
        },
        {
          "data": {
            "application/vnd.jupyter.widget-view+json": {
              "model_id": "e0b7653a81324ca4b753b1af7a9d9ea7",
              "version_major": 2,
              "version_minor": 0
            },
            "text/plain": [
              "valid:   0%|          | 0/24 [00:00<?, ?it/s]"
            ]
          },
          "metadata": {},
          "output_type": "display_data"
        },
        {
          "name": "stdout",
          "output_type": "stream",
          "text": [
            "\n",
            "Epoch valid finished. Calculating final metrics...\n",
            "--- IDH1 ---\n",
            "  Macro F1: 0.2727\n",
            "  Accuracy: 0.3750\n",
            "  Targets: [15  9]\n",
            "  Preds:   [ 0 24]\n",
            "--------------------\n",
            "--- MGMT ---\n",
            "  Macro F1: 0.3438\n",
            "  Accuracy: 0.4167\n",
            "  Targets: [10 14]\n",
            "  Preds:   [22  2]\n",
            "--------------------\n",
            "--- 1p/19q ---\n",
            "  Macro F1: 0.1429\n",
            "  Accuracy: 0.1667\n",
            "  Targets: [20  4]\n",
            "  Preds:   [ 0 24]\n",
            "--------------------\n",
            "--- grade ---\n",
            "  Macro F1: 0.1667\n",
            "  Accuracy: 0.3333\n",
            "  Targets: [ 3  8 13]\n",
            "  Preds:   [ 0 24]\n",
            "--------------------\n",
            "Epoch 11: train_loss=3.5226, val_loss=3.2344, LR=0.000300\n",
            "Train Macro F1: {'IDH1_macro_f1': '0.3661', 'MGMT_macro_f1': '0.4623', '1p/19q_macro_f1': '0.2529', 'grade_macro_f1': '0.1705'}\n",
            "Val Macro F1: {'IDH1_macro_f1': '0.2727', 'MGMT_macro_f1': '0.3438', '1p/19q_macro_f1': '0.1429', 'grade_macro_f1': '0.1667'}\n",
            "\n",
            "--- Fold 4 | Epoch 12/30 ---\n"
          ]
        },
        {
          "data": {
            "application/vnd.jupyter.widget-view+json": {
              "model_id": "43e9eff00ed04f6195f8205a55842323",
              "version_major": 2,
              "version_minor": 0
            },
            "text/plain": [
              "train:   0%|          | 0/192 [00:00<?, ?it/s]"
            ]
          },
          "metadata": {},
          "output_type": "display_data"
        },
        {
          "name": "stdout",
          "output_type": "stream",
          "text": [
            "\n",
            "Epoch train finished. Calculating final metrics...\n",
            "--- IDH1 ---\n",
            "  Macro F1: 0.3356\n",
            "  Accuracy: 0.5052\n",
            "  Targets: [94 98]\n",
            "  Preds:   [  1 191]\n",
            "--------------------\n",
            "--- MGMT ---\n",
            "  Macro F1: 0.5156\n",
            "  Accuracy: 0.5208\n",
            "  Targets: [117  75]\n",
            "  Preds:   [95 97]\n",
            "--------------------\n",
            "--- 1p/19q ---\n",
            "  Macro F1: 0.2356\n",
            "  Accuracy: 0.2917\n",
            "  Targets: [138  54]\n",
            "  Preds:   [  2 190]\n",
            "--------------------\n",
            "--- grade ---\n",
            "  Macro F1: 0.2188\n",
            "  Accuracy: 0.3281\n",
            "  Targets: [ 24  56 112]\n",
            "  Preds:   [  0 162  30]\n",
            "--------------------\n"
          ]
        },
        {
          "data": {
            "application/vnd.jupyter.widget-view+json": {
              "model_id": "9bb25b09b0a946f382126397e895cf56",
              "version_major": 2,
              "version_minor": 0
            },
            "text/plain": [
              "valid:   0%|          | 0/24 [00:00<?, ?it/s]"
            ]
          },
          "metadata": {},
          "output_type": "display_data"
        },
        {
          "name": "stdout",
          "output_type": "stream",
          "text": [
            "\n",
            "Epoch valid finished. Calculating final metrics...\n",
            "--- IDH1 ---\n",
            "  Macro F1: 0.2727\n",
            "  Accuracy: 0.3750\n",
            "  Targets: [15  9]\n",
            "  Preds:   [ 0 24]\n",
            "--------------------\n",
            "--- MGMT ---\n",
            "  Macro F1: 0.3684\n",
            "  Accuracy: 0.5833\n",
            "  Targets: [10 14]\n",
            "  Preds:   [ 0 24]\n",
            "--------------------\n",
            "--- 1p/19q ---\n",
            "  Macro F1: 0.1429\n",
            "  Accuracy: 0.1667\n",
            "  Targets: [20  4]\n",
            "  Preds:   [ 0 24]\n",
            "--------------------\n",
            "--- grade ---\n",
            "  Macro F1: 0.2342\n",
            "  Accuracy: 0.5417\n",
            "  Targets: [ 3  8 13]\n",
            "  Preds:   [ 0  0 24]\n",
            "--------------------\n",
            "Epoch 12: train_loss=3.1509, val_loss=3.2183, LR=0.000300\n",
            "Train Macro F1: {'IDH1_macro_f1': '0.3356', 'MGMT_macro_f1': '0.5156', '1p/19q_macro_f1': '0.2356', 'grade_macro_f1': '0.2188'}\n",
            "Val Macro F1: {'IDH1_macro_f1': '0.2727', 'MGMT_macro_f1': '0.3684', '1p/19q_macro_f1': '0.1429', 'grade_macro_f1': '0.2342'}\n",
            "\n",
            "--- Fold 4 | Epoch 13/30 ---\n"
          ]
        },
        {
          "data": {
            "application/vnd.jupyter.widget-view+json": {
              "model_id": "df2add6de28043f5a92c6ed0da79dc12",
              "version_major": 2,
              "version_minor": 0
            },
            "text/plain": [
              "train:   0%|          | 0/192 [00:00<?, ?it/s]"
            ]
          },
          "metadata": {},
          "output_type": "display_data"
        },
        {
          "name": "stdout",
          "output_type": "stream",
          "text": [
            "\n",
            "Epoch train finished. Calculating final metrics...\n",
            "--- IDH1 ---\n",
            "  Macro F1: 0.4038\n",
            "  Accuracy: 0.4948\n",
            "  Targets: [ 92 100]\n",
            "  Preds:   [ 25 167]\n",
            "--------------------\n",
            "--- MGMT ---\n",
            "  Macro F1: 0.4536\n",
            "  Accuracy: 0.5052\n",
            "  Targets: [106  86]\n",
            "  Preds:   [ 27 165]\n",
            "--------------------\n",
            "--- 1p/19q ---\n",
            "  Macro F1: 0.2119\n",
            "  Accuracy: 0.2552\n",
            "  Targets: [143  49]\n",
            "  Preds:   [  4 188]\n",
            "--------------------\n",
            "--- grade ---\n",
            "  Macro F1: 0.3308\n",
            "  Accuracy: 0.5052\n",
            "  Targets: [ 27  62 103]\n",
            "  Preds:   [  3  38 151]\n",
            "--------------------\n"
          ]
        },
        {
          "data": {
            "application/vnd.jupyter.widget-view+json": {
              "model_id": "dc30056c93764d7e9c25b7da3439dc58",
              "version_major": 2,
              "version_minor": 0
            },
            "text/plain": [
              "valid:   0%|          | 0/24 [00:00<?, ?it/s]"
            ]
          },
          "metadata": {},
          "output_type": "display_data"
        },
        {
          "name": "stdout",
          "output_type": "stream",
          "text": [
            "\n",
            "Epoch valid finished. Calculating final metrics...\n",
            "--- IDH1 ---\n",
            "  Macro F1: 0.2727\n",
            "  Accuracy: 0.3750\n",
            "  Targets: [15  9]\n",
            "  Preds:   [ 0 24]\n",
            "--------------------\n",
            "--- MGMT ---\n",
            "  Macro F1: 0.3684\n",
            "  Accuracy: 0.5833\n",
            "  Targets: [10 14]\n",
            "  Preds:   [ 0 24]\n",
            "--------------------\n",
            "--- 1p/19q ---\n",
            "  Macro F1: 0.1429\n",
            "  Accuracy: 0.1667\n",
            "  Targets: [20  4]\n",
            "  Preds:   [ 0 24]\n",
            "--------------------\n",
            "--- grade ---\n",
            "  Macro F1: 0.2342\n",
            "  Accuracy: 0.5417\n",
            "  Targets: [ 3  8 13]\n",
            "  Preds:   [ 0  0 24]\n",
            "--------------------\n",
            "Epoch 13: train_loss=3.3237, val_loss=3.2117, LR=0.000150\n",
            "Train Macro F1: {'IDH1_macro_f1': '0.4038', 'MGMT_macro_f1': '0.4536', '1p/19q_macro_f1': '0.2119', 'grade_macro_f1': '0.3308'}\n",
            "Val Macro F1: {'IDH1_macro_f1': '0.2727', 'MGMT_macro_f1': '0.3684', '1p/19q_macro_f1': '0.1429', 'grade_macro_f1': '0.2342'}\n",
            "\n",
            "--- Fold 4 | Epoch 14/30 ---\n"
          ]
        },
        {
          "data": {
            "application/vnd.jupyter.widget-view+json": {
              "model_id": "c5d7a98b486148feb0db06c12db261fd",
              "version_major": 2,
              "version_minor": 0
            },
            "text/plain": [
              "train:   0%|          | 0/192 [00:00<?, ?it/s]"
            ]
          },
          "metadata": {},
          "output_type": "display_data"
        },
        {
          "name": "stdout",
          "output_type": "stream",
          "text": [
            "\n",
            "Epoch train finished. Calculating final metrics...\n",
            "--- IDH1 ---\n",
            "  Macro F1: 0.4805\n",
            "  Accuracy: 0.5312\n",
            "  Targets: [ 90 102]\n",
            "  Preds:   [ 42 150]\n",
            "--------------------\n",
            "--- MGMT ---\n",
            "  Macro F1: 0.3135\n",
            "  Accuracy: 0.3698\n",
            "  Targets: [124  68]\n",
            "  Preds:   [ 13 179]\n",
            "--------------------\n",
            "--- 1p/19q ---\n",
            "  Macro F1: 0.3440\n",
            "  Accuracy: 0.3646\n",
            "  Targets: [136  56]\n",
            "  Preds:   [ 22 170]\n",
            "--------------------\n",
            "--- grade ---\n",
            "  Macro F1: 0.3580\n",
            "  Accuracy: 0.4375\n",
            "  Targets: [29 68 95]\n",
            "  Preds:   [ 27  41 124]\n",
            "--------------------\n"
          ]
        },
        {
          "data": {
            "application/vnd.jupyter.widget-view+json": {
              "model_id": "a423b2660c6a4a3ca5e59883178f9ade",
              "version_major": 2,
              "version_minor": 0
            },
            "text/plain": [
              "valid:   0%|          | 0/24 [00:00<?, ?it/s]"
            ]
          },
          "metadata": {},
          "output_type": "display_data"
        },
        {
          "name": "stdout",
          "output_type": "stream",
          "text": [
            "\n",
            "Epoch valid finished. Calculating final metrics...\n",
            "--- IDH1 ---\n",
            "  Macro F1: 0.2727\n",
            "  Accuracy: 0.3750\n",
            "  Targets: [15  9]\n",
            "  Preds:   [ 0 24]\n",
            "--------------------\n",
            "--- MGMT ---\n",
            "  Macro F1: 0.3684\n",
            "  Accuracy: 0.5833\n",
            "  Targets: [10 14]\n",
            "  Preds:   [ 0 24]\n",
            "--------------------\n",
            "--- 1p/19q ---\n",
            "  Macro F1: 0.1429\n",
            "  Accuracy: 0.1667\n",
            "  Targets: [20  4]\n",
            "  Preds:   [ 0 24]\n",
            "--------------------\n",
            "--- grade ---\n",
            "  Macro F1: 0.1667\n",
            "  Accuracy: 0.3333\n",
            "  Targets: [ 3  8 13]\n",
            "  Preds:   [ 0 24]\n",
            "--------------------\n",
            "Epoch 14: train_loss=3.4411, val_loss=3.2137, LR=0.000150\n",
            "Train Macro F1: {'IDH1_macro_f1': '0.4805', 'MGMT_macro_f1': '0.3135', '1p/19q_macro_f1': '0.3440', 'grade_macro_f1': '0.3580'}\n",
            "Val Macro F1: {'IDH1_macro_f1': '0.2727', 'MGMT_macro_f1': '0.3684', '1p/19q_macro_f1': '0.1429', 'grade_macro_f1': '0.1667'}\n",
            "\n",
            "--- Fold 4 | Epoch 15/30 ---\n"
          ]
        },
        {
          "data": {
            "application/vnd.jupyter.widget-view+json": {
              "model_id": "b871e07606474ba8bad45f0c08ab235a",
              "version_major": 2,
              "version_minor": 0
            },
            "text/plain": [
              "train:   0%|          | 0/192 [00:00<?, ?it/s]"
            ]
          },
          "metadata": {},
          "output_type": "display_data"
        },
        {
          "name": "stdout",
          "output_type": "stream",
          "text": [
            "\n",
            "Epoch train finished. Calculating final metrics...\n",
            "--- IDH1 ---\n",
            "  Macro F1: 0.4555\n",
            "  Accuracy: 0.5573\n",
            "  Targets: [ 77 115]\n",
            "  Preds:   [ 32 160]\n",
            "--------------------\n",
            "--- MGMT ---\n",
            "  Macro F1: 0.4113\n",
            "  Accuracy: 0.4688\n",
            "  Targets: [106  86]\n",
            "  Preds:   [ 26 166]\n",
            "--------------------\n",
            "--- 1p/19q ---\n",
            "  Macro F1: 0.3147\n",
            "  Accuracy: 0.3594\n",
            "  Targets: [131  61]\n",
            "  Preds:   [ 12 180]\n",
            "--------------------\n",
            "--- grade ---\n",
            "  Macro F1: 0.2138\n",
            "  Accuracy: 0.3073\n",
            "  Targets: [30 73 89]\n",
            "  Preds:   [ 25 152  15]\n",
            "--------------------\n"
          ]
        },
        {
          "data": {
            "application/vnd.jupyter.widget-view+json": {
              "model_id": "87b9d31661c04a2eb2de08f3cf59a1a4",
              "version_major": 2,
              "version_minor": 0
            },
            "text/plain": [
              "valid:   0%|          | 0/24 [00:00<?, ?it/s]"
            ]
          },
          "metadata": {},
          "output_type": "display_data"
        },
        {
          "name": "stdout",
          "output_type": "stream",
          "text": [
            "\n",
            "Epoch valid finished. Calculating final metrics...\n",
            "--- IDH1 ---\n",
            "  Macro F1: 0.2727\n",
            "  Accuracy: 0.3750\n",
            "  Targets: [15  9]\n",
            "  Preds:   [ 0 24]\n",
            "--------------------\n",
            "--- MGMT ---\n",
            "  Macro F1: 0.3684\n",
            "  Accuracy: 0.5833\n",
            "  Targets: [10 14]\n",
            "  Preds:   [ 0 24]\n",
            "--------------------\n",
            "--- 1p/19q ---\n",
            "  Macro F1: 0.1429\n",
            "  Accuracy: 0.1667\n",
            "  Targets: [20  4]\n",
            "  Preds:   [ 0 24]\n",
            "--------------------\n",
            "--- grade ---\n",
            "  Macro F1: 0.1667\n",
            "  Accuracy: 0.3333\n",
            "  Targets: [ 3  8 13]\n",
            "  Preds:   [ 0 24]\n",
            "--------------------\n",
            "Epoch 15: train_loss=3.5555, val_loss=3.2379, LR=0.000150\n",
            "Train Macro F1: {'IDH1_macro_f1': '0.4555', 'MGMT_macro_f1': '0.4113', '1p/19q_macro_f1': '0.3147', 'grade_macro_f1': '0.2138'}\n",
            "Val Macro F1: {'IDH1_macro_f1': '0.2727', 'MGMT_macro_f1': '0.3684', '1p/19q_macro_f1': '0.1429', 'grade_macro_f1': '0.1667'}\n",
            "\n",
            "--- Fold 4 | Epoch 16/30 ---\n"
          ]
        },
        {
          "data": {
            "application/vnd.jupyter.widget-view+json": {
              "model_id": "1d382fbf4760454da8d1139ad4243777",
              "version_major": 2,
              "version_minor": 0
            },
            "text/plain": [
              "train:   0%|          | 0/192 [00:00<?, ?it/s]"
            ]
          },
          "metadata": {},
          "output_type": "display_data"
        },
        {
          "name": "stdout",
          "output_type": "stream",
          "text": [
            "\n",
            "Epoch train finished. Calculating final metrics...\n",
            "--- IDH1 ---\n",
            "  Macro F1: 0.3538\n",
            "  Accuracy: 0.4896\n",
            "  Targets: [100  92]\n",
            "  Preds:   [  4 188]\n",
            "--------------------\n",
            "--- MGMT ---\n",
            "  Macro F1: 0.3488\n",
            "  Accuracy: 0.4167\n",
            "  Targets: [116  76]\n",
            "  Preds:   [ 14 178]\n",
            "--------------------\n",
            "--- 1p/19q ---\n",
            "  Macro F1: 0.2681\n",
            "  Accuracy: 0.3281\n",
            "  Targets: [132  60]\n",
            "  Preds:   [  5 187]\n",
            "--------------------\n",
            "--- grade ---\n",
            "  Macro F1: 0.1673\n",
            "  Accuracy: 0.3281\n",
            "  Targets: [ 19  65 108]\n",
            "  Preds:   [  6 186]\n",
            "--------------------\n"
          ]
        },
        {
          "data": {
            "application/vnd.jupyter.widget-view+json": {
              "model_id": "2905757619894e3a9c0f5df25ee02551",
              "version_major": 2,
              "version_minor": 0
            },
            "text/plain": [
              "valid:   0%|          | 0/24 [00:00<?, ?it/s]"
            ]
          },
          "metadata": {},
          "output_type": "display_data"
        },
        {
          "name": "stdout",
          "output_type": "stream",
          "text": [
            "\n",
            "Epoch valid finished. Calculating final metrics...\n",
            "--- IDH1 ---\n",
            "  Macro F1: 0.2727\n",
            "  Accuracy: 0.3750\n",
            "  Targets: [15  9]\n",
            "  Preds:   [ 0 24]\n",
            "--------------------\n",
            "--- MGMT ---\n",
            "  Macro F1: 0.3684\n",
            "  Accuracy: 0.5833\n",
            "  Targets: [10 14]\n",
            "  Preds:   [ 0 24]\n",
            "--------------------\n",
            "--- 1p/19q ---\n",
            "  Macro F1: 0.1429\n",
            "  Accuracy: 0.1667\n",
            "  Targets: [20  4]\n",
            "  Preds:   [ 0 24]\n",
            "--------------------\n",
            "--- grade ---\n",
            "  Macro F1: 0.1667\n",
            "  Accuracy: 0.3333\n",
            "  Targets: [ 3  8 13]\n",
            "  Preds:   [ 0 24]\n",
            "--------------------\n",
            "Epoch 16: train_loss=3.0572, val_loss=3.2244, LR=0.000150\n",
            "Train Macro F1: {'IDH1_macro_f1': '0.3538', 'MGMT_macro_f1': '0.3488', '1p/19q_macro_f1': '0.2681', 'grade_macro_f1': '0.1673'}\n",
            "Val Macro F1: {'IDH1_macro_f1': '0.2727', 'MGMT_macro_f1': '0.3684', '1p/19q_macro_f1': '0.1429', 'grade_macro_f1': '0.1667'}\n",
            "\n",
            "--- Fold 4 | Epoch 17/30 ---\n"
          ]
        },
        {
          "data": {
            "application/vnd.jupyter.widget-view+json": {
              "model_id": "9697c47c1e3f48a6a478e7cddbde294b",
              "version_major": 2,
              "version_minor": 0
            },
            "text/plain": [
              "train:   0%|          | 0/192 [00:00<?, ?it/s]"
            ]
          },
          "metadata": {},
          "output_type": "display_data"
        },
        {
          "name": "stdout",
          "output_type": "stream",
          "text": [
            "\n",
            "Epoch train finished. Calculating final metrics...\n",
            "--- IDH1 ---\n",
            "  Macro F1: 0.3547\n",
            "  Accuracy: 0.4531\n",
            "  Targets: [106  86]\n",
            "  Preds:   [ 11 181]\n",
            "--------------------\n",
            "--- MGMT ---\n",
            "  Macro F1: 0.3957\n",
            "  Accuracy: 0.4115\n",
            "  Targets: [124  68]\n",
            "  Preds:   [ 37 155]\n",
            "--------------------\n",
            "--- 1p/19q ---\n",
            "  Macro F1: 0.2211\n",
            "  Accuracy: 0.2760\n",
            "  Targets: [137  55]\n",
            "  Preds:   [  4 188]\n",
            "--------------------\n",
            "--- grade ---\n",
            "  Macro F1: 0.1594\n",
            "  Accuracy: 0.3125\n",
            "  Targets: [ 24  60 108]\n",
            "  Preds:   [  0 191   1]\n",
            "--------------------\n"
          ]
        },
        {
          "data": {
            "application/vnd.jupyter.widget-view+json": {
              "model_id": "2fd8fc8ec9f6409a9fe06f60ed38cf49",
              "version_major": 2,
              "version_minor": 0
            },
            "text/plain": [
              "valid:   0%|          | 0/24 [00:00<?, ?it/s]"
            ]
          },
          "metadata": {},
          "output_type": "display_data"
        },
        {
          "name": "stdout",
          "output_type": "stream",
          "text": [
            "\n",
            "Epoch valid finished. Calculating final metrics...\n",
            "--- IDH1 ---\n",
            "  Macro F1: 0.2727\n",
            "  Accuracy: 0.3750\n",
            "  Targets: [15  9]\n",
            "  Preds:   [ 0 24]\n",
            "--------------------\n",
            "--- MGMT ---\n",
            "  Macro F1: 0.3684\n",
            "  Accuracy: 0.5833\n",
            "  Targets: [10 14]\n",
            "  Preds:   [ 0 24]\n",
            "--------------------\n",
            "--- 1p/19q ---\n",
            "  Macro F1: 0.1429\n",
            "  Accuracy: 0.1667\n",
            "  Targets: [20  4]\n",
            "  Preds:   [ 0 24]\n",
            "--------------------\n",
            "--- grade ---\n",
            "  Macro F1: 0.1667\n",
            "  Accuracy: 0.3333\n",
            "  Targets: [ 3  8 13]\n",
            "  Preds:   [ 0 24]\n",
            "--------------------\n",
            "Epoch 17: train_loss=3.1796, val_loss=3.2097, LR=0.000075\n",
            "Train Macro F1: {'IDH1_macro_f1': '0.3547', 'MGMT_macro_f1': '0.3957', '1p/19q_macro_f1': '0.2211', 'grade_macro_f1': '0.1594'}\n",
            "Val Macro F1: {'IDH1_macro_f1': '0.2727', 'MGMT_macro_f1': '0.3684', '1p/19q_macro_f1': '0.1429', 'grade_macro_f1': '0.1667'}\n",
            "\n",
            "--- Fold 4 | Epoch 18/30 ---\n"
          ]
        },
        {
          "data": {
            "application/vnd.jupyter.widget-view+json": {
              "model_id": "0af119cacb6d4cba9894d4dea43cca61",
              "version_major": 2,
              "version_minor": 0
            },
            "text/plain": [
              "train:   0%|          | 0/192 [00:00<?, ?it/s]"
            ]
          },
          "metadata": {},
          "output_type": "display_data"
        },
        {
          "name": "stdout",
          "output_type": "stream",
          "text": [
            "\n",
            "Epoch train finished. Calculating final metrics...\n",
            "--- IDH1 ---\n",
            "  Macro F1: 0.4925\n",
            "  Accuracy: 0.5156\n",
            "  Targets: [93 99]\n",
            "  Preds:   [ 58 134]\n",
            "--------------------\n",
            "--- MGMT ---\n",
            "  Macro F1: 0.4379\n",
            "  Accuracy: 0.4635\n",
            "  Targets: [100  92]\n",
            "  Preds:   [ 51 141]\n",
            "--------------------\n",
            "--- 1p/19q ---\n",
            "  Macro F1: 0.2299\n",
            "  Accuracy: 0.2760\n",
            "  Targets: [141  51]\n",
            "  Preds:   [  4 188]\n",
            "--------------------\n",
            "--- grade ---\n",
            "  Macro F1: 0.1796\n",
            "  Accuracy: 0.3281\n",
            "  Targets: [ 23  61 108]\n",
            "  Preds:   [  1 186   5]\n",
            "--------------------\n"
          ]
        },
        {
          "data": {
            "application/vnd.jupyter.widget-view+json": {
              "model_id": "093a50a7e06f4d9881041e778bdb9142",
              "version_major": 2,
              "version_minor": 0
            },
            "text/plain": [
              "valid:   0%|          | 0/24 [00:00<?, ?it/s]"
            ]
          },
          "metadata": {},
          "output_type": "display_data"
        },
        {
          "name": "stdout",
          "output_type": "stream",
          "text": [
            "\n",
            "Epoch valid finished. Calculating final metrics...\n",
            "--- IDH1 ---\n",
            "  Macro F1: 0.2727\n",
            "  Accuracy: 0.3750\n",
            "  Targets: [15  9]\n",
            "  Preds:   [ 0 24]\n",
            "--------------------\n",
            "--- MGMT ---\n",
            "  Macro F1: 0.3684\n",
            "  Accuracy: 0.5833\n",
            "  Targets: [10 14]\n",
            "  Preds:   [ 0 24]\n",
            "--------------------\n",
            "--- 1p/19q ---\n",
            "  Macro F1: 0.1429\n",
            "  Accuracy: 0.1667\n",
            "  Targets: [20  4]\n",
            "  Preds:   [ 0 24]\n",
            "--------------------\n",
            "--- grade ---\n",
            "  Macro F1: 0.1667\n",
            "  Accuracy: 0.3333\n",
            "  Targets: [ 3  8 13]\n",
            "  Preds:   [ 0 24]\n",
            "--------------------\n",
            "Epoch 18: train_loss=3.1466, val_loss=3.2006, LR=0.000075\n",
            "Train Macro F1: {'IDH1_macro_f1': '0.4925', 'MGMT_macro_f1': '0.4379', '1p/19q_macro_f1': '0.2299', 'grade_macro_f1': '0.1796'}\n",
            "Val Macro F1: {'IDH1_macro_f1': '0.2727', 'MGMT_macro_f1': '0.3684', '1p/19q_macro_f1': '0.1429', 'grade_macro_f1': '0.1667'}\n",
            "\n",
            "--- Fold 4 | Epoch 19/30 ---\n"
          ]
        },
        {
          "data": {
            "application/vnd.jupyter.widget-view+json": {
              "model_id": "11195bed624240698699045f0d4ca85a",
              "version_major": 2,
              "version_minor": 0
            },
            "text/plain": [
              "train:   0%|          | 0/192 [00:00<?, ?it/s]"
            ]
          },
          "metadata": {},
          "output_type": "display_data"
        },
        {
          "name": "stdout",
          "output_type": "stream",
          "text": [
            "\n",
            "Epoch train finished. Calculating final metrics...\n",
            "--- IDH1 ---\n",
            "  Macro F1: 0.4613\n",
            "  Accuracy: 0.4896\n",
            "  Targets: [ 92 100]\n",
            "  Preds:   [ 56 136]\n",
            "--------------------\n",
            "--- MGMT ---\n",
            "  Macro F1: 0.3874\n",
            "  Accuracy: 0.4167\n",
            "  Targets: [120  72]\n",
            "  Preds:   [ 30 162]\n",
            "--------------------\n",
            "--- 1p/19q ---\n",
            "  Macro F1: 0.2222\n",
            "  Accuracy: 0.2708\n",
            "  Targets: [140  52]\n",
            "  Preds:   [  4 188]\n",
            "--------------------\n",
            "--- grade ---\n",
            "  Macro F1: 0.1939\n",
            "  Accuracy: 0.3229\n",
            "  Targets: [ 26  62 104]\n",
            "  Preds:   [  1 174  17]\n",
            "--------------------\n"
          ]
        },
        {
          "data": {
            "application/vnd.jupyter.widget-view+json": {
              "model_id": "f37ac249e6e04cce9f96c07bd9d79473",
              "version_major": 2,
              "version_minor": 0
            },
            "text/plain": [
              "valid:   0%|          | 0/24 [00:00<?, ?it/s]"
            ]
          },
          "metadata": {},
          "output_type": "display_data"
        },
        {
          "name": "stdout",
          "output_type": "stream",
          "text": [
            "\n",
            "Epoch valid finished. Calculating final metrics...\n",
            "--- IDH1 ---\n",
            "  Macro F1: 0.2727\n",
            "  Accuracy: 0.3750\n",
            "  Targets: [15  9]\n",
            "  Preds:   [ 0 24]\n",
            "--------------------\n",
            "--- MGMT ---\n",
            "  Macro F1: 0.3684\n",
            "  Accuracy: 0.5833\n",
            "  Targets: [10 14]\n",
            "  Preds:   [ 0 24]\n",
            "--------------------\n",
            "--- 1p/19q ---\n",
            "  Macro F1: 0.1429\n",
            "  Accuracy: 0.1667\n",
            "  Targets: [20  4]\n",
            "  Preds:   [ 0 24]\n",
            "--------------------\n",
            "--- grade ---\n",
            "  Macro F1: 0.1667\n",
            "  Accuracy: 0.3333\n",
            "  Targets: [ 3  8 13]\n",
            "  Preds:   [ 0 24]\n",
            "--------------------\n",
            "Epoch 19: train_loss=3.2915, val_loss=3.2026, LR=0.000075\n",
            "Train Macro F1: {'IDH1_macro_f1': '0.4613', 'MGMT_macro_f1': '0.3874', '1p/19q_macro_f1': '0.2222', 'grade_macro_f1': '0.1939'}\n",
            "Val Macro F1: {'IDH1_macro_f1': '0.2727', 'MGMT_macro_f1': '0.3684', '1p/19q_macro_f1': '0.1429', 'grade_macro_f1': '0.1667'}\n",
            "\n",
            "--- Fold 4 | Epoch 20/30 ---\n"
          ]
        },
        {
          "data": {
            "application/vnd.jupyter.widget-view+json": {
              "model_id": "a1508e91588d489f8890a723f6b73132",
              "version_major": 2,
              "version_minor": 0
            },
            "text/plain": [
              "train:   0%|          | 0/192 [00:00<?, ?it/s]"
            ]
          },
          "metadata": {},
          "output_type": "display_data"
        },
        {
          "name": "stdout",
          "output_type": "stream",
          "text": [
            "\n",
            "Epoch train finished. Calculating final metrics...\n",
            "--- IDH1 ---\n",
            "  Macro F1: 0.4544\n",
            "  Accuracy: 0.4844\n",
            "  Targets: [100  92]\n",
            "  Preds:   [ 47 145]\n",
            "--------------------\n",
            "--- MGMT ---\n",
            "  Macro F1: 0.4253\n",
            "  Accuracy: 0.4583\n",
            "  Targets: [108  84]\n",
            "  Preds:   [ 38 154]\n",
            "--------------------\n",
            "--- 1p/19q ---\n",
            "  Macro F1: 0.2835\n",
            "  Accuracy: 0.3073\n",
            "  Targets: [141  51]\n",
            "  Preds:   [ 16 176]\n",
            "--------------------\n",
            "--- grade ---\n",
            "  Macro F1: 0.2686\n",
            "  Accuracy: 0.3750\n",
            "  Targets: [ 29  50 113]\n",
            "  Preds:   [  1 146  45]\n",
            "--------------------\n"
          ]
        },
        {
          "data": {
            "application/vnd.jupyter.widget-view+json": {
              "model_id": "001d06bebd0b412bb2b8157f27cb0ae6",
              "version_major": 2,
              "version_minor": 0
            },
            "text/plain": [
              "valid:   0%|          | 0/24 [00:00<?, ?it/s]"
            ]
          },
          "metadata": {},
          "output_type": "display_data"
        },
        {
          "name": "stdout",
          "output_type": "stream",
          "text": [
            "\n",
            "Epoch valid finished. Calculating final metrics...\n",
            "--- IDH1 ---\n",
            "  Macro F1: 0.2727\n",
            "  Accuracy: 0.3750\n",
            "  Targets: [15  9]\n",
            "  Preds:   [ 0 24]\n",
            "--------------------\n",
            "--- MGMT ---\n",
            "  Macro F1: 0.3684\n",
            "  Accuracy: 0.5833\n",
            "  Targets: [10 14]\n",
            "  Preds:   [ 0 24]\n",
            "--------------------\n",
            "--- 1p/19q ---\n",
            "  Macro F1: 0.1429\n",
            "  Accuracy: 0.1667\n",
            "  Targets: [20  4]\n",
            "  Preds:   [ 0 24]\n",
            "--------------------\n",
            "--- grade ---\n",
            "  Macro F1: 0.1556\n",
            "  Accuracy: 0.2917\n",
            "  Targets: [ 3  8 13]\n",
            "  Preds:   [ 0 22  2]\n",
            "--------------------\n",
            "Epoch 20: train_loss=3.2768, val_loss=3.1957, LR=0.000075\n",
            "Train Macro F1: {'IDH1_macro_f1': '0.4544', 'MGMT_macro_f1': '0.4253', '1p/19q_macro_f1': '0.2835', 'grade_macro_f1': '0.2686'}\n",
            "Val Macro F1: {'IDH1_macro_f1': '0.2727', 'MGMT_macro_f1': '0.3684', '1p/19q_macro_f1': '0.1429', 'grade_macro_f1': '0.1556'}\n",
            "\n",
            "--- Fold 4 | Epoch 21/30 ---\n"
          ]
        },
        {
          "data": {
            "application/vnd.jupyter.widget-view+json": {
              "model_id": "5728fafb41e54cda81306f596dd33e36",
              "version_major": 2,
              "version_minor": 0
            },
            "text/plain": [
              "train:   0%|          | 0/192 [00:00<?, ?it/s]"
            ]
          },
          "metadata": {},
          "output_type": "display_data"
        },
        {
          "name": "stdout",
          "output_type": "stream",
          "text": [
            "\n",
            "Epoch train finished. Calculating final metrics...\n",
            "--- IDH1 ---\n",
            "  Macro F1: 0.4899\n",
            "  Accuracy: 0.5677\n",
            "  Targets: [ 84 108]\n",
            "  Preds:   [ 33 159]\n",
            "--------------------\n",
            "--- MGMT ---\n",
            "  Macro F1: 0.3449\n",
            "  Accuracy: 0.4271\n",
            "  Targets: [110  82]\n",
            "  Preds:   [ 14 178]\n",
            "--------------------\n",
            "--- 1p/19q ---\n",
            "  Macro F1: 0.3030\n",
            "  Accuracy: 0.3542\n",
            "  Targets: [126  66]\n",
            "  Preds:   [ 14 178]\n",
            "--------------------\n",
            "--- grade ---\n",
            "  Macro F1: 0.4152\n",
            "  Accuracy: 0.4740\n",
            "  Targets: [27 72 93]\n",
            "  Preds:   [ 14 105  73]\n",
            "--------------------\n"
          ]
        },
        {
          "data": {
            "application/vnd.jupyter.widget-view+json": {
              "model_id": "c01df6ceede245bfbf21953f839c503b",
              "version_major": 2,
              "version_minor": 0
            },
            "text/plain": [
              "valid:   0%|          | 0/24 [00:00<?, ?it/s]"
            ]
          },
          "metadata": {},
          "output_type": "display_data"
        },
        {
          "name": "stdout",
          "output_type": "stream",
          "text": [
            "\n",
            "Epoch valid finished. Calculating final metrics...\n",
            "--- IDH1 ---\n",
            "  Macro F1: 0.2727\n",
            "  Accuracy: 0.3750\n",
            "  Targets: [15  9]\n",
            "  Preds:   [ 0 24]\n",
            "--------------------\n",
            "--- MGMT ---\n",
            "  Macro F1: 0.3684\n",
            "  Accuracy: 0.5833\n",
            "  Targets: [10 14]\n",
            "  Preds:   [ 0 24]\n",
            "--------------------\n",
            "--- 1p/19q ---\n",
            "  Macro F1: 0.1429\n",
            "  Accuracy: 0.1667\n",
            "  Targets: [20  4]\n",
            "  Preds:   [ 0 24]\n",
            "--------------------\n",
            "--- grade ---\n",
            "  Macro F1: 0.1720\n",
            "  Accuracy: 0.3333\n",
            "  Targets: [ 3  8 13]\n",
            "  Preds:   [ 0 23  1]\n",
            "--------------------\n",
            "Epoch 21: train_loss=3.3898, val_loss=3.2001, LR=0.000037\n",
            "Train Macro F1: {'IDH1_macro_f1': '0.4899', 'MGMT_macro_f1': '0.3449', '1p/19q_macro_f1': '0.3030', 'grade_macro_f1': '0.4152'}\n",
            "Val Macro F1: {'IDH1_macro_f1': '0.2727', 'MGMT_macro_f1': '0.3684', '1p/19q_macro_f1': '0.1429', 'grade_macro_f1': '0.1720'}\n",
            "\n",
            "--- Fold 4 | Epoch 22/30 ---\n"
          ]
        },
        {
          "data": {
            "application/vnd.jupyter.widget-view+json": {
              "model_id": "6d1b4646f2164f9c8d107301baf6857e",
              "version_major": 2,
              "version_minor": 0
            },
            "text/plain": [
              "train:   0%|          | 0/192 [00:00<?, ?it/s]"
            ]
          },
          "metadata": {},
          "output_type": "display_data"
        },
        {
          "name": "stdout",
          "output_type": "stream",
          "text": [
            "\n",
            "Epoch train finished. Calculating final metrics...\n",
            "--- IDH1 ---\n",
            "  Macro F1: 0.3779\n",
            "  Accuracy: 0.4271\n",
            "  Targets: [106  86]\n",
            "  Preds:   [ 32 160]\n",
            "--------------------\n",
            "--- MGMT ---\n",
            "  Macro F1: 0.3149\n",
            "  Accuracy: 0.3958\n",
            "  Targets: [114  78]\n",
            "  Preds:   [ 12 180]\n",
            "--------------------\n",
            "--- 1p/19q ---\n",
            "  Macro F1: 0.2813\n",
            "  Accuracy: 0.3281\n",
            "  Targets: [134  58]\n",
            "  Preds:   [  9 183]\n",
            "--------------------\n",
            "--- grade ---\n",
            "  Macro F1: 0.3452\n",
            "  Accuracy: 0.3750\n",
            "  Targets: [ 28  60 104]\n",
            "  Preds:   [ 15 132  45]\n",
            "--------------------\n"
          ]
        },
        {
          "data": {
            "application/vnd.jupyter.widget-view+json": {
              "model_id": "b9dcc8419c0f4a78a058218c3ea0fec9",
              "version_major": 2,
              "version_minor": 0
            },
            "text/plain": [
              "valid:   0%|          | 0/24 [00:00<?, ?it/s]"
            ]
          },
          "metadata": {},
          "output_type": "display_data"
        },
        {
          "name": "stdout",
          "output_type": "stream",
          "text": [
            "\n",
            "Epoch valid finished. Calculating final metrics...\n",
            "--- IDH1 ---\n",
            "  Macro F1: 0.2727\n",
            "  Accuracy: 0.3750\n",
            "  Targets: [15  9]\n",
            "  Preds:   [ 0 24]\n",
            "--------------------\n",
            "--- MGMT ---\n",
            "  Macro F1: 0.3684\n",
            "  Accuracy: 0.5833\n",
            "  Targets: [10 14]\n",
            "  Preds:   [ 0 24]\n",
            "--------------------\n",
            "--- 1p/19q ---\n",
            "  Macro F1: 0.1429\n",
            "  Accuracy: 0.1667\n",
            "  Targets: [20  4]\n",
            "  Preds:   [ 0 24]\n",
            "--------------------\n",
            "--- grade ---\n",
            "  Macro F1: 0.1667\n",
            "  Accuracy: 0.3333\n",
            "  Targets: [ 3  8 13]\n",
            "  Preds:   [ 0 24]\n",
            "--------------------\n",
            "Epoch 22: train_loss=3.2890, val_loss=3.2013, LR=0.000037\n",
            "Train Macro F1: {'IDH1_macro_f1': '0.3779', 'MGMT_macro_f1': '0.3149', '1p/19q_macro_f1': '0.2813', 'grade_macro_f1': '0.3452'}\n",
            "Val Macro F1: {'IDH1_macro_f1': '0.2727', 'MGMT_macro_f1': '0.3684', '1p/19q_macro_f1': '0.1429', 'grade_macro_f1': '0.1667'}\n",
            "\n",
            "--- Fold 4 | Epoch 23/30 ---\n"
          ]
        },
        {
          "data": {
            "application/vnd.jupyter.widget-view+json": {
              "model_id": "81ecfe54a87747bd97bee43a21a0df6b",
              "version_major": 2,
              "version_minor": 0
            },
            "text/plain": [
              "train:   0%|          | 0/192 [00:00<?, ?it/s]"
            ]
          },
          "metadata": {},
          "output_type": "display_data"
        },
        {
          "name": "stdout",
          "output_type": "stream",
          "text": [
            "\n",
            "Epoch train finished. Calculating final metrics...\n",
            "--- IDH1 ---\n",
            "  Macro F1: 0.4421\n",
            "  Accuracy: 0.4896\n",
            "  Targets: [94 98]\n",
            "  Preds:   [ 42 150]\n",
            "--------------------\n",
            "--- MGMT ---\n",
            "  Macro F1: 0.3397\n",
            "  Accuracy: 0.3958\n",
            "  Targets: [116  76]\n",
            "  Preds:   [ 20 172]\n",
            "--------------------\n",
            "--- 1p/19q ---\n",
            "  Macro F1: 0.2549\n",
            "  Accuracy: 0.3229\n",
            "  Targets: [132  60]\n",
            "  Preds:   [  2 190]\n",
            "--------------------\n",
            "--- grade ---\n",
            "  Macro F1: 0.3452\n",
            "  Accuracy: 0.3802\n",
            "  Targets: [ 25  59 108]\n",
            "  Preds:   [ 13 134  45]\n",
            "--------------------\n"
          ]
        },
        {
          "data": {
            "application/vnd.jupyter.widget-view+json": {
              "model_id": "2ff334e7d7e74dc8956c4c1bb30b6772",
              "version_major": 2,
              "version_minor": 0
            },
            "text/plain": [
              "valid:   0%|          | 0/24 [00:00<?, ?it/s]"
            ]
          },
          "metadata": {},
          "output_type": "display_data"
        },
        {
          "name": "stdout",
          "output_type": "stream",
          "text": [
            "\n",
            "Epoch valid finished. Calculating final metrics...\n",
            "--- IDH1 ---\n",
            "  Macro F1: 0.2727\n",
            "  Accuracy: 0.3750\n",
            "  Targets: [15  9]\n",
            "  Preds:   [ 0 24]\n",
            "--------------------\n",
            "--- MGMT ---\n",
            "  Macro F1: 0.3684\n",
            "  Accuracy: 0.5833\n",
            "  Targets: [10 14]\n",
            "  Preds:   [ 0 24]\n",
            "--------------------\n",
            "--- 1p/19q ---\n",
            "  Macro F1: 0.1429\n",
            "  Accuracy: 0.1667\n",
            "  Targets: [20  4]\n",
            "  Preds:   [ 0 24]\n",
            "--------------------\n",
            "--- grade ---\n",
            "  Macro F1: 0.1667\n",
            "  Accuracy: 0.3333\n",
            "  Targets: [ 3  8 13]\n",
            "  Preds:   [ 0 24]\n",
            "--------------------\n",
            "Epoch 23: train_loss=3.1635, val_loss=3.1979, LR=0.000037\n",
            "Train Macro F1: {'IDH1_macro_f1': '0.4421', 'MGMT_macro_f1': '0.3397', '1p/19q_macro_f1': '0.2549', 'grade_macro_f1': '0.3452'}\n",
            "Val Macro F1: {'IDH1_macro_f1': '0.2727', 'MGMT_macro_f1': '0.3684', '1p/19q_macro_f1': '0.1429', 'grade_macro_f1': '0.1667'}\n",
            "\n",
            "--- Fold 4 | Epoch 24/30 ---\n"
          ]
        },
        {
          "data": {
            "application/vnd.jupyter.widget-view+json": {
              "model_id": "7204e2a7d6334ae49e222456162e6251",
              "version_major": 2,
              "version_minor": 0
            },
            "text/plain": [
              "train:   0%|          | 0/192 [00:00<?, ?it/s]"
            ]
          },
          "metadata": {},
          "output_type": "display_data"
        },
        {
          "name": "stdout",
          "output_type": "stream",
          "text": [
            "\n",
            "Epoch train finished. Calculating final metrics...\n",
            "--- IDH1 ---\n",
            "  Macro F1: 0.4788\n",
            "  Accuracy: 0.5521\n",
            "  Targets: [ 81 111]\n",
            "  Preds:   [ 39 153]\n",
            "--------------------\n",
            "--- MGMT ---\n",
            "  Macro F1: 0.4155\n",
            "  Accuracy: 0.4583\n",
            "  Targets: [117  75]\n",
            "  Preds:   [ 23 169]\n",
            "--------------------\n",
            "--- 1p/19q ---\n",
            "  Macro F1: 0.2581\n",
            "  Accuracy: 0.3281\n",
            "  Targets: [130  62]\n",
            "  Preds:   [  3 189]\n",
            "--------------------\n",
            "--- grade ---\n",
            "  Macro F1: 0.3285\n",
            "  Accuracy: 0.4635\n",
            "  Targets: [24 76 92]\n",
            "  Preds:   [  6 128  58]\n",
            "--------------------\n"
          ]
        },
        {
          "data": {
            "application/vnd.jupyter.widget-view+json": {
              "model_id": "7e6f3f80c3d44b16aa1881205953a58b",
              "version_major": 2,
              "version_minor": 0
            },
            "text/plain": [
              "valid:   0%|          | 0/24 [00:00<?, ?it/s]"
            ]
          },
          "metadata": {},
          "output_type": "display_data"
        },
        {
          "name": "stdout",
          "output_type": "stream",
          "text": [
            "\n",
            "Epoch valid finished. Calculating final metrics...\n",
            "--- IDH1 ---\n",
            "  Macro F1: 0.2727\n",
            "  Accuracy: 0.3750\n",
            "  Targets: [15  9]\n",
            "  Preds:   [ 0 24]\n",
            "--------------------\n",
            "--- MGMT ---\n",
            "  Macro F1: 0.3684\n",
            "  Accuracy: 0.5833\n",
            "  Targets: [10 14]\n",
            "  Preds:   [ 0 24]\n",
            "--------------------\n",
            "--- 1p/19q ---\n",
            "  Macro F1: 0.1429\n",
            "  Accuracy: 0.1667\n",
            "  Targets: [20  4]\n",
            "  Preds:   [ 0 24]\n",
            "--------------------\n",
            "--- grade ---\n",
            "  Macro F1: 0.1667\n",
            "  Accuracy: 0.3333\n",
            "  Targets: [ 3  8 13]\n",
            "  Preds:   [ 0 24]\n",
            "--------------------\n",
            "Epoch 24: train_loss=3.2707, val_loss=3.1851, LR=0.000037\n",
            "Train Macro F1: {'IDH1_macro_f1': '0.4788', 'MGMT_macro_f1': '0.4155', '1p/19q_macro_f1': '0.2581', 'grade_macro_f1': '0.3285'}\n",
            "Val Macro F1: {'IDH1_macro_f1': '0.2727', 'MGMT_macro_f1': '0.3684', '1p/19q_macro_f1': '0.1429', 'grade_macro_f1': '0.1667'}\n",
            "\n",
            "--- Fold 4 | Epoch 25/30 ---\n"
          ]
        },
        {
          "data": {
            "application/vnd.jupyter.widget-view+json": {
              "model_id": "ff19c6ba1ca146049f879f4e634e5b6e",
              "version_major": 2,
              "version_minor": 0
            },
            "text/plain": [
              "train:   0%|          | 0/192 [00:00<?, ?it/s]"
            ]
          },
          "metadata": {},
          "output_type": "display_data"
        },
        {
          "name": "stdout",
          "output_type": "stream",
          "text": [
            "\n",
            "Epoch train finished. Calculating final metrics...\n",
            "--- IDH1 ---\n",
            "  Macro F1: 0.4529\n",
            "  Accuracy: 0.5156\n",
            "  Targets: [94 98]\n",
            "  Preds:   [ 33 159]\n",
            "--------------------\n",
            "--- MGMT ---\n",
            "  Macro F1: 0.3352\n",
            "  Accuracy: 0.3958\n",
            "  Targets: [110  82]\n",
            "  Preds:   [ 24 168]\n",
            "--------------------\n",
            "--- 1p/19q ---\n",
            "  Macro F1: 0.2411\n",
            "  Accuracy: 0.3177\n",
            "  Targets: [131  61]\n",
            "  Preds:   [  0 192]\n",
            "--------------------\n",
            "--- grade ---\n",
            "  Macro F1: 0.3879\n",
            "  Accuracy: 0.4271\n",
            "  Targets: [ 24  64 104]\n",
            "  Preds:   [ 10 134  48]\n",
            "--------------------\n"
          ]
        },
        {
          "data": {
            "application/vnd.jupyter.widget-view+json": {
              "model_id": "f2c5529706884173a7971e7539fd7ca8",
              "version_major": 2,
              "version_minor": 0
            },
            "text/plain": [
              "valid:   0%|          | 0/24 [00:00<?, ?it/s]"
            ]
          },
          "metadata": {},
          "output_type": "display_data"
        },
        {
          "name": "stdout",
          "output_type": "stream",
          "text": [
            "\n",
            "Epoch valid finished. Calculating final metrics...\n",
            "--- IDH1 ---\n",
            "  Macro F1: 0.2727\n",
            "  Accuracy: 0.3750\n",
            "  Targets: [15  9]\n",
            "  Preds:   [ 0 24]\n",
            "--------------------\n",
            "--- MGMT ---\n",
            "  Macro F1: 0.3684\n",
            "  Accuracy: 0.5833\n",
            "  Targets: [10 14]\n",
            "  Preds:   [ 0 24]\n",
            "--------------------\n",
            "--- 1p/19q ---\n",
            "  Macro F1: 0.1429\n",
            "  Accuracy: 0.1667\n",
            "  Targets: [20  4]\n",
            "  Preds:   [ 0 24]\n",
            "--------------------\n",
            "--- grade ---\n",
            "  Macro F1: 0.1667\n",
            "  Accuracy: 0.3333\n",
            "  Targets: [ 3  8 13]\n",
            "  Preds:   [ 0 24]\n",
            "--------------------\n",
            "Epoch 25: train_loss=3.1286, val_loss=3.1911, LR=0.000019\n",
            "Train Macro F1: {'IDH1_macro_f1': '0.4529', 'MGMT_macro_f1': '0.3352', '1p/19q_macro_f1': '0.2411', 'grade_macro_f1': '0.3879'}\n",
            "Val Macro F1: {'IDH1_macro_f1': '0.2727', 'MGMT_macro_f1': '0.3684', '1p/19q_macro_f1': '0.1429', 'grade_macro_f1': '0.1667'}\n",
            "\n",
            "--- Fold 4 | Epoch 26/30 ---\n"
          ]
        },
        {
          "data": {
            "application/vnd.jupyter.widget-view+json": {
              "model_id": "4a50aff0fc5b41068523cc96f71f81b4",
              "version_major": 2,
              "version_minor": 0
            },
            "text/plain": [
              "train:   0%|          | 0/192 [00:00<?, ?it/s]"
            ]
          },
          "metadata": {},
          "output_type": "display_data"
        },
        {
          "name": "stdout",
          "output_type": "stream",
          "text": [
            "\n",
            "Epoch train finished. Calculating final metrics...\n",
            "--- IDH1 ---\n",
            "  Macro F1: 0.4765\n",
            "  Accuracy: 0.5365\n",
            "  Targets: [94 98]\n",
            "  Preds:   [ 33 159]\n",
            "--------------------\n",
            "--- MGMT ---\n",
            "  Macro F1: 0.4003\n",
            "  Accuracy: 0.4531\n",
            "  Targets: [111  81]\n",
            "  Preds:   [ 24 168]\n",
            "--------------------\n",
            "--- 1p/19q ---\n",
            "  Macro F1: 0.2676\n",
            "  Accuracy: 0.3542\n",
            "  Targets: [125  67]\n",
            "  Preds:   [  1 191]\n",
            "--------------------\n",
            "--- grade ---\n",
            "  Macro F1: 0.3813\n",
            "  Accuracy: 0.4010\n",
            "  Targets: [28 68 96]\n",
            "  Preds:   [ 21 131  40]\n",
            "--------------------\n"
          ]
        },
        {
          "data": {
            "application/vnd.jupyter.widget-view+json": {
              "model_id": "6cd7f33fb9d64752ac173cbd22023caa",
              "version_major": 2,
              "version_minor": 0
            },
            "text/plain": [
              "valid:   0%|          | 0/24 [00:00<?, ?it/s]"
            ]
          },
          "metadata": {},
          "output_type": "display_data"
        },
        {
          "name": "stdout",
          "output_type": "stream",
          "text": [
            "\n",
            "Epoch valid finished. Calculating final metrics...\n",
            "--- IDH1 ---\n",
            "  Macro F1: 0.2727\n",
            "  Accuracy: 0.3750\n",
            "  Targets: [15  9]\n",
            "  Preds:   [ 0 24]\n",
            "--------------------\n",
            "--- MGMT ---\n",
            "  Macro F1: 0.3684\n",
            "  Accuracy: 0.5833\n",
            "  Targets: [10 14]\n",
            "  Preds:   [ 0 24]\n",
            "--------------------\n",
            "--- 1p/19q ---\n",
            "  Macro F1: 0.1429\n",
            "  Accuracy: 0.1667\n",
            "  Targets: [20  4]\n",
            "  Preds:   [ 0 24]\n",
            "--------------------\n",
            "--- grade ---\n",
            "  Macro F1: 0.1667\n",
            "  Accuracy: 0.3333\n",
            "  Targets: [ 3  8 13]\n",
            "  Preds:   [ 0 24]\n",
            "--------------------\n",
            "Epoch 26: train_loss=3.3247, val_loss=3.1924, LR=0.000019\n",
            "Train Macro F1: {'IDH1_macro_f1': '0.4765', 'MGMT_macro_f1': '0.4003', '1p/19q_macro_f1': '0.2676', 'grade_macro_f1': '0.3813'}\n",
            "Val Macro F1: {'IDH1_macro_f1': '0.2727', 'MGMT_macro_f1': '0.3684', '1p/19q_macro_f1': '0.1429', 'grade_macro_f1': '0.1667'}\n",
            "\n",
            "--- Fold 4 | Epoch 27/30 ---\n"
          ]
        },
        {
          "data": {
            "application/vnd.jupyter.widget-view+json": {
              "model_id": "9eba684fa70048d3b741cdba0c3916cf",
              "version_major": 2,
              "version_minor": 0
            },
            "text/plain": [
              "train:   0%|          | 0/192 [00:00<?, ?it/s]"
            ]
          },
          "metadata": {},
          "output_type": "display_data"
        },
        {
          "name": "stdout",
          "output_type": "stream",
          "text": [
            "\n",
            "Epoch train finished. Calculating final metrics...\n",
            "--- IDH1 ---\n",
            "  Macro F1: 0.4617\n",
            "  Accuracy: 0.5417\n",
            "  Targets: [ 91 101]\n",
            "  Preds:   [ 27 165]\n",
            "--------------------\n",
            "--- MGMT ---\n",
            "  Macro F1: 0.3806\n",
            "  Accuracy: 0.4583\n",
            "  Targets: [105  87]\n",
            "  Preds:   [ 19 173]\n",
            "--------------------\n",
            "--- 1p/19q ---\n",
            "  Macro F1: 0.2381\n",
            "  Accuracy: 0.3125\n",
            "  Targets: [131  61]\n",
            "  Preds:   [  1 191]\n",
            "--------------------\n",
            "--- grade ---\n",
            "  Macro F1: 0.2853\n",
            "  Accuracy: 0.3750\n",
            "  Targets: [24 71 97]\n",
            "  Preds:   [  3 158  31]\n",
            "--------------------\n"
          ]
        },
        {
          "data": {
            "application/vnd.jupyter.widget-view+json": {
              "model_id": "171e28d27ba64a4d8d7c069a696c51b0",
              "version_major": 2,
              "version_minor": 0
            },
            "text/plain": [
              "valid:   0%|          | 0/24 [00:00<?, ?it/s]"
            ]
          },
          "metadata": {},
          "output_type": "display_data"
        },
        {
          "name": "stdout",
          "output_type": "stream",
          "text": [
            "\n",
            "Epoch valid finished. Calculating final metrics...\n",
            "--- IDH1 ---\n",
            "  Macro F1: 0.2727\n",
            "  Accuracy: 0.3750\n",
            "  Targets: [15  9]\n",
            "  Preds:   [ 0 24]\n",
            "--------------------\n",
            "--- MGMT ---\n",
            "  Macro F1: 0.3684\n",
            "  Accuracy: 0.5833\n",
            "  Targets: [10 14]\n",
            "  Preds:   [ 0 24]\n",
            "--------------------\n",
            "--- 1p/19q ---\n",
            "  Macro F1: 0.1429\n",
            "  Accuracy: 0.1667\n",
            "  Targets: [20  4]\n",
            "  Preds:   [ 0 24]\n",
            "--------------------\n",
            "--- grade ---\n",
            "  Macro F1: 0.1667\n",
            "  Accuracy: 0.3333\n",
            "  Targets: [ 3  8 13]\n",
            "  Preds:   [ 0 24]\n",
            "--------------------\n",
            "Epoch 27: train_loss=3.1971, val_loss=3.1772, LR=0.000019\n",
            "Train Macro F1: {'IDH1_macro_f1': '0.4617', 'MGMT_macro_f1': '0.3806', '1p/19q_macro_f1': '0.2381', 'grade_macro_f1': '0.2853'}\n",
            "Val Macro F1: {'IDH1_macro_f1': '0.2727', 'MGMT_macro_f1': '0.3684', '1p/19q_macro_f1': '0.1429', 'grade_macro_f1': '0.1667'}\n",
            "\n",
            "--- Fold 4 | Epoch 28/30 ---\n"
          ]
        },
        {
          "data": {
            "application/vnd.jupyter.widget-view+json": {
              "model_id": "56338dfe1d3a47989e070cf98d6e498e",
              "version_major": 2,
              "version_minor": 0
            },
            "text/plain": [
              "train:   0%|          | 0/192 [00:00<?, ?it/s]"
            ]
          },
          "metadata": {},
          "output_type": "display_data"
        },
        {
          "name": "stdout",
          "output_type": "stream",
          "text": [
            "\n",
            "Epoch train finished. Calculating final metrics...\n",
            "--- IDH1 ---\n",
            "  Macro F1: 0.4318\n",
            "  Accuracy: 0.5208\n",
            "  Targets: [ 89 103]\n",
            "  Preds:   [ 27 165]\n",
            "--------------------\n",
            "--- MGMT ---\n",
            "  Macro F1: 0.3739\n",
            "  Accuracy: 0.4479\n",
            "  Targets: [104  88]\n",
            "  Preds:   [ 22 170]\n",
            "--------------------\n",
            "--- 1p/19q ---\n",
            "  Macro F1: 0.2320\n",
            "  Accuracy: 0.3021\n",
            "  Targets: [134  58]\n",
            "  Preds:   [  0 192]\n",
            "--------------------\n",
            "--- grade ---\n",
            "  Macro F1: 0.3496\n",
            "  Accuracy: 0.3490\n",
            "  Targets: [ 26  54 112]\n",
            "  Preds:   [ 20 143  29]\n",
            "--------------------\n"
          ]
        },
        {
          "data": {
            "application/vnd.jupyter.widget-view+json": {
              "model_id": "0f25fdbf4d854f19bbd5019058b77c70",
              "version_major": 2,
              "version_minor": 0
            },
            "text/plain": [
              "valid:   0%|          | 0/24 [00:00<?, ?it/s]"
            ]
          },
          "metadata": {},
          "output_type": "display_data"
        },
        {
          "name": "stdout",
          "output_type": "stream",
          "text": [
            "\n",
            "Epoch valid finished. Calculating final metrics...\n",
            "--- IDH1 ---\n",
            "  Macro F1: 0.2727\n",
            "  Accuracy: 0.3750\n",
            "  Targets: [15  9]\n",
            "  Preds:   [ 0 24]\n",
            "--------------------\n",
            "--- MGMT ---\n",
            "  Macro F1: 0.3684\n",
            "  Accuracy: 0.5833\n",
            "  Targets: [10 14]\n",
            "  Preds:   [ 0 24]\n",
            "--------------------\n",
            "--- 1p/19q ---\n",
            "  Macro F1: 0.1429\n",
            "  Accuracy: 0.1667\n",
            "  Targets: [20  4]\n",
            "  Preds:   [ 0 24]\n",
            "--------------------\n",
            "--- grade ---\n",
            "  Macro F1: 0.1667\n",
            "  Accuracy: 0.3333\n",
            "  Targets: [ 3  8 13]\n",
            "  Preds:   [ 0 24]\n",
            "--------------------\n",
            "Epoch 28: train_loss=3.1532, val_loss=3.1869, LR=0.000019\n",
            "Train Macro F1: {'IDH1_macro_f1': '0.4318', 'MGMT_macro_f1': '0.3739', '1p/19q_macro_f1': '0.2320', 'grade_macro_f1': '0.3496'}\n",
            "Val Macro F1: {'IDH1_macro_f1': '0.2727', 'MGMT_macro_f1': '0.3684', '1p/19q_macro_f1': '0.1429', 'grade_macro_f1': '0.1667'}\n",
            "\n",
            "--- Fold 4 | Epoch 29/30 ---\n"
          ]
        },
        {
          "data": {
            "application/vnd.jupyter.widget-view+json": {
              "model_id": "419dd819e6004847927b79be7ef9068c",
              "version_major": 2,
              "version_minor": 0
            },
            "text/plain": [
              "train:   0%|          | 0/192 [00:00<?, ?it/s]"
            ]
          },
          "metadata": {},
          "output_type": "display_data"
        },
        {
          "name": "stdout",
          "output_type": "stream",
          "text": [
            "\n",
            "Epoch train finished. Calculating final metrics...\n",
            "--- IDH1 ---\n",
            "  Macro F1: 0.4759\n",
            "  Accuracy: 0.5885\n",
            "  Targets: [ 83 109]\n",
            "  Preds:   [ 20 172]\n",
            "--------------------\n",
            "--- MGMT ---\n",
            "  Macro F1: 0.3621\n",
            "  Accuracy: 0.4375\n",
            "  Targets: [109  83]\n",
            "  Preds:   [ 17 175]\n",
            "--------------------\n",
            "--- 1p/19q ---\n",
            "  Macro F1: 0.2587\n",
            "  Accuracy: 0.3490\n",
            "  Targets: [125  67]\n",
            "  Preds:   [  0 192]\n",
            "--------------------\n",
            "--- grade ---\n",
            "  Macro F1: 0.3630\n",
            "  Accuracy: 0.4010\n",
            "  Targets: [23 73 96]\n",
            "  Preds:   [ 12 158  22]\n",
            "--------------------\n"
          ]
        },
        {
          "data": {
            "application/vnd.jupyter.widget-view+json": {
              "model_id": "405f268a693841d2845dcc2ff4c46ea5",
              "version_major": 2,
              "version_minor": 0
            },
            "text/plain": [
              "valid:   0%|          | 0/24 [00:00<?, ?it/s]"
            ]
          },
          "metadata": {},
          "output_type": "display_data"
        },
        {
          "name": "stdout",
          "output_type": "stream",
          "text": [
            "\n",
            "Epoch valid finished. Calculating final metrics...\n",
            "--- IDH1 ---\n",
            "  Macro F1: 0.2727\n",
            "  Accuracy: 0.3750\n",
            "  Targets: [15  9]\n",
            "  Preds:   [ 0 24]\n",
            "--------------------\n",
            "--- MGMT ---\n",
            "  Macro F1: 0.3684\n",
            "  Accuracy: 0.5833\n",
            "  Targets: [10 14]\n",
            "  Preds:   [ 0 24]\n",
            "--------------------\n",
            "--- 1p/19q ---\n",
            "  Macro F1: 0.1429\n",
            "  Accuracy: 0.1667\n",
            "  Targets: [20  4]\n",
            "  Preds:   [ 0 24]\n",
            "--------------------\n",
            "--- grade ---\n",
            "  Macro F1: 0.1667\n",
            "  Accuracy: 0.3333\n",
            "  Targets: [ 3  8 13]\n",
            "  Preds:   [ 0 24]\n",
            "--------------------\n",
            "Epoch 29: train_loss=3.1638, val_loss=3.1735, LR=0.000009\n",
            "Train Macro F1: {'IDH1_macro_f1': '0.4759', 'MGMT_macro_f1': '0.3621', '1p/19q_macro_f1': '0.2587', 'grade_macro_f1': '0.3630'}\n",
            "Val Macro F1: {'IDH1_macro_f1': '0.2727', 'MGMT_macro_f1': '0.3684', '1p/19q_macro_f1': '0.1429', 'grade_macro_f1': '0.1667'}\n",
            "\n",
            "--- Fold 4 | Epoch 30/30 ---\n"
          ]
        },
        {
          "data": {
            "application/vnd.jupyter.widget-view+json": {
              "model_id": "916e2f89c84e488cb170a36c01abf7f4",
              "version_major": 2,
              "version_minor": 0
            },
            "text/plain": [
              "train:   0%|          | 0/192 [00:00<?, ?it/s]"
            ]
          },
          "metadata": {},
          "output_type": "display_data"
        },
        {
          "name": "stdout",
          "output_type": "stream",
          "text": [
            "\n",
            "Epoch train finished. Calculating final metrics...\n",
            "--- IDH1 ---\n",
            "  Macro F1: 0.4671\n",
            "  Accuracy: 0.5573\n",
            "  Targets: [ 87 105]\n",
            "  Preds:   [ 26 166]\n",
            "--------------------\n",
            "--- MGMT ---\n",
            "  Macro F1: 0.2882\n",
            "  Accuracy: 0.3698\n",
            "  Targets: [118  74]\n",
            "  Preds:   [  9 183]\n",
            "--------------------\n",
            "--- 1p/19q ---\n",
            "  Macro F1: 0.2435\n",
            "  Accuracy: 0.3125\n",
            "  Targets: [133  59]\n",
            "  Preds:   [  1 191]\n",
            "--------------------\n",
            "--- grade ---\n",
            "  Macro F1: 0.3635\n",
            "  Accuracy: 0.4010\n",
            "  Targets: [24 71 97]\n",
            "  Preds:   [ 12 156  24]\n",
            "--------------------\n"
          ]
        },
        {
          "data": {
            "application/vnd.jupyter.widget-view+json": {
              "model_id": "254bab2d109942ecacfe3723b7eb783e",
              "version_major": 2,
              "version_minor": 0
            },
            "text/plain": [
              "valid:   0%|          | 0/24 [00:00<?, ?it/s]"
            ]
          },
          "metadata": {},
          "output_type": "display_data"
        },
        {
          "name": "stdout",
          "output_type": "stream",
          "text": [
            "\n",
            "Epoch valid finished. Calculating final metrics...\n",
            "--- IDH1 ---\n",
            "  Macro F1: 0.2727\n",
            "  Accuracy: 0.3750\n",
            "  Targets: [15  9]\n",
            "  Preds:   [ 0 24]\n",
            "--------------------\n",
            "--- MGMT ---\n",
            "  Macro F1: 0.3684\n",
            "  Accuracy: 0.5833\n",
            "  Targets: [10 14]\n",
            "  Preds:   [ 0 24]\n",
            "--------------------\n",
            "--- 1p/19q ---\n",
            "  Macro F1: 0.1429\n",
            "  Accuracy: 0.1667\n",
            "  Targets: [20  4]\n",
            "  Preds:   [ 0 24]\n",
            "--------------------\n",
            "--- grade ---\n",
            "  Macro F1: 0.3387\n",
            "  Accuracy: 0.3750\n",
            "  Targets: [ 3  8 13]\n",
            "  Preds:   [ 1 23]\n",
            "--------------------\n",
            "Epoch 30: train_loss=3.1866, val_loss=3.1695, LR=0.000009\n",
            "Train Macro F1: {'IDH1_macro_f1': '0.4671', 'MGMT_macro_f1': '0.2882', '1p/19q_macro_f1': '0.2435', 'grade_macro_f1': '0.3635'}\n",
            "Val Macro F1: {'IDH1_macro_f1': '0.2727', 'MGMT_macro_f1': '0.3684', '1p/19q_macro_f1': '0.1429', 'grade_macro_f1': '0.3387'}\n",
            "Validation F1 ('grade') improved (0.2342 --> 0.3387). Saving model...\n",
            "\n",
            "==========  FOLD 5/5  (96 train / 24 val) ==========\n",
            "Warmup: 5 epochs, 60 steps, LR start factor: 0.01\n",
            "\n",
            "--- Fold 5 | Epoch 1/30 ---\n"
          ]
        },
        {
          "name": "stderr",
          "output_type": "stream",
          "text": [
            "/usr/local/lib/python3.11/dist-packages/torch/optim/lr_scheduler.py:62: UserWarning: The verbose parameter is deprecated. Please use get_last_lr() to access the learning rate.\n",
            "  warnings.warn(\n"
          ]
        },
        {
          "data": {
            "application/vnd.jupyter.widget-view+json": {
              "model_id": "23a442100d3e45e2bbaa9f1d4855d04d",
              "version_major": 2,
              "version_minor": 0
            },
            "text/plain": [
              "train:   0%|          | 0/192 [00:00<?, ?it/s]"
            ]
          },
          "metadata": {},
          "output_type": "display_data"
        },
        {
          "name": "stdout",
          "output_type": "stream",
          "text": [
            "\n",
            "Epoch train finished. Calculating final metrics...\n",
            "--- IDH1 ---\n",
            "  Macro F1: 0.3538\n",
            "  Accuracy: 0.4896\n",
            "  Targets: [99 93]\n",
            "  Preds:   [181  11]\n",
            "--------------------\n",
            "--- MGMT ---\n",
            "  Macro F1: 0.4857\n",
            "  Accuracy: 0.5000\n",
            "  Targets: [105  87]\n",
            "  Preds:   [ 55 137]\n",
            "--------------------\n",
            "--- 1p/19q ---\n",
            "  Macro F1: 0.2244\n",
            "  Accuracy: 0.2812\n",
            "  Targets: [138  54]\n",
            "  Preds:   [  2 190]\n",
            "--------------------\n",
            "--- grade ---\n",
            "  Macro F1: 0.2107\n",
            "  Accuracy: 0.3333\n",
            "  Targets: [ 25  63 104]\n",
            "  Preds:   [  4 188]\n",
            "--------------------\n"
          ]
        },
        {
          "data": {
            "application/vnd.jupyter.widget-view+json": {
              "model_id": "54699452b59f4d10b5fc765cbc542c6e",
              "version_major": 2,
              "version_minor": 0
            },
            "text/plain": [
              "valid:   0%|          | 0/24 [00:00<?, ?it/s]"
            ]
          },
          "metadata": {},
          "output_type": "display_data"
        },
        {
          "name": "stdout",
          "output_type": "stream",
          "text": [
            "\n",
            "Epoch valid finished. Calculating final metrics...\n",
            "--- IDH1 ---\n",
            "  Macro F1: 0.3333\n",
            "  Accuracy: 0.5000\n",
            "  Targets: [12 12]\n",
            "  Preds:   [24]\n",
            "--------------------\n",
            "--- MGMT ---\n",
            "  Macro F1: 0.2500\n",
            "  Accuracy: 0.3333\n",
            "  Targets: [16  8]\n",
            "  Preds:   [ 0 24]\n",
            "--------------------\n",
            "--- 1p/19q ---\n",
            "  Macro F1: 0.1429\n",
            "  Accuracy: 0.1667\n",
            "  Targets: [20  4]\n",
            "  Preds:   [ 0 24]\n",
            "--------------------\n",
            "--- grade ---\n",
            "  Macro F1: 0.1667\n",
            "  Accuracy: 0.3333\n",
            "  Targets: [ 3  8 13]\n",
            "  Preds:   [ 0 24]\n",
            "--------------------\n",
            "Epoch 1: train_loss=3.3125, val_loss=3.2395, LR=0.000062\n",
            "Train Macro F1: {'IDH1_macro_f1': '0.3538', 'MGMT_macro_f1': '0.4857', '1p/19q_macro_f1': '0.2244', 'grade_macro_f1': '0.2107'}\n",
            "Val Macro F1: {'IDH1_macro_f1': '0.3333', 'MGMT_macro_f1': '0.2500', '1p/19q_macro_f1': '0.1429', 'grade_macro_f1': '0.1667'}\n",
            "Warmup phase (Epoch 1/5). LR controlled manually. Current LR: 0.000062\n",
            "Validation F1 ('grade') improved (-inf --> 0.1667). Saving model...\n",
            "\n",
            "--- Fold 5 | Epoch 2/30 ---\n"
          ]
        },
        {
          "data": {
            "application/vnd.jupyter.widget-view+json": {
              "model_id": "9cc4d051d70346bd8d948b005b8b654c",
              "version_major": 2,
              "version_minor": 0
            },
            "text/plain": [
              "train:   0%|          | 0/192 [00:00<?, ?it/s]"
            ]
          },
          "metadata": {},
          "output_type": "display_data"
        },
        {
          "name": "stdout",
          "output_type": "stream",
          "text": [
            "\n",
            "Epoch train finished. Calculating final metrics...\n",
            "--- IDH1 ---\n",
            "  Macro F1: 0.4582\n",
            "  Accuracy: 0.4635\n",
            "  Targets: [ 89 103]\n",
            "  Preds:   [ 84 108]\n",
            "--------------------\n",
            "--- MGMT ---\n",
            "  Macro F1: 0.3669\n",
            "  Accuracy: 0.4635\n",
            "  Targets: [99 93]\n",
            "  Preds:   [ 18 174]\n",
            "--------------------\n",
            "--- 1p/19q ---\n",
            "  Macro F1: 0.2389\n",
            "  Accuracy: 0.2969\n",
            "  Targets: [135  57]\n",
            "  Preds:   [  4 188]\n",
            "--------------------\n",
            "--- grade ---\n",
            "  Macro F1: 0.1738\n",
            "  Accuracy: 0.3490\n",
            "  Targets: [26 69 97]\n",
            "  Preds:   [  4 188]\n",
            "--------------------\n"
          ]
        },
        {
          "data": {
            "application/vnd.jupyter.widget-view+json": {
              "model_id": "e95e5ef06b2f41b58953383016cb8277",
              "version_major": 2,
              "version_minor": 0
            },
            "text/plain": [
              "valid:   0%|          | 0/24 [00:00<?, ?it/s]"
            ]
          },
          "metadata": {},
          "output_type": "display_data"
        },
        {
          "name": "stdout",
          "output_type": "stream",
          "text": [
            "\n",
            "Epoch valid finished. Calculating final metrics...\n",
            "--- IDH1 ---\n",
            "  Macro F1: 0.3333\n",
            "  Accuracy: 0.5000\n",
            "  Targets: [12 12]\n",
            "  Preds:   [ 0 24]\n",
            "--------------------\n",
            "--- MGMT ---\n",
            "  Macro F1: 0.2500\n",
            "  Accuracy: 0.3333\n",
            "  Targets: [16  8]\n",
            "  Preds:   [ 0 24]\n",
            "--------------------\n",
            "--- 1p/19q ---\n",
            "  Macro F1: 0.1429\n",
            "  Accuracy: 0.1667\n",
            "  Targets: [20  4]\n",
            "  Preds:   [ 0 24]\n",
            "--------------------\n",
            "--- grade ---\n",
            "  Macro F1: 0.1667\n",
            "  Accuracy: 0.3333\n",
            "  Targets: [ 3  8 13]\n",
            "  Preds:   [ 0 24]\n",
            "--------------------\n",
            "Epoch 2: train_loss=3.3764, val_loss=3.2168, LR=0.000122\n",
            "Train Macro F1: {'IDH1_macro_f1': '0.4582', 'MGMT_macro_f1': '0.3669', '1p/19q_macro_f1': '0.2389', 'grade_macro_f1': '0.1738'}\n",
            "Val Macro F1: {'IDH1_macro_f1': '0.3333', 'MGMT_macro_f1': '0.2500', '1p/19q_macro_f1': '0.1429', 'grade_macro_f1': '0.1667'}\n",
            "Warmup phase (Epoch 2/5). LR controlled manually. Current LR: 0.000122\n",
            "\n",
            "--- Fold 5 | Epoch 3/30 ---\n"
          ]
        },
        {
          "data": {
            "application/vnd.jupyter.widget-view+json": {
              "model_id": "26f19f508b3247c2bdf346200143f91a",
              "version_major": 2,
              "version_minor": 0
            },
            "text/plain": [
              "train:   0%|          | 0/192 [00:00<?, ?it/s]"
            ]
          },
          "metadata": {},
          "output_type": "display_data"
        },
        {
          "name": "stdout",
          "output_type": "stream",
          "text": [
            "\n",
            "Epoch train finished. Calculating final metrics...\n",
            "--- IDH1 ---\n",
            "  Macro F1: 0.3333\n",
            "  Accuracy: 0.5000\n",
            "  Targets: [96 96]\n",
            "  Preds:   [  0 192]\n",
            "--------------------\n",
            "--- MGMT ---\n",
            "  Macro F1: 0.4787\n",
            "  Accuracy: 0.4792\n",
            "  Targets: [111  81]\n",
            "  Preds:   [ 87 105]\n",
            "--------------------\n",
            "--- 1p/19q ---\n",
            "  Macro F1: 0.2471\n",
            "  Accuracy: 0.3281\n",
            "  Targets: [128  64]\n",
            "  Preds:   [  1 191]\n",
            "--------------------\n",
            "--- grade ---\n",
            "  Macro F1: 0.1908\n",
            "  Accuracy: 0.4010\n",
            "  Targets: [18 77 97]\n",
            "  Preds:   [  0 192]\n",
            "--------------------\n"
          ]
        },
        {
          "data": {
            "application/vnd.jupyter.widget-view+json": {
              "model_id": "ca12c4b37d61403ab5f8110f01df985d",
              "version_major": 2,
              "version_minor": 0
            },
            "text/plain": [
              "valid:   0%|          | 0/24 [00:00<?, ?it/s]"
            ]
          },
          "metadata": {},
          "output_type": "display_data"
        },
        {
          "name": "stdout",
          "output_type": "stream",
          "text": [
            "\n",
            "Epoch valid finished. Calculating final metrics...\n",
            "--- IDH1 ---\n",
            "  Macro F1: 0.3333\n",
            "  Accuracy: 0.5000\n",
            "  Targets: [12 12]\n",
            "  Preds:   [ 0 24]\n",
            "--------------------\n",
            "--- MGMT ---\n",
            "  Macro F1: 0.2500\n",
            "  Accuracy: 0.3333\n",
            "  Targets: [16  8]\n",
            "  Preds:   [ 0 24]\n",
            "--------------------\n",
            "--- 1p/19q ---\n",
            "  Macro F1: 0.1429\n",
            "  Accuracy: 0.1667\n",
            "  Targets: [20  4]\n",
            "  Preds:   [ 0 24]\n",
            "--------------------\n",
            "--- grade ---\n",
            "  Macro F1: 0.1667\n",
            "  Accuracy: 0.3333\n",
            "  Targets: [ 3  8 13]\n",
            "  Preds:   [ 0 24]\n",
            "--------------------\n",
            "Epoch 3: train_loss=3.0535, val_loss=3.2360, LR=0.000181\n",
            "Train Macro F1: {'IDH1_macro_f1': '0.3333', 'MGMT_macro_f1': '0.4787', '1p/19q_macro_f1': '0.2471', 'grade_macro_f1': '0.1908'}\n",
            "Val Macro F1: {'IDH1_macro_f1': '0.3333', 'MGMT_macro_f1': '0.2500', '1p/19q_macro_f1': '0.1429', 'grade_macro_f1': '0.1667'}\n",
            "Warmup phase (Epoch 3/5). LR controlled manually. Current LR: 0.000181\n",
            "\n",
            "--- Fold 5 | Epoch 4/30 ---\n"
          ]
        },
        {
          "data": {
            "application/vnd.jupyter.widget-view+json": {
              "model_id": "be844607278340339a90ae76b868f64d",
              "version_major": 2,
              "version_minor": 0
            },
            "text/plain": [
              "train:   0%|          | 0/192 [00:00<?, ?it/s]"
            ]
          },
          "metadata": {},
          "output_type": "display_data"
        },
        {
          "name": "stdout",
          "output_type": "stream",
          "text": [
            "\n",
            "Epoch train finished. Calculating final metrics...\n",
            "--- IDH1 ---\n",
            "  Macro F1: 0.3918\n",
            "  Accuracy: 0.4948\n",
            "  Targets: [98 94]\n",
            "  Preds:   [ 15 177]\n",
            "--------------------\n",
            "--- MGMT ---\n",
            "  Macro F1: 0.4623\n",
            "  Accuracy: 0.4792\n",
            "  Targets: [104  88]\n",
            "  Preds:   [ 54 138]\n",
            "--------------------\n",
            "--- 1p/19q ---\n",
            "  Macro F1: 0.2500\n",
            "  Accuracy: 0.2708\n",
            "  Targets: [144  48]\n",
            "  Preds:   [ 16 176]\n",
            "--------------------\n",
            "--- grade ---\n",
            "  Macro F1: 0.1607\n",
            "  Accuracy: 0.3177\n",
            "  Targets: [ 24  61 107]\n",
            "  Preds:   [  0 192]\n",
            "--------------------\n"
          ]
        },
        {
          "data": {
            "application/vnd.jupyter.widget-view+json": {
              "model_id": "40009755d04b4b73a87ecb6bb9d0179f",
              "version_major": 2,
              "version_minor": 0
            },
            "text/plain": [
              "valid:   0%|          | 0/24 [00:00<?, ?it/s]"
            ]
          },
          "metadata": {},
          "output_type": "display_data"
        },
        {
          "name": "stdout",
          "output_type": "stream",
          "text": [
            "\n",
            "Epoch valid finished. Calculating final metrics...\n",
            "--- IDH1 ---\n",
            "  Macro F1: 0.3333\n",
            "  Accuracy: 0.5000\n",
            "  Targets: [12 12]\n",
            "  Preds:   [ 0 24]\n",
            "--------------------\n",
            "--- MGMT ---\n",
            "  Macro F1: 0.2500\n",
            "  Accuracy: 0.3333\n",
            "  Targets: [16  8]\n",
            "  Preds:   [ 0 24]\n",
            "--------------------\n",
            "--- 1p/19q ---\n",
            "  Macro F1: 0.1429\n",
            "  Accuracy: 0.1667\n",
            "  Targets: [20  4]\n",
            "  Preds:   [ 0 24]\n",
            "--------------------\n",
            "--- grade ---\n",
            "  Macro F1: 0.1667\n",
            "  Accuracy: 0.3333\n",
            "  Targets: [ 3  8 13]\n",
            "  Preds:   [ 0 24]\n",
            "--------------------\n",
            "Epoch 4: train_loss=3.2464, val_loss=3.1958, LR=0.000241\n",
            "Train Macro F1: {'IDH1_macro_f1': '0.3918', 'MGMT_macro_f1': '0.4623', '1p/19q_macro_f1': '0.2500', 'grade_macro_f1': '0.1607'}\n",
            "Val Macro F1: {'IDH1_macro_f1': '0.3333', 'MGMT_macro_f1': '0.2500', '1p/19q_macro_f1': '0.1429', 'grade_macro_f1': '0.1667'}\n",
            "Warmup phase (Epoch 4/5). LR controlled manually. Current LR: 0.000241\n",
            "\n",
            "--- Fold 5 | Epoch 5/30 ---\n"
          ]
        },
        {
          "data": {
            "application/vnd.jupyter.widget-view+json": {
              "model_id": "5948c13969e442e58bc2890d266aa623",
              "version_major": 2,
              "version_minor": 0
            },
            "text/plain": [
              "train:   0%|          | 0/192 [00:00<?, ?it/s]"
            ]
          },
          "metadata": {},
          "output_type": "display_data"
        },
        {
          "name": "stdout",
          "output_type": "stream",
          "text": [
            "\n",
            "Epoch train finished. Calculating final metrics...\n",
            "--- IDH1 ---\n",
            "  Macro F1: 0.4352\n",
            "  Accuracy: 0.4635\n",
            "  Targets: [97 95]\n",
            "  Preds:   [ 52 140]\n",
            "--------------------\n",
            "--- MGMT ---\n",
            "  Macro F1: 0.4150\n",
            "  Accuracy: 0.4531\n",
            "  Targets: [106  86]\n",
            "  Preds:   [ 37 155]\n",
            "--------------------\n",
            "--- 1p/19q ---\n",
            "  Macro F1: 0.4882\n",
            "  Accuracy: 0.4896\n",
            "  Targets: [126  66]\n",
            "  Preds:   [ 56 136]\n",
            "--------------------\n",
            "--- grade ---\n",
            "  Macro F1: 0.2158\n",
            "  Accuracy: 0.4219\n",
            "  Targets: [22 79 91]\n",
            "  Preds:   [  0 188   4]\n",
            "--------------------\n"
          ]
        },
        {
          "data": {
            "application/vnd.jupyter.widget-view+json": {
              "model_id": "88a0a54daef5493db5ec1fe774497d58",
              "version_major": 2,
              "version_minor": 0
            },
            "text/plain": [
              "valid:   0%|          | 0/24 [00:00<?, ?it/s]"
            ]
          },
          "metadata": {},
          "output_type": "display_data"
        },
        {
          "name": "stdout",
          "output_type": "stream",
          "text": [
            "\n",
            "Epoch valid finished. Calculating final metrics...\n",
            "--- IDH1 ---\n",
            "  Macro F1: 0.3333\n",
            "  Accuracy: 0.5000\n",
            "  Targets: [12 12]\n",
            "  Preds:   [ 0 24]\n",
            "--------------------\n",
            "--- MGMT ---\n",
            "  Macro F1: 0.2500\n",
            "  Accuracy: 0.3333\n",
            "  Targets: [16  8]\n",
            "  Preds:   [ 0 24]\n",
            "--------------------\n",
            "--- 1p/19q ---\n",
            "  Macro F1: 0.1429\n",
            "  Accuracy: 0.1667\n",
            "  Targets: [20  4]\n",
            "  Preds:   [ 0 24]\n",
            "--------------------\n",
            "--- grade ---\n",
            "  Macro F1: 0.1667\n",
            "  Accuracy: 0.3333\n",
            "  Targets: [ 3  8 13]\n",
            "  Preds:   [ 0 24]\n",
            "--------------------\n",
            "Epoch 5: train_loss=3.2010, val_loss=3.2085, LR=0.000300\n",
            "Train Macro F1: {'IDH1_macro_f1': '0.4352', 'MGMT_macro_f1': '0.4150', '1p/19q_macro_f1': '0.4882', 'grade_macro_f1': '0.2158'}\n",
            "Val Macro F1: {'IDH1_macro_f1': '0.3333', 'MGMT_macro_f1': '0.2500', '1p/19q_macro_f1': '0.1429', 'grade_macro_f1': '0.1667'}\n",
            "\n",
            "--- Fold 5 | Epoch 6/30 ---\n"
          ]
        },
        {
          "data": {
            "application/vnd.jupyter.widget-view+json": {
              "model_id": "7343fa69122a4c59b5e66e43166a9a77",
              "version_major": 2,
              "version_minor": 0
            },
            "text/plain": [
              "train:   0%|          | 0/192 [00:00<?, ?it/s]"
            ]
          },
          "metadata": {},
          "output_type": "display_data"
        },
        {
          "name": "stdout",
          "output_type": "stream",
          "text": [
            "\n",
            "Epoch train finished. Calculating final metrics...\n",
            "--- IDH1 ---\n",
            "  Macro F1: 0.4254\n",
            "  Accuracy: 0.4479\n",
            "  Targets: [96 96]\n",
            "  Preds:   [ 58 134]\n",
            "--------------------\n",
            "--- MGMT ---\n",
            "  Macro F1: 0.4278\n",
            "  Accuracy: 0.4427\n",
            "  Targets: [102  90]\n",
            "  Preds:   [ 59 133]\n",
            "--------------------\n",
            "--- 1p/19q ---\n",
            "  Macro F1: 0.2524\n",
            "  Accuracy: 0.2865\n",
            "  Targets: [142  50]\n",
            "  Preds:   [  9 183]\n",
            "--------------------\n",
            "--- grade ---\n",
            "  Macro F1: 0.1706\n",
            "  Accuracy: 0.3385\n",
            "  Targets: [29 66 97]\n",
            "  Preds:   [  2 188   2]\n",
            "--------------------\n"
          ]
        },
        {
          "data": {
            "application/vnd.jupyter.widget-view+json": {
              "model_id": "3cc389072ffa43e18d67c0ac5c75bf51",
              "version_major": 2,
              "version_minor": 0
            },
            "text/plain": [
              "valid:   0%|          | 0/24 [00:00<?, ?it/s]"
            ]
          },
          "metadata": {},
          "output_type": "display_data"
        },
        {
          "name": "stdout",
          "output_type": "stream",
          "text": [
            "\n",
            "Epoch valid finished. Calculating final metrics...\n",
            "--- IDH1 ---\n",
            "  Macro F1: 0.3333\n",
            "  Accuracy: 0.5000\n",
            "  Targets: [12 12]\n",
            "  Preds:   [ 0 24]\n",
            "--------------------\n",
            "--- MGMT ---\n",
            "  Macro F1: 0.2500\n",
            "  Accuracy: 0.3333\n",
            "  Targets: [16  8]\n",
            "  Preds:   [ 0 24]\n",
            "--------------------\n",
            "--- 1p/19q ---\n",
            "  Macro F1: 0.1429\n",
            "  Accuracy: 0.1667\n",
            "  Targets: [20  4]\n",
            "  Preds:   [ 0 24]\n",
            "--------------------\n",
            "--- grade ---\n",
            "  Macro F1: 0.1667\n",
            "  Accuracy: 0.3333\n",
            "  Targets: [ 3  8 13]\n",
            "  Preds:   [ 0 24]\n",
            "--------------------\n",
            "Epoch 6: train_loss=3.4629, val_loss=3.2113, LR=0.000300\n",
            "Train Macro F1: {'IDH1_macro_f1': '0.4254', 'MGMT_macro_f1': '0.4278', '1p/19q_macro_f1': '0.2524', 'grade_macro_f1': '0.1706'}\n",
            "Val Macro F1: {'IDH1_macro_f1': '0.3333', 'MGMT_macro_f1': '0.2500', '1p/19q_macro_f1': '0.1429', 'grade_macro_f1': '0.1667'}\n",
            "\n",
            "--- Fold 5 | Epoch 7/30 ---\n"
          ]
        },
        {
          "data": {
            "application/vnd.jupyter.widget-view+json": {
              "model_id": "8cdc4ef0fa864e24a95eda5fa675f8b2",
              "version_major": 2,
              "version_minor": 0
            },
            "text/plain": [
              "train:   0%|          | 0/192 [00:00<?, ?it/s]"
            ]
          },
          "metadata": {},
          "output_type": "display_data"
        },
        {
          "name": "stdout",
          "output_type": "stream",
          "text": [
            "\n",
            "Epoch train finished. Calculating final metrics...\n",
            "--- IDH1 ---\n",
            "  Macro F1: 0.4420\n",
            "  Accuracy: 0.5365\n",
            "  Targets: [ 91 101]\n",
            "  Preds:   [ 22 170]\n",
            "--------------------\n",
            "--- MGMT ---\n",
            "  Macro F1: 0.3637\n",
            "  Accuracy: 0.4688\n",
            "  Targets: [102  90]\n",
            "  Preds:   [ 12 180]\n",
            "--------------------\n",
            "--- 1p/19q ---\n",
            "  Macro F1: 0.2882\n",
            "  Accuracy: 0.3698\n",
            "  Targets: [119  73]\n",
            "  Preds:   [  8 184]\n",
            "--------------------\n",
            "--- grade ---\n",
            "  Macro F1: 0.1891\n",
            "  Accuracy: 0.3958\n",
            "  Targets: [26 76 90]\n",
            "  Preds:   [  0 192]\n",
            "--------------------\n"
          ]
        },
        {
          "data": {
            "application/vnd.jupyter.widget-view+json": {
              "model_id": "311cf5e7a9fb465c8e2141b0b3bc1b6b",
              "version_major": 2,
              "version_minor": 0
            },
            "text/plain": [
              "valid:   0%|          | 0/24 [00:00<?, ?it/s]"
            ]
          },
          "metadata": {},
          "output_type": "display_data"
        },
        {
          "name": "stdout",
          "output_type": "stream",
          "text": [
            "\n",
            "Epoch valid finished. Calculating final metrics...\n",
            "--- IDH1 ---\n",
            "  Macro F1: 0.3333\n",
            "  Accuracy: 0.5000\n",
            "  Targets: [12 12]\n",
            "  Preds:   [ 0 24]\n",
            "--------------------\n",
            "--- MGMT ---\n",
            "  Macro F1: 0.2500\n",
            "  Accuracy: 0.3333\n",
            "  Targets: [16  8]\n",
            "  Preds:   [ 0 24]\n",
            "--------------------\n",
            "--- 1p/19q ---\n",
            "  Macro F1: 0.1429\n",
            "  Accuracy: 0.1667\n",
            "  Targets: [20  4]\n",
            "  Preds:   [ 0 24]\n",
            "--------------------\n",
            "--- grade ---\n",
            "  Macro F1: 0.1667\n",
            "  Accuracy: 0.3333\n",
            "  Targets: [ 3  8 13]\n",
            "  Preds:   [ 0 24]\n",
            "--------------------\n",
            "Epoch 7: train_loss=3.3757, val_loss=3.1919, LR=0.000300\n",
            "Train Macro F1: {'IDH1_macro_f1': '0.4420', 'MGMT_macro_f1': '0.3637', '1p/19q_macro_f1': '0.2882', 'grade_macro_f1': '0.1891'}\n",
            "Val Macro F1: {'IDH1_macro_f1': '0.3333', 'MGMT_macro_f1': '0.2500', '1p/19q_macro_f1': '0.1429', 'grade_macro_f1': '0.1667'}\n",
            "\n",
            "--- Fold 5 | Epoch 8/30 ---\n"
          ]
        },
        {
          "data": {
            "application/vnd.jupyter.widget-view+json": {
              "model_id": "d79105befcf7412daddd50d69387e3e1",
              "version_major": 2,
              "version_minor": 0
            },
            "text/plain": [
              "train:   0%|          | 0/192 [00:00<?, ?it/s]"
            ]
          },
          "metadata": {},
          "output_type": "display_data"
        },
        {
          "name": "stdout",
          "output_type": "stream",
          "text": [
            "\n",
            "Epoch train finished. Calculating final metrics...\n",
            "--- IDH1 ---\n",
            "  Macro F1: 0.3407\n",
            "  Accuracy: 0.4792\n",
            "  Targets: [96 96]\n",
            "  Preds:   [  8 184]\n",
            "--------------------\n",
            "--- MGMT ---\n",
            "  Macro F1: 0.4071\n",
            "  Accuracy: 0.5000\n",
            "  Targets: [98 94]\n",
            "  Preds:   [ 18 174]\n",
            "--------------------\n",
            "--- 1p/19q ---\n",
            "  Macro F1: 0.2381\n",
            "  Accuracy: 0.3125\n",
            "  Targets: [132  60]\n",
            "  Preds:   [  0 192]\n",
            "--------------------\n",
            "--- grade ---\n",
            "  Macro F1: 0.1873\n",
            "  Accuracy: 0.3906\n",
            "  Targets: [25 76 91]\n",
            "  Preds:   [  1 191]\n",
            "--------------------\n"
          ]
        },
        {
          "data": {
            "application/vnd.jupyter.widget-view+json": {
              "model_id": "7a222a84b1984cacbd6c79800d4c0f69",
              "version_major": 2,
              "version_minor": 0
            },
            "text/plain": [
              "valid:   0%|          | 0/24 [00:00<?, ?it/s]"
            ]
          },
          "metadata": {},
          "output_type": "display_data"
        },
        {
          "name": "stdout",
          "output_type": "stream",
          "text": [
            "\n",
            "Epoch valid finished. Calculating final metrics...\n",
            "--- IDH1 ---\n",
            "  Macro F1: 0.3333\n",
            "  Accuracy: 0.5000\n",
            "  Targets: [12 12]\n",
            "  Preds:   [ 0 24]\n",
            "--------------------\n",
            "--- MGMT ---\n",
            "  Macro F1: 0.2500\n",
            "  Accuracy: 0.3333\n",
            "  Targets: [16  8]\n",
            "  Preds:   [ 0 24]\n",
            "--------------------\n",
            "--- 1p/19q ---\n",
            "  Macro F1: 0.1429\n",
            "  Accuracy: 0.1667\n",
            "  Targets: [20  4]\n",
            "  Preds:   [ 0 24]\n",
            "--------------------\n",
            "--- grade ---\n",
            "  Macro F1: 0.1667\n",
            "  Accuracy: 0.3333\n",
            "  Targets: [ 3  8 13]\n",
            "  Preds:   [ 0 24]\n",
            "--------------------\n",
            "Epoch 8: train_loss=3.2626, val_loss=3.1950, LR=0.000300\n",
            "Train Macro F1: {'IDH1_macro_f1': '0.3407', 'MGMT_macro_f1': '0.4071', '1p/19q_macro_f1': '0.2381', 'grade_macro_f1': '0.1873'}\n",
            "Val Macro F1: {'IDH1_macro_f1': '0.3333', 'MGMT_macro_f1': '0.2500', '1p/19q_macro_f1': '0.1429', 'grade_macro_f1': '0.1667'}\n",
            "\n",
            "--- Fold 5 | Epoch 9/30 ---\n"
          ]
        },
        {
          "data": {
            "application/vnd.jupyter.widget-view+json": {
              "model_id": "135545c427594723ab0e95164e0d2a0a",
              "version_major": 2,
              "version_minor": 0
            },
            "text/plain": [
              "train:   0%|          | 0/192 [00:00<?, ?it/s]"
            ]
          },
          "metadata": {},
          "output_type": "display_data"
        },
        {
          "name": "stdout",
          "output_type": "stream",
          "text": [
            "\n",
            "Epoch train finished. Calculating final metrics...\n",
            "--- IDH1 ---\n",
            "  Macro F1: 0.4258\n",
            "  Accuracy: 0.4896\n",
            "  Targets: [101  91]\n",
            "  Preds:   [ 27 165]\n",
            "--------------------\n",
            "--- MGMT ---\n",
            "  Macro F1: 0.3235\n",
            "  Accuracy: 0.4323\n",
            "  Targets: [105  87]\n",
            "  Preds:   [ 10 182]\n",
            "--------------------\n",
            "--- 1p/19q ---\n",
            "  Macro F1: 0.3564\n",
            "  Accuracy: 0.3594\n",
            "  Targets: [144  48]\n",
            "  Preds:   [ 35 157]\n",
            "--------------------\n",
            "--- grade ---\n",
            "  Macro F1: 0.1723\n",
            "  Accuracy: 0.2812\n",
            "  Targets: [ 27  52 113]\n",
            "  Preds:   [  6 185   1]\n",
            "--------------------\n"
          ]
        },
        {
          "data": {
            "application/vnd.jupyter.widget-view+json": {
              "model_id": "d4f8c7bc944945c8b3cb04c3eb2ddcd4",
              "version_major": 2,
              "version_minor": 0
            },
            "text/plain": [
              "valid:   0%|          | 0/24 [00:00<?, ?it/s]"
            ]
          },
          "metadata": {},
          "output_type": "display_data"
        },
        {
          "name": "stdout",
          "output_type": "stream",
          "text": [
            "\n",
            "Epoch valid finished. Calculating final metrics...\n",
            "--- IDH1 ---\n",
            "  Macro F1: 0.4857\n",
            "  Accuracy: 0.5000\n",
            "  Targets: [12 12]\n",
            "  Preds:   [ 8 16]\n",
            "--------------------\n",
            "--- MGMT ---\n",
            "  Macro F1: 0.2500\n",
            "  Accuracy: 0.3333\n",
            "  Targets: [16  8]\n",
            "  Preds:   [ 0 24]\n",
            "--------------------\n",
            "--- 1p/19q ---\n",
            "  Macro F1: 0.3169\n",
            "  Accuracy: 0.3750\n",
            "  Targets: [20  4]\n",
            "  Preds:   [11 13]\n",
            "--------------------\n",
            "--- grade ---\n",
            "  Macro F1: 0.2000\n",
            "  Accuracy: 0.2500\n",
            "  Targets: [ 3  8 13]\n",
            "  Preds:   [ 7 17]\n",
            "--------------------\n",
            "Epoch 9: train_loss=3.2661, val_loss=3.1521, LR=0.000300\n",
            "Train Macro F1: {'IDH1_macro_f1': '0.4258', 'MGMT_macro_f1': '0.3235', '1p/19q_macro_f1': '0.3564', 'grade_macro_f1': '0.1723'}\n",
            "Val Macro F1: {'IDH1_macro_f1': '0.4857', 'MGMT_macro_f1': '0.2500', '1p/19q_macro_f1': '0.3169', 'grade_macro_f1': '0.2000'}\n",
            "Validation F1 ('grade') improved (0.1667 --> 0.2000). Saving model...\n",
            "\n",
            "--- Fold 5 | Epoch 10/30 ---\n"
          ]
        },
        {
          "data": {
            "application/vnd.jupyter.widget-view+json": {
              "model_id": "a26a9facffb5471e8d41fc9fe3090701",
              "version_major": 2,
              "version_minor": 0
            },
            "text/plain": [
              "train:   0%|          | 0/192 [00:00<?, ?it/s]"
            ]
          },
          "metadata": {},
          "output_type": "display_data"
        },
        {
          "name": "stdout",
          "output_type": "stream",
          "text": [
            "\n",
            "Epoch train finished. Calculating final metrics...\n",
            "--- IDH1 ---\n",
            "  Macro F1: 0.5907\n",
            "  Accuracy: 0.6094\n",
            "  Targets: [ 87 105]\n",
            "  Preds:   [ 64 128]\n",
            "--------------------\n",
            "--- MGMT ---\n",
            "  Macro F1: 0.3816\n",
            "  Accuracy: 0.5000\n",
            "  Targets: [96 96]\n",
            "  Preds:   [ 12 180]\n",
            "--------------------\n",
            "--- 1p/19q ---\n",
            "  Macro F1: 0.5315\n",
            "  Accuracy: 0.5938\n",
            "  Targets: [131  61]\n",
            "  Preds:   [131  61]\n",
            "--------------------\n",
            "--- grade ---\n",
            "  Macro F1: 0.3078\n",
            "  Accuracy: 0.4271\n",
            "  Targets: [21 80 91]\n",
            "  Preds:   [ 15 127  50]\n",
            "--------------------\n"
          ]
        },
        {
          "data": {
            "application/vnd.jupyter.widget-view+json": {
              "model_id": "756e03eff027494d9eafe8e6a10850dc",
              "version_major": 2,
              "version_minor": 0
            },
            "text/plain": [
              "valid:   0%|          | 0/24 [00:00<?, ?it/s]"
            ]
          },
          "metadata": {},
          "output_type": "display_data"
        },
        {
          "name": "stdout",
          "output_type": "stream",
          "text": [
            "\n",
            "Epoch valid finished. Calculating final metrics...\n",
            "--- IDH1 ---\n",
            "  Macro F1: 0.3333\n",
            "  Accuracy: 0.5000\n",
            "  Targets: [12 12]\n",
            "  Preds:   [ 0 24]\n",
            "--------------------\n",
            "--- MGMT ---\n",
            "  Macro F1: 0.2500\n",
            "  Accuracy: 0.3333\n",
            "  Targets: [16  8]\n",
            "  Preds:   [ 0 24]\n",
            "--------------------\n",
            "--- 1p/19q ---\n",
            "  Macro F1: 0.3466\n",
            "  Accuracy: 0.3750\n",
            "  Targets: [20  4]\n",
            "  Preds:   [ 9 15]\n",
            "--------------------\n",
            "--- grade ---\n",
            "  Macro F1: 0.1667\n",
            "  Accuracy: 0.3333\n",
            "  Targets: [ 3  8 13]\n",
            "  Preds:   [ 0 24]\n",
            "--------------------\n",
            "Epoch 10: train_loss=3.2068, val_loss=3.1833, LR=0.000300\n",
            "Train Macro F1: {'IDH1_macro_f1': '0.5907', 'MGMT_macro_f1': '0.3816', '1p/19q_macro_f1': '0.5315', 'grade_macro_f1': '0.3078'}\n",
            "Val Macro F1: {'IDH1_macro_f1': '0.3333', 'MGMT_macro_f1': '0.2500', '1p/19q_macro_f1': '0.3466', 'grade_macro_f1': '0.1667'}\n",
            "\n",
            "--- Fold 5 | Epoch 11/30 ---\n"
          ]
        },
        {
          "data": {
            "application/vnd.jupyter.widget-view+json": {
              "model_id": "760bbf36cfc84181a6b7c8a867b2e62e",
              "version_major": 2,
              "version_minor": 0
            },
            "text/plain": [
              "train:   0%|          | 0/192 [00:00<?, ?it/s]"
            ]
          },
          "metadata": {},
          "output_type": "display_data"
        },
        {
          "name": "stdout",
          "output_type": "stream",
          "text": [
            "\n",
            "Epoch train finished. Calculating final metrics...\n",
            "--- IDH1 ---\n",
            "  Macro F1: 0.3621\n",
            "  Accuracy: 0.4375\n",
            "  Targets: [112  80]\n",
            "  Preds:   [ 14 178]\n",
            "--------------------\n",
            "--- MGMT ---\n",
            "  Macro F1: 0.3167\n",
            "  Accuracy: 0.4635\n",
            "  Targets: [101  91]\n",
            "  Preds:   [  2 190]\n",
            "--------------------\n",
            "--- 1p/19q ---\n",
            "  Macro F1: 0.2889\n",
            "  Accuracy: 0.3229\n",
            "  Targets: [137  55]\n",
            "  Preds:   [ 13 179]\n",
            "--------------------\n",
            "--- grade ---\n",
            "  Macro F1: 0.2093\n",
            "  Accuracy: 0.3281\n",
            "  Targets: [ 27  57 108]\n",
            "  Preds:   [  4 183   5]\n",
            "--------------------\n"
          ]
        },
        {
          "data": {
            "application/vnd.jupyter.widget-view+json": {
              "model_id": "5a9faee4788746009da516716c57b69f",
              "version_major": 2,
              "version_minor": 0
            },
            "text/plain": [
              "valid:   0%|          | 0/24 [00:00<?, ?it/s]"
            ]
          },
          "metadata": {},
          "output_type": "display_data"
        },
        {
          "name": "stdout",
          "output_type": "stream",
          "text": [
            "\n",
            "Epoch valid finished. Calculating final metrics...\n",
            "--- IDH1 ---\n",
            "  Macro F1: 0.5804\n",
            "  Accuracy: 0.5833\n",
            "  Targets: [12 12]\n",
            "  Preds:   [14 10]\n",
            "--------------------\n",
            "--- MGMT ---\n",
            "  Macro F1: 0.2500\n",
            "  Accuracy: 0.3333\n",
            "  Targets: [16  8]\n",
            "  Preds:   [ 0 24]\n",
            "--------------------\n",
            "--- 1p/19q ---\n",
            "  Macro F1: 0.1429\n",
            "  Accuracy: 0.1667\n",
            "  Targets: [20  4]\n",
            "  Preds:   [ 0 24]\n",
            "--------------------\n",
            "--- grade ---\n",
            "  Macro F1: 0.3111\n",
            "  Accuracy: 0.3750\n",
            "  Targets: [ 3  8 13]\n",
            "  Preds:   [ 2 22]\n",
            "--------------------\n",
            "Epoch 11: train_loss=3.1459, val_loss=3.1483, LR=0.000300\n",
            "Train Macro F1: {'IDH1_macro_f1': '0.3621', 'MGMT_macro_f1': '0.3167', '1p/19q_macro_f1': '0.2889', 'grade_macro_f1': '0.2093'}\n",
            "Val Macro F1: {'IDH1_macro_f1': '0.5804', 'MGMT_macro_f1': '0.2500', '1p/19q_macro_f1': '0.1429', 'grade_macro_f1': '0.3111'}\n",
            "Validation F1 ('grade') improved (0.2000 --> 0.3111). Saving model...\n",
            "\n",
            "--- Fold 5 | Epoch 12/30 ---\n"
          ]
        },
        {
          "data": {
            "application/vnd.jupyter.widget-view+json": {
              "model_id": "507aea51763a413c881d29a0c4b39dc8",
              "version_major": 2,
              "version_minor": 0
            },
            "text/plain": [
              "train:   0%|          | 0/192 [00:00<?, ?it/s]"
            ]
          },
          "metadata": {},
          "output_type": "display_data"
        },
        {
          "name": "stdout",
          "output_type": "stream",
          "text": [
            "\n",
            "Epoch train finished. Calculating final metrics...\n",
            "--- IDH1 ---\n",
            "  Macro F1: 0.5205\n",
            "  Accuracy: 0.5469\n",
            "  Targets: [99 93]\n",
            "  Preds:   [138  54]\n",
            "--------------------\n",
            "--- MGMT ---\n",
            "  Macro F1: 0.5108\n",
            "  Accuracy: 0.5156\n",
            "  Targets: [118  74]\n",
            "  Preds:   [93 99]\n",
            "--------------------\n",
            "--- 1p/19q ---\n",
            "  Macro F1: 0.2811\n",
            "  Accuracy: 0.3490\n",
            "  Targets: [127  65]\n",
            "  Preds:   [  6 186]\n",
            "--------------------\n",
            "--- grade ---\n",
            "  Macro F1: 0.3969\n",
            "  Accuracy: 0.3958\n",
            "  Targets: [28 67 97]\n",
            "  Preds:   [51 98 43]\n",
            "--------------------\n"
          ]
        },
        {
          "data": {
            "application/vnd.jupyter.widget-view+json": {
              "model_id": "339824b9c458468a8e1c9c4ec8afdcd0",
              "version_major": 2,
              "version_minor": 0
            },
            "text/plain": [
              "valid:   0%|          | 0/24 [00:00<?, ?it/s]"
            ]
          },
          "metadata": {},
          "output_type": "display_data"
        },
        {
          "name": "stdout",
          "output_type": "stream",
          "text": [
            "\n",
            "Epoch valid finished. Calculating final metrics...\n",
            "--- IDH1 ---\n",
            "  Macro F1: 0.5344\n",
            "  Accuracy: 0.5417\n",
            "  Targets: [12 12]\n",
            "  Preds:   [15  9]\n",
            "--------------------\n",
            "--- MGMT ---\n",
            "  Macro F1: 0.4000\n",
            "  Accuracy: 0.6667\n",
            "  Targets: [16  8]\n",
            "  Preds:   [24]\n",
            "--------------------\n",
            "--- 1p/19q ---\n",
            "  Macro F1: 0.1429\n",
            "  Accuracy: 0.1667\n",
            "  Targets: [20  4]\n",
            "  Preds:   [ 0 24]\n",
            "--------------------\n",
            "--- grade ---\n",
            "  Macro F1: 0.2852\n",
            "  Accuracy: 0.3333\n",
            "  Targets: [ 3  8 13]\n",
            "  Preds:   [ 6 16  2]\n",
            "--------------------\n",
            "Epoch 12: train_loss=3.1579, val_loss=3.1340, LR=0.000300\n",
            "Train Macro F1: {'IDH1_macro_f1': '0.5205', 'MGMT_macro_f1': '0.5108', '1p/19q_macro_f1': '0.2811', 'grade_macro_f1': '0.3969'}\n",
            "Val Macro F1: {'IDH1_macro_f1': '0.5344', 'MGMT_macro_f1': '0.4000', '1p/19q_macro_f1': '0.1429', 'grade_macro_f1': '0.2852'}\n",
            "\n",
            "--- Fold 5 | Epoch 13/30 ---\n"
          ]
        },
        {
          "data": {
            "application/vnd.jupyter.widget-view+json": {
              "model_id": "db71dccf0a3f433d8cafa19fdd0e25c3",
              "version_major": 2,
              "version_minor": 0
            },
            "text/plain": [
              "train:   0%|          | 0/192 [00:00<?, ?it/s]"
            ]
          },
          "metadata": {},
          "output_type": "display_data"
        },
        {
          "name": "stdout",
          "output_type": "stream",
          "text": [
            "\n",
            "Epoch train finished. Calculating final metrics...\n",
            "--- IDH1 ---\n",
            "  Macro F1: 0.6132\n",
            "  Accuracy: 0.6198\n",
            "  Targets: [98 94]\n",
            "  Preds:   [119  73]\n",
            "--------------------\n",
            "--- MGMT ---\n",
            "  Macro F1: 0.3862\n",
            "  Accuracy: 0.5365\n",
            "  Targets: [102  90]\n",
            "  Preds:   [185   7]\n",
            "--------------------\n",
            "--- 1p/19q ---\n",
            "  Macro F1: 0.4687\n",
            "  Accuracy: 0.4688\n",
            "  Targets: [136  56]\n",
            "  Preds:   [ 58 134]\n",
            "--------------------\n",
            "--- grade ---\n",
            "  Macro F1: 0.4157\n",
            "  Accuracy: 0.4323\n",
            "  Targets: [ 26  54 112]\n",
            "  Preds:   [49 72 71]\n",
            "--------------------\n"
          ]
        },
        {
          "data": {
            "application/vnd.jupyter.widget-view+json": {
              "model_id": "b4c6bde5839e45cf91f0437d669743c2",
              "version_major": 2,
              "version_minor": 0
            },
            "text/plain": [
              "valid:   0%|          | 0/24 [00:00<?, ?it/s]"
            ]
          },
          "metadata": {},
          "output_type": "display_data"
        },
        {
          "name": "stdout",
          "output_type": "stream",
          "text": [
            "\n",
            "Epoch valid finished. Calculating final metrics...\n",
            "--- IDH1 ---\n",
            "  Macro F1: 0.5312\n",
            "  Accuracy: 0.5833\n",
            "  Targets: [12 12]\n",
            "  Preds:   [ 4 20]\n",
            "--------------------\n",
            "--- MGMT ---\n",
            "  Macro F1: 0.5344\n",
            "  Accuracy: 0.5417\n",
            "  Targets: [16  8]\n",
            "  Preds:   [11 13]\n",
            "--------------------\n",
            "--- 1p/19q ---\n",
            "  Macro F1: 0.2070\n",
            "  Accuracy: 0.2083\n",
            "  Targets: [20  4]\n",
            "  Preds:   [ 5 19]\n",
            "--------------------\n",
            "--- grade ---\n",
            "  Macro F1: 0.2308\n",
            "  Accuracy: 0.3333\n",
            "  Targets: [ 3  8 13]\n",
            "  Preds:   [10  1 13]\n",
            "--------------------\n",
            "Epoch 13: train_loss=2.9905, val_loss=3.2189, LR=0.000300\n",
            "Train Macro F1: {'IDH1_macro_f1': '0.6132', 'MGMT_macro_f1': '0.3862', '1p/19q_macro_f1': '0.4687', 'grade_macro_f1': '0.4157'}\n",
            "Val Macro F1: {'IDH1_macro_f1': '0.5312', 'MGMT_macro_f1': '0.5344', '1p/19q_macro_f1': '0.2070', 'grade_macro_f1': '0.2308'}\n",
            "\n",
            "--- Fold 5 | Epoch 14/30 ---\n"
          ]
        },
        {
          "data": {
            "application/vnd.jupyter.widget-view+json": {
              "model_id": "433f468272894cb589e831e8bbbed770",
              "version_major": 2,
              "version_minor": 0
            },
            "text/plain": [
              "train:   0%|          | 0/192 [00:00<?, ?it/s]"
            ]
          },
          "metadata": {},
          "output_type": "display_data"
        },
        {
          "name": "stdout",
          "output_type": "stream",
          "text": [
            "\n",
            "Epoch train finished. Calculating final metrics...\n",
            "--- IDH1 ---\n",
            "  Macro F1: 0.5179\n",
            "  Accuracy: 0.5312\n",
            "  Targets: [101  91]\n",
            "  Preds:   [ 59 133]\n",
            "--------------------\n",
            "--- MGMT ---\n",
            "  Macro F1: 0.3950\n",
            "  Accuracy: 0.5000\n",
            "  Targets: [99 93]\n",
            "  Preds:   [ 13 179]\n",
            "--------------------\n",
            "--- 1p/19q ---\n",
            "  Macro F1: 0.4876\n",
            "  Accuracy: 0.4896\n",
            "  Targets: [127  65]\n",
            "  Preds:   [ 53 139]\n",
            "--------------------\n",
            "--- grade ---\n",
            "  Macro F1: 0.4433\n",
            "  Accuracy: 0.5365\n",
            "  Targets: [ 21  65 106]\n",
            "  Preds:   [ 56  15 121]\n",
            "--------------------\n"
          ]
        },
        {
          "data": {
            "application/vnd.jupyter.widget-view+json": {
              "model_id": "e0245e071e274d04a68167d1fddcaf72",
              "version_major": 2,
              "version_minor": 0
            },
            "text/plain": [
              "valid:   0%|          | 0/24 [00:00<?, ?it/s]"
            ]
          },
          "metadata": {},
          "output_type": "display_data"
        },
        {
          "name": "stdout",
          "output_type": "stream",
          "text": [
            "\n",
            "Epoch valid finished. Calculating final metrics...\n",
            "--- IDH1 ---\n",
            "  Macro F1: 0.5344\n",
            "  Accuracy: 0.5417\n",
            "  Targets: [12 12]\n",
            "  Preds:   [ 9 15]\n",
            "--------------------\n",
            "--- MGMT ---\n",
            "  Macro F1: 0.2500\n",
            "  Accuracy: 0.3333\n",
            "  Targets: [16  8]\n",
            "  Preds:   [ 0 24]\n",
            "--------------------\n",
            "--- 1p/19q ---\n",
            "  Macro F1: 0.3333\n",
            "  Accuracy: 0.3333\n",
            "  Targets: [20  4]\n",
            "  Preds:   [ 4 20]\n",
            "--------------------\n",
            "--- grade ---\n",
            "  Macro F1: 0.4478\n",
            "  Accuracy: 0.5000\n",
            "  Targets: [ 3  8 13]\n",
            "  Preds:   [ 5  7 12]\n",
            "--------------------\n",
            "Epoch 14: train_loss=2.7618, val_loss=3.2049, LR=0.000300\n",
            "Train Macro F1: {'IDH1_macro_f1': '0.5179', 'MGMT_macro_f1': '0.3950', '1p/19q_macro_f1': '0.4876', 'grade_macro_f1': '0.4433'}\n",
            "Val Macro F1: {'IDH1_macro_f1': '0.5344', 'MGMT_macro_f1': '0.2500', '1p/19q_macro_f1': '0.3333', 'grade_macro_f1': '0.4478'}\n",
            "Validation F1 ('grade') improved (0.3111 --> 0.4478). Saving model...\n",
            "\n",
            "--- Fold 5 | Epoch 15/30 ---\n"
          ]
        },
        {
          "data": {
            "application/vnd.jupyter.widget-view+json": {
              "model_id": "e9fe93d30fef49e8b88257bb4f4e33ac",
              "version_major": 2,
              "version_minor": 0
            },
            "text/plain": [
              "train:   0%|          | 0/192 [00:00<?, ?it/s]"
            ]
          },
          "metadata": {},
          "output_type": "display_data"
        },
        {
          "name": "stdout",
          "output_type": "stream",
          "text": [
            "\n",
            "Epoch train finished. Calculating final metrics...\n",
            "--- IDH1 ---\n",
            "  Macro F1: 0.5349\n",
            "  Accuracy: 0.5365\n",
            "  Targets: [110  82]\n",
            "  Preds:   [93 99]\n",
            "--------------------\n",
            "--- MGMT ---\n",
            "  Macro F1: 0.4127\n",
            "  Accuracy: 0.4271\n",
            "  Targets: [111  81]\n",
            "  Preds:   [ 51 141]\n",
            "--------------------\n",
            "--- 1p/19q ---\n",
            "  Macro F1: 0.3764\n",
            "  Accuracy: 0.4062\n",
            "  Targets: [127  65]\n",
            "  Preds:   [ 23 169]\n",
            "--------------------\n",
            "--- grade ---\n",
            "  Macro F1: 0.3272\n",
            "  Accuracy: 0.3906\n",
            "  Targets: [ 14  75 103]\n",
            "  Preds:   [ 27 134  31]\n",
            "--------------------\n"
          ]
        },
        {
          "data": {
            "application/vnd.jupyter.widget-view+json": {
              "model_id": "d9cdf5b6ede34aa1b92383e6a5c211b8",
              "version_major": 2,
              "version_minor": 0
            },
            "text/plain": [
              "valid:   0%|          | 0/24 [00:00<?, ?it/s]"
            ]
          },
          "metadata": {},
          "output_type": "display_data"
        },
        {
          "name": "stdout",
          "output_type": "stream",
          "text": [
            "\n",
            "Epoch valid finished. Calculating final metrics...\n",
            "--- IDH1 ---\n",
            "  Macro F1: 0.5209\n",
            "  Accuracy: 0.5417\n",
            "  Targets: [12 12]\n",
            "  Preds:   [17  7]\n",
            "--------------------\n",
            "--- MGMT ---\n",
            "  Macro F1: 0.6667\n",
            "  Accuracy: 0.7500\n",
            "  Targets: [16  8]\n",
            "  Preds:   [20  4]\n",
            "--------------------\n",
            "--- 1p/19q ---\n",
            "  Macro F1: 0.2500\n",
            "  Accuracy: 0.2500\n",
            "  Targets: [20  4]\n",
            "  Preds:   [ 4 20]\n",
            "--------------------\n",
            "--- grade ---\n",
            "  Macro F1: 0.1667\n",
            "  Accuracy: 0.3333\n",
            "  Targets: [ 3  8 13]\n",
            "  Preds:   [ 0 24]\n",
            "--------------------\n",
            "Epoch 15: train_loss=2.6249, val_loss=3.4319, LR=0.000300\n",
            "Train Macro F1: {'IDH1_macro_f1': '0.5349', 'MGMT_macro_f1': '0.4127', '1p/19q_macro_f1': '0.3764', 'grade_macro_f1': '0.3272'}\n",
            "Val Macro F1: {'IDH1_macro_f1': '0.5209', 'MGMT_macro_f1': '0.6667', '1p/19q_macro_f1': '0.2500', 'grade_macro_f1': '0.1667'}\n",
            "\n",
            "--- Fold 5 | Epoch 16/30 ---\n"
          ]
        },
        {
          "data": {
            "application/vnd.jupyter.widget-view+json": {
              "model_id": "bda7556163204b1e81a6ab796d0a57dc",
              "version_major": 2,
              "version_minor": 0
            },
            "text/plain": [
              "train:   0%|          | 0/192 [00:00<?, ?it/s]"
            ]
          },
          "metadata": {},
          "output_type": "display_data"
        },
        {
          "name": "stdout",
          "output_type": "stream",
          "text": [
            "\n",
            "Epoch train finished. Calculating final metrics...\n",
            "--- IDH1 ---\n",
            "  Macro F1: 0.6314\n",
            "  Accuracy: 0.6354\n",
            "  Targets: [104  88]\n",
            "  Preds:   [108  84]\n",
            "--------------------\n",
            "--- MGMT ---\n",
            "  Macro F1: 0.4189\n",
            "  Accuracy: 0.4583\n",
            "  Targets: [95 97]\n",
            "  Preds:   [ 47 145]\n",
            "--------------------\n",
            "--- 1p/19q ---\n",
            "  Macro F1: 0.2702\n",
            "  Accuracy: 0.3177\n",
            "  Targets: [135  57]\n",
            "  Preds:   [  8 184]\n",
            "--------------------\n",
            "--- grade ---\n",
            "  Macro F1: 0.3022\n",
            "  Accuracy: 0.3542\n",
            "  Targets: [ 21  65 106]\n",
            "  Preds:   [ 28 162   2]\n",
            "--------------------\n"
          ]
        },
        {
          "data": {
            "application/vnd.jupyter.widget-view+json": {
              "model_id": "e4c94aaa61484587b9c04c3bf3d23b38",
              "version_major": 2,
              "version_minor": 0
            },
            "text/plain": [
              "valid:   0%|          | 0/24 [00:00<?, ?it/s]"
            ]
          },
          "metadata": {},
          "output_type": "display_data"
        },
        {
          "name": "stdout",
          "output_type": "stream",
          "text": [
            "\n",
            "Epoch valid finished. Calculating final metrics...\n",
            "--- IDH1 ---\n",
            "  Macro F1: 0.4857\n",
            "  Accuracy: 0.5000\n",
            "  Targets: [12 12]\n",
            "  Preds:   [ 8 16]\n",
            "--------------------\n",
            "--- MGMT ---\n",
            "  Macro F1: 0.2500\n",
            "  Accuracy: 0.3333\n",
            "  Targets: [16  8]\n",
            "  Preds:   [ 0 24]\n",
            "--------------------\n",
            "--- 1p/19q ---\n",
            "  Macro F1: 0.1429\n",
            "  Accuracy: 0.1667\n",
            "  Targets: [20  4]\n",
            "  Preds:   [ 0 24]\n",
            "--------------------\n",
            "--- grade ---\n",
            "  Macro F1: 0.1995\n",
            "  Accuracy: 0.2500\n",
            "  Targets: [ 3  8 13]\n",
            "  Preds:   [ 8 16]\n",
            "--------------------\n",
            "Epoch 16: train_loss=2.7945, val_loss=3.1678, LR=0.000300\n",
            "Train Macro F1: {'IDH1_macro_f1': '0.6314', 'MGMT_macro_f1': '0.4189', '1p/19q_macro_f1': '0.2702', 'grade_macro_f1': '0.3022'}\n",
            "Val Macro F1: {'IDH1_macro_f1': '0.4857', 'MGMT_macro_f1': '0.2500', '1p/19q_macro_f1': '0.1429', 'grade_macro_f1': '0.1995'}\n",
            "\n",
            "--- Fold 5 | Epoch 17/30 ---\n"
          ]
        },
        {
          "data": {
            "application/vnd.jupyter.widget-view+json": {
              "model_id": "12b988f076724d13996660db3c294ff6",
              "version_major": 2,
              "version_minor": 0
            },
            "text/plain": [
              "train:   0%|          | 0/192 [00:00<?, ?it/s]"
            ]
          },
          "metadata": {},
          "output_type": "display_data"
        },
        {
          "name": "stdout",
          "output_type": "stream",
          "text": [
            "\n",
            "Epoch train finished. Calculating final metrics...\n",
            "--- IDH1 ---\n",
            "  Macro F1: 0.6062\n",
            "  Accuracy: 0.6250\n",
            "  Targets: [ 87 105]\n",
            "  Preds:   [ 63 129]\n",
            "--------------------\n",
            "--- MGMT ---\n",
            "  Macro F1: 0.3300\n",
            "  Accuracy: 0.4740\n",
            "  Targets: [101  91]\n",
            "  Preds:   [  2 190]\n",
            "--------------------\n",
            "--- 1p/19q ---\n",
            "  Macro F1: 0.4736\n",
            "  Accuracy: 0.4740\n",
            "  Targets: [134  58]\n",
            "  Preds:   [ 53 139]\n",
            "--------------------\n",
            "--- grade ---\n",
            "  Macro F1: 0.4297\n",
            "  Accuracy: 0.4219\n",
            "  Targets: [ 31  60 101]\n",
            "  Preds:   [ 53 105  34]\n",
            "--------------------\n"
          ]
        },
        {
          "data": {
            "application/vnd.jupyter.widget-view+json": {
              "model_id": "5f20d8b851174c4bb9d62aa047e1d6aa",
              "version_major": 2,
              "version_minor": 0
            },
            "text/plain": [
              "valid:   0%|          | 0/24 [00:00<?, ?it/s]"
            ]
          },
          "metadata": {},
          "output_type": "display_data"
        },
        {
          "name": "stdout",
          "output_type": "stream",
          "text": [
            "\n",
            "Epoch valid finished. Calculating final metrics...\n",
            "--- IDH1 ---\n",
            "  Macro F1: 0.5312\n",
            "  Accuracy: 0.5833\n",
            "  Targets: [12 12]\n",
            "  Preds:   [ 4 20]\n",
            "--------------------\n",
            "--- MGMT ---\n",
            "  Macro F1: 0.2500\n",
            "  Accuracy: 0.3333\n",
            "  Targets: [16  8]\n",
            "  Preds:   [ 0 24]\n",
            "--------------------\n",
            "--- 1p/19q ---\n",
            "  Macro F1: 0.3169\n",
            "  Accuracy: 0.3750\n",
            "  Targets: [20  4]\n",
            "  Preds:   [11 13]\n",
            "--------------------\n",
            "--- grade ---\n",
            "  Macro F1: 0.3730\n",
            "  Accuracy: 0.4167\n",
            "  Targets: [ 3  8 13]\n",
            "  Preds:   [ 6  8 10]\n",
            "--------------------\n",
            "Epoch 17: train_loss=2.9532, val_loss=3.0809, LR=0.000300\n",
            "Train Macro F1: {'IDH1_macro_f1': '0.6062', 'MGMT_macro_f1': '0.3300', '1p/19q_macro_f1': '0.4736', 'grade_macro_f1': '0.4297'}\n",
            "Val Macro F1: {'IDH1_macro_f1': '0.5312', 'MGMT_macro_f1': '0.2500', '1p/19q_macro_f1': '0.3169', 'grade_macro_f1': '0.3730'}\n",
            "\n",
            "--- Fold 5 | Epoch 18/30 ---\n"
          ]
        },
        {
          "data": {
            "application/vnd.jupyter.widget-view+json": {
              "model_id": "6848016576c14dedb1d8fb7a5f0832bc",
              "version_major": 2,
              "version_minor": 0
            },
            "text/plain": [
              "train:   0%|          | 0/192 [00:00<?, ?it/s]"
            ]
          },
          "metadata": {},
          "output_type": "display_data"
        },
        {
          "name": "stdout",
          "output_type": "stream",
          "text": [
            "\n",
            "Epoch train finished. Calculating final metrics...\n",
            "--- IDH1 ---\n",
            "  Macro F1: 0.5789\n",
            "  Accuracy: 0.5938\n",
            "  Targets: [100  92]\n",
            "  Preds:   [ 56 136]\n",
            "--------------------\n",
            "--- MGMT ---\n",
            "  Macro F1: 0.4353\n",
            "  Accuracy: 0.4375\n",
            "  Targets: [112  80]\n",
            "  Preds:   [ 92 100]\n",
            "--------------------\n",
            "--- 1p/19q ---\n",
            "  Macro F1: 0.5822\n",
            "  Accuracy: 0.6042\n",
            "  Targets: [139  53]\n",
            "  Preds:   [97 95]\n",
            "--------------------\n",
            "--- grade ---\n",
            "  Macro F1: 0.4687\n",
            "  Accuracy: 0.5208\n",
            "  Targets: [ 33  56 103]\n",
            "  Preds:   [65 30 97]\n",
            "--------------------\n"
          ]
        },
        {
          "data": {
            "application/vnd.jupyter.widget-view+json": {
              "model_id": "d306a2c566434848a1cd061bbabce80b",
              "version_major": 2,
              "version_minor": 0
            },
            "text/plain": [
              "valid:   0%|          | 0/24 [00:00<?, ?it/s]"
            ]
          },
          "metadata": {},
          "output_type": "display_data"
        },
        {
          "name": "stdout",
          "output_type": "stream",
          "text": [
            "\n",
            "Epoch valid finished. Calculating final metrics...\n",
            "--- IDH1 ---\n",
            "  Macro F1: 0.5312\n",
            "  Accuracy: 0.5833\n",
            "  Targets: [12 12]\n",
            "  Preds:   [ 4 20]\n",
            "--------------------\n",
            "--- MGMT ---\n",
            "  Macro F1: 0.4000\n",
            "  Accuracy: 0.6667\n",
            "  Targets: [16  8]\n",
            "  Preds:   [24]\n",
            "--------------------\n",
            "--- 1p/19q ---\n",
            "  Macro F1: 0.3287\n",
            "  Accuracy: 0.3333\n",
            "  Targets: [20  4]\n",
            "  Preds:   [ 6 18]\n",
            "--------------------\n",
            "--- grade ---\n",
            "  Macro F1: 0.2256\n",
            "  Accuracy: 0.2917\n",
            "  Targets: [ 3  8 13]\n",
            "  Preds:   [15  0  9]\n",
            "--------------------\n",
            "Epoch 18: train_loss=2.8730, val_loss=3.1840, LR=0.000300\n",
            "Train Macro F1: {'IDH1_macro_f1': '0.5789', 'MGMT_macro_f1': '0.4353', '1p/19q_macro_f1': '0.5822', 'grade_macro_f1': '0.4687'}\n",
            "Val Macro F1: {'IDH1_macro_f1': '0.5312', 'MGMT_macro_f1': '0.4000', '1p/19q_macro_f1': '0.3287', 'grade_macro_f1': '0.2256'}\n",
            "\n",
            "--- Fold 5 | Epoch 19/30 ---\n"
          ]
        },
        {
          "data": {
            "application/vnd.jupyter.widget-view+json": {
              "model_id": "d31080b87760495c94ea8e8b4f97f64d",
              "version_major": 2,
              "version_minor": 0
            },
            "text/plain": [
              "train:   0%|          | 0/192 [00:00<?, ?it/s]"
            ]
          },
          "metadata": {},
          "output_type": "display_data"
        },
        {
          "name": "stdout",
          "output_type": "stream",
          "text": [
            "\n",
            "Epoch train finished. Calculating final metrics...\n",
            "--- IDH1 ---\n",
            "  Macro F1: 0.5558\n",
            "  Accuracy: 0.5573\n",
            "  Targets: [ 83 109]\n",
            "  Preds:   [98 94]\n",
            "--------------------\n",
            "--- MGMT ---\n",
            "  Macro F1: 0.4783\n",
            "  Accuracy: 0.4792\n",
            "  Targets: [104  88]\n",
            "  Preds:   [ 80 112]\n",
            "--------------------\n",
            "--- 1p/19q ---\n",
            "  Macro F1: 0.6089\n",
            "  Accuracy: 0.6510\n",
            "  Targets: [135  57]\n",
            "  Preds:   [120  72]\n",
            "--------------------\n",
            "--- grade ---\n",
            "  Macro F1: 0.4595\n",
            "  Accuracy: 0.4635\n",
            "  Targets: [22 84 86]\n",
            "  Preds:   [43 65 84]\n",
            "--------------------\n"
          ]
        },
        {
          "data": {
            "application/vnd.jupyter.widget-view+json": {
              "model_id": "26f23ededda24563852c4d05fc6f58aa",
              "version_major": 2,
              "version_minor": 0
            },
            "text/plain": [
              "valid:   0%|          | 0/24 [00:00<?, ?it/s]"
            ]
          },
          "metadata": {},
          "output_type": "display_data"
        },
        {
          "name": "stdout",
          "output_type": "stream",
          "text": [
            "\n",
            "Epoch valid finished. Calculating final metrics...\n",
            "--- IDH1 ---\n",
            "  Macro F1: 0.3950\n",
            "  Accuracy: 0.5000\n",
            "  Targets: [12 12]\n",
            "  Preds:   [ 2 22]\n",
            "--------------------\n",
            "--- MGMT ---\n",
            "  Macro F1: 0.2500\n",
            "  Accuracy: 0.3333\n",
            "  Targets: [16  8]\n",
            "  Preds:   [ 0 24]\n",
            "--------------------\n",
            "--- 1p/19q ---\n",
            "  Macro F1: 0.3438\n",
            "  Accuracy: 0.4167\n",
            "  Targets: [20  4]\n",
            "  Preds:   [12 12]\n",
            "--------------------\n",
            "--- grade ---\n",
            "  Macro F1: 0.2536\n",
            "  Accuracy: 0.3333\n",
            "  Targets: [ 3  8 13]\n",
            "  Preds:   [ 6 18]\n",
            "--------------------\n",
            "Epoch 19: train_loss=2.9452, val_loss=3.0493, LR=0.000150\n",
            "Train Macro F1: {'IDH1_macro_f1': '0.5558', 'MGMT_macro_f1': '0.4783', '1p/19q_macro_f1': '0.6089', 'grade_macro_f1': '0.4595'}\n",
            "Val Macro F1: {'IDH1_macro_f1': '0.3950', 'MGMT_macro_f1': '0.2500', '1p/19q_macro_f1': '0.3438', 'grade_macro_f1': '0.2536'}\n",
            "\n",
            "--- Fold 5 | Epoch 20/30 ---\n"
          ]
        },
        {
          "data": {
            "application/vnd.jupyter.widget-view+json": {
              "model_id": "6882728ab43142208ccab051968ede98",
              "version_major": 2,
              "version_minor": 0
            },
            "text/plain": [
              "train:   0%|          | 0/192 [00:00<?, ?it/s]"
            ]
          },
          "metadata": {},
          "output_type": "display_data"
        },
        {
          "name": "stdout",
          "output_type": "stream",
          "text": [
            "\n",
            "Epoch train finished. Calculating final metrics...\n",
            "--- IDH1 ---\n",
            "  Macro F1: 0.3669\n",
            "  Accuracy: 0.4635\n",
            "  Targets: [110  82]\n",
            "  Preds:   [  7 185]\n",
            "--------------------\n",
            "--- MGMT ---\n",
            "  Macro F1: 0.4849\n",
            "  Accuracy: 0.5677\n",
            "  Targets: [ 90 102]\n",
            "  Preds:   [ 25 167]\n",
            "--------------------\n",
            "--- 1p/19q ---\n",
            "  Macro F1: 0.4420\n",
            "  Accuracy: 0.4427\n",
            "  Targets: [139  53]\n",
            "  Preds:   [ 46 146]\n",
            "--------------------\n",
            "--- grade ---\n",
            "  Macro F1: 0.2748\n",
            "  Accuracy: 0.3021\n",
            "  Targets: [ 26  59 107]\n",
            "  Preds:   [ 39 153]\n",
            "--------------------\n"
          ]
        },
        {
          "data": {
            "application/vnd.jupyter.widget-view+json": {
              "model_id": "dfc455c3222a45f69bc3e218740d07ac",
              "version_major": 2,
              "version_minor": 0
            },
            "text/plain": [
              "valid:   0%|          | 0/24 [00:00<?, ?it/s]"
            ]
          },
          "metadata": {},
          "output_type": "display_data"
        },
        {
          "name": "stdout",
          "output_type": "stream",
          "text": [
            "\n",
            "Epoch valid finished. Calculating final metrics...\n",
            "--- IDH1 ---\n",
            "  Macro F1: 0.4198\n",
            "  Accuracy: 0.5417\n",
            "  Targets: [12 12]\n",
            "  Preds:   [ 1 23]\n",
            "--------------------\n",
            "--- MGMT ---\n",
            "  Macro F1: 0.2500\n",
            "  Accuracy: 0.3333\n",
            "  Targets: [16  8]\n",
            "  Preds:   [ 0 24]\n",
            "--------------------\n",
            "--- 1p/19q ---\n",
            "  Macro F1: 0.1958\n",
            "  Accuracy: 0.2083\n",
            "  Targets: [20  4]\n",
            "  Preds:   [ 1 23]\n",
            "--------------------\n",
            "--- grade ---\n",
            "  Macro F1: 0.0833\n",
            "  Accuracy: 0.1250\n",
            "  Targets: [ 3  8 13]\n",
            "  Preds:   [21  3]\n",
            "--------------------\n",
            "Epoch 20: train_loss=2.8078, val_loss=3.3610, LR=0.000150\n",
            "Train Macro F1: {'IDH1_macro_f1': '0.3669', 'MGMT_macro_f1': '0.4849', '1p/19q_macro_f1': '0.4420', 'grade_macro_f1': '0.2748'}\n",
            "Val Macro F1: {'IDH1_macro_f1': '0.4198', 'MGMT_macro_f1': '0.2500', '1p/19q_macro_f1': '0.1958', 'grade_macro_f1': '0.0833'}\n",
            "\n",
            "--- Fold 5 | Epoch 21/30 ---\n"
          ]
        },
        {
          "data": {
            "application/vnd.jupyter.widget-view+json": {
              "model_id": "97846d7d296b409d9dce9d5370bdfaa8",
              "version_major": 2,
              "version_minor": 0
            },
            "text/plain": [
              "train:   0%|          | 0/192 [00:00<?, ?it/s]"
            ]
          },
          "metadata": {},
          "output_type": "display_data"
        },
        {
          "name": "stdout",
          "output_type": "stream",
          "text": [
            "\n",
            "Epoch train finished. Calculating final metrics...\n",
            "--- IDH1 ---\n",
            "  Macro F1: 0.5836\n",
            "  Accuracy: 0.5938\n",
            "  Targets: [ 86 106]\n",
            "  Preds:   [ 76 116]\n",
            "--------------------\n",
            "--- MGMT ---\n",
            "  Macro F1: 0.3206\n",
            "  Accuracy: 0.4271\n",
            "  Targets: [108  84]\n",
            "  Preds:   [  8 184]\n",
            "--------------------\n",
            "--- 1p/19q ---\n",
            "  Macro F1: 0.4562\n",
            "  Accuracy: 0.4583\n",
            "  Targets: [128  64]\n",
            "  Preds:   [ 52 140]\n",
            "--------------------\n",
            "--- grade ---\n",
            "  Macro F1: 0.3734\n",
            "  Accuracy: 0.3958\n",
            "  Targets: [25 71 96]\n",
            "  Preds:   [ 56 114  22]\n",
            "--------------------\n"
          ]
        },
        {
          "data": {
            "application/vnd.jupyter.widget-view+json": {
              "model_id": "342293d11f764054bbb7c077a563d4a3",
              "version_major": 2,
              "version_minor": 0
            },
            "text/plain": [
              "valid:   0%|          | 0/24 [00:00<?, ?it/s]"
            ]
          },
          "metadata": {},
          "output_type": "display_data"
        },
        {
          "name": "stdout",
          "output_type": "stream",
          "text": [
            "\n",
            "Epoch valid finished. Calculating final metrics...\n",
            "--- IDH1 ---\n",
            "  Macro F1: 0.4497\n",
            "  Accuracy: 0.4583\n",
            "  Targets: [12 12]\n",
            "  Preds:   [ 9 15]\n",
            "--------------------\n",
            "--- MGMT ---\n",
            "  Macro F1: 0.2500\n",
            "  Accuracy: 0.3333\n",
            "  Targets: [16  8]\n",
            "  Preds:   [ 0 24]\n",
            "--------------------\n",
            "--- 1p/19q ---\n",
            "  Macro F1: 0.2070\n",
            "  Accuracy: 0.2083\n",
            "  Targets: [20  4]\n",
            "  Preds:   [ 3 21]\n",
            "--------------------\n",
            "--- grade ---\n",
            "  Macro F1: 0.4402\n",
            "  Accuracy: 0.4583\n",
            "  Targets: [ 3  8 13]\n",
            "  Preds:   [ 7 14  3]\n",
            "--------------------\n",
            "Epoch 21: train_loss=2.9123, val_loss=2.9788, LR=0.000150\n",
            "Train Macro F1: {'IDH1_macro_f1': '0.5836', 'MGMT_macro_f1': '0.3206', '1p/19q_macro_f1': '0.4562', 'grade_macro_f1': '0.3734'}\n",
            "Val Macro F1: {'IDH1_macro_f1': '0.4497', 'MGMT_macro_f1': '0.2500', '1p/19q_macro_f1': '0.2070', 'grade_macro_f1': '0.4402'}\n",
            "\n",
            "--- Fold 5 | Epoch 22/30 ---\n"
          ]
        },
        {
          "data": {
            "application/vnd.jupyter.widget-view+json": {
              "model_id": "92fd53c4e4104ba5b8b025310d14d161",
              "version_major": 2,
              "version_minor": 0
            },
            "text/plain": [
              "train:   0%|          | 0/192 [00:00<?, ?it/s]"
            ]
          },
          "metadata": {},
          "output_type": "display_data"
        },
        {
          "name": "stdout",
          "output_type": "stream",
          "text": [
            "\n",
            "Epoch train finished. Calculating final metrics...\n",
            "--- IDH1 ---\n",
            "  Macro F1: 0.5755\n",
            "  Accuracy: 0.5781\n",
            "  Targets: [99 93]\n",
            "  Preds:   [ 78 114]\n",
            "--------------------\n",
            "--- MGMT ---\n",
            "  Macro F1: 0.3449\n",
            "  Accuracy: 0.4271\n",
            "  Targets: [108  84]\n",
            "  Preds:   [ 16 176]\n",
            "--------------------\n",
            "--- 1p/19q ---\n",
            "  Macro F1: 0.4300\n",
            "  Accuracy: 0.4479\n",
            "  Targets: [126  66]\n",
            "  Preds:   [ 32 160]\n",
            "--------------------\n",
            "--- grade ---\n",
            "  Macro F1: 0.5279\n",
            "  Accuracy: 0.5052\n",
            "  Targets: [ 25  60 107]\n",
            "  Preds:   [ 30 122  40]\n",
            "--------------------\n"
          ]
        },
        {
          "data": {
            "application/vnd.jupyter.widget-view+json": {
              "model_id": "578a2d85f1cd4758b70947ba069376d6",
              "version_major": 2,
              "version_minor": 0
            },
            "text/plain": [
              "valid:   0%|          | 0/24 [00:00<?, ?it/s]"
            ]
          },
          "metadata": {},
          "output_type": "display_data"
        },
        {
          "name": "stdout",
          "output_type": "stream",
          "text": [
            "\n",
            "Epoch valid finished. Calculating final metrics...\n",
            "--- IDH1 ---\n",
            "  Macro F1: 0.4497\n",
            "  Accuracy: 0.4583\n",
            "  Targets: [12 12]\n",
            "  Preds:   [ 9 15]\n",
            "--------------------\n",
            "--- MGMT ---\n",
            "  Macro F1: 0.2500\n",
            "  Accuracy: 0.3333\n",
            "  Targets: [16  8]\n",
            "  Preds:   [ 0 24]\n",
            "--------------------\n",
            "--- 1p/19q ---\n",
            "  Macro F1: 0.1958\n",
            "  Accuracy: 0.2083\n",
            "  Targets: [20  4]\n",
            "  Preds:   [ 1 23]\n",
            "--------------------\n",
            "--- grade ---\n",
            "  Macro F1: 0.3217\n",
            "  Accuracy: 0.3333\n",
            "  Targets: [ 3  8 13]\n",
            "  Preds:   [ 4 14  6]\n",
            "--------------------\n",
            "Epoch 22: train_loss=2.5221, val_loss=2.9520, LR=0.000150\n",
            "Train Macro F1: {'IDH1_macro_f1': '0.5755', 'MGMT_macro_f1': '0.3449', '1p/19q_macro_f1': '0.4300', 'grade_macro_f1': '0.5279'}\n",
            "Val Macro F1: {'IDH1_macro_f1': '0.4497', 'MGMT_macro_f1': '0.2500', '1p/19q_macro_f1': '0.1958', 'grade_macro_f1': '0.3217'}\n",
            "\n",
            "--- Fold 5 | Epoch 23/30 ---\n"
          ]
        },
        {
          "data": {
            "application/vnd.jupyter.widget-view+json": {
              "model_id": "02761e470246455790e530623b1ca841",
              "version_major": 2,
              "version_minor": 0
            },
            "text/plain": [
              "train:   0%|          | 0/192 [00:00<?, ?it/s]"
            ]
          },
          "metadata": {},
          "output_type": "display_data"
        },
        {
          "name": "stdout",
          "output_type": "stream",
          "text": [
            "\n",
            "Epoch train finished. Calculating final metrics...\n",
            "--- IDH1 ---\n",
            "  Macro F1: 0.6556\n",
            "  Accuracy: 0.6615\n",
            "  Targets: [105  87]\n",
            "  Preds:   [ 62 130]\n",
            "--------------------\n",
            "--- MGMT ---\n",
            "  Macro F1: 0.4043\n",
            "  Accuracy: 0.4219\n",
            "  Targets: [104  88]\n",
            "  Preds:   [ 55 137]\n",
            "--------------------\n",
            "--- 1p/19q ---\n",
            "  Macro F1: 0.3249\n",
            "  Accuracy: 0.3542\n",
            "  Targets: [138  54]\n",
            "  Preds:   [ 14 178]\n",
            "--------------------\n",
            "--- grade ---\n",
            "  Macro F1: 0.5488\n",
            "  Accuracy: 0.5365\n",
            "  Targets: [ 23  60 109]\n",
            "  Preds:   [46 90 56]\n",
            "--------------------\n"
          ]
        },
        {
          "data": {
            "application/vnd.jupyter.widget-view+json": {
              "model_id": "63ecfafd7cdc443187a2665f278ba0f4",
              "version_major": 2,
              "version_minor": 0
            },
            "text/plain": [
              "valid:   0%|          | 0/24 [00:00<?, ?it/s]"
            ]
          },
          "metadata": {},
          "output_type": "display_data"
        },
        {
          "name": "stdout",
          "output_type": "stream",
          "text": [
            "\n",
            "Epoch valid finished. Calculating final metrics...\n",
            "--- IDH1 ---\n",
            "  Macro F1: 0.6571\n",
            "  Accuracy: 0.6667\n",
            "  Targets: [12 12]\n",
            "  Preds:   [16  8]\n",
            "--------------------\n",
            "--- MGMT ---\n",
            "  Macro F1: 0.2500\n",
            "  Accuracy: 0.3333\n",
            "  Targets: [16  8]\n",
            "  Preds:   [ 0 24]\n",
            "--------------------\n",
            "--- 1p/19q ---\n",
            "  Macro F1: 0.2904\n",
            "  Accuracy: 0.2917\n",
            "  Targets: [20  4]\n",
            "  Preds:   [ 5 19]\n",
            "--------------------\n",
            "--- grade ---\n",
            "  Macro F1: 0.4337\n",
            "  Accuracy: 0.5000\n",
            "  Targets: [ 3  8 13]\n",
            "  Preds:   [ 4  7 13]\n",
            "--------------------\n",
            "Epoch 23: train_loss=2.1540, val_loss=3.0683, LR=0.000075\n",
            "Train Macro F1: {'IDH1_macro_f1': '0.6556', 'MGMT_macro_f1': '0.4043', '1p/19q_macro_f1': '0.3249', 'grade_macro_f1': '0.5488'}\n",
            "Val Macro F1: {'IDH1_macro_f1': '0.6571', 'MGMT_macro_f1': '0.2500', '1p/19q_macro_f1': '0.2904', 'grade_macro_f1': '0.4337'}\n",
            "\n",
            "--- Fold 5 | Epoch 24/30 ---\n"
          ]
        },
        {
          "data": {
            "application/vnd.jupyter.widget-view+json": {
              "model_id": "beea2d6fb8774ddfa6a2173946f0beb3",
              "version_major": 2,
              "version_minor": 0
            },
            "text/plain": [
              "train:   0%|          | 0/192 [00:00<?, ?it/s]"
            ]
          },
          "metadata": {},
          "output_type": "display_data"
        },
        {
          "name": "stdout",
          "output_type": "stream",
          "text": [
            "\n",
            "Epoch train finished. Calculating final metrics...\n",
            "--- IDH1 ---\n",
            "  Macro F1: 0.6708\n",
            "  Accuracy: 0.6719\n",
            "  Targets: [101  91]\n",
            "  Preds:   [102  90]\n",
            "--------------------\n",
            "--- MGMT ---\n",
            "  Macro F1: 0.4596\n",
            "  Accuracy: 0.4948\n",
            "  Targets: [101  91]\n",
            "  Preds:   [ 42 150]\n",
            "--------------------\n",
            "--- 1p/19q ---\n",
            "  Macro F1: 0.5780\n",
            "  Accuracy: 0.5781\n",
            "  Targets: [133  59]\n",
            "  Preds:   [ 56 136]\n",
            "--------------------\n",
            "--- grade ---\n",
            "  Macro F1: 0.6097\n",
            "  Accuracy: 0.6250\n",
            "  Targets: [30 65 97]\n",
            "  Preds:   [41 68 83]\n",
            "--------------------\n"
          ]
        },
        {
          "data": {
            "application/vnd.jupyter.widget-view+json": {
              "model_id": "164d756193cf4a9ea90253e270b3dba6",
              "version_major": 2,
              "version_minor": 0
            },
            "text/plain": [
              "valid:   0%|          | 0/24 [00:00<?, ?it/s]"
            ]
          },
          "metadata": {},
          "output_type": "display_data"
        },
        {
          "name": "stdout",
          "output_type": "stream",
          "text": [
            "\n",
            "Epoch valid finished. Calculating final metrics...\n",
            "--- IDH1 ---\n",
            "  Macro F1: 0.6190\n",
            "  Accuracy: 0.6250\n",
            "  Targets: [12 12]\n",
            "  Preds:   [ 9 15]\n",
            "--------------------\n",
            "--- MGMT ---\n",
            "  Macro F1: 0.2500\n",
            "  Accuracy: 0.3333\n",
            "  Targets: [16  8]\n",
            "  Preds:   [ 0 24]\n",
            "--------------------\n",
            "--- 1p/19q ---\n",
            "  Macro F1: 0.3333\n",
            "  Accuracy: 0.3333\n",
            "  Targets: [20  4]\n",
            "  Preds:   [ 4 20]\n",
            "--------------------\n",
            "--- grade ---\n",
            "  Macro F1: 0.3333\n",
            "  Accuracy: 0.3333\n",
            "  Targets: [ 3  8 13]\n",
            "  Preds:   [ 9 10  5]\n",
            "--------------------\n",
            "Epoch 24: train_loss=2.3230, val_loss=3.0420, LR=0.000075\n",
            "Train Macro F1: {'IDH1_macro_f1': '0.6708', 'MGMT_macro_f1': '0.4596', '1p/19q_macro_f1': '0.5780', 'grade_macro_f1': '0.6097'}\n",
            "Val Macro F1: {'IDH1_macro_f1': '0.6190', 'MGMT_macro_f1': '0.2500', '1p/19q_macro_f1': '0.3333', 'grade_macro_f1': '0.3333'}\n",
            "\n",
            "--- Fold 5 | Epoch 25/30 ---\n"
          ]
        },
        {
          "data": {
            "application/vnd.jupyter.widget-view+json": {
              "model_id": "637dc1659ddf4d23afe8f76a1814e944",
              "version_major": 2,
              "version_minor": 0
            },
            "text/plain": [
              "train:   0%|          | 0/192 [00:00<?, ?it/s]"
            ]
          },
          "metadata": {},
          "output_type": "display_data"
        },
        {
          "name": "stdout",
          "output_type": "stream",
          "text": [
            "\n",
            "Epoch train finished. Calculating final metrics...\n",
            "--- IDH1 ---\n",
            "  Macro F1: 0.6545\n",
            "  Accuracy: 0.6719\n",
            "  Targets: [ 85 107]\n",
            "  Preds:   [ 64 128]\n",
            "--------------------\n",
            "--- MGMT ---\n",
            "  Macro F1: 0.4182\n",
            "  Accuracy: 0.5000\n",
            "  Targets: [100  92]\n",
            "  Preds:   [ 20 172]\n",
            "--------------------\n",
            "--- 1p/19q ---\n",
            "  Macro F1: 0.4429\n",
            "  Accuracy: 0.4583\n",
            "  Targets: [130  62]\n",
            "  Preds:   [ 30 162]\n",
            "--------------------\n",
            "--- grade ---\n",
            "  Macro F1: 0.6357\n",
            "  Accuracy: 0.6146\n",
            "  Targets: [33 70 89]\n",
            "  Preds:   [49 99 44]\n",
            "--------------------\n"
          ]
        },
        {
          "data": {
            "application/vnd.jupyter.widget-view+json": {
              "model_id": "311b742879114872b9b65cb7a96e78ad",
              "version_major": 2,
              "version_minor": 0
            },
            "text/plain": [
              "valid:   0%|          | 0/24 [00:00<?, ?it/s]"
            ]
          },
          "metadata": {},
          "output_type": "display_data"
        },
        {
          "name": "stdout",
          "output_type": "stream",
          "text": [
            "\n",
            "Epoch valid finished. Calculating final metrics...\n",
            "--- IDH1 ---\n",
            "  Macro F1: 0.4080\n",
            "  Accuracy: 0.4583\n",
            "  Targets: [12 12]\n",
            "  Preds:   [ 5 19]\n",
            "--------------------\n",
            "--- MGMT ---\n",
            "  Macro F1: 0.2500\n",
            "  Accuracy: 0.3333\n",
            "  Targets: [16  8]\n",
            "  Preds:   [ 0 24]\n",
            "--------------------\n",
            "--- 1p/19q ---\n",
            "  Macro F1: 0.2904\n",
            "  Accuracy: 0.2917\n",
            "  Targets: [20  4]\n",
            "  Preds:   [ 3 21]\n",
            "--------------------\n",
            "--- grade ---\n",
            "  Macro F1: 0.3037\n",
            "  Accuracy: 0.3333\n",
            "  Targets: [ 3  8 13]\n",
            "  Preds:   [ 3 19  2]\n",
            "--------------------\n",
            "Epoch 25: train_loss=2.1981, val_loss=3.1127, LR=0.000075\n",
            "Train Macro F1: {'IDH1_macro_f1': '0.6545', 'MGMT_macro_f1': '0.4182', '1p/19q_macro_f1': '0.4429', 'grade_macro_f1': '0.6357'}\n",
            "Val Macro F1: {'IDH1_macro_f1': '0.4080', 'MGMT_macro_f1': '0.2500', '1p/19q_macro_f1': '0.2904', 'grade_macro_f1': '0.3037'}\n",
            "\n",
            "--- Fold 5 | Epoch 26/30 ---\n"
          ]
        },
        {
          "data": {
            "application/vnd.jupyter.widget-view+json": {
              "model_id": "c8bfc0446462459fbc136342739b7e37",
              "version_major": 2,
              "version_minor": 0
            },
            "text/plain": [
              "train:   0%|          | 0/192 [00:00<?, ?it/s]"
            ]
          },
          "metadata": {},
          "output_type": "display_data"
        },
        {
          "name": "stdout",
          "output_type": "stream",
          "text": [
            "\n",
            "Epoch train finished. Calculating final metrics...\n",
            "--- IDH1 ---\n",
            "  Macro F1: 0.5975\n",
            "  Accuracy: 0.6094\n",
            "  Targets: [109  83]\n",
            "  Preds:   [ 50 142]\n",
            "--------------------\n",
            "--- MGMT ---\n",
            "  Macro F1: 0.3601\n",
            "  Accuracy: 0.4427\n",
            "  Targets: [110  82]\n",
            "  Preds:   [ 13 179]\n",
            "--------------------\n",
            "--- 1p/19q ---\n",
            "  Macro F1: 0.4803\n",
            "  Accuracy: 0.4844\n",
            "  Targets: [136  56]\n",
            "  Preds:   [ 39 153]\n",
            "--------------------\n",
            "--- grade ---\n",
            "  Macro F1: 0.4940\n",
            "  Accuracy: 0.4479\n",
            "  Targets: [ 29  49 114]\n",
            "  Preds:   [ 42 128  22]\n",
            "--------------------\n"
          ]
        },
        {
          "data": {
            "application/vnd.jupyter.widget-view+json": {
              "model_id": "1999b66409504a08962145f42ca9f8e7",
              "version_major": 2,
              "version_minor": 0
            },
            "text/plain": [
              "valid:   0%|          | 0/24 [00:00<?, ?it/s]"
            ]
          },
          "metadata": {},
          "output_type": "display_data"
        },
        {
          "name": "stdout",
          "output_type": "stream",
          "text": [
            "\n",
            "Epoch valid finished. Calculating final metrics...\n",
            "--- IDH1 ---\n",
            "  Macro F1: 0.6571\n",
            "  Accuracy: 0.6667\n",
            "  Targets: [12 12]\n",
            "  Preds:   [16  8]\n",
            "--------------------\n",
            "--- MGMT ---\n",
            "  Macro F1: 0.2500\n",
            "  Accuracy: 0.3333\n",
            "  Targets: [16  8]\n",
            "  Preds:   [ 0 24]\n",
            "--------------------\n",
            "--- 1p/19q ---\n",
            "  Macro F1: 0.3466\n",
            "  Accuracy: 0.3750\n",
            "  Targets: [20  4]\n",
            "  Preds:   [ 9 15]\n",
            "--------------------\n",
            "--- grade ---\n",
            "  Macro F1: 0.3159\n",
            "  Accuracy: 0.2917\n",
            "  Targets: [ 3  8 13]\n",
            "  Preds:   [ 2 15  7]\n",
            "--------------------\n",
            "Epoch 26: train_loss=1.8668, val_loss=3.2232, LR=0.000075\n",
            "Train Macro F1: {'IDH1_macro_f1': '0.5975', 'MGMT_macro_f1': '0.3601', '1p/19q_macro_f1': '0.4803', 'grade_macro_f1': '0.4940'}\n",
            "Val Macro F1: {'IDH1_macro_f1': '0.6571', 'MGMT_macro_f1': '0.2500', '1p/19q_macro_f1': '0.3466', 'grade_macro_f1': '0.3159'}\n",
            "\n",
            "--- Fold 5 | Epoch 27/30 ---\n"
          ]
        },
        {
          "data": {
            "application/vnd.jupyter.widget-view+json": {
              "model_id": "668d576ed96c4f6194ea2147bf62742e",
              "version_major": 2,
              "version_minor": 0
            },
            "text/plain": [
              "train:   0%|          | 0/192 [00:00<?, ?it/s]"
            ]
          },
          "metadata": {},
          "output_type": "display_data"
        },
        {
          "name": "stdout",
          "output_type": "stream",
          "text": [
            "\n",
            "Epoch train finished. Calculating final metrics...\n",
            "--- IDH1 ---\n",
            "  Macro F1: 0.6040\n",
            "  Accuracy: 0.6042\n",
            "  Targets: [93 99]\n",
            "  Preds:   [95 97]\n",
            "--------------------\n",
            "--- MGMT ---\n",
            "  Macro F1: 0.4080\n",
            "  Accuracy: 0.4531\n",
            "  Targets: [105  87]\n",
            "  Preds:   [ 34 158]\n",
            "--------------------\n",
            "--- 1p/19q ---\n",
            "  Macro F1: 0.5553\n",
            "  Accuracy: 0.5573\n",
            "  Targets: [139  53]\n",
            "  Preds:   [ 66 126]\n",
            "--------------------\n",
            "--- grade ---\n",
            "  Macro F1: 0.6137\n",
            "  Accuracy: 0.5990\n",
            "  Targets: [ 30  53 109]\n",
            "  Preds:   [40 78 74]\n",
            "--------------------\n"
          ]
        },
        {
          "data": {
            "application/vnd.jupyter.widget-view+json": {
              "model_id": "7eb750ce310346a3b247f9b3cc97b442",
              "version_major": 2,
              "version_minor": 0
            },
            "text/plain": [
              "valid:   0%|          | 0/24 [00:00<?, ?it/s]"
            ]
          },
          "metadata": {},
          "output_type": "display_data"
        },
        {
          "name": "stdout",
          "output_type": "stream",
          "text": [
            "\n",
            "Epoch valid finished. Calculating final metrics...\n",
            "--- IDH1 ---\n",
            "  Macro F1: 0.6571\n",
            "  Accuracy: 0.6667\n",
            "  Targets: [12 12]\n",
            "  Preds:   [16  8]\n",
            "--------------------\n",
            "--- MGMT ---\n",
            "  Macro F1: 0.2500\n",
            "  Accuracy: 0.3333\n",
            "  Targets: [16  8]\n",
            "  Preds:   [ 0 24]\n",
            "--------------------\n",
            "--- 1p/19q ---\n",
            "  Macro F1: 0.4080\n",
            "  Accuracy: 0.4583\n",
            "  Targets: [20  4]\n",
            "  Preds:   [11 13]\n",
            "--------------------\n",
            "--- grade ---\n",
            "  Macro F1: 0.4404\n",
            "  Accuracy: 0.4583\n",
            "  Targets: [ 3  8 13]\n",
            "  Preds:   [ 2 11 11]\n",
            "--------------------\n",
            "Epoch 27: train_loss=1.9863, val_loss=3.2296, LR=0.000037\n",
            "Train Macro F1: {'IDH1_macro_f1': '0.6040', 'MGMT_macro_f1': '0.4080', '1p/19q_macro_f1': '0.5553', 'grade_macro_f1': '0.6137'}\n",
            "Val Macro F1: {'IDH1_macro_f1': '0.6571', 'MGMT_macro_f1': '0.2500', '1p/19q_macro_f1': '0.4080', 'grade_macro_f1': '0.4404'}\n",
            "\n",
            "--- Fold 5 | Epoch 28/30 ---\n"
          ]
        },
        {
          "data": {
            "application/vnd.jupyter.widget-view+json": {
              "model_id": "26b683f85b6942ea81c82942c3e2488e",
              "version_major": 2,
              "version_minor": 0
            },
            "text/plain": [
              "train:   0%|          | 0/192 [00:00<?, ?it/s]"
            ]
          },
          "metadata": {},
          "output_type": "display_data"
        },
        {
          "name": "stdout",
          "output_type": "stream",
          "text": [
            "\n",
            "Epoch train finished. Calculating final metrics...\n",
            "--- IDH1 ---\n",
            "  Macro F1: 0.6094\n",
            "  Accuracy: 0.6094\n",
            "  Targets: [97 95]\n",
            "  Preds:   [96 96]\n",
            "--------------------\n",
            "--- MGMT ---\n",
            "  Macro F1: 0.4950\n",
            "  Accuracy: 0.5365\n",
            "  Targets: [97 95]\n",
            "  Preds:   [ 40 152]\n",
            "--------------------\n",
            "--- 1p/19q ---\n",
            "  Macro F1: 0.6209\n",
            "  Accuracy: 0.6250\n",
            "  Targets: [128  64]\n",
            "  Preds:   [ 84 108]\n",
            "--------------------\n",
            "--- grade ---\n",
            "  Macro F1: 0.7176\n",
            "  Accuracy: 0.7031\n",
            "  Targets: [28 65 99]\n",
            "  Preds:   [41 69 82]\n",
            "--------------------\n"
          ]
        },
        {
          "data": {
            "application/vnd.jupyter.widget-view+json": {
              "model_id": "efa56b91beb4478c92cfba7416fa08ab",
              "version_major": 2,
              "version_minor": 0
            },
            "text/plain": [
              "valid:   0%|          | 0/24 [00:00<?, ?it/s]"
            ]
          },
          "metadata": {},
          "output_type": "display_data"
        },
        {
          "name": "stdout",
          "output_type": "stream",
          "text": [
            "\n",
            "Epoch valid finished. Calculating final metrics...\n",
            "--- IDH1 ---\n",
            "  Macro F1: 0.5409\n",
            "  Accuracy: 0.5417\n",
            "  Targets: [12 12]\n",
            "  Preds:   [13 11]\n",
            "--------------------\n",
            "--- MGMT ---\n",
            "  Macro F1: 0.2500\n",
            "  Accuracy: 0.3333\n",
            "  Targets: [16  8]\n",
            "  Preds:   [ 0 24]\n",
            "--------------------\n",
            "--- 1p/19q ---\n",
            "  Macro F1: 0.3143\n",
            "  Accuracy: 0.3333\n",
            "  Targets: [20  4]\n",
            "  Preds:   [ 8 16]\n",
            "--------------------\n",
            "--- grade ---\n",
            "  Macro F1: 0.3498\n",
            "  Accuracy: 0.3333\n",
            "  Targets: [ 3  8 13]\n",
            "  Preds:   [ 2 14  8]\n",
            "--------------------\n",
            "Epoch 28: train_loss=1.8037, val_loss=3.2346, LR=0.000037\n",
            "Train Macro F1: {'IDH1_macro_f1': '0.6094', 'MGMT_macro_f1': '0.4950', '1p/19q_macro_f1': '0.6209', 'grade_macro_f1': '0.7176'}\n",
            "Val Macro F1: {'IDH1_macro_f1': '0.5409', 'MGMT_macro_f1': '0.2500', '1p/19q_macro_f1': '0.3143', 'grade_macro_f1': '0.3498'}\n",
            "\n",
            "--- Fold 5 | Epoch 29/30 ---\n"
          ]
        },
        {
          "data": {
            "application/vnd.jupyter.widget-view+json": {
              "model_id": "b3ab230690204e6482a57d18989b4726",
              "version_major": 2,
              "version_minor": 0
            },
            "text/plain": [
              "train:   0%|          | 0/192 [00:00<?, ?it/s]"
            ]
          },
          "metadata": {},
          "output_type": "display_data"
        },
        {
          "name": "stdout",
          "output_type": "stream",
          "text": [
            "\n",
            "Epoch train finished. Calculating final metrics...\n",
            "--- IDH1 ---\n",
            "  Macro F1: 0.6085\n",
            "  Accuracy: 0.6146\n",
            "  Targets: [ 91 101]\n",
            "  Preds:   [ 77 115]\n",
            "--------------------\n",
            "--- MGMT ---\n",
            "  Macro F1: 0.4003\n",
            "  Accuracy: 0.4531\n",
            "  Targets: [109  83]\n",
            "  Preds:   [ 26 166]\n",
            "--------------------\n",
            "--- 1p/19q ---\n",
            "  Macro F1: 0.5674\n",
            "  Accuracy: 0.5677\n",
            "  Targets: [131  61]\n",
            "  Preds:   [ 66 126]\n",
            "--------------------\n",
            "--- grade ---\n",
            "  Macro F1: 0.6596\n",
            "  Accuracy: 0.6250\n",
            "  Targets: [24 71 97]\n",
            "  Preds:   [ 36 103  53]\n",
            "--------------------\n"
          ]
        },
        {
          "data": {
            "application/vnd.jupyter.widget-view+json": {
              "model_id": "8762c8ef210b446a94204c13956907c9",
              "version_major": 2,
              "version_minor": 0
            },
            "text/plain": [
              "valid:   0%|          | 0/24 [00:00<?, ?it/s]"
            ]
          },
          "metadata": {},
          "output_type": "display_data"
        },
        {
          "name": "stdout",
          "output_type": "stream",
          "text": [
            "\n",
            "Epoch valid finished. Calculating final metrics...\n",
            "--- IDH1 ---\n",
            "  Macro F1: 0.5000\n",
            "  Accuracy: 0.5000\n",
            "  Targets: [12 12]\n",
            "  Preds:   [12 12]\n",
            "--------------------\n",
            "--- MGMT ---\n",
            "  Macro F1: 0.2500\n",
            "  Accuracy: 0.3333\n",
            "  Targets: [16  8]\n",
            "  Preds:   [ 0 24]\n",
            "--------------------\n",
            "--- 1p/19q ---\n",
            "  Macro F1: 0.4080\n",
            "  Accuracy: 0.4583\n",
            "  Targets: [20  4]\n",
            "  Preds:   [11 13]\n",
            "--------------------\n",
            "--- grade ---\n",
            "  Macro F1: 0.3815\n",
            "  Accuracy: 0.3750\n",
            "  Targets: [ 3  8 13]\n",
            "  Preds:   [ 2 14  8]\n",
            "--------------------\n",
            "Epoch 29: train_loss=1.6640, val_loss=3.3610, LR=0.000037\n",
            "Train Macro F1: {'IDH1_macro_f1': '0.6085', 'MGMT_macro_f1': '0.4003', '1p/19q_macro_f1': '0.5674', 'grade_macro_f1': '0.6596'}\n",
            "Val Macro F1: {'IDH1_macro_f1': '0.5000', 'MGMT_macro_f1': '0.2500', '1p/19q_macro_f1': '0.4080', 'grade_macro_f1': '0.3815'}\n",
            "\n",
            "--- Fold 5 | Epoch 30/30 ---\n"
          ]
        },
        {
          "data": {
            "application/vnd.jupyter.widget-view+json": {
              "model_id": "7a7a498364ea49ebb5c931d766a729b3",
              "version_major": 2,
              "version_minor": 0
            },
            "text/plain": [
              "train:   0%|          | 0/192 [00:00<?, ?it/s]"
            ]
          },
          "metadata": {},
          "output_type": "display_data"
        },
        {
          "name": "stdout",
          "output_type": "stream",
          "text": [
            "\n",
            "Epoch train finished. Calculating final metrics...\n",
            "--- IDH1 ---\n",
            "  Macro F1: 0.6719\n",
            "  Accuracy: 0.6719\n",
            "  Targets: [99 93]\n",
            "  Preds:   [ 92 100]\n",
            "--------------------\n",
            "--- MGMT ---\n",
            "  Macro F1: 0.4722\n",
            "  Accuracy: 0.4792\n",
            "  Targets: [115  77]\n",
            "  Preds:   [ 55 137]\n",
            "--------------------\n",
            "--- 1p/19q ---\n",
            "  Macro F1: 0.6112\n",
            "  Accuracy: 0.6146\n",
            "  Targets: [133  59]\n",
            "  Preds:   [ 77 115]\n",
            "--------------------\n",
            "--- grade ---\n",
            "  Macro F1: 0.7012\n",
            "  Accuracy: 0.6406\n",
            "  Targets: [ 22  66 104]\n",
            "  Preds:   [ 27 100  65]\n",
            "--------------------\n"
          ]
        },
        {
          "data": {
            "application/vnd.jupyter.widget-view+json": {
              "model_id": "5b826f5ad96748eb8567c92239e0d1fb",
              "version_major": 2,
              "version_minor": 0
            },
            "text/plain": [
              "valid:   0%|          | 0/24 [00:00<?, ?it/s]"
            ]
          },
          "metadata": {},
          "output_type": "display_data"
        },
        {
          "name": "stdout",
          "output_type": "stream",
          "text": [
            "\n",
            "Epoch valid finished. Calculating final metrics...\n",
            "--- IDH1 ---\n",
            "  Macro F1: 0.4857\n",
            "  Accuracy: 0.5000\n",
            "  Targets: [12 12]\n",
            "  Preds:   [ 8 16]\n",
            "--------------------\n",
            "--- MGMT ---\n",
            "  Macro F1: 0.6243\n",
            "  Accuracy: 0.6250\n",
            "  Targets: [16  8]\n",
            "  Preds:   [ 7 17]\n",
            "--------------------\n",
            "--- 1p/19q ---\n",
            "  Macro F1: 0.2804\n",
            "  Accuracy: 0.2917\n",
            "  Targets: [20  4]\n",
            "  Preds:   [ 7 17]\n",
            "--------------------\n",
            "--- grade ---\n",
            "  Macro F1: 0.3217\n",
            "  Accuracy: 0.3333\n",
            "  Targets: [ 3  8 13]\n",
            "  Preds:   [ 4 14  6]\n",
            "--------------------\n",
            "Epoch 30: train_loss=1.5070, val_loss=3.0761, LR=0.000037\n",
            "Train Macro F1: {'IDH1_macro_f1': '0.6719', 'MGMT_macro_f1': '0.4722', '1p/19q_macro_f1': '0.6112', 'grade_macro_f1': '0.7012'}\n",
            "Val Macro F1: {'IDH1_macro_f1': '0.4857', 'MGMT_macro_f1': '0.6243', '1p/19q_macro_f1': '0.2804', 'grade_macro_f1': '0.3217'}\n",
            "\n",
            "===== CV RESULTS (Best Validation grade_macro_f1 per fold) =====\n",
            "Fold 1: 0.4093\n",
            "Fold 2: 0.4823\n",
            "Fold 3: 0.5510\n",
            "Fold 4: 0.3387\n",
            "Fold 5: 0.4478\n",
            "Mean best val F1: 0.4458 ± 0.0710\n"
          ]
        }
      ],
      "source": [
        "N_EPOCHS = 30\n",
        "ACCUM_STEPS = 16\n",
        "BASE_LR = 3e-4\n",
        "WARMUP_EPOCHS = 5\n",
        "INITIAL_LR_FACTOR = 1e-2\n",
        "DEVICE = 'cuda' if torch.cuda.is_available() else 'cpu'\n",
        "\n",
        "target_columns_config = {'grade': 3, 'IDH1': 2, 'MGMT': 2, '1p/19q': 2}\n",
        "fold_results = []\n",
        "\n",
        "for fold, (train_idx, val_idx) in enumerate(skf.split(united, strat_labels), 1):\n",
        "    print(f'\\n==========  FOLD {fold}/{N_FOLDS}  ({len(train_idx)} train / {len(val_idx)} val) ==========')\n",
        "    train_ids = [united[i] for i in train_idx]\n",
        "    val_ids = [united[i] for i in val_idx]\n",
        "\n",
        "    # Losses\n",
        "    bin_alphas, grade_weights = compute_class_weights(df_targets[df_targets.TargetDirectory.isin(train_ids)], all_targets)\n",
        "    criterion_dict = {}\n",
        "    for name in all_targets:\n",
        "        if name == 'grade':\n",
        "            criterion_dict[name] = FocalLoss(gamma=2, alpha=grade_weights.to(DEVICE), binary=False)\n",
        "        else:\n",
        "            alpha = bin_alphas.get(name, 0.5)\n",
        "            if isinstance(alpha, (list, tuple, np.ndarray)):\n",
        "                alpha = alpha[1] if len(alpha) == 2 else 0.5\n",
        "            criterion_dict[name] = FocalLoss(gamma=2, alpha=torch.tensor(alpha, device=DEVICE), binary=True)\n",
        "\n",
        "    # Datasets\n",
        "    train_ds = MRIDataset_double(train_ids, dataset_path=\"/kaggle/input/patients-mri/patients_dcm\", contrast1='t1_fl2d_cor', contrast2=\"t2_tirm_cor_dark-fluid_3mm\",\n",
        "                                 reshaping_size=(256,256), normalize=True)\n",
        "    val_ds = MRIDataset_double(val_ids, dataset_path=\"/kaggle/input/patients-mri/patients_dcm\", contrast1='t1_fl2d_cor', contrast2=\"t2_tirm_cor_dark-fluid_3mm\",\n",
        "                               reshaping_size=(256,256), normalize=False)\n",
        "    val_ds.set_normalization(train_ds._mean1, train_ds._std1, train_ds._mean2, train_ds._std2)\n",
        "\n",
        "    # Sampler and loaders\n",
        "    train_sampler = make_multi_target_sampler(train_ids, df_targets, target_columns_config, oversample_factor=2)\n",
        "    train_loader = MRIDataloader_double(train_ds, batch_size=1, shuffle=False, sampler=train_sampler)\n",
        "    val_loader = MRIDataloader_double(val_ds, batch_size=1, shuffle=False)\n",
        "\n",
        "    # Warmup steps\n",
        "    num_train_steps_per_epoch = len(train_loader) // ACCUM_STEPS\n",
        "    WARMUP_STEPS = WARMUP_EPOCHS * num_train_steps_per_epoch\n",
        "    print(f\"Warmup: {WARMUP_EPOCHS} epochs, {WARMUP_STEPS} steps, LR start factor: {INITIAL_LR_FACTOR}\")\n",
        "\n",
        "    # Model, opt, scheduler\n",
        "    model = SimpleUNetClassifier(target_names=all_targets, num_binary=3).to(DEVICE)\n",
        "    optimizer = torch.optim.AdamW(model.parameters(), lr=BASE_LR, weight_decay=1e-5)\n",
        "    scheduler = torch.optim.lr_scheduler.ReduceLROnPlateau(optimizer, mode='max', factor=0.5, patience=3, verbose=True)\n",
        "\n",
        "    best_val_metric = -np.inf\n",
        "    global_step = 0\n",
        "\n",
        "    for epoch in range(1, N_EPOCHS + 1):\n",
        "        print(f'\\n--- Fold {fold} | Epoch {epoch}/{N_EPOCHS} ---')\n",
        "        train_loss, train_f1, global_step = run_epoch(\n",
        "            train_loader, model, criterion_dict, optimizer=optimizer,\n",
        "            accum_steps=ACCUM_STEPS, train=True, device=DEVICE,\n",
        "            global_step=global_step, warmup_steps=WARMUP_STEPS,\n",
        "            base_lr=BASE_LR, initial_lr_factor=INITIAL_LR_FACTOR,\n",
        "            df_targets=df_targets\n",
        "        )\n",
        "        val_loss, val_f1, _ = run_epoch(\n",
        "            val_loader, model, criterion_dict, train=False, device=DEVICE,\n",
        "            df_targets=df_targets\n",
        "        )\n",
        "\n",
        "        current_lr = optimizer.param_groups[0]['lr']\n",
        "        print(f'Epoch {epoch}: train_loss={train_loss:.4f}, val_loss={val_loss:.4f}, LR={current_lr:.6f}')\n",
        "        print(\"Train Macro F1:\", {k: f\"{v:.4f}\" for k, v in train_f1.items()})\n",
        "        print(\"Val Macro F1:\", {k: f\"{v:.4f}\" for k, v in val_f1.items()})\n",
        "\n",
        "        scheduler_metric = val_f1.get('grade_macro_f1', 0.0)\n",
        "        if epoch >= WARMUP_EPOCHS:\n",
        "            scheduler.step(scheduler_metric)\n",
        "        else:\n",
        "            print(f\"Warmup phase (Epoch {epoch}/{WARMUP_EPOCHS}). LR controlled manually. Current LR: {current_lr:.6f}\")\n",
        "\n",
        "        if scheduler_metric > best_val_metric:\n",
        "            print(f\"Validation F1 ('grade') improved ({best_val_metric:.4f} --> {scheduler_metric:.4f}). Saving model...\")\n",
        "            best_val_metric = scheduler_metric\n",
        "            torch.save(model.state_dict(), f'best_fold{fold}_epoch{epoch}.pth')\n",
        "\n",
        "    fold_results.append(best_val_metric)\n",
        "\n",
        "print('\\n===== CV RESULTS (Best Validation grade_macro_f1 per fold) =====')\n",
        "for i, v in enumerate(fold_results, 1):\n",
        "    print(f'Fold {i}: {v:.4f}')\n",
        "print(f'Mean best val F1: {np.mean(fold_results):.4f} ± {np.std(fold_results):.4f}')"
      ]
    }
  ],
  "metadata": {
    "kaggle": {
      "accelerator": "gpu",
      "dataSources": [
        {
          "datasetId": 6941777,
          "sourceId": 11343147,
          "sourceType": "datasetVersion"
        }
      ],
      "dockerImageVersionId": 31012,
      "isGpuEnabled": true,
      "isInternetEnabled": true,
      "language": "python",
      "sourceType": "notebook"
    },
    "kernelspec": {
      "display_name": "Python 3",
      "language": "python",
      "name": "python3"
    },
    "language_info": {
      "codemirror_mode": {
        "name": "ipython",
        "version": 3
      },
      "file_extension": ".py",
      "mimetype": "text/x-python",
      "name": "python",
      "nbconvert_exporter": "python",
      "pygments_lexer": "ipython3",
      "version": "3.11.11"
    },
    "papermill": {
      "default_parameters": {},
      "duration": 15508.700866,
      "end_time": "2025-05-08T16:34:48.612010",
      "environment_variables": {},
      "exception": null,
      "input_path": "__notebook__.ipynb",
      "output_path": "__notebook__.ipynb",
      "parameters": {},
      "start_time": "2025-05-08T12:16:19.911144",
      "version": "2.6.0"
    },
    "widgets": {
      "application/vnd.jupyter.widget-state+json": {}
    },
    "colab": {
      "provenance": []
    }
  },
  "nbformat": 4,
  "nbformat_minor": 5
}