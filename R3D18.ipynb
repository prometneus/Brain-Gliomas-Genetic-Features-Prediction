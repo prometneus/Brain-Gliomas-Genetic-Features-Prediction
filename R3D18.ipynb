{
  "cells": [
    {
      "cell_type": "code",
      "execution_count": null,
      "id": "c4751806",
      "metadata": {
        "_cell_guid": "b1076dfc-b9ad-4769-8c92-a6c4dae69d19",
        "_uuid": "8f2839f25d086af736a60e9eeb907d3b93b6e0e5",
        "execution": {
          "iopub.execute_input": "2025-05-17T23:06:09.571064Z",
          "iopub.status.busy": "2025-05-17T23:06:09.570800Z",
          "iopub.status.idle": "2025-05-17T23:09:10.751594Z",
          "shell.execute_reply": "2025-05-17T23:09:10.750541Z"
        },
        "papermill": {
          "duration": 181.190068,
          "end_time": "2025-05-17T23:09:10.753170",
          "exception": false,
          "start_time": "2025-05-17T23:06:09.563102",
          "status": "completed"
        },
        "tags": [],
        "id": "c4751806",
        "outputId": "a1fc4be9-9e7d-4ccd-9c48-b491ea3dd431"
      },
      "outputs": [
        {
          "name": "stdout",
          "output_type": "stream",
          "text": [
            "\u001b[2K     \u001b[90m━━━━━━━━━━━━━━━━━━━━━━━━━━━━━━━━━━━━━━━━\u001b[0m \u001b[32m50.7/50.7 kB\u001b[0m \u001b[31m3.2 MB/s\u001b[0m eta \u001b[36m0:00:00\u001b[0m\r\n",
            "\u001b[2K   \u001b[90m━━━━━━━━━━━━━━━━━━━━━━━━━━━━━━━━━━━━━━━━\u001b[0m \u001b[32m1.8/1.8 MB\u001b[0m \u001b[31m47.4 MB/s\u001b[0m eta \u001b[36m0:00:00\u001b[0m\r\n",
            "\u001b[2K   \u001b[90m━━━━━━━━━━━━━━━━━━━━━━━━━━━━━━━━━━━━━━━━\u001b[0m \u001b[32m865.2/865.2 MB\u001b[0m \u001b[31m2.0 MB/s\u001b[0m eta \u001b[36m0:00:00\u001b[0m\r\n",
            "\u001b[2K   \u001b[90m━━━━━━━━━━━━━━━━━━━━━━━━━━━━━━━━━━━━━━━━\u001b[0m \u001b[32m393.1/393.1 MB\u001b[0m \u001b[31m3.5 MB/s\u001b[0m eta \u001b[36m0:00:00\u001b[0m\r\n",
            "\u001b[2K   \u001b[90m━━━━━━━━━━━━━━━━━━━━━━━━━━━━━━━━━━━━━━━━\u001b[0m \u001b[32m8.9/8.9 MB\u001b[0m \u001b[31m108.5 MB/s\u001b[0m eta \u001b[36m0:00:00\u001b[0m\r\n",
            "\u001b[2K   \u001b[90m━━━━━━━━━━━━━━━━━━━━━━━━━━━━━━━━━━━━━━━━\u001b[0m \u001b[32m23.7/23.7 MB\u001b[0m \u001b[31m84.0 MB/s\u001b[0m eta \u001b[36m0:00:00\u001b[0m\r\n",
            "\u001b[2K   \u001b[90m━━━━━━━━━━━━━━━━━━━━━━━━━━━━━━━━━━━━━━━━\u001b[0m \u001b[32m897.7/897.7 kB\u001b[0m \u001b[31m46.5 MB/s\u001b[0m eta \u001b[36m0:00:00\u001b[0m\r\n",
            "\u001b[2K   \u001b[90m━━━━━━━━━━━━━━━━━━━━━━━━━━━━━━━━━━━━━━━━\u001b[0m \u001b[32m571.0/571.0 MB\u001b[0m \u001b[31m1.2 MB/s\u001b[0m eta \u001b[36m0:00:00\u001b[0m\r\n",
            "\u001b[2K   \u001b[90m━━━━━━━━━━━━━━━━━━━━━━━━━━━━━━━━━━━━━━━━\u001b[0m \u001b[32m200.2/200.2 MB\u001b[0m \u001b[31m8.6 MB/s\u001b[0m eta \u001b[36m0:00:00\u001b[0m\r\n",
            "\u001b[2K   \u001b[90m━━━━━━━━━━━━━━━━━━━━━━━━━━━━━━━━━━━━━━━━\u001b[0m \u001b[32m1.1/1.1 MB\u001b[0m \u001b[31m46.7 MB/s\u001b[0m eta \u001b[36m0:00:00\u001b[0m\r\n",
            "\u001b[2K   \u001b[90m━━━━━━━━━━━━━━━━━━━━━━━━━━━━━━━━━━━━━━━━\u001b[0m \u001b[32m56.3/56.3 MB\u001b[0m \u001b[31m4.3 MB/s\u001b[0m eta \u001b[36m0:00:00\u001b[0m\r\n",
            "\u001b[2K   \u001b[90m━━━━━━━━━━━━━━━━━━━━━━━━━━━━━━━━━━━━━━━━\u001b[0m \u001b[32m158.2/158.2 MB\u001b[0m \u001b[31m8.6 MB/s\u001b[0m eta \u001b[36m0:00:00\u001b[0m\r\n",
            "\u001b[2K   \u001b[90m━━━━━━━━━━━━━━━━━━━━━━━━━━━━━━━━━━━━━━━━\u001b[0m \u001b[32m216.6/216.6 MB\u001b[0m \u001b[31m7.9 MB/s\u001b[0m eta \u001b[36m0:00:00\u001b[0m\r\n",
            "\u001b[2K   \u001b[90m━━━━━━━━━━━━━━━━━━━━━━━━━━━━━━━━━━━━━━━━\u001b[0m \u001b[32m156.8/156.8 MB\u001b[0m \u001b[31m10.9 MB/s\u001b[0m eta \u001b[36m0:00:00\u001b[0m\r\n",
            "\u001b[2K   \u001b[90m━━━━━━━━━━━━━━━━━━━━━━━━━━━━━━━━━━━━━━━━\u001b[0m \u001b[32m201.3/201.3 MB\u001b[0m \u001b[31m8.4 MB/s\u001b[0m eta \u001b[36m0:00:00\u001b[0m\r\n",
            "\u001b[2K   \u001b[90m━━━━━━━━━━━━━━━━━━━━━━━━━━━━━━━━━━━━━━━━\u001b[0m \u001b[32m19.7/19.7 MB\u001b[0m \u001b[31m89.5 MB/s\u001b[0m eta \u001b[36m0:00:00\u001b[0m\r\n",
            "\u001b[2K   \u001b[90m━━━━━━━━━━━━━━━━━━━━━━━━━━━━━━━━━━━━━━━━\u001b[0m \u001b[32m89.3/89.3 kB\u001b[0m \u001b[31m5.7 MB/s\u001b[0m eta \u001b[36m0:00:00\u001b[0m\r\n",
            "\u001b[2K   \u001b[90m━━━━━━━━━━━━━━━━━━━━━━━━━━━━━━━━━━━━━━━━\u001b[0m \u001b[32m156.5/156.5 MB\u001b[0m \u001b[31m10.9 MB/s\u001b[0m eta \u001b[36m0:00:00\u001b[0m\r\n",
            "\u001b[2K   \u001b[90m━━━━━━━━━━━━━━━━━━━━━━━━━━━━━━━━━━━━━━━━\u001b[0m \u001b[32m7.4/7.4 MB\u001b[0m \u001b[31m96.1 MB/s\u001b[0m eta \u001b[36m0:00:00\u001b[0m\r\n",
            "\u001b[2K   \u001b[90m━━━━━━━━━━━━━━━━━━━━━━━━━━━━━━━━━━━━━━━━\u001b[0m \u001b[32m177.6/177.6 kB\u001b[0m \u001b[31m12.0 MB/s\u001b[0m eta \u001b[36m0:00:00\u001b[0m\r\n",
            "\u001b[2K   \u001b[90m━━━━━━━━━━━━━━━━━━━━━━━━━━━━━━━━━━━━━━━━\u001b[0m \u001b[32m6.3/6.3 MB\u001b[0m \u001b[31m101.5 MB/s\u001b[0m eta \u001b[36m0:00:00\u001b[0m\r\n",
            "\u001b[?25h\u001b[31mERROR: pip's dependency resolver does not currently take into account all the packages that are installed. This behaviour is the source of the following dependency conflicts.\r\n",
            "fastai 2.7.18 requires torch<2.6,>=1.10, but you have torch 2.7.0 which is incompatible.\r\n",
            "torchaudio 2.5.1+cu124 requires torch==2.5.1, but you have torch 2.7.0 which is incompatible.\r\n",
            "pylibcugraph-cu12 24.12.0 requires pylibraft-cu12==24.12.*, but you have pylibraft-cu12 25.2.0 which is incompatible.\r\n",
            "pylibcugraph-cu12 24.12.0 requires rmm-cu12==24.12.*, but you have rmm-cu12 25.2.0 which is incompatible.\u001b[0m\u001b[31m\r\n",
            "\u001b[0m"
          ]
        }
      ],
      "source": [
        "!pip install -qU pip torch torchvision torchio\n",
        "# !pip install ipywidgets==8.1.5\n",
        "# !jupyter nbextension enable --py widgetsnbextension"
      ]
    },
    {
      "cell_type": "code",
      "execution_count": null,
      "id": "7aef2f64",
      "metadata": {
        "execution": {
          "iopub.execute_input": "2025-05-17T23:09:10.836041Z",
          "iopub.status.busy": "2025-05-17T23:09:10.835440Z",
          "iopub.status.idle": "2025-05-17T23:09:17.915492Z",
          "shell.execute_reply": "2025-05-17T23:09:17.914645Z"
        },
        "papermill": {
          "duration": 7.123019,
          "end_time": "2025-05-17T23:09:17.916940",
          "exception": false,
          "start_time": "2025-05-17T23:09:10.793921",
          "status": "completed"
        },
        "tags": [],
        "id": "7aef2f64"
      },
      "outputs": [],
      "source": [
        "import os\n",
        "import cv2\n",
        "import json\n",
        "import random\n",
        "import pydicom\n",
        "import warnings\n",
        "import numpy as np\n",
        "import pandas as pd\n",
        "from tqdm import tqdm\n",
        "import torchio as tio\n",
        "from pathlib import Path\n",
        "import SimpleITK as sitk\n",
        "from tqdm.auto import tqdm\n",
        "from functools import reduce\n",
        "from einops import rearrange\n",
        "from collections import defaultdict, Counter\n",
        "from typing import List, Dict, Tuple, Any, Optional\n",
        "from sklearn.model_selection import KFold, StratifiedKFold\n",
        "from sklearn.metrics import f1_score, confusion_matrix, accuracy_score\n",
        "\n",
        "from IPython import display\n",
        "import ipywidgets as widgets\n",
        "import matplotlib.pyplot as plt\n",
        "from ipywidgets.embed import embed_minimal_html\n",
        "\n",
        "\n",
        "import torch\n",
        "import torch.nn as nn\n",
        "import torch.nn.functional as F\n",
        "from torch.nn.utils.rnn import pad_sequence\n",
        "from torch.utils.data import Dataset, DataLoader, Subset, Sampler, WeightedRandomSampler"
      ]
    },
    {
      "cell_type": "markdown",
      "id": "bc6a5ff8",
      "metadata": {
        "papermill": {
          "duration": 0.088779,
          "end_time": "2025-05-17T23:09:18.045464",
          "exception": false,
          "start_time": "2025-05-17T23:09:17.956685",
          "status": "completed"
        },
        "tags": [],
        "id": "bc6a5ff8"
      },
      "source": [
        "# Loaders"
      ]
    },
    {
      "cell_type": "code",
      "execution_count": null,
      "id": "21cc702f",
      "metadata": {
        "execution": {
          "iopub.execute_input": "2025-05-17T23:09:18.125053Z",
          "iopub.status.busy": "2025-05-17T23:09:18.124272Z",
          "iopub.status.idle": "2025-05-17T23:09:18.129369Z",
          "shell.execute_reply": "2025-05-17T23:09:18.128860Z"
        },
        "papermill": {
          "duration": 0.045823,
          "end_time": "2025-05-17T23:09:18.130432",
          "exception": false,
          "start_time": "2025-05-17T23:09:18.084609",
          "status": "completed"
        },
        "tags": [],
        "id": "21cc702f"
      },
      "outputs": [],
      "source": [
        "def get_patients_with_filter(dataset_path : str, target_filter: str) -> List[str]:\n",
        "    \"\"\"\n",
        "     Finds patient IDs that have the specified MRI filter.\n",
        "    \"\"\"\n",
        "    root          = Path(dataset_path)\n",
        "    target_lower  = target_filter.casefold()  # like lower()\n",
        "    patients_ok   = []\n",
        "\n",
        "    for patient_dir in root.iterdir():  # Path objects\n",
        "        if not patient_dir.is_dir():\n",
        "            continue\n",
        "\n",
        "        dcm_dir = patient_dir / \"DCM\"\n",
        "        if not dcm_dir.is_dir():\n",
        "            continue\n",
        "\n",
        "        if any( entry.is_dir() and target_lower in entry.name.casefold()\n",
        "                for entry in dcm_dir.iterdir() ):\n",
        "            patients_ok.append(patient_dir.name)\n",
        "\n",
        "    return sorted(patients_ok)"
      ]
    },
    {
      "cell_type": "code",
      "execution_count": null,
      "id": "85745bca",
      "metadata": {
        "execution": {
          "iopub.execute_input": "2025-05-17T23:09:18.211304Z",
          "iopub.status.busy": "2025-05-17T23:09:18.211043Z",
          "iopub.status.idle": "2025-05-17T23:09:18.234632Z",
          "shell.execute_reply": "2025-05-17T23:09:18.234056Z"
        },
        "papermill": {
          "duration": 0.06586,
          "end_time": "2025-05-17T23:09:18.235757",
          "exception": false,
          "start_time": "2025-05-17T23:09:18.169897",
          "status": "completed"
        },
        "tags": [],
        "id": "85745bca"
      },
      "outputs": [],
      "source": [
        "class MRILoader:\n",
        "    def __init__(self, patient_ids: List[str], dataset_path: str = \"patients_dcm\",\n",
        "                 target_filter: Optional[str] = None,\n",
        "                 batch_size: int = 1,\n",
        "                 reshaping_size: Optional[Tuple[int, int]] = (512, 512)):\n",
        "        self.dataset_path = dataset_path\n",
        "        self.batch_size = batch_size\n",
        "        self.patient_ids = patient_ids\n",
        "        self.max_shape = defaultdict(lambda: [0, 0, 0])  # [slices, rows, cols]\n",
        "        self.reshaping_size = reshaping_size  # Может быть None\n",
        "\n",
        "    def _load_dicom_data(self, file_path: str) -> Optional[Dict[str, Any]]:\n",
        "        try:\n",
        "            ds = pydicom.dcmread(file_path)\n",
        "            if not hasattr(ds, 'PixelSpacing'):\n",
        "                ds.PixelSpacing = [1.0, 1.0]\n",
        "                print(f\"PixelSpacing missing in {file_path}. Using default [1.0, 1.0].\")\n",
        "            if not hasattr(ds, 'SliceThickness'):\n",
        "                ds.SliceThickness = 1.0\n",
        "                print(f\"SliceThickness missing in {file_path}. Using default 1.0.\")\n",
        "\n",
        "\n",
        "            if not hasattr(ds, 'pixel_array'):\n",
        "                print(f\"pixel data missing: {file_path}\")\n",
        "                return None\n",
        "\n",
        "            # feature extraction\n",
        "            return {\n",
        "                'pixel_array': ds.pixel_array,\n",
        "                'slice_location': getattr(ds, 'SliceLocation',\n",
        "                                          ds.ImagePositionPatient[-1] if hasattr(ds, 'ImagePositionPatient') and ds.ImagePositionPatient else None),\n",
        "                'image_position': getattr(ds, 'ImagePositionPatient', None),\n",
        "                'pixel_spacing': tuple(getattr(ds, 'PixelSpacing', (1.0, 1.0))),\n",
        "                'slice_thickness': getattr(ds, 'SliceThickness', 1.0),\n",
        "                'image_orientation': getattr(ds, 'ImageOrientationPatient', None),\n",
        "                'series_description': getattr(ds, 'SeriesDescription', None),\n",
        "                'instance_number': getattr(ds, 'InstanceNumber', None),\n",
        "                'series_time': getattr(ds, 'SeriesTime', None),\n",
        "                'series_uid': getattr(ds, 'SeriesInstanceUID', None),\n",
        "                'acq_number': getattr(ds, 'AcquisitionNumber', None),\n",
        "                'file_path': file_path  # На всякий\n",
        "            }\n",
        "        except Exception as e:\n",
        "            print(f\"Can't read {file_path}: {e}\")\n",
        "            return None\n",
        "\n",
        "    def _resize_single_slice_sitk(self,\n",
        "                                 pixel_array: np.ndarray,\n",
        "                                 original_spacing: Tuple[float, float],\n",
        "                                 target_hw_size: Tuple[int, int],\n",
        "                                 interpolator=sitk.sitkLinear) -> np.ndarray:\n",
        "        \"\"\"\n",
        "        Resizes a single 2D slice using SimpleITK, considering its pixel spacing.\n",
        "        target_hw_size: (target_Height, target_Width)\n",
        "        \"\"\"\n",
        "\n",
        "        if not (original_spacing and len(original_spacing) == 2 and original_spacing[0] > 1e-9 and original_spacing[1] > 1e-9):\n",
        "            print(f\"Invalid original_spacing {original_spacing}. Falling back to cv2.resize.\")\n",
        "            return cv2.resize(pixel_array, dsize=(target_hw_size[1], target_hw_size[0]), interpolation=cv2.INTER_LANCZOS4)\n",
        "\n",
        "        sitk_image = sitk.GetImageFromArray(pixel_array.astype(np.float32))\n",
        "        # SimpleITK ожидает spacing (spacing_x, spacing_y)\n",
        "        # sitk_image.SetSpacing((float(original_spacing[0]), float(original_spacing[1])))\n",
        "\n",
        "        ### POSSIBLE BULLSHIT, BE ADVISED\n",
        "        sitk_image.SetSpacing((float(original_spacing[1]), float(original_spacing[0]))) # if it comes from DICOM, it should be inverted\n",
        "\n",
        "        original_size_wh = sitk_image.GetSize()  # (width, height)\n",
        "        target_size_wh = (target_hw_size[1], target_hw_size[0])  # (target_Width, target_Height)\n",
        "\n",
        "        if original_size_wh == target_size_wh and sitk_image.GetSpacing() == original_spacing :\n",
        "             pass # Ресайз все равно нужен для приведения к целевому спейсингу вычисленному ниже\n",
        "\n",
        "        ref_image = sitk.Image(target_size_wh, sitk_image.GetPixelIDValue())\n",
        "        ref_image.SetOrigin(sitk_image.GetOrigin())\n",
        "        ref_image.SetDirection(sitk_image.GetDirection())\n",
        "\n",
        "        # PhysicalSize = VoxelSize * NumberOfVoxels\n",
        "        # OriginalPhysicalSize = original_spacing * original_size_wh\n",
        "        # TargetPhysicalSize = new_spacing * target_size_wh\n",
        "        # OriginalPhysicalSize == TargetPhysicalSize\n",
        "        # => new_spacing = original_spacing * (original_size_wh / target_size_wh)\n",
        "\n",
        "        if target_size_wh[0] == 0 or target_size_wh[1] == 0:\n",
        "            print(f\"Target size for resize is zero {target_size_wh}. Using cv2.resize.\")\n",
        "            return cv2.resize(pixel_array, dsize=(target_hw_size[1], target_hw_size[0]), interpolation=cv2.INTER_LANCZOS4)\n",
        "\n",
        "        new_spacing = [\n",
        "            sitk_image.GetSpacing()[i] * (original_size_wh[i] / target_size_wh[i])\n",
        "            for i in range(sitk_image.GetDimension())\n",
        "        ]\n",
        "        ref_image.SetSpacing(new_spacing)\n",
        "\n",
        "        resampled_image = sitk.Resample(sitk_image, ref_image, sitk.Transform(),\n",
        "                                        interpolator, sitk_image.GetPixelIDValue())  # sitk.sitkLinear\n",
        "\n",
        "        return sitk.GetArrayFromImage(resampled_image)\n",
        "\n",
        "\n",
        "    def load_patient_data(self, patient_id: str,\n",
        "                          reshaping_size_hw: Optional[Tuple[int, int]],\n",
        "                          target_filter: str) -> Dict[str, Dict[str, Any]]:\n",
        "        \"\"\"\n",
        "        Loads patient's data for a specific series type (target_filter).\n",
        "        target_filter: Exact name of the subfolder containing DICOM files for the series.\n",
        "        reshaping_size_hw: Tuple (Height, Width) for resizing. If None, no resize.\n",
        "        \"\"\"\n",
        "        patient_specific_path = os.path.join(self.dataset_path, patient_id, \"DCM\")\n",
        "        if not os.path.isdir(patient_specific_path):\n",
        "            print(f\"Base DCM dir not found for {patient_id} at {patient_specific_path}\")\n",
        "            return {}\n",
        "\n",
        "        series_folder_path = os.path.join(patient_specific_path, target_filter)\n",
        "\n",
        "        if not os.path.isdir(series_folder_path):\n",
        "            print(f\" Series folder '{target_filter}' not found for patient {patient_id} at '{series_folder_path}'.\")\n",
        "            return {}\n",
        "\n",
        "        dicom_items = []\n",
        "\n",
        "        # Основная по SliceLocation или InstanceNumber\n",
        "        dicom_files = sorted(os.listdir(series_folder_path))\n",
        "        if not dicom_files:\n",
        "            print(f\"No DICOM files found in {series_folder_path}\")\n",
        "            return {}\n",
        "\n",
        "        for name in dicom_files:\n",
        "            if name.startswith('.'):\n",
        "                continue\n",
        "\n",
        "            file_path = os.path.join(series_folder_path, name)\n",
        "            if os.path.isdir(file_path):\n",
        "                continue\n",
        "\n",
        "            item = self._load_dicom_data(file_path)\n",
        "            if item is None:\n",
        "                continue\n",
        "\n",
        "            if item['slice_location'] is None:\n",
        "                if item['instance_number'] is not None:\n",
        "                    print(f\"slice_location is None for {item['file_path']}. Will use instance_number for sorting key if needed.\")\n",
        "                else:\n",
        "                    print(f\"slice_location AND instance_number are None for {item['file_path']}. Cannot reliably sort. Skipping.\")\n",
        "                    continue  # Пропускаю срез, если нет ключа для сортировки\n",
        "\n",
        "            dicom_items.append(item)\n",
        "\n",
        "        if not dicom_items:\n",
        "            print(f\"[warn] No valid DICOM items loaded from {series_folder_path}\")\n",
        "            return {}\n",
        "\n",
        "        # Группировка по SeriesInstanceUID и AcquisitionNumber\n",
        "        groups = defaultdict(list)\n",
        "        for item in dicom_items:\n",
        "            # AcquisitionNumber может быть None\n",
        "            acq_num_key = str(item['acq_number']) if item['acq_number'] is not None else \"None\"\n",
        "            series_uid_key = str(item['series_uid']) if item['series_uid'] is not None else \"UnknownUID\"\n",
        "            group_key = (series_uid_key, acq_num_key)\n",
        "            groups[group_key].append(item)\n",
        "\n",
        "        patient_series_data = {}  # Результат для данного target_filter\n",
        "\n",
        "        for (series_uid, acq_number_str), series_items in groups.items():\n",
        "            # Сортировка срезов внутри каждой группы\n",
        "            # Приоритет: SliceLocation, затем InstanceNumber\n",
        "            def sort_key_slice(x):\n",
        "                sl = x['slice_location']\n",
        "                inst_num = x['instance_number']\n",
        "                if sl is not None:\n",
        "                    try: return float(sl)\n",
        "                    except (ValueError, TypeError): pass  # если не конвертится\n",
        "                if inst_num is not None:\n",
        "                    try: return float(inst_num)  # InstanceNumber если SliceLocation плохой\n",
        "                    except (ValueError, TypeError): pass\n",
        "                print(f\"Cannot determine sort order for {x['file_path']}. Placing last.\")\n",
        "                return float('inf')  # Если оба None или невалидны, ставим в конец\n",
        "\n",
        "            sorted_series_items = sorted(series_items, key=sort_key_slice)\n",
        "\n",
        "            slices_np_list = []\n",
        "            processed_info_list = []\n",
        "\n",
        "            for dicom_data_item in sorted_series_items:\n",
        "                pixel_arr = dicom_data_item['pixel_array']\n",
        "\n",
        "                if pixel_arr.ndim != 2 or pixel_arr.shape[0] == 0 or pixel_arr.shape[1] == 0:\n",
        "                    print(f\"Invalid pixel_array shape {pixel_arr.shape} for slice in {dicom_data_item['file_path']}. Skipping.\")\n",
        "                    continue\n",
        "\n",
        "                # Ресайз, если reshaping_size_hw задан\n",
        "                if reshaping_size_hw is not None and len(reshaping_size_hw) == 2:\n",
        "                    try:\n",
        "                        resized_arr = self._resize_single_slice_sitk(\n",
        "                            pixel_array=pixel_arr,\n",
        "                            original_spacing=dicom_data_item['pixel_spacing'],\n",
        "                            target_hw_size=reshaping_size_hw\n",
        "                        )\n",
        "                        slices_np_list.append(resized_arr.squeeze())\n",
        "                    except Exception as e:\n",
        "                        print(f\"Failed to resize slice from {dicom_data_item['file_path']}: {e}. Skipping.\")\n",
        "                        continue\n",
        "                else:  # Нет ресайза\n",
        "                    slices_np_list.append(pixel_arr.squeeze())\n",
        "\n",
        "                # Метаданные\n",
        "                processed_info_list.append({\n",
        "                    'slice_location': dicom_data_item['slice_location'],\n",
        "                    'image_position': dicom_data_item['image_position'],\n",
        "                    'slice_thickness': dicom_data_item['slice_thickness'],\n",
        "                    'instance_number': dicom_data_item['instance_number'],\n",
        "                    'image_orientation': dicom_data_item['image_orientation'],\n",
        "                    'series_description': dicom_data_item['series_description'],\n",
        "                    'pixel_spacing': dicom_data_item['pixel_spacing'],  # Это исходный спейсинг\n",
        "                    'series_time': dicom_data_item['series_time'],\n",
        "                    # 'file_path': dicom_data_item['file_path']  # для отладки\n",
        "                })\n",
        "\n",
        "            if not slices_np_list:\n",
        "                print(f\"[warn] No slices processed for group UID {series_uid}, AcqNum {acq_number_str} in {series_folder_path}\")\n",
        "                continue\n",
        "\n",
        "            try:\n",
        "                if reshaping_size_hw is None and len(slices_np_list) > 1:\n",
        "                    first_shape = slices_np_list[0].shape\n",
        "                    if not all(s.shape == first_shape for s in slices_np_list):\n",
        "                        print(f\"[error] Slices in group UID {series_uid}, AcqNum {acq_number_str} have inconsistent shapes and no reshaping was applied. Cannot stack. Skipping group.\")\n",
        "                        # В случае полного бреда информативно:\n",
        "                        for i, s_arr in enumerate(slices_np_list):\n",
        "                            print(f\"Slice {i} shape: {s_arr.shape} from {processed_info_list[i].get('file_path', 'N/A')}\")\n",
        "                        continue\n",
        "\n",
        "                tensor_3d = np.stack(slices_np_list, axis=0)  # [Z, H, W]\n",
        "            except ValueError as e:\n",
        "                print(f\"Could not stack slices for group UID {series_uid}, AcqNum {acq_number_str} in {series_folder_path}: {e}\")\n",
        "                print(\"Slice shapes:\", [s.shape for s in slices_np_list])\n",
        "                continue\n",
        "\n",
        "\n",
        "            # Ключ для словаря patient_series_data\n",
        "            # target_filter (имя папки серии), UID и AcqNum для уникальности\n",
        "            series_key = f\"{target_filter}_UID-{series_uid}_ACQ-{acq_number_str}\"\n",
        "            patient_series_data[series_key] = {'tensor': tensor_3d, 'info_list': processed_info_list}\n",
        "\n",
        "            # Обновление max_shape\n",
        "            self.max_shape[series_key][0] = max(self.max_shape[series_key][0], tensor_3d.shape[0])\n",
        "            self.max_shape[series_key][1] = max(self.max_shape[series_key][1], tensor_3d.shape[1])\n",
        "            self.max_shape[series_key][2] = max(self.max_shape[series_key][2], tensor_3d.shape[2])\n",
        "\n",
        "        return patient_series_data"
      ]
    },
    {
      "cell_type": "code",
      "execution_count": null,
      "id": "33fee42a",
      "metadata": {
        "execution": {
          "iopub.execute_input": "2025-05-17T23:09:18.315592Z",
          "iopub.status.busy": "2025-05-17T23:09:18.315080Z",
          "iopub.status.idle": "2025-05-17T23:09:18.343013Z",
          "shell.execute_reply": "2025-05-17T23:09:18.342513Z"
        },
        "papermill": {
          "duration": 0.068985,
          "end_time": "2025-05-17T23:09:18.344042",
          "exception": false,
          "start_time": "2025-05-17T23:09:18.275057",
          "status": "completed"
        },
        "tags": [],
        "id": "33fee42a"
      },
      "outputs": [],
      "source": [
        "class PadToLargest(tio.transforms.Transform):\n",
        "    def apply_transform(self, subject: tio.Subject) -> tio.Subject:\n",
        "        shapes = [img.spatial_shape for img in subject.get_images()]\n",
        "        target_shape = tuple(max(s[d] for s in shapes) for d in range(3))\n",
        "\n",
        "        # Сначала синхронизируем пространство\n",
        "        subject = tio.ToCanonical()(subject)\n",
        "        subject = tio.Resample()(subject)\n",
        "\n",
        "        if all(s == target_shape for s in shapes):\n",
        "            return subject\n",
        "\n",
        "        pad_or_crop = tio.CropOrPad(\n",
        "            target_shape=target_shape,\n",
        "            padding_mode=0,\n",
        "            only_pad=True\n",
        "        )\n",
        "        return pad_or_crop(subject)\n",
        "\n",
        "\n",
        "class MRIDataset_double(MRILoader):\n",
        "    _EPS = 1e-8\n",
        "\n",
        "    def __init__(self, patient_ids: List[str], dataset_path: str = 'patients_dcm',\n",
        "                 contrast1_foldername: str = 't1_fl2d_cor',\n",
        "                 contrast2_foldername: str = 't2_fl2d_cor',\n",
        "                 reshaping_size_hw: Optional[Tuple[int, int]] = None, # (H, W)\n",
        "                 normalize: bool = False,\n",
        "                 augment: bool = False):\n",
        "\n",
        "\n",
        "        self.mri_loader_instance = MRILoader(\n",
        "            patient_ids=[],\n",
        "            dataset_path=dataset_path,\n",
        "            reshaping_size=reshaping_size_hw\n",
        "        )\n",
        "\n",
        "        self.normalize = normalize\n",
        "        self.augment = augment\n",
        "        self.contrast1_foldername = contrast1_foldername\n",
        "        self.contrast2_foldername = contrast2_foldername\n",
        "        self.reshaping_size_hw = reshaping_size_hw  # (H,W)\n",
        "        self.patient_ids = patient_ids  # Список ID для этого датасета\n",
        "        self.dataset_path = dataset_path  # Путь к данным\n",
        "        self._build_augment_pipeline()\n",
        "\n",
        "        self._index: List[str] = []\n",
        "        self._cache: Dict[str, Dict[str, Any]] = {}\n",
        "\n",
        "        self._n_pixels1, self._sum1, self._sum_sq1 = 0, 0.0, 0.0\n",
        "        self._n_pixels2, self._sum2, self._sum_sq2 = 0, 0.0, 0.0\n",
        "\n",
        "        for pid in self.patient_ids:\n",
        "\n",
        "            pdata1_all_series = self.mri_loader_instance.load_patient_data(\n",
        "                patient_id=pid,\n",
        "                reshaping_size_hw=self.reshaping_size_hw,\n",
        "                target_filter=self.contrast1_foldername\n",
        "            )\n",
        "            pdata2_all_series = self.mri_loader_instance.load_patient_data(\n",
        "                patient_id=pid,\n",
        "                reshaping_size_hw=self.reshaping_size_hw,\n",
        "                target_filter=self.contrast2_foldername\n",
        "            )\n",
        "\n",
        "            if not pdata1_all_series or not pdata2_all_series:\n",
        "                # print(f\"Patient {pid}: missing data for one or both contrasts ('{self.contrast1_foldername}', '{self.contrast2_foldername}'). Skipping.\")\n",
        "                continue\n",
        "\n",
        "            # Выбираем одну серию из pdataX_all_series по max количеству срезов\n",
        "            if len(pdata1_all_series) > 1:\n",
        "                # print(f\"Patient {pid}, contrast 1 ({self.contrast1_foldername}): multiple series found ({list(pdata1_all_series.keys())}). Selecting one with max slices.\")\n",
        "                s_key1 = max(pdata1_all_series.keys(), key=lambda k: pdata1_all_series[k]['tensor'].shape[0])\n",
        "            elif pdata1_all_series:\n",
        "                s_key1 = next(iter(pdata1_all_series))\n",
        "            else:\n",
        "                continue\n",
        "\n",
        "            if len(pdata2_all_series) > 1:\n",
        "                # print(f\"Patient {pid}, contrast 2 ({self.contrast2_foldername}): multiple series found ({list(pdata2_all_series.keys())}). Selecting one with max slices.\")\n",
        "                s_key2 = max(pdata2_all_series.keys(), key=lambda k: pdata2_all_series[k]['tensor'].shape[0])\n",
        "            elif pdata2_all_series:\n",
        "                s_key2 = next(iter(pdata2_all_series))\n",
        "            else:\n",
        "                continue\n",
        "\n",
        "            self._cache[pid] = {\n",
        "                'img1_data': pdata1_all_series[s_key1],\n",
        "                'img2_data': pdata2_all_series[s_key2]\n",
        "            }\n",
        "            self._index.append(pid)\n",
        "\n",
        "            # Статистика для нормализации\n",
        "            if self.normalize:\n",
        "                arr1 = pdata1_all_series[s_key1]['tensor'].astype(np.float32)\n",
        "                arr2 = pdata2_all_series[s_key2]['tensor'].astype(np.float32)\n",
        "\n",
        "                self._n_pixels1 += arr1.size\n",
        "                self._sum1 += arr1.sum()\n",
        "                self._sum_sq1 += np.square(arr1).sum()\n",
        "\n",
        "                self._n_pixels2 += arr2.size\n",
        "                self._sum2 += arr2.sum()\n",
        "                self._sum_sq2 += np.square(arr2).sum()\n",
        "\n",
        "        # Параметры нормализации\n",
        "        if self.normalize and self._n_pixels1 > 0 and self._n_pixels2 > 0:\n",
        "            self._mean1 = self._sum1 / self._n_pixels1\n",
        "            var1 = self._sum_sq1 / self._n_pixels1 - self._mean1**2\n",
        "            self._std1 = float(np.sqrt(max(var1, self._EPS)))\n",
        "\n",
        "            self._mean2 = self._sum2 / self._n_pixels2\n",
        "            var2 = self._sum_sq2 / self._n_pixels2 - self._mean2**2\n",
        "            self._std2 = float(np.sqrt(max(var2, self._EPS)))\n",
        "            print(f\"Normalization stats for {self.contrast1_foldername}: mean={self._mean1:.4f}, std={self._std1:.4f}\")\n",
        "            print(f\"Normalization stats for {self.contrast2_foldername}: mean={self._mean2:.4f}, std={self._std2:.4f}\")\n",
        "        else:\n",
        "            # Дефолтные значения\n",
        "            self._mean1, self._std1 = 0.0, 1.0\n",
        "            self._mean2, self._std2 = 0.0, 1.0\n",
        "\n",
        "\n",
        "    @staticmethod\n",
        "    def _slice_meta_to_vec(m: Dict[str, Any]) -> np.ndarray:\n",
        "        vec = []\n",
        "        vec.append(float(m.get('slice_location', 0.) or 0.))\n",
        "        vec.extend(map(float, m.get('image_position', [0., 0., 0.]) or [0.,0.,0.]))\n",
        "        vec.append(float(m.get('slice_thickness', 0.) or 0.))\n",
        "        vec.append(float(m.get('instance_number', 0) or 0))\n",
        "        vec.extend(map(float, m.get('image_orientation', [0.]*6) or [0.]*6))\n",
        "        ps = m.get('pixel_spacing', (0.,0.))\n",
        "        if ps is None or len(ps) < 2: ps = (0.,0.)\n",
        "        vec.extend(map(float, ps[:2]))\n",
        "        return np.asarray(vec, dtype=np.float32)\n",
        "\n",
        "    @classmethod\n",
        "    def metas_to_tensor(cls, info_list: List[Dict[str, Any]]) -> np.ndarray:\n",
        "        if not info_list:\n",
        "            return np.empty((0, 14), dtype=np.float32)\n",
        "        return np.stack([cls._slice_meta_to_vec(m) for m in info_list])\n",
        "\n",
        "    def set_normalization(self, mean1: float, std1: float, mean2: float, std2: float):\n",
        "        self.normalize = True\n",
        "        self._mean1, self._std1 = float(mean1), float(std1)\n",
        "        self._mean2, self._std2 = float(mean2), float(std2)\n",
        "        print(f\"Normalization stats externally set for {self.contrast1_foldername}: mean={self._mean1:.4f}, std={self._std1:.4f}\")\n",
        "        print(f\"Normalization stats externally set for {self.contrast2_foldername}: mean={self._mean2:.4f}, std={self._std2:.4f}\")\n",
        "\n",
        "\n",
        "    def get_max_slices(self) -> int:\n",
        "        if not self._index: return 0\n",
        "        max_z = 0\n",
        "        for pid in self._index:\n",
        "\n",
        "            img1_tensor = self._cache[pid]['img1_data']['tensor']\n",
        "            img2_tensor = self._cache[pid]['img2_data']['tensor']\n",
        "            max_z = max(max_z, img1_tensor.shape[0], img2_tensor.shape[0])\n",
        "        return max_z\n",
        "\n",
        "\n",
        "    # def _build_augment_pipeline(self):\n",
        "    #     if not self.augment:\n",
        "    #         self.transforms_geom = None\n",
        "    #         self.transforms_intensity = None\n",
        "    #         return\n",
        "\n",
        "    #     self.geom_transforms_config = [\n",
        "    #         (tio.RandomFlip, {'axes': ('LR',), 'p': 0.3}),\n",
        "    #         (tio.RandomAffine, {'scales': (0.85, 1.15), 'degrees': 15, 'p': 0.5}),\n",
        "    #         (tio.RandomElasticDeformation, {'num_control_points': 7, 'max_displacement': 3, 'p': 0.3}),\n",
        "    #         (tio.OneOf, {'transforms': [\n",
        "    #             tio.RandomMotion(degrees=10, translation=10),\n",
        "    #             tio.RandomGhosting(intensity=0.5),\n",
        "    #             tio.RandomSpike(intensity=0.5)\n",
        "    #         ], 'p': 0.3})\n",
        "    #     ]\n",
        "\n",
        "    #     self.intensity_transforms_config = [\n",
        "    #         (tio.RandomBiasField, {'p': 0.4}),\n",
        "    #         (tio.RandomNoise, {'p': 0.4, 'mean': 0.0, 'std': 0.05}),\n",
        "    #         (tio.RandomGamma, {'p': 0.4, 'log_gamma': (-0.3, 0.3)}),\n",
        "    #         (tio.RandomBlur, {'p': 0.2, 'std': (0.5, 1.5)}),\n",
        "    #         (tio.OneOf, {'transforms': [\n",
        "    #             tio.RandomMotion(),\n",
        "    #             tio.RandomGhosting(),\n",
        "    #             tio.RandomSpike()\n",
        "    #         ], 'p': 0.2})\n",
        "    #     ]\n",
        "\n",
        "    def _build_augment_pipeline(self):\n",
        "        if not self.augment:\n",
        "            self.transforms_geom = None\n",
        "            self.transforms_intensity1 = None\n",
        "            self.transforms_intensity2 = None\n",
        "            return\n",
        "\n",
        "        # Геометрические - одинаково к обоим контрастам\n",
        "        self.geom_transforms_config = [\n",
        "            (tio.RandomFlip, {'axes': ('LR',), 'p': 0.5}),\n",
        "            (tio.RandomAffine, {'scales': (0.9, 1.1), 'degrees': 10, 'p': 0.7}),\n",
        "            (tio.RandomElasticDeformation, {'num_control_points': 5, 'max_displacement': 4.5, 'p': 0.3})\n",
        "        ]\n",
        "\n",
        "        # Интенсивностные для первого контраста (T1)\n",
        "        self.intensity_transforms_config1 = [\n",
        "            (tio.RandomBiasField, {'p': 0.3, 'coefficients': 0.5}),  # Меньше для T1\n",
        "            (tio.RandomNoise, {'p': 0.3, 'mean': 0.0, 'std': 0.03}),\n",
        "            (tio.RandomGamma, {'p': 0.3, 'log_gamma': (-0.2, 0.2)}),  # Меньший диапазон\n",
        "            (tio.RandomBlur, {'p': 0.2, 'std': (0.5, 1.0)})\n",
        "        ]\n",
        "\n",
        "        # Интенсивностные для второго контраста (T2/FLAIR)\n",
        "        self.intensity_transforms_config2 = [\n",
        "            (tio.RandomBiasField, {'p': 0.4, 'coefficients': 0.7}),  # Сильнее для T2/FLAIR\n",
        "            (tio.RandomNoise, {'p': 0.4, 'mean': 0.0, 'std': 0.04}),\n",
        "            (tio.RandomGamma, {'p': 0.4, 'log_gamma': (-0.3, 0.3)}),  # Больший диапазон\n",
        "            (tio.RandomBlur, {'p': 0.2, 'std': (0.5, 1.5)})\n",
        "        ]\n",
        "\n",
        "    def __len__(self) -> int:\n",
        "        return len(self._index)\n",
        "\n",
        "    def __getitem__(self, idx: int) -> Dict[str, Any]:\n",
        "        pid = self._index[idx]\n",
        "        item1_data = self._cache[pid]['img1_data']\n",
        "        item2_data = self._cache[pid]['img2_data']\n",
        "\n",
        "        img1 = item1_data[\"tensor\"]\n",
        "        img2 = item2_data[\"tensor\"]\n",
        "\n",
        "        # Нормализация\n",
        "        if self.normalize:\n",
        "            img1 = (img1.astype(np.float32) - self._mean1) / (self._std1 + self._EPS)\n",
        "            img2 = (img2.astype(np.float32) - self._mean2) / (self._std2 + self._EPS)\n",
        "        else:\n",
        "            img1 = img1.astype(np.float32)\n",
        "            img2 = img2.astype(np.float32)\n",
        "\n",
        "        if self.augment:\n",
        "            processed_img1 = torch.from_numpy(img1[None, ...])\n",
        "            processed_img2 = torch.from_numpy(img2[None, ...])\n",
        "\n",
        "            for TransformClass, kwargs in self.geom_transforms_config:\n",
        "                current_p = kwargs.get('p', 1.0)\n",
        "                if random.random() < current_p:\n",
        "                    transform_kwargs_no_p = {k:v for k,v in kwargs.items() if k != 'p'}\n",
        "                    transform_instance = TransformClass(**transform_kwargs_no_p)\n",
        "\n",
        "                    # Один и тот же трансформер для обоих изображений\n",
        "                    s_img1 = tio.ScalarImage(tensor=processed_img1.clone(), affine=np.eye(4))\n",
        "                    s_img2 = tio.ScalarImage(tensor=processed_img2.clone(), affine=np.eye(4))\n",
        "\n",
        "                    # Одинаковая трансформация\n",
        "                    out_subj1 = transform_instance(tio.Subject(image=s_img1))\n",
        "                    out_subj2 = transform_instance(tio.Subject(image=s_img2))\n",
        "\n",
        "                    processed_img1 = out_subj1.image.data\n",
        "                    processed_img2 = out_subj2.image.data\n",
        "\n",
        "            # Для первого контраста\n",
        "            for TransformClass, kwargs in self.intensity_transforms_config1:\n",
        "                current_p = kwargs.get('p', 1.0)\n",
        "                if random.random() < current_p:\n",
        "                    transform_kwargs_no_p = {k:v for k,v in kwargs.items() if k != 'p'}\n",
        "                    transform_instance = TransformClass(**transform_kwargs_no_p)\n",
        "                    s_img1 = tio.ScalarImage(tensor=processed_img1.clone())\n",
        "                    out_subj1 = transform_instance(tio.Subject(image=s_img1))\n",
        "                    processed_img1 = out_subj1.image.data\n",
        "\n",
        "            # Для второго контраста\n",
        "            for TransformClass, kwargs in self.intensity_transforms_config2:\n",
        "                current_p = kwargs.get('p', 1.0)\n",
        "                if random.random() < current_p:\n",
        "                    transform_kwargs_no_p = {k:v for k,v in kwargs.items() if k != 'p'}\n",
        "                    transform_instance = TransformClass(**transform_kwargs_no_p)\n",
        "                    s_img2 = tio.ScalarImage(tensor=processed_img2.clone())\n",
        "                    out_subj2 = transform_instance(tio.Subject(image=s_img2))\n",
        "                    processed_img2 = out_subj2.image.data\n",
        "\n",
        "            img1 = processed_img1.squeeze(0).numpy()\n",
        "            img2 = processed_img2.squeeze(0).numpy()\n",
        "\n",
        "        return {\n",
        "            \"img1\": img1,\n",
        "            \"img2\": img2,\n",
        "            \"meta1\": self.metas_to_tensor(item1_data[\"info_list\"]),\n",
        "            \"meta2\": self.metas_to_tensor(item2_data[\"info_list\"]),\n",
        "            \"patient_id\": pid,\n",
        "        }"
      ]
    },
    {
      "cell_type": "code",
      "execution_count": null,
      "id": "18fd81e0",
      "metadata": {
        "execution": {
          "iopub.execute_input": "2025-05-17T23:09:18.424139Z",
          "iopub.status.busy": "2025-05-17T23:09:18.423889Z",
          "iopub.status.idle": "2025-05-17T23:09:18.440630Z",
          "shell.execute_reply": "2025-05-17T23:09:18.439879Z"
        },
        "papermill": {
          "duration": 0.058356,
          "end_time": "2025-05-17T23:09:18.441789",
          "exception": false,
          "start_time": "2025-05-17T23:09:18.383433",
          "status": "completed"
        },
        "tags": [],
        "id": "18fd81e0"
      },
      "outputs": [],
      "source": [
        "def collate_fn_double(\n",
        "    batch: list,\n",
        "    fixed_z: Optional[int] = None,\n",
        "    fixed_h: Optional[int] = None,\n",
        "    fixed_w: Optional[int] = None,\n",
        "    pad_value1: float = 0.0,\n",
        "    pad_value2: float = 0.0\n",
        ") -> dict:\n",
        "    if not batch:\n",
        "        return {}\n",
        "\n",
        "    if fixed_z is not None: max_z = fixed_z\n",
        "    else: max_z = max(max(b[\"img1\"].shape[0], b[\"img2\"].shape[0]) for b in batch) if batch else 0\n",
        "\n",
        "    if fixed_h is not None: max_h = fixed_h\n",
        "    else: max_h = max(max(b[\"img1\"].shape[1], b[\"img2\"].shape[1]) for b in batch) if batch else 0\n",
        "\n",
        "    if fixed_w is not None: max_w = fixed_w\n",
        "    else: max_w = max(max(b[\"img1\"].shape[2], b[\"img2\"].shape[2]) for b in batch) if batch else 0\n",
        "\n",
        "    # Отладочное\n",
        "    # if max_z == 0 or max_h == 0 or max_w == 0 and any(b[\"img1\"].size > 0 for b in batch): # Проверяем, что есть непустые картинки\n",
        "    #     if any(b[\"img1\"].size > 0 for b in batch): # Если были непустые изображения, но max_h/w стали 0\n",
        "    #          print(f\"collate_fn_double: max_h or max_w is 0 with non-empty batch items.\")\n",
        "\n",
        "\n",
        "    def _collate_pad_to_shape(arr, shape, pad_value=0.0):\n",
        "        if arr.shape[0] > shape[0] or arr.shape[1] > shape[1] or arr.shape[2] > shape[2]:\n",
        "            copy_z = min(arr.shape[0], shape[0])\n",
        "            copy_h = min(arr.shape[1], shape[1])\n",
        "            copy_w = min(arr.shape[2], shape[2])\n",
        "\n",
        "            out = np.full(shape, pad_value, dtype=arr.dtype)\n",
        "            out[:copy_z, :copy_h, :copy_w] = arr[:copy_z, :copy_h, :copy_w]\n",
        "            return out\n",
        "\n",
        "        out = np.full(shape, pad_value, dtype=arr.dtype)\n",
        "        z, h, w = arr.shape\n",
        "        out[:z, :h, :w] = arr\n",
        "        return out\n",
        "\n",
        "    def _collate_pad_meta(arr, z_len):\n",
        "        if arr.ndim == 1:\n",
        "            if arr.size == 0 and z_len > 0:\n",
        "                 return np.zeros((z_len, 14), dtype=np.float32)  # 14 - число мета-фич\n",
        "            # print(f\"_collate_pad_meta: meta array is 1D with shape {arr.shape}.\")\n",
        "\n",
        "        num_meta_features = arr.shape[1] if arr.ndim == 2 and arr.shape[1] > 0 else 14 # 14 - дефолт\n",
        "        if arr.size == 0 and z_len > 0:  # Если массив пустой, а z_len > 0\n",
        "             return np.zeros((z_len, num_meta_features), dtype=np.float32)\n",
        "\n",
        "        out = np.zeros((z_len, num_meta_features), dtype=arr.dtype)\n",
        "        copy_z = min(arr.shape[0], z_len)\n",
        "        if arr.size > 0:\n",
        "            out[:copy_z] = arr[:copy_z]\n",
        "        return out\n",
        "\n",
        "    images1 = [_collate_pad_to_shape(b[\"img1\"], (max_z, max_h, max_w), pad_value1)[None] for b in batch]\n",
        "    images2 = [_collate_pad_to_shape(b[\"img2\"], (max_z, max_h, max_w), pad_value2)[None] for b in batch]\n",
        "    # metas1  = [_collate_pad_meta(b[\"meta1\"], max_z) for b in batch]\n",
        "    # metas2  = [_collate_pad_meta(b[\"meta2\"], max_z) for b in batch]\n",
        "\n",
        "    mask1 = [np.concatenate([np.ones(b[\"img1\"].shape[0]), np.zeros(max_z - b[\"img1\"].shape[0])]).astype(np.uint8) for b in batch]\n",
        "    mask2 = [np.concatenate([np.ones(b[\"img2\"].shape[0]), np.zeros(max_z - b[\"img2\"].shape[0])]).astype(np.uint8) for b in batch]\n",
        "\n",
        "    return {\n",
        "        \"img1\": np.stack(images1),\n",
        "        \"img2\": np.stack(images2),\n",
        "        # \"meta1\": np.stack(metas1),\n",
        "        # \"meta2\": np.stack(metas2),\n",
        "        \"mask1\": np.stack(mask1),\n",
        "        \"mask2\": np.stack(mask2),\n",
        "        \"patient_ids\": [b[\"patient_id\"] for b in batch],\n",
        "    }\n",
        "\n",
        "\n",
        "class MRIDataloader_double:\n",
        "    def __init__(self,\n",
        "                 dataset: MRIDataset_double,\n",
        "                 batch_size: int = 2,\n",
        "                 shuffle: bool = False,\n",
        "                 drop_last: bool = False,\n",
        "                 sampler: Optional[Sampler] = None,  # Sampler из torch.utils.data.sampler\n",
        "                 fixed_z: Optional[int] = None,  # Для collate_fn\n",
        "                 fixed_h: Optional[int] = None,  # Для collate_fn\n",
        "                 fixed_w: Optional[int] = None   # Для collate_fn\n",
        "                ):\n",
        "        self.dataset = dataset\n",
        "        self.batch_size = batch_size\n",
        "        self.shuffle = shuffle and sampler is None\n",
        "        self.drop_last = drop_last\n",
        "        self.sampler = sampler\n",
        "        self.fixed_z = fixed_z\n",
        "        self.fixed_h = fixed_h\n",
        "        self.fixed_w = fixed_w\n",
        "\n",
        "    def __iter__(self):\n",
        "        if self.sampler is not None:\n",
        "            idxs = list(self.sampler)\n",
        "        else:\n",
        "            idxs = list(range(len(self.dataset)))\n",
        "            if self.shuffle:\n",
        "                random.shuffle(idxs)\n",
        "\n",
        "        pad_val1, pad_val2 = 0.0, 0.0\n",
        "        if self.dataset.normalize:\n",
        "            std1_eff = self.dataset._std1 + self.dataset._EPS\n",
        "            std2_eff = self.dataset._std2 + self.dataset._EPS\n",
        "            if std1_eff < self.dataset._EPS:\n",
        "                std1_eff = 1.0\n",
        "            if std2_eff < self.dataset._EPS:\n",
        "                std2_eff = 1.0\n",
        "\n",
        "            pad_val1 = (0.0 - self.dataset._mean1) / std1_eff\n",
        "            pad_val2 = (0.0 - self.dataset._mean2) / std2_eff\n",
        "\n",
        "\n",
        "        batch_items = []\n",
        "        for i in idxs:\n",
        "            batch_items.append(self.dataset[i])\n",
        "            if len(batch_items) == self.batch_size:\n",
        "                yield collate_fn_double(\n",
        "                    batch_items,\n",
        "                    fixed_z=self.fixed_z, fixed_h=self.fixed_h, fixed_w=self.fixed_w,\n",
        "                    pad_value1=pad_val1, pad_value2=pad_val2\n",
        "                )\n",
        "                batch_items = []\n",
        "        if batch_items and not self.drop_last:\n",
        "            yield collate_fn_double(\n",
        "                batch_items,\n",
        "                fixed_z=self.fixed_z, fixed_h=self.fixed_h, fixed_w=self.fixed_w,\n",
        "                pad_value1=pad_val1, pad_value2=pad_val2\n",
        "            )\n",
        "\n",
        "    def __len__(self):\n",
        "        if self.sampler is not None:\n",
        "            num_samples = len(self.sampler)\n",
        "        else:\n",
        "            num_samples = len(self.dataset)\n",
        "\n",
        "        if self.drop_last:\n",
        "            return num_samples // self.batch_size\n",
        "        else:\n",
        "            return (num_samples + self.batch_size - 1) // self.batch_size"
      ]
    },
    {
      "cell_type": "code",
      "execution_count": null,
      "id": "b2d172f6",
      "metadata": {
        "execution": {
          "iopub.execute_input": "2025-05-17T23:09:18.521589Z",
          "iopub.status.busy": "2025-05-17T23:09:18.520924Z",
          "iopub.status.idle": "2025-05-17T23:09:21.608844Z",
          "shell.execute_reply": "2025-05-17T23:09:21.608019Z"
        },
        "papermill": {
          "duration": 3.128934,
          "end_time": "2025-05-17T23:09:21.610070",
          "exception": false,
          "start_time": "2025-05-17T23:09:18.481136",
          "status": "completed"
        },
        "tags": [],
        "id": "b2d172f6",
        "outputId": "75494124-071c-4148-a41c-fbfb9cd3a3fb"
      },
      "outputs": [
        {
          "name": "stdout",
          "output_type": "stream",
          "text": [
            "Normalization stats for t1_fl2d_cor: mean=350.9940, std=391.2917\n",
            "Normalization stats for t2_tirm_cor_dark-fluid_3mm: mean=115.5766, std=150.7678\n"
          ]
        }
      ],
      "source": [
        "train_ds = MRIDataset_double(\n",
        "        [\"patient10\", \"patient105\"],\n",
        "        dataset_path=\"/kaggle/input/patients-mri/patients_dcm\",\n",
        "        contrast1_foldername='t1_fl2d_cor',\n",
        "        contrast2_foldername=\"t2_tirm_cor_dark-fluid_3mm\",\n",
        "        reshaping_size_hw=(128, 128),\n",
        "        normalize=True,\n",
        "        augment=True\n",
        "    )\n",
        "\n",
        "train_loader  = MRIDataloader_double(train_ds, batch_size=1, shuffle=False, sampler=None)"
      ]
    },
    {
      "cell_type": "markdown",
      "id": "056b75d8",
      "metadata": {
        "papermill": {
          "duration": 0.039388,
          "end_time": "2025-05-17T23:09:21.689426",
          "exception": false,
          "start_time": "2025-05-17T23:09:21.650038",
          "status": "completed"
        },
        "tags": [],
        "id": "056b75d8"
      },
      "source": [
        "# Targets"
      ]
    },
    {
      "cell_type": "code",
      "execution_count": null,
      "id": "bfc53ac8",
      "metadata": {
        "execution": {
          "iopub.execute_input": "2025-05-17T23:09:21.767862Z",
          "iopub.status.busy": "2025-05-17T23:09:21.767575Z",
          "iopub.status.idle": "2025-05-17T23:09:21.857199Z",
          "shell.execute_reply": "2025-05-17T23:09:21.856331Z"
        },
        "papermill": {
          "duration": 0.130656,
          "end_time": "2025-05-17T23:09:21.858542",
          "exception": false,
          "start_time": "2025-05-17T23:09:21.727886",
          "status": "completed"
        },
        "tags": [],
        "id": "bfc53ac8",
        "outputId": "411ce810-5daa-4129-8787-2edf6512399c"
      },
      "outputs": [
        {
          "data": {
            "text/html": [
              "<div>\n",
              "<style scoped>\n",
              "    .dataframe tbody tr th:only-of-type {\n",
              "        vertical-align: middle;\n",
              "    }\n",
              "\n",
              "    .dataframe tbody tr th {\n",
              "        vertical-align: top;\n",
              "    }\n",
              "\n",
              "    .dataframe thead th {\n",
              "        text-align: right;\n",
              "    }\n",
              "</style>\n",
              "<table border=\"1\" class=\"dataframe\">\n",
              "  <thead>\n",
              "    <tr style=\"text-align: right;\">\n",
              "      <th></th>\n",
              "      <th>1p/19q</th>\n",
              "      <th>FLAIR до</th>\n",
              "      <th>IDH1</th>\n",
              "      <th>IDH2</th>\n",
              "      <th>MGMT</th>\n",
              "      <th>TargetDirectory</th>\n",
              "      <th>Биопсия до?</th>\n",
              "      <th>Возр-т</th>\n",
              "      <th>Гистология</th>\n",
              "      <th>Дифф-я до</th>\n",
              "      <th>МРТ до 3Тл</th>\n",
              "      <th>Повтор-ная?</th>\n",
              "      <th>Т1 до</th>\n",
              "      <th>Т1 с к до</th>\n",
              "      <th>Т2 до</th>\n",
              "      <th>Только биопсия?</th>\n",
              "      <th>Трактогра-фия до</th>\n",
              "      <th>м-0     ж-1</th>\n",
              "      <th>grade</th>\n",
              "    </tr>\n",
              "  </thead>\n",
              "  <tbody>\n",
              "    <tr>\n",
              "      <th>0</th>\n",
              "      <td>0.0</td>\n",
              "      <td>0.0</td>\n",
              "      <td>0.0</td>\n",
              "      <td>0.0</td>\n",
              "      <td>0.0</td>\n",
              "      <td>patient1</td>\n",
              "      <td>0.0</td>\n",
              "      <td>66.0</td>\n",
              "      <td>Глиобластома</td>\n",
              "      <td>0.0</td>\n",
              "      <td>1.0</td>\n",
              "      <td>0.0</td>\n",
              "      <td>0.0</td>\n",
              "      <td>1.0</td>\n",
              "      <td>1.0</td>\n",
              "      <td>1.0</td>\n",
              "      <td>0.0</td>\n",
              "      <td>0.0</td>\n",
              "      <td>4</td>\n",
              "    </tr>\n",
              "    <tr>\n",
              "      <th>1</th>\n",
              "      <td>1.0</td>\n",
              "      <td>1.0</td>\n",
              "      <td>1.0</td>\n",
              "      <td>0.0</td>\n",
              "      <td>0.0</td>\n",
              "      <td>patient2</td>\n",
              "      <td>0.0</td>\n",
              "      <td>31.0</td>\n",
              "      <td>Анапластическая олигодендроглиома G3</td>\n",
              "      <td>1.0</td>\n",
              "      <td>1.0</td>\n",
              "      <td>0.0</td>\n",
              "      <td>1.0</td>\n",
              "      <td>1.0</td>\n",
              "      <td>1.0</td>\n",
              "      <td>0.0</td>\n",
              "      <td>1.0</td>\n",
              "      <td>1.0</td>\n",
              "      <td>3</td>\n",
              "    </tr>\n",
              "    <tr>\n",
              "      <th>2</th>\n",
              "      <td>0.0</td>\n",
              "      <td>1.0</td>\n",
              "      <td>1.0</td>\n",
              "      <td>0.0</td>\n",
              "      <td>1.0</td>\n",
              "      <td>patient3</td>\n",
              "      <td>0.0</td>\n",
              "      <td>24.0</td>\n",
              "      <td>Глиобластома</td>\n",
              "      <td>1.0</td>\n",
              "      <td>1.0</td>\n",
              "      <td>1.0</td>\n",
              "      <td>1.0</td>\n",
              "      <td>1.0</td>\n",
              "      <td>1.0</td>\n",
              "      <td>0.0</td>\n",
              "      <td>1.0</td>\n",
              "      <td>0.0</td>\n",
              "      <td>4</td>\n",
              "    </tr>\n",
              "    <tr>\n",
              "      <th>3</th>\n",
              "      <td>0.0</td>\n",
              "      <td>1.0</td>\n",
              "      <td>0.0</td>\n",
              "      <td>0.0</td>\n",
              "      <td>0.0</td>\n",
              "      <td>patient4</td>\n",
              "      <td>0.0</td>\n",
              "      <td>69.0</td>\n",
              "      <td>Глиобластома</td>\n",
              "      <td>1.0</td>\n",
              "      <td>1.0</td>\n",
              "      <td>1.0</td>\n",
              "      <td>1.0</td>\n",
              "      <td>1.0</td>\n",
              "      <td>1.0</td>\n",
              "      <td>0.0</td>\n",
              "      <td>1.0</td>\n",
              "      <td>0.0</td>\n",
              "      <td>4</td>\n",
              "    </tr>\n",
              "    <tr>\n",
              "      <th>4</th>\n",
              "      <td>0.0</td>\n",
              "      <td>1.0</td>\n",
              "      <td>0.0</td>\n",
              "      <td>0.0</td>\n",
              "      <td>1.0</td>\n",
              "      <td>patient5</td>\n",
              "      <td>0.0</td>\n",
              "      <td>61.0</td>\n",
              "      <td>Анапластическая олигодендроглиома G3</td>\n",
              "      <td>1.0</td>\n",
              "      <td>0.0</td>\n",
              "      <td>0.0</td>\n",
              "      <td>1.0</td>\n",
              "      <td>1.0</td>\n",
              "      <td>1.0</td>\n",
              "      <td>0.0</td>\n",
              "      <td>1.0</td>\n",
              "      <td>1.0</td>\n",
              "      <td>3</td>\n",
              "    </tr>\n",
              "    <tr>\n",
              "      <th>...</th>\n",
              "      <td>...</td>\n",
              "      <td>...</td>\n",
              "      <td>...</td>\n",
              "      <td>...</td>\n",
              "      <td>...</td>\n",
              "      <td>...</td>\n",
              "      <td>...</td>\n",
              "      <td>...</td>\n",
              "      <td>...</td>\n",
              "      <td>...</td>\n",
              "      <td>...</td>\n",
              "      <td>...</td>\n",
              "      <td>...</td>\n",
              "      <td>...</td>\n",
              "      <td>...</td>\n",
              "      <td>...</td>\n",
              "      <td>...</td>\n",
              "      <td>...</td>\n",
              "      <td>...</td>\n",
              "    </tr>\n",
              "    <tr>\n",
              "      <th>167</th>\n",
              "      <td>0.0</td>\n",
              "      <td>1.0</td>\n",
              "      <td>0.0</td>\n",
              "      <td>0.0</td>\n",
              "      <td>0.0</td>\n",
              "      <td>patient162</td>\n",
              "      <td>0.0</td>\n",
              "      <td>44.0</td>\n",
              "      <td>Глиобластома</td>\n",
              "      <td>1.0</td>\n",
              "      <td>1.0</td>\n",
              "      <td>0.0</td>\n",
              "      <td>1.0</td>\n",
              "      <td>1.0</td>\n",
              "      <td>1.0</td>\n",
              "      <td>0.0</td>\n",
              "      <td>0.0</td>\n",
              "      <td>0.0</td>\n",
              "      <td>4</td>\n",
              "    </tr>\n",
              "    <tr>\n",
              "      <th>168</th>\n",
              "      <td>0.0</td>\n",
              "      <td>0.0</td>\n",
              "      <td>0.0</td>\n",
              "      <td>0.0</td>\n",
              "      <td>0.0</td>\n",
              "      <td>patient163</td>\n",
              "      <td>0.0</td>\n",
              "      <td>36.0</td>\n",
              "      <td>Глиобластома</td>\n",
              "      <td>0.0</td>\n",
              "      <td>1.0</td>\n",
              "      <td>0.0</td>\n",
              "      <td>0.0</td>\n",
              "      <td>1.0</td>\n",
              "      <td>1.0</td>\n",
              "      <td>1.0</td>\n",
              "      <td>0.0</td>\n",
              "      <td>0.0</td>\n",
              "      <td>4</td>\n",
              "    </tr>\n",
              "    <tr>\n",
              "      <th>169</th>\n",
              "      <td>0.0</td>\n",
              "      <td>1.0</td>\n",
              "      <td>1.0</td>\n",
              "      <td>0.0</td>\n",
              "      <td>1.0</td>\n",
              "      <td>patient164</td>\n",
              "      <td>0.0</td>\n",
              "      <td>23.0</td>\n",
              "      <td>Глиобластома</td>\n",
              "      <td>1.0</td>\n",
              "      <td>1.0</td>\n",
              "      <td>1.0</td>\n",
              "      <td>1.0</td>\n",
              "      <td>1.0</td>\n",
              "      <td>1.0</td>\n",
              "      <td>0.0</td>\n",
              "      <td>1.0</td>\n",
              "      <td>1.0</td>\n",
              "      <td>4</td>\n",
              "    </tr>\n",
              "    <tr>\n",
              "      <th>170</th>\n",
              "      <td>0.0</td>\n",
              "      <td>1.0</td>\n",
              "      <td>0.0</td>\n",
              "      <td>0.0</td>\n",
              "      <td>0.0</td>\n",
              "      <td>NaN</td>\n",
              "      <td>0.0</td>\n",
              "      <td>59.0</td>\n",
              "      <td>Глиобластома</td>\n",
              "      <td>1.0</td>\n",
              "      <td>1.0</td>\n",
              "      <td>0.0</td>\n",
              "      <td>1.0</td>\n",
              "      <td>1.0</td>\n",
              "      <td>1.0</td>\n",
              "      <td>0.0</td>\n",
              "      <td>1.0</td>\n",
              "      <td>1.0</td>\n",
              "      <td>4</td>\n",
              "    </tr>\n",
              "    <tr>\n",
              "      <th>171</th>\n",
              "      <td>0.0</td>\n",
              "      <td>1.0</td>\n",
              "      <td>1.0</td>\n",
              "      <td>0.0</td>\n",
              "      <td>1.0</td>\n",
              "      <td>patient165</td>\n",
              "      <td>0.0</td>\n",
              "      <td>33.0</td>\n",
              "      <td>Глиобластома</td>\n",
              "      <td>1.0</td>\n",
              "      <td>1.0</td>\n",
              "      <td>0.0</td>\n",
              "      <td>1.0</td>\n",
              "      <td>0.0</td>\n",
              "      <td>1.0</td>\n",
              "      <td>0.0</td>\n",
              "      <td>1.0</td>\n",
              "      <td>0.0</td>\n",
              "      <td>4</td>\n",
              "    </tr>\n",
              "  </tbody>\n",
              "</table>\n",
              "<p>172 rows × 19 columns</p>\n",
              "</div>"
            ],
            "text/plain": [
              "     1p/19q  FLAIR до  IDH1  IDH2  MGMT TargetDirectory  Биопсия до?  Возр-т  \\\n",
              "0       0.0       0.0   0.0   0.0   0.0        patient1          0.0    66.0   \n",
              "1       1.0       1.0   1.0   0.0   0.0        patient2          0.0    31.0   \n",
              "2       0.0       1.0   1.0   0.0   1.0        patient3          0.0    24.0   \n",
              "3       0.0       1.0   0.0   0.0   0.0        patient4          0.0    69.0   \n",
              "4       0.0       1.0   0.0   0.0   1.0        patient5          0.0    61.0   \n",
              "..      ...       ...   ...   ...   ...             ...          ...     ...   \n",
              "167     0.0       1.0   0.0   0.0   0.0      patient162          0.0    44.0   \n",
              "168     0.0       0.0   0.0   0.0   0.0      patient163          0.0    36.0   \n",
              "169     0.0       1.0   1.0   0.0   1.0      patient164          0.0    23.0   \n",
              "170     0.0       1.0   0.0   0.0   0.0             NaN          0.0    59.0   \n",
              "171     0.0       1.0   1.0   0.0   1.0      patient165          0.0    33.0   \n",
              "\n",
              "                               Гистология  Дифф-я до  МРТ до 3Тл  Повтор-ная?  \\\n",
              "0                            Глиобластома        0.0         1.0          0.0   \n",
              "1    Анапластическая олигодендроглиома G3        1.0         1.0          0.0   \n",
              "2                            Глиобластома        1.0         1.0          1.0   \n",
              "3                            Глиобластома        1.0         1.0          1.0   \n",
              "4    Анапластическая олигодендроглиома G3        1.0         0.0          0.0   \n",
              "..                                    ...        ...         ...          ...   \n",
              "167                          Глиобластома        1.0         1.0          0.0   \n",
              "168                          Глиобластома        0.0         1.0          0.0   \n",
              "169                          Глиобластома        1.0         1.0          1.0   \n",
              "170                          Глиобластома        1.0         1.0          0.0   \n",
              "171                          Глиобластома        1.0         1.0          0.0   \n",
              "\n",
              "     Т1 до  Т1 с к до  Т2 до  Только биопсия?  Трактогра-фия до  м-0     ж-1  \\\n",
              "0      0.0        1.0    1.0              1.0               0.0          0.0   \n",
              "1      1.0        1.0    1.0              0.0               1.0          1.0   \n",
              "2      1.0        1.0    1.0              0.0               1.0          0.0   \n",
              "3      1.0        1.0    1.0              0.0               1.0          0.0   \n",
              "4      1.0        1.0    1.0              0.0               1.0          1.0   \n",
              "..     ...        ...    ...              ...               ...          ...   \n",
              "167    1.0        1.0    1.0              0.0               0.0          0.0   \n",
              "168    0.0        1.0    1.0              1.0               0.0          0.0   \n",
              "169    1.0        1.0    1.0              0.0               1.0          1.0   \n",
              "170    1.0        1.0    1.0              0.0               1.0          1.0   \n",
              "171    1.0        0.0    1.0              0.0               1.0          0.0   \n",
              "\n",
              "     grade  \n",
              "0        4  \n",
              "1        3  \n",
              "2        4  \n",
              "3        4  \n",
              "4        3  \n",
              "..     ...  \n",
              "167      4  \n",
              "168      4  \n",
              "169      4  \n",
              "170      4  \n",
              "171      4  \n",
              "\n",
              "[172 rows x 19 columns]"
            ]
          },
          "execution_count": 8,
          "metadata": {},
          "output_type": "execute_result"
        }
      ],
      "source": [
        "df_targets = pd.read_csv('/kaggle/input/patients-mri/Hands_mapped_targets_only_4.csv', encoding=\"cp1251\").drop(columns=\"Column1\")\n",
        "\n",
        "conditions = [\n",
        "    df_targets[\"Гистология\"] == \"Глиобластома\",\n",
        "    df_targets[\"Гистология\"].str.contains(\"Анапластическая\", na=False),\n",
        "    df_targets[\"Гистология\"].str.contains(\"G3\", na=False),\n",
        "    df_targets[\"Гистология\"].str.contains(\"Диффузная\", na=False),\n",
        "    df_targets[\"Гистология\"].str.contains(\"G2\", na=False),\n",
        "]\n",
        "\n",
        "choices = [4, 3, 3, 2, 2]\n",
        "\n",
        "df_targets[\"grade\"] = np.select(conditions, choices, default=1)\n",
        "df_targets[\"1p/19q\"] = df_targets[\"1p/19q\"].replace({\"_\": np.nan})\n",
        "df_targets.loc[df_targets[(df_targets.Гистология.str.lower().str.contains(\"астроцитома\")) & (df_targets[\"1p/19q\"] == 1)].index, \"Гистология\"] = \"Анапластическая олигодендроглиома G3\"\n",
        "notnull = df_targets[(~df_targets[[\"1p/19q\", \"MGMT\", \"IDH1\"]].isnull().any(axis=1))\\\n",
        "    & (df_targets.TargetDirectory.notna())\\\n",
        "    & (df_targets.grade.ne(1))].TargetDirectory.values\n",
        "\n",
        "df_targets[[\"1p/19q\", \"MGMT\", \"IDH1\"]] = df_targets[[\"1p/19q\", \"MGMT\", \"IDH1\"]].astype(float)\n",
        "\n",
        "df_targets"
      ]
    },
    {
      "cell_type": "code",
      "execution_count": null,
      "id": "64f92841",
      "metadata": {
        "execution": {
          "iopub.execute_input": "2025-05-17T23:09:21.954253Z",
          "iopub.status.busy": "2025-05-17T23:09:21.953651Z",
          "iopub.status.idle": "2025-05-17T23:09:21.959197Z",
          "shell.execute_reply": "2025-05-17T23:09:21.958570Z"
        },
        "papermill": {
          "duration": 0.05334,
          "end_time": "2025-05-17T23:09:21.960311",
          "exception": false,
          "start_time": "2025-05-17T23:09:21.906971",
          "status": "completed"
        },
        "tags": [],
        "id": "64f92841"
      },
      "outputs": [],
      "source": [
        "def compute_class_weights(df_targets, target_names):\n",
        "    bin_alphas = {}\n",
        "    for target in target_names:\n",
        "        if target == 'grade':\n",
        "            continue\n",
        "        counts = df_targets[target].value_counts().to_dict()\n",
        "        n_pos = counts.get(1, 0)\n",
        "        n_neg = counts.get(0, 0)\n",
        "        total = n_pos + n_neg + 1e-6\n",
        "        alpha = n_neg / total\n",
        "        bin_alphas[target] = alpha\n",
        "\n",
        "    # Для grade\n",
        "    grade_counts  = df_targets['grade'].value_counts().sort_index().values\n",
        "    beta = 0.999\n",
        "    eff_num = (1 - beta**grade_counts) / (1 - beta)\n",
        "    grade_weights = torch.tensor(eff_num.sum() / eff_num, dtype=torch.float)\n",
        "\n",
        "    return bin_alphas, grade_weights"
      ]
    },
    {
      "cell_type": "code",
      "execution_count": null,
      "id": "3d161aa6",
      "metadata": {
        "execution": {
          "iopub.execute_input": "2025-05-17T23:09:22.052854Z",
          "iopub.status.busy": "2025-05-17T23:09:22.052017Z",
          "iopub.status.idle": "2025-05-17T23:09:39.761953Z",
          "shell.execute_reply": "2025-05-17T23:09:39.761009Z"
        },
        "papermill": {
          "duration": 17.756831,
          "end_time": "2025-05-17T23:09:39.763160",
          "exception": false,
          "start_time": "2025-05-17T23:09:22.006329",
          "status": "completed"
        },
        "tags": [],
        "id": "3d161aa6",
        "outputId": "72f8d427-f574-48b4-83a8-cbf62c3db922"
      },
      "outputs": [
        {
          "name": "stdout",
          "output_type": "stream",
          "text": [
            "147\n",
            "139\n",
            "CPU times: user 148 ms, sys: 265 ms, total: 413 ms\n",
            "Wall time: 17.7 s\n"
          ]
        }
      ],
      "source": [
        "%%time\n",
        "dataset_directory = \"/kaggle/input/patients-mri/patients_dcm\"\n",
        "target_filter = \"t1_fl2d_cor\"\n",
        "\n",
        "patients_with_filter = get_patients_with_filter(dataset_directory, target_filter)\n",
        "print(len(patients_with_filter))\n",
        "\n",
        "patients_with_filter2 = get_patients_with_filter(dataset_directory, \"t2_tirm_cor_dark-fluid_3mm\")\n",
        "print(len(patients_with_filter2))"
      ]
    },
    {
      "cell_type": "markdown",
      "id": "f19812fd",
      "metadata": {
        "papermill": {
          "duration": 0.039897,
          "end_time": "2025-05-17T23:09:39.844019",
          "exception": false,
          "start_time": "2025-05-17T23:09:39.804122",
          "status": "completed"
        },
        "tags": [],
        "id": "f19812fd"
      },
      "source": [
        "# Model"
      ]
    },
    {
      "cell_type": "code",
      "execution_count": null,
      "id": "b217a6c4",
      "metadata": {
        "execution": {
          "iopub.execute_input": "2025-05-17T23:09:39.926473Z",
          "iopub.status.busy": "2025-05-17T23:09:39.925949Z",
          "iopub.status.idle": "2025-05-17T23:09:42.377951Z",
          "shell.execute_reply": "2025-05-17T23:09:42.377202Z"
        },
        "papermill": {
          "duration": 2.495244,
          "end_time": "2025-05-17T23:09:42.379358",
          "exception": false,
          "start_time": "2025-05-17T23:09:39.884114",
          "status": "completed"
        },
        "tags": [],
        "id": "b217a6c4"
      },
      "outputs": [],
      "source": [
        "from torchvision.models.video import r3d_18, R3D_18_Weights\n",
        "\n",
        "class CrossModalTransformer(nn.Module):\n",
        "    def __init__(self, d_model=512, nhead=8, num_layers=2, dim_feedforward=1024):\n",
        "        super().__init__()\n",
        "        encoder_layer = nn.TransformerEncoderLayer(\n",
        "            d_model, nhead, dim_feedforward, dropout=0.3,\n",
        "            batch_first=True, norm_first=True)\n",
        "        self.tr = nn.TransformerEncoder(encoder_layer, num_layers)\n",
        "        # self.pos_encoder = nn.Parameter(torch.zeros(1, 1000, d_model))\n",
        "        # nn.init.normal_(self.pos_encoder, mean=0, std=0.02)\n",
        "\n",
        "    def forward(self, fA, fB):  # (B, C, D, H, W)\n",
        "        B, C, D, H, W = fA.shape\n",
        "        tokensA = rearrange(fA, 'b c d h w -> b (d h w) c')\n",
        "        tokensB = rearrange(fB, 'b c d h w -> b (d h w) c')\n",
        "        tokens = torch.cat([tokensA, tokensB], dim=1)  # (B, N1+N2, C)\n",
        "        # seq_len = tokens.size(1)\n",
        "        # tokens = tokens + self.pos_encoder[:, :seq_len, :]\n",
        "        fused = self.tr(tokens)  # (B, N, C)\n",
        "        # # CLS-equivalent = mean\n",
        "        # return fused.mean(1)\n",
        "        attention_weights = F.softmax(torch.matmul(fused, fused.transpose(-2, -1)) / np.sqrt(C), dim=-1)\n",
        "        return torch.matmul(attention_weights, fused).mean(1)\n",
        "\n",
        "class FrozenR3D18(nn.Module):\n",
        "    def __init__(self, in_ch=1, train_last=True):\n",
        "        super().__init__()\n",
        "        weights = R3D_18_Weights.DEFAULT\n",
        "        model = r3d_18(weights=weights)\n",
        "        w = model.stem[0].weight  # (64,3,3,7,7)\n",
        "        model.stem[0] = nn.Conv3d(in_ch, 64, kernel_size=(3,7,7),\n",
        "                                  stride=(1,2,2), padding=(1,3,3), bias=False)\n",
        "        model.stem[0].weight.data = w.mean(1, keepdim=True)\n",
        "\n",
        "        self.backbone = nn.Sequential(*(list(model.children())[:-2]))  # без avgpool & fc\n",
        "        self.out_channels = 512\n",
        "\n",
        "        if not train_last:\n",
        "            for n, p in self.backbone.named_parameters():\n",
        "                if not n.startswith('5'):\n",
        "                    p.requires_grad_(False)\n",
        "\n",
        "    def forward(self, x):\n",
        "        return self.backbone(x)  # (B,512,D/32,H/32,W/32)\n",
        "\n",
        "class DualModalFusion(nn.Module):\n",
        "    def __init__(self, targets, num_classes, dropout_rate=0.1):\n",
        "        super().__init__()\n",
        "\n",
        "        Enc = FrozenR3D18\n",
        "        feat_dim = 512\n",
        "\n",
        "        self.target_names = targets\n",
        "\n",
        "        self.encA = Enc()\n",
        "        self.encB = Enc()\n",
        "        self.fusion = CrossModalTransformer(d_model=feat_dim)\n",
        "\n",
        "        self.heads = nn.ModuleDict({\n",
        "            t: nn.Sequential(\n",
        "                nn.LayerNorm(feat_dim),\n",
        "                nn.Dropout(4 * dropout_rate),\n",
        "                nn.Linear(feat_dim, feat_dim // 2),\n",
        "                nn.GELU(),\n",
        "                nn.LayerNorm(feat_dim // 2),\n",
        "                nn.Dropout(2 * dropout_rate),\n",
        "                nn.Linear(feat_dim // 2, num_classes[t])\n",
        "            ) for t in targets\n",
        "        })\n",
        "\n",
        "\n",
        "    def forward(self, volA, volB):\n",
        "        fA = self.encA(volA)\n",
        "        fB = self.encB(volB)\n",
        "        fused = self.fusion(fA, fB)\n",
        "        return {k: head(fused) for k, head in self.heads.items()}"
      ]
    },
    {
      "cell_type": "markdown",
      "id": "29d24a5c",
      "metadata": {
        "papermill": {
          "duration": 0.039613,
          "end_time": "2025-05-17T23:09:42.459264",
          "exception": false,
          "start_time": "2025-05-17T23:09:42.419651",
          "status": "completed"
        },
        "tags": [],
        "id": "29d24a5c"
      },
      "source": [
        "# Training"
      ]
    },
    {
      "cell_type": "code",
      "execution_count": null,
      "id": "e1bdb4a7",
      "metadata": {
        "execution": {
          "iopub.execute_input": "2025-05-17T23:09:42.541152Z",
          "iopub.status.busy": "2025-05-17T23:09:42.540311Z",
          "iopub.status.idle": "2025-05-17T23:09:42.549646Z",
          "shell.execute_reply": "2025-05-17T23:09:42.548929Z"
        },
        "papermill": {
          "duration": 0.051732,
          "end_time": "2025-05-17T23:09:42.550777",
          "exception": false,
          "start_time": "2025-05-17T23:09:42.499045",
          "status": "completed"
        },
        "tags": [],
        "id": "e1bdb4a7"
      },
      "outputs": [],
      "source": [
        "def orthogonal_regularizer(heads: nn.ModuleDict,\n",
        "                            lambda_intra: float = 1e-3,\n",
        "                            lambda_inter: float = 1e-3,\n",
        "                            use_first_linear: bool = True):\n",
        "    \"\"\"\n",
        "    heads – ModuleDict({name: ClassificationHead})\n",
        "    lambda_intra – сила отталкивания строк внутри КАЖДОЙ многоклассовой головы\n",
        "    lambda_inter – сила отталкивания разных голов между собой\n",
        "    \"\"\"\n",
        "    intra_loss, inter_loss = 0., 0.\n",
        "    rep_vecs = []\n",
        "\n",
        "    for head in heads.values():\n",
        "        linears = [m for m in head if isinstance(m, nn.Linear)]\n",
        "        W = linears[0].weight if use_first_linear else linears[-1].weight\n",
        "        # W: (out_dim , in_dim)\n",
        "\n",
        "        # Внутриголовной\n",
        "        if W.size(0) > 1: # для бинарной головы нет intra-штрафа\n",
        "            Wn   = F.normalize(W, dim=1)\n",
        "            gram = Wn @ Wn.T                     # (out,out)\n",
        "            I    = torch.eye(gram.size(0), device=W.device)\n",
        "            intra_loss += ((gram - I)**2).sum()\n",
        "\n",
        "        rep = W.mean(dim=0)=\n",
        "        rep_vecs.append(F.normalize(rep, dim=0))\n",
        "\n",
        "    # Межголовной\n",
        "    if len(rep_vecs) > 1:\n",
        "        V    = torch.stack(rep_vecs, dim=0) # (n_heads , in_dim)\n",
        "        gram = V @ V.T  # (n_heads , n_heads)\n",
        "        I    = torch.eye(gram.size(0), device=gram.device)\n",
        "        inter_loss = ((gram - I)**2).sum()\n",
        "\n",
        "    total = lambda_intra * intra_loss + lambda_inter * inter_loss\n",
        "    d = {'intra': intra_loss.item() if isinstance(intra_loss, torch.Tensor) else intra_loss,\n",
        "         'inter': inter_loss.item() if isinstance(inter_loss, torch.Tensor) else inter_loss\n",
        "        }\n",
        "    return total, d"
      ]
    },
    {
      "cell_type": "code",
      "execution_count": null,
      "id": "e70c8d3f",
      "metadata": {
        "execution": {
          "iopub.execute_input": "2025-05-17T23:09:42.631683Z",
          "iopub.status.busy": "2025-05-17T23:09:42.630897Z",
          "iopub.status.idle": "2025-05-17T23:09:42.644276Z",
          "shell.execute_reply": "2025-05-17T23:09:42.643740Z"
        },
        "papermill": {
          "duration": 0.055374,
          "end_time": "2025-05-17T23:09:42.645464",
          "exception": false,
          "start_time": "2025-05-17T23:09:42.590090",
          "status": "completed"
        },
        "tags": [],
        "id": "e70c8d3f"
      },
      "outputs": [],
      "source": [
        "def run_epoch(loader, model, criterion_dict, optimizer=None, accum_steps=1,\n",
        "              train=True, device='cpu',\n",
        "              global_step=0, warmup_steps=0, base_lr=1e-3,\n",
        "              initial_lr_factor=0.01, df_targets=None):\n",
        "\n",
        "    is_train = train and optimizer is not None\n",
        "    model.train() if is_train else model.eval()\n",
        "    torch.set_grad_enabled(is_train)\n",
        "\n",
        "    total_loss, n_samples = 0., 0\n",
        "    all_targets, all_preds = defaultdict(list), defaultdict(list)\n",
        "    correct = defaultdict(int) # для accuracy\n",
        "\n",
        "    pbar = tqdm(loader, desc='train' if is_train else 'valid', leave=False)\n",
        "    if is_train: optimizer.zero_grad()\n",
        "    optimizer_steps = 0\n",
        "\n",
        "    for step, batch in enumerate(pbar):\n",
        "\n",
        "        imgs  = torch.from_numpy(batch['img1'].astype(np.float32)).to(device)\n",
        "        imgs2 = torch.from_numpy(batch['img2'].astype(np.float32)).to(device)\n",
        "        ids   = batch['patient_ids']\n",
        "        bs    = imgs.size(0)\n",
        "\n",
        "\n",
        "        batch_df = (\n",
        "            df_targets[df_targets['TargetDirectory'].isin(ids)]\n",
        "            .set_index('TargetDirectory')\n",
        "            .loc[ids]\n",
        "            .reset_index()\n",
        "        )\n",
        "        targets = {}\n",
        "        for name in model.target_names:\n",
        "            if name == 'grade':\n",
        "                targets[name] = torch.tensor(batch_df['grade'].values - 2,\n",
        "                                             dtype=torch.long).to(device)\n",
        "            else:\n",
        "                targets[name] = torch.from_numpy(\n",
        "                    batch_df[name].values.astype(np.float32)\n",
        "                ).view(-1, 1).to(device)\n",
        "\n",
        "        outputs = model(imgs, imgs2)\n",
        "        task_loss = sum(criterion_dict[name](outputs[name], targets[name])\n",
        "                       for name in model.target_names)\n",
        "\n",
        "        ortho_loss, ortho_parts = orthogonal_regularizer(model.heads, lambda_intra=1e-3, lambda_inter=1e-4)\n",
        "\n",
        "        loss = task_loss + ortho_loss\n",
        "\n",
        "        if is_train:\n",
        "            (loss / accum_steps).backward()\n",
        "            if (step + 1) % accum_steps == 0 or (step + 1) == len(loader):\n",
        "                torch.nn.utils.clip_grad_norm_(model.parameters(), max_norm=1.0)\n",
        "                # warm-up LR\n",
        "                if global_step + optimizer_steps < warmup_steps:\n",
        "                    lr_scale   = (global_step + optimizer_steps + 1) / warmup_steps\n",
        "                    start_lr   = base_lr * initial_lr_factor\n",
        "                    end_lr     = base_lr\n",
        "                    current_lr = start_lr + (end_lr - start_lr) * lr_scale\n",
        "                    for pg in optimizer.param_groups: pg['lr'] = current_lr\n",
        "                optimizer.step(); optimizer.zero_grad()\n",
        "                optimizer_steps += 1\n",
        "\n",
        "        n_samples  += bs\n",
        "        total_loss += loss.item() * bs\n",
        "\n",
        "        with torch.no_grad():\n",
        "            for name in model.target_names:\n",
        "                out, tgt = outputs[name], targets[name]\n",
        "                pred = torch.argmax(out, 1) if name == 'grade' else (torch.sigmoid(out) > 0.5).float()\n",
        "                all_preds[name].append(pred.cpu())\n",
        "                all_targets[name].append(tgt.cpu())\n",
        "                correct[name] += (pred == tgt).sum().item()\n",
        "\n",
        "        # tqdm\n",
        "        postfix = {'loss': f'{total_loss / n_samples:.4f}', 'o_ins': f'{ortho_parts[\"intra\"]:.4f}', 'o_out': f'{ortho_parts[\"inter\"]:.4f}'}\n",
        "        for name in model.target_names:\n",
        "            postfix[f'{name}_acc'] = f'{correct[name] / n_samples:.3f}'\n",
        "        pbar.set_postfix(postfix)\n",
        "\n",
        "    # Final metrics\n",
        "    avg_loss_epoch = total_loss / n_samples\n",
        "    f1_dict, acc_dict = {}, {}\n",
        "    for name in model.target_names:\n",
        "        y_true = torch.cat(all_targets[name]).cpu().numpy().squeeze()\n",
        "        y_pred = torch.cat(all_preds[name]).cpu().numpy().squeeze()\n",
        "        f1_dict[name]  = f1_score   (y_true, y_pred, average='macro', zero_division=0)\n",
        "        acc_dict[name] = accuracy_score(y_true, y_pred)\n",
        "\n",
        "        if name == 'grade':\n",
        "            cm_grade = confusion_matrix(y_true, y_pred)\n",
        "            print(\"\\nConfusion matrix (grade):\")\n",
        "            print(cm_grade)\n",
        "\n",
        "    mean_f1  = float(np.mean(list(f1_dict.values())))\n",
        "    mean_acc = float(np.mean(list(acc_dict.values())))\n",
        "\n",
        "\n",
        "    updated_global_step = global_step + optimizer_steps if is_train else global_step\n",
        "    return avg_loss_epoch, f1_dict, acc_dict, mean_f1, mean_acc, updated_global_step"
      ]
    },
    {
      "cell_type": "code",
      "execution_count": null,
      "id": "235ba74c",
      "metadata": {
        "execution": {
          "iopub.execute_input": "2025-05-17T23:09:42.727872Z",
          "iopub.status.busy": "2025-05-17T23:09:42.727346Z",
          "iopub.status.idle": "2025-05-17T23:09:42.733269Z",
          "shell.execute_reply": "2025-05-17T23:09:42.732589Z"
        },
        "papermill": {
          "duration": 0.048408,
          "end_time": "2025-05-17T23:09:42.734441",
          "exception": false,
          "start_time": "2025-05-17T23:09:42.686033",
          "status": "completed"
        },
        "tags": [],
        "id": "235ba74c"
      },
      "outputs": [],
      "source": [
        "def compute_inverse_freq_weights(labels, num_classes=None, epsilon=1e-6):\n",
        "    if num_classes is None:\n",
        "        num_classes = np.max(labels) + 1\n",
        "    class_counts = np.bincount(labels.astype(int), minlength=num_classes)\n",
        "    inv_freq = 1.0 / (class_counts + epsilon)\n",
        "    inv_freq = inv_freq / np.sum(inv_freq)\n",
        "    return inv_freq\n",
        "\n",
        "def make_multi_target_sampler(ids, df, target_cols, oversample_factor=1.0, epsilon=1e-6):\n",
        "    df_fold = df.set_index('TargetDirectory').loc[ids]\n",
        "    all_weights = []\n",
        "    for col, num_classes in target_cols.items():\n",
        "        labels = df_fold[col].values\n",
        "        if col == 'grade':\n",
        "            labels = labels - 2\n",
        "        inv_freq = compute_inverse_freq_weights(labels, num_classes, epsilon)\n",
        "        all_weights.append(inv_freq[labels.astype(int)])\n",
        "    sample_weights = np.max(np.stack(all_weights, axis=1), axis=1)  # Maxxing for all the tasks now, possible to take mean to rebalance\n",
        "    num_samples = int(len(ids) * oversample_factor)\n",
        "    return WeightedRandomSampler(weights=sample_weights, num_samples=num_samples, replacement=True)"
      ]
    },
    {
      "cell_type": "code",
      "execution_count": null,
      "id": "dffec487",
      "metadata": {
        "execution": {
          "iopub.execute_input": "2025-05-17T23:09:42.814289Z",
          "iopub.status.busy": "2025-05-17T23:09:42.813802Z",
          "iopub.status.idle": "2025-05-17T23:09:42.819132Z",
          "shell.execute_reply": "2025-05-17T23:09:42.818625Z"
        },
        "papermill": {
          "duration": 0.046127,
          "end_time": "2025-05-17T23:09:42.820125",
          "exception": false,
          "start_time": "2025-05-17T23:09:42.773998",
          "status": "completed"
        },
        "tags": [],
        "id": "dffec487"
      },
      "outputs": [],
      "source": [
        "def make_joint_sampler(ids, df, target_cols: dict,\n",
        "                       oversample_factor=1.0,\n",
        "                       eps=1e-6):\n",
        "    df2 = df.set_index('TargetDirectory').loc[ids].copy()\n",
        "\n",
        "    cols = list(target_cols.keys())\n",
        "\n",
        "    if 'grade' in cols:\n",
        "        df2['grade'] = df2['grade'] - 2\n",
        "\n",
        "    # Combined label\n",
        "    labels = df2[cols].apply(lambda row: tuple(row.values), axis=1).tolist()\n",
        "    freq = Counter(labels)\n",
        "\n",
        "    weights = np.array([1.0/(freq[t] + eps) for t in labels], dtype=np.float32)\n",
        "    weights = weights / weights.sum()\n",
        "\n",
        "    num_samples = int(len(ids) * oversample_factor)\n",
        "\n",
        "    return WeightedRandomSampler(\n",
        "        weights=torch.from_numpy(weights),\n",
        "        num_samples=num_samples,\n",
        "        replacement=True\n",
        "    )"
      ]
    },
    {
      "cell_type": "code",
      "execution_count": null,
      "id": "53b39a3c",
      "metadata": {
        "execution": {
          "iopub.execute_input": "2025-05-17T23:09:42.900859Z",
          "iopub.status.busy": "2025-05-17T23:09:42.900306Z",
          "iopub.status.idle": "2025-05-17T23:09:42.907532Z",
          "shell.execute_reply": "2025-05-17T23:09:42.906992Z"
        },
        "papermill": {
          "duration": 0.048723,
          "end_time": "2025-05-17T23:09:42.908640",
          "exception": false,
          "start_time": "2025-05-17T23:09:42.859917",
          "status": "completed"
        },
        "tags": [],
        "id": "53b39a3c"
      },
      "outputs": [],
      "source": [
        "class FocalLoss(nn.Module):\n",
        "    def __init__(self, gamma=2.0, alpha=None, binary=False, multi_label_smoothing=0.0):\n",
        "        super().__init__()\n",
        "        self.gamma = gamma\n",
        "        self.alpha = alpha\n",
        "        self.binary = binary\n",
        "        self.multi_label_smoothing = multi_label_smoothing\n",
        "\n",
        "    def forward(self, inputs, targets):\n",
        "        if self.binary:\n",
        "            # Для бинарной\n",
        "            bce_loss = F.binary_cross_entropy_with_logits(inputs, targets)\n",
        "\n",
        "            probs = torch.sigmoid(inputs)\n",
        "            pt = torch.where(targets == 1, probs, 1 - probs)\n",
        "\n",
        "            # Focal loss\n",
        "            focal_weight = (1 - pt) ** self.gamma\n",
        "\n",
        "            if self.alpha is not None:\n",
        "                alpha_t = torch.where(targets == 1, self.alpha, 1 - self.alpha)\n",
        "                focal_weight = alpha_t * focal_weight\n",
        "\n",
        "            loss = focal_weight * bce_loss\n",
        "        else:\n",
        "            # Для грейда\n",
        "            if self.alpha is not None:\n",
        "                ce_loss = F.cross_entropy(inputs, targets, weight=self.alpha, label_smoothing=self.multi_label_smoothing)\n",
        "            else:\n",
        "                ce_loss = F.cross_entropy(inputs, targets, label_smoothing=self.multi_label_smoothing)\n",
        "\n",
        "            pt = torch.exp(-ce_loss)\n",
        "            loss = (1 - pt) ** self.gamma * ce_loss\n",
        "\n",
        "        return loss"
      ]
    },
    {
      "cell_type": "code",
      "execution_count": null,
      "id": "9cea1411",
      "metadata": {
        "execution": {
          "iopub.execute_input": "2025-05-17T23:09:42.988755Z",
          "iopub.status.busy": "2025-05-17T23:09:42.988522Z",
          "iopub.status.idle": "2025-05-17T23:09:43.337840Z",
          "shell.execute_reply": "2025-05-17T23:09:43.336945Z"
        },
        "papermill": {
          "duration": 0.390906,
          "end_time": "2025-05-17T23:09:43.339217",
          "exception": false,
          "start_time": "2025-05-17T23:09:42.948311",
          "status": "completed"
        },
        "tags": [],
        "id": "9cea1411",
        "outputId": "96ea4886-45c5-4232-e249-415646bd3149"
      },
      "outputs": [
        {
          "name": "stdout",
          "output_type": "stream",
          "text": [
            "147\n",
            "139\n",
            "CPU times: user 60.2 ms, sys: 56.3 ms, total: 117 ms\n",
            "Wall time: 345 ms\n"
          ]
        }
      ],
      "source": [
        "%%time\n",
        "dataset_directory = \"/kaggle/input/patients-mri/patients_dcm\"\n",
        "target_filter = \"t1_fl2d_cor\"\n",
        "\n",
        "patients_with_filter = get_patients_with_filter(dataset_directory, \"t1_fl2d_cor\")\n",
        "print(len(patients_with_filter))\n",
        "\n",
        "patients_with_filter2 = get_patients_with_filter(dataset_directory, \"t2_tirm_cor_dark-fluid_3mm\")\n",
        "print(len(patients_with_filter2))"
      ]
    },
    {
      "cell_type": "code",
      "execution_count": null,
      "id": "16a05eda",
      "metadata": {
        "execution": {
          "iopub.execute_input": "2025-05-17T23:09:43.422561Z",
          "iopub.status.busy": "2025-05-17T23:09:43.422260Z",
          "iopub.status.idle": "2025-05-18T04:08:39.815203Z",
          "shell.execute_reply": "2025-05-18T04:08:39.814675Z"
        },
        "papermill": {
          "duration": 17936.436746,
          "end_time": "2025-05-18T04:08:39.816378",
          "exception": false,
          "start_time": "2025-05-17T23:09:43.379632",
          "status": "completed"
        },
        "tags": [],
        "colab": {
          "referenced_widgets": [
            "4a77f2824b0247049f04b0565026e182",
            "ca344f7659014e76a728a507cd12486c",
            "67e4dea9c3714e22a74137b36ff4d6fe",
            "c597f4afaa2649e0a810ab17b0ab1585",
            "2a7a2e3263ab48c3b7c23313028c0406",
            "b13927a66c384242bce16a919ba40997",
            "10c0f66df17241e8b3a696a72d6855a1",
            "9195ce92179047a483b2eaba3b55d72e",
            "5d52c6b705e84a7bb3e948323cb196c5",
            "93a76542026d4c87acc781bb8597a553",
            "34cfc1ae02914c2d996d6a580e4161d6",
            "7e5b1ddc63c74b3f9c598b74bad55488",
            "5efd9edd98614597b046413514b69111",
            "4e0972c9b0d94096a6789e754aac26e0",
            "19e5ac3e164e4540be73f50c052628ea",
            "905a65d2b5b34c59ae8c76214df36a1b",
            "8548a87258364fb9a223fee908076473",
            "9f89bbb569744a82acda4c0053437cd4",
            "fefdd7ca9a4049579f5412661a693d37",
            "0f50f68b65864e2b8fb9ba383c5a8518",
            "83ee12f8588e4c67af204e24e000017e",
            "38b759d08a5b4e9f9a8d4c3ba6af59b5",
            "c6afa88357d9426b83ea9e4641a71c79",
            "daf763cccdfd4afe96952ca2032966e1",
            "e501dca78b5e45649cff8c515a7168b5",
            "ca4c99ec21f74c4eb509d2137b9b5917",
            "fbe85b5d7c5f49ef84fe4234ac2faa79",
            "46a0de7001e04e9aae1450b28b40225f",
            "66cef042e2364eea816830df6a19ec80",
            "e901c78f1cdc452192840f9d86bd6190",
            "ea97550cd591438ab528a8d2cc5d1ad1",
            "8f596c38b28541df926456a9d8087435",
            "55f05ad6d3aa4facade2da0612f87fe0",
            "52f7e496f96843ebb45826beac9264d0",
            "70a3672048f54b4b9de9a2560cce2f47",
            "150a5642f3194939b893727622f65215",
            "9c6b01047f304a8185d5c6072abe6414",
            "19d9481b613d49818c2aab7903d5cd99",
            "d8252b38b91f4202a846b99de48355bd",
            "6168fbe27d5a497091286c4e822b12d0",
            "07dd916254474113b4ebe36ad1485f98",
            "0be82787c2c54a1097016b371f2c8cc8",
            "d7577302823c4ab1a4b441a0bdf93538",
            "25e8fb4d87b848b1afeee545f1d9a60d",
            "a57586e8e576493685f001a78a053fdc",
            "05e0d036ea8b4d7e844c9b8381815b7f",
            "c01c40b0d8b444ee8582beaf601b38ba",
            "cd379029dc9242d48405f4cd69628447",
            "80d08a7045704157abe75a48e015e441",
            "637f993c0f1b4352bda05c32b7561a75",
            "84143b4f8e2d47e691acfed52999b141",
            "58fa58f287514c82b42fc66095a1b8bc",
            "19cf9f4358954e4f915b916ec1cde3f8",
            "3cd6444278db4073a221dd3e33d8dd4c",
            "0b33dd31e61548f79e3674a60b768ece",
            "30f2fa1f97de419ba68532841a72077e",
            "dd2b3514d7944286b31f2dab78dccbb6",
            "b65ee274b8a64737a266648e68ac2c06",
            "ab51780c9580496cb842e94a7baad3f2",
            "85064b07346b419d89c710f98eab9e5c",
            "0501cdaf985b47acb62ea436f54dd1af",
            "9cb39fc33f6d457585d0648b982ed3cf",
            "77adc5f0f1e74dceb8394fe413f3137c",
            "d533b0d20472496f99f1fa9e3f9543df",
            "176f519da19b423b84cfd5c769f036ca",
            "601c73fb94694aa9a1c4735a7236ee6b",
            "9a52d1abc65449498e2ec2e40d5c0d99",
            "a1018c665ca149708316cd16db7d8c44",
            "2a5efbcb4e6c45b6aa884d33adac4a76",
            "881d728969604e649f9ed28d72905920",
            "60a0f7f1a9574c4d8811dccf9618859e",
            "d418d233378f45659ea30e700cbf07e0",
            "e455df88bd7b43c98e374b7da61e09e4",
            "30c45c83567e4049a16caffad6e97307",
            "35f9ff89146e44519327b0d7a7298159",
            "852e1242b9a7467e9756cfff130465e8",
            "9db400c66d2e46f9b3551d5a2a6f2234",
            "17b71f46860a45bdaefa749d73616ca6",
            "9c5aa0771bc946cb9dcf2ef2f8f324bd",
            "683c3f5903494cc2ba73aa8416971b5d",
            "5798ddcde9f84e1d95e187ec3b518ff2",
            "a126263046574f8282fc56fda8ef9a32",
            "5110deafa4e74746b29d6d08fc5eb2e1",
            "6c57c1fb3e2345d5b2ca78e5b6e84305",
            "58ffeb1139ae47d4a94e8db7eb43046b",
            "f056d5b524274f85a1bae22f48e14a1f",
            "aed5c2986b7f42b7ab71dfa3666119d9",
            "142725313a9e4d32b6cd06d188937921",
            "914e97dfca0d4ecc94ad919ad0e3f8b5",
            "8ac941ff2de94be38d6d51c8d5cc53a2",
            "c2f8fc15b8c64b4d9697264204608e3e",
            "3e2eebcadea64a8084e95f6ff175d042",
            "f51ad6b6bce24532a97830ca4be8581d",
            "83d77568fbbe4d97ace459ecd373855e",
            "4fb9a8b3bf5f4b75a3ae4c9ed37b48eb",
            "4be4c355654a4c859d788cbed2782dfa",
            "1df5b4e7098144ed86850edfc9dab648",
            "819114750f734685836c02479bf98654",
            "bbd104012d8440b685bc46270418e8fa",
            "56fb72d399624c5dbc2c2566c98384db",
            "1fa4d6b1625c4678ad0bb0bf26a6627c",
            "07c82e0fc3e1426e97fe5691c67c4992",
            "501e109939df4a668052abd8a5cf7908",
            "de5375a4f8e844afb8928b72573e5b0c",
            "c63d419d9dfd4e5e93d41b60ce3716a2",
            "9eaa801649ae4cce8180a9e0d29ba899",
            "e0d1cf7dd58d42a7b4a3722054801b24",
            "781ddcd2a4174ab181744faccc8fa20c",
            "faa035c2b41341faa44f8c677f145db2",
            "59d7b2d1d7104ec2868cb4820873089c",
            "11a3faee60104ba985ef33716a55bc77",
            "87a00545b095489286e0e25c3d1922c0",
            "99ec3508848e40979a7520b4ae221b12",
            "fa3a9d9a62e248c680872d0cb63602dd",
            "042758caeca8488cbd50ce7a591fbd6b",
            "f3a886c7f5f1486daf254ca6ee129f6b",
            "dd4e5335d72e426eb0f8ffc6ccfd4cce",
            "8741b05ba90a443f9fa4b1b958c3664a",
            "3e42c2535f354cb497afa19f613eb6ab",
            "d47b87b9c1de4d20973b8d10e117208e",
            "13a389b866af4e0b932879dc9e164913",
            "0feb9ea99d914dd8a9a06f8742066c06",
            "6dbdcff146804cc6805dc44042657f64",
            "a61ef7f1a88c4a1cb1007b3fb733a531",
            "d4c3c8e4d08d4bc98ef7b89a332ca25c",
            "4a128f2fa8c64b399310f61b698a8b17",
            "7244ae0f5dbf42358f4faeb42d9efe89",
            "22300f0496574951938e244c9f3ca086",
            "810345687af042898cdd2b7e63049f2a",
            "65a1c9f90eb447e8806c6250f849b6ea",
            "b2bcb9a11995482f963a8d8629706584",
            "ceec25deb83347e0aae849462e071464",
            "cd2ac3f2734c451b933bc5ac9b5fe9b5",
            "d57806edd9ff42268efaf345f0477828",
            "f3fa2083579d4d7ab13cbbe8eeb351e0",
            "b6f203d88aa1411c9c36d1890293ad6e",
            "afb04d20b49648559a8f3312ee0e5454",
            "dfb2c15f5d704e57a7d64920a9c0f2b3",
            "41e3eb4241184ec4ac954c0fa8c3a1cf",
            "b4ec1649976543b597bf03df5943bb4e",
            "84911d4ec9234974aa9be19a74734b36",
            "f88c2774d7d5473abd16e12d50331f10",
            "db9ddc4048454ca0b2ceac89efc632b0",
            "77efd4f188df4954a7aceb57a83feab7",
            "9649fccdd30c44f98cd71f71aee26083",
            "28c325c6a5a34b7d9367542a66674726",
            "954cd857685945d9bc077b175723d7de",
            "898254506ef14114b95bb20793a18a7d",
            "3afff10da6684c4199fd439039a01c89",
            "705cf0f8f1a14b3ca2f84b7dbc1cc9a6",
            "0e3cae1ebb3b4b379981ce320e293acd",
            "b91ee092dd774b228b383723811d97a5",
            "2858c180f60949faa5f360f569963a7c",
            "5f900f456c3f403b8536699500b30d85",
            "66e2fa662dc94ff19da635791f515c2b",
            "26638f231574403991a9fce4555557e3",
            "42b61a61b1674db7aa93d5f3dbbd67af",
            "3a8f68e87dff40f5a37f73c8cf7e46c8",
            "472e6f8bee794586b8cf217f6ffa76b6",
            "c563b32ff7434bd9ab7ebe43dd39faaf",
            "d444ca7e54c24ff9a5004e404979d284",
            "e36a1ba7f44f4f0d9639ca2cd12ae5fb",
            "793f88c4e7674b369f38e511a7703df8",
            "9437e14f11b94d9aa97956d22e0f8283",
            "fb457f8c37544a9da0b6f2489840fde4",
            "993b7b1f86d241469e375c84b8aeee9a",
            "3bdc4387ffd5410a90538fd3ed7d39a1",
            "6e054366fe564b8abe0d67d71001cd1e",
            "51cd1bb9c5bf459599cc8c3ad33c6089",
            "4ec0420a3b12496c8c7b2d49889b331c",
            "e7ee49c8715b4316b8f4217590129644",
            "48ff1ecd6b91475583ee5e20b7a29513",
            "c774a656dca3425a9dba41a713f5f7b3",
            "f79b2568e1bb406fa4e4745c62e42f9f",
            "dc8bc2f44f214147bc579866400dfe43",
            "cbea1ed1923e4f1185b414335c735332",
            "0eb0658d16bc43aeadaec03c99bca617",
            "4d97699550944def9d884410c41fcb52",
            "b083ccf069c64ecc9afe335c6e8a47f7",
            "b1050bff5e5b4747be359f72ee0906d8",
            "b1a08db937bd4dcabcb1fa887e2ac9bd",
            "39c1d549c4554a34b3f13b56a5ee48b1",
            "ac580ad788d442579df7c24de205b376"
          ]
        },
        "id": "16a05eda",
        "outputId": "106f8b3e-a41c-4b4b-afbf-e12df252017f"
      },
      "outputs": [
        {
          "name": "stdout",
          "output_type": "stream",
          "text": [
            "120\n",
            "\n",
            "========== FOLD 1/3 (80 train / 40 val) ==========\n",
            "Normalization stats for t1_fl2d_cor: mean=342.2692, std=399.9382\n",
            "Normalization stats for t2_tirm_cor_dark-fluid_3mm: mean=117.9194, std=161.2185\n",
            "Normalization stats externally set for t1_fl2d_cor: mean=342.2692, std=399.9382\n",
            "Normalization stats externally set for t2_tirm_cor_dark-fluid_3mm: mean=117.9194, std=161.2185\n",
            "Warmup: 3 epochs, 15 steps, LR start factor: 0.01\n",
            "Downloading: \"https://download.pytorch.org/models/r3d_18-b3b3357e.pth\" to /root/.cache/torch/hub/checkpoints/r3d_18-b3b3357e.pth\n"
          ]
        },
        {
          "name": "stderr",
          "output_type": "stream",
          "text": [
            "100%|██████████| 127M/127M [00:00<00:00, 189MB/s]\n"
          ]
        },
        {
          "name": "stdout",
          "output_type": "stream",
          "text": [
            "\n",
            "--- Fold 1 | Epoch 1/30 ---\n"
          ]
        },
        {
          "name": "stderr",
          "output_type": "stream",
          "text": [
            "/usr/local/lib/python3.11/dist-packages/torch/nn/modules/transformer.py:382: UserWarning: enable_nested_tensor is True, but self.use_nested_tensor is False because encoder_layer.norm_first was True\n",
            "  warnings.warn(\n"
          ]
        },
        {
          "data": {
            "application/vnd.jupyter.widget-view+json": {
              "model_id": "4a77f2824b0247049f04b0565026e182",
              "version_major": 2,
              "version_minor": 0
            },
            "text/plain": [
              "train:   0%|          | 0/160 [00:00<?, ?it/s]"
            ]
          },
          "metadata": {},
          "output_type": "display_data"
        },
        {
          "name": "stdout",
          "output_type": "stream",
          "text": [
            "\n",
            "Confusion matrix (grade):\n",
            "[[16 14 16]\n",
            " [22 20 11]\n",
            " [18 22 21]]\n"
          ]
        },
        {
          "data": {
            "application/vnd.jupyter.widget-view+json": {
              "model_id": "ca344f7659014e76a728a507cd12486c",
              "version_major": 2,
              "version_minor": 0
            },
            "text/plain": [
              "valid:   0%|          | 0/40 [00:00<?, ?it/s]"
            ]
          },
          "metadata": {},
          "output_type": "display_data"
        },
        {
          "name": "stdout",
          "output_type": "stream",
          "text": [
            "\n",
            "Confusion matrix (grade):\n",
            "[[ 0  0  3]\n",
            " [ 0  3 10]\n",
            " [ 1  9 14]]\n",
            "Epoch 1: train_loss=3.5397, val_loss=3.3327, val_meanF1=0.4134, val_meanAcc=0.5500, LR=1.020000e-04\n",
            "Train F1: {'grade': '0.3553', 'IDH1': '0.4582', '1p/19q': '0.4940', 'MGMT': '0.3960'}\n",
            "Val   F1: {'grade': '0.2630', 'IDH1': '0.4068', '1p/19q': '0.4203', 'MGMT': '0.5636'}\n",
            "Warm-up phase (1/3). LR контролируется вручную.\n",
            "Validation metric improved (-inf → 0.4134). Saving model…\n",
            "\n",
            "--- Fold 1 | Epoch 2/30 ---\n"
          ]
        },
        {
          "data": {
            "application/vnd.jupyter.widget-view+json": {
              "model_id": "67e4dea9c3714e22a74137b36ff4d6fe",
              "version_major": 2,
              "version_minor": 0
            },
            "text/plain": [
              "train:   0%|          | 0/160 [00:00<?, ?it/s]"
            ]
          },
          "metadata": {},
          "output_type": "display_data"
        },
        {
          "name": "stdout",
          "output_type": "stream",
          "text": [
            "\n",
            "Confusion matrix (grade):\n",
            "[[20  6 21]\n",
            " [11 15 24]\n",
            " [17 13 33]]\n"
          ]
        },
        {
          "data": {
            "application/vnd.jupyter.widget-view+json": {
              "model_id": "c597f4afaa2649e0a810ab17b0ab1585",
              "version_major": 2,
              "version_minor": 0
            },
            "text/plain": [
              "valid:   0%|          | 0/40 [00:00<?, ?it/s]"
            ]
          },
          "metadata": {},
          "output_type": "display_data"
        },
        {
          "name": "stdout",
          "output_type": "stream",
          "text": [
            "\n",
            "Confusion matrix (grade):\n",
            "[[ 1  1  1]\n",
            " [ 0  7  6]\n",
            " [ 0 17  7]]\n",
            "Epoch 2: train_loss=3.2852, val_loss=3.1632, val_meanF1=0.3848, val_meanAcc=0.5500, LR=2.010000e-04\n",
            "Train F1: {'grade': '0.4154', 'IDH1': '0.6245', '1p/19q': '0.5135', 'MGMT': '0.5635'}\n",
            "Val   F1: {'grade': '0.4123', 'IDH1': '0.3333', '1p/19q': '0.4286', 'MGMT': '0.3651'}\n",
            "Warm-up phase (2/3). LR контролируется вручную.\n",
            "\n",
            "--- Fold 1 | Epoch 3/30 ---\n"
          ]
        },
        {
          "data": {
            "application/vnd.jupyter.widget-view+json": {
              "model_id": "2a7a2e3263ab48c3b7c23313028c0406",
              "version_major": 2,
              "version_minor": 0
            },
            "text/plain": [
              "train:   0%|          | 0/160 [00:00<?, ?it/s]"
            ]
          },
          "metadata": {},
          "output_type": "display_data"
        },
        {
          "name": "stdout",
          "output_type": "stream",
          "text": [
            "\n",
            "Confusion matrix (grade):\n",
            "[[33  9  7]\n",
            " [14 22 16]\n",
            " [17 10 32]]\n"
          ]
        },
        {
          "data": {
            "application/vnd.jupyter.widget-view+json": {
              "model_id": "b13927a66c384242bce16a919ba40997",
              "version_major": 2,
              "version_minor": 0
            },
            "text/plain": [
              "valid:   0%|          | 0/40 [00:00<?, ?it/s]"
            ]
          },
          "metadata": {},
          "output_type": "display_data"
        },
        {
          "name": "stdout",
          "output_type": "stream",
          "text": [
            "\n",
            "Confusion matrix (grade):\n",
            "[[ 0  0  3]\n",
            " [ 0  2 11]\n",
            " [ 0  2 22]]\n",
            "Epoch 3: train_loss=3.0284, val_loss=3.2368, val_meanF1=0.4467, val_meanAcc=0.6062, LR=3.000000e-04\n",
            "Train F1: {'grade': '0.5395', 'IDH1': '0.5367', '1p/19q': '0.6050', 'MGMT': '0.5838'}\n",
            "Val   F1: {'grade': '0.3229', 'IDH1': '0.3443', '1p/19q': '0.5145', 'MGMT': '0.6050'}\n",
            "Warm-up phase (3/3). LR контролируется вручную.\n",
            "Validation metric improved (0.4134 → 0.4467). Saving model…\n",
            "\n",
            "--- Fold 1 | Epoch 4/30 ---\n"
          ]
        },
        {
          "data": {
            "application/vnd.jupyter.widget-view+json": {
              "model_id": "10c0f66df17241e8b3a696a72d6855a1",
              "version_major": 2,
              "version_minor": 0
            },
            "text/plain": [
              "train:   0%|          | 0/160 [00:00<?, ?it/s]"
            ]
          },
          "metadata": {},
          "output_type": "display_data"
        },
        {
          "name": "stdout",
          "output_type": "stream",
          "text": [
            "\n",
            "Confusion matrix (grade):\n",
            "[[36 12  7]\n",
            " [23 12  8]\n",
            " [28  7 27]]\n"
          ]
        },
        {
          "data": {
            "application/vnd.jupyter.widget-view+json": {
              "model_id": "9195ce92179047a483b2eaba3b55d72e",
              "version_major": 2,
              "version_minor": 0
            },
            "text/plain": [
              "valid:   0%|          | 0/40 [00:00<?, ?it/s]"
            ]
          },
          "metadata": {},
          "output_type": "display_data"
        },
        {
          "name": "stdout",
          "output_type": "stream",
          "text": [
            "\n",
            "Confusion matrix (grade):\n",
            "[[ 1  2  0]\n",
            " [ 4  7  2]\n",
            " [ 1 19  4]]\n",
            "Epoch 4: train_loss=3.1720, val_loss=3.4146, val_meanF1=0.4166, val_meanAcc=0.5250, LR=3.000000e-04\n",
            "Train F1: {'grade': '0.4502', 'IDH1': '0.5548', '1p/19q': '0.6025', 'MGMT': '0.5333'}\n",
            "Val   F1: {'grade': '0.2768', 'IDH1': '0.4861', '1p/19q': '0.5487', 'MGMT': '0.3548'}\n",
            "\n",
            "--- Fold 1 | Epoch 5/30 ---\n"
          ]
        },
        {
          "data": {
            "application/vnd.jupyter.widget-view+json": {
              "model_id": "5d52c6b705e84a7bb3e948323cb196c5",
              "version_major": 2,
              "version_minor": 0
            },
            "text/plain": [
              "train:   0%|          | 0/160 [00:00<?, ?it/s]"
            ]
          },
          "metadata": {},
          "output_type": "display_data"
        },
        {
          "name": "stdout",
          "output_type": "stream",
          "text": [
            "\n",
            "Confusion matrix (grade):\n",
            "[[29  9  9]\n",
            " [14 32 12]\n",
            " [ 7 13 35]]\n"
          ]
        },
        {
          "data": {
            "application/vnd.jupyter.widget-view+json": {
              "model_id": "93a76542026d4c87acc781bb8597a553",
              "version_major": 2,
              "version_minor": 0
            },
            "text/plain": [
              "valid:   0%|          | 0/40 [00:00<?, ?it/s]"
            ]
          },
          "metadata": {},
          "output_type": "display_data"
        },
        {
          "name": "stdout",
          "output_type": "stream",
          "text": [
            "\n",
            "Confusion matrix (grade):\n",
            "[[ 0  3  0]\n",
            " [ 1 11  1]\n",
            " [ 2 18  4]]\n",
            "Epoch 5: train_loss=2.9357, val_loss=3.5861, val_meanF1=0.4326, val_meanAcc=0.5750, LR=3.000000e-04\n",
            "Train F1: {'grade': '0.6000', 'IDH1': '0.4582', '1p/19q': '0.6717', 'MGMT': '0.5435'}\n",
            "Val   F1: {'grade': '0.2549', 'IDH1': '0.5312', '1p/19q': '0.4286', 'MGMT': '0.5157'}\n",
            "\n",
            "--- Fold 1 | Epoch 6/30 ---\n"
          ]
        },
        {
          "data": {
            "application/vnd.jupyter.widget-view+json": {
              "model_id": "34cfc1ae02914c2d996d6a580e4161d6",
              "version_major": 2,
              "version_minor": 0
            },
            "text/plain": [
              "train:   0%|          | 0/160 [00:00<?, ?it/s]"
            ]
          },
          "metadata": {},
          "output_type": "display_data"
        },
        {
          "name": "stdout",
          "output_type": "stream",
          "text": [
            "\n",
            "Confusion matrix (grade):\n",
            "[[27 16  5]\n",
            " [10 44  7]\n",
            " [ 5 14 32]]\n"
          ]
        },
        {
          "data": {
            "application/vnd.jupyter.widget-view+json": {
              "model_id": "7e5b1ddc63c74b3f9c598b74bad55488",
              "version_major": 2,
              "version_minor": 0
            },
            "text/plain": [
              "valid:   0%|          | 0/40 [00:00<?, ?it/s]"
            ]
          },
          "metadata": {},
          "output_type": "display_data"
        },
        {
          "name": "stdout",
          "output_type": "stream",
          "text": [
            "\n",
            "Confusion matrix (grade):\n",
            "[[ 0  3  0]\n",
            " [ 1  8  4]\n",
            " [ 2 17  5]]\n",
            "Epoch 6: train_loss=2.5649, val_loss=3.7181, val_meanF1=0.4119, val_meanAcc=0.5250, LR=3.000000e-04\n",
            "Train F1: {'grade': '0.6418', 'IDH1': '0.7341', '1p/19q': '0.7350', 'MGMT': '0.6835'}\n",
            "Val   F1: {'grade': '0.2311', 'IDH1': '0.5500', '1p/19q': '0.4531', 'MGMT': '0.4133'}\n",
            "\n",
            "--- Fold 1 | Epoch 7/30 ---\n"
          ]
        },
        {
          "data": {
            "application/vnd.jupyter.widget-view+json": {
              "model_id": "5efd9edd98614597b046413514b69111",
              "version_major": 2,
              "version_minor": 0
            },
            "text/plain": [
              "train:   0%|          | 0/160 [00:00<?, ?it/s]"
            ]
          },
          "metadata": {},
          "output_type": "display_data"
        },
        {
          "name": "stdout",
          "output_type": "stream",
          "text": [
            "\n",
            "Confusion matrix (grade):\n",
            "[[41  7  1]\n",
            " [15 27 11]\n",
            " [ 4  8 46]]\n"
          ]
        },
        {
          "data": {
            "application/vnd.jupyter.widget-view+json": {
              "model_id": "4e0972c9b0d94096a6789e754aac26e0",
              "version_major": 2,
              "version_minor": 0
            },
            "text/plain": [
              "valid:   0%|          | 0/40 [00:00<?, ?it/s]"
            ]
          },
          "metadata": {},
          "output_type": "display_data"
        },
        {
          "name": "stdout",
          "output_type": "stream",
          "text": [
            "\n",
            "Confusion matrix (grade):\n",
            "[[ 3  0  0]\n",
            " [ 8  3  2]\n",
            " [13  7  4]]\n",
            "Epoch 7: train_loss=2.3646, val_loss=4.1162, val_meanF1=0.4253, val_meanAcc=0.4937, LR=3.000000e-04\n",
            "Train F1: {'grade': '0.7046', 'IDH1': '0.8433', '1p/19q': '0.7316', 'MGMT': '0.6406'}\n",
            "Val   F1: {'grade': '0.2499', 'IDH1': '0.5990', '1p/19q': '0.3651', 'MGMT': '0.4872'}\n",
            "\n",
            "--- Fold 1 | Epoch 8/30 ---\n"
          ]
        },
        {
          "data": {
            "application/vnd.jupyter.widget-view+json": {
              "model_id": "19e5ac3e164e4540be73f50c052628ea",
              "version_major": 2,
              "version_minor": 0
            },
            "text/plain": [
              "train:   0%|          | 0/160 [00:00<?, ?it/s]"
            ]
          },
          "metadata": {},
          "output_type": "display_data"
        },
        {
          "name": "stdout",
          "output_type": "stream",
          "text": [
            "\n",
            "Confusion matrix (grade):\n",
            "[[32 11  1]\n",
            " [ 5 48  7]\n",
            " [ 1  9 46]]\n"
          ]
        },
        {
          "data": {
            "application/vnd.jupyter.widget-view+json": {
              "model_id": "905a65d2b5b34c59ae8c76214df36a1b",
              "version_major": 2,
              "version_minor": 0
            },
            "text/plain": [
              "valid:   0%|          | 0/40 [00:00<?, ?it/s]"
            ]
          },
          "metadata": {},
          "output_type": "display_data"
        },
        {
          "name": "stdout",
          "output_type": "stream",
          "text": [
            "\n",
            "Confusion matrix (grade):\n",
            "[[3 0 0]\n",
            " [5 2 6]\n",
            " [8 7 9]]\n",
            "Epoch 8: train_loss=2.1608, val_loss=4.0950, val_meanF1=0.4851, val_meanAcc=0.5750, LR=3.000000e-04\n",
            "Train F1: {'grade': '0.7890', 'IDH1': '0.8182', '1p/19q': '0.8000', 'MGMT': '0.7193'}\n",
            "Val   F1: {'grade': '0.3197', 'IDH1': '0.6419', '1p/19q': '0.4286', 'MGMT': '0.5500'}\n",
            "Validation metric improved (0.4467 → 0.4851). Saving model…\n",
            "\n",
            "--- Fold 1 | Epoch 9/30 ---\n"
          ]
        },
        {
          "data": {
            "application/vnd.jupyter.widget-view+json": {
              "model_id": "8548a87258364fb9a223fee908076473",
              "version_major": 2,
              "version_minor": 0
            },
            "text/plain": [
              "train:   0%|          | 0/160 [00:00<?, ?it/s]"
            ]
          },
          "metadata": {},
          "output_type": "display_data"
        },
        {
          "name": "stdout",
          "output_type": "stream",
          "text": [
            "\n",
            "Confusion matrix (grade):\n",
            "[[41  9  1]\n",
            " [10 47  4]\n",
            " [ 1  5 42]]\n"
          ]
        },
        {
          "data": {
            "application/vnd.jupyter.widget-view+json": {
              "model_id": "9f89bbb569744a82acda4c0053437cd4",
              "version_major": 2,
              "version_minor": 0
            },
            "text/plain": [
              "valid:   0%|          | 0/40 [00:00<?, ?it/s]"
            ]
          },
          "metadata": {},
          "output_type": "display_data"
        },
        {
          "name": "stdout",
          "output_type": "stream",
          "text": [
            "\n",
            "Confusion matrix (grade):\n",
            "[[3 0 0]\n",
            " [4 3 6]\n",
            " [7 8 9]]\n",
            "Epoch 9: train_loss=2.0472, val_loss=4.6128, val_meanF1=0.4441, val_meanAcc=0.5000, LR=3.000000e-04\n",
            "Train F1: {'grade': '0.8169', 'IDH1': '0.8498', '1p/19q': '0.8120', 'MGMT': '0.6835'}\n",
            "Val   F1: {'grade': '0.3548', 'IDH1': '0.5683', '1p/19q': '0.4531', 'MGMT': '0.4000'}\n",
            "\n",
            "--- Fold 1 | Epoch 10/30 ---\n"
          ]
        },
        {
          "data": {
            "application/vnd.jupyter.widget-view+json": {
              "model_id": "fefdd7ca9a4049579f5412661a693d37",
              "version_major": 2,
              "version_minor": 0
            },
            "text/plain": [
              "train:   0%|          | 0/160 [00:00<?, ?it/s]"
            ]
          },
          "metadata": {},
          "output_type": "display_data"
        },
        {
          "name": "stdout",
          "output_type": "stream",
          "text": [
            "\n",
            "Confusion matrix (grade):\n",
            "[[43  3  3]\n",
            " [ 7 50  7]\n",
            " [ 5  5 37]]\n"
          ]
        },
        {
          "data": {
            "application/vnd.jupyter.widget-view+json": {
              "model_id": "0f50f68b65864e2b8fb9ba383c5a8518",
              "version_major": 2,
              "version_minor": 0
            },
            "text/plain": [
              "valid:   0%|          | 0/40 [00:00<?, ?it/s]"
            ]
          },
          "metadata": {},
          "output_type": "display_data"
        },
        {
          "name": "stdout",
          "output_type": "stream",
          "text": [
            "\n",
            "Confusion matrix (grade):\n",
            "[[ 0  3  0]\n",
            " [ 3  5  5]\n",
            " [ 4 12  8]]\n",
            "Epoch 10: train_loss=1.8404, val_loss=4.5987, val_meanF1=0.4425, val_meanAcc=0.5562, LR=3.000000e-04\n",
            "Train F1: {'grade': '0.8113', 'IDH1': '0.9031', '1p/19q': '0.8764', 'MGMT': '0.8124'}\n",
            "Val   F1: {'grade': '0.2452', 'IDH1': '0.5990', '1p/19q': '0.4203', 'MGMT': '0.5055'}\n",
            "\n",
            "--- Fold 1 | Epoch 11/30 ---\n"
          ]
        },
        {
          "data": {
            "application/vnd.jupyter.widget-view+json": {
              "model_id": "83ee12f8588e4c67af204e24e000017e",
              "version_major": 2,
              "version_minor": 0
            },
            "text/plain": [
              "train:   0%|          | 0/160 [00:00<?, ?it/s]"
            ]
          },
          "metadata": {},
          "output_type": "display_data"
        },
        {
          "name": "stdout",
          "output_type": "stream",
          "text": [
            "\n",
            "Confusion matrix (grade):\n",
            "[[37  2  3]\n",
            " [10 31  6]\n",
            " [ 1  2 68]]\n"
          ]
        },
        {
          "data": {
            "application/vnd.jupyter.widget-view+json": {
              "model_id": "38b759d08a5b4e9f9a8d4c3ba6af59b5",
              "version_major": 2,
              "version_minor": 0
            },
            "text/plain": [
              "valid:   0%|          | 0/40 [00:00<?, ?it/s]"
            ]
          },
          "metadata": {},
          "output_type": "display_data"
        },
        {
          "name": "stdout",
          "output_type": "stream",
          "text": [
            "\n",
            "Confusion matrix (grade):\n",
            "[[ 0  3  0]\n",
            " [ 1  5  7]\n",
            " [ 2 12 10]]\n",
            "Epoch 11: train_loss=1.8178, val_loss=4.7340, val_meanF1=0.4662, val_meanAcc=0.5687, LR=3.000000e-04\n",
            "Train F1: {'grade': '0.8324', 'IDH1': '0.8255', '1p/19q': '0.9038', 'MGMT': '0.7808'}\n",
            "Val   F1: {'grade': '0.2636', 'IDH1': '0.6248', '1p/19q': '0.4030', 'MGMT': '0.5733'}\n",
            "\n",
            "--- Fold 1 | Epoch 12/30 ---\n"
          ]
        },
        {
          "data": {
            "application/vnd.jupyter.widget-view+json": {
              "model_id": "c6afa88357d9426b83ea9e4641a71c79",
              "version_major": 2,
              "version_minor": 0
            },
            "text/plain": [
              "train:   0%|          | 0/160 [00:00<?, ?it/s]"
            ]
          },
          "metadata": {},
          "output_type": "display_data"
        },
        {
          "name": "stdout",
          "output_type": "stream",
          "text": [
            "\n",
            "Confusion matrix (grade):\n",
            "[[45  2  1]\n",
            " [ 3 49  3]\n",
            " [ 3  3 51]]\n"
          ]
        },
        {
          "data": {
            "application/vnd.jupyter.widget-view+json": {
              "model_id": "daf763cccdfd4afe96952ca2032966e1",
              "version_major": 2,
              "version_minor": 0
            },
            "text/plain": [
              "valid:   0%|          | 0/40 [00:00<?, ?it/s]"
            ]
          },
          "metadata": {},
          "output_type": "display_data"
        },
        {
          "name": "stdout",
          "output_type": "stream",
          "text": [
            "\n",
            "Confusion matrix (grade):\n",
            "[[ 0  3  0]\n",
            " [ 1  3  9]\n",
            " [ 0  5 19]]\n",
            "Epoch 12: train_loss=1.5725, val_loss=4.4120, val_meanF1=0.4630, val_meanAcc=0.6188, LR=1.500000e-04\n",
            "Train F1: {'grade': '0.9063', 'IDH1': '0.9541', '1p/19q': '0.8965', 'MGMT': '0.8721'}\n",
            "Val   F1: {'grade': '0.3269', 'IDH1': '0.5726', '1p/19q': '0.4286', 'MGMT': '0.5238'}\n",
            "\n",
            "--- Fold 1 | Epoch 13/30 ---\n"
          ]
        },
        {
          "data": {
            "application/vnd.jupyter.widget-view+json": {
              "model_id": "e501dca78b5e45649cff8c515a7168b5",
              "version_major": 2,
              "version_minor": 0
            },
            "text/plain": [
              "train:   0%|          | 0/160 [00:00<?, ?it/s]"
            ]
          },
          "metadata": {},
          "output_type": "display_data"
        },
        {
          "name": "stdout",
          "output_type": "stream",
          "text": [
            "\n",
            "Confusion matrix (grade):\n",
            "[[44  4  2]\n",
            " [ 0 50  3]\n",
            " [ 0  1 56]]\n"
          ]
        },
        {
          "data": {
            "application/vnd.jupyter.widget-view+json": {
              "model_id": "ca4c99ec21f74c4eb509d2137b9b5917",
              "version_major": 2,
              "version_minor": 0
            },
            "text/plain": [
              "valid:   0%|          | 0/40 [00:00<?, ?it/s]"
            ]
          },
          "metadata": {},
          "output_type": "display_data"
        },
        {
          "name": "stdout",
          "output_type": "stream",
          "text": [
            "\n",
            "Confusion matrix (grade):\n",
            "[[ 3  0  0]\n",
            " [ 1  4  8]\n",
            " [ 3  1 20]]\n",
            "Epoch 13: train_loss=1.3762, val_loss=4.3143, val_meanF1=0.5096, val_meanAcc=0.6250, LR=1.500000e-04\n",
            "Train F1: {'grade': '0.9371', 'IDH1': '0.9249', '1p/19q': '0.9241', 'MGMT': '0.8686'}\n",
            "Val   F1: {'grade': '0.6046', 'IDH1': '0.5833', '1p/19q': '0.4203', 'MGMT': '0.4302'}\n",
            "Validation metric improved (0.4851 → 0.5096). Saving model…\n",
            "\n",
            "--- Fold 1 | Epoch 14/30 ---\n"
          ]
        },
        {
          "data": {
            "application/vnd.jupyter.widget-view+json": {
              "model_id": "fbe85b5d7c5f49ef84fe4234ac2faa79",
              "version_major": 2,
              "version_minor": 0
            },
            "text/plain": [
              "train:   0%|          | 0/160 [00:00<?, ?it/s]"
            ]
          },
          "metadata": {},
          "output_type": "display_data"
        },
        {
          "name": "stdout",
          "output_type": "stream",
          "text": [
            "\n",
            "Confusion matrix (grade):\n",
            "[[45  0  0]\n",
            " [ 1 58  2]\n",
            " [ 0  3 51]]\n"
          ]
        },
        {
          "data": {
            "application/vnd.jupyter.widget-view+json": {
              "model_id": "46a0de7001e04e9aae1450b28b40225f",
              "version_major": 2,
              "version_minor": 0
            },
            "text/plain": [
              "valid:   0%|          | 0/40 [00:00<?, ?it/s]"
            ]
          },
          "metadata": {},
          "output_type": "display_data"
        },
        {
          "name": "stdout",
          "output_type": "stream",
          "text": [
            "\n",
            "Confusion matrix (grade):\n",
            "[[ 0  3  0]\n",
            " [ 1  5  7]\n",
            " [ 3  8 13]]\n",
            "Epoch 14: train_loss=1.4187, val_loss=4.5450, val_meanF1=0.4296, val_meanAcc=0.5188, LR=1.500000e-04\n",
            "Train F1: {'grade': '0.9644', 'IDH1': '0.9178', '1p/19q': '0.9022', 'MGMT': '0.8805'}\n",
            "Val   F1: {'grade': '0.3119', 'IDH1': '0.5396', '1p/19q': '0.4398', 'MGMT': '0.4271'}\n",
            "\n",
            "--- Fold 1 | Epoch 15/30 ---\n"
          ]
        },
        {
          "data": {
            "application/vnd.jupyter.widget-view+json": {
              "model_id": "66cef042e2364eea816830df6a19ec80",
              "version_major": 2,
              "version_minor": 0
            },
            "text/plain": [
              "train:   0%|          | 0/160 [00:00<?, ?it/s]"
            ]
          },
          "metadata": {},
          "output_type": "display_data"
        },
        {
          "name": "stdout",
          "output_type": "stream",
          "text": [
            "\n",
            "Confusion matrix (grade):\n",
            "[[55  0  0]\n",
            " [ 0 46  4]\n",
            " [ 1  4 50]]\n"
          ]
        },
        {
          "data": {
            "application/vnd.jupyter.widget-view+json": {
              "model_id": "e901c78f1cdc452192840f9d86bd6190",
              "version_major": 2,
              "version_minor": 0
            },
            "text/plain": [
              "valid:   0%|          | 0/40 [00:00<?, ?it/s]"
            ]
          },
          "metadata": {},
          "output_type": "display_data"
        },
        {
          "name": "stdout",
          "output_type": "stream",
          "text": [
            "\n",
            "Confusion matrix (grade):\n",
            "[[ 1  2  0]\n",
            " [ 2  3  8]\n",
            " [ 6  5 13]]\n",
            "Epoch 15: train_loss=1.2367, val_loss=4.3316, val_meanF1=0.4609, val_meanAcc=0.5875, LR=1.500000e-04\n",
            "Train F1: {'grade': '0.9428', 'IDH1': '0.9247', '1p/19q': '0.9795', 'MGMT': '0.9433'}\n",
            "Val   F1: {'grade': '0.3351', 'IDH1': '0.5726', '1p/19q': '0.4203', 'MGMT': '0.5157'}\n",
            "\n",
            "--- Fold 1 | Epoch 16/30 ---\n"
          ]
        },
        {
          "data": {
            "application/vnd.jupyter.widget-view+json": {
              "model_id": "ea97550cd591438ab528a8d2cc5d1ad1",
              "version_major": 2,
              "version_minor": 0
            },
            "text/plain": [
              "train:   0%|          | 0/160 [00:00<?, ?it/s]"
            ]
          },
          "metadata": {},
          "output_type": "display_data"
        },
        {
          "name": "stdout",
          "output_type": "stream",
          "text": [
            "\n",
            "Confusion matrix (grade):\n",
            "[[51  0  0]\n",
            " [ 2 43  0]\n",
            " [ 0  3 61]]\n"
          ]
        },
        {
          "data": {
            "application/vnd.jupyter.widget-view+json": {
              "model_id": "8f596c38b28541df926456a9d8087435",
              "version_major": 2,
              "version_minor": 0
            },
            "text/plain": [
              "valid:   0%|          | 0/40 [00:00<?, ?it/s]"
            ]
          },
          "metadata": {},
          "output_type": "display_data"
        },
        {
          "name": "stdout",
          "output_type": "stream",
          "text": [
            "\n",
            "Confusion matrix (grade):\n",
            "[[ 0  3  0]\n",
            " [ 2  3  8]\n",
            " [ 6  4 14]]\n",
            "Epoch 16: train_loss=1.1783, val_loss=4.6672, val_meanF1=0.4054, val_meanAcc=0.5563, LR=1.500000e-04\n",
            "Train F1: {'grade': '0.9673', 'IDH1': '0.9312', '1p/19q': '0.9463', 'MGMT': '0.9312'}\n",
            "Val   F1: {'grade': '0.2899', 'IDH1': '0.4130', '1p/19q': '0.4203', 'MGMT': '0.4984'}\n",
            "\n",
            "--- Fold 1 | Epoch 17/30 ---\n"
          ]
        },
        {
          "data": {
            "application/vnd.jupyter.widget-view+json": {
              "model_id": "55f05ad6d3aa4facade2da0612f87fe0",
              "version_major": 2,
              "version_minor": 0
            },
            "text/plain": [
              "train:   0%|          | 0/160 [00:00<?, ?it/s]"
            ]
          },
          "metadata": {},
          "output_type": "display_data"
        },
        {
          "name": "stdout",
          "output_type": "stream",
          "text": [
            "\n",
            "Confusion matrix (grade):\n",
            "[[60  0  0]\n",
            " [ 0 57  4]\n",
            " [ 0  0 39]]\n"
          ]
        },
        {
          "data": {
            "application/vnd.jupyter.widget-view+json": {
              "model_id": "52f7e496f96843ebb45826beac9264d0",
              "version_major": 2,
              "version_minor": 0
            },
            "text/plain": [
              "valid:   0%|          | 0/40 [00:00<?, ?it/s]"
            ]
          },
          "metadata": {},
          "output_type": "display_data"
        },
        {
          "name": "stdout",
          "output_type": "stream",
          "text": [
            "\n",
            "Confusion matrix (grade):\n",
            "[[ 1  2  0]\n",
            " [ 2  2  9]\n",
            " [ 8  1 15]]\n",
            "Epoch 17: train_loss=1.0356, val_loss=4.5532, val_meanF1=0.4346, val_meanAcc=0.5813, LR=7.500000e-05\n",
            "Train F1: {'grade': '0.9724', 'IDH1': '0.9685', '1p/19q': '0.9723', 'MGMT': '0.9749'}\n",
            "Val   F1: {'grade': '0.3300', 'IDH1': '0.5747', '1p/19q': '0.4203', 'MGMT': '0.4133'}\n",
            "\n",
            "--- Fold 1 | Epoch 18/30 ---\n"
          ]
        },
        {
          "data": {
            "application/vnd.jupyter.widget-view+json": {
              "model_id": "70a3672048f54b4b9de9a2560cce2f47",
              "version_major": 2,
              "version_minor": 0
            },
            "text/plain": [
              "train:   0%|          | 0/160 [00:00<?, ?it/s]"
            ]
          },
          "metadata": {},
          "output_type": "display_data"
        },
        {
          "name": "stdout",
          "output_type": "stream",
          "text": [
            "\n",
            "Confusion matrix (grade):\n",
            "[[47  2  0]\n",
            " [ 1 62  1]\n",
            " [ 0  0 47]]\n"
          ]
        },
        {
          "data": {
            "application/vnd.jupyter.widget-view+json": {
              "model_id": "150a5642f3194939b893727622f65215",
              "version_major": 2,
              "version_minor": 0
            },
            "text/plain": [
              "valid:   0%|          | 0/40 [00:00<?, ?it/s]"
            ]
          },
          "metadata": {},
          "output_type": "display_data"
        },
        {
          "name": "stdout",
          "output_type": "stream",
          "text": [
            "\n",
            "Confusion matrix (grade):\n",
            "[[ 1  2  0]\n",
            " [ 4  3  6]\n",
            " [ 8  4 12]]\n",
            "Epoch 18: train_loss=1.1308, val_loss=4.6043, val_meanF1=0.4527, val_meanAcc=0.5687, LR=7.500000e-05\n",
            "Train F1: {'grade': '0.9758', 'IDH1': '0.9683', '1p/19q': '0.9525', 'MGMT': '0.9073'}\n",
            "Val   F1: {'grade': '0.3231', 'IDH1': '0.5523', '1p/19q': '0.4118', 'MGMT': '0.5238'}\n",
            "\n",
            "--- Fold 1 | Epoch 19/30 ---\n"
          ]
        },
        {
          "data": {
            "application/vnd.jupyter.widget-view+json": {
              "model_id": "9c6b01047f304a8185d5c6072abe6414",
              "version_major": 2,
              "version_minor": 0
            },
            "text/plain": [
              "train:   0%|          | 0/160 [00:00<?, ?it/s]"
            ]
          },
          "metadata": {},
          "output_type": "display_data"
        },
        {
          "name": "stdout",
          "output_type": "stream",
          "text": [
            "\n",
            "Confusion matrix (grade):\n",
            "[[49  0  0]\n",
            " [ 0 53  0]\n",
            " [ 3  3 52]]\n"
          ]
        },
        {
          "data": {
            "application/vnd.jupyter.widget-view+json": {
              "model_id": "19d9481b613d49818c2aab7903d5cd99",
              "version_major": 2,
              "version_minor": 0
            },
            "text/plain": [
              "valid:   0%|          | 0/40 [00:00<?, ?it/s]"
            ]
          },
          "metadata": {},
          "output_type": "display_data"
        },
        {
          "name": "stdout",
          "output_type": "stream",
          "text": [
            "\n",
            "Confusion matrix (grade):\n",
            "[[ 2  1  0]\n",
            " [ 4  3  6]\n",
            " [ 6  5 13]]\n",
            "Epoch 19: train_loss=1.0450, val_loss=4.7628, val_meanF1=0.4556, val_meanAcc=0.5938, LR=7.500000e-05\n",
            "Train F1: {'grade': '0.9627', 'IDH1': '0.9687', '1p/19q': '0.9865', 'MGMT': '0.9421'}\n",
            "Val   F1: {'grade': '0.3813', 'IDH1': '0.5990', '1p/19q': '0.4286', 'MGMT': '0.4133'}\n",
            "\n",
            "--- Fold 1 | Epoch 20/30 ---\n"
          ]
        },
        {
          "data": {
            "application/vnd.jupyter.widget-view+json": {
              "model_id": "d8252b38b91f4202a846b99de48355bd",
              "version_major": 2,
              "version_minor": 0
            },
            "text/plain": [
              "train:   0%|          | 0/160 [00:00<?, ?it/s]"
            ]
          },
          "metadata": {},
          "output_type": "display_data"
        },
        {
          "name": "stdout",
          "output_type": "stream",
          "text": [
            "\n",
            "Confusion matrix (grade):\n",
            "[[47  0  0]\n",
            " [ 0 53  2]\n",
            " [ 0  0 58]]\n"
          ]
        },
        {
          "data": {
            "application/vnd.jupyter.widget-view+json": {
              "model_id": "6168fbe27d5a497091286c4e822b12d0",
              "version_major": 2,
              "version_minor": 0
            },
            "text/plain": [
              "valid:   0%|          | 0/40 [00:00<?, ?it/s]"
            ]
          },
          "metadata": {},
          "output_type": "display_data"
        },
        {
          "name": "stdout",
          "output_type": "stream",
          "text": [
            "\n",
            "Confusion matrix (grade):\n",
            "[[ 2  1  0]\n",
            " [ 4  3  6]\n",
            " [ 7  4 13]]\n",
            "Epoch 20: train_loss=0.9736, val_loss=4.8257, val_meanF1=0.4532, val_meanAcc=0.5875, LR=3.750000e-05\n",
            "Train F1: {'grade': '0.9882', 'IDH1': '0.9874', '1p/19q': '0.9866', 'MGMT': '0.9431'}\n",
            "Val   F1: {'grade': '0.3801', 'IDH1': '0.5990', '1p/19q': '0.4203', 'MGMT': '0.4133'}\n",
            "\n",
            "--- Fold 1 | Epoch 21/30 ---\n"
          ]
        },
        {
          "data": {
            "application/vnd.jupyter.widget-view+json": {
              "model_id": "07dd916254474113b4ebe36ad1485f98",
              "version_major": 2,
              "version_minor": 0
            },
            "text/plain": [
              "train:   0%|          | 0/160 [00:00<?, ?it/s]"
            ]
          },
          "metadata": {},
          "output_type": "display_data"
        },
        {
          "name": "stdout",
          "output_type": "stream",
          "text": [
            "\n",
            "Confusion matrix (grade):\n",
            "[[48  0  0]\n",
            " [ 0 50  0]\n",
            " [ 0  3 59]]\n"
          ]
        },
        {
          "data": {
            "application/vnd.jupyter.widget-view+json": {
              "model_id": "0be82787c2c54a1097016b371f2c8cc8",
              "version_major": 2,
              "version_minor": 0
            },
            "text/plain": [
              "valid:   0%|          | 0/40 [00:00<?, ?it/s]"
            ]
          },
          "metadata": {},
          "output_type": "display_data"
        },
        {
          "name": "stdout",
          "output_type": "stream",
          "text": [
            "\n",
            "Confusion matrix (grade):\n",
            "[[ 2  1  0]\n",
            " [ 3  4  6]\n",
            " [ 5  6 13]]\n",
            "Epoch 21: train_loss=0.9531, val_loss=4.7719, val_meanF1=0.4653, val_meanAcc=0.5750, LR=3.750000e-05\n",
            "Train F1: {'grade': '0.9820', 'IDH1': '1.0000', '1p/19q': '1.0000', 'MGMT': '0.9555'}\n",
            "Val   F1: {'grade': '0.4152', 'IDH1': '0.6229', '1p/19q': '0.4030', 'MGMT': '0.4203'}\n",
            "\n",
            "--- Fold 1 | Epoch 22/30 ---\n"
          ]
        },
        {
          "data": {
            "application/vnd.jupyter.widget-view+json": {
              "model_id": "d7577302823c4ab1a4b441a0bdf93538",
              "version_major": 2,
              "version_minor": 0
            },
            "text/plain": [
              "train:   0%|          | 0/160 [00:00<?, ?it/s]"
            ]
          },
          "metadata": {},
          "output_type": "display_data"
        },
        {
          "name": "stdout",
          "output_type": "stream",
          "text": [
            "\n",
            "Confusion matrix (grade):\n",
            "[[50  0  0]\n",
            " [ 0 39  1]\n",
            " [ 0  1 69]]\n"
          ]
        },
        {
          "data": {
            "application/vnd.jupyter.widget-view+json": {
              "model_id": "25e8fb4d87b848b1afeee545f1d9a60d",
              "version_major": 2,
              "version_minor": 0
            },
            "text/plain": [
              "valid:   0%|          | 0/40 [00:00<?, ?it/s]"
            ]
          },
          "metadata": {},
          "output_type": "display_data"
        },
        {
          "name": "stdout",
          "output_type": "stream",
          "text": [
            "\n",
            "Confusion matrix (grade):\n",
            "[[ 2  1  0]\n",
            " [ 2  4  7]\n",
            " [ 4  5 15]]\n",
            "Epoch 22: train_loss=0.9789, val_loss=4.8302, val_meanF1=0.4871, val_meanAcc=0.6062, LR=3.750000e-05\n",
            "Train F1: {'grade': '0.9869', 'IDH1': '1.0000', '1p/19q': '0.9928', 'MGMT': '0.9488'}\n",
            "Val   F1: {'grade': '0.4545', 'IDH1': '0.6465', '1p/19q': '0.4118', 'MGMT': '0.4357'}\n",
            "\n",
            "--- Fold 1 | Epoch 23/30 ---\n"
          ]
        },
        {
          "data": {
            "application/vnd.jupyter.widget-view+json": {
              "model_id": "a57586e8e576493685f001a78a053fdc",
              "version_major": 2,
              "version_minor": 0
            },
            "text/plain": [
              "train:   0%|          | 0/160 [00:00<?, ?it/s]"
            ]
          },
          "metadata": {},
          "output_type": "display_data"
        },
        {
          "name": "stdout",
          "output_type": "stream",
          "text": [
            "\n",
            "Confusion matrix (grade):\n",
            "[[53  0  0]\n",
            " [ 0 58  1]\n",
            " [ 0  0 48]]\n"
          ]
        },
        {
          "data": {
            "application/vnd.jupyter.widget-view+json": {
              "model_id": "05e0d036ea8b4d7e844c9b8381815b7f",
              "version_major": 2,
              "version_minor": 0
            },
            "text/plain": [
              "valid:   0%|          | 0/40 [00:00<?, ?it/s]"
            ]
          },
          "metadata": {},
          "output_type": "display_data"
        },
        {
          "name": "stdout",
          "output_type": "stream",
          "text": [
            "\n",
            "Confusion matrix (grade):\n",
            "[[ 2  1  0]\n",
            " [ 2  4  7]\n",
            " [ 4  2 18]]\n",
            "Epoch 23: train_loss=0.8727, val_loss=5.0563, val_meanF1=0.4755, val_meanAcc=0.6063, LR=1.875000e-05\n",
            "Train F1: {'grade': '0.9937', 'IDH1': '0.9874', '1p/19q': '1.0000', 'MGMT': '0.9687'}\n",
            "Val   F1: {'grade': '0.4994', 'IDH1': '0.6229', '1p/19q': '0.4203', 'MGMT': '0.3593'}\n",
            "\n",
            "--- Fold 1 | Epoch 24/30 ---\n"
          ]
        },
        {
          "data": {
            "application/vnd.jupyter.widget-view+json": {
              "model_id": "c01c40b0d8b444ee8582beaf601b38ba",
              "version_major": 2,
              "version_minor": 0
            },
            "text/plain": [
              "train:   0%|          | 0/160 [00:00<?, ?it/s]"
            ]
          },
          "metadata": {},
          "output_type": "display_data"
        },
        {
          "name": "stdout",
          "output_type": "stream",
          "text": [
            "\n",
            "Confusion matrix (grade):\n",
            "[[50  0  0]\n",
            " [ 1 55  1]\n",
            " [ 0  0 53]]\n"
          ]
        },
        {
          "data": {
            "application/vnd.jupyter.widget-view+json": {
              "model_id": "cd379029dc9242d48405f4cd69628447",
              "version_major": 2,
              "version_minor": 0
            },
            "text/plain": [
              "valid:   0%|          | 0/40 [00:00<?, ?it/s]"
            ]
          },
          "metadata": {},
          "output_type": "display_data"
        },
        {
          "name": "stdout",
          "output_type": "stream",
          "text": [
            "\n",
            "Confusion matrix (grade):\n",
            "[[ 2  1  0]\n",
            " [ 2  4  7]\n",
            " [ 4  5 15]]\n",
            "Epoch 24: train_loss=0.8433, val_loss=4.9733, val_meanF1=0.4481, val_meanAcc=0.5813, LR=1.875000e-05\n",
            "Train F1: {'grade': '0.9876', 'IDH1': '1.0000', '1p/19q': '1.0000', 'MGMT': '0.9812'}\n",
            "Val   F1: {'grade': '0.4545', 'IDH1': '0.5908', '1p/19q': '0.4030', 'MGMT': '0.3443'}\n",
            "\n",
            "--- Fold 1 | Epoch 25/30 ---\n"
          ]
        },
        {
          "data": {
            "application/vnd.jupyter.widget-view+json": {
              "model_id": "80d08a7045704157abe75a48e015e441",
              "version_major": 2,
              "version_minor": 0
            },
            "text/plain": [
              "train:   0%|          | 0/160 [00:00<?, ?it/s]"
            ]
          },
          "metadata": {},
          "output_type": "display_data"
        },
        {
          "name": "stdout",
          "output_type": "stream",
          "text": [
            "\n",
            "Confusion matrix (grade):\n",
            "[[46  0  0]\n",
            " [ 1 55  0]\n",
            " [ 0  0 58]]\n"
          ]
        },
        {
          "data": {
            "application/vnd.jupyter.widget-view+json": {
              "model_id": "637f993c0f1b4352bda05c32b7561a75",
              "version_major": 2,
              "version_minor": 0
            },
            "text/plain": [
              "valid:   0%|          | 0/40 [00:00<?, ?it/s]"
            ]
          },
          "metadata": {},
          "output_type": "display_data"
        },
        {
          "name": "stdout",
          "output_type": "stream",
          "text": [
            "\n",
            "Confusion matrix (grade):\n",
            "[[ 0  3  0]\n",
            " [ 3  3  7]\n",
            " [ 5  5 14]]\n",
            "Epoch 25: train_loss=0.8380, val_loss=4.9679, val_meanF1=0.4305, val_meanAcc=0.5687, LR=1.875000e-05\n",
            "Train F1: {'grade': '0.9934', 'IDH1': '0.9874', '1p/19q': '1.0000', 'MGMT': '0.9937'}\n",
            "Val   F1: {'grade': '0.2907', 'IDH1': '0.5908', '1p/19q': '0.4203', 'MGMT': '0.4203'}\n",
            "\n",
            "--- Fold 1 | Epoch 26/30 ---\n"
          ]
        },
        {
          "data": {
            "application/vnd.jupyter.widget-view+json": {
              "model_id": "84143b4f8e2d47e691acfed52999b141",
              "version_major": 2,
              "version_minor": 0
            },
            "text/plain": [
              "train:   0%|          | 0/160 [00:00<?, ?it/s]"
            ]
          },
          "metadata": {},
          "output_type": "display_data"
        },
        {
          "name": "stdout",
          "output_type": "stream",
          "text": [
            "\n",
            "Confusion matrix (grade):\n",
            "[[48  0  0]\n",
            " [ 0 51  0]\n",
            " [ 1  0 60]]\n"
          ]
        },
        {
          "data": {
            "application/vnd.jupyter.widget-view+json": {
              "model_id": "58fa58f287514c82b42fc66095a1b8bc",
              "version_major": 2,
              "version_minor": 0
            },
            "text/plain": [
              "valid:   0%|          | 0/40 [00:00<?, ?it/s]"
            ]
          },
          "metadata": {},
          "output_type": "display_data"
        },
        {
          "name": "stdout",
          "output_type": "stream",
          "text": [
            "\n",
            "Confusion matrix (grade):\n",
            "[[ 2  1  0]\n",
            " [ 4  3  6]\n",
            " [ 6  4 14]]\n",
            "Epoch 26: train_loss=0.8421, val_loss=5.1963, val_meanF1=0.4532, val_meanAcc=0.5938, LR=9.375000e-06\n",
            "Train F1: {'grade': '0.9938', 'IDH1': '0.9936', '1p/19q': '0.9931', 'MGMT': '0.9937'}\n",
            "Val   F1: {'grade': '0.3962', 'IDH1': '0.5747', '1p/19q': '0.4286', 'MGMT': '0.4133'}\n",
            "\n",
            "--- Fold 1 | Epoch 27/30 ---\n"
          ]
        },
        {
          "data": {
            "application/vnd.jupyter.widget-view+json": {
              "model_id": "19cf9f4358954e4f915b916ec1cde3f8",
              "version_major": 2,
              "version_minor": 0
            },
            "text/plain": [
              "train:   0%|          | 0/160 [00:00<?, ?it/s]"
            ]
          },
          "metadata": {},
          "output_type": "display_data"
        },
        {
          "name": "stdout",
          "output_type": "stream",
          "text": [
            "\n",
            "Confusion matrix (grade):\n",
            "[[53  0  0]\n",
            " [ 0 56  0]\n",
            " [ 0  0 51]]\n"
          ]
        },
        {
          "data": {
            "application/vnd.jupyter.widget-view+json": {
              "model_id": "3cd6444278db4073a221dd3e33d8dd4c",
              "version_major": 2,
              "version_minor": 0
            },
            "text/plain": [
              "valid:   0%|          | 0/40 [00:00<?, ?it/s]"
            ]
          },
          "metadata": {},
          "output_type": "display_data"
        },
        {
          "name": "stdout",
          "output_type": "stream",
          "text": [
            "\n",
            "Confusion matrix (grade):\n",
            "[[ 2  1  0]\n",
            " [ 4  3  6]\n",
            " [ 6  4 14]]\n",
            "Epoch 27: train_loss=0.8147, val_loss=4.9886, val_meanF1=0.4593, val_meanAcc=0.6000, LR=9.375000e-06\n",
            "Train F1: {'grade': '1.0000', 'IDH1': '1.0000', '1p/19q': '1.0000', 'MGMT': '0.9873'}\n",
            "Val   F1: {'grade': '0.3962', 'IDH1': '0.5990', '1p/19q': '0.4286', 'MGMT': '0.4133'}\n",
            "\n",
            "--- Fold 1 | Epoch 28/30 ---\n"
          ]
        },
        {
          "data": {
            "application/vnd.jupyter.widget-view+json": {
              "model_id": "0b33dd31e61548f79e3674a60b768ece",
              "version_major": 2,
              "version_minor": 0
            },
            "text/plain": [
              "train:   0%|          | 0/160 [00:00<?, ?it/s]"
            ]
          },
          "metadata": {},
          "output_type": "display_data"
        },
        {
          "name": "stdout",
          "output_type": "stream",
          "text": [
            "\n",
            "Confusion matrix (grade):\n",
            "[[48  0  0]\n",
            " [ 1 57  0]\n",
            " [ 0  0 54]]\n"
          ]
        },
        {
          "data": {
            "application/vnd.jupyter.widget-view+json": {
              "model_id": "30f2fa1f97de419ba68532841a72077e",
              "version_major": 2,
              "version_minor": 0
            },
            "text/plain": [
              "valid:   0%|          | 0/40 [00:00<?, ?it/s]"
            ]
          },
          "metadata": {},
          "output_type": "display_data"
        },
        {
          "name": "stdout",
          "output_type": "stream",
          "text": [
            "\n",
            "Confusion matrix (grade):\n",
            "[[ 2  1  0]\n",
            " [ 4  3  6]\n",
            " [ 7  4 13]]\n",
            "Epoch 28: train_loss=0.8284, val_loss=5.1565, val_meanF1=0.4492, val_meanAcc=0.5875, LR=9.375000e-06\n",
            "Train F1: {'grade': '0.9937', 'IDH1': '0.9937', '1p/19q': '0.9935', 'MGMT': '0.9810'}\n",
            "Val   F1: {'grade': '0.3801', 'IDH1': '0.5747', '1p/19q': '0.4286', 'MGMT': '0.4133'}\n",
            "\n",
            "--- Fold 1 | Epoch 29/30 ---\n"
          ]
        },
        {
          "data": {
            "application/vnd.jupyter.widget-view+json": {
              "model_id": "dd2b3514d7944286b31f2dab78dccbb6",
              "version_major": 2,
              "version_minor": 0
            },
            "text/plain": [
              "train:   0%|          | 0/160 [00:00<?, ?it/s]"
            ]
          },
          "metadata": {},
          "output_type": "display_data"
        },
        {
          "name": "stdout",
          "output_type": "stream",
          "text": [
            "\n",
            "Confusion matrix (grade):\n",
            "[[30  1  0]\n",
            " [ 0 58  0]\n",
            " [ 0  0 71]]\n"
          ]
        },
        {
          "data": {
            "application/vnd.jupyter.widget-view+json": {
              "model_id": "b65ee274b8a64737a266648e68ac2c06",
              "version_major": 2,
              "version_minor": 0
            },
            "text/plain": [
              "valid:   0%|          | 0/40 [00:00<?, ?it/s]"
            ]
          },
          "metadata": {},
          "output_type": "display_data"
        },
        {
          "name": "stdout",
          "output_type": "stream",
          "text": [
            "\n",
            "Confusion matrix (grade):\n",
            "[[ 1  2  0]\n",
            " [ 4  3  6]\n",
            " [ 6  5 13]]\n",
            "Epoch 29: train_loss=0.8643, val_loss=5.2241, val_meanF1=0.4555, val_meanAcc=0.5875, LR=4.687500e-06\n",
            "Train F1: {'grade': '0.9917', 'IDH1': '0.9937', '1p/19q': '1.0000', 'MGMT': '0.9937'}\n",
            "Val   F1: {'grade': '0.3361', 'IDH1': '0.5990', '1p/19q': '0.4203', 'MGMT': '0.4667'}\n",
            "\n",
            "--- Fold 1 | Epoch 30/30 ---\n"
          ]
        },
        {
          "data": {
            "application/vnd.jupyter.widget-view+json": {
              "model_id": "ab51780c9580496cb842e94a7baad3f2",
              "version_major": 2,
              "version_minor": 0
            },
            "text/plain": [
              "train:   0%|          | 0/160 [00:00<?, ?it/s]"
            ]
          },
          "metadata": {},
          "output_type": "display_data"
        },
        {
          "name": "stdout",
          "output_type": "stream",
          "text": [
            "\n",
            "Confusion matrix (grade):\n",
            "[[54  1  0]\n",
            " [ 0 57  0]\n",
            " [ 0  0 48]]\n"
          ]
        },
        {
          "data": {
            "application/vnd.jupyter.widget-view+json": {
              "model_id": "85064b07346b419d89c710f98eab9e5c",
              "version_major": 2,
              "version_minor": 0
            },
            "text/plain": [
              "valid:   0%|          | 0/40 [00:00<?, ?it/s]"
            ]
          },
          "metadata": {},
          "output_type": "display_data"
        },
        {
          "name": "stdout",
          "output_type": "stream",
          "text": [
            "\n",
            "Confusion matrix (grade):\n",
            "[[ 1  2  0]\n",
            " [ 4  3  6]\n",
            " [ 6  4 14]]\n",
            "Epoch 30: train_loss=0.8467, val_loss=5.2201, val_meanF1=0.4479, val_meanAcc=0.5938, LR=4.687500e-06\n",
            "Train F1: {'grade': '0.9940', 'IDH1': '0.9936', '1p/19q': '0.9860', 'MGMT': '0.9685'}\n",
            "Val   F1: {'grade': '0.3506', 'IDH1': '0.5990', '1p/19q': '0.4286', 'MGMT': '0.4133'}\n",
            "\n",
            "=== Fold 1 finished. Loading best weights and re-evaluating... ===\n"
          ]
        },
        {
          "data": {
            "application/vnd.jupyter.widget-view+json": {
              "model_id": "0501cdaf985b47acb62ea436f54dd1af",
              "version_major": 2,
              "version_minor": 0
            },
            "text/plain": [
              "valid:   0%|          | 0/40 [00:00<?, ?it/s]"
            ]
          },
          "metadata": {},
          "output_type": "display_data"
        },
        {
          "name": "stdout",
          "output_type": "stream",
          "text": [
            "\n",
            "Confusion matrix (grade):\n",
            "[[ 3  0  0]\n",
            " [ 1  4  8]\n",
            " [ 3  1 20]]\n",
            "\n",
            "========== FOLD 2/3 (80 train / 40 val) ==========\n",
            "Normalization stats for t1_fl2d_cor: mean=339.8176, std=397.9078\n",
            "Normalization stats for t2_tirm_cor_dark-fluid_3mm: mean=115.6050, std=159.5924\n",
            "Normalization stats externally set for t1_fl2d_cor: mean=339.8176, std=397.9078\n",
            "Normalization stats externally set for t2_tirm_cor_dark-fluid_3mm: mean=115.6050, std=159.5924\n",
            "Warmup: 3 epochs, 15 steps, LR start factor: 0.01\n",
            "\n",
            "--- Fold 2 | Epoch 1/30 ---\n"
          ]
        },
        {
          "name": "stderr",
          "output_type": "stream",
          "text": [
            "/usr/local/lib/python3.11/dist-packages/torch/nn/modules/transformer.py:382: UserWarning: enable_nested_tensor is True, but self.use_nested_tensor is False because encoder_layer.norm_first was True\n",
            "  warnings.warn(\n"
          ]
        },
        {
          "data": {
            "application/vnd.jupyter.widget-view+json": {
              "model_id": "9cb39fc33f6d457585d0648b982ed3cf",
              "version_major": 2,
              "version_minor": 0
            },
            "text/plain": [
              "train:   0%|          | 0/160 [00:00<?, ?it/s]"
            ]
          },
          "metadata": {},
          "output_type": "display_data"
        },
        {
          "name": "stdout",
          "output_type": "stream",
          "text": [
            "\n",
            "Confusion matrix (grade):\n",
            "[[18  9 23]\n",
            " [14  8 20]\n",
            " [26 11 31]]\n"
          ]
        },
        {
          "data": {
            "application/vnd.jupyter.widget-view+json": {
              "model_id": "77adc5f0f1e74dceb8394fe413f3137c",
              "version_major": 2,
              "version_minor": 0
            },
            "text/plain": [
              "valid:   0%|          | 0/40 [00:00<?, ?it/s]"
            ]
          },
          "metadata": {},
          "output_type": "display_data"
        },
        {
          "name": "stdout",
          "output_type": "stream",
          "text": [
            "\n",
            "Confusion matrix (grade):\n",
            "[[ 6  1  0]\n",
            " [13  2  1]\n",
            " [14  3  0]]\n",
            "Epoch 1: train_loss=3.5863, val_loss=3.6212, val_meanF1=0.3483, val_meanAcc=0.4812, LR=1.020000e-04\n",
            "Train F1: {'grade': '0.3328', 'IDH1': '0.5506', '1p/19q': '0.5163', 'MGMT': '0.5358'}\n",
            "Val   F1: {'grade': '0.1606', 'IDH1': '0.3548', '1p/19q': '0.4512', 'MGMT': '0.4265'}\n",
            "Warm-up phase (1/3). LR контролируется вручную.\n",
            "Validation metric improved (-inf → 0.3483). Saving model…\n",
            "\n",
            "--- Fold 2 | Epoch 2/30 ---\n"
          ]
        },
        {
          "data": {
            "application/vnd.jupyter.widget-view+json": {
              "model_id": "d533b0d20472496f99f1fa9e3f9543df",
              "version_major": 2,
              "version_minor": 0
            },
            "text/plain": [
              "train:   0%|          | 0/160 [00:00<?, ?it/s]"
            ]
          },
          "metadata": {},
          "output_type": "display_data"
        },
        {
          "name": "stdout",
          "output_type": "stream",
          "text": [
            "\n",
            "Confusion matrix (grade):\n",
            "[[29 11  7]\n",
            " [17 18 18]\n",
            " [20 17 23]]\n"
          ]
        },
        {
          "data": {
            "application/vnd.jupyter.widget-view+json": {
              "model_id": "176f519da19b423b84cfd5c769f036ca",
              "version_major": 2,
              "version_minor": 0
            },
            "text/plain": [
              "valid:   0%|          | 0/40 [00:00<?, ?it/s]"
            ]
          },
          "metadata": {},
          "output_type": "display_data"
        },
        {
          "name": "stdout",
          "output_type": "stream",
          "text": [
            "\n",
            "Confusion matrix (grade):\n",
            "[[ 3  2  2]\n",
            " [ 8  8  0]\n",
            " [ 5 11  1]]\n",
            "Epoch 2: train_loss=3.4007, val_loss=3.5909, val_meanF1=0.4498, val_meanAcc=0.5500, LR=2.010000e-04\n",
            "Train F1: {'grade': '0.4343', 'IDH1': '0.4939', '1p/19q': '0.5167', 'MGMT': '0.5024'}\n",
            "Val   F1: {'grade': '0.2644', 'IDH1': '0.5396', '1p/19q': '0.4118', 'MGMT': '0.5833'}\n",
            "Warm-up phase (2/3). LR контролируется вручную.\n",
            "Validation metric improved (0.3483 → 0.4498). Saving model…\n",
            "\n",
            "--- Fold 2 | Epoch 3/30 ---\n"
          ]
        },
        {
          "data": {
            "application/vnd.jupyter.widget-view+json": {
              "model_id": "601c73fb94694aa9a1c4735a7236ee6b",
              "version_major": 2,
              "version_minor": 0
            },
            "text/plain": [
              "train:   0%|          | 0/160 [00:00<?, ?it/s]"
            ]
          },
          "metadata": {},
          "output_type": "display_data"
        },
        {
          "name": "stdout",
          "output_type": "stream",
          "text": [
            "\n",
            "Confusion matrix (grade):\n",
            "[[46  8  2]\n",
            " [23 17  7]\n",
            " [14 16 27]]\n"
          ]
        },
        {
          "data": {
            "application/vnd.jupyter.widget-view+json": {
              "model_id": "9a52d1abc65449498e2ec2e40d5c0d99",
              "version_major": 2,
              "version_minor": 0
            },
            "text/plain": [
              "valid:   0%|          | 0/40 [00:00<?, ?it/s]"
            ]
          },
          "metadata": {},
          "output_type": "display_data"
        },
        {
          "name": "stdout",
          "output_type": "stream",
          "text": [
            "\n",
            "Confusion matrix (grade):\n",
            "[[ 2  2  3]\n",
            " [ 1  4 11]\n",
            " [ 2  0 15]]\n",
            "Epoch 3: train_loss=3.1496, val_loss=3.4842, val_meanF1=0.4163, val_meanAcc=0.5125, LR=3.000000e-04\n",
            "Train F1: {'grade': '0.5430', 'IDH1': '0.4946', '1p/19q': '0.5683', 'MGMT': '0.4452'}\n",
            "Val   F1: {'grade': '0.4497', 'IDH1': '0.4373', '1p/19q': '0.4030', 'MGMT': '0.3750'}\n",
            "Warm-up phase (3/3). LR контролируется вручную.\n",
            "\n",
            "--- Fold 2 | Epoch 4/30 ---\n"
          ]
        },
        {
          "data": {
            "application/vnd.jupyter.widget-view+json": {
              "model_id": "a1018c665ca149708316cd16db7d8c44",
              "version_major": 2,
              "version_minor": 0
            },
            "text/plain": [
              "train:   0%|          | 0/160 [00:00<?, ?it/s]"
            ]
          },
          "metadata": {},
          "output_type": "display_data"
        },
        {
          "name": "stdout",
          "output_type": "stream",
          "text": [
            "\n",
            "Confusion matrix (grade):\n",
            "[[29 12  7]\n",
            " [13 25 14]\n",
            " [12 20 28]]\n"
          ]
        },
        {
          "data": {
            "application/vnd.jupyter.widget-view+json": {
              "model_id": "2a5efbcb4e6c45b6aa884d33adac4a76",
              "version_major": 2,
              "version_minor": 0
            },
            "text/plain": [
              "valid:   0%|          | 0/40 [00:00<?, ?it/s]"
            ]
          },
          "metadata": {},
          "output_type": "display_data"
        },
        {
          "name": "stdout",
          "output_type": "stream",
          "text": [
            "\n",
            "Confusion matrix (grade):\n",
            "[[4 1 2]\n",
            " [7 5 4]\n",
            " [5 5 7]]\n",
            "Epoch 4: train_loss=3.0671, val_loss=3.6974, val_meanF1=0.3840, val_meanAcc=0.4750, LR=3.000000e-04\n",
            "Train F1: {'grade': '0.5137', 'IDH1': '0.5668', '1p/19q': '0.6589', 'MGMT': '0.7060'}\n",
            "Val   F1: {'grade': '0.3950', 'IDH1': '0.3548', '1p/19q': '0.3862', 'MGMT': '0.4000'}\n",
            "\n",
            "--- Fold 2 | Epoch 5/30 ---\n"
          ]
        },
        {
          "data": {
            "application/vnd.jupyter.widget-view+json": {
              "model_id": "881d728969604e649f9ed28d72905920",
              "version_major": 2,
              "version_minor": 0
            },
            "text/plain": [
              "train:   0%|          | 0/160 [00:00<?, ?it/s]"
            ]
          },
          "metadata": {},
          "output_type": "display_data"
        },
        {
          "name": "stdout",
          "output_type": "stream",
          "text": [
            "\n",
            "Confusion matrix (grade):\n",
            "[[43  3  6]\n",
            " [ 7 28 17]\n",
            " [12  9 35]]\n"
          ]
        },
        {
          "data": {
            "application/vnd.jupyter.widget-view+json": {
              "model_id": "60a0f7f1a9574c4d8811dccf9618859e",
              "version_major": 2,
              "version_minor": 0
            },
            "text/plain": [
              "valid:   0%|          | 0/40 [00:00<?, ?it/s]"
            ]
          },
          "metadata": {},
          "output_type": "display_data"
        },
        {
          "name": "stdout",
          "output_type": "stream",
          "text": [
            "\n",
            "Confusion matrix (grade):\n",
            "[[ 6  1  0]\n",
            " [ 7  9  0]\n",
            " [ 2 10  5]]\n",
            "Epoch 5: train_loss=2.7043, val_loss=3.5798, val_meanF1=0.4746, val_meanAcc=0.5188, LR=3.000000e-04\n",
            "Train F1: {'grade': '0.6590', 'IDH1': '0.6667', '1p/19q': '0.7086', 'MGMT': '0.6810'}\n",
            "Val   F1: {'grade': '0.5000', 'IDH1': '0.5423', '1p/19q': '0.3162', 'MGMT': '0.5396'}\n",
            "Validation metric improved (0.4498 → 0.4746). Saving model…\n",
            "\n",
            "--- Fold 2 | Epoch 6/30 ---\n"
          ]
        },
        {
          "data": {
            "application/vnd.jupyter.widget-view+json": {
              "model_id": "d418d233378f45659ea30e700cbf07e0",
              "version_major": 2,
              "version_minor": 0
            },
            "text/plain": [
              "train:   0%|          | 0/160 [00:00<?, ?it/s]"
            ]
          },
          "metadata": {},
          "output_type": "display_data"
        },
        {
          "name": "stdout",
          "output_type": "stream",
          "text": [
            "\n",
            "Confusion matrix (grade):\n",
            "[[34  6  3]\n",
            " [13 30  8]\n",
            " [10 18 38]]\n"
          ]
        },
        {
          "data": {
            "application/vnd.jupyter.widget-view+json": {
              "model_id": "e455df88bd7b43c98e374b7da61e09e4",
              "version_major": 2,
              "version_minor": 0
            },
            "text/plain": [
              "valid:   0%|          | 0/40 [00:00<?, ?it/s]"
            ]
          },
          "metadata": {},
          "output_type": "display_data"
        },
        {
          "name": "stdout",
          "output_type": "stream",
          "text": [
            "\n",
            "Confusion matrix (grade):\n",
            "[[ 0  0  7]\n",
            " [ 0  0 16]\n",
            " [ 0  0 17]]\n",
            "Epoch 6: train_loss=2.5489, val_loss=4.1150, val_meanF1=0.3763, val_meanAcc=0.5312, LR=3.000000e-04\n",
            "Train F1: {'grade': '0.6374', 'IDH1': '0.7020', '1p/19q': '0.8384', 'MGMT': '0.7937'}\n",
            "Val   F1: {'grade': '0.1988', 'IDH1': '0.4357', '1p/19q': '0.3651', 'MGMT': '0.5055'}\n",
            "\n",
            "--- Fold 2 | Epoch 7/30 ---\n"
          ]
        },
        {
          "data": {
            "application/vnd.jupyter.widget-view+json": {
              "model_id": "30c45c83567e4049a16caffad6e97307",
              "version_major": 2,
              "version_minor": 0
            },
            "text/plain": [
              "train:   0%|          | 0/160 [00:00<?, ?it/s]"
            ]
          },
          "metadata": {},
          "output_type": "display_data"
        },
        {
          "name": "stdout",
          "output_type": "stream",
          "text": [
            "\n",
            "Confusion matrix (grade):\n",
            "[[46  6  3]\n",
            " [ 9 30 10]\n",
            " [ 7 11 38]]\n"
          ]
        },
        {
          "data": {
            "application/vnd.jupyter.widget-view+json": {
              "model_id": "35f9ff89146e44519327b0d7a7298159",
              "version_major": 2,
              "version_minor": 0
            },
            "text/plain": [
              "valid:   0%|          | 0/40 [00:00<?, ?it/s]"
            ]
          },
          "metadata": {},
          "output_type": "display_data"
        },
        {
          "name": "stdout",
          "output_type": "stream",
          "text": [
            "\n",
            "Confusion matrix (grade):\n",
            "[[ 0  4  3]\n",
            " [ 3  8  5]\n",
            " [ 0  3 14]]\n",
            "Epoch 7: train_loss=2.3236, val_loss=3.5774, val_meanF1=0.4218, val_meanAcc=0.5563, LR=3.000000e-04\n",
            "Train F1: {'grade': '0.7072', 'IDH1': '0.7420', '1p/19q': '0.8142', 'MGMT': '0.8288'}\n",
            "Val   F1: {'grade': '0.4114', 'IDH1': '0.5423', '1p/19q': '0.3333', 'MGMT': '0.4000'}\n",
            "\n",
            "--- Fold 2 | Epoch 8/30 ---\n"
          ]
        },
        {
          "data": {
            "application/vnd.jupyter.widget-view+json": {
              "model_id": "852e1242b9a7467e9756cfff130465e8",
              "version_major": 2,
              "version_minor": 0
            },
            "text/plain": [
              "train:   0%|          | 0/160 [00:00<?, ?it/s]"
            ]
          },
          "metadata": {},
          "output_type": "display_data"
        },
        {
          "name": "stdout",
          "output_type": "stream",
          "text": [
            "\n",
            "Confusion matrix (grade):\n",
            "[[47  6  0]\n",
            " [ 2 46 10]\n",
            " [ 2 12 35]]\n"
          ]
        },
        {
          "data": {
            "application/vnd.jupyter.widget-view+json": {
              "model_id": "9db400c66d2e46f9b3551d5a2a6f2234",
              "version_major": 2,
              "version_minor": 0
            },
            "text/plain": [
              "valid:   0%|          | 0/40 [00:00<?, ?it/s]"
            ]
          },
          "metadata": {},
          "output_type": "display_data"
        },
        {
          "name": "stdout",
          "output_type": "stream",
          "text": [
            "\n",
            "Confusion matrix (grade):\n",
            "[[ 4  2  1]\n",
            " [ 7  9  0]\n",
            " [ 3 10  4]]\n",
            "Epoch 8: train_loss=1.9145, val_loss=3.9594, val_meanF1=0.4529, val_meanAcc=0.5437, LR=3.000000e-04\n",
            "Train F1: {'grade': '0.8009', 'IDH1': '0.8249', '1p/19q': '0.8901', 'MGMT': '0.8906'}\n",
            "Val   F1: {'grade': '0.4104', 'IDH1': '0.6465', '1p/19q': '0.3548', 'MGMT': '0.4000'}\n",
            "\n",
            "--- Fold 2 | Epoch 9/30 ---\n"
          ]
        },
        {
          "data": {
            "application/vnd.jupyter.widget-view+json": {
              "model_id": "17b71f46860a45bdaefa749d73616ca6",
              "version_major": 2,
              "version_minor": 0
            },
            "text/plain": [
              "train:   0%|          | 0/160 [00:00<?, ?it/s]"
            ]
          },
          "metadata": {},
          "output_type": "display_data"
        },
        {
          "name": "stdout",
          "output_type": "stream",
          "text": [
            "\n",
            "Confusion matrix (grade):\n",
            "[[55  0  1]\n",
            " [13 32  4]\n",
            " [ 9 17 29]]\n"
          ]
        },
        {
          "data": {
            "application/vnd.jupyter.widget-view+json": {
              "model_id": "9c5aa0771bc946cb9dcf2ef2f8f324bd",
              "version_major": 2,
              "version_minor": 0
            },
            "text/plain": [
              "valid:   0%|          | 0/40 [00:00<?, ?it/s]"
            ]
          },
          "metadata": {},
          "output_type": "display_data"
        },
        {
          "name": "stdout",
          "output_type": "stream",
          "text": [
            "\n",
            "Confusion matrix (grade):\n",
            "[[ 0  2  5]\n",
            " [ 0 12  4]\n",
            " [ 0  3 14]]\n",
            "Epoch 9: train_loss=1.8757, val_loss=4.1910, val_meanF1=0.4505, val_meanAcc=0.5750, LR=1.500000e-04\n",
            "Train F1: {'grade': '0.7106', 'IDH1': '0.8664', '1p/19q': '0.8968', 'MGMT': '0.8747'}\n",
            "Val   F1: {'grade': '0.4758', 'IDH1': '0.5238', '1p/19q': '0.3891', 'MGMT': '0.4133'}\n",
            "\n",
            "--- Fold 2 | Epoch 10/30 ---\n"
          ]
        },
        {
          "data": {
            "application/vnd.jupyter.widget-view+json": {
              "model_id": "683c3f5903494cc2ba73aa8416971b5d",
              "version_major": 2,
              "version_minor": 0
            },
            "text/plain": [
              "train:   0%|          | 0/160 [00:00<?, ?it/s]"
            ]
          },
          "metadata": {},
          "output_type": "display_data"
        },
        {
          "name": "stdout",
          "output_type": "stream",
          "text": [
            "\n",
            "Confusion matrix (grade):\n",
            "[[44  2  5]\n",
            " [ 1 46 10]\n",
            " [ 3  6 43]]\n"
          ]
        },
        {
          "data": {
            "application/vnd.jupyter.widget-view+json": {
              "model_id": "5798ddcde9f84e1d95e187ec3b518ff2",
              "version_major": 2,
              "version_minor": 0
            },
            "text/plain": [
              "valid:   0%|          | 0/40 [00:00<?, ?it/s]"
            ]
          },
          "metadata": {},
          "output_type": "display_data"
        },
        {
          "name": "stdout",
          "output_type": "stream",
          "text": [
            "\n",
            "Confusion matrix (grade):\n",
            "[[ 1  4  2]\n",
            " [ 2 10  4]\n",
            " [ 0  5 12]]\n",
            "Epoch 10: train_loss=1.8663, val_loss=4.4630, val_meanF1=0.5177, val_meanAcc=0.5625, LR=1.500000e-04\n",
            "Train F1: {'grade': '0.8332', 'IDH1': '0.8558', '1p/19q': '0.9147', 'MGMT': '0.8366'}\n",
            "Val   F1: {'grade': '0.4857', 'IDH1': '0.6647', '1p/19q': '0.3012', 'MGMT': '0.6190'}\n",
            "Validation metric improved (0.4746 → 0.5177). Saving model…\n",
            "\n",
            "--- Fold 2 | Epoch 11/30 ---\n"
          ]
        },
        {
          "data": {
            "application/vnd.jupyter.widget-view+json": {
              "model_id": "a126263046574f8282fc56fda8ef9a32",
              "version_major": 2,
              "version_minor": 0
            },
            "text/plain": [
              "train:   0%|          | 0/160 [00:00<?, ?it/s]"
            ]
          },
          "metadata": {},
          "output_type": "display_data"
        },
        {
          "name": "stdout",
          "output_type": "stream",
          "text": [
            "\n",
            "Confusion matrix (grade):\n",
            "[[52  0  0]\n",
            " [ 4 34  4]\n",
            " [ 9 15 42]]\n"
          ]
        },
        {
          "data": {
            "application/vnd.jupyter.widget-view+json": {
              "model_id": "5110deafa4e74746b29d6d08fc5eb2e1",
              "version_major": 2,
              "version_minor": 0
            },
            "text/plain": [
              "valid:   0%|          | 0/40 [00:00<?, ?it/s]"
            ]
          },
          "metadata": {},
          "output_type": "display_data"
        },
        {
          "name": "stdout",
          "output_type": "stream",
          "text": [
            "\n",
            "Confusion matrix (grade):\n",
            "[[ 1  3  3]\n",
            " [ 0 10  6]\n",
            " [ 0  2 15]]\n",
            "Epoch 11: train_loss=1.7566, val_loss=4.1658, val_meanF1=0.5412, val_meanAcc=0.6188, LR=1.500000e-04\n",
            "Train F1: {'grade': '0.7954', 'IDH1': '0.8750', '1p/19q': '0.9289', 'MGMT': '0.8796'}\n",
            "Val   F1: {'grade': '0.5423', 'IDH1': '0.7679', '1p/19q': '0.3103', 'MGMT': '0.5442'}\n",
            "Validation metric improved (0.5177 → 0.5412). Saving model…\n",
            "\n",
            "--- Fold 2 | Epoch 12/30 ---\n"
          ]
        },
        {
          "data": {
            "application/vnd.jupyter.widget-view+json": {
              "model_id": "6c57c1fb3e2345d5b2ca78e5b6e84305",
              "version_major": 2,
              "version_minor": 0
            },
            "text/plain": [
              "train:   0%|          | 0/160 [00:00<?, ?it/s]"
            ]
          },
          "metadata": {},
          "output_type": "display_data"
        },
        {
          "name": "stdout",
          "output_type": "stream",
          "text": [
            "\n",
            "Confusion matrix (grade):\n",
            "[[53  1  0]\n",
            " [ 1 39  4]\n",
            " [ 2  3 57]]\n"
          ]
        },
        {
          "data": {
            "application/vnd.jupyter.widget-view+json": {
              "model_id": "58ffeb1139ae47d4a94e8db7eb43046b",
              "version_major": 2,
              "version_minor": 0
            },
            "text/plain": [
              "valid:   0%|          | 0/40 [00:00<?, ?it/s]"
            ]
          },
          "metadata": {},
          "output_type": "display_data"
        },
        {
          "name": "stdout",
          "output_type": "stream",
          "text": [
            "\n",
            "Confusion matrix (grade):\n",
            "[[ 1  5  1]\n",
            " [ 7  6  3]\n",
            " [ 2  1 14]]\n",
            "Epoch 12: train_loss=1.5512, val_loss=4.4573, val_meanF1=0.4504, val_meanAcc=0.5188, LR=1.500000e-04\n",
            "Train F1: {'grade': '0.9290', 'IDH1': '0.8687', '1p/19q': '0.9535', 'MGMT': '0.8910'}\n",
            "Val   F1: {'grade': '0.4487', 'IDH1': '0.6875', '1p/19q': '0.3212', 'MGMT': '0.3443'}\n",
            "\n",
            "--- Fold 2 | Epoch 13/30 ---\n"
          ]
        },
        {
          "data": {
            "application/vnd.jupyter.widget-view+json": {
              "model_id": "f056d5b524274f85a1bae22f48e14a1f",
              "version_major": 2,
              "version_minor": 0
            },
            "text/plain": [
              "train:   0%|          | 0/160 [00:00<?, ?it/s]"
            ]
          },
          "metadata": {},
          "output_type": "display_data"
        },
        {
          "name": "stdout",
          "output_type": "stream",
          "text": [
            "\n",
            "Confusion matrix (grade):\n",
            "[[44  0  0]\n",
            " [ 2 47  4]\n",
            " [ 4  7 52]]\n"
          ]
        },
        {
          "data": {
            "application/vnd.jupyter.widget-view+json": {
              "model_id": "aed5c2986b7f42b7ab71dfa3666119d9",
              "version_major": 2,
              "version_minor": 0
            },
            "text/plain": [
              "valid:   0%|          | 0/40 [00:00<?, ?it/s]"
            ]
          },
          "metadata": {},
          "output_type": "display_data"
        },
        {
          "name": "stdout",
          "output_type": "stream",
          "text": [
            "\n",
            "Confusion matrix (grade):\n",
            "[[ 2  5  0]\n",
            " [ 5  8  3]\n",
            " [ 1  4 12]]\n",
            "Epoch 13: train_loss=1.5445, val_loss=4.1339, val_meanF1=0.4667, val_meanAcc=0.5938, LR=1.500000e-04\n",
            "Train F1: {'grade': '0.8962', 'IDH1': '0.8934', '1p/19q': '0.9555', 'MGMT': '0.9056'}\n",
            "Val   F1: {'grade': '0.5005', 'IDH1': '0.6267', '1p/19q': '0.3846', 'MGMT': '0.3548'}\n",
            "\n",
            "--- Fold 2 | Epoch 14/30 ---\n"
          ]
        },
        {
          "data": {
            "application/vnd.jupyter.widget-view+json": {
              "model_id": "142725313a9e4d32b6cd06d188937921",
              "version_major": 2,
              "version_minor": 0
            },
            "text/plain": [
              "train:   0%|          | 0/160 [00:00<?, ?it/s]"
            ]
          },
          "metadata": {},
          "output_type": "display_data"
        },
        {
          "name": "stdout",
          "output_type": "stream",
          "text": [
            "\n",
            "Confusion matrix (grade):\n",
            "[[50  0  1]\n",
            " [ 1 49  1]\n",
            " [ 4  2 52]]\n"
          ]
        },
        {
          "data": {
            "application/vnd.jupyter.widget-view+json": {
              "model_id": "914e97dfca0d4ecc94ad919ad0e3f8b5",
              "version_major": 2,
              "version_minor": 0
            },
            "text/plain": [
              "valid:   0%|          | 0/40 [00:00<?, ?it/s]"
            ]
          },
          "metadata": {},
          "output_type": "display_data"
        },
        {
          "name": "stdout",
          "output_type": "stream",
          "text": [
            "\n",
            "Confusion matrix (grade):\n",
            "[[ 1  5  1]\n",
            " [ 3  8  5]\n",
            " [ 0  5 12]]\n",
            "Epoch 14: train_loss=1.3040, val_loss=4.7541, val_meanF1=0.4637, val_meanAcc=0.5188, LR=1.500000e-04\n",
            "Train F1: {'grade': '0.9443', 'IDH1': '0.9312', '1p/19q': '0.9742', 'MGMT': '0.9434'}\n",
            "Val   F1: {'grade': '0.4460', 'IDH1': '0.6748', '1p/19q': '0.2698', 'MGMT': '0.4643'}\n",
            "\n",
            "--- Fold 2 | Epoch 15/30 ---\n"
          ]
        },
        {
          "data": {
            "application/vnd.jupyter.widget-view+json": {
              "model_id": "8ac941ff2de94be38d6d51c8d5cc53a2",
              "version_major": 2,
              "version_minor": 0
            },
            "text/plain": [
              "train:   0%|          | 0/160 [00:00<?, ?it/s]"
            ]
          },
          "metadata": {},
          "output_type": "display_data"
        },
        {
          "name": "stdout",
          "output_type": "stream",
          "text": [
            "\n",
            "Confusion matrix (grade):\n",
            "[[53  1  0]\n",
            " [ 1 50  4]\n",
            " [ 0  5 46]]\n"
          ]
        },
        {
          "data": {
            "application/vnd.jupyter.widget-view+json": {
              "model_id": "c2f8fc15b8c64b4d9697264204608e3e",
              "version_major": 2,
              "version_minor": 0
            },
            "text/plain": [
              "valid:   0%|          | 0/40 [00:00<?, ?it/s]"
            ]
          },
          "metadata": {},
          "output_type": "display_data"
        },
        {
          "name": "stdout",
          "output_type": "stream",
          "text": [
            "\n",
            "Confusion matrix (grade):\n",
            "[[ 3  3  1]\n",
            " [ 4  4  8]\n",
            " [ 3  3 11]]\n",
            "Epoch 15: train_loss=1.2154, val_loss=4.6599, val_meanF1=0.4941, val_meanAcc=0.5687, LR=7.500000e-05\n",
            "Train F1: {'grade': '0.9311', 'IDH1': '0.9873', '1p/19q': '0.9812', 'MGMT': '0.9373'}\n",
            "Val   F1: {'grade': '0.4184', 'IDH1': '0.6218', '1p/19q': '0.4203', 'MGMT': '0.5157'}\n",
            "\n",
            "--- Fold 2 | Epoch 16/30 ---\n"
          ]
        },
        {
          "data": {
            "application/vnd.jupyter.widget-view+json": {
              "model_id": "3e2eebcadea64a8084e95f6ff175d042",
              "version_major": 2,
              "version_minor": 0
            },
            "text/plain": [
              "train:   0%|          | 0/160 [00:00<?, ?it/s]"
            ]
          },
          "metadata": {},
          "output_type": "display_data"
        },
        {
          "name": "stdout",
          "output_type": "stream",
          "text": [
            "\n",
            "Confusion matrix (grade):\n",
            "[[57  0  0]\n",
            " [ 4 37  0]\n",
            " [ 0  4 58]]\n"
          ]
        },
        {
          "data": {
            "application/vnd.jupyter.widget-view+json": {
              "model_id": "f51ad6b6bce24532a97830ca4be8581d",
              "version_major": 2,
              "version_minor": 0
            },
            "text/plain": [
              "valid:   0%|          | 0/40 [00:00<?, ?it/s]"
            ]
          },
          "metadata": {},
          "output_type": "display_data"
        },
        {
          "name": "stdout",
          "output_type": "stream",
          "text": [
            "\n",
            "Confusion matrix (grade):\n",
            "[[ 3  2  2]\n",
            " [ 7  3  6]\n",
            " [ 1  3 13]]\n",
            "Epoch 16: train_loss=1.2611, val_loss=4.5208, val_meanF1=0.4948, val_meanAcc=0.5875, LR=7.500000e-05\n",
            "Train F1: {'grade': '0.9451', 'IDH1': '0.9312', '1p/19q': '0.9809', 'MGMT': '0.9413'}\n",
            "Val   F1: {'grade': '0.4225', 'IDH1': '0.7566', '1p/19q': '0.3333', 'MGMT': '0.4667'}\n",
            "\n",
            "--- Fold 2 | Epoch 17/30 ---\n"
          ]
        },
        {
          "data": {
            "application/vnd.jupyter.widget-view+json": {
              "model_id": "83d77568fbbe4d97ace459ecd373855e",
              "version_major": 2,
              "version_minor": 0
            },
            "text/plain": [
              "train:   0%|          | 0/160 [00:00<?, ?it/s]"
            ]
          },
          "metadata": {},
          "output_type": "display_data"
        },
        {
          "name": "stdout",
          "output_type": "stream",
          "text": [
            "\n",
            "Confusion matrix (grade):\n",
            "[[58  0  0]\n",
            " [ 3 45  0]\n",
            " [ 1  6 47]]\n"
          ]
        },
        {
          "data": {
            "application/vnd.jupyter.widget-view+json": {
              "model_id": "4fb9a8b3bf5f4b75a3ae4c9ed37b48eb",
              "version_major": 2,
              "version_minor": 0
            },
            "text/plain": [
              "valid:   0%|          | 0/40 [00:00<?, ?it/s]"
            ]
          },
          "metadata": {},
          "output_type": "display_data"
        },
        {
          "name": "stdout",
          "output_type": "stream",
          "text": [
            "\n",
            "Confusion matrix (grade):\n",
            "[[ 0  3  4]\n",
            " [ 1  4 11]\n",
            " [ 0  2 15]]\n",
            "Epoch 17: train_loss=1.2136, val_loss=4.8844, val_meanF1=0.4150, val_meanAcc=0.5125, LR=7.500000e-05\n",
            "Train F1: {'grade': '0.9355', 'IDH1': '0.9625', '1p/19q': '0.9810', 'MGMT': '0.9371'}\n",
            "Val   F1: {'grade': '0.3194', 'IDH1': '0.5833', '1p/19q': '0.3103', 'MGMT': '0.4470'}\n",
            "\n",
            "--- Fold 2 | Epoch 18/30 ---\n"
          ]
        },
        {
          "data": {
            "application/vnd.jupyter.widget-view+json": {
              "model_id": "4be4c355654a4c859d788cbed2782dfa",
              "version_major": 2,
              "version_minor": 0
            },
            "text/plain": [
              "train:   0%|          | 0/160 [00:00<?, ?it/s]"
            ]
          },
          "metadata": {},
          "output_type": "display_data"
        },
        {
          "name": "stdout",
          "output_type": "stream",
          "text": [
            "\n",
            "Confusion matrix (grade):\n",
            "[[50  0  0]\n",
            " [ 1 48  0]\n",
            " [ 1  2 58]]\n"
          ]
        },
        {
          "data": {
            "application/vnd.jupyter.widget-view+json": {
              "model_id": "1df5b4e7098144ed86850edfc9dab648",
              "version_major": 2,
              "version_minor": 0
            },
            "text/plain": [
              "valid:   0%|          | 0/40 [00:00<?, ?it/s]"
            ]
          },
          "metadata": {},
          "output_type": "display_data"
        },
        {
          "name": "stdout",
          "output_type": "stream",
          "text": [
            "\n",
            "Confusion matrix (grade):\n",
            "[[ 2  2  3]\n",
            " [ 2  3 11]\n",
            " [ 1  2 14]]\n",
            "Epoch 18: train_loss=1.1462, val_loss=4.7026, val_meanF1=0.4944, val_meanAcc=0.5688, LR=3.750000e-05\n",
            "Train F1: {'grade': '0.9750', 'IDH1': '0.9625', '1p/19q': '0.9874', 'MGMT': '0.9434'}\n",
            "Val   F1: {'grade': '0.4055', 'IDH1': '0.7253', '1p/19q': '0.3220', 'MGMT': '0.5248'}\n",
            "\n",
            "--- Fold 2 | Epoch 19/30 ---\n"
          ]
        },
        {
          "data": {
            "application/vnd.jupyter.widget-view+json": {
              "model_id": "819114750f734685836c02479bf98654",
              "version_major": 2,
              "version_minor": 0
            },
            "text/plain": [
              "train:   0%|          | 0/160 [00:00<?, ?it/s]"
            ]
          },
          "metadata": {},
          "output_type": "display_data"
        },
        {
          "name": "stdout",
          "output_type": "stream",
          "text": [
            "\n",
            "Confusion matrix (grade):\n",
            "[[57  0  0]\n",
            " [ 0 49  0]\n",
            " [ 0  3 51]]\n"
          ]
        },
        {
          "data": {
            "application/vnd.jupyter.widget-view+json": {
              "model_id": "bbd104012d8440b685bc46270418e8fa",
              "version_major": 2,
              "version_minor": 0
            },
            "text/plain": [
              "valid:   0%|          | 0/40 [00:00<?, ?it/s]"
            ]
          },
          "metadata": {},
          "output_type": "display_data"
        },
        {
          "name": "stdout",
          "output_type": "stream",
          "text": [
            "\n",
            "Confusion matrix (grade):\n",
            "[[ 1  3  3]\n",
            " [ 2  4 10]\n",
            " [ 1  2 14]]\n",
            "Epoch 19: train_loss=1.0685, val_loss=4.7886, val_meanF1=0.4467, val_meanAcc=0.5500, LR=3.750000e-05\n",
            "Train F1: {'grade': '0.9806', 'IDH1': '0.9873', '1p/19q': '0.9937', 'MGMT': '0.9746'}\n",
            "Val   F1: {'grade': '0.3794', 'IDH1': '0.6875', '1p/19q': '0.3333', 'MGMT': '0.3866'}\n",
            "\n",
            "--- Fold 2 | Epoch 20/30 ---\n"
          ]
        },
        {
          "data": {
            "application/vnd.jupyter.widget-view+json": {
              "model_id": "56fb72d399624c5dbc2c2566c98384db",
              "version_major": 2,
              "version_minor": 0
            },
            "text/plain": [
              "train:   0%|          | 0/160 [00:00<?, ?it/s]"
            ]
          },
          "metadata": {},
          "output_type": "display_data"
        },
        {
          "name": "stdout",
          "output_type": "stream",
          "text": [
            "\n",
            "Confusion matrix (grade):\n",
            "[[64  0  0]\n",
            " [ 2 44  1]\n",
            " [ 2  3 44]]\n"
          ]
        },
        {
          "data": {
            "application/vnd.jupyter.widget-view+json": {
              "model_id": "1fa4d6b1625c4678ad0bb0bf26a6627c",
              "version_major": 2,
              "version_minor": 0
            },
            "text/plain": [
              "valid:   0%|          | 0/40 [00:00<?, ?it/s]"
            ]
          },
          "metadata": {},
          "output_type": "display_data"
        },
        {
          "name": "stdout",
          "output_type": "stream",
          "text": [
            "\n",
            "Confusion matrix (grade):\n",
            "[[ 1  4  2]\n",
            " [ 3  4  9]\n",
            " [ 1  2 14]]\n",
            "Epoch 20: train_loss=1.0379, val_loss=4.6640, val_meanF1=0.4274, val_meanAcc=0.5250, LR=3.750000e-05\n",
            "Train F1: {'grade': '0.9473', 'IDH1': '0.9812', '1p/19q': '0.9937', 'MGMT': '0.9750'}\n",
            "Val   F1: {'grade': '0.3803', 'IDH1': '0.6581', '1p/19q': '0.2982', 'MGMT': '0.3730'}\n",
            "\n",
            "--- Fold 2 | Epoch 21/30 ---\n"
          ]
        },
        {
          "data": {
            "application/vnd.jupyter.widget-view+json": {
              "model_id": "07c82e0fc3e1426e97fe5691c67c4992",
              "version_major": 2,
              "version_minor": 0
            },
            "text/plain": [
              "train:   0%|          | 0/160 [00:00<?, ?it/s]"
            ]
          },
          "metadata": {},
          "output_type": "display_data"
        },
        {
          "name": "stdout",
          "output_type": "stream",
          "text": [
            "\n",
            "Confusion matrix (grade):\n",
            "[[51  0  0]\n",
            " [ 1 50  1]\n",
            " [ 2  1 54]]\n"
          ]
        },
        {
          "data": {
            "application/vnd.jupyter.widget-view+json": {
              "model_id": "501e109939df4a668052abd8a5cf7908",
              "version_major": 2,
              "version_minor": 0
            },
            "text/plain": [
              "valid:   0%|          | 0/40 [00:00<?, ?it/s]"
            ]
          },
          "metadata": {},
          "output_type": "display_data"
        },
        {
          "name": "stdout",
          "output_type": "stream",
          "text": [
            "\n",
            "Confusion matrix (grade):\n",
            "[[ 0  3  4]\n",
            " [ 3  3 10]\n",
            " [ 1  1 15]]\n",
            "Epoch 21: train_loss=1.0384, val_loss=4.7891, val_meanF1=0.4415, val_meanAcc=0.5375, LR=1.875000e-05\n",
            "Train F1: {'grade': '0.9689', 'IDH1': '0.9874', '1p/19q': '0.9870', 'MGMT': '0.9686'}\n",
            "Val   F1: {'grade': '0.3043', 'IDH1': '0.6581', '1p/19q': '0.2982', 'MGMT': '0.5055'}\n",
            "\n",
            "--- Fold 2 | Epoch 22/30 ---\n"
          ]
        },
        {
          "data": {
            "application/vnd.jupyter.widget-view+json": {
              "model_id": "de5375a4f8e844afb8928b72573e5b0c",
              "version_major": 2,
              "version_minor": 0
            },
            "text/plain": [
              "train:   0%|          | 0/160 [00:00<?, ?it/s]"
            ]
          },
          "metadata": {},
          "output_type": "display_data"
        },
        {
          "name": "stdout",
          "output_type": "stream",
          "text": [
            "\n",
            "Confusion matrix (grade):\n",
            "[[38  0  0]\n",
            " [ 0 54  0]\n",
            " [ 2  2 64]]\n"
          ]
        },
        {
          "data": {
            "application/vnd.jupyter.widget-view+json": {
              "model_id": "c63d419d9dfd4e5e93d41b60ce3716a2",
              "version_major": 2,
              "version_minor": 0
            },
            "text/plain": [
              "valid:   0%|          | 0/40 [00:00<?, ?it/s]"
            ]
          },
          "metadata": {},
          "output_type": "display_data"
        },
        {
          "name": "stdout",
          "output_type": "stream",
          "text": [
            "\n",
            "Confusion matrix (grade):\n",
            "[[ 1  6  0]\n",
            " [ 2  9  5]\n",
            " [ 0  4 13]]\n",
            "Epoch 22: train_loss=1.1096, val_loss=4.6628, val_meanF1=0.5115, val_meanAcc=0.5625, LR=1.875000e-05\n",
            "Train F1: {'grade': '0.9753', 'IDH1': '0.9375', '1p/19q': '1.0000', 'MGMT': '0.9742'}\n",
            "Val   F1: {'grade': '0.4857', 'IDH1': '0.8240', '1p/19q': '0.2308', 'MGMT': '0.5055'}\n",
            "\n",
            "--- Fold 2 | Epoch 23/30 ---\n"
          ]
        },
        {
          "data": {
            "application/vnd.jupyter.widget-view+json": {
              "model_id": "9eaa801649ae4cce8180a9e0d29ba899",
              "version_major": 2,
              "version_minor": 0
            },
            "text/plain": [
              "train:   0%|          | 0/160 [00:00<?, ?it/s]"
            ]
          },
          "metadata": {},
          "output_type": "display_data"
        },
        {
          "name": "stdout",
          "output_type": "stream",
          "text": [
            "\n",
            "Confusion matrix (grade):\n",
            "[[42  0  0]\n",
            " [ 1 56  0]\n",
            " [ 2  2 57]]\n"
          ]
        },
        {
          "data": {
            "application/vnd.jupyter.widget-view+json": {
              "model_id": "e0d1cf7dd58d42a7b4a3722054801b24",
              "version_major": 2,
              "version_minor": 0
            },
            "text/plain": [
              "valid:   0%|          | 0/40 [00:00<?, ?it/s]"
            ]
          },
          "metadata": {},
          "output_type": "display_data"
        },
        {
          "name": "stdout",
          "output_type": "stream",
          "text": [
            "\n",
            "Confusion matrix (grade):\n",
            "[[ 0  4  3]\n",
            " [ 2  6  8]\n",
            " [ 0  3 14]]\n",
            "Epoch 23: train_loss=1.0728, val_loss=4.6151, val_meanF1=0.4508, val_meanAcc=0.5375, LR=1.875000e-05\n",
            "Train F1: {'grade': '0.9685', 'IDH1': '0.9875', '1p/19q': '0.9810', 'MGMT': '0.9687'}\n",
            "Val   F1: {'grade': '0.3602', 'IDH1': '0.7025', '1p/19q': '0.2593', 'MGMT': '0.4813'}\n",
            "\n",
            "--- Fold 2 | Epoch 24/30 ---\n"
          ]
        },
        {
          "data": {
            "application/vnd.jupyter.widget-view+json": {
              "model_id": "781ddcd2a4174ab181744faccc8fa20c",
              "version_major": 2,
              "version_minor": 0
            },
            "text/plain": [
              "train:   0%|          | 0/160 [00:00<?, ?it/s]"
            ]
          },
          "metadata": {},
          "output_type": "display_data"
        },
        {
          "name": "stdout",
          "output_type": "stream",
          "text": [
            "\n",
            "Confusion matrix (grade):\n",
            "[[53  0  0]\n",
            " [ 0 57  0]\n",
            " [ 1  0 49]]\n"
          ]
        },
        {
          "data": {
            "application/vnd.jupyter.widget-view+json": {
              "model_id": "faa035c2b41341faa44f8c677f145db2",
              "version_major": 2,
              "version_minor": 0
            },
            "text/plain": [
              "valid:   0%|          | 0/40 [00:00<?, ?it/s]"
            ]
          },
          "metadata": {},
          "output_type": "display_data"
        },
        {
          "name": "stdout",
          "output_type": "stream",
          "text": [
            "\n",
            "Confusion matrix (grade):\n",
            "[[ 0  4  3]\n",
            " [ 3  5  8]\n",
            " [ 0  3 14]]\n",
            "Epoch 24: train_loss=0.9492, val_loss=4.6100, val_meanF1=0.4502, val_meanAcc=0.5437, LR=9.375000e-06\n",
            "Train F1: {'grade': '0.9935', 'IDH1': '1.0000', '1p/19q': '0.9868', 'MGMT': '0.9874'}\n",
            "Val   F1: {'grade': '0.3413', 'IDH1': '0.6925', '1p/19q': '0.2857', 'MGMT': '0.4813'}\n",
            "\n",
            "--- Fold 2 | Epoch 25/30 ---\n"
          ]
        },
        {
          "data": {
            "application/vnd.jupyter.widget-view+json": {
              "model_id": "59d7b2d1d7104ec2868cb4820873089c",
              "version_major": 2,
              "version_minor": 0
            },
            "text/plain": [
              "train:   0%|          | 0/160 [00:00<?, ?it/s]"
            ]
          },
          "metadata": {},
          "output_type": "display_data"
        },
        {
          "name": "stdout",
          "output_type": "stream",
          "text": [
            "\n",
            "Confusion matrix (grade):\n",
            "[[50  0  0]\n",
            " [ 0 49  1]\n",
            " [ 1  3 56]]\n"
          ]
        },
        {
          "data": {
            "application/vnd.jupyter.widget-view+json": {
              "model_id": "11a3faee60104ba985ef33716a55bc77",
              "version_major": 2,
              "version_minor": 0
            },
            "text/plain": [
              "valid:   0%|          | 0/40 [00:00<?, ?it/s]"
            ]
          },
          "metadata": {},
          "output_type": "display_data"
        },
        {
          "name": "stdout",
          "output_type": "stream",
          "text": [
            "\n",
            "Confusion matrix (grade):\n",
            "[[ 0  3  4]\n",
            " [ 2  4 10]\n",
            " [ 1  2 14]]\n",
            "Epoch 25: train_loss=0.9911, val_loss=4.5817, val_meanF1=0.4273, val_meanAcc=0.5437, LR=9.375000e-06\n",
            "Train F1: {'grade': '0.9694', 'IDH1': '0.9936', '1p/19q': '1.0000', 'MGMT': '0.9875'}\n",
            "Val   F1: {'grade': '0.3141', 'IDH1': '0.6218', '1p/19q': '0.3220', 'MGMT': '0.4512'}\n",
            "\n",
            "--- Fold 2 | Epoch 26/30 ---\n"
          ]
        },
        {
          "data": {
            "application/vnd.jupyter.widget-view+json": {
              "model_id": "87a00545b095489286e0e25c3d1922c0",
              "version_major": 2,
              "version_minor": 0
            },
            "text/plain": [
              "train:   0%|          | 0/160 [00:00<?, ?it/s]"
            ]
          },
          "metadata": {},
          "output_type": "display_data"
        },
        {
          "name": "stdout",
          "output_type": "stream",
          "text": [
            "\n",
            "Confusion matrix (grade):\n",
            "[[52  0  0]\n",
            " [ 0 40  2]\n",
            " [ 3  5 58]]\n"
          ]
        },
        {
          "data": {
            "application/vnd.jupyter.widget-view+json": {
              "model_id": "99ec3508848e40979a7520b4ae221b12",
              "version_major": 2,
              "version_minor": 0
            },
            "text/plain": [
              "valid:   0%|          | 0/40 [00:00<?, ?it/s]"
            ]
          },
          "metadata": {},
          "output_type": "display_data"
        },
        {
          "name": "stdout",
          "output_type": "stream",
          "text": [
            "\n",
            "Confusion matrix (grade):\n",
            "[[ 1  5  1]\n",
            " [ 2  8  6]\n",
            " [ 0  4 13]]\n",
            "Epoch 26: train_loss=1.0402, val_loss=4.5020, val_meanF1=0.5302, val_meanAcc=0.6125, LR=9.375000e-06\n",
            "Train F1: {'grade': '0.9374', 'IDH1': '0.9812', '1p/19q': '1.0000', 'MGMT': '1.0000'}\n",
            "Val   F1: {'grade': '0.4625', 'IDH1': '0.7333', '1p/19q': '0.3443', 'MGMT': '0.5807'}\n",
            "\n",
            "--- Fold 2 | Epoch 27/30 ---\n"
          ]
        },
        {
          "data": {
            "application/vnd.jupyter.widget-view+json": {
              "model_id": "fa3a9d9a62e248c680872d0cb63602dd",
              "version_major": 2,
              "version_minor": 0
            },
            "text/plain": [
              "train:   0%|          | 0/160 [00:00<?, ?it/s]"
            ]
          },
          "metadata": {},
          "output_type": "display_data"
        },
        {
          "name": "stdout",
          "output_type": "stream",
          "text": [
            "\n",
            "Confusion matrix (grade):\n",
            "[[42  0  0]\n",
            " [ 0 47  1]\n",
            " [ 1  2 67]]\n"
          ]
        },
        {
          "data": {
            "application/vnd.jupyter.widget-view+json": {
              "model_id": "042758caeca8488cbd50ce7a591fbd6b",
              "version_major": 2,
              "version_minor": 0
            },
            "text/plain": [
              "valid:   0%|          | 0/40 [00:00<?, ?it/s]"
            ]
          },
          "metadata": {},
          "output_type": "display_data"
        },
        {
          "name": "stdout",
          "output_type": "stream",
          "text": [
            "\n",
            "Confusion matrix (grade):\n",
            "[[ 1  5  1]\n",
            " [ 3  7  6]\n",
            " [ 1  3 13]]\n",
            "Epoch 27: train_loss=1.0500, val_loss=4.5074, val_meanF1=0.5111, val_meanAcc=0.5875, LR=4.687500e-06\n",
            "Train F1: {'grade': '0.9761', 'IDH1': '0.9750', '1p/19q': '1.0000', 'MGMT': '0.9937'}\n",
            "Val   F1: {'grade': '0.4403', 'IDH1': '0.7103', '1p/19q': '0.3333', 'MGMT': '0.5604'}\n",
            "\n",
            "--- Fold 2 | Epoch 28/30 ---\n"
          ]
        },
        {
          "data": {
            "application/vnd.jupyter.widget-view+json": {
              "model_id": "f3a886c7f5f1486daf254ca6ee129f6b",
              "version_major": 2,
              "version_minor": 0
            },
            "text/plain": [
              "train:   0%|          | 0/160 [00:00<?, ?it/s]"
            ]
          },
          "metadata": {},
          "output_type": "display_data"
        },
        {
          "name": "stdout",
          "output_type": "stream",
          "text": [
            "\n",
            "Confusion matrix (grade):\n",
            "[[51  0  0]\n",
            " [ 1 51  0]\n",
            " [ 1  2 54]]\n"
          ]
        },
        {
          "data": {
            "application/vnd.jupyter.widget-view+json": {
              "model_id": "dd4e5335d72e426eb0f8ffc6ccfd4cce",
              "version_major": 2,
              "version_minor": 0
            },
            "text/plain": [
              "valid:   0%|          | 0/40 [00:00<?, ?it/s]"
            ]
          },
          "metadata": {},
          "output_type": "display_data"
        },
        {
          "name": "stdout",
          "output_type": "stream",
          "text": [
            "\n",
            "Confusion matrix (grade):\n",
            "[[ 1  5  1]\n",
            " [ 2  6  8]\n",
            " [ 1  3 13]]\n",
            "Epoch 28: train_loss=0.9582, val_loss=4.5097, val_meanF1=0.4400, val_meanAcc=0.5500, LR=4.687500e-06\n",
            "Train F1: {'grade': '0.9751', 'IDH1': '0.9875', '1p/19q': '1.0000', 'MGMT': '0.9937'}\n",
            "Val   F1: {'grade': '0.4162', 'IDH1': '0.6218', '1p/19q': '0.3220', 'MGMT': '0.4000'}\n",
            "\n",
            "--- Fold 2 | Epoch 29/30 ---\n"
          ]
        },
        {
          "data": {
            "application/vnd.jupyter.widget-view+json": {
              "model_id": "8741b05ba90a443f9fa4b1b958c3664a",
              "version_major": 2,
              "version_minor": 0
            },
            "text/plain": [
              "train:   0%|          | 0/160 [00:00<?, ?it/s]"
            ]
          },
          "metadata": {},
          "output_type": "display_data"
        },
        {
          "name": "stdout",
          "output_type": "stream",
          "text": [
            "\n",
            "Confusion matrix (grade):\n",
            "[[52  0  0]\n",
            " [ 0 44  0]\n",
            " [ 1  2 61]]\n"
          ]
        },
        {
          "data": {
            "application/vnd.jupyter.widget-view+json": {
              "model_id": "3e42c2535f354cb497afa19f613eb6ab",
              "version_major": 2,
              "version_minor": 0
            },
            "text/plain": [
              "valid:   0%|          | 0/40 [00:00<?, ?it/s]"
            ]
          },
          "metadata": {},
          "output_type": "display_data"
        },
        {
          "name": "stdout",
          "output_type": "stream",
          "text": [
            "\n",
            "Confusion matrix (grade):\n",
            "[[ 1  4  2]\n",
            " [ 2 10  4]\n",
            " [ 1  2 14]]\n",
            "Epoch 29: train_loss=0.9877, val_loss=4.4742, val_meanF1=0.5019, val_meanAcc=0.5875, LR=4.687500e-06\n",
            "Train F1: {'grade': '0.9814', 'IDH1': '0.9937', '1p/19q': '1.0000', 'MGMT': '0.9812'}\n",
            "Val   F1: {'grade': '0.5212', 'IDH1': '0.7679', '1p/19q': '0.2982', 'MGMT': '0.4203'}\n",
            "\n",
            "--- Fold 2 | Epoch 30/30 ---\n"
          ]
        },
        {
          "data": {
            "application/vnd.jupyter.widget-view+json": {
              "model_id": "d47b87b9c1de4d20973b8d10e117208e",
              "version_major": 2,
              "version_minor": 0
            },
            "text/plain": [
              "train:   0%|          | 0/160 [00:00<?, ?it/s]"
            ]
          },
          "metadata": {},
          "output_type": "display_data"
        },
        {
          "name": "stdout",
          "output_type": "stream",
          "text": [
            "\n",
            "Confusion matrix (grade):\n",
            "[[50  0  0]\n",
            " [ 0 50  0]\n",
            " [ 2  0 58]]\n"
          ]
        },
        {
          "data": {
            "application/vnd.jupyter.widget-view+json": {
              "model_id": "13a389b866af4e0b932879dc9e164913",
              "version_major": 2,
              "version_minor": 0
            },
            "text/plain": [
              "valid:   0%|          | 0/40 [00:00<?, ?it/s]"
            ]
          },
          "metadata": {},
          "output_type": "display_data"
        },
        {
          "name": "stdout",
          "output_type": "stream",
          "text": [
            "\n",
            "Confusion matrix (grade):\n",
            "[[ 1  4  2]\n",
            " [ 2  6  8]\n",
            " [ 0  2 15]]\n",
            "Epoch 30: train_loss=0.9818, val_loss=4.5235, val_meanF1=0.5295, val_meanAcc=0.6000, LR=2.343750e-06\n",
            "Train F1: {'grade': '0.9878', 'IDH1': '0.9747', '1p/19q': '1.0000', 'MGMT': '0.9937'}\n",
            "Val   F1: {'grade': '0.4476', 'IDH1': '0.7333', '1p/19q': '0.3103', 'MGMT': '0.6267'}\n",
            "\n",
            "=== Fold 2 finished. Loading best weights and re-evaluating... ===\n"
          ]
        },
        {
          "data": {
            "application/vnd.jupyter.widget-view+json": {
              "model_id": "0feb9ea99d914dd8a9a06f8742066c06",
              "version_major": 2,
              "version_minor": 0
            },
            "text/plain": [
              "valid:   0%|          | 0/40 [00:00<?, ?it/s]"
            ]
          },
          "metadata": {},
          "output_type": "display_data"
        },
        {
          "name": "stdout",
          "output_type": "stream",
          "text": [
            "\n",
            "Confusion matrix (grade):\n",
            "[[ 1  3  3]\n",
            " [ 0 10  6]\n",
            " [ 0  2 15]]\n",
            "\n",
            "========== FOLD 3/3 (80 train / 40 val) ==========\n",
            "Normalization stats for t1_fl2d_cor: mean=339.0771, std=396.8933\n",
            "Normalization stats for t2_tirm_cor_dark-fluid_3mm: mean=116.7960, std=159.9296\n",
            "Normalization stats externally set for t1_fl2d_cor: mean=339.0771, std=396.8933\n",
            "Normalization stats externally set for t2_tirm_cor_dark-fluid_3mm: mean=116.7960, std=159.9296\n",
            "Warmup: 3 epochs, 15 steps, LR start factor: 0.01\n",
            "\n",
            "--- Fold 3 | Epoch 1/30 ---\n"
          ]
        },
        {
          "name": "stderr",
          "output_type": "stream",
          "text": [
            "/usr/local/lib/python3.11/dist-packages/torch/nn/modules/transformer.py:382: UserWarning: enable_nested_tensor is True, but self.use_nested_tensor is False because encoder_layer.norm_first was True\n",
            "  warnings.warn(\n"
          ]
        },
        {
          "data": {
            "application/vnd.jupyter.widget-view+json": {
              "model_id": "6dbdcff146804cc6805dc44042657f64",
              "version_major": 2,
              "version_minor": 0
            },
            "text/plain": [
              "train:   0%|          | 0/160 [00:00<?, ?it/s]"
            ]
          },
          "metadata": {},
          "output_type": "display_data"
        },
        {
          "name": "stdout",
          "output_type": "stream",
          "text": [
            "\n",
            "Confusion matrix (grade):\n",
            "[[15 21 14]\n",
            " [15 28 15]\n",
            " [14 25 13]]\n"
          ]
        },
        {
          "data": {
            "application/vnd.jupyter.widget-view+json": {
              "model_id": "a61ef7f1a88c4a1cb1007b3fb733a531",
              "version_major": 2,
              "version_minor": 0
            },
            "text/plain": [
              "valid:   0%|          | 0/40 [00:00<?, ?it/s]"
            ]
          },
          "metadata": {},
          "output_type": "display_data"
        },
        {
          "name": "stdout",
          "output_type": "stream",
          "text": [
            "\n",
            "Confusion matrix (grade):\n",
            "[[ 2  0  3]\n",
            " [ 5  2  1]\n",
            " [14  5  8]]\n",
            "Epoch 1: train_loss=3.4393, val_loss=3.2872, val_meanF1=0.3593, val_meanAcc=0.5437, LR=1.020000e-04\n",
            "Train F1: {'grade': '0.3400', 'IDH1': '0.4596', '1p/19q': '0.5807', 'MGMT': '0.4963'}\n",
            "Val   F1: {'grade': '0.2769', 'IDH1': '0.3162', '1p/19q': '0.4595', 'MGMT': '0.3846'}\n",
            "Warm-up phase (1/3). LR контролируется вручную.\n",
            "Validation metric improved (-inf → 0.3593). Saving model…\n",
            "\n",
            "--- Fold 3 | Epoch 2/30 ---\n"
          ]
        },
        {
          "data": {
            "application/vnd.jupyter.widget-view+json": {
              "model_id": "d4c3c8e4d08d4bc98ef7b89a332ca25c",
              "version_major": 2,
              "version_minor": 0
            },
            "text/plain": [
              "train:   0%|          | 0/160 [00:00<?, ?it/s]"
            ]
          },
          "metadata": {},
          "output_type": "display_data"
        },
        {
          "name": "stdout",
          "output_type": "stream",
          "text": [
            "\n",
            "Confusion matrix (grade):\n",
            "[[21 15 17]\n",
            " [22 30 11]\n",
            " [19 13 12]]\n"
          ]
        },
        {
          "data": {
            "application/vnd.jupyter.widget-view+json": {
              "model_id": "4a128f2fa8c64b399310f61b698a8b17",
              "version_major": 2,
              "version_minor": 0
            },
            "text/plain": [
              "valid:   0%|          | 0/40 [00:00<?, ?it/s]"
            ]
          },
          "metadata": {},
          "output_type": "display_data"
        },
        {
          "name": "stdout",
          "output_type": "stream",
          "text": [
            "\n",
            "Confusion matrix (grade):\n",
            "[[ 4  1  0]\n",
            " [ 5  3  0]\n",
            " [13 14  0]]\n",
            "Epoch 2: train_loss=3.1267, val_loss=3.7799, val_meanF1=0.4085, val_meanAcc=0.5063, LR=2.010000e-04\n",
            "Train F1: {'grade': '0.3823', 'IDH1': '0.4199', '1p/19q': '0.5254', 'MGMT': '0.4713'}\n",
            "Val   F1: {'grade': '0.1757', 'IDH1': '0.4133', '1p/19q': '0.4948', 'MGMT': '0.5500'}\n",
            "Warm-up phase (2/3). LR контролируется вручную.\n",
            "Validation metric improved (0.3593 → 0.4085). Saving model…\n",
            "\n",
            "--- Fold 3 | Epoch 3/30 ---\n"
          ]
        },
        {
          "data": {
            "application/vnd.jupyter.widget-view+json": {
              "model_id": "7244ae0f5dbf42358f4faeb42d9efe89",
              "version_major": 2,
              "version_minor": 0
            },
            "text/plain": [
              "train:   0%|          | 0/160 [00:00<?, ?it/s]"
            ]
          },
          "metadata": {},
          "output_type": "display_data"
        },
        {
          "name": "stdout",
          "output_type": "stream",
          "text": [
            "\n",
            "Confusion matrix (grade):\n",
            "[[34 18  2]\n",
            " [23 37  5]\n",
            " [12 23  6]]\n"
          ]
        },
        {
          "data": {
            "application/vnd.jupyter.widget-view+json": {
              "model_id": "22300f0496574951938e244c9f3ca086",
              "version_major": 2,
              "version_minor": 0
            },
            "text/plain": [
              "valid:   0%|          | 0/40 [00:00<?, ?it/s]"
            ]
          },
          "metadata": {},
          "output_type": "display_data"
        },
        {
          "name": "stdout",
          "output_type": "stream",
          "text": [
            "\n",
            "Confusion matrix (grade):\n",
            "[[ 4  1  0]\n",
            " [ 4  4  0]\n",
            " [17  8  2]]\n",
            "Epoch 3: train_loss=3.1367, val_loss=3.4816, val_meanF1=0.3707, val_meanAcc=0.5563, LR=3.000000e-04\n",
            "Train F1: {'grade': '0.4309', 'IDH1': '0.5009', '1p/19q': '0.5330', 'MGMT': '0.5409'}\n",
            "Val   F1: {'grade': '0.2619', 'IDH1': '0.3866', '1p/19q': '0.4595', 'MGMT': '0.3750'}\n",
            "Warm-up phase (3/3). LR контролируется вручную.\n",
            "\n",
            "--- Fold 3 | Epoch 4/30 ---\n"
          ]
        },
        {
          "data": {
            "application/vnd.jupyter.widget-view+json": {
              "model_id": "810345687af042898cdd2b7e63049f2a",
              "version_major": 2,
              "version_minor": 0
            },
            "text/plain": [
              "train:   0%|          | 0/160 [00:00<?, ?it/s]"
            ]
          },
          "metadata": {},
          "output_type": "display_data"
        },
        {
          "name": "stdout",
          "output_type": "stream",
          "text": [
            "\n",
            "Confusion matrix (grade):\n",
            "[[24 13 10]\n",
            " [21 19 20]\n",
            " [16 15 22]]\n"
          ]
        },
        {
          "data": {
            "application/vnd.jupyter.widget-view+json": {
              "model_id": "65a1c9f90eb447e8806c6250f849b6ea",
              "version_major": 2,
              "version_minor": 0
            },
            "text/plain": [
              "valid:   0%|          | 0/40 [00:00<?, ?it/s]"
            ]
          },
          "metadata": {},
          "output_type": "display_data"
        },
        {
          "name": "stdout",
          "output_type": "stream",
          "text": [
            "\n",
            "Confusion matrix (grade):\n",
            "[[ 3  2  0]\n",
            " [ 5  3  0]\n",
            " [12  3 12]]\n",
            "Epoch 4: train_loss=3.1826, val_loss=3.1539, val_meanF1=0.4179, val_meanAcc=0.6250, LR=3.000000e-04\n",
            "Train F1: {'grade': '0.4062', 'IDH1': '0.5437', '1p/19q': '0.5161', 'MGMT': '0.4515'}\n",
            "Val   F1: {'grade': '0.4101', 'IDH1': '0.3548', '1p/19q': '0.4667', 'MGMT': '0.4398'}\n",
            "Validation metric improved (0.4085 → 0.4179). Saving model…\n",
            "\n",
            "--- Fold 3 | Epoch 5/30 ---\n"
          ]
        },
        {
          "data": {
            "application/vnd.jupyter.widget-view+json": {
              "model_id": "b2bcb9a11995482f963a8d8629706584",
              "version_major": 2,
              "version_minor": 0
            },
            "text/plain": [
              "train:   0%|          | 0/160 [00:00<?, ?it/s]"
            ]
          },
          "metadata": {},
          "output_type": "display_data"
        },
        {
          "name": "stdout",
          "output_type": "stream",
          "text": [
            "\n",
            "Confusion matrix (grade):\n",
            "[[31 14  5]\n",
            " [24 30 10]\n",
            " [19 14 13]]\n"
          ]
        },
        {
          "data": {
            "application/vnd.jupyter.widget-view+json": {
              "model_id": "ceec25deb83347e0aae849462e071464",
              "version_major": 2,
              "version_minor": 0
            },
            "text/plain": [
              "valid:   0%|          | 0/40 [00:00<?, ?it/s]"
            ]
          },
          "metadata": {},
          "output_type": "display_data"
        },
        {
          "name": "stdout",
          "output_type": "stream",
          "text": [
            "\n",
            "Confusion matrix (grade):\n",
            "[[ 0  5  0]\n",
            " [ 1  7  0]\n",
            " [ 2 25  0]]\n",
            "Epoch 5: train_loss=3.3005, val_loss=3.7977, val_meanF1=0.2433, val_meanAcc=0.3250, LR=3.000000e-04\n",
            "Train F1: {'grade': '0.4477', 'IDH1': '0.4958', '1p/19q': '0.5078', 'MGMT': '0.4751'}\n",
            "Val   F1: {'grade': '0.1037', 'IDH1': '0.3443', '1p/19q': '0.2363', 'MGMT': '0.2890'}\n",
            "\n",
            "--- Fold 3 | Epoch 6/30 ---\n"
          ]
        },
        {
          "data": {
            "application/vnd.jupyter.widget-view+json": {
              "model_id": "cd2ac3f2734c451b933bc5ac9b5fe9b5",
              "version_major": 2,
              "version_minor": 0
            },
            "text/plain": [
              "train:   0%|          | 0/160 [00:00<?, ?it/s]"
            ]
          },
          "metadata": {},
          "output_type": "display_data"
        },
        {
          "name": "stdout",
          "output_type": "stream",
          "text": [
            "\n",
            "Confusion matrix (grade):\n",
            "[[25 11  7]\n",
            " [11 25 19]\n",
            " [11 13 38]]\n"
          ]
        },
        {
          "data": {
            "application/vnd.jupyter.widget-view+json": {
              "model_id": "d57806edd9ff42268efaf345f0477828",
              "version_major": 2,
              "version_minor": 0
            },
            "text/plain": [
              "valid:   0%|          | 0/40 [00:00<?, ?it/s]"
            ]
          },
          "metadata": {},
          "output_type": "display_data"
        },
        {
          "name": "stdout",
          "output_type": "stream",
          "text": [
            "\n",
            "Confusion matrix (grade):\n",
            "[[ 1  0  4]\n",
            " [ 1  0  7]\n",
            " [ 0  1 26]]\n",
            "Epoch 6: train_loss=2.9468, val_loss=3.4187, val_meanF1=0.3986, val_meanAcc=0.5563, LR=3.000000e-04\n",
            "Train F1: {'grade': '0.5465', 'IDH1': '0.5633', '1p/19q': '0.5782', 'MGMT': '0.5201'}\n",
            "Val   F1: {'grade': '0.3661', 'IDH1': '0.4689', '1p/19q': '0.3750', 'MGMT': '0.3846'}\n",
            "\n",
            "--- Fold 3 | Epoch 7/30 ---\n"
          ]
        },
        {
          "data": {
            "application/vnd.jupyter.widget-view+json": {
              "model_id": "f3fa2083579d4d7ab13cbbe8eeb351e0",
              "version_major": 2,
              "version_minor": 0
            },
            "text/plain": [
              "train:   0%|          | 0/160 [00:00<?, ?it/s]"
            ]
          },
          "metadata": {},
          "output_type": "display_data"
        },
        {
          "name": "stdout",
          "output_type": "stream",
          "text": [
            "\n",
            "Confusion matrix (grade):\n",
            "[[41  2  2]\n",
            " [ 7 34 15]\n",
            " [ 9 24 26]]\n"
          ]
        },
        {
          "data": {
            "application/vnd.jupyter.widget-view+json": {
              "model_id": "b6f203d88aa1411c9c36d1890293ad6e",
              "version_major": 2,
              "version_minor": 0
            },
            "text/plain": [
              "valid:   0%|          | 0/40 [00:00<?, ?it/s]"
            ]
          },
          "metadata": {},
          "output_type": "display_data"
        },
        {
          "name": "stdout",
          "output_type": "stream",
          "text": [
            "\n",
            "Confusion matrix (grade):\n",
            "[[ 5  0  0]\n",
            " [ 6  1  1]\n",
            " [11  6 10]]\n",
            "Epoch 7: train_loss=2.7634, val_loss=3.7294, val_meanF1=0.3570, val_meanAcc=0.4813, LR=3.000000e-04\n",
            "Train F1: {'grade': '0.6333', 'IDH1': '0.7163', '1p/19q': '0.6313', 'MGMT': '0.5869'}\n",
            "Val   F1: {'grade': '0.3433', 'IDH1': '0.3220', '1p/19q': '0.3780', 'MGMT': '0.3846'}\n",
            "\n",
            "--- Fold 3 | Epoch 8/30 ---\n"
          ]
        },
        {
          "data": {
            "application/vnd.jupyter.widget-view+json": {
              "model_id": "afb04d20b49648559a8f3312ee0e5454",
              "version_major": 2,
              "version_minor": 0
            },
            "text/plain": [
              "train:   0%|          | 0/160 [00:00<?, ?it/s]"
            ]
          },
          "metadata": {},
          "output_type": "display_data"
        },
        {
          "name": "stdout",
          "output_type": "stream",
          "text": [
            "\n",
            "Confusion matrix (grade):\n",
            "[[40  4  3]\n",
            " [13 39  8]\n",
            " [ 8 13 32]]\n"
          ]
        },
        {
          "data": {
            "application/vnd.jupyter.widget-view+json": {
              "model_id": "dfb2c15f5d704e57a7d64920a9c0f2b3",
              "version_major": 2,
              "version_minor": 0
            },
            "text/plain": [
              "valid:   0%|          | 0/40 [00:00<?, ?it/s]"
            ]
          },
          "metadata": {},
          "output_type": "display_data"
        },
        {
          "name": "stdout",
          "output_type": "stream",
          "text": [
            "\n",
            "Confusion matrix (grade):\n",
            "[[ 3  1  1]\n",
            " [ 4  2  2]\n",
            " [ 5  8 14]]\n",
            "Epoch 8: train_loss=2.5351, val_loss=3.9429, val_meanF1=0.4214, val_meanAcc=0.5125, LR=1.500000e-04\n",
            "Train F1: {'grade': '0.6933', 'IDH1': '0.7309', '1p/19q': '0.7000', 'MGMT': '0.4955'}\n",
            "Val   F1: {'grade': '0.3999', 'IDH1': '0.3732', '1p/19q': '0.4302', 'MGMT': '0.4823'}\n",
            "Validation metric improved (0.4179 → 0.4214). Saving model…\n",
            "\n",
            "--- Fold 3 | Epoch 9/30 ---\n"
          ]
        },
        {
          "data": {
            "application/vnd.jupyter.widget-view+json": {
              "model_id": "41e3eb4241184ec4ac954c0fa8c3a1cf",
              "version_major": 2,
              "version_minor": 0
            },
            "text/plain": [
              "train:   0%|          | 0/160 [00:00<?, ?it/s]"
            ]
          },
          "metadata": {},
          "output_type": "display_data"
        },
        {
          "name": "stdout",
          "output_type": "stream",
          "text": [
            "\n",
            "Confusion matrix (grade):\n",
            "[[40  4  2]\n",
            " [ 5 29 19]\n",
            " [ 4 19 38]]\n"
          ]
        },
        {
          "data": {
            "application/vnd.jupyter.widget-view+json": {
              "model_id": "b4ec1649976543b597bf03df5943bb4e",
              "version_major": 2,
              "version_minor": 0
            },
            "text/plain": [
              "valid:   0%|          | 0/40 [00:00<?, ?it/s]"
            ]
          },
          "metadata": {},
          "output_type": "display_data"
        },
        {
          "name": "stdout",
          "output_type": "stream",
          "text": [
            "\n",
            "Confusion matrix (grade):\n",
            "[[ 3  2  0]\n",
            " [ 5  3  0]\n",
            " [ 5 11 11]]\n",
            "Epoch 9: train_loss=2.3826, val_loss=3.8493, val_meanF1=0.4298, val_meanAcc=0.5000, LR=1.500000e-04\n",
            "Train F1: {'grade': '0.6759', 'IDH1': '0.7812', '1p/19q': '0.7321', 'MGMT': '0.5423'}\n",
            "Val   F1: {'grade': '0.3874', 'IDH1': '0.5000', '1p/19q': '0.3651', 'MGMT': '0.4667'}\n",
            "Validation metric improved (0.4214 → 0.4298). Saving model…\n",
            "\n",
            "--- Fold 3 | Epoch 10/30 ---\n"
          ]
        },
        {
          "data": {
            "application/vnd.jupyter.widget-view+json": {
              "model_id": "84911d4ec9234974aa9be19a74734b36",
              "version_major": 2,
              "version_minor": 0
            },
            "text/plain": [
              "train:   0%|          | 0/160 [00:00<?, ?it/s]"
            ]
          },
          "metadata": {},
          "output_type": "display_data"
        },
        {
          "name": "stdout",
          "output_type": "stream",
          "text": [
            "\n",
            "Confusion matrix (grade):\n",
            "[[54  0  0]\n",
            " [ 6 47 10]\n",
            " [ 3  8 32]]\n"
          ]
        },
        {
          "data": {
            "application/vnd.jupyter.widget-view+json": {
              "model_id": "f88c2774d7d5473abd16e12d50331f10",
              "version_major": 2,
              "version_minor": 0
            },
            "text/plain": [
              "valid:   0%|          | 0/40 [00:00<?, ?it/s]"
            ]
          },
          "metadata": {},
          "output_type": "display_data"
        },
        {
          "name": "stdout",
          "output_type": "stream",
          "text": [
            "\n",
            "Confusion matrix (grade):\n",
            "[[ 3  1  1]\n",
            " [ 0  4  4]\n",
            " [ 2 19  6]]\n",
            "Epoch 10: train_loss=2.0753, val_loss=4.6716, val_meanF1=0.4323, val_meanAcc=0.4500, LR=1.500000e-04\n",
            "Train F1: {'grade': '0.8242', 'IDH1': '0.8283', '1p/19q': '0.7808', 'MGMT': '0.7559'}\n",
            "Val   F1: {'grade': '0.3886', 'IDH1': '0.4500', '1p/19q': '0.3593', 'MGMT': '0.5312'}\n",
            "Validation metric improved (0.4298 → 0.4323). Saving model…\n",
            "\n",
            "--- Fold 3 | Epoch 11/30 ---\n"
          ]
        },
        {
          "data": {
            "application/vnd.jupyter.widget-view+json": {
              "model_id": "db9ddc4048454ca0b2ceac89efc632b0",
              "version_major": 2,
              "version_minor": 0
            },
            "text/plain": [
              "train:   0%|          | 0/160 [00:00<?, ?it/s]"
            ]
          },
          "metadata": {},
          "output_type": "display_data"
        },
        {
          "name": "stdout",
          "output_type": "stream",
          "text": [
            "\n",
            "Confusion matrix (grade):\n",
            "[[34  3  1]\n",
            " [ 2 59  3]\n",
            " [ 7 20 31]]\n"
          ]
        },
        {
          "data": {
            "application/vnd.jupyter.widget-view+json": {
              "model_id": "77efd4f188df4954a7aceb57a83feab7",
              "version_major": 2,
              "version_minor": 0
            },
            "text/plain": [
              "valid:   0%|          | 0/40 [00:00<?, ?it/s]"
            ]
          },
          "metadata": {},
          "output_type": "display_data"
        },
        {
          "name": "stdout",
          "output_type": "stream",
          "text": [
            "\n",
            "Confusion matrix (grade):\n",
            "[[ 3  2  0]\n",
            " [ 3  5  0]\n",
            " [ 0 20  7]]\n",
            "Epoch 11: train_loss=2.0904, val_loss=4.9229, val_meanF1=0.4625, val_meanAcc=0.4875, LR=1.500000e-04\n",
            "Train F1: {'grade': '0.7715', 'IDH1': '0.8374', '1p/19q': '0.7894', 'MGMT': '0.7808'}\n",
            "Val   F1: {'grade': '0.4143', 'IDH1': '0.4246', '1p/19q': '0.4473', 'MGMT': '0.5636'}\n",
            "Validation metric improved (0.4323 → 0.4625). Saving model…\n",
            "\n",
            "--- Fold 3 | Epoch 12/30 ---\n"
          ]
        },
        {
          "data": {
            "application/vnd.jupyter.widget-view+json": {
              "model_id": "9649fccdd30c44f98cd71f71aee26083",
              "version_major": 2,
              "version_minor": 0
            },
            "text/plain": [
              "train:   0%|          | 0/160 [00:00<?, ?it/s]"
            ]
          },
          "metadata": {},
          "output_type": "display_data"
        },
        {
          "name": "stdout",
          "output_type": "stream",
          "text": [
            "\n",
            "Confusion matrix (grade):\n",
            "[[44  0  0]\n",
            " [ 2 65  6]\n",
            " [ 2 18 23]]\n"
          ]
        },
        {
          "data": {
            "application/vnd.jupyter.widget-view+json": {
              "model_id": "28c325c6a5a34b7d9367542a66674726",
              "version_major": 2,
              "version_minor": 0
            },
            "text/plain": [
              "valid:   0%|          | 0/40 [00:00<?, ?it/s]"
            ]
          },
          "metadata": {},
          "output_type": "display_data"
        },
        {
          "name": "stdout",
          "output_type": "stream",
          "text": [
            "\n",
            "Confusion matrix (grade):\n",
            "[[ 4  1  0]\n",
            " [ 0  3  5]\n",
            " [ 2 11 14]]\n",
            "Epoch 12: train_loss=1.8558, val_loss=4.6331, val_meanF1=0.4987, val_meanAcc=0.5312, LR=1.500000e-04\n",
            "Train F1: {'grade': '0.8096', 'IDH1': '0.8492', '1p/19q': '0.8359', 'MGMT': '0.8060'}\n",
            "Val   F1: {'grade': '0.5323', 'IDH1': '0.5223', '1p/19q': '0.4203', 'MGMT': '0.5200'}\n",
            "Validation metric improved (0.4625 → 0.4987). Saving model…\n",
            "\n",
            "--- Fold 3 | Epoch 13/30 ---\n"
          ]
        },
        {
          "data": {
            "application/vnd.jupyter.widget-view+json": {
              "model_id": "954cd857685945d9bc077b175723d7de",
              "version_major": 2,
              "version_minor": 0
            },
            "text/plain": [
              "train:   0%|          | 0/160 [00:00<?, ?it/s]"
            ]
          },
          "metadata": {},
          "output_type": "display_data"
        },
        {
          "name": "stdout",
          "output_type": "stream",
          "text": [
            "\n",
            "Confusion matrix (grade):\n",
            "[[47  0  2]\n",
            " [ 5 48  6]\n",
            " [ 8 11 33]]\n"
          ]
        },
        {
          "data": {
            "application/vnd.jupyter.widget-view+json": {
              "model_id": "898254506ef14114b95bb20793a18a7d",
              "version_major": 2,
              "version_minor": 0
            },
            "text/plain": [
              "valid:   0%|          | 0/40 [00:00<?, ?it/s]"
            ]
          },
          "metadata": {},
          "output_type": "display_data"
        },
        {
          "name": "stdout",
          "output_type": "stream",
          "text": [
            "\n",
            "Confusion matrix (grade):\n",
            "[[ 4  0  1]\n",
            " [ 3  1  4]\n",
            " [ 5  8 14]]\n",
            "Epoch 13: train_loss=1.8052, val_loss=4.7456, val_meanF1=0.4339, val_meanAcc=0.4750, LR=1.500000e-04\n",
            "Train F1: {'grade': '0.7952', 'IDH1': '0.8968', '1p/19q': '0.8990', 'MGMT': '0.8036'}\n",
            "Val   F1: {'grade': '0.3990', 'IDH1': '0.4130', '1p/19q': '0.3553', 'MGMT': '0.5683'}\n",
            "\n",
            "--- Fold 3 | Epoch 14/30 ---\n"
          ]
        },
        {
          "data": {
            "application/vnd.jupyter.widget-view+json": {
              "model_id": "3afff10da6684c4199fd439039a01c89",
              "version_major": 2,
              "version_minor": 0
            },
            "text/plain": [
              "train:   0%|          | 0/160 [00:00<?, ?it/s]"
            ]
          },
          "metadata": {},
          "output_type": "display_data"
        },
        {
          "name": "stdout",
          "output_type": "stream",
          "text": [
            "\n",
            "Confusion matrix (grade):\n",
            "[[47  1  1]\n",
            " [ 6 48 12]\n",
            " [ 1  9 35]]\n"
          ]
        },
        {
          "data": {
            "application/vnd.jupyter.widget-view+json": {
              "model_id": "705cf0f8f1a14b3ca2f84b7dbc1cc9a6",
              "version_major": 2,
              "version_minor": 0
            },
            "text/plain": [
              "valid:   0%|          | 0/40 [00:00<?, ?it/s]"
            ]
          },
          "metadata": {},
          "output_type": "display_data"
        },
        {
          "name": "stdout",
          "output_type": "stream",
          "text": [
            "\n",
            "Confusion matrix (grade):\n",
            "[[ 3  0  2]\n",
            " [ 0  2  6]\n",
            " [ 2  3 22]]\n",
            "Epoch 14: train_loss=1.8202, val_loss=5.2390, val_meanF1=0.5012, val_meanAcc=0.5437, LR=1.500000e-04\n",
            "Train F1: {'grade': '0.8132', 'IDH1': '0.8676', '1p/19q': '0.8533', 'MGMT': '0.8537'}\n",
            "Val   F1: {'grade': '0.5599', 'IDH1': '0.4444', '1p/19q': '0.4320', 'MGMT': '0.5683'}\n",
            "Validation metric improved (0.4987 → 0.5012). Saving model…\n",
            "\n",
            "--- Fold 3 | Epoch 15/30 ---\n"
          ]
        },
        {
          "data": {
            "application/vnd.jupyter.widget-view+json": {
              "model_id": "0e3cae1ebb3b4b379981ce320e293acd",
              "version_major": 2,
              "version_minor": 0
            },
            "text/plain": [
              "train:   0%|          | 0/160 [00:00<?, ?it/s]"
            ]
          },
          "metadata": {},
          "output_type": "display_data"
        },
        {
          "name": "stdout",
          "output_type": "stream",
          "text": [
            "\n",
            "Confusion matrix (grade):\n",
            "[[36  0  2]\n",
            " [ 1 61  4]\n",
            " [ 2 10 44]]\n"
          ]
        },
        {
          "data": {
            "application/vnd.jupyter.widget-view+json": {
              "model_id": "b91ee092dd774b228b383723811d97a5",
              "version_major": 2,
              "version_minor": 0
            },
            "text/plain": [
              "valid:   0%|          | 0/40 [00:00<?, ?it/s]"
            ]
          },
          "metadata": {},
          "output_type": "display_data"
        },
        {
          "name": "stdout",
          "output_type": "stream",
          "text": [
            "\n",
            "Confusion matrix (grade):\n",
            "[[ 2  2  1]\n",
            " [ 3  2  3]\n",
            " [ 4 10 13]]\n",
            "Epoch 15: train_loss=1.6701, val_loss=4.8037, val_meanF1=0.4267, val_meanAcc=0.4875, LR=1.500000e-04\n",
            "Train F1: {'grade': '0.8853', 'IDH1': '0.9122', '1p/19q': '0.8911', 'MGMT': '0.8734'}\n",
            "Val   F1: {'grade': '0.3528', 'IDH1': '0.4792', '1p/19q': '0.4000', 'MGMT': '0.4747'}\n",
            "\n",
            "--- Fold 3 | Epoch 16/30 ---\n"
          ]
        },
        {
          "data": {
            "application/vnd.jupyter.widget-view+json": {
              "model_id": "2858c180f60949faa5f360f569963a7c",
              "version_major": 2,
              "version_minor": 0
            },
            "text/plain": [
              "train:   0%|          | 0/160 [00:00<?, ?it/s]"
            ]
          },
          "metadata": {},
          "output_type": "display_data"
        },
        {
          "name": "stdout",
          "output_type": "stream",
          "text": [
            "\n",
            "Confusion matrix (grade):\n",
            "[[40  2  4]\n",
            " [ 2 55  9]\n",
            " [ 1  6 41]]\n"
          ]
        },
        {
          "data": {
            "application/vnd.jupyter.widget-view+json": {
              "model_id": "5f900f456c3f403b8536699500b30d85",
              "version_major": 2,
              "version_minor": 0
            },
            "text/plain": [
              "valid:   0%|          | 0/40 [00:00<?, ?it/s]"
            ]
          },
          "metadata": {},
          "output_type": "display_data"
        },
        {
          "name": "stdout",
          "output_type": "stream",
          "text": [
            "\n",
            "Confusion matrix (grade):\n",
            "[[ 1  2  2]\n",
            " [ 1  2  5]\n",
            " [ 5 10 12]]\n",
            "Epoch 16: train_loss=1.6401, val_loss=5.3730, val_meanF1=0.3892, val_meanAcc=0.4500, LR=1.500000e-04\n",
            "Train F1: {'grade': '0.8518', 'IDH1': '0.8936', '1p/19q': '0.8677', 'MGMT': '0.9120'}\n",
            "Val   F1: {'grade': '0.2901', 'IDH1': '0.4505', '1p/19q': '0.3891', 'MGMT': '0.4271'}\n",
            "\n",
            "--- Fold 3 | Epoch 17/30 ---\n"
          ]
        },
        {
          "data": {
            "application/vnd.jupyter.widget-view+json": {
              "model_id": "66e2fa662dc94ff19da635791f515c2b",
              "version_major": 2,
              "version_minor": 0
            },
            "text/plain": [
              "train:   0%|          | 0/160 [00:00<?, ?it/s]"
            ]
          },
          "metadata": {},
          "output_type": "display_data"
        },
        {
          "name": "stdout",
          "output_type": "stream",
          "text": [
            "\n",
            "Confusion matrix (grade):\n",
            "[[34  0  1]\n",
            " [ 5 51  6]\n",
            " [ 2 10 51]]\n"
          ]
        },
        {
          "data": {
            "application/vnd.jupyter.widget-view+json": {
              "model_id": "26638f231574403991a9fce4555557e3",
              "version_major": 2,
              "version_minor": 0
            },
            "text/plain": [
              "valid:   0%|          | 0/40 [00:00<?, ?it/s]"
            ]
          },
          "metadata": {},
          "output_type": "display_data"
        },
        {
          "name": "stdout",
          "output_type": "stream",
          "text": [
            "\n",
            "Confusion matrix (grade):\n",
            "[[ 4  1  0]\n",
            " [ 4  3  1]\n",
            " [ 7 15  5]]\n",
            "Epoch 17: train_loss=1.5808, val_loss=5.0015, val_meanF1=0.3963, val_meanAcc=0.4625, LR=1.500000e-04\n",
            "Train F1: {'grade': '0.8557', 'IDH1': '0.9186', '1p/19q': '0.9319', 'MGMT': '0.9052'}\n",
            "Val   F1: {'grade': '0.3084', 'IDH1': '0.4133', '1p/19q': '0.3750', 'MGMT': '0.4885'}\n",
            "\n",
            "--- Fold 3 | Epoch 18/30 ---\n"
          ]
        },
        {
          "data": {
            "application/vnd.jupyter.widget-view+json": {
              "model_id": "42b61a61b1674db7aa93d5f3dbbd67af",
              "version_major": 2,
              "version_minor": 0
            },
            "text/plain": [
              "train:   0%|          | 0/160 [00:00<?, ?it/s]"
            ]
          },
          "metadata": {},
          "output_type": "display_data"
        },
        {
          "name": "stdout",
          "output_type": "stream",
          "text": [
            "\n",
            "Confusion matrix (grade):\n",
            "[[41  0  0]\n",
            " [ 1 63  3]\n",
            " [ 1 16 35]]\n"
          ]
        },
        {
          "data": {
            "application/vnd.jupyter.widget-view+json": {
              "model_id": "3a8f68e87dff40f5a37f73c8cf7e46c8",
              "version_major": 2,
              "version_minor": 0
            },
            "text/plain": [
              "valid:   0%|          | 0/40 [00:00<?, ?it/s]"
            ]
          },
          "metadata": {},
          "output_type": "display_data"
        },
        {
          "name": "stdout",
          "output_type": "stream",
          "text": [
            "\n",
            "Confusion matrix (grade):\n",
            "[[ 4  1  0]\n",
            " [ 3  3  2]\n",
            " [ 3  9 15]]\n",
            "Epoch 18: train_loss=1.4598, val_loss=5.2553, val_meanF1=0.4698, val_meanAcc=0.4937, LR=7.500000e-05\n",
            "Train F1: {'grade': '0.8723', 'IDH1': '0.9187', '1p/19q': '0.8965', 'MGMT': '0.9561'}\n",
            "Val   F1: {'grade': '0.5003', 'IDH1': '0.4584', '1p/19q': '0.3750', 'MGMT': '0.5455'}\n",
            "\n",
            "--- Fold 3 | Epoch 19/30 ---\n"
          ]
        },
        {
          "data": {
            "application/vnd.jupyter.widget-view+json": {
              "model_id": "472e6f8bee794586b8cf217f6ffa76b6",
              "version_major": 2,
              "version_minor": 0
            },
            "text/plain": [
              "train:   0%|          | 0/160 [00:00<?, ?it/s]"
            ]
          },
          "metadata": {},
          "output_type": "display_data"
        },
        {
          "name": "stdout",
          "output_type": "stream",
          "text": [
            "\n",
            "Confusion matrix (grade):\n",
            "[[43  0  0]\n",
            " [ 1 50  9]\n",
            " [ 0  7 50]]\n"
          ]
        },
        {
          "data": {
            "application/vnd.jupyter.widget-view+json": {
              "model_id": "c563b32ff7434bd9ab7ebe43dd39faaf",
              "version_major": 2,
              "version_minor": 0
            },
            "text/plain": [
              "valid:   0%|          | 0/40 [00:00<?, ?it/s]"
            ]
          },
          "metadata": {},
          "output_type": "display_data"
        },
        {
          "name": "stdout",
          "output_type": "stream",
          "text": [
            "\n",
            "Confusion matrix (grade):\n",
            "[[ 4  1  0]\n",
            " [ 5  3  0]\n",
            " [ 7  5 15]]\n",
            "Epoch 19: train_loss=1.3879, val_loss=5.4104, val_meanF1=0.5025, val_meanAcc=0.5375, LR=7.500000e-05\n",
            "Train F1: {'grade': '0.9018', 'IDH1': '0.9375', '1p/19q': '0.9142', 'MGMT': '0.9355'}\n",
            "Val   F1: {'grade': '0.4827', 'IDH1': '0.4584', '1p/19q': '0.4689', 'MGMT': '0.6000'}\n",
            "Validation metric improved (0.5012 → 0.5025). Saving model…\n",
            "\n",
            "--- Fold 3 | Epoch 20/30 ---\n"
          ]
        },
        {
          "data": {
            "application/vnd.jupyter.widget-view+json": {
              "model_id": "d444ca7e54c24ff9a5004e404979d284",
              "version_major": 2,
              "version_minor": 0
            },
            "text/plain": [
              "train:   0%|          | 0/160 [00:00<?, ?it/s]"
            ]
          },
          "metadata": {},
          "output_type": "display_data"
        },
        {
          "name": "stdout",
          "output_type": "stream",
          "text": [
            "\n",
            "Confusion matrix (grade):\n",
            "[[31  0  0]\n",
            " [ 2 70  1]\n",
            " [ 2  4 50]]\n"
          ]
        },
        {
          "data": {
            "application/vnd.jupyter.widget-view+json": {
              "model_id": "e36a1ba7f44f4f0d9639ca2cd12ae5fb",
              "version_major": 2,
              "version_minor": 0
            },
            "text/plain": [
              "valid:   0%|          | 0/40 [00:00<?, ?it/s]"
            ]
          },
          "metadata": {},
          "output_type": "display_data"
        },
        {
          "name": "stdout",
          "output_type": "stream",
          "text": [
            "\n",
            "Confusion matrix (grade):\n",
            "[[ 4  1  0]\n",
            " [ 5  3  0]\n",
            " [10 11  6]]\n",
            "Epoch 20: train_loss=1.2703, val_loss=5.3273, val_meanF1=0.4544, val_meanAcc=0.5062, LR=7.500000e-05\n",
            "Train F1: {'grade': '0.9421', 'IDH1': '0.9355', '1p/19q': '0.9600', 'MGMT': '0.9619'}\n",
            "Val   F1: {'grade': '0.3193', 'IDH1': '0.4473', '1p/19q': '0.4512', 'MGMT': '0.6000'}\n",
            "\n",
            "--- Fold 3 | Epoch 21/30 ---\n"
          ]
        },
        {
          "data": {
            "application/vnd.jupyter.widget-view+json": {
              "model_id": "793f88c4e7674b369f38e511a7703df8",
              "version_major": 2,
              "version_minor": 0
            },
            "text/plain": [
              "train:   0%|          | 0/160 [00:00<?, ?it/s]"
            ]
          },
          "metadata": {},
          "output_type": "display_data"
        },
        {
          "name": "stdout",
          "output_type": "stream",
          "text": [
            "\n",
            "Confusion matrix (grade):\n",
            "[[41  0  0]\n",
            " [ 1 60  0]\n",
            " [ 4  4 50]]\n"
          ]
        },
        {
          "data": {
            "application/vnd.jupyter.widget-view+json": {
              "model_id": "9437e14f11b94d9aa97956d22e0f8283",
              "version_major": 2,
              "version_minor": 0
            },
            "text/plain": [
              "valid:   0%|          | 0/40 [00:00<?, ?it/s]"
            ]
          },
          "metadata": {},
          "output_type": "display_data"
        },
        {
          "name": "stdout",
          "output_type": "stream",
          "text": [
            "\n",
            "Confusion matrix (grade):\n",
            "[[ 4  1  0]\n",
            " [ 5  3  0]\n",
            " [12  8  7]]\n",
            "Epoch 21: train_loss=1.1461, val_loss=5.0246, val_meanF1=0.4411, val_meanAcc=0.4875, LR=7.500000e-05\n",
            "Train F1: {'grade': '0.9428', 'IDH1': '0.9812', '1p/19q': '0.9605', 'MGMT': '0.9750'}\n",
            "Val   F1: {'grade': '0.3398', 'IDH1': '0.4473', '1p/19q': '0.4048', 'MGMT': '0.5726'}\n",
            "\n",
            "--- Fold 3 | Epoch 22/30 ---\n"
          ]
        },
        {
          "data": {
            "application/vnd.jupyter.widget-view+json": {
              "model_id": "fb457f8c37544a9da0b6f2489840fde4",
              "version_major": 2,
              "version_minor": 0
            },
            "text/plain": [
              "train:   0%|          | 0/160 [00:00<?, ?it/s]"
            ]
          },
          "metadata": {},
          "output_type": "display_data"
        },
        {
          "name": "stdout",
          "output_type": "stream",
          "text": [
            "\n",
            "Confusion matrix (grade):\n",
            "[[44  0  0]\n",
            " [ 1 65  3]\n",
            " [ 0  0 47]]\n"
          ]
        },
        {
          "data": {
            "application/vnd.jupyter.widget-view+json": {
              "model_id": "993b7b1f86d241469e375c84b8aeee9a",
              "version_major": 2,
              "version_minor": 0
            },
            "text/plain": [
              "valid:   0%|          | 0/40 [00:00<?, ?it/s]"
            ]
          },
          "metadata": {},
          "output_type": "display_data"
        },
        {
          "name": "stdout",
          "output_type": "stream",
          "text": [
            "\n",
            "Confusion matrix (grade):\n",
            "[[ 2  3  0]\n",
            " [ 3  5  0]\n",
            " [ 5 15  7]]\n",
            "Epoch 22: train_loss=1.0822, val_loss=5.3848, val_meanF1=0.4840, val_meanAcc=0.5250, LR=7.500000e-05\n",
            "Train F1: {'grade': '0.9760', 'IDH1': '0.9686', '1p/19q': '0.9799', 'MGMT': '0.9467'}\n",
            "Val   F1: {'grade': '0.3337', 'IDH1': '0.5223', '1p/19q': '0.4667', 'MGMT': '0.6132'}\n",
            "\n",
            "--- Fold 3 | Epoch 23/30 ---\n"
          ]
        },
        {
          "data": {
            "application/vnd.jupyter.widget-view+json": {
              "model_id": "3bdc4387ffd5410a90538fd3ed7d39a1",
              "version_major": 2,
              "version_minor": 0
            },
            "text/plain": [
              "train:   0%|          | 0/160 [00:00<?, ?it/s]"
            ]
          },
          "metadata": {},
          "output_type": "display_data"
        },
        {
          "name": "stdout",
          "output_type": "stream",
          "text": [
            "\n",
            "Confusion matrix (grade):\n",
            "[[61  0  0]\n",
            " [ 1 47  1]\n",
            " [ 2  1 47]]\n"
          ]
        },
        {
          "data": {
            "application/vnd.jupyter.widget-view+json": {
              "model_id": "6e054366fe564b8abe0d67d71001cd1e",
              "version_major": 2,
              "version_minor": 0
            },
            "text/plain": [
              "valid:   0%|          | 0/40 [00:00<?, ?it/s]"
            ]
          },
          "metadata": {},
          "output_type": "display_data"
        },
        {
          "name": "stdout",
          "output_type": "stream",
          "text": [
            "\n",
            "Confusion matrix (grade):\n",
            "[[ 2  3  0]\n",
            " [ 5  3  0]\n",
            " [ 7 16  4]]\n",
            "Epoch 23: train_loss=0.9989, val_loss=5.1666, val_meanF1=0.4090, val_meanAcc=0.4562, LR=3.750000e-05\n",
            "Train F1: {'grade': '0.9681', 'IDH1': '0.9872', '1p/19q': '0.9872', 'MGMT': '0.9616'}\n",
            "Val   F1: {'grade': '0.2229', 'IDH1': '0.4473', '1p/19q': '0.4203', 'MGMT': '0.5455'}\n",
            "\n",
            "--- Fold 3 | Epoch 24/30 ---\n"
          ]
        },
        {
          "data": {
            "application/vnd.jupyter.widget-view+json": {
              "model_id": "51cd1bb9c5bf459599cc8c3ad33c6089",
              "version_major": 2,
              "version_minor": 0
            },
            "text/plain": [
              "train:   0%|          | 0/160 [00:00<?, ?it/s]"
            ]
          },
          "metadata": {},
          "output_type": "display_data"
        },
        {
          "name": "stdout",
          "output_type": "stream",
          "text": [
            "\n",
            "Confusion matrix (grade):\n",
            "[[44  0  0]\n",
            " [ 0 52  3]\n",
            " [ 0  2 59]]\n"
          ]
        },
        {
          "data": {
            "application/vnd.jupyter.widget-view+json": {
              "model_id": "4ec0420a3b12496c8c7b2d49889b331c",
              "version_major": 2,
              "version_minor": 0
            },
            "text/plain": [
              "valid:   0%|          | 0/40 [00:00<?, ?it/s]"
            ]
          },
          "metadata": {},
          "output_type": "display_data"
        },
        {
          "name": "stdout",
          "output_type": "stream",
          "text": [
            "\n",
            "Confusion matrix (grade):\n",
            "[[ 4  0  1]\n",
            " [ 4  2  2]\n",
            " [ 6 10 11]]\n",
            "Epoch 24: train_loss=1.0785, val_loss=4.7962, val_meanF1=0.4331, val_meanAcc=0.5500, LR=3.750000e-05\n",
            "Train F1: {'grade': '0.9712', 'IDH1': '0.9373', '1p/19q': '0.9864', 'MGMT': '0.9750'}\n",
            "Val   F1: {'grade': '0.3859', 'IDH1': '0.3730', '1p/19q': '0.4118', 'MGMT': '0.5616'}\n",
            "\n",
            "--- Fold 3 | Epoch 25/30 ---\n"
          ]
        },
        {
          "data": {
            "application/vnd.jupyter.widget-view+json": {
              "model_id": "e7ee49c8715b4316b8f4217590129644",
              "version_major": 2,
              "version_minor": 0
            },
            "text/plain": [
              "train:   0%|          | 0/160 [00:00<?, ?it/s]"
            ]
          },
          "metadata": {},
          "output_type": "display_data"
        },
        {
          "name": "stdout",
          "output_type": "stream",
          "text": [
            "\n",
            "Confusion matrix (grade):\n",
            "[[35  0  0]\n",
            " [ 0 55  0]\n",
            " [ 1  1 68]]\n"
          ]
        },
        {
          "data": {
            "application/vnd.jupyter.widget-view+json": {
              "model_id": "48ff1ecd6b91475583ee5e20b7a29513",
              "version_major": 2,
              "version_minor": 0
            },
            "text/plain": [
              "valid:   0%|          | 0/40 [00:00<?, ?it/s]"
            ]
          },
          "metadata": {},
          "output_type": "display_data"
        },
        {
          "name": "stdout",
          "output_type": "stream",
          "text": [
            "\n",
            "Confusion matrix (grade):\n",
            "[[ 3  2  0]\n",
            " [ 4  3  1]\n",
            " [ 8 11  8]]\n",
            "Epoch 25: train_loss=1.0631, val_loss=4.7512, val_meanF1=0.4247, val_meanAcc=0.5062, LR=3.750000e-05\n",
            "Train F1: {'grade': '0.9875', 'IDH1': '0.9625', '1p/19q': '1.0000', 'MGMT': '0.9687'}\n",
            "Val   F1: {'grade': '0.3315', 'IDH1': '0.3593', '1p/19q': '0.4398', 'MGMT': '0.5683'}\n",
            "\n",
            "--- Fold 3 | Epoch 26/30 ---\n"
          ]
        },
        {
          "data": {
            "application/vnd.jupyter.widget-view+json": {
              "model_id": "c774a656dca3425a9dba41a713f5f7b3",
              "version_major": 2,
              "version_minor": 0
            },
            "text/plain": [
              "train:   0%|          | 0/160 [00:00<?, ?it/s]"
            ]
          },
          "metadata": {},
          "output_type": "display_data"
        },
        {
          "name": "stdout",
          "output_type": "stream",
          "text": [
            "\n",
            "Confusion matrix (grade):\n",
            "[[59  0  0]\n",
            " [ 0 54  2]\n",
            " [ 1  0 44]]\n"
          ]
        },
        {
          "data": {
            "application/vnd.jupyter.widget-view+json": {
              "model_id": "f79b2568e1bb406fa4e4745c62e42f9f",
              "version_major": 2,
              "version_minor": 0
            },
            "text/plain": [
              "valid:   0%|          | 0/40 [00:00<?, ?it/s]"
            ]
          },
          "metadata": {},
          "output_type": "display_data"
        },
        {
          "name": "stdout",
          "output_type": "stream",
          "text": [
            "\n",
            "Confusion matrix (grade):\n",
            "[[ 4  1  0]\n",
            " [ 3  4  1]\n",
            " [ 5 11 11]]\n",
            "Epoch 26: train_loss=0.9666, val_loss=4.9459, val_meanF1=0.4935, val_meanAcc=0.5312, LR=1.875000e-05\n",
            "Train F1: {'grade': '0.9801', 'IDH1': '0.9562', '1p/19q': '0.9867', 'MGMT': '0.9750'}\n",
            "Val   F1: {'grade': '0.4560', 'IDH1': '0.4885', '1p/19q': '0.4984', 'MGMT': '0.5312'}\n",
            "\n",
            "--- Fold 3 | Epoch 27/30 ---\n"
          ]
        },
        {
          "data": {
            "application/vnd.jupyter.widget-view+json": {
              "model_id": "dc8bc2f44f214147bc579866400dfe43",
              "version_major": 2,
              "version_minor": 0
            },
            "text/plain": [
              "train:   0%|          | 0/160 [00:00<?, ?it/s]"
            ]
          },
          "metadata": {},
          "output_type": "display_data"
        },
        {
          "name": "stdout",
          "output_type": "stream",
          "text": [
            "\n",
            "Confusion matrix (grade):\n",
            "[[48  0  0]\n",
            " [ 1 55  0]\n",
            " [ 0  1 55]]\n"
          ]
        },
        {
          "data": {
            "application/vnd.jupyter.widget-view+json": {
              "model_id": "cbea1ed1923e4f1185b414335c735332",
              "version_major": 2,
              "version_minor": 0
            },
            "text/plain": [
              "valid:   0%|          | 0/40 [00:00<?, ?it/s]"
            ]
          },
          "metadata": {},
          "output_type": "display_data"
        },
        {
          "name": "stdout",
          "output_type": "stream",
          "text": [
            "\n",
            "Confusion matrix (grade):\n",
            "[[ 4  1  0]\n",
            " [ 4  4  0]\n",
            " [ 7 10 10]]\n",
            "Epoch 27: train_loss=0.9214, val_loss=5.4198, val_meanF1=0.4660, val_meanAcc=0.4938, LR=1.875000e-05\n",
            "Train F1: {'grade': '0.9876', 'IDH1': '0.9874', '1p/19q': '1.0000', 'MGMT': '0.9620'}\n",
            "Val   F1: {'grade': '0.4295', 'IDH1': '0.4885', '1p/19q': '0.4473', 'MGMT': '0.4987'}\n",
            "\n",
            "--- Fold 3 | Epoch 28/30 ---\n"
          ]
        },
        {
          "data": {
            "application/vnd.jupyter.widget-view+json": {
              "model_id": "0eb0658d16bc43aeadaec03c99bca617",
              "version_major": 2,
              "version_minor": 0
            },
            "text/plain": [
              "train:   0%|          | 0/160 [00:00<?, ?it/s]"
            ]
          },
          "metadata": {},
          "output_type": "display_data"
        },
        {
          "name": "stdout",
          "output_type": "stream",
          "text": [
            "\n",
            "Confusion matrix (grade):\n",
            "[[43  0  0]\n",
            " [ 1 56  0]\n",
            " [ 1  1 58]]\n"
          ]
        },
        {
          "data": {
            "application/vnd.jupyter.widget-view+json": {
              "model_id": "4d97699550944def9d884410c41fcb52",
              "version_major": 2,
              "version_minor": 0
            },
            "text/plain": [
              "valid:   0%|          | 0/40 [00:00<?, ?it/s]"
            ]
          },
          "metadata": {},
          "output_type": "display_data"
        },
        {
          "name": "stdout",
          "output_type": "stream",
          "text": [
            "\n",
            "Confusion matrix (grade):\n",
            "[[ 4  0  1]\n",
            " [ 4  3  1]\n",
            " [ 8  7 12]]\n",
            "Epoch 28: train_loss=0.9449, val_loss=4.9335, val_meanF1=0.5010, val_meanAcc=0.5437, LR=1.875000e-05\n",
            "Train F1: {'grade': '0.9809', 'IDH1': '0.9873', '1p/19q': '1.0000', 'MGMT': '0.9749'}\n",
            "Val   F1: {'grade': '0.4332', 'IDH1': '0.4997', '1p/19q': '0.4984', 'MGMT': '0.5726'}\n",
            "\n",
            "--- Fold 3 | Epoch 29/30 ---\n"
          ]
        },
        {
          "data": {
            "application/vnd.jupyter.widget-view+json": {
              "model_id": "b083ccf069c64ecc9afe335c6e8a47f7",
              "version_major": 2,
              "version_minor": 0
            },
            "text/plain": [
              "train:   0%|          | 0/160 [00:00<?, ?it/s]"
            ]
          },
          "metadata": {},
          "output_type": "display_data"
        },
        {
          "name": "stdout",
          "output_type": "stream",
          "text": [
            "\n",
            "Confusion matrix (grade):\n",
            "[[44  0  0]\n",
            " [ 0 55  0]\n",
            " [ 1  0 60]]\n"
          ]
        },
        {
          "data": {
            "application/vnd.jupyter.widget-view+json": {
              "model_id": "b1050bff5e5b4747be359f72ee0906d8",
              "version_major": 2,
              "version_minor": 0
            },
            "text/plain": [
              "valid:   0%|          | 0/40 [00:00<?, ?it/s]"
            ]
          },
          "metadata": {},
          "output_type": "display_data"
        },
        {
          "name": "stdout",
          "output_type": "stream",
          "text": [
            "\n",
            "Confusion matrix (grade):\n",
            "[[ 4  1  0]\n",
            " [ 4  4  0]\n",
            " [ 7  9 11]]\n",
            "Epoch 29: train_loss=0.9692, val_loss=5.0298, val_meanF1=0.4943, val_meanAcc=0.5312, LR=9.375000e-06\n",
            "Train F1: {'grade': '0.9935', 'IDH1': '0.9750', '1p/19q': '1.0000', 'MGMT': '0.9687'}\n",
            "Val   F1: {'grade': '0.4475', 'IDH1': '0.4997', '1p/19q': '0.4813', 'MGMT': '0.5489'}\n",
            "\n",
            "--- Fold 3 | Epoch 30/30 ---\n"
          ]
        },
        {
          "data": {
            "application/vnd.jupyter.widget-view+json": {
              "model_id": "b1a08db937bd4dcabcb1fa887e2ac9bd",
              "version_major": 2,
              "version_minor": 0
            },
            "text/plain": [
              "train:   0%|          | 0/160 [00:00<?, ?it/s]"
            ]
          },
          "metadata": {},
          "output_type": "display_data"
        },
        {
          "name": "stdout",
          "output_type": "stream",
          "text": [
            "\n",
            "Confusion matrix (grade):\n",
            "[[42  0  0]\n",
            " [ 3 56  1]\n",
            " [ 0  0 58]]\n"
          ]
        },
        {
          "data": {
            "application/vnd.jupyter.widget-view+json": {
              "model_id": "39c1d549c4554a34b3f13b56a5ee48b1",
              "version_major": 2,
              "version_minor": 0
            },
            "text/plain": [
              "valid:   0%|          | 0/40 [00:00<?, ?it/s]"
            ]
          },
          "metadata": {},
          "output_type": "display_data"
        },
        {
          "name": "stdout",
          "output_type": "stream",
          "text": [
            "\n",
            "Confusion matrix (grade):\n",
            "[[ 4  0  1]\n",
            " [ 6  2  0]\n",
            " [ 8  6 13]]\n",
            "Epoch 30: train_loss=0.9949, val_loss=4.4682, val_meanF1=0.4580, val_meanAcc=0.5250, LR=9.375000e-06\n",
            "Train F1: {'grade': '0.9742', 'IDH1': '0.9875', '1p/19q': '0.9922', 'MGMT': '0.9436'}\n",
            "Val   F1: {'grade': '0.4107', 'IDH1': '0.3891', '1p/19q': '0.5333', 'MGMT': '0.4987'}\n",
            "\n",
            "=== Fold 3 finished. Loading best weights and re-evaluating... ===\n"
          ]
        },
        {
          "data": {
            "application/vnd.jupyter.widget-view+json": {
              "model_id": "ac580ad788d442579df7c24de205b376",
              "version_major": 2,
              "version_minor": 0
            },
            "text/plain": [
              "valid:   0%|          | 0/40 [00:00<?, ?it/s]"
            ]
          },
          "metadata": {},
          "output_type": "display_data"
        },
        {
          "name": "stdout",
          "output_type": "stream",
          "text": [
            "\n",
            "Confusion matrix (grade):\n",
            "[[ 4  1  0]\n",
            " [ 5  3  0]\n",
            " [ 7  5 15]]\n",
            "\n",
            "===== CV RESULTS =====\n",
            "grade : F1  0.5432 ± 0.0497 | Acc 0.6250 ± 0.0540\n",
            "IDH1  : F1  0.6032 ± 0.1271 | Acc 0.6167 ± 0.1230\n",
            "1p/19q: F1  0.3998 ± 0.0663 | Acc 0.5667 ± 0.1161\n",
            "MGMT  : F1  0.5248 ± 0.0707 | Acc 0.5667 ± 0.0471\n",
            "\n",
            "Overall mean-of-targets F1: 0.5178 ± 0.0168\n"
          ]
        }
      ],
      "source": [
        "N_FOLDS           = 3\n",
        "N_EPOCHS          = 30\n",
        "ACCUM_STEPS       = 32\n",
        "BASE_LR           = 3e-4\n",
        "WARMUP_EPOCHS     = 3\n",
        "INITIAL_LR_FACTOR = 0.01\n",
        "DEVICE            = 'cuda' if torch.cuda.is_available() else 'cpu'\n",
        "\n",
        "all_targets = [\"grade\", 'IDH1', '1p/19q', 'MGMT']\n",
        "num_classes_per_target = {'grade': 3, 'IDH1': 1, '1p/19q': 1, 'MGMT': 1}\n",
        "\n",
        "fold_results_f1   = defaultdict(list)\n",
        "fold_results_acc  = defaultdict(list)\n",
        "fold_results_mean = []\n",
        "\n",
        "skf = StratifiedKFold(n_splits=N_FOLDS, shuffle=True, random_state=42)\n",
        "\n",
        "united = list(set(patients_with_filter) & set(patients_with_filter2) & set(notnull))\n",
        "print(len(united))\n",
        "\n",
        "strat_labels = []\n",
        "for pid in united:\n",
        "    g = int(df_targets.query(\"TargetDirectory == @pid\")['IDH1'].iloc[0])\n",
        "    strat_labels.append(g)\n",
        "\n",
        "for fold, (train_idx, val_idx) in enumerate(skf.split(united, strat_labels), 1):\n",
        "    print(f'\\n========== FOLD {fold}/{N_FOLDS} ({len(train_idx)} train / {len(val_idx)} val) ==========')\n",
        "\n",
        "    train_ids = [united[i] for i in train_idx]\n",
        "    val_ids   = [united[i] for i in val_idx]\n",
        "\n",
        "    # Лоссы\n",
        "    bin_alphas, grade_weights = compute_class_weights(\n",
        "        df_targets[df_targets.TargetDirectory.isin(train_ids)],\n",
        "        all_targets\n",
        "    )\n",
        "    criterion_dict = {}\n",
        "    for name in all_targets:\n",
        "        if name == 'grade':\n",
        "            # criterion_dict[name] = FocalLoss(gamma=2, alpha=grade_weights.to(DEVICE), binary=False, multi_label_smoothing=0.1)\n",
        "            criterion_dict[name] = nn.CrossEntropyLoss(label_smoothing=0.1, weight=grade_weights.to(DEVICE))\n",
        "        else:\n",
        "            alpha = bin_alphas.get(name, 0.5)\n",
        "            # criterion_dict[name] = FocalLoss(gamma=2, alpha=alpha, binary=True)\n",
        "            criterion_dict[name] = nn.BCEWithLogitsLoss(pos_weight=torch.tensor(bin_alphas[name]))\n",
        "\n",
        "    # Датасеты\n",
        "    train_ds = MRIDataset_double(\n",
        "        train_ids,\n",
        "        dataset_path=\"/kaggle/input/patients-mri/patients_dcm\",\n",
        "        contrast1_foldername='t1_fl2d_cor',\n",
        "        contrast2_foldername=\"t2_tirm_cor_dark-fluid_3mm\",\n",
        "        reshaping_size_hw=(128, 128),\n",
        "        normalize=True,\n",
        "        augment=True\n",
        "    )\n",
        "    val_ds = MRIDataset_double(\n",
        "        val_ids,\n",
        "        dataset_path=\"/kaggle/input/patients-mri/patients_dcm\",\n",
        "        contrast1_foldername='t1_fl2d_cor',\n",
        "        contrast2_foldername=\"t2_tirm_cor_dark-fluid_3mm\",\n",
        "        reshaping_size_hw=(128, 128),\n",
        "        normalize=False\n",
        "    )\n",
        "    val_ds.set_normalization(train_ds._mean1, train_ds._std1,\n",
        "                             train_ds._mean2, train_ds._std2)\n",
        "\n",
        "    train_sampler = make_joint_sampler(train_ids, df_targets, num_classes_per_target, oversample_factor=2)\n",
        "    train_loader  = MRIDataloader_double(train_ds, batch_size=1, shuffle=False, sampler=train_sampler, )\n",
        "    val_loader    = MRIDataloader_double(val_ds,   batch_size=1, shuffle=False)\n",
        "\n",
        "\n",
        "    num_train_steps_per_epoch = len(train_loader) // ACCUM_STEPS\n",
        "    WARMUP_STEPS = WARMUP_EPOCHS * num_train_steps_per_epoch\n",
        "    print(f\"Warmup: {WARMUP_EPOCHS} epochs, {WARMUP_STEPS} steps, \"\n",
        "          f\"LR start factor: {INITIAL_LR_FACTOR}\")\n",
        "\n",
        "    # Основная инициализация\n",
        "    model     = DualModalFusion(targets=all_targets, num_classes=num_classes_per_target).to(DEVICE)\n",
        "    optimizer = torch.optim.AdamW(model.parameters(), lr=BASE_LR, weight_decay=5e-2)\n",
        "    scheduler = torch.optim.lr_scheduler.ReduceLROnPlateau(optimizer, mode='max', factor=0.5, patience=2)\n",
        "    # scheduler = torch.optim.lr_scheduler.CosineAnnealingWarmRestarts(optimizer, T_0=5, T_mult=2, eta_min=1e-6)\n",
        "\n",
        "    best_val_metric = -np.inf\n",
        "    global_step = 0\n",
        "\n",
        "    for epoch in range(1, N_EPOCHS + 1):\n",
        "        print(f'\\n--- Fold {fold} | Epoch {epoch}/{N_EPOCHS} ---')\n",
        "\n",
        "        train_loss, train_f1, train_acc, _, _, global_step = run_epoch(\n",
        "            train_loader, model, criterion_dict, optimizer=optimizer,\n",
        "            accum_steps=ACCUM_STEPS, train=True, device=DEVICE,\n",
        "            global_step=global_step, warmup_steps=WARMUP_STEPS,\n",
        "            base_lr=BASE_LR, initial_lr_factor=INITIAL_LR_FACTOR,\n",
        "            df_targets=df_targets\n",
        "        )\n",
        "\n",
        "        val_loss, val_f1, val_acc, val_mean_f1, val_mean_acc, _ = run_epoch(\n",
        "            val_loader, model, criterion_dict, train=False, device=DEVICE,\n",
        "            df_targets=df_targets\n",
        "        )\n",
        "\n",
        "        current_lr = optimizer.param_groups[0]['lr']\n",
        "        print(f'Epoch {epoch}: train_loss={train_loss:.4f}, val_loss={val_loss:.4f}, '\n",
        "              f'val_meanF1={val_mean_f1:.4f}, val_meanAcc={val_mean_acc:.4f}, LR={current_lr:.6e}')\n",
        "        print(\"Train F1:\", {k: f\"{v:.4f}\" for k, v in train_f1.items()})\n",
        "        print(\"Val   F1:\", {k: f\"{v:.4f}\" for k, v in val_f1.items()})\n",
        "\n",
        "        scheduler_metric = val_mean_f1\n",
        "        if epoch > WARMUP_EPOCHS:\n",
        "            scheduler.step(scheduler_metric) # scheduler_metric\n",
        "        else:\n",
        "            print(f\"Warm-up phase ({epoch}/{WARMUP_EPOCHS}). LR контролируется вручную.\")\n",
        "\n",
        "        best_model_path   = f'best_fold{fold}.pth'\n",
        "        if scheduler_metric > best_val_metric:\n",
        "            print(f\"Validation metric improved \"\n",
        "                  f\"({best_val_metric:.4f} → {scheduler_metric:.4f}). Saving model…\")\n",
        "            best_val_metric = scheduler_metric\n",
        "            torch.save(model.state_dict(), best_model_path)\n",
        "\n",
        "    print(f\"\\n=== Fold {fold} finished. Loading best weights and re-evaluating... ===\")\n",
        "    model.load_state_dict(torch.load(best_model_path))\n",
        "\n",
        "    with torch.no_grad():\n",
        "        best_val_loss, best_val_f1, best_val_acc, best_val_mean_f1, best_val_mean_acc, _ = \\\n",
        "            run_epoch(val_loader, model, criterion_dict, train=False, device=DEVICE, df_targets=df_targets)\n",
        "\n",
        "    for name in all_targets:\n",
        "        fold_results_f1[name].append(best_val_f1 [name])\n",
        "        fold_results_acc[name].append(best_val_acc[name])\n",
        "    fold_results_mean.append(best_val_mean_f1)\n",
        "\n",
        "\n",
        "# Сводная статка\n",
        "print(\"\\n===== CV RESULTS =====\")\n",
        "for name in all_targets:\n",
        "    m_f1  = np.mean(fold_results_f1 [name]); s_f1  = np.std(fold_results_f1 [name])\n",
        "    m_acc = np.mean(fold_results_acc[name]); s_acc = np.std(fold_results_acc[name])\n",
        "    print(f\"{name:6s}: F1  {m_f1:.4f} ± {s_f1:.4f} | \"\n",
        "          f\"Acc {m_acc:.4f} ± {s_acc:.4f}\")\n",
        "\n",
        "overall_mean_f1 = np.mean(fold_results_mean)\n",
        "overall_std_f1  = np.std(fold_results_mean)\n",
        "print(f\"\\nOverall mean-of-targets F1: {overall_mean_f1:.4f} ± {overall_std_f1:.4f}\")\n",
        "\n",
        "pd.DataFrame(fold_results_f1 ).to_csv(\"cv_f1_per_fold.csv\",  index=False)\n",
        "pd.DataFrame(fold_results_acc).to_csv(\"cv_acc_per_fold.csv\", index=False)\n",
        "\n",
        "json.dump({\n",
        "    'per_target_f1' : fold_results_f1,\n",
        "    'per_target_acc': fold_results_acc,\n",
        "    'overall_mean_f1_per_fold': fold_results_mean\n",
        "}, open(\"cv_metrics.json\", \"w\"), indent=2)"
      ]
    },
    {
      "cell_type": "code",
      "execution_count": null,
      "id": "b0ed2300",
      "metadata": {
        "execution": {
          "iopub.execute_input": "2025-05-18T04:08:39.947899Z",
          "iopub.status.busy": "2025-05-18T04:08:39.947630Z",
          "iopub.status.idle": "2025-05-18T04:08:39.951207Z",
          "shell.execute_reply": "2025-05-18T04:08:39.950657Z"
        },
        "papermill": {
          "duration": 0.070743,
          "end_time": "2025-05-18T04:08:39.952331",
          "exception": false,
          "start_time": "2025-05-18T04:08:39.881588",
          "status": "completed"
        },
        "tags": [],
        "id": "b0ed2300"
      },
      "outputs": [],
      "source": [
        "# def analyze_loader_targets(loader, df_targets, target_names):\n",
        "#     all_counters = {name: Counter() for name in target_names}\n",
        "#     n_batches = 0\n",
        "#     n_samples = 0\n",
        "\n",
        "#     for batch in loader:\n",
        "#         ids = batch['patient_ids']\n",
        "#         batch_df = (\n",
        "#             df_targets[df_targets['TargetDirectory'].isin(ids)]\n",
        "#             .set_index('TargetDirectory')\n",
        "#             .loc[ids]\n",
        "#             .reset_index()\n",
        "#         )\n",
        "#         for name in target_names:\n",
        "#             vals = batch_df[name].values\n",
        "#             if name == 'grade':\n",
        "#                 vals = vals - 2\n",
        "#             all_counters[name].update(vals.tolist())\n",
        "#         n_batches += 1\n",
        "#         n_samples += len(ids)\n",
        "\n",
        "#     print(f\"Analyzed {n_batches} batches, {n_samples} samples\")\n",
        "#     for name in target_names:\n",
        "#         print(f\"Target '{name}': {dict(all_counters[name])}\")\n",
        "\n",
        "# analyze_loader_targets(train_loader, df_targets, all_targets)"
      ]
    },
    {
      "cell_type": "code",
      "execution_count": null,
      "id": "869c1b17",
      "metadata": {
        "execution": {
          "iopub.execute_input": "2025-05-18T04:08:40.082113Z",
          "iopub.status.busy": "2025-05-18T04:08:40.081850Z",
          "iopub.status.idle": "2025-05-18T04:08:40.084927Z",
          "shell.execute_reply": "2025-05-18T04:08:40.084424Z"
        },
        "papermill": {
          "duration": 0.068907,
          "end_time": "2025-05-18T04:08:40.085956",
          "exception": false,
          "start_time": "2025-05-18T04:08:40.017049",
          "status": "completed"
        },
        "tags": [],
        "id": "869c1b17"
      },
      "outputs": [],
      "source": [
        "# train_sampler = make_joint_sampler(train_ids, df_targets, num_classes_per_target, oversample_factor=1.5)\n",
        "# train_loader = MRIDataloader_double(train_ds, batch_size=1, shuffle=False, )#sampler=train_sampler)\n",
        "# analyze_loader_targets(train_loader, df_targets, all_targets)"
      ]
    },
    {
      "cell_type": "code",
      "execution_count": null,
      "id": "cf8b87c1",
      "metadata": {
        "execution": {
          "iopub.execute_input": "2025-05-18T04:08:40.214267Z",
          "iopub.status.busy": "2025-05-18T04:08:40.214003Z",
          "iopub.status.idle": "2025-05-18T04:08:40.217044Z",
          "shell.execute_reply": "2025-05-18T04:08:40.216546Z"
        },
        "papermill": {
          "duration": 0.068695,
          "end_time": "2025-05-18T04:08:40.218138",
          "exception": false,
          "start_time": "2025-05-18T04:08:40.149443",
          "status": "completed"
        },
        "tags": [],
        "id": "cf8b87c1"
      },
      "outputs": [],
      "source": [
        "# train_sampler = make_joint_sampler(train_ids, df_targets, num_classes_per_target, oversample_factor=1.5)\n",
        "# train_loader = MRIDataloader_double(train_ds, batch_size=1, shuffle=False, sampler=train_sampler)\n",
        "# analyze_loader_targets(train_loader, df_targets, all_targets)"
      ]
    },
    {
      "cell_type": "code",
      "execution_count": null,
      "id": "05894e07",
      "metadata": {
        "execution": {
          "iopub.execute_input": "2025-05-18T04:08:40.349486Z",
          "iopub.status.busy": "2025-05-18T04:08:40.349155Z",
          "iopub.status.idle": "2025-05-18T04:08:40.352732Z",
          "shell.execute_reply": "2025-05-18T04:08:40.352015Z"
        },
        "papermill": {
          "duration": 0.071436,
          "end_time": "2025-05-18T04:08:40.353956",
          "exception": false,
          "start_time": "2025-05-18T04:08:40.282520",
          "status": "completed"
        },
        "tags": [],
        "id": "05894e07"
      },
      "outputs": [],
      "source": [
        "# train_loader = MRIDataloader_double(val_ds, batch_size=1, shuffle=False)\n",
        "# analyze_loader_targets(train_loader, df_targets, all_targets)"
      ]
    },
    {
      "cell_type": "code",
      "execution_count": null,
      "id": "858602ee",
      "metadata": {
        "execution": {
          "iopub.execute_input": "2025-05-18T04:08:40.483742Z",
          "iopub.status.busy": "2025-05-18T04:08:40.483477Z",
          "iopub.status.idle": "2025-05-18T04:08:40.486461Z",
          "shell.execute_reply": "2025-05-18T04:08:40.485895Z"
        },
        "papermill": {
          "duration": 0.067925,
          "end_time": "2025-05-18T04:08:40.487571",
          "exception": false,
          "start_time": "2025-05-18T04:08:40.419646",
          "status": "completed"
        },
        "tags": [],
        "id": "858602ee"
      },
      "outputs": [],
      "source": [
        "# train_sampler = make_multi_target_sampler(train_ids, df_targets, num_classes_per_target, oversample_factor=0.8)\n",
        "# train_loader = MRIDataloader_double(train_ds, batch_size=1, shuffle=False, sampler=train_sampler)\n",
        "# analyze_loader_targets(train_loader, df_targets, all_targets)"
      ]
    },
    {
      "cell_type": "code",
      "execution_count": null,
      "id": "fa2498a6",
      "metadata": {
        "papermill": {
          "duration": 0.062482,
          "end_time": "2025-05-18T04:08:40.614179",
          "exception": false,
          "start_time": "2025-05-18T04:08:40.551697",
          "status": "completed"
        },
        "tags": [],
        "id": "fa2498a6"
      },
      "outputs": [],
      "source": []
    }
  ],
  "metadata": {
    "kaggle": {
      "accelerator": "gpu",
      "dataSources": [
        {
          "datasetId": 6941777,
          "sourceId": 11343147,
          "sourceType": "datasetVersion"
        }
      ],
      "dockerImageVersionId": 31011,
      "isGpuEnabled": true,
      "isInternetEnabled": true,
      "language": "python",
      "sourceType": "notebook"
    },
    "kernelspec": {
      "display_name": "Python 3",
      "language": "python",
      "name": "python3"
    },
    "language_info": {
      "codemirror_mode": {
        "name": "ipython",
        "version": 3
      },
      "file_extension": ".py",
      "mimetype": "text/x-python",
      "name": "python",
      "nbconvert_exporter": "python",
      "pygments_lexer": "ipython3",
      "version": "3.11.11"
    },
    "papermill": {
      "default_parameters": {},
      "duration": 18158.526888,
      "end_time": "2025-05-18T04:08:43.765554",
      "environment_variables": {},
      "exception": null,
      "input_path": "__notebook__.ipynb",
      "output_path": "__notebook__.ipynb",
      "parameters": {},
      "start_time": "2025-05-17T23:06:05.238666",
      "version": "2.6.0"
    },
    "colab": {
      "provenance": []
    }
  },
  "nbformat": 4,
  "nbformat_minor": 5
}